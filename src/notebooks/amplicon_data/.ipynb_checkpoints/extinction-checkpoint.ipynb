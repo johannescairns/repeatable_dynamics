{
 "cells": [
  {
   "cell_type": "markdown",
   "metadata": {},
   "source": [
    "# Species extinction probability"
   ]
  },
  {
   "cell_type": "code",
   "execution_count": null,
   "metadata": {},
   "outputs": [],
   "source": [
    "# Housekeeping\n",
    "\n",
    "library(car)\n",
    "library(ggplot2)\n",
    "library(InformationValue)\n",
    "library(MASS)\n",
    "library(plyr)\n",
    "library(pscl)"
   ]
  },
  {
   "cell_type": "code",
   "execution_count": null,
   "metadata": {},
   "outputs": [],
   "source": [
    "# Read in data\n",
    "\n",
    "df = read.table(\"../../../data/amplicon/extinction.txt\",\n",
    "                sep = \"\\t\",\n",
    "                header = T)\n",
    "\n",
    "df = df[order(df$Strain, df$AB, df$imigration),]\n",
    "head(df)"
   ]
  },
  {
   "cell_type": "code",
   "execution_count": null,
   "metadata": {},
   "outputs": [],
   "source": [
    "# Keep only strains that went extinct in at least one treatment\n",
    "\n",
    "meta = as.data.frame(table(df$Strain, by = df$extinction))\n",
    "never_extinct_strains = meta$Var1[meta$by == 1 & meta$Freq == 0]\n",
    "df = df[!(df$Strain %in% never_extinct_strains),]\n",
    "head(df)"
   ]
  },
  {
   "cell_type": "markdown",
   "metadata": {},
   "source": [
    "## Model specification"
   ]
  },
  {
   "cell_type": "code",
   "execution_count": null,
   "metadata": {},
   "outputs": [],
   "source": [
    "# Binary response --> logistic regression (= binomial glm)\n",
    "\n",
    "# Let's start from model including all experimental treatments\n",
    "\n",
    "M1 = glm(extinction ~ factor(imigration) + \n",
    "           AB +\n",
    "           Strain +\n",
    "         MIC_sm,\n",
    "         family = binomial, data = df)\n",
    "\n",
    "# Let's use AIC to select best model among all interactions\n",
    "\n",
    "M2 = stepAIC(M1, \n",
    "             scope=list(upper = ~factor(imigration)*\n",
    "                            AB*\n",
    "                            Strain*MIC_sm,\n",
    "                            lower = ~1),\n",
    "            trace = FALSE)\n",
    "\n",
    "anova(M2, test = \"Chi\")\n",
    "\n",
    "# Antibiotic, immigration and species all affect extinction probability\n",
    "# The effect of antibiotic depends on the species"
   ]
  },
  {
   "cell_type": "code",
   "execution_count": null,
   "metadata": {},
   "outputs": [],
   "source": [
    "pR2(M2)\n",
    "\n",
    "# Maximum likelihood pseudo r-squared (r2ML) indicates that model\n",
    "# explains 75 % of variation in extinction probability (very good)"
   ]
  },
  {
   "cell_type": "code",
   "execution_count": null,
   "metadata": {},
   "outputs": [],
   "source": [
    "# Sketch the model fit\n",
    "\n",
    "MyData = ddply(df, \n",
    "                .(imigration, Strain, AB),\n",
    "                summarize,\n",
    "               AB = c(0,4,16,128))\n",
    "ilink = family(M2)$linkinv\n",
    "MyData = cbind(MyData, predict(M2, MyData, type = \"link\", se.fit = TRUE)[1:2])\n",
    "MyData = transform(MyData, Fitted = ilink(fit), Upper = ilink(fit + (2 * se.fit)),\n",
    "                Lower = ilink(fit - (2 * se.fit)))\n",
    "\n",
    "colnames(MyData)[1] = \"Immigration\"\n",
    "MyData$Immigration = factor(MyData$Immigration, \n",
    "                            levels = c(\"0\", \"1\"),\n",
    "                            labels = c(\"italic('Immigration'*' absent')\",\n",
    "                                       \"italic('Immigration'*' present')\"))\n",
    "MyData$AB = factor(MyData$AB, \n",
    "                            levels = c(\"0\", \"4\", \"16\", \"128\"),\n",
    "                            labels = c(\"0~mu*g*' mL'^-1\",\n",
    "                                       \"4~mu*g*' mL'^-1\",\n",
    "                                       \"16~mu*g*' mL'^-1\",\n",
    "                                       \"128~mu*g*' mL'^-1\"))\n",
    "\n",
    "MyData$Strain = factor(MyData$Strain, \n",
    "                       levels = unique(MyData$Strain))\n",
    "\n",
    "mylabels = c(expression(paste(italic(\"Bordetella avium\"), \" HAMBI 2160\")),\n",
    "           expression(paste(italic(\"Comamonas testosteroni\"), \" HAMBI 403\")),\n",
    "           expression(paste(italic(\"Cupriavidus necator\"), \" HAMBI 2164\")),\n",
    "           expression(paste(italic(\"Escherichia coli\"), \" JE2571(RP4)\")),\n",
    "           expression(paste(italic(\"Hafnia alvei\"), \" HAMBI 1279\")),\n",
    "           expression(paste(italic(\"Kluyvera intermedia\"), \" HAMBI 1299\")),\n",
    "           expression(paste(italic(\"Morganella morganii\"), \" HAMBI 1292\")),\n",
    "           expression(paste(italic(\"Myroides odoratus\"), \" HAMBI 1923\")),\n",
    "           expression(paste(italic(\"Niabella yanshanensis\"), \" HAMBI 3031\")),\n",
    "           expression(paste(italic(\"Paracoccus denitrificans\"), \" HAMBI 2443\")),\n",
    "           expression(paste(italic(\"Pseudomonas chlororaphis\"), \" HAMBI 1977\")),\n",
    "           expression(paste(italic(\"Pseudomonas putida\"), \" HAMBI 6\")),\n",
    "           expression(paste(italic(\"Roseomonas gilardii\"), \" HAMBI 2470\")),\n",
    "           expression(paste(italic(\"Sphingobacterium multivorum\"), \" HAMBI 1874\")),\n",
    "           expression(paste(italic(\"Sphingobacterium spiritivorum\"), \" HAMBI 1896\")),\n",
    "           expression(paste(italic(\"Sphingobium yanoikuyae\"), \" HAMBI 1842\")),\n",
    "           expression(paste(italic(\"Stenotrophomonas maltophilia\"), \" HAMBI 2659\")))"
   ]
  },
  {
   "cell_type": "code",
   "execution_count": null,
   "metadata": {},
   "outputs": [],
   "source": [
    "MyData2 = merge(MyData, df[, c(\"Strain\", \"MIC_sm\")], by=\"Strain\")\n",
    "colnames(MyData2) = c('Strain', 'Immigration', 'AB', 'fit', 'se.fit', 'Fitted', 'Upper', 'Lower', 'MIC')\n",
    "head(MyData2)"
   ]
  },
  {
   "cell_type": "code",
   "execution_count": null,
   "metadata": {},
   "outputs": [],
   "source": [
    "MyData2$MIC2 = ifelse(MyData2$MIC < 4, \"<4\", \n",
    "                      ifelse(MyData2$MIC >= 4 & MyData2$MIC < 16, \"<16\", \n",
    "                            ifelse(MyData2$MIC >= 16 & MyData2$MIC < 128, \"<128\", \">128\")))\n",
    "MyData2$MIC2 = factor(MyData2$MIC2, levels = c(\">128\",\"<128\",\"<16\", \"<4\"))"
   ]
  },
  {
   "cell_type": "code",
   "execution_count": null,
   "metadata": {},
   "outputs": [],
   "source": [
    "ggplot(MyData2, aes(x=Strain, y=Fitted, colour = MIC2)) + \n",
    "    geom_errorbar(aes(ymin=Lower, ymax=Upper), width=.1, colour = \"grey\") +\n",
    "    geom_point() +\n",
    "    facet_grid(AB~Immigration, labeller=label_parsed) +\n",
    "    ylab(\"Extinction probability\") +\n",
    "    theme_classic() +\n",
    "    scale_x_discrete(labels = parse(text=mylabels)) +\n",
    "    scale_color_manual(values = c(\"black\", \"#522639\",\"#8f4364\",\"#cd6090\")) + \n",
    "    labs(colour = \"Intrinsic resistance level\") +\n",
    "    theme(axis.text.x  = element_text(angle = 90, vjust = 0.5, hjust = 1),\n",
    "          strip.background = element_rect(colour = \"white\", fill = \"white\"),\n",
    "          strip.text = element_text(face = \"italic\"),\n",
    "          axis.title.x = element_blank())\n",
    "\n",
    "ggsave(\"../../../manuscript/figures/extinction.pdf\")"
   ]
  },
  {
   "cell_type": "code",
   "execution_count": null,
   "metadata": {},
   "outputs": [],
   "source": [
    "# ### Model validation\n",
    "# \n",
    "# #Decide on optimal prediction probability cutoff for the model\n",
    "# #The default cutoff prediction probability score is 0.5 or the ratio of 1's\n",
    "# #and 0's in the training data. But sometimes, tuning the probability cutoff\n",
    "# #can improve the accuracy in both the development and validation samples.\n",
    "# #The InformationValue::optimalCutoff function provides ways to find the optimal\n",
    "# #cutoff to improve the prediction of 1's, 0's, both 1's and 0's and to reduce\n",
    "# #the misclassification error. Lets compute the optimal score that minimizes\n",
    "# #the misclassification error for the above model.\n",
    "predicted <- plogis(predict(M2, df))\n",
    "optCutOff <- optimalCutoff(df$extinction, predicted)[1] \n",
    "# \n",
    "\n",
    "# #VIF - Variance inflation factor\n",
    "# #Like in case of linear regression, we should check for multicollinearity\n",
    "# #in the model. As seen below, all X variables in the model have VIF well below 4. --> OK\n",
    "vif(M2)\n",
    "# \n",
    "# #Misclassification Error\n",
    "# #Misclassification error is the percentage mismatch of predcited vs actuals,\n",
    "# #irrespective of 1's or 0's. The lower the misclassification error, the better is your model.\n",
    "misClassError(df$extinction, predicted, threshold = optCutOff)\n",
    "# # 0.0956 --> quite good\n",
    "# \n",
    "# #ROC\n",
    "# #Receiver Operating Characteristics Curve traces the percentage of true positives accurately\n",
    "# #predicted by a given logit model as the prediction probability cutoff is lowered from 1 to 0.\n",
    "# #For a good model, as the cutoff is lowered, it should mark more of actual 1's as positives\n",
    "# # and lesser of actual 0's as 1's. So for a good model, the curve should rise steeply, indicating\n",
    "# #that the TPR (Y-Axis) increases faster than the FPR (X-Axis) as the cutoff score decreases.\n",
    "# #Greater the area under the ROC curve, better the predictive ability of the model.\n",
    "plotROC(df$extinction, predicted)\n",
    "# # area under curve 95.52 % --> very good\n",
    "# \n",
    "# #Concordance\n",
    "# #Ideally, the model-calculated-probability-scores of all actual Positive's, (aka Ones)\n",
    "# #should be greater than the model-calculated-probability-scores of ALL the Negatives (aka Zeroes).\n",
    "# #Such a model is said to be perfectly concordant and a highly reliable one. This phenomenon can\n",
    "# #be measured by Concordance and Discordance.\n",
    "# #In simpler words, of all combinations of 1-0 pairs (actuals), Concordance is the percentage of\n",
    "# #pairs, whose scores of actual positive's are greater than the scores of actual negative's. For\n",
    "# #a perfect model, this will be 100%. So, the higher the concordance, the better is the quality\n",
    "# #of model.\n",
    "Concordance(df$extinction, predicted)\n",
    "# # Concordance > 95 % --> very good\n",
    "# \n",
    "# #Specificity and Sensitivity\n",
    "# #Sensitivity (or True Positive Rate) is the percentage of 1's (actuals) correctly predicted\n",
    "# #by the model, while, specificity is the percentage of 0's (actuals) correctly predicted.\n",
    "# #Specificity can also be calculated as 1???False Positive Rate.\n",
    "sensitivity(df$extinction, predicted, threshold = optCutOff)\n",
    "specificity(df$extinction, predicted, threshold = optCutOff)\n",
    "# # predicts extinctions quite well but non-extinctions even better\n",
    "# \n",
    "# #Confusion Matrix\n",
    "# #The columns are actuals, while rows are predicteds.\n",
    "confusionMatrix(df$extinction, predicted, threshold = optCutOff)\n",
    "# \n",
    "# #Summary: good model that explains extinctions well"
   ]
  },
  {
   "cell_type": "code",
   "execution_count": null,
   "metadata": {},
   "outputs": [],
   "source": [
    "# Inspect MIC effect\n",
    "\n",
    "M3 = glm(extinction ~ factor(imigration) * \n",
    "         AB *\n",
    "         log(MIC_sm),\n",
    "         family = binomial, data = df)\n",
    "\n",
    "# Let's use AIC to select best model among all interactions\n",
    "\n",
    "M4 = stepAIC(M3, scope=list(upper= ~factor(imigration)*\n",
    "                            AB*\n",
    "                            log(MIC_sm),\n",
    "                            lower= ~1))\n",
    "\n",
    "anova(M4, test = \"Chi\")\n",
    "\n",
    "# Extinction risk increases with decreasing MIC value and with increasing antibiotic level"
   ]
  },
  {
   "cell_type": "code",
   "execution_count": null,
   "metadata": {},
   "outputs": [],
   "source": [
    "# Do same but integrate species and MIC information by grouping strains by MIC resistance\n",
    "# to experimental streptomycin levels\n",
    "\n",
    "df$MIC2 = ifelse(df$MIC_sm < 4, \"<4\", \n",
    "                      ifelse(df$MIC_sm >= 4 & df$MIC_sm < 16, \"<16\", \n",
    "                            ifelse(df$MIC_sm >= 16 & df$MIC_sm < 128, \"<128\", \">128\")))\n",
    "df$MIC2 = factor(df$MIC2, levels = c(\">128\",\"<128\",\"<16\", \"<4\"))\n",
    "\n",
    "M5 = glm(extinction ~ factor(imigration) * \n",
    "         AB *\n",
    "         MIC2,\n",
    "         family = binomial, data = df)\n",
    "\n",
    "# Let's use AIC to select best model among all interactions\n",
    "\n",
    "M6 = stepAIC(M5, scope=list(upper= ~factor(imigration)*\n",
    "                            AB*\n",
    "                            MIC2,\n",
    "                            lower= ~1))\n",
    "\n",
    "anova(M6, test = \"Chi\")\n",
    "\n",
    "# Same result"
   ]
  },
  {
   "cell_type": "code",
   "execution_count": null,
   "metadata": {},
   "outputs": [],
   "source": [
    "# Predict extinction risk at increasing MIC values\n",
    "\n",
    "mean_probs = aggregate(Fitted ~ Immigration-AB-MIC2, \n",
    "                      data = MyData2, FUN = function(x){mean(x)})\n",
    "\n",
    "head(mean_probs)"
   ]
  },
  {
   "cell_type": "code",
   "execution_count": null,
   "metadata": {},
   "outputs": [],
   "source": [
    "mean_probs$MIC2 = factor(mean_probs$MIC2, levels = c(\"<4\", \"<16\", \"<128\", \">128\"),\n",
    "                        labels = c(expression(\"MIC\"<\"4\"), \n",
    "                                   expression(\"MIC = 4\"-\"16\"), \n",
    "                                   expression(\"MIC = 16\"-\"128\"), \n",
    "                                   expression(\"MIC\">\"128\")))"
   ]
  },
  {
   "cell_type": "code",
   "execution_count": null,
   "metadata": {},
   "outputs": [],
   "source": [
    "mean_probs$AB = as.factor(as.character(gsub(\"~.*\", \"\", mean_probs$AB)))\n",
    "mean_probs$AB = factor(mean_probs$AB, levels = c(\"0\", \"4\", \"16\", \"128\"))"
   ]
  },
  {
   "cell_type": "code",
   "execution_count": null,
   "metadata": {},
   "outputs": [],
   "source": [
    "p2 = ggplot(mean_probs, aes(AB, Fitted, colour = AB)) +\n",
    "    stat_summary(fun.y = \"mean\", fun.ymin = \"mean\", \n",
    "                 fun.ymax= \"mean\", \n",
    "                 size=0.5,\n",
    "                 width = 0.6,\n",
    "                 geom = \"crossbar\") +\n",
    "    scale_color_manual(values = c(\"black\", \"#522639\",\"#8f4364\",\"#cd6090\")) + \n",
    "    facet_grid(MIC2 ~ Immigration, labeller=label_parsed) +\n",
    "    ylab(\"Mean extinction probability across species\") +\n",
    "    xlab(\"Streptomycin level\") +\n",
    "    theme_classic() +\n",
    "    labs(colour = \"Intrinsic resistance level\") +\n",
    "    theme(strip.background = element_rect(colour = \"white\", fill = \"white\"),\n",
    "          strip.text = element_text(face = \"italic\"),\n",
    "         legend.position=\"none\")\n",
    "\n",
    "suppressWarnings(print(p2))\n",
    "\n",
    "ggsave(\"../../../manuscript/figures/extinction_means.pdf\")"
   ]
  }
 ],
 "metadata": {
  "kernelspec": {
   "display_name": "R",
   "language": "R",
   "name": "ir"
  },
  "language_info": {
   "codemirror_mode": "r",
   "file_extension": ".r",
   "mimetype": "text/x-r-source",
   "name": "R",
   "pygments_lexer": "r",
   "version": "3.5.1"
  }
 },
 "nbformat": 4,
 "nbformat_minor": 2
}
