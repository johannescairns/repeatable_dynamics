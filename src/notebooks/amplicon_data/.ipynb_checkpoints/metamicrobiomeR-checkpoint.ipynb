{
 "cells": [
  {
   "cell_type": "markdown",
   "metadata": {},
   "source": [
    "# metamicrobiomeR\n",
    "\n",
    "https://github.com/nhanhocu/metamicrobiomeR\n",
    "https://www.biorxiv.org/content/biorxiv/early/2018/04/04/294678.full.pdf\n",
    "\n",
    "### Not getting to work (unsure why)"
   ]
  },
  {
   "cell_type": "code",
   "execution_count": 3,
   "metadata": {},
   "outputs": [],
   "source": [
    "# Housekeeping\n",
    "\n",
    "# library(devtools)\n",
    "#install and load package metamicrobiomeR\n",
    "#install_github(\"nhanhocu/metamicrobiomeR\")\n",
    "library(metamicrobiomeR) \n",
    "#Load other needed packages \n",
    "library(knitr)\n",
    "library(plyr)\n",
    "library(dplyr)\n",
    "library(gdata)\n",
    "library(gridExtra)\n",
    "library(ggplot2)\n",
    "library(lme4) \n",
    "library(lmerTest)\n",
    "library(mgcv) \n",
    "library(meta) "
   ]
  },
  {
   "cell_type": "code",
   "execution_count": 47,
   "metadata": {},
   "outputs": [
    {
     "data": {
      "text/html": [
       "<ol class=list-inline>\n",
       "\t<li>72</li>\n",
       "\t<li>30</li>\n",
       "</ol>\n"
      ],
      "text/latex": [
       "\\begin{enumerate*}\n",
       "\\item 72\n",
       "\\item 30\n",
       "\\end{enumerate*}\n"
      ],
      "text/markdown": [
       "1. 72\n",
       "2. 30\n",
       "\n",
       "\n"
      ],
      "text/plain": [
       "[1] 72 30"
      ]
     },
     "metadata": {},
     "output_type": "display_data"
    },
    {
     "data": {
      "text/html": [
       "<table>\n",
       "<thead><tr><th scope=col>SAMPLE</th><th scope=col>Aeromonas_caviae_HAMBI_1972</th><th scope=col>Agrobacterium_tumefaciens_HAMBI_105</th><th scope=col>Azorhizobium_caulinodans_HAMBI_216</th><th scope=col>Azospirillum_brasilense_HAMBI_3172</th><th scope=col>Bordetella_avium_HAMBI_2160</th><th scope=col>Citrobacter_koseri_HAMBI_1287</th><th scope=col>Comamonas_testosteroni_HAMBI_403</th><th scope=col>Cupriavidus_necator_HAMBI_2164</th><th scope=col>Elizabethkingia_meningoseptica_HAMBI_1875</th><th scope=col>⋯</th><th scope=col>Roseomonas_gilardii_HAMBI_2470</th><th scope=col>Sphingobacterium_multivorum_HAMBI_1874</th><th scope=col>Sphingobacterium_spiritivorum_HAMBI_1896</th><th scope=col>Sphingobium_yanoikuyae_HAMBI_1842</th><th scope=col>Stenotrophomonas_maltophilia_HAMBI_2659</th><th scope=col>Replicate</th><th scope=col>Streptomycin</th><th scope=col>Immigration</th><th scope=col>Time_point</th><th scope=col>ID</th></tr></thead>\n",
       "<tbody>\n",
       "\t<tr><td>T12_0_1     </td><td>0.3844256   </td><td>0.0002000133</td><td>0           </td><td>0.0002000133</td><td>0.0018667911</td><td>0.01340089  </td><td>0.0074004934</td><td>0           </td><td>0.07880525  </td><td>⋯           </td><td>0           </td><td>0.017334489 </td><td>0.006000400 </td><td>0.0000000000</td><td>0           </td><td>1           </td><td>0           </td><td>0           </td><td>48          </td><td>0_0_1       </td></tr>\n",
       "\t<tr><td>T12_0_2     </td><td>0.4449037   </td><td>0.0003333111</td><td>0           </td><td>0.0009332711</td><td>0.0003333111</td><td>0.02393174  </td><td>0.0000000000</td><td>0           </td><td>0.14725685  </td><td>⋯           </td><td>0           </td><td>0.004199720 </td><td>0.002066529 </td><td>0.0000000000</td><td>0           </td><td>2           </td><td>0           </td><td>0           </td><td>48          </td><td>0_0_2       </td></tr>\n",
       "\t<tr><td>T12_0_3     </td><td>0.3595521   </td><td>0.0003332889</td><td>0           </td><td>0.0016664445</td><td>0.0001999733</td><td>0.04339421  </td><td>0.0000000000</td><td>0           </td><td>0.17071057  </td><td>⋯           </td><td>0           </td><td>0.002333022 </td><td>0.004066125 </td><td>0.0000000000</td><td>0           </td><td>3           </td><td>0           </td><td>0           </td><td>48          </td><td>0_0_3       </td></tr>\n",
       "\t<tr><td>T12_0_i1    </td><td>0.3998533   </td><td>0.0025336712</td><td>0           </td><td>0.0002000267</td><td>0.0004000533</td><td>0.04007201  </td><td>0.0120682758</td><td>0           </td><td>0.18935858  </td><td>⋯           </td><td>0           </td><td>0.005267369 </td><td>0.004267236 </td><td>0.0002000267</td><td>0           </td><td>1           </td><td>0           </td><td>1           </td><td>48          </td><td>0_1_1       </td></tr>\n",
       "\t<tr><td>T12_0_i2    </td><td>0.3691508   </td><td>0.0017997600</td><td>0           </td><td>0.0003332889</td><td>0.0000000000</td><td>0.09045461  </td><td>0.0009332089</td><td>0           </td><td>0.16631116  </td><td>⋯           </td><td>0           </td><td>0.004266098 </td><td>0.005199307 </td><td>0.0003332889</td><td>0           </td><td>2           </td><td>0           </td><td>1           </td><td>48          </td><td>0_1_2       </td></tr>\n",
       "\t<tr><td>T12_0_i3    </td><td>0.2610000   </td><td>0.0017333333</td><td>0           </td><td>0.0008666667</td><td>0.0012000000</td><td>0.06900000  </td><td>0.0006000000</td><td>0           </td><td>0.27040000  </td><td>⋯           </td><td>0           </td><td>0.002666667 </td><td>0.007933333 </td><td>0.0000000000</td><td>0           </td><td>3           </td><td>0           </td><td>1           </td><td>48          </td><td>0_1_3       </td></tr>\n",
       "</tbody>\n",
       "</table>\n"
      ],
      "text/latex": [
       "\\begin{tabular}{r|llllllllllllllllllllllllllllll}\n",
       " SAMPLE & Aeromonas\\_caviae\\_HAMBI\\_1972 & Agrobacterium\\_tumefaciens\\_HAMBI\\_105 & Azorhizobium\\_caulinodans\\_HAMBI\\_216 & Azospirillum\\_brasilense\\_HAMBI\\_3172 & Bordetella\\_avium\\_HAMBI\\_2160 & Citrobacter\\_koseri\\_HAMBI\\_1287 & Comamonas\\_testosteroni\\_HAMBI\\_403 & Cupriavidus\\_necator\\_HAMBI\\_2164 & Elizabethkingia\\_meningoseptica\\_HAMBI\\_1875 & ⋯ & Roseomonas\\_gilardii\\_HAMBI\\_2470 & Sphingobacterium\\_multivorum\\_HAMBI\\_1874 & Sphingobacterium\\_spiritivorum\\_HAMBI\\_1896 & Sphingobium\\_yanoikuyae\\_HAMBI\\_1842 & Stenotrophomonas\\_maltophilia\\_HAMBI\\_2659 & Replicate & Streptomycin & Immigration & Time\\_point & ID\\\\\n",
       "\\hline\n",
       "\t T12\\_0\\_1  & 0.3844256    & 0.0002000133 & 0            & 0.0002000133 & 0.0018667911 & 0.01340089   & 0.0074004934 & 0            & 0.07880525   & ⋯            & 0            & 0.017334489  & 0.006000400  & 0.0000000000 & 0            & 1            & 0            & 0            & 48           & 0\\_0\\_1   \\\\\n",
       "\t T12\\_0\\_2  & 0.4449037    & 0.0003333111 & 0            & 0.0009332711 & 0.0003333111 & 0.02393174   & 0.0000000000 & 0            & 0.14725685   & ⋯            & 0            & 0.004199720  & 0.002066529  & 0.0000000000 & 0            & 2            & 0            & 0            & 48           & 0\\_0\\_2   \\\\\n",
       "\t T12\\_0\\_3  & 0.3595521    & 0.0003332889 & 0            & 0.0016664445 & 0.0001999733 & 0.04339421   & 0.0000000000 & 0            & 0.17071057   & ⋯            & 0            & 0.002333022  & 0.004066125  & 0.0000000000 & 0            & 3            & 0            & 0            & 48           & 0\\_0\\_3   \\\\\n",
       "\t T12\\_0\\_i1 & 0.3998533    & 0.0025336712 & 0            & 0.0002000267 & 0.0004000533 & 0.04007201   & 0.0120682758 & 0            & 0.18935858   & ⋯            & 0            & 0.005267369  & 0.004267236  & 0.0002000267 & 0            & 1            & 0            & 1            & 48           & 0\\_1\\_1   \\\\\n",
       "\t T12\\_0\\_i2 & 0.3691508    & 0.0017997600 & 0            & 0.0003332889 & 0.0000000000 & 0.09045461   & 0.0009332089 & 0            & 0.16631116   & ⋯            & 0            & 0.004266098  & 0.005199307  & 0.0003332889 & 0            & 2            & 0            & 1            & 48           & 0\\_1\\_2   \\\\\n",
       "\t T12\\_0\\_i3 & 0.2610000    & 0.0017333333 & 0            & 0.0008666667 & 0.0012000000 & 0.06900000   & 0.0006000000 & 0            & 0.27040000   & ⋯            & 0            & 0.002666667  & 0.007933333  & 0.0000000000 & 0            & 3            & 0            & 1            & 48           & 0\\_1\\_3   \\\\\n",
       "\\end{tabular}\n"
      ],
      "text/markdown": [
       "\n",
       "SAMPLE | Aeromonas_caviae_HAMBI_1972 | Agrobacterium_tumefaciens_HAMBI_105 | Azorhizobium_caulinodans_HAMBI_216 | Azospirillum_brasilense_HAMBI_3172 | Bordetella_avium_HAMBI_2160 | Citrobacter_koseri_HAMBI_1287 | Comamonas_testosteroni_HAMBI_403 | Cupriavidus_necator_HAMBI_2164 | Elizabethkingia_meningoseptica_HAMBI_1875 | ⋯ | Roseomonas_gilardii_HAMBI_2470 | Sphingobacterium_multivorum_HAMBI_1874 | Sphingobacterium_spiritivorum_HAMBI_1896 | Sphingobium_yanoikuyae_HAMBI_1842 | Stenotrophomonas_maltophilia_HAMBI_2659 | Replicate | Streptomycin | Immigration | Time_point | ID | \n",
       "|---|---|---|---|---|---|\n",
       "| T12_0_1      | 0.3844256    | 0.0002000133 | 0            | 0.0002000133 | 0.0018667911 | 0.01340089   | 0.0074004934 | 0            | 0.07880525   | ⋯            | 0            | 0.017334489  | 0.006000400  | 0.0000000000 | 0            | 1            | 0            | 0            | 48           | 0_0_1        | \n",
       "| T12_0_2      | 0.4449037    | 0.0003333111 | 0            | 0.0009332711 | 0.0003333111 | 0.02393174   | 0.0000000000 | 0            | 0.14725685   | ⋯            | 0            | 0.004199720  | 0.002066529  | 0.0000000000 | 0            | 2            | 0            | 0            | 48           | 0_0_2        | \n",
       "| T12_0_3      | 0.3595521    | 0.0003332889 | 0            | 0.0016664445 | 0.0001999733 | 0.04339421   | 0.0000000000 | 0            | 0.17071057   | ⋯            | 0            | 0.002333022  | 0.004066125  | 0.0000000000 | 0            | 3            | 0            | 0            | 48           | 0_0_3        | \n",
       "| T12_0_i1     | 0.3998533    | 0.0025336712 | 0            | 0.0002000267 | 0.0004000533 | 0.04007201   | 0.0120682758 | 0            | 0.18935858   | ⋯            | 0            | 0.005267369  | 0.004267236  | 0.0002000267 | 0            | 1            | 0            | 1            | 48           | 0_1_1        | \n",
       "| T12_0_i2     | 0.3691508    | 0.0017997600 | 0            | 0.0003332889 | 0.0000000000 | 0.09045461   | 0.0009332089 | 0            | 0.16631116   | ⋯            | 0            | 0.004266098  | 0.005199307  | 0.0003332889 | 0            | 2            | 0            | 1            | 48           | 0_1_2        | \n",
       "| T12_0_i3     | 0.2610000    | 0.0017333333 | 0            | 0.0008666667 | 0.0012000000 | 0.06900000   | 0.0006000000 | 0            | 0.27040000   | ⋯            | 0            | 0.002666667  | 0.007933333  | 0.0000000000 | 0            | 3            | 0            | 1            | 48           | 0_1_3        | \n",
       "\n",
       "\n"
      ],
      "text/plain": [
       "  SAMPLE   Aeromonas_caviae_HAMBI_1972 Agrobacterium_tumefaciens_HAMBI_105\n",
       "1 T12_0_1  0.3844256                   0.0002000133                       \n",
       "2 T12_0_2  0.4449037                   0.0003333111                       \n",
       "3 T12_0_3  0.3595521                   0.0003332889                       \n",
       "4 T12_0_i1 0.3998533                   0.0025336712                       \n",
       "5 T12_0_i2 0.3691508                   0.0017997600                       \n",
       "6 T12_0_i3 0.2610000                   0.0017333333                       \n",
       "  Azorhizobium_caulinodans_HAMBI_216 Azospirillum_brasilense_HAMBI_3172\n",
       "1 0                                  0.0002000133                      \n",
       "2 0                                  0.0009332711                      \n",
       "3 0                                  0.0016664445                      \n",
       "4 0                                  0.0002000267                      \n",
       "5 0                                  0.0003332889                      \n",
       "6 0                                  0.0008666667                      \n",
       "  Bordetella_avium_HAMBI_2160 Citrobacter_koseri_HAMBI_1287\n",
       "1 0.0018667911                0.01340089                   \n",
       "2 0.0003333111                0.02393174                   \n",
       "3 0.0001999733                0.04339421                   \n",
       "4 0.0004000533                0.04007201                   \n",
       "5 0.0000000000                0.09045461                   \n",
       "6 0.0012000000                0.06900000                   \n",
       "  Comamonas_testosteroni_HAMBI_403 Cupriavidus_necator_HAMBI_2164\n",
       "1 0.0074004934                     0                             \n",
       "2 0.0000000000                     0                             \n",
       "3 0.0000000000                     0                             \n",
       "4 0.0120682758                     0                             \n",
       "5 0.0009332089                     0                             \n",
       "6 0.0006000000                     0                             \n",
       "  Elizabethkingia_meningoseptica_HAMBI_1875 ⋯ Roseomonas_gilardii_HAMBI_2470\n",
       "1 0.07880525                                ⋯ 0                             \n",
       "2 0.14725685                                ⋯ 0                             \n",
       "3 0.17071057                                ⋯ 0                             \n",
       "4 0.18935858                                ⋯ 0                             \n",
       "5 0.16631116                                ⋯ 0                             \n",
       "6 0.27040000                                ⋯ 0                             \n",
       "  Sphingobacterium_multivorum_HAMBI_1874\n",
       "1 0.017334489                           \n",
       "2 0.004199720                           \n",
       "3 0.002333022                           \n",
       "4 0.005267369                           \n",
       "5 0.004266098                           \n",
       "6 0.002666667                           \n",
       "  Sphingobacterium_spiritivorum_HAMBI_1896 Sphingobium_yanoikuyae_HAMBI_1842\n",
       "1 0.006000400                              0.0000000000                     \n",
       "2 0.002066529                              0.0000000000                     \n",
       "3 0.004066125                              0.0000000000                     \n",
       "4 0.004267236                              0.0002000267                     \n",
       "5 0.005199307                              0.0003332889                     \n",
       "6 0.007933333                              0.0000000000                     \n",
       "  Stenotrophomonas_maltophilia_HAMBI_2659 Replicate Streptomycin Immigration\n",
       "1 0                                       1         0            0          \n",
       "2 0                                       2         0            0          \n",
       "3 0                                       3         0            0          \n",
       "4 0                                       1         0            1          \n",
       "5 0                                       2         0            1          \n",
       "6 0                                       3         0            1          \n",
       "  Time_point ID   \n",
       "1 48         0_0_1\n",
       "2 48         0_0_2\n",
       "3 48         0_0_3\n",
       "4 48         0_1_1\n",
       "5 48         0_1_2\n",
       "6 48         0_1_3"
      ]
     },
     "metadata": {},
     "output_type": "display_data"
    }
   ],
   "source": [
    "# Read in data\n",
    "\n",
    "species_composition = read.table(\"../../../data/amplicon/species_composition_relative_abundance.txt\", \n",
    "                                 sep = \"\\t\",\n",
    "                                 header = T,\n",
    "                                 row.names = 1)\n",
    "\n",
    "metadata = read.table(\"../../../data/amplicon/metadata.txt\",\n",
    "                      sep = \"\\t\",\n",
    "                      header = T,\n",
    "                      row.names = 1)\n",
    "\n",
    "\n",
    "# Extract regime shift data without predation\n",
    "\n",
    "x = metadata$Experiment != \"FiltrateExp\" & # keep only regime shift data\n",
    "    metadata$Predation != 1 & # exclude predation\n",
    "    metadata$Immigration != \"stock\" # exclude stock\n",
    "\n",
    "# Subset\n",
    "\n",
    "species_composition = species_composition[x,] # keep only species with data\n",
    "species_composition = species_composition[,colSums(species_composition)>0]\n",
    "metadata = metadata[x,-c(3, 6)] # remove redundant columns\n",
    "metadata$ID = paste(metadata$Streptomycin, metadata$Immigration, metadata$Replicate, sep = \"_\")\n",
    "metadata$ID = as.factor(metadata$ID)\n",
    "species_composition$SAMPLE = rownames(species_composition)\n",
    "metadata$SAMPLE = rownames(metadata)\n",
    "\n",
    "df = merge(species_composition, metadata, all = T)\n",
    "dim(df)\n",
    "head(df)"
   ]
  },
  {
   "cell_type": "code",
   "execution_count": 48,
   "metadata": {},
   "outputs": [
    {
     "data": {
      "text/html": [
       "<table>\n",
       "<thead><tr><th scope=col>Aeromonas_caviae_HAMBI_1972</th><th scope=col>Agrobacterium_tumefaciens_HAMBI_105</th><th scope=col>Azorhizobium_caulinodans_HAMBI_216</th><th scope=col>Azospirillum_brasilense_HAMBI_3172</th><th scope=col>Bordetella_avium_HAMBI_2160</th><th scope=col>Citrobacter_koseri_HAMBI_1287</th><th scope=col>Comamonas_testosteroni_HAMBI_403</th><th scope=col>Cupriavidus_necator_HAMBI_2164</th><th scope=col>Elizabethkingia_meningoseptica_HAMBI_1875</th><th scope=col>Escherichia_coli_JE2571_RP4</th><th scope=col>⋯</th><th scope=col>Pseudomonas_putida_HAMBI_6</th><th scope=col>Roseomonas_gilardii_HAMBI_2470</th><th scope=col>Sphingobacterium_multivorum_HAMBI_1874</th><th scope=col>Sphingobacterium_spiritivorum_HAMBI_1896</th><th scope=col>Sphingobium_yanoikuyae_HAMBI_1842</th><th scope=col>Stenotrophomonas_maltophilia_HAMBI_2659</th><th scope=col>Streptomycin</th><th scope=col>Immigration</th><th scope=col>Time_point</th><th scope=col>ID</th></tr></thead>\n",
       "<tbody>\n",
       "\t<tr><td>0.3844256   </td><td>0.0002000133</td><td>0           </td><td>0.0002000133</td><td>0.0018667911</td><td>0.01340089  </td><td>0.0074004934</td><td>0           </td><td>0.07880525  </td><td>0           </td><td>⋯           </td><td>0.0011334089</td><td>0           </td><td>0.017334489 </td><td>0.006000400 </td><td>0.0000000000</td><td>0           </td><td>0           </td><td>0           </td><td>48          </td><td>0_0_1       </td></tr>\n",
       "\t<tr><td>0.4449037   </td><td>0.0003333111</td><td>0           </td><td>0.0009332711</td><td>0.0003333111</td><td>0.02393174  </td><td>0.0000000000</td><td>0           </td><td>0.14725685  </td><td>0           </td><td>⋯           </td><td>0.0011332578</td><td>0           </td><td>0.004199720 </td><td>0.002066529 </td><td>0.0000000000</td><td>0           </td><td>0           </td><td>0           </td><td>48          </td><td>0_0_2       </td></tr>\n",
       "\t<tr><td>0.3595521   </td><td>0.0003332889</td><td>0           </td><td>0.0016664445</td><td>0.0001999733</td><td>0.04339421  </td><td>0.0000000000</td><td>0           </td><td>0.17071057  </td><td>0           </td><td>⋯           </td><td>0.0003332889</td><td>0           </td><td>0.002333022 </td><td>0.004066125 </td><td>0.0000000000</td><td>0           </td><td>0           </td><td>0           </td><td>48          </td><td>0_0_3       </td></tr>\n",
       "\t<tr><td>0.3998533   </td><td>0.0025336712</td><td>0           </td><td>0.0002000267</td><td>0.0004000533</td><td>0.04007201  </td><td>0.0120682758</td><td>0           </td><td>0.18935858  </td><td>0           </td><td>⋯           </td><td>0.0052673690</td><td>0           </td><td>0.005267369 </td><td>0.004267236 </td><td>0.0002000267</td><td>0           </td><td>0           </td><td>1           </td><td>48          </td><td>0_1_1       </td></tr>\n",
       "\t<tr><td>0.3691508   </td><td>0.0017997600</td><td>0           </td><td>0.0003332889</td><td>0.0000000000</td><td>0.09045461  </td><td>0.0009332089</td><td>0           </td><td>0.16631116  </td><td>0           </td><td>⋯           </td><td>0.0027329689</td><td>0           </td><td>0.004266098 </td><td>0.005199307 </td><td>0.0003332889</td><td>0           </td><td>0           </td><td>1           </td><td>48          </td><td>0_1_2       </td></tr>\n",
       "\t<tr><td>0.2610000   </td><td>0.0017333333</td><td>0           </td><td>0.0008666667</td><td>0.0012000000</td><td>0.06900000  </td><td>0.0006000000</td><td>0           </td><td>0.27040000  </td><td>0           </td><td>⋯           </td><td>0.0035333333</td><td>0           </td><td>0.002666667 </td><td>0.007933333 </td><td>0.0000000000</td><td>0           </td><td>0           </td><td>1           </td><td>48          </td><td>0_1_3       </td></tr>\n",
       "</tbody>\n",
       "</table>\n"
      ],
      "text/latex": [
       "\\begin{tabular}{r|llllllllllllllllllllllllllll}\n",
       " Aeromonas\\_caviae\\_HAMBI\\_1972 & Agrobacterium\\_tumefaciens\\_HAMBI\\_105 & Azorhizobium\\_caulinodans\\_HAMBI\\_216 & Azospirillum\\_brasilense\\_HAMBI\\_3172 & Bordetella\\_avium\\_HAMBI\\_2160 & Citrobacter\\_koseri\\_HAMBI\\_1287 & Comamonas\\_testosteroni\\_HAMBI\\_403 & Cupriavidus\\_necator\\_HAMBI\\_2164 & Elizabethkingia\\_meningoseptica\\_HAMBI\\_1875 & Escherichia\\_coli\\_JE2571\\_RP4 & ⋯ & Pseudomonas\\_putida\\_HAMBI\\_6 & Roseomonas\\_gilardii\\_HAMBI\\_2470 & Sphingobacterium\\_multivorum\\_HAMBI\\_1874 & Sphingobacterium\\_spiritivorum\\_HAMBI\\_1896 & Sphingobium\\_yanoikuyae\\_HAMBI\\_1842 & Stenotrophomonas\\_maltophilia\\_HAMBI\\_2659 & Streptomycin & Immigration & Time\\_point & ID\\\\\n",
       "\\hline\n",
       "\t 0.3844256    & 0.0002000133 & 0            & 0.0002000133 & 0.0018667911 & 0.01340089   & 0.0074004934 & 0            & 0.07880525   & 0            & ⋯            & 0.0011334089 & 0            & 0.017334489  & 0.006000400  & 0.0000000000 & 0            & 0            & 0            & 48           & 0\\_0\\_1   \\\\\n",
       "\t 0.4449037    & 0.0003333111 & 0            & 0.0009332711 & 0.0003333111 & 0.02393174   & 0.0000000000 & 0            & 0.14725685   & 0            & ⋯            & 0.0011332578 & 0            & 0.004199720  & 0.002066529  & 0.0000000000 & 0            & 0            & 0            & 48           & 0\\_0\\_2   \\\\\n",
       "\t 0.3595521    & 0.0003332889 & 0            & 0.0016664445 & 0.0001999733 & 0.04339421   & 0.0000000000 & 0            & 0.17071057   & 0            & ⋯            & 0.0003332889 & 0            & 0.002333022  & 0.004066125  & 0.0000000000 & 0            & 0            & 0            & 48           & 0\\_0\\_3   \\\\\n",
       "\t 0.3998533    & 0.0025336712 & 0            & 0.0002000267 & 0.0004000533 & 0.04007201   & 0.0120682758 & 0            & 0.18935858   & 0            & ⋯            & 0.0052673690 & 0            & 0.005267369  & 0.004267236  & 0.0002000267 & 0            & 0            & 1            & 48           & 0\\_1\\_1   \\\\\n",
       "\t 0.3691508    & 0.0017997600 & 0            & 0.0003332889 & 0.0000000000 & 0.09045461   & 0.0009332089 & 0            & 0.16631116   & 0            & ⋯            & 0.0027329689 & 0            & 0.004266098  & 0.005199307  & 0.0003332889 & 0            & 0            & 1            & 48           & 0\\_1\\_2   \\\\\n",
       "\t 0.2610000    & 0.0017333333 & 0            & 0.0008666667 & 0.0012000000 & 0.06900000   & 0.0006000000 & 0            & 0.27040000   & 0            & ⋯            & 0.0035333333 & 0            & 0.002666667  & 0.007933333  & 0.0000000000 & 0            & 0            & 1            & 48           & 0\\_1\\_3   \\\\\n",
       "\\end{tabular}\n"
      ],
      "text/markdown": [
       "\n",
       "Aeromonas_caviae_HAMBI_1972 | Agrobacterium_tumefaciens_HAMBI_105 | Azorhizobium_caulinodans_HAMBI_216 | Azospirillum_brasilense_HAMBI_3172 | Bordetella_avium_HAMBI_2160 | Citrobacter_koseri_HAMBI_1287 | Comamonas_testosteroni_HAMBI_403 | Cupriavidus_necator_HAMBI_2164 | Elizabethkingia_meningoseptica_HAMBI_1875 | Escherichia_coli_JE2571_RP4 | ⋯ | Pseudomonas_putida_HAMBI_6 | Roseomonas_gilardii_HAMBI_2470 | Sphingobacterium_multivorum_HAMBI_1874 | Sphingobacterium_spiritivorum_HAMBI_1896 | Sphingobium_yanoikuyae_HAMBI_1842 | Stenotrophomonas_maltophilia_HAMBI_2659 | Streptomycin | Immigration | Time_point | ID | \n",
       "|---|---|---|---|---|---|\n",
       "| 0.3844256    | 0.0002000133 | 0            | 0.0002000133 | 0.0018667911 | 0.01340089   | 0.0074004934 | 0            | 0.07880525   | 0            | ⋯            | 0.0011334089 | 0            | 0.017334489  | 0.006000400  | 0.0000000000 | 0            | 0            | 0            | 48           | 0_0_1        | \n",
       "| 0.4449037    | 0.0003333111 | 0            | 0.0009332711 | 0.0003333111 | 0.02393174   | 0.0000000000 | 0            | 0.14725685   | 0            | ⋯            | 0.0011332578 | 0            | 0.004199720  | 0.002066529  | 0.0000000000 | 0            | 0            | 0            | 48           | 0_0_2        | \n",
       "| 0.3595521    | 0.0003332889 | 0            | 0.0016664445 | 0.0001999733 | 0.04339421   | 0.0000000000 | 0            | 0.17071057   | 0            | ⋯            | 0.0003332889 | 0            | 0.002333022  | 0.004066125  | 0.0000000000 | 0            | 0            | 0            | 48           | 0_0_3        | \n",
       "| 0.3998533    | 0.0025336712 | 0            | 0.0002000267 | 0.0004000533 | 0.04007201   | 0.0120682758 | 0            | 0.18935858   | 0            | ⋯            | 0.0052673690 | 0            | 0.005267369  | 0.004267236  | 0.0002000267 | 0            | 0            | 1            | 48           | 0_1_1        | \n",
       "| 0.3691508    | 0.0017997600 | 0            | 0.0003332889 | 0.0000000000 | 0.09045461   | 0.0009332089 | 0            | 0.16631116   | 0            | ⋯            | 0.0027329689 | 0            | 0.004266098  | 0.005199307  | 0.0003332889 | 0            | 0            | 1            | 48           | 0_1_2        | \n",
       "| 0.2610000    | 0.0017333333 | 0            | 0.0008666667 | 0.0012000000 | 0.06900000   | 0.0006000000 | 0            | 0.27040000   | 0            | ⋯            | 0.0035333333 | 0            | 0.002666667  | 0.007933333  | 0.0000000000 | 0            | 0            | 1            | 48           | 0_1_3        | \n",
       "\n",
       "\n"
      ],
      "text/plain": [
       "  Aeromonas_caviae_HAMBI_1972 Agrobacterium_tumefaciens_HAMBI_105\n",
       "1 0.3844256                   0.0002000133                       \n",
       "2 0.4449037                   0.0003333111                       \n",
       "3 0.3595521                   0.0003332889                       \n",
       "4 0.3998533                   0.0025336712                       \n",
       "5 0.3691508                   0.0017997600                       \n",
       "6 0.2610000                   0.0017333333                       \n",
       "  Azorhizobium_caulinodans_HAMBI_216 Azospirillum_brasilense_HAMBI_3172\n",
       "1 0                                  0.0002000133                      \n",
       "2 0                                  0.0009332711                      \n",
       "3 0                                  0.0016664445                      \n",
       "4 0                                  0.0002000267                      \n",
       "5 0                                  0.0003332889                      \n",
       "6 0                                  0.0008666667                      \n",
       "  Bordetella_avium_HAMBI_2160 Citrobacter_koseri_HAMBI_1287\n",
       "1 0.0018667911                0.01340089                   \n",
       "2 0.0003333111                0.02393174                   \n",
       "3 0.0001999733                0.04339421                   \n",
       "4 0.0004000533                0.04007201                   \n",
       "5 0.0000000000                0.09045461                   \n",
       "6 0.0012000000                0.06900000                   \n",
       "  Comamonas_testosteroni_HAMBI_403 Cupriavidus_necator_HAMBI_2164\n",
       "1 0.0074004934                     0                             \n",
       "2 0.0000000000                     0                             \n",
       "3 0.0000000000                     0                             \n",
       "4 0.0120682758                     0                             \n",
       "5 0.0009332089                     0                             \n",
       "6 0.0006000000                     0                             \n",
       "  Elizabethkingia_meningoseptica_HAMBI_1875 Escherichia_coli_JE2571_RP4 ⋯\n",
       "1 0.07880525                                0                           ⋯\n",
       "2 0.14725685                                0                           ⋯\n",
       "3 0.17071057                                0                           ⋯\n",
       "4 0.18935858                                0                           ⋯\n",
       "5 0.16631116                                0                           ⋯\n",
       "6 0.27040000                                0                           ⋯\n",
       "  Pseudomonas_putida_HAMBI_6 Roseomonas_gilardii_HAMBI_2470\n",
       "1 0.0011334089               0                             \n",
       "2 0.0011332578               0                             \n",
       "3 0.0003332889               0                             \n",
       "4 0.0052673690               0                             \n",
       "5 0.0027329689               0                             \n",
       "6 0.0035333333               0                             \n",
       "  Sphingobacterium_multivorum_HAMBI_1874\n",
       "1 0.017334489                           \n",
       "2 0.004199720                           \n",
       "3 0.002333022                           \n",
       "4 0.005267369                           \n",
       "5 0.004266098                           \n",
       "6 0.002666667                           \n",
       "  Sphingobacterium_spiritivorum_HAMBI_1896 Sphingobium_yanoikuyae_HAMBI_1842\n",
       "1 0.006000400                              0.0000000000                     \n",
       "2 0.002066529                              0.0000000000                     \n",
       "3 0.004066125                              0.0000000000                     \n",
       "4 0.004267236                              0.0002000267                     \n",
       "5 0.005199307                              0.0003332889                     \n",
       "6 0.007933333                              0.0000000000                     \n",
       "  Stenotrophomonas_maltophilia_HAMBI_2659 Streptomycin Immigration Time_point\n",
       "1 0                                       0            0           48        \n",
       "2 0                                       0            0           48        \n",
       "3 0                                       0            0           48        \n",
       "4 0                                       0            1           48        \n",
       "5 0                                       0            1           48        \n",
       "6 0                                       0            1           48        \n",
       "  ID   \n",
       "1 0_0_1\n",
       "2 0_0_2\n",
       "3 0_0_3\n",
       "4 0_1_1\n",
       "5 0_1_2\n",
       "6 0_1_3"
      ]
     },
     "metadata": {},
     "output_type": "display_data"
    }
   ],
   "source": [
    "df = df[,-c(1, 26)]\n",
    "head(df)"
   ]
  },
  {
   "cell_type": "code",
   "execution_count": 49,
   "metadata": {},
   "outputs": [
    {
     "name": "stdout",
     "output_type": "stream",
     "text": [
      "'data.frame':\t72 obs. of  28 variables:\n",
      " $ Aeromonas_caviae_HAMBI_1972              : num  0.384 0.445 0.36 0.4 0.369 ...\n",
      " $ Agrobacterium_tumefaciens_HAMBI_105      : num  0.0002 0.000333 0.000333 0.002534 0.0018 ...\n",
      " $ Azorhizobium_caulinodans_HAMBI_216       : num  0 0 0 0 0 0 0 0 0 0 ...\n",
      " $ Azospirillum_brasilense_HAMBI_3172       : num  0.0002 0.000933 0.001666 0.0002 0.000333 ...\n",
      " $ Bordetella_avium_HAMBI_2160              : num  0.001867 0.000333 0.0002 0.0004 0 ...\n",
      " $ Citrobacter_koseri_HAMBI_1287            : num  0.0134 0.0239 0.0434 0.0401 0.0905 ...\n",
      " $ Comamonas_testosteroni_HAMBI_403         : num  0.0074 0 0 0.012068 0.000933 ...\n",
      " $ Cupriavidus_necator_HAMBI_2164           : num  0 0 0 0 0 0 0 0 0 0 ...\n",
      " $ Elizabethkingia_meningoseptica_HAMBI_1875: num  0.0788 0.1473 0.1707 0.1894 0.1663 ...\n",
      " $ Escherichia_coli_JE2571_RP4              : num  0e+00 0e+00 0e+00 0e+00 0e+00 0e+00 2e-04 0e+00 0e+00 0e+00 ...\n",
      " $ Hafnia_alvei_HAMBI_1279                  : num  0 0 0 0.000867 0 ...\n",
      " $ Kluyvera_intermedia_HAMBI_1299           : num  0 0 0 0 0 ...\n",
      " $ Morganella_morganii_HAMBI_1292           : num  0.0002 0.0024 0.0012 0.00193 0.00247 ...\n",
      " $ Myroides_odoratus_HAMBI_1923             : num  0.00147 0.00453 0.0002 0.0002 0 ...\n",
      " $ Niabella_yanshanensis_HAMBI_3031         : num  0 0.00147 0.0002 0.0004 0 ...\n",
      " $ Paraburkholderia_caryophylli_HAMBI_2159  : num  0 0 0 0 0 0 0 0 0 0 ...\n",
      " $ Paracoccus_denitrificans_HAMBI_2443      : num  6.67e-05 3.33e-04 2.00e-04 4.00e-04 0.00 ...\n",
      " $ Pseudomonas_chlororaphis_HAMBI_1977      : num  0.487 0.366 0.416 0.337 0.356 ...\n",
      " $ Pseudomonas_putida_HAMBI_6               : num  0.001133 0.001133 0.000333 0.005267 0.002733 ...\n",
      " $ Roseomonas_gilardii_HAMBI_2470           : num  0 0 0 0 0 0 0 0 0 0 ...\n",
      " $ Sphingobacterium_multivorum_HAMBI_1874   : num  0.01733 0.0042 0.00233 0.00527 0.00427 ...\n",
      " $ Sphingobacterium_spiritivorum_HAMBI_1896 : num  0.006 0.00207 0.00407 0.00427 0.0052 ...\n",
      " $ Sphingobium_yanoikuyae_HAMBI_1842        : num  0 0 0 0.0002 0.000333 ...\n",
      " $ Stenotrophomonas_maltophilia_HAMBI_2659  : num  0 0 0 0 0 ...\n",
      " $ Streptomycin                             : int  0 0 0 0 0 0 128 128 128 128 ...\n",
      " $ Immigration                              : Factor w/ 3 levels \"0\",\"1\",\"stock\": 1 1 1 2 2 2 1 1 1 2 ...\n",
      " $ Time_point                               : int  48 48 48 48 48 48 48 48 48 48 ...\n",
      " $ ID                                       : Factor w/ 24 levels \"0_0_1\",\"0_0_2\",..: 1 2 3 4 5 6 7 8 9 10 ...\n"
     ]
    }
   ],
   "source": [
    "str(df)"
   ]
  },
  {
   "cell_type": "code",
   "execution_count": 53,
   "metadata": {},
   "outputs": [],
   "source": [
    "df$Immigration = as.numeric(as.character(df$Immigration))\n",
    "df$Streptomycin = as.numeric(df$Streptomycin)\n",
    "df$Time_point = as.numeric(df$Time_point)"
   ]
  },
  {
   "cell_type": "code",
   "execution_count": 54,
   "metadata": {},
   "outputs": [
    {
     "data": {
      "text/html": [
       "<table>\n",
       "<thead><tr><th scope=col>Aeromonas_caviae_HAMBI_1972</th><th scope=col>Agrobacterium_tumefaciens_HAMBI_105</th><th scope=col>Azorhizobium_caulinodans_HAMBI_216</th><th scope=col>Azospirillum_brasilense_HAMBI_3172</th><th scope=col>Bordetella_avium_HAMBI_2160</th><th scope=col>Citrobacter_koseri_HAMBI_1287</th><th scope=col>Comamonas_testosteroni_HAMBI_403</th><th scope=col>Cupriavidus_necator_HAMBI_2164</th><th scope=col>Elizabethkingia_meningoseptica_HAMBI_1875</th><th scope=col>Escherichia_coli_JE2571_RP4</th><th scope=col>⋯</th><th scope=col>Pseudomonas_putida_HAMBI_6</th><th scope=col>Roseomonas_gilardii_HAMBI_2470</th><th scope=col>Sphingobacterium_multivorum_HAMBI_1874</th><th scope=col>Sphingobacterium_spiritivorum_HAMBI_1896</th><th scope=col>Sphingobium_yanoikuyae_HAMBI_1842</th><th scope=col>Stenotrophomonas_maltophilia_HAMBI_2659</th><th scope=col>Streptomycin</th><th scope=col>Immigration</th><th scope=col>Time_point</th><th scope=col>ID</th></tr></thead>\n",
       "<tbody>\n",
       "\t<tr><td>0.3844256   </td><td>0.0002000133</td><td>0           </td><td>0.0002000133</td><td>0.0018667911</td><td>0.01340089  </td><td>0.0074004934</td><td>0           </td><td>0.07880525  </td><td>0           </td><td>⋯           </td><td>0.0011334089</td><td>0           </td><td>0.017334489 </td><td>0.006000400 </td><td>0.0000000000</td><td>0           </td><td>0           </td><td>0           </td><td>48          </td><td>1           </td></tr>\n",
       "\t<tr><td>0.4449037   </td><td>0.0003333111</td><td>0           </td><td>0.0009332711</td><td>0.0003333111</td><td>0.02393174  </td><td>0.0000000000</td><td>0           </td><td>0.14725685  </td><td>0           </td><td>⋯           </td><td>0.0011332578</td><td>0           </td><td>0.004199720 </td><td>0.002066529 </td><td>0.0000000000</td><td>0           </td><td>0           </td><td>0           </td><td>48          </td><td>2           </td></tr>\n",
       "\t<tr><td>0.3595521   </td><td>0.0003332889</td><td>0           </td><td>0.0016664445</td><td>0.0001999733</td><td>0.04339421  </td><td>0.0000000000</td><td>0           </td><td>0.17071057  </td><td>0           </td><td>⋯           </td><td>0.0003332889</td><td>0           </td><td>0.002333022 </td><td>0.004066125 </td><td>0.0000000000</td><td>0           </td><td>0           </td><td>0           </td><td>48          </td><td>3           </td></tr>\n",
       "\t<tr><td>0.3998533   </td><td>0.0025336712</td><td>0           </td><td>0.0002000267</td><td>0.0004000533</td><td>0.04007201  </td><td>0.0120682758</td><td>0           </td><td>0.18935858  </td><td>0           </td><td>⋯           </td><td>0.0052673690</td><td>0           </td><td>0.005267369 </td><td>0.004267236 </td><td>0.0002000267</td><td>0           </td><td>0           </td><td>1           </td><td>48          </td><td>4           </td></tr>\n",
       "\t<tr><td>0.3691508   </td><td>0.0017997600</td><td>0           </td><td>0.0003332889</td><td>0.0000000000</td><td>0.09045461  </td><td>0.0009332089</td><td>0           </td><td>0.16631116  </td><td>0           </td><td>⋯           </td><td>0.0027329689</td><td>0           </td><td>0.004266098 </td><td>0.005199307 </td><td>0.0003332889</td><td>0           </td><td>0           </td><td>1           </td><td>48          </td><td>5           </td></tr>\n",
       "\t<tr><td>0.2610000   </td><td>0.0017333333</td><td>0           </td><td>0.0008666667</td><td>0.0012000000</td><td>0.06900000  </td><td>0.0006000000</td><td>0           </td><td>0.27040000  </td><td>0           </td><td>⋯           </td><td>0.0035333333</td><td>0           </td><td>0.002666667 </td><td>0.007933333 </td><td>0.0000000000</td><td>0           </td><td>0           </td><td>1           </td><td>48          </td><td>6           </td></tr>\n",
       "</tbody>\n",
       "</table>\n"
      ],
      "text/latex": [
       "\\begin{tabular}{r|llllllllllllllllllllllllllll}\n",
       " Aeromonas\\_caviae\\_HAMBI\\_1972 & Agrobacterium\\_tumefaciens\\_HAMBI\\_105 & Azorhizobium\\_caulinodans\\_HAMBI\\_216 & Azospirillum\\_brasilense\\_HAMBI\\_3172 & Bordetella\\_avium\\_HAMBI\\_2160 & Citrobacter\\_koseri\\_HAMBI\\_1287 & Comamonas\\_testosteroni\\_HAMBI\\_403 & Cupriavidus\\_necator\\_HAMBI\\_2164 & Elizabethkingia\\_meningoseptica\\_HAMBI\\_1875 & Escherichia\\_coli\\_JE2571\\_RP4 & ⋯ & Pseudomonas\\_putida\\_HAMBI\\_6 & Roseomonas\\_gilardii\\_HAMBI\\_2470 & Sphingobacterium\\_multivorum\\_HAMBI\\_1874 & Sphingobacterium\\_spiritivorum\\_HAMBI\\_1896 & Sphingobium\\_yanoikuyae\\_HAMBI\\_1842 & Stenotrophomonas\\_maltophilia\\_HAMBI\\_2659 & Streptomycin & Immigration & Time\\_point & ID\\\\\n",
       "\\hline\n",
       "\t 0.3844256    & 0.0002000133 & 0            & 0.0002000133 & 0.0018667911 & 0.01340089   & 0.0074004934 & 0            & 0.07880525   & 0            & ⋯            & 0.0011334089 & 0            & 0.017334489  & 0.006000400  & 0.0000000000 & 0            & 0            & 0            & 48           & 1           \\\\\n",
       "\t 0.4449037    & 0.0003333111 & 0            & 0.0009332711 & 0.0003333111 & 0.02393174   & 0.0000000000 & 0            & 0.14725685   & 0            & ⋯            & 0.0011332578 & 0            & 0.004199720  & 0.002066529  & 0.0000000000 & 0            & 0            & 0            & 48           & 2           \\\\\n",
       "\t 0.3595521    & 0.0003332889 & 0            & 0.0016664445 & 0.0001999733 & 0.04339421   & 0.0000000000 & 0            & 0.17071057   & 0            & ⋯            & 0.0003332889 & 0            & 0.002333022  & 0.004066125  & 0.0000000000 & 0            & 0            & 0            & 48           & 3           \\\\\n",
       "\t 0.3998533    & 0.0025336712 & 0            & 0.0002000267 & 0.0004000533 & 0.04007201   & 0.0120682758 & 0            & 0.18935858   & 0            & ⋯            & 0.0052673690 & 0            & 0.005267369  & 0.004267236  & 0.0002000267 & 0            & 0            & 1            & 48           & 4           \\\\\n",
       "\t 0.3691508    & 0.0017997600 & 0            & 0.0003332889 & 0.0000000000 & 0.09045461   & 0.0009332089 & 0            & 0.16631116   & 0            & ⋯            & 0.0027329689 & 0            & 0.004266098  & 0.005199307  & 0.0003332889 & 0            & 0            & 1            & 48           & 5           \\\\\n",
       "\t 0.2610000    & 0.0017333333 & 0            & 0.0008666667 & 0.0012000000 & 0.06900000   & 0.0006000000 & 0            & 0.27040000   & 0            & ⋯            & 0.0035333333 & 0            & 0.002666667  & 0.007933333  & 0.0000000000 & 0            & 0            & 1            & 48           & 6           \\\\\n",
       "\\end{tabular}\n"
      ],
      "text/markdown": [
       "\n",
       "Aeromonas_caviae_HAMBI_1972 | Agrobacterium_tumefaciens_HAMBI_105 | Azorhizobium_caulinodans_HAMBI_216 | Azospirillum_brasilense_HAMBI_3172 | Bordetella_avium_HAMBI_2160 | Citrobacter_koseri_HAMBI_1287 | Comamonas_testosteroni_HAMBI_403 | Cupriavidus_necator_HAMBI_2164 | Elizabethkingia_meningoseptica_HAMBI_1875 | Escherichia_coli_JE2571_RP4 | ⋯ | Pseudomonas_putida_HAMBI_6 | Roseomonas_gilardii_HAMBI_2470 | Sphingobacterium_multivorum_HAMBI_1874 | Sphingobacterium_spiritivorum_HAMBI_1896 | Sphingobium_yanoikuyae_HAMBI_1842 | Stenotrophomonas_maltophilia_HAMBI_2659 | Streptomycin | Immigration | Time_point | ID | \n",
       "|---|---|---|---|---|---|\n",
       "| 0.3844256    | 0.0002000133 | 0            | 0.0002000133 | 0.0018667911 | 0.01340089   | 0.0074004934 | 0            | 0.07880525   | 0            | ⋯            | 0.0011334089 | 0            | 0.017334489  | 0.006000400  | 0.0000000000 | 0            | 0            | 0            | 48           | 1            | \n",
       "| 0.4449037    | 0.0003333111 | 0            | 0.0009332711 | 0.0003333111 | 0.02393174   | 0.0000000000 | 0            | 0.14725685   | 0            | ⋯            | 0.0011332578 | 0            | 0.004199720  | 0.002066529  | 0.0000000000 | 0            | 0            | 0            | 48           | 2            | \n",
       "| 0.3595521    | 0.0003332889 | 0            | 0.0016664445 | 0.0001999733 | 0.04339421   | 0.0000000000 | 0            | 0.17071057   | 0            | ⋯            | 0.0003332889 | 0            | 0.002333022  | 0.004066125  | 0.0000000000 | 0            | 0            | 0            | 48           | 3            | \n",
       "| 0.3998533    | 0.0025336712 | 0            | 0.0002000267 | 0.0004000533 | 0.04007201   | 0.0120682758 | 0            | 0.18935858   | 0            | ⋯            | 0.0052673690 | 0            | 0.005267369  | 0.004267236  | 0.0002000267 | 0            | 0            | 1            | 48           | 4            | \n",
       "| 0.3691508    | 0.0017997600 | 0            | 0.0003332889 | 0.0000000000 | 0.09045461   | 0.0009332089 | 0            | 0.16631116   | 0            | ⋯            | 0.0027329689 | 0            | 0.004266098  | 0.005199307  | 0.0003332889 | 0            | 0            | 1            | 48           | 5            | \n",
       "| 0.2610000    | 0.0017333333 | 0            | 0.0008666667 | 0.0012000000 | 0.06900000   | 0.0006000000 | 0            | 0.27040000   | 0            | ⋯            | 0.0035333333 | 0            | 0.002666667  | 0.007933333  | 0.0000000000 | 0            | 0            | 1            | 48           | 6            | \n",
       "\n",
       "\n"
      ],
      "text/plain": [
       "  Aeromonas_caviae_HAMBI_1972 Agrobacterium_tumefaciens_HAMBI_105\n",
       "1 0.3844256                   0.0002000133                       \n",
       "2 0.4449037                   0.0003333111                       \n",
       "3 0.3595521                   0.0003332889                       \n",
       "4 0.3998533                   0.0025336712                       \n",
       "5 0.3691508                   0.0017997600                       \n",
       "6 0.2610000                   0.0017333333                       \n",
       "  Azorhizobium_caulinodans_HAMBI_216 Azospirillum_brasilense_HAMBI_3172\n",
       "1 0                                  0.0002000133                      \n",
       "2 0                                  0.0009332711                      \n",
       "3 0                                  0.0016664445                      \n",
       "4 0                                  0.0002000267                      \n",
       "5 0                                  0.0003332889                      \n",
       "6 0                                  0.0008666667                      \n",
       "  Bordetella_avium_HAMBI_2160 Citrobacter_koseri_HAMBI_1287\n",
       "1 0.0018667911                0.01340089                   \n",
       "2 0.0003333111                0.02393174                   \n",
       "3 0.0001999733                0.04339421                   \n",
       "4 0.0004000533                0.04007201                   \n",
       "5 0.0000000000                0.09045461                   \n",
       "6 0.0012000000                0.06900000                   \n",
       "  Comamonas_testosteroni_HAMBI_403 Cupriavidus_necator_HAMBI_2164\n",
       "1 0.0074004934                     0                             \n",
       "2 0.0000000000                     0                             \n",
       "3 0.0000000000                     0                             \n",
       "4 0.0120682758                     0                             \n",
       "5 0.0009332089                     0                             \n",
       "6 0.0006000000                     0                             \n",
       "  Elizabethkingia_meningoseptica_HAMBI_1875 Escherichia_coli_JE2571_RP4 ⋯\n",
       "1 0.07880525                                0                           ⋯\n",
       "2 0.14725685                                0                           ⋯\n",
       "3 0.17071057                                0                           ⋯\n",
       "4 0.18935858                                0                           ⋯\n",
       "5 0.16631116                                0                           ⋯\n",
       "6 0.27040000                                0                           ⋯\n",
       "  Pseudomonas_putida_HAMBI_6 Roseomonas_gilardii_HAMBI_2470\n",
       "1 0.0011334089               0                             \n",
       "2 0.0011332578               0                             \n",
       "3 0.0003332889               0                             \n",
       "4 0.0052673690               0                             \n",
       "5 0.0027329689               0                             \n",
       "6 0.0035333333               0                             \n",
       "  Sphingobacterium_multivorum_HAMBI_1874\n",
       "1 0.017334489                           \n",
       "2 0.004199720                           \n",
       "3 0.002333022                           \n",
       "4 0.005267369                           \n",
       "5 0.004266098                           \n",
       "6 0.002666667                           \n",
       "  Sphingobacterium_spiritivorum_HAMBI_1896 Sphingobium_yanoikuyae_HAMBI_1842\n",
       "1 0.006000400                              0.0000000000                     \n",
       "2 0.002066529                              0.0000000000                     \n",
       "3 0.004066125                              0.0000000000                     \n",
       "4 0.004267236                              0.0002000267                     \n",
       "5 0.005199307                              0.0003332889                     \n",
       "6 0.007933333                              0.0000000000                     \n",
       "  Stenotrophomonas_maltophilia_HAMBI_2659 Streptomycin Immigration Time_point\n",
       "1 0                                       0            0           48        \n",
       "2 0                                       0            0           48        \n",
       "3 0                                       0            0           48        \n",
       "4 0                                       0            1           48        \n",
       "5 0                                       0            1           48        \n",
       "6 0                                       0            1           48        \n",
       "  ID\n",
       "1 1 \n",
       "2 2 \n",
       "3 3 \n",
       "4 4 \n",
       "5 5 \n",
       "6 6 "
      ]
     },
     "metadata": {},
     "output_type": "display_data"
    }
   ],
   "source": [
    "df2 <- transform(df,ID=as.numeric(factor(ID)))\n",
    "head(df2)"
   ]
  },
  {
   "cell_type": "code",
   "execution_count": 55,
   "metadata": {},
   "outputs": [
    {
     "name": "stdout",
     "output_type": "stream",
     "text": [
      "'data.frame':\t72 obs. of  28 variables:\n",
      " $ Aeromonas_caviae_HAMBI_1972              : num  0.384 0.445 0.36 0.4 0.369 ...\n",
      " $ Agrobacterium_tumefaciens_HAMBI_105      : num  0.0002 0.000333 0.000333 0.002534 0.0018 ...\n",
      " $ Azorhizobium_caulinodans_HAMBI_216       : num  0 0 0 0 0 0 0 0 0 0 ...\n",
      " $ Azospirillum_brasilense_HAMBI_3172       : num  0.0002 0.000933 0.001666 0.0002 0.000333 ...\n",
      " $ Bordetella_avium_HAMBI_2160              : num  0.001867 0.000333 0.0002 0.0004 0 ...\n",
      " $ Citrobacter_koseri_HAMBI_1287            : num  0.0134 0.0239 0.0434 0.0401 0.0905 ...\n",
      " $ Comamonas_testosteroni_HAMBI_403         : num  0.0074 0 0 0.012068 0.000933 ...\n",
      " $ Cupriavidus_necator_HAMBI_2164           : num  0 0 0 0 0 0 0 0 0 0 ...\n",
      " $ Elizabethkingia_meningoseptica_HAMBI_1875: num  0.0788 0.1473 0.1707 0.1894 0.1663 ...\n",
      " $ Escherichia_coli_JE2571_RP4              : num  0e+00 0e+00 0e+00 0e+00 0e+00 0e+00 2e-04 0e+00 0e+00 0e+00 ...\n",
      " $ Hafnia_alvei_HAMBI_1279                  : num  0 0 0 0.000867 0 ...\n",
      " $ Kluyvera_intermedia_HAMBI_1299           : num  0 0 0 0 0 ...\n",
      " $ Morganella_morganii_HAMBI_1292           : num  0.0002 0.0024 0.0012 0.00193 0.00247 ...\n",
      " $ Myroides_odoratus_HAMBI_1923             : num  0.00147 0.00453 0.0002 0.0002 0 ...\n",
      " $ Niabella_yanshanensis_HAMBI_3031         : num  0 0.00147 0.0002 0.0004 0 ...\n",
      " $ Paraburkholderia_caryophylli_HAMBI_2159  : num  0 0 0 0 0 0 0 0 0 0 ...\n",
      " $ Paracoccus_denitrificans_HAMBI_2443      : num  6.67e-05 3.33e-04 2.00e-04 4.00e-04 0.00 ...\n",
      " $ Pseudomonas_chlororaphis_HAMBI_1977      : num  0.487 0.366 0.416 0.337 0.356 ...\n",
      " $ Pseudomonas_putida_HAMBI_6               : num  0.001133 0.001133 0.000333 0.005267 0.002733 ...\n",
      " $ Roseomonas_gilardii_HAMBI_2470           : num  0 0 0 0 0 0 0 0 0 0 ...\n",
      " $ Sphingobacterium_multivorum_HAMBI_1874   : num  0.01733 0.0042 0.00233 0.00527 0.00427 ...\n",
      " $ Sphingobacterium_spiritivorum_HAMBI_1896 : num  0.006 0.00207 0.00407 0.00427 0.0052 ...\n",
      " $ Sphingobium_yanoikuyae_HAMBI_1842        : num  0 0 0 0.0002 0.000333 ...\n",
      " $ Stenotrophomonas_maltophilia_HAMBI_2659  : num  0 0 0 0 0 ...\n",
      " $ Streptomycin                             : num  0 0 0 0 0 0 128 128 128 128 ...\n",
      " $ Immigration                              : num  0 0 0 1 1 1 0 0 0 1 ...\n",
      " $ Time_point                               : num  48 48 48 48 48 48 48 48 48 48 ...\n",
      " $ ID                                       : num  1 2 3 4 5 6 7 8 9 10 ...\n"
     ]
    }
   ],
   "source": [
    "str(df2)"
   ]
  },
  {
   "cell_type": "code",
   "execution_count": 44,
   "metadata": {},
   "outputs": [],
   "source": [
    "df2$Streptomycin = factor(df2$Streptomycin)"
   ]
  },
  {
   "cell_type": "code",
   "execution_count": 5,
   "metadata": {},
   "outputs": [],
   "source": [
    "?taxa.compare"
   ]
  },
  {
   "cell_type": "code",
   "execution_count": 65,
   "metadata": {},
   "outputs": [
    {
     "name": "stdout",
     "output_type": "stream",
     "text": [
      "[1] 1\n"
     ]
    },
    {
     "name": "stderr",
     "output_type": "stream",
     "text": [
      "Warning message in mean.default(y):\n",
      "“argument is not numeric or logical: returning NA”Warning message in Ops.factor(Streptomycin + Immigration + Time_point, random(personid)):\n",
      "“‘+’ not meaningful for factors”Warning message in Ops.factor(Streptomycin + Immigration + Time_point, random(personid)):\n",
      "“‘+’ not meaningful for factors”"
     ]
    },
    {
     "name": "stdout",
     "output_type": "stream",
     "text": [
      "Error in dbeta(x, shape1 = a, shape2 = b, ncp = 0, log = TRUE) : \n",
      "  Non-numeric argument to mathematical function\n",
      "Error in model fit, NA introduced.\n",
      "[1] 0\n"
     ]
    },
    {
     "name": "stderr",
     "output_type": "stream",
     "text": [
      "Warning message in mean.default(y):\n",
      "“argument is not numeric or logical: returning NA”Warning message in Ops.factor(Streptomycin + Immigration + Time_point, random(personid)):\n",
      "“‘+’ not meaningful for factors”Warning message in Ops.factor(Streptomycin + Immigration + Time_point, random(personid)):\n",
      "“‘+’ not meaningful for factors”"
     ]
    },
    {
     "name": "stdout",
     "output_type": "stream",
     "text": [
      "Error in dbeta(x, shape1 = a, shape2 = b, ncp = 0, log = TRUE) : \n",
      "  Non-numeric argument to mathematical function\n",
      "Error in model fit, NA introduced.\n"
     ]
    }
   ],
   "source": [
    "taxacom <-taxa.compare(taxtab=df2,\n",
    "                       propmed.rel=\"gamlss\",\n",
    "                       #transform=\"asin.sqrt\",\n",
    "                       comvar=\"Streptomycin\",\n",
    "                       adjustvar=c(\"Immigration\", \"Time_point\"),\n",
    "                       personid = \"ID\",\n",
    "                       longitudinal=\"yes\",\n",
    "                       percent.filter=0.2,\n",
    "                       #relabund.filter=0.00005, \n",
    "                       p.adjust.method=\"fdr\")"
   ]
  },
  {
   "cell_type": "code",
   "execution_count": 42,
   "metadata": {},
   "outputs": [
    {
     "data": {
      "text/plain": [
       "NULL"
      ]
     },
     "metadata": {},
     "output_type": "display_data"
    }
   ],
   "source": [
    "taxacom"
   ]
  },
  {
   "cell_type": "code",
   "execution_count": null,
   "metadata": {},
   "outputs": [],
   "source": [
    "taxacom6.zi.rmg<-taxa.compare(taxtab=taxtab6.rm[[5]],propmed.rel=\"gamlss\",comvar=\"bf\",adjustvar=\"age.sample\",longitudinal=\"yes\",p.adjust.method=\"fdr\")\n",
    "\n",
    "taxa.compare(taxtab, propmed.rel = \"gamlss\", transform = \"none\",\n",
    "  zeroreplace.method = \"none\", comvar, adjustvar,\n",
    "  personid = \"personid\", longitudinal = \"yes\", percent.filter = 0.05,\n",
    "  relabund.filter = 5e-05, p.adjust.method = \"fdr\", ...)"
   ]
  }
 ],
 "metadata": {
  "kernelspec": {
   "display_name": "R",
   "language": "R",
   "name": "ir"
  },
  "language_info": {
   "codemirror_mode": "r",
   "file_extension": ".r",
   "mimetype": "text/x-r-source",
   "name": "R",
   "pygments_lexer": "r",
   "version": "3.5.1"
  }
 },
 "nbformat": 4,
 "nbformat_minor": 2
}
