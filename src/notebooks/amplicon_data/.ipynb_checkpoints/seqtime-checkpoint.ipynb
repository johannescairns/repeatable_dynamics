{
 "cells": [
  {
   "cell_type": "markdown",
   "metadata": {},
   "source": [
    "# Seqtime\n",
    "\n",
    "#### Source: http://hallucigenia-sparsa.github.io/seqtime/\n",
    "\n",
    "#### Problem: not enough time points"
   ]
  },
  {
   "cell_type": "code",
   "execution_count": 7,
   "metadata": {},
   "outputs": [],
   "source": [
    "# Housekeeping\n",
    "\n",
    "#library(devtools)  \n",
    "#install_github(\"hallucigenia-sparsa/seqtime\") \n",
    "library(reshape2)\n",
    "library(seqtime)"
   ]
  },
  {
   "cell_type": "code",
   "execution_count": 9,
   "metadata": {},
   "outputs": [
    {
     "data": {
      "text/html": [
       "<table>\n",
       "<thead><tr><th scope=col>SAMPLE</th><th scope=col>Aeromonas_caviae_HAMBI_1972</th><th scope=col>Agrobacterium_tumefaciens_HAMBI_105</th><th scope=col>Azorhizobium_caulinodans_HAMBI_216</th><th scope=col>Azospirillum_brasilense_HAMBI_3172</th><th scope=col>Bordetella_avium_HAMBI_2160</th><th scope=col>Citrobacter_koseri_HAMBI_1287</th><th scope=col>Comamonas_testosteroni_HAMBI_403</th><th scope=col>Cupriavidus_necator_HAMBI_2164</th><th scope=col>Elizabethkingia_meningoseptica_HAMBI_1875</th><th scope=col>⋯</th><th scope=col>Pseudomonas_putida_HAMBI_6</th><th scope=col>Roseomonas_gilardii_HAMBI_2470</th><th scope=col>Sphingobacterium_multivorum_HAMBI_1874</th><th scope=col>Sphingobacterium_spiritivorum_HAMBI_1896</th><th scope=col>Sphingobium_yanoikuyae_HAMBI_1842</th><th scope=col>Stenotrophomonas_maltophilia_HAMBI_2659</th><th scope=col>Replicate</th><th scope=col>Streptomycin</th><th scope=col>Immigration</th><th scope=col>Time_point</th></tr></thead>\n",
       "<tbody>\n",
       "\t<tr><td>T12_0_1     </td><td>0.3844256   </td><td>0.0002000133</td><td>0           </td><td>0.0002000133</td><td>0.0018667911</td><td>0.01340089  </td><td>0.0074004934</td><td>0           </td><td>0.07880525  </td><td>⋯           </td><td>0.0011334089</td><td>0           </td><td>0.017334489 </td><td>0.006000400 </td><td>0.0000000000</td><td>0           </td><td>1           </td><td>0           </td><td>0           </td><td>48          </td></tr>\n",
       "\t<tr><td>T12_0_2     </td><td>0.4449037   </td><td>0.0003333111</td><td>0           </td><td>0.0009332711</td><td>0.0003333111</td><td>0.02393174  </td><td>0.0000000000</td><td>0           </td><td>0.14725685  </td><td>⋯           </td><td>0.0011332578</td><td>0           </td><td>0.004199720 </td><td>0.002066529 </td><td>0.0000000000</td><td>0           </td><td>2           </td><td>0           </td><td>0           </td><td>48          </td></tr>\n",
       "\t<tr><td>T12_0_3     </td><td>0.3595521   </td><td>0.0003332889</td><td>0           </td><td>0.0016664445</td><td>0.0001999733</td><td>0.04339421  </td><td>0.0000000000</td><td>0           </td><td>0.17071057  </td><td>⋯           </td><td>0.0003332889</td><td>0           </td><td>0.002333022 </td><td>0.004066125 </td><td>0.0000000000</td><td>0           </td><td>3           </td><td>0           </td><td>0           </td><td>48          </td></tr>\n",
       "\t<tr><td>T12_0_i1    </td><td>0.3998533   </td><td>0.0025336712</td><td>0           </td><td>0.0002000267</td><td>0.0004000533</td><td>0.04007201  </td><td>0.0120682758</td><td>0           </td><td>0.18935858  </td><td>⋯           </td><td>0.0052673690</td><td>0           </td><td>0.005267369 </td><td>0.004267236 </td><td>0.0002000267</td><td>0           </td><td>1           </td><td>0           </td><td>1           </td><td>48          </td></tr>\n",
       "\t<tr><td>T12_0_i2    </td><td>0.3691508   </td><td>0.0017997600</td><td>0           </td><td>0.0003332889</td><td>0.0000000000</td><td>0.09045461  </td><td>0.0009332089</td><td>0           </td><td>0.16631116  </td><td>⋯           </td><td>0.0027329689</td><td>0           </td><td>0.004266098 </td><td>0.005199307 </td><td>0.0003332889</td><td>0           </td><td>2           </td><td>0           </td><td>1           </td><td>48          </td></tr>\n",
       "\t<tr><td>T12_0_i3    </td><td>0.2610000   </td><td>0.0017333333</td><td>0           </td><td>0.0008666667</td><td>0.0012000000</td><td>0.06900000  </td><td>0.0006000000</td><td>0           </td><td>0.27040000  </td><td>⋯           </td><td>0.0035333333</td><td>0           </td><td>0.002666667 </td><td>0.007933333 </td><td>0.0000000000</td><td>0           </td><td>3           </td><td>0           </td><td>1           </td><td>48          </td></tr>\n",
       "</tbody>\n",
       "</table>\n"
      ],
      "text/latex": [
       "\\begin{tabular}{r|lllllllllllllllllllllllllllll}\n",
       " SAMPLE & Aeromonas\\_caviae\\_HAMBI\\_1972 & Agrobacterium\\_tumefaciens\\_HAMBI\\_105 & Azorhizobium\\_caulinodans\\_HAMBI\\_216 & Azospirillum\\_brasilense\\_HAMBI\\_3172 & Bordetella\\_avium\\_HAMBI\\_2160 & Citrobacter\\_koseri\\_HAMBI\\_1287 & Comamonas\\_testosteroni\\_HAMBI\\_403 & Cupriavidus\\_necator\\_HAMBI\\_2164 & Elizabethkingia\\_meningoseptica\\_HAMBI\\_1875 & ⋯ & Pseudomonas\\_putida\\_HAMBI\\_6 & Roseomonas\\_gilardii\\_HAMBI\\_2470 & Sphingobacterium\\_multivorum\\_HAMBI\\_1874 & Sphingobacterium\\_spiritivorum\\_HAMBI\\_1896 & Sphingobium\\_yanoikuyae\\_HAMBI\\_1842 & Stenotrophomonas\\_maltophilia\\_HAMBI\\_2659 & Replicate & Streptomycin & Immigration & Time\\_point\\\\\n",
       "\\hline\n",
       "\t T12\\_0\\_1  & 0.3844256    & 0.0002000133 & 0            & 0.0002000133 & 0.0018667911 & 0.01340089   & 0.0074004934 & 0            & 0.07880525   & ⋯            & 0.0011334089 & 0            & 0.017334489  & 0.006000400  & 0.0000000000 & 0            & 1            & 0            & 0            & 48          \\\\\n",
       "\t T12\\_0\\_2  & 0.4449037    & 0.0003333111 & 0            & 0.0009332711 & 0.0003333111 & 0.02393174   & 0.0000000000 & 0            & 0.14725685   & ⋯            & 0.0011332578 & 0            & 0.004199720  & 0.002066529  & 0.0000000000 & 0            & 2            & 0            & 0            & 48          \\\\\n",
       "\t T12\\_0\\_3  & 0.3595521    & 0.0003332889 & 0            & 0.0016664445 & 0.0001999733 & 0.04339421   & 0.0000000000 & 0            & 0.17071057   & ⋯            & 0.0003332889 & 0            & 0.002333022  & 0.004066125  & 0.0000000000 & 0            & 3            & 0            & 0            & 48          \\\\\n",
       "\t T12\\_0\\_i1 & 0.3998533    & 0.0025336712 & 0            & 0.0002000267 & 0.0004000533 & 0.04007201   & 0.0120682758 & 0            & 0.18935858   & ⋯            & 0.0052673690 & 0            & 0.005267369  & 0.004267236  & 0.0002000267 & 0            & 1            & 0            & 1            & 48          \\\\\n",
       "\t T12\\_0\\_i2 & 0.3691508    & 0.0017997600 & 0            & 0.0003332889 & 0.0000000000 & 0.09045461   & 0.0009332089 & 0            & 0.16631116   & ⋯            & 0.0027329689 & 0            & 0.004266098  & 0.005199307  & 0.0003332889 & 0            & 2            & 0            & 1            & 48          \\\\\n",
       "\t T12\\_0\\_i3 & 0.2610000    & 0.0017333333 & 0            & 0.0008666667 & 0.0012000000 & 0.06900000   & 0.0006000000 & 0            & 0.27040000   & ⋯            & 0.0035333333 & 0            & 0.002666667  & 0.007933333  & 0.0000000000 & 0            & 3            & 0            & 1            & 48          \\\\\n",
       "\\end{tabular}\n"
      ],
      "text/markdown": [
       "\n",
       "SAMPLE | Aeromonas_caviae_HAMBI_1972 | Agrobacterium_tumefaciens_HAMBI_105 | Azorhizobium_caulinodans_HAMBI_216 | Azospirillum_brasilense_HAMBI_3172 | Bordetella_avium_HAMBI_2160 | Citrobacter_koseri_HAMBI_1287 | Comamonas_testosteroni_HAMBI_403 | Cupriavidus_necator_HAMBI_2164 | Elizabethkingia_meningoseptica_HAMBI_1875 | ⋯ | Pseudomonas_putida_HAMBI_6 | Roseomonas_gilardii_HAMBI_2470 | Sphingobacterium_multivorum_HAMBI_1874 | Sphingobacterium_spiritivorum_HAMBI_1896 | Sphingobium_yanoikuyae_HAMBI_1842 | Stenotrophomonas_maltophilia_HAMBI_2659 | Replicate | Streptomycin | Immigration | Time_point | \n",
       "|---|---|---|---|---|---|\n",
       "| T12_0_1      | 0.3844256    | 0.0002000133 | 0            | 0.0002000133 | 0.0018667911 | 0.01340089   | 0.0074004934 | 0            | 0.07880525   | ⋯            | 0.0011334089 | 0            | 0.017334489  | 0.006000400  | 0.0000000000 | 0            | 1            | 0            | 0            | 48           | \n",
       "| T12_0_2      | 0.4449037    | 0.0003333111 | 0            | 0.0009332711 | 0.0003333111 | 0.02393174   | 0.0000000000 | 0            | 0.14725685   | ⋯            | 0.0011332578 | 0            | 0.004199720  | 0.002066529  | 0.0000000000 | 0            | 2            | 0            | 0            | 48           | \n",
       "| T12_0_3      | 0.3595521    | 0.0003332889 | 0            | 0.0016664445 | 0.0001999733 | 0.04339421   | 0.0000000000 | 0            | 0.17071057   | ⋯            | 0.0003332889 | 0            | 0.002333022  | 0.004066125  | 0.0000000000 | 0            | 3            | 0            | 0            | 48           | \n",
       "| T12_0_i1     | 0.3998533    | 0.0025336712 | 0            | 0.0002000267 | 0.0004000533 | 0.04007201   | 0.0120682758 | 0            | 0.18935858   | ⋯            | 0.0052673690 | 0            | 0.005267369  | 0.004267236  | 0.0002000267 | 0            | 1            | 0            | 1            | 48           | \n",
       "| T12_0_i2     | 0.3691508    | 0.0017997600 | 0            | 0.0003332889 | 0.0000000000 | 0.09045461   | 0.0009332089 | 0            | 0.16631116   | ⋯            | 0.0027329689 | 0            | 0.004266098  | 0.005199307  | 0.0003332889 | 0            | 2            | 0            | 1            | 48           | \n",
       "| T12_0_i3     | 0.2610000    | 0.0017333333 | 0            | 0.0008666667 | 0.0012000000 | 0.06900000   | 0.0006000000 | 0            | 0.27040000   | ⋯            | 0.0035333333 | 0            | 0.002666667  | 0.007933333  | 0.0000000000 | 0            | 3            | 0            | 1            | 48           | \n",
       "\n",
       "\n"
      ],
      "text/plain": [
       "  SAMPLE   Aeromonas_caviae_HAMBI_1972 Agrobacterium_tumefaciens_HAMBI_105\n",
       "1 T12_0_1  0.3844256                   0.0002000133                       \n",
       "2 T12_0_2  0.4449037                   0.0003333111                       \n",
       "3 T12_0_3  0.3595521                   0.0003332889                       \n",
       "4 T12_0_i1 0.3998533                   0.0025336712                       \n",
       "5 T12_0_i2 0.3691508                   0.0017997600                       \n",
       "6 T12_0_i3 0.2610000                   0.0017333333                       \n",
       "  Azorhizobium_caulinodans_HAMBI_216 Azospirillum_brasilense_HAMBI_3172\n",
       "1 0                                  0.0002000133                      \n",
       "2 0                                  0.0009332711                      \n",
       "3 0                                  0.0016664445                      \n",
       "4 0                                  0.0002000267                      \n",
       "5 0                                  0.0003332889                      \n",
       "6 0                                  0.0008666667                      \n",
       "  Bordetella_avium_HAMBI_2160 Citrobacter_koseri_HAMBI_1287\n",
       "1 0.0018667911                0.01340089                   \n",
       "2 0.0003333111                0.02393174                   \n",
       "3 0.0001999733                0.04339421                   \n",
       "4 0.0004000533                0.04007201                   \n",
       "5 0.0000000000                0.09045461                   \n",
       "6 0.0012000000                0.06900000                   \n",
       "  Comamonas_testosteroni_HAMBI_403 Cupriavidus_necator_HAMBI_2164\n",
       "1 0.0074004934                     0                             \n",
       "2 0.0000000000                     0                             \n",
       "3 0.0000000000                     0                             \n",
       "4 0.0120682758                     0                             \n",
       "5 0.0009332089                     0                             \n",
       "6 0.0006000000                     0                             \n",
       "  Elizabethkingia_meningoseptica_HAMBI_1875 ⋯ Pseudomonas_putida_HAMBI_6\n",
       "1 0.07880525                                ⋯ 0.0011334089              \n",
       "2 0.14725685                                ⋯ 0.0011332578              \n",
       "3 0.17071057                                ⋯ 0.0003332889              \n",
       "4 0.18935858                                ⋯ 0.0052673690              \n",
       "5 0.16631116                                ⋯ 0.0027329689              \n",
       "6 0.27040000                                ⋯ 0.0035333333              \n",
       "  Roseomonas_gilardii_HAMBI_2470 Sphingobacterium_multivorum_HAMBI_1874\n",
       "1 0                              0.017334489                           \n",
       "2 0                              0.004199720                           \n",
       "3 0                              0.002333022                           \n",
       "4 0                              0.005267369                           \n",
       "5 0                              0.004266098                           \n",
       "6 0                              0.002666667                           \n",
       "  Sphingobacterium_spiritivorum_HAMBI_1896 Sphingobium_yanoikuyae_HAMBI_1842\n",
       "1 0.006000400                              0.0000000000                     \n",
       "2 0.002066529                              0.0000000000                     \n",
       "3 0.004066125                              0.0000000000                     \n",
       "4 0.004267236                              0.0002000267                     \n",
       "5 0.005199307                              0.0003332889                     \n",
       "6 0.007933333                              0.0000000000                     \n",
       "  Stenotrophomonas_maltophilia_HAMBI_2659 Replicate Streptomycin Immigration\n",
       "1 0                                       1         0            0          \n",
       "2 0                                       2         0            0          \n",
       "3 0                                       3         0            0          \n",
       "4 0                                       1         0            1          \n",
       "5 0                                       2         0            1          \n",
       "6 0                                       3         0            1          \n",
       "  Time_point\n",
       "1 48        \n",
       "2 48        \n",
       "3 48        \n",
       "4 48        \n",
       "5 48        \n",
       "6 48        "
      ]
     },
     "metadata": {},
     "output_type": "display_data"
    }
   ],
   "source": [
    "# Read in data\n",
    "\n",
    "species_composition = read.table(\"../../../data/amplicon/species_composition_relative_abundance.txt\", \n",
    "                                 sep = \"\\t\",\n",
    "                                 header = T,\n",
    "                                 row.names = 1)\n",
    "\n",
    "metadata = read.table(\"../../../data/amplicon/metadata.txt\",\n",
    "                      sep = \"\\t\",\n",
    "                      header = T,\n",
    "                      row.names = 1)\n",
    "\n",
    "\n",
    "# Extract regime shift data without predation\n",
    "\n",
    "x = metadata$Experiment != \"FiltrateExp\" & # keep only regime shift data\n",
    "    metadata$Predation != 1 & # exclude predation\n",
    "    metadata$Immigration != \"stock\" # exclude stock\n",
    "\n",
    "# Subset\n",
    "\n",
    "species_composition = species_composition[x,] # keep only species with data\n",
    "species_composition = species_composition[,colSums(species_composition)>0]\n",
    "metadata = metadata[x,-c(3, 6)] # remove redundant columns\n",
    "# metadata$ID = paste(metadata$Streptomycin, metadata$Immigration, metadata$Replicate, sep = \"_\")\n",
    "# metadata$ID = as.factor(metadata$ID)\n",
    "species_composition$SAMPLE = rownames(species_composition)\n",
    "metadata$SAMPLE = rownames(metadata)\n",
    "\n",
    "df = merge(species_composition, metadata, all = T)\n",
    "head(df)"
   ]
  },
  {
   "cell_type": "code",
   "execution_count": 11,
   "metadata": {},
   "outputs": [
    {
     "name": "stderr",
     "output_type": "stream",
     "text": [
      "\n",
      "Attaching package: ‘tidyr’\n",
      "\n",
      "The following object is masked from ‘package:reshape2’:\n",
      "\n",
      "    smiths\n",
      "\n",
      "The following object is masked from ‘package:igraph’:\n",
      "\n",
      "    crossing\n",
      "\n"
     ]
    },
    {
     "data": {
      "text/html": [
       "<table>\n",
       "<thead><tr><th scope=col>Replicate</th><th scope=col>Streptomycin</th><th scope=col>Immigration</th><th scope=col>Species</th><th scope=col>16</th><th scope=col>32</th><th scope=col>48</th></tr></thead>\n",
       "<tbody>\n",
       "\t<tr><td>1                                  </td><td>0                                  </td><td>0                                  </td><td>Aeromonas_caviae_HAMBI_1972        </td><td>0.25924938                         </td><td>0.3369333333                       </td><td>0.3844256284                       </td></tr>\n",
       "\t<tr><td>1                                  </td><td>0                                  </td><td>0                                  </td><td>Agrobacterium_tumefaciens_HAMBI_105</td><td>0.00539964                         </td><td>0.0014000000                       </td><td>0.0002000133                       </td></tr>\n",
       "\t<tr><td>1                                  </td><td>0                                  </td><td>0                                  </td><td>Azorhizobium_caulinodans_HAMBI_216 </td><td>0.00000000                         </td><td>0.0000000000                       </td><td>0.0000000000                       </td></tr>\n",
       "\t<tr><td>1                                  </td><td>0                                  </td><td>0                                  </td><td>Azospirillum_brasilense_HAMBI_3172 </td><td>0.00059996                         </td><td>0.0018666667                       </td><td>0.0002000133                       </td></tr>\n",
       "\t<tr><td>1                                  </td><td>0                                  </td><td>0                                  </td><td>Bordetella_avium_HAMBI_2160        </td><td>0.00299980                         </td><td>0.0009333333                       </td><td>0.0018667911                       </td></tr>\n",
       "\t<tr><td>1                                  </td><td>0                                  </td><td>0                                  </td><td>Citrobacter_koseri_HAMBI_1287      </td><td>0.25024998                         </td><td>0.0578666667                       </td><td>0.0134008934                       </td></tr>\n",
       "</tbody>\n",
       "</table>\n"
      ],
      "text/latex": [
       "\\begin{tabular}{r|lllllll}\n",
       " Replicate & Streptomycin & Immigration & Species & 16 & 32 & 48\\\\\n",
       "\\hline\n",
       "\t 1                                         & 0                                         & 0                                         & Aeromonas\\_caviae\\_HAMBI\\_1972         & 0.25924938                                & 0.3369333333                              & 0.3844256284                             \\\\\n",
       "\t 1                                         & 0                                         & 0                                         & Agrobacterium\\_tumefaciens\\_HAMBI\\_105 & 0.00539964                                & 0.0014000000                              & 0.0002000133                             \\\\\n",
       "\t 1                                         & 0                                         & 0                                         & Azorhizobium\\_caulinodans\\_HAMBI\\_216  & 0.00000000                                & 0.0000000000                              & 0.0000000000                             \\\\\n",
       "\t 1                                         & 0                                         & 0                                         & Azospirillum\\_brasilense\\_HAMBI\\_3172  & 0.00059996                                & 0.0018666667                              & 0.0002000133                             \\\\\n",
       "\t 1                                         & 0                                         & 0                                         & Bordetella\\_avium\\_HAMBI\\_2160         & 0.00299980                                & 0.0009333333                              & 0.0018667911                             \\\\\n",
       "\t 1                                         & 0                                         & 0                                         & Citrobacter\\_koseri\\_HAMBI\\_1287       & 0.25024998                                & 0.0578666667                              & 0.0134008934                             \\\\\n",
       "\\end{tabular}\n"
      ],
      "text/markdown": [
       "\n",
       "Replicate | Streptomycin | Immigration | Species | 16 | 32 | 48 | \n",
       "|---|---|---|---|---|---|\n",
       "| 1                                   | 0                                   | 0                                   | Aeromonas_caviae_HAMBI_1972         | 0.25924938                          | 0.3369333333                        | 0.3844256284                        | \n",
       "| 1                                   | 0                                   | 0                                   | Agrobacterium_tumefaciens_HAMBI_105 | 0.00539964                          | 0.0014000000                        | 0.0002000133                        | \n",
       "| 1                                   | 0                                   | 0                                   | Azorhizobium_caulinodans_HAMBI_216  | 0.00000000                          | 0.0000000000                        | 0.0000000000                        | \n",
       "| 1                                   | 0                                   | 0                                   | Azospirillum_brasilense_HAMBI_3172  | 0.00059996                          | 0.0018666667                        | 0.0002000133                        | \n",
       "| 1                                   | 0                                   | 0                                   | Bordetella_avium_HAMBI_2160         | 0.00299980                          | 0.0009333333                        | 0.0018667911                        | \n",
       "| 1                                   | 0                                   | 0                                   | Citrobacter_koseri_HAMBI_1287       | 0.25024998                          | 0.0578666667                        | 0.0134008934                        | \n",
       "\n",
       "\n"
      ],
      "text/plain": [
       "  Replicate Streptomycin Immigration Species                            \n",
       "1 1         0            0           Aeromonas_caviae_HAMBI_1972        \n",
       "2 1         0            0           Agrobacterium_tumefaciens_HAMBI_105\n",
       "3 1         0            0           Azorhizobium_caulinodans_HAMBI_216 \n",
       "4 1         0            0           Azospirillum_brasilense_HAMBI_3172 \n",
       "5 1         0            0           Bordetella_avium_HAMBI_2160        \n",
       "6 1         0            0           Citrobacter_koseri_HAMBI_1287      \n",
       "  16         32           48          \n",
       "1 0.25924938 0.3369333333 0.3844256284\n",
       "2 0.00539964 0.0014000000 0.0002000133\n",
       "3 0.00000000 0.0000000000 0.0000000000\n",
       "4 0.00059996 0.0018666667 0.0002000133\n",
       "5 0.00299980 0.0009333333 0.0018667911\n",
       "6 0.25024998 0.0578666667 0.0134008934"
      ]
     },
     "metadata": {},
     "output_type": "display_data"
    }
   ],
   "source": [
    "library(tidyr)\n",
    "df2 = melt(df[,-1], id.vars = c(\"Replicate\", \"Streptomycin\", \"Immigration\", \"Time_point\"))\n",
    "colnames(df2) = c(\"Replicate\", \"Streptomycin\", \"Immigration\", \"Time_point\", \"Species\", \"Abundance\")\n",
    "df3 = spread(df2, Time_point, Abundance)\n",
    "head(df3)"
   ]
  },
  {
   "cell_type": "code",
   "execution_count": 15,
   "metadata": {},
   "outputs": [
    {
     "data": {
      "text/html": [
       "<table>\n",
       "<thead><tr><th scope=col>Species</th><th scope=col>16</th><th scope=col>32</th><th scope=col>48</th></tr></thead>\n",
       "<tbody>\n",
       "\t<tr><td>Aeromonas_caviae_HAMBI_1972        </td><td>0.25924938                         </td><td>0.3369333333                       </td><td>0.3844256284                       </td></tr>\n",
       "\t<tr><td>Agrobacterium_tumefaciens_HAMBI_105</td><td>0.00539964                         </td><td>0.0014000000                       </td><td>0.0002000133                       </td></tr>\n",
       "\t<tr><td>Azorhizobium_caulinodans_HAMBI_216 </td><td>0.00000000                         </td><td>0.0000000000                       </td><td>0.0000000000                       </td></tr>\n",
       "\t<tr><td>Azospirillum_brasilense_HAMBI_3172 </td><td>0.00059996                         </td><td>0.0018666667                       </td><td>0.0002000133                       </td></tr>\n",
       "\t<tr><td>Bordetella_avium_HAMBI_2160        </td><td>0.00299980                         </td><td>0.0009333333                       </td><td>0.0018667911                       </td></tr>\n",
       "\t<tr><td>Citrobacter_koseri_HAMBI_1287      </td><td>0.25024998                         </td><td>0.0578666667                       </td><td>0.0134008934                       </td></tr>\n",
       "</tbody>\n",
       "</table>\n"
      ],
      "text/latex": [
       "\\begin{tabular}{r|llll}\n",
       " Species & 16 & 32 & 48\\\\\n",
       "\\hline\n",
       "\t Aeromonas\\_caviae\\_HAMBI\\_1972         & 0.25924938                                & 0.3369333333                              & 0.3844256284                             \\\\\n",
       "\t Agrobacterium\\_tumefaciens\\_HAMBI\\_105 & 0.00539964                                & 0.0014000000                              & 0.0002000133                             \\\\\n",
       "\t Azorhizobium\\_caulinodans\\_HAMBI\\_216  & 0.00000000                                & 0.0000000000                              & 0.0000000000                             \\\\\n",
       "\t Azospirillum\\_brasilense\\_HAMBI\\_3172  & 0.00059996                                & 0.0018666667                              & 0.0002000133                             \\\\\n",
       "\t Bordetella\\_avium\\_HAMBI\\_2160         & 0.00299980                                & 0.0009333333                              & 0.0018667911                             \\\\\n",
       "\t Citrobacter\\_koseri\\_HAMBI\\_1287       & 0.25024998                                & 0.0578666667                              & 0.0134008934                             \\\\\n",
       "\\end{tabular}\n"
      ],
      "text/markdown": [
       "\n",
       "Species | 16 | 32 | 48 | \n",
       "|---|---|---|---|---|---|\n",
       "| Aeromonas_caviae_HAMBI_1972         | 0.25924938                          | 0.3369333333                        | 0.3844256284                        | \n",
       "| Agrobacterium_tumefaciens_HAMBI_105 | 0.00539964                          | 0.0014000000                        | 0.0002000133                        | \n",
       "| Azorhizobium_caulinodans_HAMBI_216  | 0.00000000                          | 0.0000000000                        | 0.0000000000                        | \n",
       "| Azospirillum_brasilense_HAMBI_3172  | 0.00059996                          | 0.0018666667                        | 0.0002000133                        | \n",
       "| Bordetella_avium_HAMBI_2160         | 0.00299980                          | 0.0009333333                        | 0.0018667911                        | \n",
       "| Citrobacter_koseri_HAMBI_1287       | 0.25024998                          | 0.0578666667                        | 0.0134008934                        | \n",
       "\n",
       "\n"
      ],
      "text/plain": [
       "  Species                             16         32           48          \n",
       "1 Aeromonas_caviae_HAMBI_1972         0.25924938 0.3369333333 0.3844256284\n",
       "2 Agrobacterium_tumefaciens_HAMBI_105 0.00539964 0.0014000000 0.0002000133\n",
       "3 Azorhizobium_caulinodans_HAMBI_216  0.00000000 0.0000000000 0.0000000000\n",
       "4 Azospirillum_brasilense_HAMBI_3172  0.00059996 0.0018666667 0.0002000133\n",
       "5 Bordetella_avium_HAMBI_2160         0.00299980 0.0009333333 0.0018667911\n",
       "6 Citrobacter_koseri_HAMBI_1287       0.25024998 0.0578666667 0.0134008934"
      ]
     },
     "metadata": {},
     "output_type": "display_data"
    }
   ],
   "source": [
    "df4 = df3\n",
    "#rownames(df4) = df4$Species\n",
    "df4 = df4[,-c(1:3)]\n",
    "head(df4)"
   ]
  },
  {
   "cell_type": "code",
   "execution_count": 22,
   "metadata": {},
   "outputs": [
    {
     "name": "stdout",
     "output_type": "stream",
     "text": [
      "[1] \"Time series has 20 taxa\"\n"
     ]
    },
    {
     "ename": "ERROR",
     "evalue": "Error in inbag[, test]: incorrect number of dimensions\n",
     "output_type": "error",
     "traceback": [
      "Error in inbag[, test]: incorrect number of dimensions\nTraceback:\n",
      "1. limits(df5)",
      "2. limitscolumnwise(x, 1, indices.perturb, r = bagging.iter)",
      "3. restrictedleastsquare(data1, data2, test)",
      "4. as.matrix(inbag[, test])"
     ]
    }
   ],
   "source": [
    "# Now, we run LIMITS to test how well it can infer the known interaction matrix from the time series.\n",
    "# LIMITS was developed by Fisher and Mehta PLoS ONE 2014. LIMITS needs a minute to run and then returns the \n",
    "# estimated interaction matrix.\n",
    "\n",
    "df5 = df4[1:20,]\n",
    "rownames(df5) = df5$Species\n",
    "df5 = df5[,-1]\n",
    "Aest=limits(df5)$Aest"
   ]
  },
  {
   "cell_type": "code",
   "execution_count": 5,
   "metadata": {},
   "outputs": [],
   "source": [
    "?limits"
   ]
  },
  {
   "cell_type": "code",
   "execution_count": 18,
   "metadata": {},
   "outputs": [
    {
     "name": "stdout",
     "output_type": "stream",
     "text": [
      "[1] \"Adjusting connectance to 0.1\"\n",
      "[1] \"Initial edge number 400\"\n",
      "[1] \"Initial connectance 1\"\n",
      "[1] \"Number of edges removed 342\"\n",
      "[1] \"Final connectance 0.1\"\n",
      "[1] \"Final connectance: 0.1\"\n"
     ]
    },
    {
     "data": {
      "text/html": [
       "<table>\n",
       "<tbody>\n",
       "\t<tr><td>0.9971671 </td><td>0.8480031 </td><td>0.71564910</td><td>0.61689929</td><td>0.60152336</td><td>0.55401806</td><td>0.47237751</td><td>0.41647955</td><td>0.40765710</td><td>0.36556431</td><td>⋯         </td><td>0.08381350</td><td>0.08043918</td><td>0.08228280</td><td>0.07816321</td><td>0.08318633</td><td>0.08677965</td><td>0.09068209</td><td>0.08201993</td><td>0.07920455</td><td>0.07965279</td></tr>\n",
       "\t<tr><td>0.9371940 </td><td>0.4294581 </td><td>0.26989660</td><td>0.19730453</td><td>0.15226727</td><td>0.12015399</td><td>0.10450445</td><td>0.10206388</td><td>0.09448823</td><td>0.08937736</td><td>⋯         </td><td>0.12143940</td><td>0.12666100</td><td>0.11230648</td><td>0.12034496</td><td>0.11154950</td><td>0.11313869</td><td>0.11183468</td><td>0.10766917</td><td>0.10694824</td><td>0.09897515</td></tr>\n",
       "\t<tr><td>0.8242854 </td><td>0.6300563 </td><td>0.53221101</td><td>0.48241600</td><td>0.40029298</td><td>0.35231515</td><td>0.32743172</td><td>0.27846933</td><td>0.26503409</td><td>0.25564131</td><td>⋯         </td><td>0.07972606</td><td>0.08165694</td><td>0.08665890</td><td>0.09005659</td><td>0.09300380</td><td>0.09270486</td><td>0.09460445</td><td>0.09235001</td><td>0.09177056</td><td>0.10215679</td></tr>\n",
       "\t<tr><td>0.3785881 </td><td>0.3742419 </td><td>0.39185057</td><td>0.39054711</td><td>0.38883753</td><td>0.40144090</td><td>0.34066038</td><td>0.33264130</td><td>0.34950435</td><td>0.35054680</td><td>⋯         </td><td>0.09420127</td><td>0.09568274</td><td>0.09882488</td><td>0.10246759</td><td>0.10920215</td><td>0.11536973</td><td>0.11168952</td><td>0.11696846</td><td>0.11166969</td><td>0.11118927</td></tr>\n",
       "\t<tr><td>0.1058598 </td><td>0.1010277 </td><td>0.08718633</td><td>0.08251744</td><td>0.07993829</td><td>0.08302193</td><td>0.08066275</td><td>0.07815466</td><td>0.07381090</td><td>0.07694869</td><td>⋯         </td><td>0.08143023</td><td>0.07920778</td><td>0.08696396</td><td>0.08946108</td><td>0.08065644</td><td>0.07828138</td><td>0.07604544</td><td>0.07300593</td><td>0.07092801</td><td>0.07573419</td></tr>\n",
       "\t<tr><td>0.3866218 </td><td>0.2242645 </td><td>0.15744990</td><td>0.12057384</td><td>0.09918852</td><td>0.07933193</td><td>0.06698868</td><td>0.05559905</td><td>0.04709772</td><td>0.04303166</td><td>⋯         </td><td>0.05700673</td><td>0.06472928</td><td>0.06800543</td><td>0.07032188</td><td>0.06958639</td><td>0.07813768</td><td>0.07718179</td><td>0.07196095</td><td>0.07644638</td><td>0.08232764</td></tr>\n",
       "</tbody>\n",
       "</table>\n"
      ],
      "text/latex": [
       "\\begin{tabular}{llllllllllllllllllllllllllllllllllllllllllllllllllllllllllllllllllllllllllllllllllllllllllllllllllll}\n",
       "\t 0.9971671  & 0.8480031  & 0.71564910 & 0.61689929 & 0.60152336 & 0.55401806 & 0.47237751 & 0.41647955 & 0.40765710 & 0.36556431 & ⋯          & 0.08381350 & 0.08043918 & 0.08228280 & 0.07816321 & 0.08318633 & 0.08677965 & 0.09068209 & 0.08201993 & 0.07920455 & 0.07965279\\\\\n",
       "\t 0.9371940  & 0.4294581  & 0.26989660 & 0.19730453 & 0.15226727 & 0.12015399 & 0.10450445 & 0.10206388 & 0.09448823 & 0.08937736 & ⋯          & 0.12143940 & 0.12666100 & 0.11230648 & 0.12034496 & 0.11154950 & 0.11313869 & 0.11183468 & 0.10766917 & 0.10694824 & 0.09897515\\\\\n",
       "\t 0.8242854  & 0.6300563  & 0.53221101 & 0.48241600 & 0.40029298 & 0.35231515 & 0.32743172 & 0.27846933 & 0.26503409 & 0.25564131 & ⋯          & 0.07972606 & 0.08165694 & 0.08665890 & 0.09005659 & 0.09300380 & 0.09270486 & 0.09460445 & 0.09235001 & 0.09177056 & 0.10215679\\\\\n",
       "\t 0.3785881  & 0.3742419  & 0.39185057 & 0.39054711 & 0.38883753 & 0.40144090 & 0.34066038 & 0.33264130 & 0.34950435 & 0.35054680 & ⋯          & 0.09420127 & 0.09568274 & 0.09882488 & 0.10246759 & 0.10920215 & 0.11536973 & 0.11168952 & 0.11696846 & 0.11166969 & 0.11118927\\\\\n",
       "\t 0.1058598  & 0.1010277  & 0.08718633 & 0.08251744 & 0.07993829 & 0.08302193 & 0.08066275 & 0.07815466 & 0.07381090 & 0.07694869 & ⋯          & 0.08143023 & 0.07920778 & 0.08696396 & 0.08946108 & 0.08065644 & 0.07828138 & 0.07604544 & 0.07300593 & 0.07092801 & 0.07573419\\\\\n",
       "\t 0.3866218  & 0.2242645  & 0.15744990 & 0.12057384 & 0.09918852 & 0.07933193 & 0.06698868 & 0.05559905 & 0.04709772 & 0.04303166 & ⋯          & 0.05700673 & 0.06472928 & 0.06800543 & 0.07032188 & 0.06958639 & 0.07813768 & 0.07718179 & 0.07196095 & 0.07644638 & 0.08232764\\\\\n",
       "\\end{tabular}\n"
      ],
      "text/markdown": [
       "\n",
       "| 0.9971671  | 0.8480031  | 0.71564910 | 0.61689929 | 0.60152336 | 0.55401806 | 0.47237751 | 0.41647955 | 0.40765710 | 0.36556431 | ⋯          | 0.08381350 | 0.08043918 | 0.08228280 | 0.07816321 | 0.08318633 | 0.08677965 | 0.09068209 | 0.08201993 | 0.07920455 | 0.07965279 | \n",
       "| 0.9371940  | 0.4294581  | 0.26989660 | 0.19730453 | 0.15226727 | 0.12015399 | 0.10450445 | 0.10206388 | 0.09448823 | 0.08937736 | ⋯          | 0.12143940 | 0.12666100 | 0.11230648 | 0.12034496 | 0.11154950 | 0.11313869 | 0.11183468 | 0.10766917 | 0.10694824 | 0.09897515 | \n",
       "| 0.8242854  | 0.6300563  | 0.53221101 | 0.48241600 | 0.40029298 | 0.35231515 | 0.32743172 | 0.27846933 | 0.26503409 | 0.25564131 | ⋯          | 0.07972606 | 0.08165694 | 0.08665890 | 0.09005659 | 0.09300380 | 0.09270486 | 0.09460445 | 0.09235001 | 0.09177056 | 0.10215679 | \n",
       "| 0.3785881  | 0.3742419  | 0.39185057 | 0.39054711 | 0.38883753 | 0.40144090 | 0.34066038 | 0.33264130 | 0.34950435 | 0.35054680 | ⋯          | 0.09420127 | 0.09568274 | 0.09882488 | 0.10246759 | 0.10920215 | 0.11536973 | 0.11168952 | 0.11696846 | 0.11166969 | 0.11118927 | \n",
       "| 0.1058598  | 0.1010277  | 0.08718633 | 0.08251744 | 0.07993829 | 0.08302193 | 0.08066275 | 0.07815466 | 0.07381090 | 0.07694869 | ⋯          | 0.08143023 | 0.07920778 | 0.08696396 | 0.08946108 | 0.08065644 | 0.07828138 | 0.07604544 | 0.07300593 | 0.07092801 | 0.07573419 | \n",
       "| 0.3866218  | 0.2242645  | 0.15744990 | 0.12057384 | 0.09918852 | 0.07933193 | 0.06698868 | 0.05559905 | 0.04709772 | 0.04303166 | ⋯          | 0.05700673 | 0.06472928 | 0.06800543 | 0.07032188 | 0.06958639 | 0.07813768 | 0.07718179 | 0.07196095 | 0.07644638 | 0.08232764 | \n",
       "\n",
       "\n"
      ],
      "text/plain": [
       "     [,1]      [,2]      [,3]       [,4]       [,5]       [,6]       [,7]      \n",
       "[1,] 0.9971671 0.8480031 0.71564910 0.61689929 0.60152336 0.55401806 0.47237751\n",
       "[2,] 0.9371940 0.4294581 0.26989660 0.19730453 0.15226727 0.12015399 0.10450445\n",
       "[3,] 0.8242854 0.6300563 0.53221101 0.48241600 0.40029298 0.35231515 0.32743172\n",
       "[4,] 0.3785881 0.3742419 0.39185057 0.39054711 0.38883753 0.40144090 0.34066038\n",
       "[5,] 0.1058598 0.1010277 0.08718633 0.08251744 0.07993829 0.08302193 0.08066275\n",
       "[6,] 0.3866218 0.2242645 0.15744990 0.12057384 0.09918852 0.07933193 0.06698868\n",
       "     [,8]       [,9]       [,10]      [,11] [,12]      [,13]      [,14]     \n",
       "[1,] 0.41647955 0.40765710 0.36556431 ⋯     0.08381350 0.08043918 0.08228280\n",
       "[2,] 0.10206388 0.09448823 0.08937736 ⋯     0.12143940 0.12666100 0.11230648\n",
       "[3,] 0.27846933 0.26503409 0.25564131 ⋯     0.07972606 0.08165694 0.08665890\n",
       "[4,] 0.33264130 0.34950435 0.35054680 ⋯     0.09420127 0.09568274 0.09882488\n",
       "[5,] 0.07815466 0.07381090 0.07694869 ⋯     0.08143023 0.07920778 0.08696396\n",
       "[6,] 0.05559905 0.04709772 0.04303166 ⋯     0.05700673 0.06472928 0.06800543\n",
       "     [,15]      [,16]      [,17]      [,18]      [,19]      [,20]     \n",
       "[1,] 0.07816321 0.08318633 0.08677965 0.09068209 0.08201993 0.07920455\n",
       "[2,] 0.12034496 0.11154950 0.11313869 0.11183468 0.10766917 0.10694824\n",
       "[3,] 0.09005659 0.09300380 0.09270486 0.09460445 0.09235001 0.09177056\n",
       "[4,] 0.10246759 0.10920215 0.11536973 0.11168952 0.11696846 0.11166969\n",
       "[5,] 0.08946108 0.08065644 0.07828138 0.07604544 0.07300593 0.07092801\n",
       "[6,] 0.07032188 0.06958639 0.07813768 0.07718179 0.07196095 0.07644638\n",
       "     [,21]     \n",
       "[1,] 0.07965279\n",
       "[2,] 0.09897515\n",
       "[3,] 0.10215679\n",
       "[4,] 0.11118927\n",
       "[5,] 0.07573419\n",
       "[6,] 0.08232764"
      ]
     },
     "metadata": {},
     "output_type": "display_data"
    }
   ],
   "source": [
    "N=20\n",
    "A=generateA(N, c=0.1)\n",
    "rownames(A)=c(1:N)\n",
    "colnames(A)=rownames(A)\n",
    "out.ricker=ricker(N,A=A)\n",
    "head(out.ricker)"
   ]
  }
 ],
 "metadata": {
  "kernelspec": {
   "display_name": "R",
   "language": "R",
   "name": "ir"
  },
  "language_info": {
   "codemirror_mode": "r",
   "file_extension": ".r",
   "mimetype": "text/x-r-source",
   "name": "R",
   "pygments_lexer": "r",
   "version": "3.5.1"
  }
 },
 "nbformat": 4,
 "nbformat_minor": 2
}
