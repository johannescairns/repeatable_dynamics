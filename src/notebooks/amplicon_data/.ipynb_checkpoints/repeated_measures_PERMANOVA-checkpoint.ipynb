{
 "cells": [
  {
   "cell_type": "markdown",
   "metadata": {},
   "source": [
    "# Repeated measures PERMANOVA\n",
    "\n",
    "##### Source: https://r-sig-ecology.r-project.narkive.com/NH1Yjc87/nested-permanova-with-repeated-measures"
   ]
  },
  {
   "cell_type": "code",
   "execution_count": 13,
   "metadata": {},
   "outputs": [
    {
     "name": "stderr",
     "output_type": "stream",
     "text": [
      "*** Package RVAideMemoire v 0.9-72 ***\n"
     ]
    }
   ],
   "source": [
    "# Housekeeping\n",
    "\n",
    "library(BiodiversityR)\n",
    "library(RVAideMemoire)\n",
    "library(vegan)"
   ]
  },
  {
   "cell_type": "code",
   "execution_count": 9,
   "metadata": {},
   "outputs": [
    {
     "data": {
      "text/html": [
       "<table>\n",
       "<thead><tr><th></th><th scope=col>Acinetobacter_lwoffii_HAMBI_97</th><th scope=col>Aeromonas_caviae_HAMBI_1972</th><th scope=col>Agrobacterium_tumefaciens_HAMBI_105</th><th scope=col>Azorhizobium_caulinodans_HAMBI_216</th><th scope=col>Azospirillum_brasilense_HAMBI_3172</th><th scope=col>Bordetella_avium_HAMBI_2160</th><th scope=col>Brevundimonas_bullata_HAMBI_262</th><th scope=col>Chitinophaga_sancti_HAMBI_1988</th><th scope=col>Citrobacter_koseri_HAMBI_1287</th><th scope=col>Comamonas_testosteroni_HAMBI_403</th><th scope=col>⋯</th><th scope=col>Paraburkholderia_caryophylli_HAMBI_2159</th><th scope=col>Paracoccus_denitrificans_HAMBI_2443</th><th scope=col>Pseudomonas_chlororaphis_HAMBI_1977</th><th scope=col>Pseudomonas_putida_HAMBI_6</th><th scope=col>Roseomonas_gilardii_HAMBI_2470</th><th scope=col>Sphingobacterium_multivorum_HAMBI_1874</th><th scope=col>Sphingobacterium_spiritivorum_HAMBI_1896</th><th scope=col>Sphingobium_yanoikuyae_HAMBI_1842</th><th scope=col>Stenotrophomonas_maltophilia_HAMBI_2659</th><th scope=col>Thermomonas_haemolytica_HAMBI_2467</th></tr></thead>\n",
       "<tbody>\n",
       "\t<tr><th scope=row>T12_0_1</th><td>0           </td><td>0.3844256   </td><td>0.0002000133</td><td>0           </td><td>0.0002000133</td><td>0.0018667911</td><td>0           </td><td>0           </td><td>0.01340089  </td><td>0.0074004934</td><td>⋯           </td><td>0           </td><td>6.667111e-05</td><td>0.4874992   </td><td>0.0011334089</td><td>0           </td><td>0.01733449  </td><td>0.006000400 </td><td>0           </td><td>0           </td><td>0           </td></tr>\n",
       "\t<tr><th scope=row>T4_0_1</th><td>0           </td><td>0.2592494   </td><td>0.0053996400</td><td>0           </td><td>0.0005999600</td><td>0.0029998000</td><td>0           </td><td>0           </td><td>0.25024998  </td><td>0.0000000000</td><td>⋯           </td><td>0           </td><td>0.000000e+00</td><td>0.2353176   </td><td>0.0035997600</td><td>0           </td><td>0.02986468  </td><td>0.007199520 </td><td>0           </td><td>0           </td><td>0           </td></tr>\n",
       "\t<tr><th scope=row>T8_0_1</th><td>0           </td><td>0.3369333   </td><td>0.0014000000</td><td>0           </td><td>0.0018666667</td><td>0.0009333333</td><td>0           </td><td>0           </td><td>0.05786667  </td><td>0.0004666667</td><td>⋯           </td><td>0           </td><td>0.000000e+00</td><td>0.2682667   </td><td>0.0009333333</td><td>0           </td><td>0.01553333  </td><td>0.021200000 </td><td>0           </td><td>0           </td><td>0           </td></tr>\n",
       "\t<tr><th scope=row>T12_0_2</th><td>0           </td><td>0.4449037   </td><td>0.0003333111</td><td>0           </td><td>0.0009332711</td><td>0.0003333111</td><td>0           </td><td>0           </td><td>0.02393174  </td><td>0.0000000000</td><td>⋯           </td><td>0           </td><td>3.333111e-04</td><td>0.3661756   </td><td>0.0011332578</td><td>0           </td><td>0.00419972  </td><td>0.002066529 </td><td>0           </td><td>0           </td><td>0           </td></tr>\n",
       "\t<tr><th scope=row>T4_0_2</th><td>0           </td><td>0.2985731   </td><td>0.0048673156</td><td>0           </td><td>0.0006000800</td><td>0.0030670756</td><td>0           </td><td>0           </td><td>0.22102947  </td><td>0.0000000000</td><td>⋯           </td><td>0           </td><td>0.000000e+00</td><td>0.2460328   </td><td>0.0006000800</td><td>0           </td><td>0.01100147  </td><td>0.004867316 </td><td>0           </td><td>0           </td><td>0           </td></tr>\n",
       "\t<tr><th scope=row>T8_0_2</th><td>0           </td><td>0.3038464   </td><td>0.0039997334</td><td>0           </td><td>0.0011332578</td><td>0.0011332578</td><td>0           </td><td>0           </td><td>0.06899540  </td><td>0.0005999600</td><td>⋯           </td><td>0           </td><td>0.000000e+00</td><td>0.2411173   </td><td>0.0022665156</td><td>0           </td><td>0.02226518  </td><td>0.013665756 </td><td>0           </td><td>0           </td><td>0           </td></tr>\n",
       "</tbody>\n",
       "</table>\n"
      ],
      "text/latex": [
       "\\begin{tabular}{r|lllllllllllllllllllllllllllll}\n",
       "  & Acinetobacter\\_lwoffii\\_HAMBI\\_97 & Aeromonas\\_caviae\\_HAMBI\\_1972 & Agrobacterium\\_tumefaciens\\_HAMBI\\_105 & Azorhizobium\\_caulinodans\\_HAMBI\\_216 & Azospirillum\\_brasilense\\_HAMBI\\_3172 & Bordetella\\_avium\\_HAMBI\\_2160 & Brevundimonas\\_bullata\\_HAMBI\\_262 & Chitinophaga\\_sancti\\_HAMBI\\_1988 & Citrobacter\\_koseri\\_HAMBI\\_1287 & Comamonas\\_testosteroni\\_HAMBI\\_403 & ⋯ & Paraburkholderia\\_caryophylli\\_HAMBI\\_2159 & Paracoccus\\_denitrificans\\_HAMBI\\_2443 & Pseudomonas\\_chlororaphis\\_HAMBI\\_1977 & Pseudomonas\\_putida\\_HAMBI\\_6 & Roseomonas\\_gilardii\\_HAMBI\\_2470 & Sphingobacterium\\_multivorum\\_HAMBI\\_1874 & Sphingobacterium\\_spiritivorum\\_HAMBI\\_1896 & Sphingobium\\_yanoikuyae\\_HAMBI\\_1842 & Stenotrophomonas\\_maltophilia\\_HAMBI\\_2659 & Thermomonas\\_haemolytica\\_HAMBI\\_2467\\\\\n",
       "\\hline\n",
       "\tT12\\_0\\_1 & 0            & 0.3844256    & 0.0002000133 & 0            & 0.0002000133 & 0.0018667911 & 0            & 0            & 0.01340089   & 0.0074004934 & ⋯            & 0            & 6.667111e-05 & 0.4874992    & 0.0011334089 & 0            & 0.01733449   & 0.006000400  & 0            & 0            & 0           \\\\\n",
       "\tT4\\_0\\_1 & 0            & 0.2592494    & 0.0053996400 & 0            & 0.0005999600 & 0.0029998000 & 0            & 0            & 0.25024998   & 0.0000000000 & ⋯            & 0            & 0.000000e+00 & 0.2353176    & 0.0035997600 & 0            & 0.02986468   & 0.007199520  & 0            & 0            & 0           \\\\\n",
       "\tT8\\_0\\_1 & 0            & 0.3369333    & 0.0014000000 & 0            & 0.0018666667 & 0.0009333333 & 0            & 0            & 0.05786667   & 0.0004666667 & ⋯            & 0            & 0.000000e+00 & 0.2682667    & 0.0009333333 & 0            & 0.01553333   & 0.021200000  & 0            & 0            & 0           \\\\\n",
       "\tT12\\_0\\_2 & 0            & 0.4449037    & 0.0003333111 & 0            & 0.0009332711 & 0.0003333111 & 0            & 0            & 0.02393174   & 0.0000000000 & ⋯            & 0            & 3.333111e-04 & 0.3661756    & 0.0011332578 & 0            & 0.00419972   & 0.002066529  & 0            & 0            & 0           \\\\\n",
       "\tT4\\_0\\_2 & 0            & 0.2985731    & 0.0048673156 & 0            & 0.0006000800 & 0.0030670756 & 0            & 0            & 0.22102947   & 0.0000000000 & ⋯            & 0            & 0.000000e+00 & 0.2460328    & 0.0006000800 & 0            & 0.01100147   & 0.004867316  & 0            & 0            & 0           \\\\\n",
       "\tT8\\_0\\_2 & 0            & 0.3038464    & 0.0039997334 & 0            & 0.0011332578 & 0.0011332578 & 0            & 0            & 0.06899540   & 0.0005999600 & ⋯            & 0            & 0.000000e+00 & 0.2411173    & 0.0022665156 & 0            & 0.02226518   & 0.013665756  & 0            & 0            & 0           \\\\\n",
       "\\end{tabular}\n"
      ],
      "text/markdown": [
       "\n",
       "| <!--/--> | Acinetobacter_lwoffii_HAMBI_97 | Aeromonas_caviae_HAMBI_1972 | Agrobacterium_tumefaciens_HAMBI_105 | Azorhizobium_caulinodans_HAMBI_216 | Azospirillum_brasilense_HAMBI_3172 | Bordetella_avium_HAMBI_2160 | Brevundimonas_bullata_HAMBI_262 | Chitinophaga_sancti_HAMBI_1988 | Citrobacter_koseri_HAMBI_1287 | Comamonas_testosteroni_HAMBI_403 | ⋯ | Paraburkholderia_caryophylli_HAMBI_2159 | Paracoccus_denitrificans_HAMBI_2443 | Pseudomonas_chlororaphis_HAMBI_1977 | Pseudomonas_putida_HAMBI_6 | Roseomonas_gilardii_HAMBI_2470 | Sphingobacterium_multivorum_HAMBI_1874 | Sphingobacterium_spiritivorum_HAMBI_1896 | Sphingobium_yanoikuyae_HAMBI_1842 | Stenotrophomonas_maltophilia_HAMBI_2659 | Thermomonas_haemolytica_HAMBI_2467 | \n",
       "|---|---|---|---|---|---|\n",
       "| T12_0_1 | 0            | 0.3844256    | 0.0002000133 | 0            | 0.0002000133 | 0.0018667911 | 0            | 0            | 0.01340089   | 0.0074004934 | ⋯            | 0            | 6.667111e-05 | 0.4874992    | 0.0011334089 | 0            | 0.01733449   | 0.006000400  | 0            | 0            | 0            | \n",
       "| T4_0_1 | 0            | 0.2592494    | 0.0053996400 | 0            | 0.0005999600 | 0.0029998000 | 0            | 0            | 0.25024998   | 0.0000000000 | ⋯            | 0            | 0.000000e+00 | 0.2353176    | 0.0035997600 | 0            | 0.02986468   | 0.007199520  | 0            | 0            | 0            | \n",
       "| T8_0_1 | 0            | 0.3369333    | 0.0014000000 | 0            | 0.0018666667 | 0.0009333333 | 0            | 0            | 0.05786667   | 0.0004666667 | ⋯            | 0            | 0.000000e+00 | 0.2682667    | 0.0009333333 | 0            | 0.01553333   | 0.021200000  | 0            | 0            | 0            | \n",
       "| T12_0_2 | 0            | 0.4449037    | 0.0003333111 | 0            | 0.0009332711 | 0.0003333111 | 0            | 0            | 0.02393174   | 0.0000000000 | ⋯            | 0            | 3.333111e-04 | 0.3661756    | 0.0011332578 | 0            | 0.00419972   | 0.002066529  | 0            | 0            | 0            | \n",
       "| T4_0_2 | 0            | 0.2985731    | 0.0048673156 | 0            | 0.0006000800 | 0.0030670756 | 0            | 0            | 0.22102947   | 0.0000000000 | ⋯            | 0            | 0.000000e+00 | 0.2460328    | 0.0006000800 | 0            | 0.01100147   | 0.004867316  | 0            | 0            | 0            | \n",
       "| T8_0_2 | 0            | 0.3038464    | 0.0039997334 | 0            | 0.0011332578 | 0.0011332578 | 0            | 0            | 0.06899540   | 0.0005999600 | ⋯            | 0            | 0.000000e+00 | 0.2411173    | 0.0022665156 | 0            | 0.02226518   | 0.013665756  | 0            | 0            | 0            | \n",
       "\n",
       "\n"
      ],
      "text/plain": [
       "        Acinetobacter_lwoffii_HAMBI_97 Aeromonas_caviae_HAMBI_1972\n",
       "T12_0_1 0                              0.3844256                  \n",
       "T4_0_1  0                              0.2592494                  \n",
       "T8_0_1  0                              0.3369333                  \n",
       "T12_0_2 0                              0.4449037                  \n",
       "T4_0_2  0                              0.2985731                  \n",
       "T8_0_2  0                              0.3038464                  \n",
       "        Agrobacterium_tumefaciens_HAMBI_105 Azorhizobium_caulinodans_HAMBI_216\n",
       "T12_0_1 0.0002000133                        0                                 \n",
       "T4_0_1  0.0053996400                        0                                 \n",
       "T8_0_1  0.0014000000                        0                                 \n",
       "T12_0_2 0.0003333111                        0                                 \n",
       "T4_0_2  0.0048673156                        0                                 \n",
       "T8_0_2  0.0039997334                        0                                 \n",
       "        Azospirillum_brasilense_HAMBI_3172 Bordetella_avium_HAMBI_2160\n",
       "T12_0_1 0.0002000133                       0.0018667911               \n",
       "T4_0_1  0.0005999600                       0.0029998000               \n",
       "T8_0_1  0.0018666667                       0.0009333333               \n",
       "T12_0_2 0.0009332711                       0.0003333111               \n",
       "T4_0_2  0.0006000800                       0.0030670756               \n",
       "T8_0_2  0.0011332578                       0.0011332578               \n",
       "        Brevundimonas_bullata_HAMBI_262 Chitinophaga_sancti_HAMBI_1988\n",
       "T12_0_1 0                               0                             \n",
       "T4_0_1  0                               0                             \n",
       "T8_0_1  0                               0                             \n",
       "T12_0_2 0                               0                             \n",
       "T4_0_2  0                               0                             \n",
       "T8_0_2  0                               0                             \n",
       "        Citrobacter_koseri_HAMBI_1287 Comamonas_testosteroni_HAMBI_403 ⋯\n",
       "T12_0_1 0.01340089                    0.0074004934                     ⋯\n",
       "T4_0_1  0.25024998                    0.0000000000                     ⋯\n",
       "T8_0_1  0.05786667                    0.0004666667                     ⋯\n",
       "T12_0_2 0.02393174                    0.0000000000                     ⋯\n",
       "T4_0_2  0.22102947                    0.0000000000                     ⋯\n",
       "T8_0_2  0.06899540                    0.0005999600                     ⋯\n",
       "        Paraburkholderia_caryophylli_HAMBI_2159\n",
       "T12_0_1 0                                      \n",
       "T4_0_1  0                                      \n",
       "T8_0_1  0                                      \n",
       "T12_0_2 0                                      \n",
       "T4_0_2  0                                      \n",
       "T8_0_2  0                                      \n",
       "        Paracoccus_denitrificans_HAMBI_2443 Pseudomonas_chlororaphis_HAMBI_1977\n",
       "T12_0_1 6.667111e-05                        0.4874992                          \n",
       "T4_0_1  0.000000e+00                        0.2353176                          \n",
       "T8_0_1  0.000000e+00                        0.2682667                          \n",
       "T12_0_2 3.333111e-04                        0.3661756                          \n",
       "T4_0_2  0.000000e+00                        0.2460328                          \n",
       "T8_0_2  0.000000e+00                        0.2411173                          \n",
       "        Pseudomonas_putida_HAMBI_6 Roseomonas_gilardii_HAMBI_2470\n",
       "T12_0_1 0.0011334089               0                             \n",
       "T4_0_1  0.0035997600               0                             \n",
       "T8_0_1  0.0009333333               0                             \n",
       "T12_0_2 0.0011332578               0                             \n",
       "T4_0_2  0.0006000800               0                             \n",
       "T8_0_2  0.0022665156               0                             \n",
       "        Sphingobacterium_multivorum_HAMBI_1874\n",
       "T12_0_1 0.01733449                            \n",
       "T4_0_1  0.02986468                            \n",
       "T8_0_1  0.01553333                            \n",
       "T12_0_2 0.00419972                            \n",
       "T4_0_2  0.01100147                            \n",
       "T8_0_2  0.02226518                            \n",
       "        Sphingobacterium_spiritivorum_HAMBI_1896\n",
       "T12_0_1 0.006000400                             \n",
       "T4_0_1  0.007199520                             \n",
       "T8_0_1  0.021200000                             \n",
       "T12_0_2 0.002066529                             \n",
       "T4_0_2  0.004867316                             \n",
       "T8_0_2  0.013665756                             \n",
       "        Sphingobium_yanoikuyae_HAMBI_1842\n",
       "T12_0_1 0                                \n",
       "T4_0_1  0                                \n",
       "T8_0_1  0                                \n",
       "T12_0_2 0                                \n",
       "T4_0_2  0                                \n",
       "T8_0_2  0                                \n",
       "        Stenotrophomonas_maltophilia_HAMBI_2659\n",
       "T12_0_1 0                                      \n",
       "T4_0_1  0                                      \n",
       "T8_0_1  0                                      \n",
       "T12_0_2 0                                      \n",
       "T4_0_2  0                                      \n",
       "T8_0_2  0                                      \n",
       "        Thermomonas_haemolytica_HAMBI_2467\n",
       "T12_0_1 0                                 \n",
       "T4_0_1  0                                 \n",
       "T8_0_1  0                                 \n",
       "T12_0_2 0                                 \n",
       "T4_0_2  0                                 \n",
       "T8_0_2  0                                 "
      ]
     },
     "metadata": {},
     "output_type": "display_data"
    },
    {
     "data": {
      "text/html": [
       "<table>\n",
       "<thead><tr><th></th><th scope=col>Replicate</th><th scope=col>Streptomycin</th><th scope=col>Immigration</th><th scope=col>Time_point</th><th scope=col>ID</th><th scope=col>betweensubtrtmt</th></tr></thead>\n",
       "<tbody>\n",
       "\t<tr><th scope=row>T12_0_1</th><td>1    </td><td>0    </td><td>0    </td><td>48   </td><td>0_0_1</td><td>0_0  </td></tr>\n",
       "\t<tr><th scope=row>T4_0_1</th><td>1    </td><td>0    </td><td>0    </td><td>16   </td><td>0_0_1</td><td>0_0  </td></tr>\n",
       "\t<tr><th scope=row>T8_0_1</th><td>1    </td><td>0    </td><td>0    </td><td>32   </td><td>0_0_1</td><td>0_0  </td></tr>\n",
       "\t<tr><th scope=row>T12_0_2</th><td>2    </td><td>0    </td><td>0    </td><td>48   </td><td>0_0_2</td><td>0_0  </td></tr>\n",
       "\t<tr><th scope=row>T4_0_2</th><td>2    </td><td>0    </td><td>0    </td><td>16   </td><td>0_0_2</td><td>0_0  </td></tr>\n",
       "\t<tr><th scope=row>T8_0_2</th><td>2    </td><td>0    </td><td>0    </td><td>32   </td><td>0_0_2</td><td>0_0  </td></tr>\n",
       "</tbody>\n",
       "</table>\n"
      ],
      "text/latex": [
       "\\begin{tabular}{r|llllll}\n",
       "  & Replicate & Streptomycin & Immigration & Time\\_point & ID & betweensubtrtmt\\\\\n",
       "\\hline\n",
       "\tT12\\_0\\_1 & 1         & 0         & 0         & 48        & 0\\_0\\_1 & 0\\_0    \\\\\n",
       "\tT4\\_0\\_1 & 1         & 0         & 0         & 16        & 0\\_0\\_1 & 0\\_0    \\\\\n",
       "\tT8\\_0\\_1 & 1         & 0         & 0         & 32        & 0\\_0\\_1 & 0\\_0    \\\\\n",
       "\tT12\\_0\\_2 & 2         & 0         & 0         & 48        & 0\\_0\\_2 & 0\\_0    \\\\\n",
       "\tT4\\_0\\_2 & 2         & 0         & 0         & 16        & 0\\_0\\_2 & 0\\_0    \\\\\n",
       "\tT8\\_0\\_2 & 2         & 0         & 0         & 32        & 0\\_0\\_2 & 0\\_0    \\\\\n",
       "\\end{tabular}\n"
      ],
      "text/markdown": [
       "\n",
       "| <!--/--> | Replicate | Streptomycin | Immigration | Time_point | ID | betweensubtrtmt | \n",
       "|---|---|---|---|---|---|\n",
       "| T12_0_1 | 1     | 0     | 0     | 48    | 0_0_1 | 0_0   | \n",
       "| T4_0_1 | 1     | 0     | 0     | 16    | 0_0_1 | 0_0   | \n",
       "| T8_0_1 | 1     | 0     | 0     | 32    | 0_0_1 | 0_0   | \n",
       "| T12_0_2 | 2     | 0     | 0     | 48    | 0_0_2 | 0_0   | \n",
       "| T4_0_2 | 2     | 0     | 0     | 16    | 0_0_2 | 0_0   | \n",
       "| T8_0_2 | 2     | 0     | 0     | 32    | 0_0_2 | 0_0   | \n",
       "\n",
       "\n"
      ],
      "text/plain": [
       "        Replicate Streptomycin Immigration Time_point ID    betweensubtrtmt\n",
       "T12_0_1 1         0            0           48         0_0_1 0_0            \n",
       "T4_0_1  1         0            0           16         0_0_1 0_0            \n",
       "T8_0_1  1         0            0           32         0_0_1 0_0            \n",
       "T12_0_2 2         0            0           48         0_0_2 0_0            \n",
       "T4_0_2  2         0            0           16         0_0_2 0_0            \n",
       "T8_0_2  2         0            0           32         0_0_2 0_0            "
      ]
     },
     "metadata": {},
     "output_type": "display_data"
    }
   ],
   "source": [
    "# Read in data\n",
    "\n",
    "species_composition = read.table(\"../../../data/amplicon/species_composition_relative_abundance.txt\", \n",
    "                                 sep = \"\\t\",\n",
    "                                 header = T,\n",
    "                                 row.names = 1)\n",
    "\n",
    "metadata = read.table(\"../../../data/amplicon/metadata.txt\",\n",
    "                      sep = \"\\t\",\n",
    "                      header = T,\n",
    "                      row.names = 1)\n",
    "\n",
    "\n",
    "# Extract regime shift data without predation\n",
    "\n",
    "x = metadata$Experiment != \"FiltrateExp\" & # keep only regime shift data\n",
    "    metadata$Predation != 1 & # exclude predation\n",
    "    metadata$Immigration != \"stock\" # exclude stock\n",
    "\n",
    "# Subset\n",
    "\n",
    "species_composition = as.matrix(species_composition[x,colSums(species_composition)>0]) # keep only species with data\n",
    "metadata = metadata[x,-c(3, 6)] # remove redundant columns\n",
    "metadata$ID = paste(metadata$Streptomycin, metadata$Immigration, metadata$Replicate, sep = \"_\")\n",
    "metadata$ID = as.factor(metadata$ID)\n",
    "metadata$betweensubtrtmt = paste(metadata$Streptomycin, metadata$Immigration, sep = \"_\")\n",
    "metadata$betweensubtrtmt = as.factor(metadata$betweensubtrtmt)\n",
    "\n",
    "head(species_composition)\n",
    "head(metadata)"
   ]
  },
  {
   "cell_type": "code",
   "execution_count": 10,
   "metadata": {},
   "outputs": [
    {
     "data": {
      "text/plain": [
       "\n",
       "Call:\n",
       "adonis(formula = vegdist(species_composition) ~ betweensubtrtmt *      Time_point + ID, data = metadata, strata = metadata$ID) \n",
       "\n",
       "Blocks:  strata \n",
       "Permutation: free\n",
       "Number of permutations: 999\n",
       "\n",
       "Terms added sequentially (first to last)\n",
       "\n",
       "                           Df SumsOfSqs  MeanSqs F.Model      R2 Pr(>F)  \n",
       "betweensubtrtmt             7    2.0395 0.291357  6.3241 0.41537  0.016 *\n",
       "Time_point                  1    0.1484 0.148351  3.2201 0.03021  0.055 .\n",
       "ID                         16    0.1082 0.006760  0.1467 0.02203  0.016 *\n",
       "betweensubtrtmt:Time_point  7    0.7712 0.110172  2.3914 0.15707  0.025 *\n",
       "Residuals                  40    1.8428 0.046071         0.37532         \n",
       "Total                      71    4.9101                  1.00000         \n",
       "---\n",
       "Signif. codes:  0 ‘***’ 0.001 ‘**’ 0.01 ‘*’ 0.05 ‘.’ 0.1 ‘ ’ 1"
      ]
     },
     "metadata": {},
     "output_type": "display_data"
    }
   ],
   "source": [
    "# For the within-subjects (or sub-plot) effects\n",
    "\n",
    "adonis(vegdist(species_composition)~betweensubtrtmt*Time_point + ID,data=metadata,strata=metadata$ID)\n",
    "\n",
    "# small, marginally significant time effect (p = 0.072, r2 = 0.030)\n",
    "# strong, significant treatment*time interaction (p = 0.031, r2 = 0.157)\n",
    "\n",
    "# Strata restricts the permutation, and the residual error term will give\n",
    "# you the correct test for the time effect and the betweensubtrtmnt * time\n",
    "# interaction, but the test for the betweensubtrmnt main effect will be\n",
    "# wrong because plot, and not the residual error term, is the correct error\n",
    "# term for testing it.\n"
   ]
  },
  {
   "cell_type": "code",
   "execution_count": 11,
   "metadata": {},
   "outputs": [
    {
     "name": "stdout",
     "output_type": "stream",
     "text": [
      "Total sum of squares of distance matrix: 4.910053 \n"
     ]
    },
    {
     "data": {
      "text/html": [
       "<table>\n",
       "<thead><tr><th></th><th scope=col>Df</th><th scope=col>SumsofSquares</th><th scope=col>F</th><th scope=col>N.Perm</th><th scope=col>Pr(&gt;F)</th></tr></thead>\n",
       "<tbody>\n",
       "\t<tr><th scope=row>betweensubtrtmt</th><td> 7        </td><td>2.039500  </td><td>43.0989583</td><td>100       </td><td>0.00990099</td></tr>\n",
       "\t<tr><th scope=row>ID</th><td>16        </td><td>0.108163  </td><td> 0.1174668</td><td>100       </td><td>1.00000000</td></tr>\n",
       "\t<tr><th scope=row>Residuals</th><td>48        </td><td>2.762390  </td><td> 0.0575498</td><td> NA       </td><td>        NA</td></tr>\n",
       "</tbody>\n",
       "</table>\n"
      ],
      "text/latex": [
       "\\begin{tabular}{r|lllll}\n",
       "  & Df & SumsofSquares & F & N.Perm & Pr(>F)\\\\\n",
       "\\hline\n",
       "\tbetweensubtrtmt &  7         & 2.039500   & 43.0989583 & 100        & 0.00990099\\\\\n",
       "\tID & 16         & 0.108163   &  0.1174668 & 100        & 1.00000000\\\\\n",
       "\tResiduals & 48         & 2.762390   &  0.0575498 &  NA        &         NA\\\\\n",
       "\\end{tabular}\n"
      ],
      "text/markdown": [
       "\n",
       "| <!--/--> | Df | SumsofSquares | F | N.Perm | Pr(>F) | \n",
       "|---|---|---|\n",
       "| betweensubtrtmt |  7         | 2.039500   | 43.0989583 | 100        | 0.00990099 | \n",
       "| ID | 16         | 0.108163   |  0.1174668 | 100        | 1.00000000 | \n",
       "| Residuals | 48         | 2.762390   |  0.0575498 |  NA        |         NA | \n",
       "\n",
       "\n"
      ],
      "text/plain": [
       "                Df SumsofSquares F          N.Perm Pr(>F)    \n",
       "betweensubtrtmt  7 2.039500      43.0989583 100    0.00990099\n",
       "ID              16 0.108163       0.1174668 100    1.00000000\n",
       "Residuals       48 2.762390       0.0575498  NA            NA"
      ]
     },
     "metadata": {},
     "output_type": "display_data"
    }
   ],
   "source": [
    "# To get a test for the betweensubtrtmnt main effect, load the BiodiversityR\n",
    "# package and use the nested.npmanova function.\n",
    "\n",
    "nested.npmanova(species_composition ~ betweensubtrtmt + ID, data = metadata, method = \"bray\")\n",
    "\n",
    "# significant treatment effect (p < 0.01, large F value)\n",
    "\n",
    "# In this case, the betweensubtrtmnt is tested with plot; plot is tested\n",
    "# with the residual error term but that latter test is not correct in this\n",
    "# instance and is usually not of interest anyway."
   ]
  },
  {
   "cell_type": "code",
   "execution_count": 15,
   "metadata": {},
   "outputs": [
    {
     "data": {
      "text/plain": [
       "\n",
       "\tPairwise comparisons using permutation MANOVAs on a distance matrix \n",
       "\n",
       "data:  vegdist(species_composition) by metadata$betweensubtrtmt\n",
       "999 permutations \n",
       "\n",
       "      0_0    0_1    128_0  128_1  16_0   16_1   4_0   \n",
       "0_1   0.3815 -      -      -      -      -      -     \n",
       "128_0 0.0070 0.0070 -      -      -      -      -     \n",
       "128_1 0.0070 0.0070 0.3173 -      -      -      -     \n",
       "16_0  0.0070 0.0093 0.3762 0.8950 -      -      -     \n",
       "16_1  0.0070 0.0070 0.3640 0.8950 0.8950 -      -     \n",
       "4_0   0.0070 0.0541 0.0350 0.1764 0.1087 0.1764 -     \n",
       "4_1   0.0112 0.1338 0.0153 0.0788 0.0431 0.0541 0.7168\n",
       "\n",
       "P value adjustment method: fdr "
      ]
     },
     "metadata": {},
     "output_type": "display_data"
    }
   ],
   "source": [
    "# Post hoc test\n",
    "\n",
    "pairwise = pairwise.perm.manova(vegdist(species_composition), \n",
    "                                   metadata$betweensubtrtmt, \n",
    "                                   test = \"Pillai\", \n",
    "                                   nperm = 999,\n",
    "                                   progress = TRUE, \n",
    "                                   p.method = \"fdr\")\n",
    "\n",
    "pairwise"
   ]
  }
 ],
 "metadata": {
  "kernelspec": {
   "display_name": "R",
   "language": "R",
   "name": "ir"
  },
  "language_info": {
   "codemirror_mode": "r",
   "file_extension": ".r",
   "mimetype": "text/x-r-source",
   "name": "R",
   "pygments_lexer": "r",
   "version": "3.5.1"
  }
 },
 "nbformat": 4,
 "nbformat_minor": 2
}
