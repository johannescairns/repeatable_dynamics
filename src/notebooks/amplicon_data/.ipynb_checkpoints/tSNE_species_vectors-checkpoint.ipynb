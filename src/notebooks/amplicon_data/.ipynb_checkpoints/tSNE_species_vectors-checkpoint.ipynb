{
 "cells": [
  {
   "cell_type": "markdown",
   "metadata": {},
   "source": [
    "# t-SNE for species vectors"
   ]
  },
  {
   "cell_type": "code",
   "execution_count": 1,
   "metadata": {},
   "outputs": [
    {
     "name": "stderr",
     "output_type": "stream",
     "text": [
      "Loading required package: lattice\n",
      "Loading required package: ggplot2\n",
      "\n",
      "Attaching package: ‘tidyr’\n",
      "\n",
      "The following object is masked from ‘package:reshape2’:\n",
      "\n",
      "    smiths\n",
      "\n"
     ]
    }
   ],
   "source": [
    "# Housekeeping\n",
    "\n",
    "library(caret)\n",
    "library(gridExtra)\n",
    "library(reshape2)\n",
    "library(Rtsne)\n",
    "library(tidyr)"
   ]
  },
  {
   "cell_type": "code",
   "execution_count": 2,
   "metadata": {},
   "outputs": [
    {
     "data": {
      "text/html": [
       "<table>\n",
       "<thead><tr><th></th><th scope=col>Acinetobacter_lwoffii_HAMBI_97</th><th scope=col>Aeromonas_caviae_HAMBI_1972</th><th scope=col>Agrobacterium_tumefaciens_HAMBI_105</th><th scope=col>Azorhizobium_caulinodans_HAMBI_216</th><th scope=col>Azospirillum_brasilense_HAMBI_3172</th><th scope=col>Bordetella_avium_HAMBI_2160</th><th scope=col>Brevundimonas_bullata_HAMBI_262</th><th scope=col>Chitinophaga_sancti_HAMBI_1988</th><th scope=col>Citrobacter_koseri_HAMBI_1287</th><th scope=col>Comamonas_testosteroni_HAMBI_403</th><th scope=col>⋯</th><th scope=col>Paraburkholderia_caryophylli_HAMBI_2159</th><th scope=col>Paracoccus_denitrificans_HAMBI_2443</th><th scope=col>Pseudomonas_chlororaphis_HAMBI_1977</th><th scope=col>Pseudomonas_putida_HAMBI_6</th><th scope=col>Roseomonas_gilardii_HAMBI_2470</th><th scope=col>Sphingobacterium_multivorum_HAMBI_1874</th><th scope=col>Sphingobacterium_spiritivorum_HAMBI_1896</th><th scope=col>Sphingobium_yanoikuyae_HAMBI_1842</th><th scope=col>Stenotrophomonas_maltophilia_HAMBI_2659</th><th scope=col>Thermomonas_haemolytica_HAMBI_2467</th></tr></thead>\n",
       "<tbody>\n",
       "\t<tr><th scope=row>T12_0_1</th><td>0           </td><td>0.3844256   </td><td>0.0002000133</td><td>0           </td><td>0.0002000133</td><td>0.0018667911</td><td>0           </td><td>0           </td><td>0.01340089  </td><td>0.0074004934</td><td>⋯           </td><td>0           </td><td>6.667111e-05</td><td>0.4874992   </td><td>0.0011334089</td><td>0           </td><td>0.01733449  </td><td>0.006000400 </td><td>0           </td><td>0           </td><td>0           </td></tr>\n",
       "\t<tr><th scope=row>T4_0_1</th><td>0           </td><td>0.2592494   </td><td>0.0053996400</td><td>0           </td><td>0.0005999600</td><td>0.0029998000</td><td>0           </td><td>0           </td><td>0.25024998  </td><td>0.0000000000</td><td>⋯           </td><td>0           </td><td>0.000000e+00</td><td>0.2353176   </td><td>0.0035997600</td><td>0           </td><td>0.02986468  </td><td>0.007199520 </td><td>0           </td><td>0           </td><td>0           </td></tr>\n",
       "\t<tr><th scope=row>T8_0_1</th><td>0           </td><td>0.3369333   </td><td>0.0014000000</td><td>0           </td><td>0.0018666667</td><td>0.0009333333</td><td>0           </td><td>0           </td><td>0.05786667  </td><td>0.0004666667</td><td>⋯           </td><td>0           </td><td>0.000000e+00</td><td>0.2682667   </td><td>0.0009333333</td><td>0           </td><td>0.01553333  </td><td>0.021200000 </td><td>0           </td><td>0           </td><td>0           </td></tr>\n",
       "\t<tr><th scope=row>T12_0_2</th><td>0           </td><td>0.4449037   </td><td>0.0003333111</td><td>0           </td><td>0.0009332711</td><td>0.0003333111</td><td>0           </td><td>0           </td><td>0.02393174  </td><td>0.0000000000</td><td>⋯           </td><td>0           </td><td>3.333111e-04</td><td>0.3661756   </td><td>0.0011332578</td><td>0           </td><td>0.00419972  </td><td>0.002066529 </td><td>0           </td><td>0           </td><td>0           </td></tr>\n",
       "\t<tr><th scope=row>T4_0_2</th><td>0           </td><td>0.2985731   </td><td>0.0048673156</td><td>0           </td><td>0.0006000800</td><td>0.0030670756</td><td>0           </td><td>0           </td><td>0.22102947  </td><td>0.0000000000</td><td>⋯           </td><td>0           </td><td>0.000000e+00</td><td>0.2460328   </td><td>0.0006000800</td><td>0           </td><td>0.01100147  </td><td>0.004867316 </td><td>0           </td><td>0           </td><td>0           </td></tr>\n",
       "\t<tr><th scope=row>T8_0_2</th><td>0           </td><td>0.3038464   </td><td>0.0039997334</td><td>0           </td><td>0.0011332578</td><td>0.0011332578</td><td>0           </td><td>0           </td><td>0.06899540  </td><td>0.0005999600</td><td>⋯           </td><td>0           </td><td>0.000000e+00</td><td>0.2411173   </td><td>0.0022665156</td><td>0           </td><td>0.02226518  </td><td>0.013665756 </td><td>0           </td><td>0           </td><td>0           </td></tr>\n",
       "</tbody>\n",
       "</table>\n"
      ],
      "text/latex": [
       "\\begin{tabular}{r|lllllllllllllllllllllllllllll}\n",
       "  & Acinetobacter\\_lwoffii\\_HAMBI\\_97 & Aeromonas\\_caviae\\_HAMBI\\_1972 & Agrobacterium\\_tumefaciens\\_HAMBI\\_105 & Azorhizobium\\_caulinodans\\_HAMBI\\_216 & Azospirillum\\_brasilense\\_HAMBI\\_3172 & Bordetella\\_avium\\_HAMBI\\_2160 & Brevundimonas\\_bullata\\_HAMBI\\_262 & Chitinophaga\\_sancti\\_HAMBI\\_1988 & Citrobacter\\_koseri\\_HAMBI\\_1287 & Comamonas\\_testosteroni\\_HAMBI\\_403 & ⋯ & Paraburkholderia\\_caryophylli\\_HAMBI\\_2159 & Paracoccus\\_denitrificans\\_HAMBI\\_2443 & Pseudomonas\\_chlororaphis\\_HAMBI\\_1977 & Pseudomonas\\_putida\\_HAMBI\\_6 & Roseomonas\\_gilardii\\_HAMBI\\_2470 & Sphingobacterium\\_multivorum\\_HAMBI\\_1874 & Sphingobacterium\\_spiritivorum\\_HAMBI\\_1896 & Sphingobium\\_yanoikuyae\\_HAMBI\\_1842 & Stenotrophomonas\\_maltophilia\\_HAMBI\\_2659 & Thermomonas\\_haemolytica\\_HAMBI\\_2467\\\\\n",
       "\\hline\n",
       "\tT12\\_0\\_1 & 0            & 0.3844256    & 0.0002000133 & 0            & 0.0002000133 & 0.0018667911 & 0            & 0            & 0.01340089   & 0.0074004934 & ⋯            & 0            & 6.667111e-05 & 0.4874992    & 0.0011334089 & 0            & 0.01733449   & 0.006000400  & 0            & 0            & 0           \\\\\n",
       "\tT4\\_0\\_1 & 0            & 0.2592494    & 0.0053996400 & 0            & 0.0005999600 & 0.0029998000 & 0            & 0            & 0.25024998   & 0.0000000000 & ⋯            & 0            & 0.000000e+00 & 0.2353176    & 0.0035997600 & 0            & 0.02986468   & 0.007199520  & 0            & 0            & 0           \\\\\n",
       "\tT8\\_0\\_1 & 0            & 0.3369333    & 0.0014000000 & 0            & 0.0018666667 & 0.0009333333 & 0            & 0            & 0.05786667   & 0.0004666667 & ⋯            & 0            & 0.000000e+00 & 0.2682667    & 0.0009333333 & 0            & 0.01553333   & 0.021200000  & 0            & 0            & 0           \\\\\n",
       "\tT12\\_0\\_2 & 0            & 0.4449037    & 0.0003333111 & 0            & 0.0009332711 & 0.0003333111 & 0            & 0            & 0.02393174   & 0.0000000000 & ⋯            & 0            & 3.333111e-04 & 0.3661756    & 0.0011332578 & 0            & 0.00419972   & 0.002066529  & 0            & 0            & 0           \\\\\n",
       "\tT4\\_0\\_2 & 0            & 0.2985731    & 0.0048673156 & 0            & 0.0006000800 & 0.0030670756 & 0            & 0            & 0.22102947   & 0.0000000000 & ⋯            & 0            & 0.000000e+00 & 0.2460328    & 0.0006000800 & 0            & 0.01100147   & 0.004867316  & 0            & 0            & 0           \\\\\n",
       "\tT8\\_0\\_2 & 0            & 0.3038464    & 0.0039997334 & 0            & 0.0011332578 & 0.0011332578 & 0            & 0            & 0.06899540   & 0.0005999600 & ⋯            & 0            & 0.000000e+00 & 0.2411173    & 0.0022665156 & 0            & 0.02226518   & 0.013665756  & 0            & 0            & 0           \\\\\n",
       "\\end{tabular}\n"
      ],
      "text/markdown": [
       "\n",
       "| <!--/--> | Acinetobacter_lwoffii_HAMBI_97 | Aeromonas_caviae_HAMBI_1972 | Agrobacterium_tumefaciens_HAMBI_105 | Azorhizobium_caulinodans_HAMBI_216 | Azospirillum_brasilense_HAMBI_3172 | Bordetella_avium_HAMBI_2160 | Brevundimonas_bullata_HAMBI_262 | Chitinophaga_sancti_HAMBI_1988 | Citrobacter_koseri_HAMBI_1287 | Comamonas_testosteroni_HAMBI_403 | ⋯ | Paraburkholderia_caryophylli_HAMBI_2159 | Paracoccus_denitrificans_HAMBI_2443 | Pseudomonas_chlororaphis_HAMBI_1977 | Pseudomonas_putida_HAMBI_6 | Roseomonas_gilardii_HAMBI_2470 | Sphingobacterium_multivorum_HAMBI_1874 | Sphingobacterium_spiritivorum_HAMBI_1896 | Sphingobium_yanoikuyae_HAMBI_1842 | Stenotrophomonas_maltophilia_HAMBI_2659 | Thermomonas_haemolytica_HAMBI_2467 | \n",
       "|---|---|---|---|---|---|\n",
       "| T12_0_1 | 0            | 0.3844256    | 0.0002000133 | 0            | 0.0002000133 | 0.0018667911 | 0            | 0            | 0.01340089   | 0.0074004934 | ⋯            | 0            | 6.667111e-05 | 0.4874992    | 0.0011334089 | 0            | 0.01733449   | 0.006000400  | 0            | 0            | 0            | \n",
       "| T4_0_1 | 0            | 0.2592494    | 0.0053996400 | 0            | 0.0005999600 | 0.0029998000 | 0            | 0            | 0.25024998   | 0.0000000000 | ⋯            | 0            | 0.000000e+00 | 0.2353176    | 0.0035997600 | 0            | 0.02986468   | 0.007199520  | 0            | 0            | 0            | \n",
       "| T8_0_1 | 0            | 0.3369333    | 0.0014000000 | 0            | 0.0018666667 | 0.0009333333 | 0            | 0            | 0.05786667   | 0.0004666667 | ⋯            | 0            | 0.000000e+00 | 0.2682667    | 0.0009333333 | 0            | 0.01553333   | 0.021200000  | 0            | 0            | 0            | \n",
       "| T12_0_2 | 0            | 0.4449037    | 0.0003333111 | 0            | 0.0009332711 | 0.0003333111 | 0            | 0            | 0.02393174   | 0.0000000000 | ⋯            | 0            | 3.333111e-04 | 0.3661756    | 0.0011332578 | 0            | 0.00419972   | 0.002066529  | 0            | 0            | 0            | \n",
       "| T4_0_2 | 0            | 0.2985731    | 0.0048673156 | 0            | 0.0006000800 | 0.0030670756 | 0            | 0            | 0.22102947   | 0.0000000000 | ⋯            | 0            | 0.000000e+00 | 0.2460328    | 0.0006000800 | 0            | 0.01100147   | 0.004867316  | 0            | 0            | 0            | \n",
       "| T8_0_2 | 0            | 0.3038464    | 0.0039997334 | 0            | 0.0011332578 | 0.0011332578 | 0            | 0            | 0.06899540   | 0.0005999600 | ⋯            | 0            | 0.000000e+00 | 0.2411173    | 0.0022665156 | 0            | 0.02226518   | 0.013665756  | 0            | 0            | 0            | \n",
       "\n",
       "\n"
      ],
      "text/plain": [
       "        Acinetobacter_lwoffii_HAMBI_97 Aeromonas_caviae_HAMBI_1972\n",
       "T12_0_1 0                              0.3844256                  \n",
       "T4_0_1  0                              0.2592494                  \n",
       "T8_0_1  0                              0.3369333                  \n",
       "T12_0_2 0                              0.4449037                  \n",
       "T4_0_2  0                              0.2985731                  \n",
       "T8_0_2  0                              0.3038464                  \n",
       "        Agrobacterium_tumefaciens_HAMBI_105 Azorhizobium_caulinodans_HAMBI_216\n",
       "T12_0_1 0.0002000133                        0                                 \n",
       "T4_0_1  0.0053996400                        0                                 \n",
       "T8_0_1  0.0014000000                        0                                 \n",
       "T12_0_2 0.0003333111                        0                                 \n",
       "T4_0_2  0.0048673156                        0                                 \n",
       "T8_0_2  0.0039997334                        0                                 \n",
       "        Azospirillum_brasilense_HAMBI_3172 Bordetella_avium_HAMBI_2160\n",
       "T12_0_1 0.0002000133                       0.0018667911               \n",
       "T4_0_1  0.0005999600                       0.0029998000               \n",
       "T8_0_1  0.0018666667                       0.0009333333               \n",
       "T12_0_2 0.0009332711                       0.0003333111               \n",
       "T4_0_2  0.0006000800                       0.0030670756               \n",
       "T8_0_2  0.0011332578                       0.0011332578               \n",
       "        Brevundimonas_bullata_HAMBI_262 Chitinophaga_sancti_HAMBI_1988\n",
       "T12_0_1 0                               0                             \n",
       "T4_0_1  0                               0                             \n",
       "T8_0_1  0                               0                             \n",
       "T12_0_2 0                               0                             \n",
       "T4_0_2  0                               0                             \n",
       "T8_0_2  0                               0                             \n",
       "        Citrobacter_koseri_HAMBI_1287 Comamonas_testosteroni_HAMBI_403 ⋯\n",
       "T12_0_1 0.01340089                    0.0074004934                     ⋯\n",
       "T4_0_1  0.25024998                    0.0000000000                     ⋯\n",
       "T8_0_1  0.05786667                    0.0004666667                     ⋯\n",
       "T12_0_2 0.02393174                    0.0000000000                     ⋯\n",
       "T4_0_2  0.22102947                    0.0000000000                     ⋯\n",
       "T8_0_2  0.06899540                    0.0005999600                     ⋯\n",
       "        Paraburkholderia_caryophylli_HAMBI_2159\n",
       "T12_0_1 0                                      \n",
       "T4_0_1  0                                      \n",
       "T8_0_1  0                                      \n",
       "T12_0_2 0                                      \n",
       "T4_0_2  0                                      \n",
       "T8_0_2  0                                      \n",
       "        Paracoccus_denitrificans_HAMBI_2443 Pseudomonas_chlororaphis_HAMBI_1977\n",
       "T12_0_1 6.667111e-05                        0.4874992                          \n",
       "T4_0_1  0.000000e+00                        0.2353176                          \n",
       "T8_0_1  0.000000e+00                        0.2682667                          \n",
       "T12_0_2 3.333111e-04                        0.3661756                          \n",
       "T4_0_2  0.000000e+00                        0.2460328                          \n",
       "T8_0_2  0.000000e+00                        0.2411173                          \n",
       "        Pseudomonas_putida_HAMBI_6 Roseomonas_gilardii_HAMBI_2470\n",
       "T12_0_1 0.0011334089               0                             \n",
       "T4_0_1  0.0035997600               0                             \n",
       "T8_0_1  0.0009333333               0                             \n",
       "T12_0_2 0.0011332578               0                             \n",
       "T4_0_2  0.0006000800               0                             \n",
       "T8_0_2  0.0022665156               0                             \n",
       "        Sphingobacterium_multivorum_HAMBI_1874\n",
       "T12_0_1 0.01733449                            \n",
       "T4_0_1  0.02986468                            \n",
       "T8_0_1  0.01553333                            \n",
       "T12_0_2 0.00419972                            \n",
       "T4_0_2  0.01100147                            \n",
       "T8_0_2  0.02226518                            \n",
       "        Sphingobacterium_spiritivorum_HAMBI_1896\n",
       "T12_0_1 0.006000400                             \n",
       "T4_0_1  0.007199520                             \n",
       "T8_0_1  0.021200000                             \n",
       "T12_0_2 0.002066529                             \n",
       "T4_0_2  0.004867316                             \n",
       "T8_0_2  0.013665756                             \n",
       "        Sphingobium_yanoikuyae_HAMBI_1842\n",
       "T12_0_1 0                                \n",
       "T4_0_1  0                                \n",
       "T8_0_1  0                                \n",
       "T12_0_2 0                                \n",
       "T4_0_2  0                                \n",
       "T8_0_2  0                                \n",
       "        Stenotrophomonas_maltophilia_HAMBI_2659\n",
       "T12_0_1 0                                      \n",
       "T4_0_1  0                                      \n",
       "T8_0_1  0                                      \n",
       "T12_0_2 0                                      \n",
       "T4_0_2  0                                      \n",
       "T8_0_2  0                                      \n",
       "        Thermomonas_haemolytica_HAMBI_2467\n",
       "T12_0_1 0                                 \n",
       "T4_0_1  0                                 \n",
       "T8_0_1  0                                 \n",
       "T12_0_2 0                                 \n",
       "T4_0_2  0                                 \n",
       "T8_0_2  0                                 "
      ]
     },
     "metadata": {},
     "output_type": "display_data"
    },
    {
     "data": {
      "text/html": [
       "<table>\n",
       "<thead><tr><th></th><th scope=col>Replicate</th><th scope=col>Streptomycin</th><th scope=col>Predation</th><th scope=col>Immigration</th><th scope=col>Time_point</th><th scope=col>Experiment</th></tr></thead>\n",
       "<tbody>\n",
       "\t<tr><th scope=row>T12_0_1</th><td>1          </td><td>0          </td><td>0          </td><td>0          </td><td>48         </td><td>RegimeShift</td></tr>\n",
       "\t<tr><th scope=row>T4_0_1</th><td>1          </td><td>0          </td><td>0          </td><td>0          </td><td>16         </td><td>RegimeShift</td></tr>\n",
       "\t<tr><th scope=row>T8_0_1</th><td>1          </td><td>0          </td><td>0          </td><td>0          </td><td>32         </td><td>RegimeShift</td></tr>\n",
       "\t<tr><th scope=row>T12_0_2</th><td>2          </td><td>0          </td><td>0          </td><td>0          </td><td>48         </td><td>RegimeShift</td></tr>\n",
       "\t<tr><th scope=row>T4_0_2</th><td>2          </td><td>0          </td><td>0          </td><td>0          </td><td>16         </td><td>RegimeShift</td></tr>\n",
       "\t<tr><th scope=row>T8_0_2</th><td>2          </td><td>0          </td><td>0          </td><td>0          </td><td>32         </td><td>RegimeShift</td></tr>\n",
       "</tbody>\n",
       "</table>\n"
      ],
      "text/latex": [
       "\\begin{tabular}{r|llllll}\n",
       "  & Replicate & Streptomycin & Predation & Immigration & Time\\_point & Experiment\\\\\n",
       "\\hline\n",
       "\tT12\\_0\\_1 & 1           & 0           & 0           & 0           & 48          & RegimeShift\\\\\n",
       "\tT4\\_0\\_1 & 1           & 0           & 0           & 0           & 16          & RegimeShift\\\\\n",
       "\tT8\\_0\\_1 & 1           & 0           & 0           & 0           & 32          & RegimeShift\\\\\n",
       "\tT12\\_0\\_2 & 2           & 0           & 0           & 0           & 48          & RegimeShift\\\\\n",
       "\tT4\\_0\\_2 & 2           & 0           & 0           & 0           & 16          & RegimeShift\\\\\n",
       "\tT8\\_0\\_2 & 2           & 0           & 0           & 0           & 32          & RegimeShift\\\\\n",
       "\\end{tabular}\n"
      ],
      "text/markdown": [
       "\n",
       "| <!--/--> | Replicate | Streptomycin | Predation | Immigration | Time_point | Experiment | \n",
       "|---|---|---|---|---|---|\n",
       "| T12_0_1 | 1           | 0           | 0           | 0           | 48          | RegimeShift | \n",
       "| T4_0_1 | 1           | 0           | 0           | 0           | 16          | RegimeShift | \n",
       "| T8_0_1 | 1           | 0           | 0           | 0           | 32          | RegimeShift | \n",
       "| T12_0_2 | 2           | 0           | 0           | 0           | 48          | RegimeShift | \n",
       "| T4_0_2 | 2           | 0           | 0           | 0           | 16          | RegimeShift | \n",
       "| T8_0_2 | 2           | 0           | 0           | 0           | 32          | RegimeShift | \n",
       "\n",
       "\n"
      ],
      "text/plain": [
       "        Replicate Streptomycin Predation Immigration Time_point Experiment \n",
       "T12_0_1 1         0            0         0           48         RegimeShift\n",
       "T4_0_1  1         0            0         0           16         RegimeShift\n",
       "T8_0_1  1         0            0         0           32         RegimeShift\n",
       "T12_0_2 2         0            0         0           48         RegimeShift\n",
       "T4_0_2  2         0            0         0           16         RegimeShift\n",
       "T8_0_2  2         0            0         0           32         RegimeShift"
      ]
     },
     "metadata": {},
     "output_type": "display_data"
    }
   ],
   "source": [
    "# Read in data\n",
    "\n",
    "species_composition = read.table(\"../../../data/amplicon/species_composition_relative_abundance.txt\", \n",
    "                                 sep = \"\\t\",\n",
    "                                 header = T,\n",
    "                                 row.names = 1)\n",
    "\n",
    "metadata = read.table(\"../../../data/amplicon/metadata.txt\",\n",
    "                      sep = \"\\t\",\n",
    "                      header = T,\n",
    "                      row.names = 1)\n",
    "\n",
    "head(species_composition)\n",
    "head(metadata)"
   ]
  },
  {
   "cell_type": "code",
   "execution_count": 3,
   "metadata": {},
   "outputs": [
    {
     "data": {
      "text/html": [
       "<ol class=list-inline>\n",
       "\t<li>72</li>\n",
       "\t<li>30</li>\n",
       "</ol>\n"
      ],
      "text/latex": [
       "\\begin{enumerate*}\n",
       "\\item 72\n",
       "\\item 30\n",
       "\\end{enumerate*}\n"
      ],
      "text/markdown": [
       "1. 72\n",
       "2. 30\n",
       "\n",
       "\n"
      ],
      "text/plain": [
       "[1] 72 30"
      ]
     },
     "metadata": {},
     "output_type": "display_data"
    },
    {
     "data": {
      "text/html": [
       "<ol class=list-inline>\n",
       "\t<li>72</li>\n",
       "\t<li>36</li>\n",
       "</ol>\n"
      ],
      "text/latex": [
       "\\begin{enumerate*}\n",
       "\\item 72\n",
       "\\item 36\n",
       "\\end{enumerate*}\n"
      ],
      "text/markdown": [
       "1. 72\n",
       "2. 36\n",
       "\n",
       "\n"
      ],
      "text/plain": [
       "[1] 72 36"
      ]
     },
     "metadata": {},
     "output_type": "display_data"
    }
   ],
   "source": [
    "# Extract regime shift data without predation\n",
    "\n",
    "x = metadata$Experiment == \"RegimeShift\" & # keep only regime shift data\n",
    "    metadata$Predation == 0 & # exclude predation\n",
    "    metadata$Immigration != \"stock\" # exclude initial strain mix data\n",
    "\n",
    "# Subset\n",
    "\n",
    "species_composition = species_composition[x,]\n",
    "metadata = metadata[x,]\n",
    "\n",
    "species_composition$TREATMENT = rownames(species_composition)\n",
    "metadata$TREATMENT = rownames(metadata)\n",
    "\n",
    "dim(species_composition)\n",
    "\n",
    "df = merge(species_composition, metadata, by = \"TREATMENT\")\n",
    "dim(df)"
   ]
  },
  {
   "cell_type": "code",
   "execution_count": 4,
   "metadata": {},
   "outputs": [
    {
     "data": {
      "text/html": [
       "<table>\n",
       "<thead><tr><th scope=col>TREATMENT</th><th scope=col>Replicate</th><th scope=col>Streptomycin</th><th scope=col>Predation</th><th scope=col>Immigration</th><th scope=col>Time_point</th><th scope=col>Experiment</th><th scope=col>Species</th><th scope=col>Abundance</th></tr></thead>\n",
       "<tbody>\n",
       "\t<tr><td>0_0_1                         </td><td>1                             </td><td>0                             </td><td>0                             </td><td>0                             </td><td>48                            </td><td>RegimeShift                   </td><td>Acinetobacter_lwoffii_HAMBI_97</td><td>0                             </td></tr>\n",
       "\t<tr><td>0_0_2                         </td><td>2                             </td><td>0                             </td><td>0                             </td><td>0                             </td><td>48                            </td><td>RegimeShift                   </td><td>Acinetobacter_lwoffii_HAMBI_97</td><td>0                             </td></tr>\n",
       "\t<tr><td>0_0_3                         </td><td>3                             </td><td>0                             </td><td>0                             </td><td>0                             </td><td>48                            </td><td>RegimeShift                   </td><td>Acinetobacter_lwoffii_HAMBI_97</td><td>0                             </td></tr>\n",
       "\t<tr><td>0_1_1                         </td><td>1                             </td><td>0                             </td><td>0                             </td><td>1                             </td><td>48                            </td><td>RegimeShift                   </td><td>Acinetobacter_lwoffii_HAMBI_97</td><td>0                             </td></tr>\n",
       "\t<tr><td>0_1_2                         </td><td>2                             </td><td>0                             </td><td>0                             </td><td>1                             </td><td>48                            </td><td>RegimeShift                   </td><td>Acinetobacter_lwoffii_HAMBI_97</td><td>0                             </td></tr>\n",
       "\t<tr><td>0_1_3                         </td><td>3                             </td><td>0                             </td><td>0                             </td><td>1                             </td><td>48                            </td><td>RegimeShift                   </td><td>Acinetobacter_lwoffii_HAMBI_97</td><td>0                             </td></tr>\n",
       "</tbody>\n",
       "</table>\n"
      ],
      "text/latex": [
       "\\begin{tabular}{r|lllllllll}\n",
       " TREATMENT & Replicate & Streptomycin & Predation & Immigration & Time\\_point & Experiment & Species & Abundance\\\\\n",
       "\\hline\n",
       "\t 0\\_0\\_1                            & 1                                    & 0                                    & 0                                    & 0                                    & 48                                   & RegimeShift                          & Acinetobacter\\_lwoffii\\_HAMBI\\_97 & 0                                   \\\\\n",
       "\t 0\\_0\\_2                            & 2                                    & 0                                    & 0                                    & 0                                    & 48                                   & RegimeShift                          & Acinetobacter\\_lwoffii\\_HAMBI\\_97 & 0                                   \\\\\n",
       "\t 0\\_0\\_3                            & 3                                    & 0                                    & 0                                    & 0                                    & 48                                   & RegimeShift                          & Acinetobacter\\_lwoffii\\_HAMBI\\_97 & 0                                   \\\\\n",
       "\t 0\\_1\\_1                            & 1                                    & 0                                    & 0                                    & 1                                    & 48                                   & RegimeShift                          & Acinetobacter\\_lwoffii\\_HAMBI\\_97 & 0                                   \\\\\n",
       "\t 0\\_1\\_2                            & 2                                    & 0                                    & 0                                    & 1                                    & 48                                   & RegimeShift                          & Acinetobacter\\_lwoffii\\_HAMBI\\_97 & 0                                   \\\\\n",
       "\t 0\\_1\\_3                            & 3                                    & 0                                    & 0                                    & 1                                    & 48                                   & RegimeShift                          & Acinetobacter\\_lwoffii\\_HAMBI\\_97 & 0                                   \\\\\n",
       "\\end{tabular}\n"
      ],
      "text/markdown": [
       "\n",
       "TREATMENT | Replicate | Streptomycin | Predation | Immigration | Time_point | Experiment | Species | Abundance | \n",
       "|---|---|---|---|---|---|\n",
       "| 0_0_1                          | 1                              | 0                              | 0                              | 0                              | 48                             | RegimeShift                    | Acinetobacter_lwoffii_HAMBI_97 | 0                              | \n",
       "| 0_0_2                          | 2                              | 0                              | 0                              | 0                              | 48                             | RegimeShift                    | Acinetobacter_lwoffii_HAMBI_97 | 0                              | \n",
       "| 0_0_3                          | 3                              | 0                              | 0                              | 0                              | 48                             | RegimeShift                    | Acinetobacter_lwoffii_HAMBI_97 | 0                              | \n",
       "| 0_1_1                          | 1                              | 0                              | 0                              | 1                              | 48                             | RegimeShift                    | Acinetobacter_lwoffii_HAMBI_97 | 0                              | \n",
       "| 0_1_2                          | 2                              | 0                              | 0                              | 1                              | 48                             | RegimeShift                    | Acinetobacter_lwoffii_HAMBI_97 | 0                              | \n",
       "| 0_1_3                          | 3                              | 0                              | 0                              | 1                              | 48                             | RegimeShift                    | Acinetobacter_lwoffii_HAMBI_97 | 0                              | \n",
       "\n",
       "\n"
      ],
      "text/plain": [
       "  TREATMENT Replicate Streptomycin Predation Immigration Time_point Experiment \n",
       "1 0_0_1     1         0            0         0           48         RegimeShift\n",
       "2 0_0_2     2         0            0         0           48         RegimeShift\n",
       "3 0_0_3     3         0            0         0           48         RegimeShift\n",
       "4 0_1_1     1         0            0         1           48         RegimeShift\n",
       "5 0_1_2     2         0            0         1           48         RegimeShift\n",
       "6 0_1_3     3         0            0         1           48         RegimeShift\n",
       "  Species                        Abundance\n",
       "1 Acinetobacter_lwoffii_HAMBI_97 0        \n",
       "2 Acinetobacter_lwoffii_HAMBI_97 0        \n",
       "3 Acinetobacter_lwoffii_HAMBI_97 0        \n",
       "4 Acinetobacter_lwoffii_HAMBI_97 0        \n",
       "5 Acinetobacter_lwoffii_HAMBI_97 0        \n",
       "6 Acinetobacter_lwoffii_HAMBI_97 0        "
      ]
     },
     "metadata": {},
     "output_type": "display_data"
    }
   ],
   "source": [
    "df2 = melt(df, id.vars = c(\"TREATMENT\", \"Replicate\", \"Streptomycin\", \"Predation\", \"Immigration\", \"Time_point\", \"Experiment\"))\n",
    "colnames(df2) = c(\"TREATMENT\", \"Replicate\", \"Streptomycin\", \"Predation\", \"Immigration\", \"Time_point\", \"Experiment\", \"Species\", \"Abundance\")\n",
    "df2$TREATMENT = paste(df2$Streptomycin, df2$Immigration, df2$Replicate, sep = \"_\")\n",
    "head(df2)"
   ]
  },
  {
   "cell_type": "code",
   "execution_count": 5,
   "metadata": {},
   "outputs": [
    {
     "data": {
      "text/html": [
       "<table>\n",
       "<thead><tr><th></th><th scope=col>16</th><th scope=col>32</th><th scope=col>48</th></tr></thead>\n",
       "<tbody>\n",
       "\t<tr><th scope=row>Acinetobacter_lwoffii_HAMBI_97_0_0_1</th><td>0.00000000  </td><td>0.0000000000</td><td>0.0000000000</td></tr>\n",
       "\t<tr><th scope=row>Aeromonas_caviae_HAMBI_1972_0_0_1</th><td>0.25924938  </td><td>0.3369333333</td><td>0.3844256284</td></tr>\n",
       "\t<tr><th scope=row>Agrobacterium_tumefaciens_HAMBI_105_0_0_1</th><td>0.00539964  </td><td>0.0014000000</td><td>0.0002000133</td></tr>\n",
       "\t<tr><th scope=row>Azorhizobium_caulinodans_HAMBI_216_0_0_1</th><td>0.00000000  </td><td>0.0000000000</td><td>0.0000000000</td></tr>\n",
       "\t<tr><th scope=row>Azospirillum_brasilense_HAMBI_3172_0_0_1</th><td>0.00059996  </td><td>0.0018666667</td><td>0.0002000133</td></tr>\n",
       "\t<tr><th scope=row>Bordetella_avium_HAMBI_2160_0_0_1</th><td>0.00299980  </td><td>0.0009333333</td><td>0.0018667911</td></tr>\n",
       "</tbody>\n",
       "</table>\n"
      ],
      "text/latex": [
       "\\begin{tabular}{r|lll}\n",
       "  & 16 & 32 & 48\\\\\n",
       "\\hline\n",
       "\tAcinetobacter\\_lwoffii\\_HAMBI\\_97\\_0\\_0\\_1 & 0.00000000   & 0.0000000000 & 0.0000000000\\\\\n",
       "\tAeromonas\\_caviae\\_HAMBI\\_1972\\_0\\_0\\_1 & 0.25924938   & 0.3369333333 & 0.3844256284\\\\\n",
       "\tAgrobacterium\\_tumefaciens\\_HAMBI\\_105\\_0\\_0\\_1 & 0.00539964   & 0.0014000000 & 0.0002000133\\\\\n",
       "\tAzorhizobium\\_caulinodans\\_HAMBI\\_216\\_0\\_0\\_1 & 0.00000000   & 0.0000000000 & 0.0000000000\\\\\n",
       "\tAzospirillum\\_brasilense\\_HAMBI\\_3172\\_0\\_0\\_1 & 0.00059996   & 0.0018666667 & 0.0002000133\\\\\n",
       "\tBordetella\\_avium\\_HAMBI\\_2160\\_0\\_0\\_1 & 0.00299980   & 0.0009333333 & 0.0018667911\\\\\n",
       "\\end{tabular}\n"
      ],
      "text/markdown": [
       "\n",
       "| <!--/--> | 16 | 32 | 48 | \n",
       "|---|---|---|---|---|---|\n",
       "| Acinetobacter_lwoffii_HAMBI_97_0_0_1 | 0.00000000   | 0.0000000000 | 0.0000000000 | \n",
       "| Aeromonas_caviae_HAMBI_1972_0_0_1 | 0.25924938   | 0.3369333333 | 0.3844256284 | \n",
       "| Agrobacterium_tumefaciens_HAMBI_105_0_0_1 | 0.00539964   | 0.0014000000 | 0.0002000133 | \n",
       "| Azorhizobium_caulinodans_HAMBI_216_0_0_1 | 0.00000000   | 0.0000000000 | 0.0000000000 | \n",
       "| Azospirillum_brasilense_HAMBI_3172_0_0_1 | 0.00059996   | 0.0018666667 | 0.0002000133 | \n",
       "| Bordetella_avium_HAMBI_2160_0_0_1 | 0.00299980   | 0.0009333333 | 0.0018667911 | \n",
       "\n",
       "\n"
      ],
      "text/plain": [
       "                                          16         32           48          \n",
       "Acinetobacter_lwoffii_HAMBI_97_0_0_1      0.00000000 0.0000000000 0.0000000000\n",
       "Aeromonas_caviae_HAMBI_1972_0_0_1         0.25924938 0.3369333333 0.3844256284\n",
       "Agrobacterium_tumefaciens_HAMBI_105_0_0_1 0.00539964 0.0014000000 0.0002000133\n",
       "Azorhizobium_caulinodans_HAMBI_216_0_0_1  0.00000000 0.0000000000 0.0000000000\n",
       "Azospirillum_brasilense_HAMBI_3172_0_0_1  0.00059996 0.0018666667 0.0002000133\n",
       "Bordetella_avium_HAMBI_2160_0_0_1         0.00299980 0.0009333333 0.0018667911"
      ]
     },
     "metadata": {},
     "output_type": "display_data"
    }
   ],
   "source": [
    "# Create abundance vector matrix\n",
    "\n",
    "df3 = dcast(data = df2,formula = TREATMENT + Species~Time_point,fun.aggregate = sum,value.var = \"Abundance\")\n",
    "rownames(df3) = paste(df3$Species, df3$TREATMENT, sep = \"_\")\n",
    "m1 = as.matrix(df3[,-c(1:2)])\n",
    "head(m1)"
   ]
  },
  {
   "cell_type": "code",
   "execution_count": 6,
   "metadata": {},
   "outputs": [
    {
     "data": {
      "text/html": [
       "<ol class=list-inline>\n",
       "\t<li>696</li>\n",
       "\t<li>3</li>\n",
       "</ol>\n"
      ],
      "text/latex": [
       "\\begin{enumerate*}\n",
       "\\item 696\n",
       "\\item 3\n",
       "\\end{enumerate*}\n"
      ],
      "text/markdown": [
       "1. 696\n",
       "2. 3\n",
       "\n",
       "\n"
      ],
      "text/plain": [
       "[1] 696   3"
      ]
     },
     "metadata": {},
     "output_type": "display_data"
    },
    {
     "data": {
      "text/html": [
       "<ol class=list-inline>\n",
       "\t<li>117</li>\n",
       "\t<li>3</li>\n",
       "</ol>\n"
      ],
      "text/latex": [
       "\\begin{enumerate*}\n",
       "\\item 117\n",
       "\\item 3\n",
       "\\end{enumerate*}\n"
      ],
      "text/markdown": [
       "1. 117\n",
       "2. 3\n",
       "\n",
       "\n"
      ],
      "text/plain": [
       "[1] 117   3"
      ]
     },
     "metadata": {},
     "output_type": "display_data"
    },
    {
     "data": {
      "text/html": [
       "<table>\n",
       "<thead><tr><th></th><th scope=col>16</th><th scope=col>32</th><th scope=col>48</th></tr></thead>\n",
       "<tbody>\n",
       "\t<tr><th scope=row>Aeromonas_caviae_HAMBI_1972_0_0_1</th><td>0.25924938</td><td>0.33693333</td><td>0.38442563</td></tr>\n",
       "\t<tr><th scope=row>Citrobacter_koseri_HAMBI_1287_0_0_1</th><td>0.25024998</td><td>0.05786667</td><td>0.01340089</td></tr>\n",
       "\t<tr><th scope=row>Elizabethkingia_meningoseptica_HAMBI_1875_0_0_1</th><td>0.19592027</td><td>0.29273333</td><td>0.07880525</td></tr>\n",
       "\t<tr><th scope=row>Pseudomonas_chlororaphis_HAMBI_1977_0_0_1</th><td>0.23531765</td><td>0.26826667</td><td>0.48749917</td></tr>\n",
       "\t<tr><th scope=row>Sphingobacterium_multivorum_HAMBI_1874_0_0_1</th><td>0.02986468</td><td>0.01553333</td><td>0.01733449</td></tr>\n",
       "\t<tr><th scope=row>Sphingobacterium_spiritivorum_HAMBI_1896_0_0_1</th><td>0.00719952</td><td>0.02120000</td><td>0.00600040</td></tr>\n",
       "</tbody>\n",
       "</table>\n"
      ],
      "text/latex": [
       "\\begin{tabular}{r|lll}\n",
       "  & 16 & 32 & 48\\\\\n",
       "\\hline\n",
       "\tAeromonas\\_caviae\\_HAMBI\\_1972\\_0\\_0\\_1 & 0.25924938 & 0.33693333 & 0.38442563\\\\\n",
       "\tCitrobacter\\_koseri\\_HAMBI\\_1287\\_0\\_0\\_1 & 0.25024998 & 0.05786667 & 0.01340089\\\\\n",
       "\tElizabethkingia\\_meningoseptica\\_HAMBI\\_1875\\_0\\_0\\_1 & 0.19592027 & 0.29273333 & 0.07880525\\\\\n",
       "\tPseudomonas\\_chlororaphis\\_HAMBI\\_1977\\_0\\_0\\_1 & 0.23531765 & 0.26826667 & 0.48749917\\\\\n",
       "\tSphingobacterium\\_multivorum\\_HAMBI\\_1874\\_0\\_0\\_1 & 0.02986468 & 0.01553333 & 0.01733449\\\\\n",
       "\tSphingobacterium\\_spiritivorum\\_HAMBI\\_1896\\_0\\_0\\_1 & 0.00719952 & 0.02120000 & 0.00600040\\\\\n",
       "\\end{tabular}\n"
      ],
      "text/markdown": [
       "\n",
       "| <!--/--> | 16 | 32 | 48 | \n",
       "|---|---|---|---|---|---|\n",
       "| Aeromonas_caviae_HAMBI_1972_0_0_1 | 0.25924938 | 0.33693333 | 0.38442563 | \n",
       "| Citrobacter_koseri_HAMBI_1287_0_0_1 | 0.25024998 | 0.05786667 | 0.01340089 | \n",
       "| Elizabethkingia_meningoseptica_HAMBI_1875_0_0_1 | 0.19592027 | 0.29273333 | 0.07880525 | \n",
       "| Pseudomonas_chlororaphis_HAMBI_1977_0_0_1 | 0.23531765 | 0.26826667 | 0.48749917 | \n",
       "| Sphingobacterium_multivorum_HAMBI_1874_0_0_1 | 0.02986468 | 0.01553333 | 0.01733449 | \n",
       "| Sphingobacterium_spiritivorum_HAMBI_1896_0_0_1 | 0.00719952 | 0.02120000 | 0.00600040 | \n",
       "\n",
       "\n"
      ],
      "text/plain": [
       "                                                16         32        \n",
       "Aeromonas_caviae_HAMBI_1972_0_0_1               0.25924938 0.33693333\n",
       "Citrobacter_koseri_HAMBI_1287_0_0_1             0.25024998 0.05786667\n",
       "Elizabethkingia_meningoseptica_HAMBI_1875_0_0_1 0.19592027 0.29273333\n",
       "Pseudomonas_chlororaphis_HAMBI_1977_0_0_1       0.23531765 0.26826667\n",
       "Sphingobacterium_multivorum_HAMBI_1874_0_0_1    0.02986468 0.01553333\n",
       "Sphingobacterium_spiritivorum_HAMBI_1896_0_0_1  0.00719952 0.02120000\n",
       "                                                48        \n",
       "Aeromonas_caviae_HAMBI_1972_0_0_1               0.38442563\n",
       "Citrobacter_koseri_HAMBI_1287_0_0_1             0.01340089\n",
       "Elizabethkingia_meningoseptica_HAMBI_1875_0_0_1 0.07880525\n",
       "Pseudomonas_chlororaphis_HAMBI_1977_0_0_1       0.48749917\n",
       "Sphingobacterium_multivorum_HAMBI_1874_0_0_1    0.01733449\n",
       "Sphingobacterium_spiritivorum_HAMBI_1896_0_0_1  0.00600040"
      ]
     },
     "metadata": {},
     "output_type": "display_data"
    }
   ],
   "source": [
    "# Remove empty rows\n",
    "\n",
    "dim(m1)\n",
    "m1 = m1[rowSums(m1) > 0.03,]\n",
    "dim(m1)\n",
    "head(m1)"
   ]
  },
  {
   "cell_type": "code",
   "execution_count": 7,
   "metadata": {},
   "outputs": [
    {
     "data": {
      "text/html": [
       "<ol class=list-inline>\n",
       "\t<li>TRUE</li>\n",
       "\t<li>TRUE</li>\n",
       "\t<li>TRUE</li>\n",
       "\t<li>TRUE</li>\n",
       "\t<li>TRUE</li>\n",
       "\t<li>TRUE</li>\n",
       "\t<li>TRUE</li>\n",
       "\t<li>TRUE</li>\n",
       "\t<li>TRUE</li>\n",
       "\t<li>TRUE</li>\n",
       "\t<li>TRUE</li>\n",
       "\t<li>TRUE</li>\n",
       "\t<li>TRUE</li>\n",
       "\t<li>TRUE</li>\n",
       "\t<li>TRUE</li>\n",
       "\t<li>TRUE</li>\n",
       "\t<li>TRUE</li>\n",
       "\t<li>TRUE</li>\n",
       "\t<li>TRUE</li>\n",
       "\t<li>TRUE</li>\n",
       "\t<li>TRUE</li>\n",
       "\t<li>TRUE</li>\n",
       "\t<li>TRUE</li>\n",
       "\t<li>TRUE</li>\n",
       "\t<li>TRUE</li>\n",
       "\t<li>TRUE</li>\n",
       "\t<li>TRUE</li>\n",
       "\t<li>TRUE</li>\n",
       "\t<li>TRUE</li>\n",
       "\t<li>TRUE</li>\n",
       "\t<li>TRUE</li>\n",
       "\t<li>TRUE</li>\n",
       "\t<li>TRUE</li>\n",
       "\t<li>TRUE</li>\n",
       "\t<li>TRUE</li>\n",
       "\t<li>TRUE</li>\n",
       "\t<li>TRUE</li>\n",
       "\t<li>TRUE</li>\n",
       "\t<li>TRUE</li>\n",
       "\t<li>TRUE</li>\n",
       "\t<li>TRUE</li>\n",
       "\t<li>TRUE</li>\n",
       "\t<li>TRUE</li>\n",
       "\t<li>TRUE</li>\n",
       "\t<li>TRUE</li>\n",
       "\t<li>TRUE</li>\n",
       "\t<li>TRUE</li>\n",
       "\t<li>TRUE</li>\n",
       "\t<li>TRUE</li>\n",
       "\t<li>TRUE</li>\n",
       "\t<li>TRUE</li>\n",
       "\t<li>TRUE</li>\n",
       "\t<li>TRUE</li>\n",
       "\t<li>TRUE</li>\n",
       "\t<li>TRUE</li>\n",
       "\t<li>TRUE</li>\n",
       "\t<li>TRUE</li>\n",
       "\t<li>TRUE</li>\n",
       "\t<li>TRUE</li>\n",
       "\t<li>TRUE</li>\n",
       "\t<li>TRUE</li>\n",
       "\t<li>TRUE</li>\n",
       "\t<li>TRUE</li>\n",
       "\t<li>TRUE</li>\n",
       "\t<li>TRUE</li>\n",
       "\t<li>TRUE</li>\n",
       "\t<li>TRUE</li>\n",
       "\t<li>TRUE</li>\n",
       "\t<li>TRUE</li>\n",
       "\t<li>TRUE</li>\n",
       "\t<li>TRUE</li>\n",
       "\t<li>TRUE</li>\n",
       "\t<li>TRUE</li>\n",
       "\t<li>TRUE</li>\n",
       "\t<li>TRUE</li>\n",
       "\t<li>TRUE</li>\n",
       "\t<li>TRUE</li>\n",
       "\t<li>TRUE</li>\n",
       "\t<li>TRUE</li>\n",
       "\t<li>TRUE</li>\n",
       "\t<li>TRUE</li>\n",
       "\t<li>TRUE</li>\n",
       "\t<li>TRUE</li>\n",
       "\t<li>TRUE</li>\n",
       "\t<li>TRUE</li>\n",
       "\t<li>TRUE</li>\n",
       "\t<li>TRUE</li>\n",
       "\t<li>TRUE</li>\n",
       "\t<li>TRUE</li>\n",
       "\t<li>TRUE</li>\n",
       "\t<li>TRUE</li>\n",
       "\t<li>TRUE</li>\n",
       "\t<li>TRUE</li>\n",
       "\t<li>TRUE</li>\n",
       "\t<li>TRUE</li>\n",
       "\t<li>TRUE</li>\n",
       "\t<li>TRUE</li>\n",
       "\t<li>TRUE</li>\n",
       "\t<li>TRUE</li>\n",
       "\t<li>TRUE</li>\n",
       "\t<li>TRUE</li>\n",
       "\t<li>TRUE</li>\n",
       "\t<li>TRUE</li>\n",
       "\t<li>TRUE</li>\n",
       "\t<li>TRUE</li>\n",
       "\t<li>TRUE</li>\n",
       "\t<li>TRUE</li>\n",
       "\t<li>TRUE</li>\n",
       "\t<li>TRUE</li>\n",
       "\t<li>TRUE</li>\n",
       "\t<li>TRUE</li>\n",
       "\t<li>TRUE</li>\n",
       "\t<li>TRUE</li>\n",
       "\t<li>TRUE</li>\n",
       "\t<li>TRUE</li>\n",
       "\t<li>TRUE</li>\n",
       "\t<li>TRUE</li>\n",
       "</ol>\n"
      ],
      "text/latex": [
       "\\begin{enumerate*}\n",
       "\\item TRUE\n",
       "\\item TRUE\n",
       "\\item TRUE\n",
       "\\item TRUE\n",
       "\\item TRUE\n",
       "\\item TRUE\n",
       "\\item TRUE\n",
       "\\item TRUE\n",
       "\\item TRUE\n",
       "\\item TRUE\n",
       "\\item TRUE\n",
       "\\item TRUE\n",
       "\\item TRUE\n",
       "\\item TRUE\n",
       "\\item TRUE\n",
       "\\item TRUE\n",
       "\\item TRUE\n",
       "\\item TRUE\n",
       "\\item TRUE\n",
       "\\item TRUE\n",
       "\\item TRUE\n",
       "\\item TRUE\n",
       "\\item TRUE\n",
       "\\item TRUE\n",
       "\\item TRUE\n",
       "\\item TRUE\n",
       "\\item TRUE\n",
       "\\item TRUE\n",
       "\\item TRUE\n",
       "\\item TRUE\n",
       "\\item TRUE\n",
       "\\item TRUE\n",
       "\\item TRUE\n",
       "\\item TRUE\n",
       "\\item TRUE\n",
       "\\item TRUE\n",
       "\\item TRUE\n",
       "\\item TRUE\n",
       "\\item TRUE\n",
       "\\item TRUE\n",
       "\\item TRUE\n",
       "\\item TRUE\n",
       "\\item TRUE\n",
       "\\item TRUE\n",
       "\\item TRUE\n",
       "\\item TRUE\n",
       "\\item TRUE\n",
       "\\item TRUE\n",
       "\\item TRUE\n",
       "\\item TRUE\n",
       "\\item TRUE\n",
       "\\item TRUE\n",
       "\\item TRUE\n",
       "\\item TRUE\n",
       "\\item TRUE\n",
       "\\item TRUE\n",
       "\\item TRUE\n",
       "\\item TRUE\n",
       "\\item TRUE\n",
       "\\item TRUE\n",
       "\\item TRUE\n",
       "\\item TRUE\n",
       "\\item TRUE\n",
       "\\item TRUE\n",
       "\\item TRUE\n",
       "\\item TRUE\n",
       "\\item TRUE\n",
       "\\item TRUE\n",
       "\\item TRUE\n",
       "\\item TRUE\n",
       "\\item TRUE\n",
       "\\item TRUE\n",
       "\\item TRUE\n",
       "\\item TRUE\n",
       "\\item TRUE\n",
       "\\item TRUE\n",
       "\\item TRUE\n",
       "\\item TRUE\n",
       "\\item TRUE\n",
       "\\item TRUE\n",
       "\\item TRUE\n",
       "\\item TRUE\n",
       "\\item TRUE\n",
       "\\item TRUE\n",
       "\\item TRUE\n",
       "\\item TRUE\n",
       "\\item TRUE\n",
       "\\item TRUE\n",
       "\\item TRUE\n",
       "\\item TRUE\n",
       "\\item TRUE\n",
       "\\item TRUE\n",
       "\\item TRUE\n",
       "\\item TRUE\n",
       "\\item TRUE\n",
       "\\item TRUE\n",
       "\\item TRUE\n",
       "\\item TRUE\n",
       "\\item TRUE\n",
       "\\item TRUE\n",
       "\\item TRUE\n",
       "\\item TRUE\n",
       "\\item TRUE\n",
       "\\item TRUE\n",
       "\\item TRUE\n",
       "\\item TRUE\n",
       "\\item TRUE\n",
       "\\item TRUE\n",
       "\\item TRUE\n",
       "\\item TRUE\n",
       "\\item TRUE\n",
       "\\item TRUE\n",
       "\\item TRUE\n",
       "\\item TRUE\n",
       "\\item TRUE\n",
       "\\item TRUE\n",
       "\\item TRUE\n",
       "\\end{enumerate*}\n"
      ],
      "text/markdown": [
       "1. TRUE\n",
       "2. TRUE\n",
       "3. TRUE\n",
       "4. TRUE\n",
       "5. TRUE\n",
       "6. TRUE\n",
       "7. TRUE\n",
       "8. TRUE\n",
       "9. TRUE\n",
       "10. TRUE\n",
       "11. TRUE\n",
       "12. TRUE\n",
       "13. TRUE\n",
       "14. TRUE\n",
       "15. TRUE\n",
       "16. TRUE\n",
       "17. TRUE\n",
       "18. TRUE\n",
       "19. TRUE\n",
       "20. TRUE\n",
       "21. TRUE\n",
       "22. TRUE\n",
       "23. TRUE\n",
       "24. TRUE\n",
       "25. TRUE\n",
       "26. TRUE\n",
       "27. TRUE\n",
       "28. TRUE\n",
       "29. TRUE\n",
       "30. TRUE\n",
       "31. TRUE\n",
       "32. TRUE\n",
       "33. TRUE\n",
       "34. TRUE\n",
       "35. TRUE\n",
       "36. TRUE\n",
       "37. TRUE\n",
       "38. TRUE\n",
       "39. TRUE\n",
       "40. TRUE\n",
       "41. TRUE\n",
       "42. TRUE\n",
       "43. TRUE\n",
       "44. TRUE\n",
       "45. TRUE\n",
       "46. TRUE\n",
       "47. TRUE\n",
       "48. TRUE\n",
       "49. TRUE\n",
       "50. TRUE\n",
       "51. TRUE\n",
       "52. TRUE\n",
       "53. TRUE\n",
       "54. TRUE\n",
       "55. TRUE\n",
       "56. TRUE\n",
       "57. TRUE\n",
       "58. TRUE\n",
       "59. TRUE\n",
       "60. TRUE\n",
       "61. TRUE\n",
       "62. TRUE\n",
       "63. TRUE\n",
       "64. TRUE\n",
       "65. TRUE\n",
       "66. TRUE\n",
       "67. TRUE\n",
       "68. TRUE\n",
       "69. TRUE\n",
       "70. TRUE\n",
       "71. TRUE\n",
       "72. TRUE\n",
       "73. TRUE\n",
       "74. TRUE\n",
       "75. TRUE\n",
       "76. TRUE\n",
       "77. TRUE\n",
       "78. TRUE\n",
       "79. TRUE\n",
       "80. TRUE\n",
       "81. TRUE\n",
       "82. TRUE\n",
       "83. TRUE\n",
       "84. TRUE\n",
       "85. TRUE\n",
       "86. TRUE\n",
       "87. TRUE\n",
       "88. TRUE\n",
       "89. TRUE\n",
       "90. TRUE\n",
       "91. TRUE\n",
       "92. TRUE\n",
       "93. TRUE\n",
       "94. TRUE\n",
       "95. TRUE\n",
       "96. TRUE\n",
       "97. TRUE\n",
       "98. TRUE\n",
       "99. TRUE\n",
       "100. TRUE\n",
       "101. TRUE\n",
       "102. TRUE\n",
       "103. TRUE\n",
       "104. TRUE\n",
       "105. TRUE\n",
       "106. TRUE\n",
       "107. TRUE\n",
       "108. TRUE\n",
       "109. TRUE\n",
       "110. TRUE\n",
       "111. TRUE\n",
       "112. TRUE\n",
       "113. TRUE\n",
       "114. TRUE\n",
       "115. TRUE\n",
       "116. TRUE\n",
       "117. TRUE\n",
       "\n",
       "\n"
      ],
      "text/plain": [
       "  [1] TRUE TRUE TRUE TRUE TRUE TRUE TRUE TRUE TRUE TRUE TRUE TRUE TRUE TRUE TRUE\n",
       " [16] TRUE TRUE TRUE TRUE TRUE TRUE TRUE TRUE TRUE TRUE TRUE TRUE TRUE TRUE TRUE\n",
       " [31] TRUE TRUE TRUE TRUE TRUE TRUE TRUE TRUE TRUE TRUE TRUE TRUE TRUE TRUE TRUE\n",
       " [46] TRUE TRUE TRUE TRUE TRUE TRUE TRUE TRUE TRUE TRUE TRUE TRUE TRUE TRUE TRUE\n",
       " [61] TRUE TRUE TRUE TRUE TRUE TRUE TRUE TRUE TRUE TRUE TRUE TRUE TRUE TRUE TRUE\n",
       " [76] TRUE TRUE TRUE TRUE TRUE TRUE TRUE TRUE TRUE TRUE TRUE TRUE TRUE TRUE TRUE\n",
       " [91] TRUE TRUE TRUE TRUE TRUE TRUE TRUE TRUE TRUE TRUE TRUE TRUE TRUE TRUE TRUE\n",
       "[106] TRUE TRUE TRUE TRUE TRUE TRUE TRUE TRUE TRUE TRUE TRUE TRUE"
      ]
     },
     "metadata": {},
     "output_type": "display_data"
    },
    {
     "data": {
      "text/html": [
       "<ol class=list-inline>\n",
       "\t<li>113</li>\n",
       "\t<li>3</li>\n",
       "</ol>\n"
      ],
      "text/latex": [
       "\\begin{enumerate*}\n",
       "\\item 113\n",
       "\\item 3\n",
       "\\end{enumerate*}\n"
      ],
      "text/markdown": [
       "1. 113\n",
       "2. 3\n",
       "\n",
       "\n"
      ],
      "text/plain": [
       "[1] 113   3"
      ]
     },
     "metadata": {},
     "output_type": "display_data"
    }
   ],
   "source": [
    "# Remove species with 3 or less data points\n",
    "\n",
    "df4 = as.data.frame(m1)\n",
    "df4$labels = rownames(df4)\n",
    "df4 = separate(df4, labels, c(\"S1\", \"S2\", \"S3\", \"S4\", \"Streptomycin\", \"Immigration\", \"Replicate\"), sep = \"_\")\n",
    "df4$Species = paste(df4$S1, df4$S2, df4$S3, df4$S4, sep = \" \")\n",
    "df4 = df4[,-c(4:7)]\n",
    "df5 = as.data.frame(table(df4$Species))\n",
    "colnames(df5) = c(\"Species\", \"Count\")\n",
    "df6 = merge(df4, df5, all.x = T)\n",
    "df6 = df6[order(df6$Streptomycin, df6$Immigration, df6$Replicate),]\n",
    "df4$Species == df6$Species\n",
    "x = df6$Count >= 3\n",
    "m1 = m1[x,]\n",
    "dim(m1)"
   ]
  },
  {
   "cell_type": "code",
   "execution_count": 8,
   "metadata": {},
   "outputs": [],
   "source": [
    "# Rtsne function may take some minutes to complete...\n",
    "\n",
    "set.seed(9)\n",
    "tsne_model_1 = Rtsne(m1, check_duplicates=FALSE, pca=TRUE, perplexity=30, theta=0.5, dims=2)"
   ]
  },
  {
   "cell_type": "code",
   "execution_count": 9,
   "metadata": {},
   "outputs": [],
   "source": [
    "# Getting the two dimension matrix\n",
    "\n",
    "d_tsne_1 = as.data.frame(tsne_model_1$Y)"
   ]
  },
  {
   "cell_type": "code",
   "execution_count": 10,
   "metadata": {},
   "outputs": [
    {
     "data": {},
     "metadata": {},
     "output_type": "display_data"
    },
    {
     "data": {
      "image/png": "[encoded data removed]",
      "text/plain": [
       "plot without title"
      ]
     },
     "metadata": {},
     "output_type": "display_data"
    }
   ],
   "source": [
    "# Plotting the results without clustering\n",
    "\n",
    "ggplot(d_tsne_1, aes(x=V1, y=V2)) +\n",
    "  geom_point(size=0.25) +\n",
    "  guides(colour=guide_legend(override.aes=list(size=6))) +\n",
    "  xlab(\"\") + ylab(\"\") +\n",
    "  ggtitle(\"t-SNE\") +\n",
    "  theme_light(base_size=20) +\n",
    "  theme(axis.text.x=element_blank(),\n",
    "        axis.text.y=element_blank()) +\n",
    "  scale_colour_brewer(palette = \"Set2\")"
   ]
  },
  {
   "cell_type": "code",
   "execution_count": 11,
   "metadata": {},
   "outputs": [],
   "source": [
    "# Setting the cluster model\n",
    "\n",
    "# Next piece of code will create the k-means and hierarchical cluster models.\n",
    "# To then assign the cluster number (1-7) to which each input case belongs.\n",
    "\n",
    "## keeping original data\n",
    "d_tsne_1_original=d_tsne_1\n",
    "\n",
    "## Creating k-means clustering model, and assigning the result to the data used to create the tsne\n",
    "fit_cluster_kmeans=kmeans(scale(d_tsne_1), 6)\n",
    "d_tsne_1_original$cl_kmeans = factor(fit_cluster_kmeans$cluster)\n",
    "\n",
    "## Creating hierarchical cluster model, and assigning the result to the data used to create the tsne\n",
    "fit_cluster_hierarchical=hclust(dist(scale(d_tsne_1)))\n",
    "\n",
    "## setting 3 clusters as output\n",
    "d_tsne_1_original$cl_hierarchical = factor(cutree(fit_cluster_hierarchical, k=6))"
   ]
  },
  {
   "cell_type": "code",
   "execution_count": 12,
   "metadata": {},
   "outputs": [
    {
     "data": {
      "image/png": "[encoded data removed]",
      "text/plain": [
       "plot without title"
      ]
     },
     "metadata": {},
     "output_type": "display_data"
    }
   ],
   "source": [
    "# Plotting the cluster models onto t-SNE output\n",
    "# Now time to plot the result of each cluster model, based on the t-SNE map.\n",
    "\n",
    "plot_cluster=function(data, var_cluster, palette)\n",
    "{\n",
    "  ggplot(data, aes_string(x=\"V1\", y=\"V2\", color=var_cluster)) +\n",
    "  geom_point(size=0.25) +\n",
    "  guides(colour=guide_legend(override.aes=list(size=6))) +\n",
    "  xlab(\"\") + ylab(\"\") +\n",
    "  ggtitle(\"\") +\n",
    "  theme_light(base_size=20) +\n",
    "  theme(axis.text.x=element_blank(),\n",
    "        axis.text.y=element_blank(),\n",
    "        legend.direction = \"horizontal\", \n",
    "        legend.position = \"bottom\",\n",
    "        legend.box = \"horizontal\") + \n",
    "    scale_colour_brewer(palette = palette) \n",
    "}\n",
    "\n",
    "\n",
    "plot_k=plot_cluster(d_tsne_1_original, \"cl_kmeans\", \"Accent\")\n",
    "plot_h=plot_cluster(d_tsne_1_original, \"cl_hierarchical\", \"Set1\")\n",
    "\n",
    "## and finally: putting the plots side by side with gridExtra lib...\n",
    "grid.arrange(plot_k, plot_h,  ncol=2)"
   ]
  },
  {
   "cell_type": "code",
   "execution_count": 13,
   "metadata": {},
   "outputs": [
    {
     "data": {
      "text/html": [
       "<ol class=list-inline>\n",
       "\t<li>113</li>\n",
       "\t<li>2</li>\n",
       "</ol>\n"
      ],
      "text/latex": [
       "\\begin{enumerate*}\n",
       "\\item 113\n",
       "\\item 2\n",
       "\\end{enumerate*}\n"
      ],
      "text/markdown": [
       "1. 113\n",
       "2. 2\n",
       "\n",
       "\n"
      ],
      "text/plain": [
       "[1] 113   2"
      ]
     },
     "metadata": {},
     "output_type": "display_data"
    },
    {
     "data": {
      "text/html": [
       "<table>\n",
       "<thead><tr><th scope=col>V1</th><th scope=col>V2</th><th scope=col>labels</th></tr></thead>\n",
       "<tbody>\n",
       "\t<tr><td>-0.7154072                                     </td><td> 1.885702                                      </td><td>Aeromonas_caviae_HAMBI_1972_0_0_1              </td></tr>\n",
       "\t<tr><td>-0.5035559                                     </td><td>-6.400980                                      </td><td>Citrobacter_koseri_HAMBI_1287_0_0_1            </td></tr>\n",
       "\t<tr><td> 1.3950652                                     </td><td> 6.196298                                      </td><td>Elizabethkingia_meningoseptica_HAMBI_1875_0_0_1</td></tr>\n",
       "\t<tr><td>-1.0585872                                     </td><td> 1.386091                                      </td><td>Pseudomonas_chlororaphis_HAMBI_1977_0_0_1      </td></tr>\n",
       "\t<tr><td> 1.3688446                                     </td><td>-8.583368                                      </td><td>Sphingobacterium_multivorum_HAMBI_1874_0_0_1   </td></tr>\n",
       "\t<tr><td> 1.3804680                                     </td><td>-9.574901                                      </td><td>Sphingobacterium_spiritivorum_HAMBI_1896_0_0_1 </td></tr>\n",
       "</tbody>\n",
       "</table>\n"
      ],
      "text/latex": [
       "\\begin{tabular}{r|lll}\n",
       " V1 & V2 & labels\\\\\n",
       "\\hline\n",
       "\t -0.7154072                                                  &  1.885702                                                   & Aeromonas\\_caviae\\_HAMBI\\_1972\\_0\\_0\\_1              \\\\\n",
       "\t -0.5035559                                                  & -6.400980                                                   & Citrobacter\\_koseri\\_HAMBI\\_1287\\_0\\_0\\_1            \\\\\n",
       "\t  1.3950652                                                  &  6.196298                                                   & Elizabethkingia\\_meningoseptica\\_HAMBI\\_1875\\_0\\_0\\_1\\\\\n",
       "\t -1.0585872                                                  &  1.386091                                                   & Pseudomonas\\_chlororaphis\\_HAMBI\\_1977\\_0\\_0\\_1      \\\\\n",
       "\t  1.3688446                                                  & -8.583368                                                   & Sphingobacterium\\_multivorum\\_HAMBI\\_1874\\_0\\_0\\_1   \\\\\n",
       "\t  1.3804680                                                  & -9.574901                                                   & Sphingobacterium\\_spiritivorum\\_HAMBI\\_1896\\_0\\_0\\_1 \\\\\n",
       "\\end{tabular}\n"
      ],
      "text/markdown": [
       "\n",
       "V1 | V2 | labels | \n",
       "|---|---|---|---|---|---|\n",
       "| -0.7154072                                      |  1.885702                                       | Aeromonas_caviae_HAMBI_1972_0_0_1               | \n",
       "| -0.5035559                                      | -6.400980                                       | Citrobacter_koseri_HAMBI_1287_0_0_1             | \n",
       "|  1.3950652                                      |  6.196298                                       | Elizabethkingia_meningoseptica_HAMBI_1875_0_0_1 | \n",
       "| -1.0585872                                      |  1.386091                                       | Pseudomonas_chlororaphis_HAMBI_1977_0_0_1       | \n",
       "|  1.3688446                                      | -8.583368                                       | Sphingobacterium_multivorum_HAMBI_1874_0_0_1    | \n",
       "|  1.3804680                                      | -9.574901                                       | Sphingobacterium_spiritivorum_HAMBI_1896_0_0_1  | \n",
       "\n",
       "\n"
      ],
      "text/plain": [
       "  V1         V2        labels                                         \n",
       "1 -0.7154072  1.885702 Aeromonas_caviae_HAMBI_1972_0_0_1              \n",
       "2 -0.5035559 -6.400980 Citrobacter_koseri_HAMBI_1287_0_0_1            \n",
       "3  1.3950652  6.196298 Elizabethkingia_meningoseptica_HAMBI_1875_0_0_1\n",
       "4 -1.0585872  1.386091 Pseudomonas_chlororaphis_HAMBI_1977_0_0_1      \n",
       "5  1.3688446 -8.583368 Sphingobacterium_multivorum_HAMBI_1874_0_0_1   \n",
       "6  1.3804680 -9.574901 Sphingobacterium_spiritivorum_HAMBI_1896_0_0_1 "
      ]
     },
     "metadata": {},
     "output_type": "display_data"
    }
   ],
   "source": [
    "dim(d_tsne_1)\n",
    "d_tsne_1$labels = rownames(m1)\n",
    "head(d_tsne_1)"
   ]
  },
  {
   "cell_type": "code",
   "execution_count": 14,
   "metadata": {},
   "outputs": [
    {
     "data": {
      "text/html": [
       "<table>\n",
       "<thead><tr><th scope=col>V1</th><th scope=col>V2</th><th scope=col>Streptomycin</th><th scope=col>Immigration</th><th scope=col>Replicate</th><th scope=col>Species</th></tr></thead>\n",
       "<tbody>\n",
       "\t<tr><td>-0.7154072                               </td><td> 1.885702                                </td><td>0                                        </td><td>0                                        </td><td>1                                        </td><td>Aeromonas caviae HAMBI 1972              </td></tr>\n",
       "\t<tr><td>-0.5035559                               </td><td>-6.400980                                </td><td>0                                        </td><td>0                                        </td><td>1                                        </td><td>Citrobacter koseri HAMBI 1287            </td></tr>\n",
       "\t<tr><td> 1.3950652                               </td><td> 6.196298                                </td><td>0                                        </td><td>0                                        </td><td>1                                        </td><td>Elizabethkingia meningoseptica HAMBI 1875</td></tr>\n",
       "\t<tr><td>-1.0585872                               </td><td> 1.386091                                </td><td>0                                        </td><td>0                                        </td><td>1                                        </td><td>Pseudomonas chlororaphis HAMBI 1977      </td></tr>\n",
       "\t<tr><td> 1.3688446                               </td><td>-8.583368                                </td><td>0                                        </td><td>0                                        </td><td>1                                        </td><td>Sphingobacterium multivorum HAMBI 1874   </td></tr>\n",
       "\t<tr><td> 1.3804680                               </td><td>-9.574901                                </td><td>0                                        </td><td>0                                        </td><td>1                                        </td><td>Sphingobacterium spiritivorum HAMBI 1896 </td></tr>\n",
       "</tbody>\n",
       "</table>\n"
      ],
      "text/latex": [
       "\\begin{tabular}{r|llllll}\n",
       " V1 & V2 & Streptomycin & Immigration & Replicate & Species\\\\\n",
       "\\hline\n",
       "\t -0.7154072                                &  1.885702                                 & 0                                         & 0                                         & 1                                         & Aeromonas caviae HAMBI 1972              \\\\\n",
       "\t -0.5035559                                & -6.400980                                 & 0                                         & 0                                         & 1                                         & Citrobacter koseri HAMBI 1287            \\\\\n",
       "\t  1.3950652                                &  6.196298                                 & 0                                         & 0                                         & 1                                         & Elizabethkingia meningoseptica HAMBI 1875\\\\\n",
       "\t -1.0585872                                &  1.386091                                 & 0                                         & 0                                         & 1                                         & Pseudomonas chlororaphis HAMBI 1977      \\\\\n",
       "\t  1.3688446                                & -8.583368                                 & 0                                         & 0                                         & 1                                         & Sphingobacterium multivorum HAMBI 1874   \\\\\n",
       "\t  1.3804680                                & -9.574901                                 & 0                                         & 0                                         & 1                                         & Sphingobacterium spiritivorum HAMBI 1896 \\\\\n",
       "\\end{tabular}\n"
      ],
      "text/markdown": [
       "\n",
       "V1 | V2 | Streptomycin | Immigration | Replicate | Species | \n",
       "|---|---|---|---|---|---|\n",
       "| -0.7154072                                |  1.885702                                 | 0                                         | 0                                         | 1                                         | Aeromonas caviae HAMBI 1972               | \n",
       "| -0.5035559                                | -6.400980                                 | 0                                         | 0                                         | 1                                         | Citrobacter koseri HAMBI 1287             | \n",
       "|  1.3950652                                |  6.196298                                 | 0                                         | 0                                         | 1                                         | Elizabethkingia meningoseptica HAMBI 1875 | \n",
       "| -1.0585872                                |  1.386091                                 | 0                                         | 0                                         | 1                                         | Pseudomonas chlororaphis HAMBI 1977       | \n",
       "|  1.3688446                                | -8.583368                                 | 0                                         | 0                                         | 1                                         | Sphingobacterium multivorum HAMBI 1874    | \n",
       "|  1.3804680                                | -9.574901                                 | 0                                         | 0                                         | 1                                         | Sphingobacterium spiritivorum HAMBI 1896  | \n",
       "\n",
       "\n"
      ],
      "text/plain": [
       "  V1         V2        Streptomycin Immigration Replicate\n",
       "1 -0.7154072  1.885702 0            0           1        \n",
       "2 -0.5035559 -6.400980 0            0           1        \n",
       "3  1.3950652  6.196298 0            0           1        \n",
       "4 -1.0585872  1.386091 0            0           1        \n",
       "5  1.3688446 -8.583368 0            0           1        \n",
       "6  1.3804680 -9.574901 0            0           1        \n",
       "  Species                                  \n",
       "1 Aeromonas caviae HAMBI 1972              \n",
       "2 Citrobacter koseri HAMBI 1287            \n",
       "3 Elizabethkingia meningoseptica HAMBI 1875\n",
       "4 Pseudomonas chlororaphis HAMBI 1977      \n",
       "5 Sphingobacterium multivorum HAMBI 1874   \n",
       "6 Sphingobacterium spiritivorum HAMBI 1896 "
      ]
     },
     "metadata": {},
     "output_type": "display_data"
    }
   ],
   "source": [
    "d_tsne_1 = separate(d_tsne_1, labels, c(\"S1\", \"S2\", \"S3\", \"S4\", \"Streptomycin\", \"Immigration\", \"Replicate\"), sep = \"_\")\n",
    "d_tsne_1$Species = paste(d_tsne_1$S1, d_tsne_1$S2, d_tsne_1$S3, d_tsne_1$S4, sep = \" \")\n",
    "d_tsne_1 = d_tsne_1[,-c(3:6)]\n",
    "head(d_tsne_1)"
   ]
  },
  {
   "cell_type": "code",
   "execution_count": 16,
   "metadata": {},
   "outputs": [
    {
     "data": {},
     "metadata": {},
     "output_type": "display_data"
    },
    {
     "data": {
      "image/png": "[encoded data removed]",
      "text/plain": [
       "plot without title"
      ]
     },
     "metadata": {},
     "output_type": "display_data"
    }
   ],
   "source": [
    "# Plotting the results by adding treatment information\n",
    "\n",
    "ggplot(d_tsne_1, aes(x=V1, y=V2, colour = Species)) +\n",
    "  geom_point(size=0.25) +\n",
    "  guides(colour=guide_legend(override.aes=list(size=6))) +\n",
    "  xlab(\"\") + ylab(\"\") +\n",
    "  ggtitle(\"t-SNE\") +\n",
    "  theme_light(base_size=20) +\n",
    "  theme(axis.text.x=element_blank(),\n",
    "        axis.text.y=element_blank(),\n",
    "        legend.direction = \"horizontal\", \n",
    "        legend.position = \"bottom\",\n",
    "        legend.box = \"horizontal\") + \n",
    "    scale_colour_brewer(palette = \"Set2\") "
   ]
  }
 ],
 "metadata": {
  "kernelspec": {
   "display_name": "R",
   "language": "R",
   "name": "ir"
  },
  "language_info": {
   "codemirror_mode": "r",
   "file_extension": ".r",
   "mimetype": "text/x-r-source",
   "name": "R",
   "pygments_lexer": "r",
   "version": "3.5.1"
  }
 },
 "nbformat": 4,
 "nbformat_minor": 2
}
