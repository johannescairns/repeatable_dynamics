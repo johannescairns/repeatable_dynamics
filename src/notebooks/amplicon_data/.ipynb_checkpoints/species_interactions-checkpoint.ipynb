{
 "cells": [
  {
   "cell_type": "markdown",
   "metadata": {},
   "source": [
    "# Species interactions (co-occurrence)\n",
    "\n",
    "Source: https://esajournals.onlinelibrary.wiley.com/doi/full/10.1002/ecy.2133\n",
    "\n",
    "## Correcting pairwise co-occurrence for environmental/habitat filtering\n",
    "\n",
    "Species pairs may or may not co-occur for a variety of reasons. Although pairwise co-occurrence is often interpreted directly as a signal of pairwise species interactions, co-occurrences themselves may be a result of habitat filtering (e.g., Blois et al. 2014, Morueta-Holme et al. 2016). Several methods have been proposed to first account for the influence of environmental factors in driving species co-occurrences and then examine the remaining \"significant\" associations. For several methods, accounting for the environment is implemented alongside the co-occurrence method (see the R package `BayesComm` for the JSDM residual covariance method, the R Bioconductor package `ccrepe` for the correlation methods). For the remaining methods (all constraint-based methods and partial correlation), we use the framework proposed by Blois et al. (2014; see also an implementation in Li & Waller 2016). In brief, the framework operates post-hoc on significant pairwise associations to evaluate whether negative co-occurrence is due to differences in habitat or whether positive co-occurrence is due to similarity in habitat (see Figures 1 and 2 in Blois et al. 2014 for a conceptual diagram). Note that the Blois et al. (2014) also considers how dispersal could generate patterns of positive or negative co-occurrence, though this is not considered in the present study nor implemented in this example."
   ]
  },
  {
   "cell_type": "code",
   "execution_count": 1,
   "metadata": {},
   "outputs": [
    {
     "name": "stderr",
     "output_type": "stream",
     "text": [
      "── Attaching packages ─────────────────────────────────────── tidyverse 1.2.1 ──\n",
      "✔ ggplot2 3.1.0       ✔ purrr   0.3.2  \n",
      "✔ tibble  2.1.1       ✔ dplyr   0.8.0.1\n",
      "✔ tidyr   0.8.3       ✔ stringr 1.4.0  \n",
      "✔ readr   1.1.1       ✔ forcats 0.3.0  \n",
      "── Conflicts ────────────────────────────────────────── tidyverse_conflicts() ──\n",
      "✖ dplyr::filter() masks stats::filter()\n",
      "✖ dplyr::lag()    masks stats::lag()\n",
      "Loading required package: permute\n",
      "Loading required package: lattice\n",
      "This is vegan 2.5-4\n"
     ]
    }
   ],
   "source": [
    "# Housekeeping\n",
    "\n",
    "library(cooccur)\n",
    "library(reshape2)\n",
    "library(tidyverse)\n",
    "library(vegan)"
   ]
  },
  {
   "cell_type": "code",
   "execution_count": 2,
   "metadata": {},
   "outputs": [],
   "source": [
    "# Read in data\n",
    "\n",
    "species_composition = read.table(\"../../../data/amplicon/species_composition_normalized_to_15k_reads.txt\", \n",
    "                                 sep = \"\\t\",\n",
    "                                 header = T,\n",
    "                                 row.names = 1)\n",
    "\n",
    "metadata = read.table(\"../../../data/amplicon/metadata.txt\",\n",
    "                      sep = \"\\t\",\n",
    "                      header = T,\n",
    "                      row.names = 1)\n",
    "\n",
    "\n",
    "# Extract regime shift data without predation\n",
    "\n",
    "x = metadata$Experiment != \"FiltrateExp\" & # keep only regime shift data\n",
    "    metadata$Predation != 1 & # exclude predation\n",
    "    metadata$Immigration != \"stock\" # exclude stock\n",
    "\n",
    "# Subset\n",
    "\n",
    "species_composition = species_composition[x,] # keep only species with data\n",
    "species_composition = species_composition[,colSums(species_composition)>0]\n",
    "metadata = metadata[x,-c(1, 3, 6)] # remove redundant columns\n",
    "\n",
    "# Convert species composition to presence absence data\n",
    "species_composition = as.data.frame(ifelse(species_composition == 0, 0, 1))\n",
    "\n",
    "# Convert metadata factors to numeric\n",
    "metadata$Streptomycin = as.numeric(as.character(metadata$Streptomycin))\n",
    "metadata$Immigration = as.numeric(as.character(metadata$Immigration))"
   ]
  },
  {
   "cell_type": "markdown",
   "metadata": {},
   "source": [
    "We need a list of the \"significant\" positive and negative co-occurrences for each species pair (implement this method _after_ running a co-occurrence analysis). Here we'll implement a simple co-occurrence method (combinatorics) available in R from the `cooccur` package."
   ]
  },
  {
   "cell_type": "code",
   "execution_count": 3,
   "metadata": {},
   "outputs": [
    {
     "name": "stdout",
     "output_type": "stream",
     "text": [
      "  |======================================================================| 100%\n"
     ]
    }
   ],
   "source": [
    "# run the combinatorics method\n",
    "# note: must transpose our \"site x species\" data to \"species x site\" data for function to work\n",
    "cooccur(t(species_composition), type = \"spp_site\", spp_names = TRUE)$results %>%\n",
    "  # select only our variables of interest: species pairs, and their\n",
    "  # probabilities of being positively associated (\"p_gt\" < 0.05) or\n",
    "  # negatively associated (\"p_lt\" < 0.05)\n",
    "  # for more information see ?cooccur::prob.table\n",
    "  select(sp1_name, sp2_name, positive = p_gt, negative = p_lt) %>%\n",
    "  gather(positive, negative, key = sign, value = probability) %>%\n",
    "  filter(sign == \"positive\" & probability < 0.05 |\n",
    "           sign == \"negative\" & probability < 0.05) %>%\n",
    "  # assign \"association\" based on the sign\n",
    "  mutate(association = ifelse(sign == \"positive\", 1, -1)) %>%\n",
    "  select(-sign, -probability) -> data_pairs\n",
    "# place positive & negative associations in different data frames\n",
    "data_pairs_neg <- filter(data_pairs, association < 0)\n",
    "data_pairs_pos <- filter(data_pairs, association > 0)"
   ]
  },
  {
   "cell_type": "markdown",
   "metadata": {},
   "source": [
    "The goal is to loop through each pair of negatively associated species, find the sites where the pair never co-occurs and determine whether the environmental characteristics are different at those sites. To test whether the environmental characteristics are different, Blois et al. (2014) recommend using ANOVA, but in many cases one might have multiple environmental characteristics of interest and we thus illustrate the use of multivariate Anova (PERMANOVA; Anderson 2001). Finally, if the sites are significantly different, remove that pair of species from the list of negatively associated species."
   ]
  },
  {
   "cell_type": "code",
   "execution_count": 4,
   "metadata": {},
   "outputs": [],
   "source": [
    "num_neg <- nrow(data_pairs_neg)\n",
    "data_pairs_neg_env <- numeric()\n",
    "\n",
    "for (i in 1:num_neg){\n",
    "  both_sp <- cbind(species_composition[,data_pairs_neg[i,\"sp1_name\"]],\n",
    "                 species_composition[,data_pairs_neg[i,\"sp2_name\"]])\n",
    "  sp1_only <- which(both_sp[,1] == 1 & both_sp[,2] == 0)\n",
    "  sp2_only <- which(both_sp[,1] == 0 & both_sp[,2] == 1)\n",
    "  env_tmp_1 <- metadata[sp1_only,-1]\n",
    "  env_tmp_2 <- metadata[sp2_only,-1]\n",
    "  if (nrow(env_tmp_1) == 0 | nrow(env_tmp_2) == 0) {\n",
    "    data_pairs_neg_env[i] <- NA\n",
    "  } else {\n",
    "    env_tmp <- bind_rows(list(one = env_tmp_1, two = env_tmp_2), .id = \"fac\")\n",
    "    # 'adonis' is the PERMANOVA function\n",
    "    ad_tmp <- adonis(select(env_tmp, -fac) ~ env_tmp$fac, permutations = 99)\n",
    "    data_pairs_neg_env[i] <- ad_tmp$aov.tab$`Pr(>F)`[1]\n",
    "  }\n",
    "}"
   ]
  },
  {
   "cell_type": "code",
   "execution_count": 5,
   "metadata": {},
   "outputs": [
    {
     "data": {
      "text/html": [
       "<table>\n",
       "<thead><tr><th></th><th scope=col>sp1_name</th><th scope=col>sp2_name</th><th scope=col>association</th></tr></thead>\n",
       "<tbody>\n",
       "\t<tr><th scope=row>1</th><td>Aeromonas_caviae_HAMBI_1972             </td><td>Stenotrophomonas_maltophilia_HAMBI_2659 </td><td>-1                                      </td></tr>\n",
       "\t<tr><th scope=row>3</th><td>Bordetella_avium_HAMBI_2160             </td><td>Stenotrophomonas_maltophilia_HAMBI_2659 </td><td>-1                                      </td></tr>\n",
       "\t<tr><th scope=row>4</th><td>Comamonas_testosteroni_HAMBI_403        </td><td>Stenotrophomonas_maltophilia_HAMBI_2659 </td><td>-1                                      </td></tr>\n",
       "\t<tr><th scope=row>6</th><td>Myroides_odoratus_HAMBI_1923            </td><td>Stenotrophomonas_maltophilia_HAMBI_2659 </td><td>-1                                      </td></tr>\n",
       "\t<tr><th scope=row>7</th><td>Niabella_yanshanensis_HAMBI_3031        </td><td>Pseudomonas_chlororaphis_HAMBI_1977     </td><td>-1                                      </td></tr>\n",
       "\t<tr><th scope=row>8</th><td>Paracoccus_denitrificans_HAMBI_2443     </td><td>Stenotrophomonas_maltophilia_HAMBI_2659 </td><td>-1                                      </td></tr>\n",
       "\t<tr><th scope=row>9</th><td>Pseudomonas_chlororaphis_HAMBI_1977     </td><td>Stenotrophomonas_maltophilia_HAMBI_2659 </td><td>-1                                      </td></tr>\n",
       "\t<tr><th scope=row>11</th><td>Sphingobacterium_multivorum_HAMBI_1874  </td><td>Stenotrophomonas_maltophilia_HAMBI_2659 </td><td>-1                                      </td></tr>\n",
       "\t<tr><th scope=row>12</th><td>Sphingobacterium_spiritivorum_HAMBI_1896</td><td>Stenotrophomonas_maltophilia_HAMBI_2659 </td><td>-1                                      </td></tr>\n",
       "\t<tr><th scope=row>13</th><td>Sphingobium_yanoikuyae_HAMBI_1842       </td><td>Stenotrophomonas_maltophilia_HAMBI_2659 </td><td>-1                                      </td></tr>\n",
       "</tbody>\n",
       "</table>\n"
      ],
      "text/latex": [
       "\\begin{tabular}{r|lll}\n",
       "  & sp1\\_name & sp2\\_name & association\\\\\n",
       "\\hline\n",
       "\t1 & Aeromonas\\_caviae\\_HAMBI\\_1972              & Stenotrophomonas\\_maltophilia\\_HAMBI\\_2659  & -1                                            \\\\\n",
       "\t3 & Bordetella\\_avium\\_HAMBI\\_2160              & Stenotrophomonas\\_maltophilia\\_HAMBI\\_2659  & -1                                            \\\\\n",
       "\t4 & Comamonas\\_testosteroni\\_HAMBI\\_403         & Stenotrophomonas\\_maltophilia\\_HAMBI\\_2659  & -1                                            \\\\\n",
       "\t6 & Myroides\\_odoratus\\_HAMBI\\_1923             & Stenotrophomonas\\_maltophilia\\_HAMBI\\_2659  & -1                                            \\\\\n",
       "\t7 & Niabella\\_yanshanensis\\_HAMBI\\_3031         & Pseudomonas\\_chlororaphis\\_HAMBI\\_1977      & -1                                            \\\\\n",
       "\t8 & Paracoccus\\_denitrificans\\_HAMBI\\_2443      & Stenotrophomonas\\_maltophilia\\_HAMBI\\_2659  & -1                                            \\\\\n",
       "\t9 & Pseudomonas\\_chlororaphis\\_HAMBI\\_1977      & Stenotrophomonas\\_maltophilia\\_HAMBI\\_2659  & -1                                            \\\\\n",
       "\t11 & Sphingobacterium\\_multivorum\\_HAMBI\\_1874   & Stenotrophomonas\\_maltophilia\\_HAMBI\\_2659  & -1                                            \\\\\n",
       "\t12 & Sphingobacterium\\_spiritivorum\\_HAMBI\\_1896 & Stenotrophomonas\\_maltophilia\\_HAMBI\\_2659  & -1                                            \\\\\n",
       "\t13 & Sphingobium\\_yanoikuyae\\_HAMBI\\_1842        & Stenotrophomonas\\_maltophilia\\_HAMBI\\_2659  & -1                                            \\\\\n",
       "\\end{tabular}\n"
      ],
      "text/markdown": [
       "\n",
       "| <!--/--> | sp1_name | sp2_name | association | \n",
       "|---|---|---|---|---|---|---|---|---|---|\n",
       "| 1 | Aeromonas_caviae_HAMBI_1972              | Stenotrophomonas_maltophilia_HAMBI_2659  | -1                                       | \n",
       "| 3 | Bordetella_avium_HAMBI_2160              | Stenotrophomonas_maltophilia_HAMBI_2659  | -1                                       | \n",
       "| 4 | Comamonas_testosteroni_HAMBI_403         | Stenotrophomonas_maltophilia_HAMBI_2659  | -1                                       | \n",
       "| 6 | Myroides_odoratus_HAMBI_1923             | Stenotrophomonas_maltophilia_HAMBI_2659  | -1                                       | \n",
       "| 7 | Niabella_yanshanensis_HAMBI_3031         | Pseudomonas_chlororaphis_HAMBI_1977      | -1                                       | \n",
       "| 8 | Paracoccus_denitrificans_HAMBI_2443      | Stenotrophomonas_maltophilia_HAMBI_2659  | -1                                       | \n",
       "| 9 | Pseudomonas_chlororaphis_HAMBI_1977      | Stenotrophomonas_maltophilia_HAMBI_2659  | -1                                       | \n",
       "| 11 | Sphingobacterium_multivorum_HAMBI_1874   | Stenotrophomonas_maltophilia_HAMBI_2659  | -1                                       | \n",
       "| 12 | Sphingobacterium_spiritivorum_HAMBI_1896 | Stenotrophomonas_maltophilia_HAMBI_2659  | -1                                       | \n",
       "| 13 | Sphingobium_yanoikuyae_HAMBI_1842        | Stenotrophomonas_maltophilia_HAMBI_2659  | -1                                       | \n",
       "\n",
       "\n"
      ],
      "text/plain": [
       "   sp1_name                                \n",
       "1  Aeromonas_caviae_HAMBI_1972             \n",
       "3  Bordetella_avium_HAMBI_2160             \n",
       "4  Comamonas_testosteroni_HAMBI_403        \n",
       "6  Myroides_odoratus_HAMBI_1923            \n",
       "7  Niabella_yanshanensis_HAMBI_3031        \n",
       "8  Paracoccus_denitrificans_HAMBI_2443     \n",
       "9  Pseudomonas_chlororaphis_HAMBI_1977     \n",
       "11 Sphingobacterium_multivorum_HAMBI_1874  \n",
       "12 Sphingobacterium_spiritivorum_HAMBI_1896\n",
       "13 Sphingobium_yanoikuyae_HAMBI_1842       \n",
       "   sp2_name                                association\n",
       "1  Stenotrophomonas_maltophilia_HAMBI_2659 -1         \n",
       "3  Stenotrophomonas_maltophilia_HAMBI_2659 -1         \n",
       "4  Stenotrophomonas_maltophilia_HAMBI_2659 -1         \n",
       "6  Stenotrophomonas_maltophilia_HAMBI_2659 -1         \n",
       "7  Pseudomonas_chlororaphis_HAMBI_1977     -1         \n",
       "8  Stenotrophomonas_maltophilia_HAMBI_2659 -1         \n",
       "9  Stenotrophomonas_maltophilia_HAMBI_2659 -1         \n",
       "11 Stenotrophomonas_maltophilia_HAMBI_2659 -1         \n",
       "12 Stenotrophomonas_maltophilia_HAMBI_2659 -1         \n",
       "13 Stenotrophomonas_maltophilia_HAMBI_2659 -1         "
      ]
     },
     "metadata": {},
     "output_type": "display_data"
    }
   ],
   "source": [
    "# which species associations remain after removing those caused by\n",
    "# environmental conditions that are significantly different?\n",
    "data_pairs_neg[which(data_pairs_neg_env > 0.05),]"
   ]
  },
  {
   "cell_type": "markdown",
   "metadata": {},
   "source": [
    "Then, for each pair of positively associated species, test whether the environment at the site of positive co-occurrence is different from the sites where both species never occur and remove those associations from subsequent analysis."
   ]
  },
  {
   "cell_type": "code",
   "execution_count": 6,
   "metadata": {},
   "outputs": [],
   "source": [
    "num_pos <- nrow(data_pairs_pos)\n",
    "data_pairs_pos_env <- numeric()\n",
    "\n",
    "for (i in 1:num_pos){\n",
    "  both_sp<-cbind(species_composition[,data_pairs_pos[i,\"sp1_name\"]],\n",
    "                 species_composition[,data_pairs_pos[i,\"sp2_name\"]])\n",
    "  both_occ <- which(both_sp[,1] == 1 & both_sp[,2] == 1)\n",
    "  neith_occ <- which(both_sp[,1] == 0 & both_sp[,2] == 0)\n",
    "  env_tmp_1 <- metadata[both_occ,]\n",
    "  env_tmp_2 <- metadata[neith_occ,]\n",
    "  if (nrow(env_tmp_1) == 0 | nrow(env_tmp_2) == 0) {\n",
    "    data_pairs_pos_env[i] <- NA\n",
    "  } else {\n",
    "    env_tmp <- bind_rows(list(one = env_tmp_1, two = env_tmp_2), .id = \"fac\")\n",
    "    ad_tmp <- adonis(select(env_tmp, -fac) ~ env_tmp$fac, permutations = 99)\n",
    "    data_pairs_pos_env[i] <- ad_tmp$aov.tab$`Pr(>F)`[1]\n",
    "  }\n",
    "}"
   ]
  },
  {
   "cell_type": "code",
   "execution_count": 7,
   "metadata": {},
   "outputs": [
    {
     "data": {
      "text/html": [
       "<table>\n",
       "<thead><tr><th></th><th scope=col>sp1_name</th><th scope=col>sp2_name</th><th scope=col>association</th></tr></thead>\n",
       "<tbody>\n",
       "\t<tr><th scope=row>6</th><td>Azorhizobium_caulinodans_HAMBI_216 </td><td>Paracoccus_denitrificans_HAMBI_2443</td><td>1                                  </td></tr>\n",
       "\t<tr><th scope=row>28</th><td>Myroides_odoratus_HAMBI_1923       </td><td>Paracoccus_denitrificans_HAMBI_2443</td><td>1                                  </td></tr>\n",
       "\t<tr><th scope=row>37</th><td>Paracoccus_denitrificans_HAMBI_2443</td><td>Sphingobium_yanoikuyae_HAMBI_1842  </td><td>1                                  </td></tr>\n",
       "</tbody>\n",
       "</table>\n"
      ],
      "text/latex": [
       "\\begin{tabular}{r|lll}\n",
       "  & sp1\\_name & sp2\\_name & association\\\\\n",
       "\\hline\n",
       "\t6 & Azorhizobium\\_caulinodans\\_HAMBI\\_216  & Paracoccus\\_denitrificans\\_HAMBI\\_2443 & 1                                        \\\\\n",
       "\t28 & Myroides\\_odoratus\\_HAMBI\\_1923        & Paracoccus\\_denitrificans\\_HAMBI\\_2443 & 1                                        \\\\\n",
       "\t37 & Paracoccus\\_denitrificans\\_HAMBI\\_2443 & Sphingobium\\_yanoikuyae\\_HAMBI\\_1842   & 1                                        \\\\\n",
       "\\end{tabular}\n"
      ],
      "text/markdown": [
       "\n",
       "| <!--/--> | sp1_name | sp2_name | association | \n",
       "|---|---|---|\n",
       "| 6 | Azorhizobium_caulinodans_HAMBI_216  | Paracoccus_denitrificans_HAMBI_2443 | 1                                   | \n",
       "| 28 | Myroides_odoratus_HAMBI_1923        | Paracoccus_denitrificans_HAMBI_2443 | 1                                   | \n",
       "| 37 | Paracoccus_denitrificans_HAMBI_2443 | Sphingobium_yanoikuyae_HAMBI_1842   | 1                                   | \n",
       "\n",
       "\n"
      ],
      "text/plain": [
       "   sp1_name                            sp2_name                           \n",
       "6  Azorhizobium_caulinodans_HAMBI_216  Paracoccus_denitrificans_HAMBI_2443\n",
       "28 Myroides_odoratus_HAMBI_1923        Paracoccus_denitrificans_HAMBI_2443\n",
       "37 Paracoccus_denitrificans_HAMBI_2443 Sphingobium_yanoikuyae_HAMBI_1842  \n",
       "   association\n",
       "6  1          \n",
       "28 1          \n",
       "37 1          "
      ]
     },
     "metadata": {},
     "output_type": "display_data"
    }
   ],
   "source": [
    "# which species associations remain after removing those caused by\n",
    "# environmental conditions that are significantly different?\n",
    "data_pairs_pos[which(data_pairs_pos_env > 0.05),]"
   ]
  },
  {
   "cell_type": "markdown",
   "metadata": {},
   "source": [
    "When corrected for environmental filtering, very few cases of higher than expected negative or positive species co-occurrence remain. All except for one case of negative co-occurrence are explained by a single rare species (2659) that does not co-occur with 9 other species. The remaining case is between 1977 and 3031. Positive co-occurrences appear between different combinations of four relatively low-abundance soil bacteria (216, 1842, 1923, 2443)."
   ]
  },
  {
   "cell_type": "markdown",
   "metadata": {},
   "source": [
    "## References\n",
    "\n",
    "Anderson, M. J. 2001. A new method for non-parametric multivariate analysis of variance. Austral Ecology 26:32–46. doi: [10.1111/j.1442-9993.2001.01070.pp.x](https://doi.org/10.1111/j.1442-9993.2001.01070.pp.x)\n",
    "\n",
    "Blois, J. L., N. J. Gotelli, A. K. Behrensmeyer, J. T. Faith, S. K. Lyons, J. W. Williams, K. L. Amatangelo, A. Bercovici, A. Du, J. T. Eronen, G. R. Graves, N. Jud, C. Labandeira, C. V. Looy, B. McGill, D. Patterson, R. Potts, B. Riddle, R. Terry, A. Tóth, A. Villaseñor, and S. Wing. 2014. A framework for evaluating the influence of climate, dispersal limitation, and biotic interactions using fossil pollen associations across the late Quaternary. Ecography 37:1095–1108. doi: [10.1111/ecog.00779](https://doi.org/10.1111/ecog.00779)\n",
    "\n",
    "Li, D., and D. Waller. 2016. Long-term shifts in the patterns and underlying processes of plant associations in Wisconsin forests. Global Ecology and Biogeography 25:516-526. doi: [10.1111/geb.12432](https://doi.org/10.1111/geb.12432)\n",
    "\n",
    "Morueta-Holme, N., B. Blonder, B. Sandel, B. J. McGill, R. K. Peet, J. E. Ott, C. Violle, B. J. Enquist, P. M. Jørgensen, and J.-C. Svenning. 2016. A network approach for inferring species associations from co-occurrence data. Ecography 39:1–12. doi: [10.1111/ecog.01892](https://doi.org/10.1111/ecog.01892)"
   ]
  }
 ],
 "metadata": {
  "kernelspec": {
   "display_name": "R",
   "language": "R",
   "name": "ir"
  },
  "language_info": {
   "codemirror_mode": "r",
   "file_extension": ".r",
   "mimetype": "text/x-r-source",
   "name": "R",
   "pygments_lexer": "r",
   "version": "3.5.1"
  }
 },
 "nbformat": 4,
 "nbformat_minor": 2
}
