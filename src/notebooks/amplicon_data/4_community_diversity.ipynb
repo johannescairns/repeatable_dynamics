{
 "cells": [
  {
   "cell_type": "markdown",
   "metadata": {},
   "source": [
    "# Community diversity analysis"
   ]
  },
  {
   "cell_type": "markdown",
   "metadata": {},
   "source": [
    "**Housekeeping**"
   ]
  },
  {
   "cell_type": "code",
   "execution_count": 1,
   "metadata": {},
   "outputs": [
    {
     "name": "stderr",
     "output_type": "stream",
     "text": [
      "Loading required package: mvtnorm\n",
      "Loading required package: survival\n",
      "Loading required package: TH.data\n",
      "Loading required package: MASS\n",
      "\n",
      "Attaching package: ‘TH.data’\n",
      "\n",
      "The following object is masked from ‘package:MASS’:\n",
      "\n",
      "    geyser\n",
      "\n",
      "Loading required package: permute\n",
      "Loading required package: lattice\n",
      "This is vegan 2.5-4\n"
     ]
    }
   ],
   "source": [
    "library(ggplot2)\n",
    "library(multcomp)\n",
    "library(reshape2)\n",
    "library(scales)\n",
    "library(vegan)"
   ]
  },
  {
   "cell_type": "markdown",
   "metadata": {},
   "source": [
    "**Read in data**"
   ]
  },
  {
   "cell_type": "code",
   "execution_count": 2,
   "metadata": {},
   "outputs": [
    {
     "data": {
      "text/html": [
       "<table>\n",
       "<thead><tr><th></th><th scope=col>Citrobacter_koseri_HAMBI_1287</th><th scope=col>Elizabethkingia_meningoseptica_HAMBI_1875</th><th scope=col>Aeromonas_caviae_HAMBI_1972</th><th scope=col>Pseudomonas_chlororaphis_HAMBI_1977</th><th scope=col>Sphingobacterium_spiritivorum_HAMBI_1896</th><th scope=col>Comamonas_testosteroni_HAMBI_403</th><th scope=col>Agrobacterium_tumefaciens_HAMBI_105</th><th scope=col>Stenotrophomonas_maltophilia_HAMBI_2659</th><th scope=col>Myroides_odoratus_HAMBI_1923</th><th scope=col>Morganella_morganii_HAMBI_1292</th><th scope=col>⋯</th><th scope=col>Roseomonas_gilardii_HAMBI_2470</th><th scope=col>Cupriavidus_necator_HAMBI_2164</th><th scope=col>Escherichia_coli_JE2571.RP4.</th><th scope=col>Paraburkholderia_caryophylli_HAMBI_2159</th><th scope=col>Chitinophaga_filiformis_HAMBI_1966</th><th scope=col>Thermomonas_haemolytica_HAMBI_2467</th><th scope=col>Moraxella_canis_HAMBI_2792</th><th scope=col>Acinetobacter_lwoffii_HAMBI_97</th><th scope=col>Pseudomonas_putida_HAMBI_6</th><th scope=col>Chitinophaga_sancti_HAMBI_1988</th></tr></thead>\n",
       "<tbody>\n",
       "\t<tr><th scope=row>T12_I0_AB0_REP1</th><td>0.02044547  </td><td>0.1950614   </td><td>0.2713066   </td><td>0.1746159   </td><td>0.002609835 </td><td>0.3269056022</td><td>5.283067e-05</td><td>0.00000000  </td><td>0.0000000000</td><td>2.113227e-05</td><td>⋯           </td><td>0           </td><td>0.0000000000</td><td>0           </td><td>0           </td><td>0           </td><td>0           </td><td>0           </td><td>0           </td><td>0.0000000000</td><td>0           </td></tr>\n",
       "\t<tr><th scope=row>T12_I0_AB0_REP2</th><td>0.18956445  </td><td>0.3435331   </td><td>0.1276586   </td><td>0.3231926   </td><td>0.003979660 </td><td>0.0002653106</td><td>8.843688e-05</td><td>0.00000000  </td><td>0.0000000000</td><td>3.537475e-04</td><td>⋯           </td><td>0           </td><td>0.0000000000</td><td>0           </td><td>0           </td><td>0           </td><td>0           </td><td>0           </td><td>0           </td><td>0.0000000000</td><td>0           </td></tr>\n",
       "\t<tr><th scope=row>T12_I0_AB0_REP3</th><td>0.15960167  </td><td>0.2744808   </td><td>0.1932894   </td><td>0.2805813   </td><td>0.087605975 </td><td>0.0000000000</td><td>0.000000e+00</td><td>0.00000000  </td><td>0.0006279998</td><td>0.000000e+00</td><td>⋯           </td><td>0           </td><td>0.0000000000</td><td>0           </td><td>0           </td><td>0           </td><td>0           </td><td>0           </td><td>0           </td><td>0.0000000000</td><td>0           </td></tr>\n",
       "\t<tr><th scope=row>T12_I0_AB0_REP4</th><td>0.16116394  </td><td>0.3383399   </td><td>0.1873889   </td><td>0.1478108   </td><td>0.081355907 </td><td>0.0047695225</td><td>6.591421e-03</td><td>0.00000000  </td><td>0.0109758265</td><td>7.924517e-04</td><td>⋯           </td><td>0           </td><td>0.0000000000</td><td>0           </td><td>0           </td><td>0           </td><td>0           </td><td>0           </td><td>0           </td><td>0.0000000000</td><td>0           </td></tr>\n",
       "\t<tr><th scope=row>T12_I0_AB0_REP5</th><td>0.17480631  </td><td>0.2856506   </td><td>0.2308473   </td><td>0.1852274   </td><td>0.017277655 </td><td>0.0133419144</td><td>5.990247e-03</td><td>0.04039704  </td><td>0.0019802470</td><td>1.732716e-03</td><td>⋯           </td><td>0           </td><td>0.0003465432</td><td>0           </td><td>0           </td><td>0           </td><td>0           </td><td>0           </td><td>0           </td><td>0.0000000000</td><td>0           </td></tr>\n",
       "\t<tr><th scope=row>T12_I0_AB0_REP6</th><td>0.24414392  </td><td>0.2605325   </td><td>0.2364341   </td><td>0.1691945   </td><td>0.018537243 </td><td>0.0043815302</td><td>1.365015e-02</td><td>0.00000000  </td><td>0.0129760701</td><td>3.875969e-03</td><td>⋯           </td><td>0           </td><td>0.0000000000</td><td>0           </td><td>0           </td><td>0           </td><td>0           </td><td>0           </td><td>0           </td><td>0.0001263903</td><td>0           </td></tr>\n",
       "</tbody>\n",
       "</table>\n"
      ],
      "text/latex": [
       "\\begin{tabular}{r|lllllllllllllllllllllllllllll}\n",
       "  & Citrobacter\\_koseri\\_HAMBI\\_1287 & Elizabethkingia\\_meningoseptica\\_HAMBI\\_1875 & Aeromonas\\_caviae\\_HAMBI\\_1972 & Pseudomonas\\_chlororaphis\\_HAMBI\\_1977 & Sphingobacterium\\_spiritivorum\\_HAMBI\\_1896 & Comamonas\\_testosteroni\\_HAMBI\\_403 & Agrobacterium\\_tumefaciens\\_HAMBI\\_105 & Stenotrophomonas\\_maltophilia\\_HAMBI\\_2659 & Myroides\\_odoratus\\_HAMBI\\_1923 & Morganella\\_morganii\\_HAMBI\\_1292 & ⋯ & Roseomonas\\_gilardii\\_HAMBI\\_2470 & Cupriavidus\\_necator\\_HAMBI\\_2164 & Escherichia\\_coli\\_JE2571.RP4. & Paraburkholderia\\_caryophylli\\_HAMBI\\_2159 & Chitinophaga\\_filiformis\\_HAMBI\\_1966 & Thermomonas\\_haemolytica\\_HAMBI\\_2467 & Moraxella\\_canis\\_HAMBI\\_2792 & Acinetobacter\\_lwoffii\\_HAMBI\\_97 & Pseudomonas\\_putida\\_HAMBI\\_6 & Chitinophaga\\_sancti\\_HAMBI\\_1988\\\\\n",
       "\\hline\n",
       "\tT12\\_I0\\_AB0\\_REP1 & 0.02044547   & 0.1950614    & 0.2713066    & 0.1746159    & 0.002609835  & 0.3269056022 & 5.283067e-05 & 0.00000000   & 0.0000000000 & 2.113227e-05 & ⋯            & 0            & 0.0000000000 & 0            & 0            & 0            & 0            & 0            & 0            & 0.0000000000 & 0           \\\\\n",
       "\tT12\\_I0\\_AB0\\_REP2 & 0.18956445   & 0.3435331    & 0.1276586    & 0.3231926    & 0.003979660  & 0.0002653106 & 8.843688e-05 & 0.00000000   & 0.0000000000 & 3.537475e-04 & ⋯            & 0            & 0.0000000000 & 0            & 0            & 0            & 0            & 0            & 0            & 0.0000000000 & 0           \\\\\n",
       "\tT12\\_I0\\_AB0\\_REP3 & 0.15960167   & 0.2744808    & 0.1932894    & 0.2805813    & 0.087605975  & 0.0000000000 & 0.000000e+00 & 0.00000000   & 0.0006279998 & 0.000000e+00 & ⋯            & 0            & 0.0000000000 & 0            & 0            & 0            & 0            & 0            & 0            & 0.0000000000 & 0           \\\\\n",
       "\tT12\\_I0\\_AB0\\_REP4 & 0.16116394   & 0.3383399    & 0.1873889    & 0.1478108    & 0.081355907  & 0.0047695225 & 6.591421e-03 & 0.00000000   & 0.0109758265 & 7.924517e-04 & ⋯            & 0            & 0.0000000000 & 0            & 0            & 0            & 0            & 0            & 0            & 0.0000000000 & 0           \\\\\n",
       "\tT12\\_I0\\_AB0\\_REP5 & 0.17480631   & 0.2856506    & 0.2308473    & 0.1852274    & 0.017277655  & 0.0133419144 & 5.990247e-03 & 0.04039704   & 0.0019802470 & 1.732716e-03 & ⋯            & 0            & 0.0003465432 & 0            & 0            & 0            & 0            & 0            & 0            & 0.0000000000 & 0           \\\\\n",
       "\tT12\\_I0\\_AB0\\_REP6 & 0.24414392   & 0.2605325    & 0.2364341    & 0.1691945    & 0.018537243  & 0.0043815302 & 1.365015e-02 & 0.00000000   & 0.0129760701 & 3.875969e-03 & ⋯            & 0            & 0.0000000000 & 0            & 0            & 0            & 0            & 0            & 0            & 0.0001263903 & 0           \\\\\n",
       "\\end{tabular}\n"
      ],
      "text/markdown": [
       "\n",
       "| <!--/--> | Citrobacter_koseri_HAMBI_1287 | Elizabethkingia_meningoseptica_HAMBI_1875 | Aeromonas_caviae_HAMBI_1972 | Pseudomonas_chlororaphis_HAMBI_1977 | Sphingobacterium_spiritivorum_HAMBI_1896 | Comamonas_testosteroni_HAMBI_403 | Agrobacterium_tumefaciens_HAMBI_105 | Stenotrophomonas_maltophilia_HAMBI_2659 | Myroides_odoratus_HAMBI_1923 | Morganella_morganii_HAMBI_1292 | ⋯ | Roseomonas_gilardii_HAMBI_2470 | Cupriavidus_necator_HAMBI_2164 | Escherichia_coli_JE2571.RP4. | Paraburkholderia_caryophylli_HAMBI_2159 | Chitinophaga_filiformis_HAMBI_1966 | Thermomonas_haemolytica_HAMBI_2467 | Moraxella_canis_HAMBI_2792 | Acinetobacter_lwoffii_HAMBI_97 | Pseudomonas_putida_HAMBI_6 | Chitinophaga_sancti_HAMBI_1988 | \n",
       "|---|---|---|---|---|---|\n",
       "| T12_I0_AB0_REP1 | 0.02044547   | 0.1950614    | 0.2713066    | 0.1746159    | 0.002609835  | 0.3269056022 | 5.283067e-05 | 0.00000000   | 0.0000000000 | 2.113227e-05 | ⋯            | 0            | 0.0000000000 | 0            | 0            | 0            | 0            | 0            | 0            | 0.0000000000 | 0            | \n",
       "| T12_I0_AB0_REP2 | 0.18956445   | 0.3435331    | 0.1276586    | 0.3231926    | 0.003979660  | 0.0002653106 | 8.843688e-05 | 0.00000000   | 0.0000000000 | 3.537475e-04 | ⋯            | 0            | 0.0000000000 | 0            | 0            | 0            | 0            | 0            | 0            | 0.0000000000 | 0            | \n",
       "| T12_I0_AB0_REP3 | 0.15960167   | 0.2744808    | 0.1932894    | 0.2805813    | 0.087605975  | 0.0000000000 | 0.000000e+00 | 0.00000000   | 0.0006279998 | 0.000000e+00 | ⋯            | 0            | 0.0000000000 | 0            | 0            | 0            | 0            | 0            | 0            | 0.0000000000 | 0            | \n",
       "| T12_I0_AB0_REP4 | 0.16116394   | 0.3383399    | 0.1873889    | 0.1478108    | 0.081355907  | 0.0047695225 | 6.591421e-03 | 0.00000000   | 0.0109758265 | 7.924517e-04 | ⋯            | 0            | 0.0000000000 | 0            | 0            | 0            | 0            | 0            | 0            | 0.0000000000 | 0            | \n",
       "| T12_I0_AB0_REP5 | 0.17480631   | 0.2856506    | 0.2308473    | 0.1852274    | 0.017277655  | 0.0133419144 | 5.990247e-03 | 0.04039704   | 0.0019802470 | 1.732716e-03 | ⋯            | 0            | 0.0003465432 | 0            | 0            | 0            | 0            | 0            | 0            | 0.0000000000 | 0            | \n",
       "| T12_I0_AB0_REP6 | 0.24414392   | 0.2605325    | 0.2364341    | 0.1691945    | 0.018537243  | 0.0043815302 | 1.365015e-02 | 0.00000000   | 0.0129760701 | 3.875969e-03 | ⋯            | 0            | 0.0000000000 | 0            | 0            | 0            | 0            | 0            | 0            | 0.0001263903 | 0            | \n",
       "\n",
       "\n"
      ],
      "text/plain": [
       "                Citrobacter_koseri_HAMBI_1287\n",
       "T12_I0_AB0_REP1 0.02044547                   \n",
       "T12_I0_AB0_REP2 0.18956445                   \n",
       "T12_I0_AB0_REP3 0.15960167                   \n",
       "T12_I0_AB0_REP4 0.16116394                   \n",
       "T12_I0_AB0_REP5 0.17480631                   \n",
       "T12_I0_AB0_REP6 0.24414392                   \n",
       "                Elizabethkingia_meningoseptica_HAMBI_1875\n",
       "T12_I0_AB0_REP1 0.1950614                                \n",
       "T12_I0_AB0_REP2 0.3435331                                \n",
       "T12_I0_AB0_REP3 0.2744808                                \n",
       "T12_I0_AB0_REP4 0.3383399                                \n",
       "T12_I0_AB0_REP5 0.2856506                                \n",
       "T12_I0_AB0_REP6 0.2605325                                \n",
       "                Aeromonas_caviae_HAMBI_1972 Pseudomonas_chlororaphis_HAMBI_1977\n",
       "T12_I0_AB0_REP1 0.2713066                   0.1746159                          \n",
       "T12_I0_AB0_REP2 0.1276586                   0.3231926                          \n",
       "T12_I0_AB0_REP3 0.1932894                   0.2805813                          \n",
       "T12_I0_AB0_REP4 0.1873889                   0.1478108                          \n",
       "T12_I0_AB0_REP5 0.2308473                   0.1852274                          \n",
       "T12_I0_AB0_REP6 0.2364341                   0.1691945                          \n",
       "                Sphingobacterium_spiritivorum_HAMBI_1896\n",
       "T12_I0_AB0_REP1 0.002609835                             \n",
       "T12_I0_AB0_REP2 0.003979660                             \n",
       "T12_I0_AB0_REP3 0.087605975                             \n",
       "T12_I0_AB0_REP4 0.081355907                             \n",
       "T12_I0_AB0_REP5 0.017277655                             \n",
       "T12_I0_AB0_REP6 0.018537243                             \n",
       "                Comamonas_testosteroni_HAMBI_403\n",
       "T12_I0_AB0_REP1 0.3269056022                    \n",
       "T12_I0_AB0_REP2 0.0002653106                    \n",
       "T12_I0_AB0_REP3 0.0000000000                    \n",
       "T12_I0_AB0_REP4 0.0047695225                    \n",
       "T12_I0_AB0_REP5 0.0133419144                    \n",
       "T12_I0_AB0_REP6 0.0043815302                    \n",
       "                Agrobacterium_tumefaciens_HAMBI_105\n",
       "T12_I0_AB0_REP1 5.283067e-05                       \n",
       "T12_I0_AB0_REP2 8.843688e-05                       \n",
       "T12_I0_AB0_REP3 0.000000e+00                       \n",
       "T12_I0_AB0_REP4 6.591421e-03                       \n",
       "T12_I0_AB0_REP5 5.990247e-03                       \n",
       "T12_I0_AB0_REP6 1.365015e-02                       \n",
       "                Stenotrophomonas_maltophilia_HAMBI_2659\n",
       "T12_I0_AB0_REP1 0.00000000                             \n",
       "T12_I0_AB0_REP2 0.00000000                             \n",
       "T12_I0_AB0_REP3 0.00000000                             \n",
       "T12_I0_AB0_REP4 0.00000000                             \n",
       "T12_I0_AB0_REP5 0.04039704                             \n",
       "T12_I0_AB0_REP6 0.00000000                             \n",
       "                Myroides_odoratus_HAMBI_1923 Morganella_morganii_HAMBI_1292 ⋯\n",
       "T12_I0_AB0_REP1 0.0000000000                 2.113227e-05                   ⋯\n",
       "T12_I0_AB0_REP2 0.0000000000                 3.537475e-04                   ⋯\n",
       "T12_I0_AB0_REP3 0.0006279998                 0.000000e+00                   ⋯\n",
       "T12_I0_AB0_REP4 0.0109758265                 7.924517e-04                   ⋯\n",
       "T12_I0_AB0_REP5 0.0019802470                 1.732716e-03                   ⋯\n",
       "T12_I0_AB0_REP6 0.0129760701                 3.875969e-03                   ⋯\n",
       "                Roseomonas_gilardii_HAMBI_2470 Cupriavidus_necator_HAMBI_2164\n",
       "T12_I0_AB0_REP1 0                              0.0000000000                  \n",
       "T12_I0_AB0_REP2 0                              0.0000000000                  \n",
       "T12_I0_AB0_REP3 0                              0.0000000000                  \n",
       "T12_I0_AB0_REP4 0                              0.0000000000                  \n",
       "T12_I0_AB0_REP5 0                              0.0003465432                  \n",
       "T12_I0_AB0_REP6 0                              0.0000000000                  \n",
       "                Escherichia_coli_JE2571.RP4.\n",
       "T12_I0_AB0_REP1 0                           \n",
       "T12_I0_AB0_REP2 0                           \n",
       "T12_I0_AB0_REP3 0                           \n",
       "T12_I0_AB0_REP4 0                           \n",
       "T12_I0_AB0_REP5 0                           \n",
       "T12_I0_AB0_REP6 0                           \n",
       "                Paraburkholderia_caryophylli_HAMBI_2159\n",
       "T12_I0_AB0_REP1 0                                      \n",
       "T12_I0_AB0_REP2 0                                      \n",
       "T12_I0_AB0_REP3 0                                      \n",
       "T12_I0_AB0_REP4 0                                      \n",
       "T12_I0_AB0_REP5 0                                      \n",
       "T12_I0_AB0_REP6 0                                      \n",
       "                Chitinophaga_filiformis_HAMBI_1966\n",
       "T12_I0_AB0_REP1 0                                 \n",
       "T12_I0_AB0_REP2 0                                 \n",
       "T12_I0_AB0_REP3 0                                 \n",
       "T12_I0_AB0_REP4 0                                 \n",
       "T12_I0_AB0_REP5 0                                 \n",
       "T12_I0_AB0_REP6 0                                 \n",
       "                Thermomonas_haemolytica_HAMBI_2467 Moraxella_canis_HAMBI_2792\n",
       "T12_I0_AB0_REP1 0                                  0                         \n",
       "T12_I0_AB0_REP2 0                                  0                         \n",
       "T12_I0_AB0_REP3 0                                  0                         \n",
       "T12_I0_AB0_REP4 0                                  0                         \n",
       "T12_I0_AB0_REP5 0                                  0                         \n",
       "T12_I0_AB0_REP6 0                                  0                         \n",
       "                Acinetobacter_lwoffii_HAMBI_97 Pseudomonas_putida_HAMBI_6\n",
       "T12_I0_AB0_REP1 0                              0.0000000000              \n",
       "T12_I0_AB0_REP2 0                              0.0000000000              \n",
       "T12_I0_AB0_REP3 0                              0.0000000000              \n",
       "T12_I0_AB0_REP4 0                              0.0000000000              \n",
       "T12_I0_AB0_REP5 0                              0.0000000000              \n",
       "T12_I0_AB0_REP6 0                              0.0001263903              \n",
       "                Chitinophaga_sancti_HAMBI_1988\n",
       "T12_I0_AB0_REP1 0                             \n",
       "T12_I0_AB0_REP2 0                             \n",
       "T12_I0_AB0_REP3 0                             \n",
       "T12_I0_AB0_REP4 0                             \n",
       "T12_I0_AB0_REP5 0                             \n",
       "T12_I0_AB0_REP6 0                             "
      ]
     },
     "metadata": {},
     "output_type": "display_data"
    },
    {
     "data": {
      "text/html": [
       "<table>\n",
       "<thead><tr><th></th><th scope=col>Immigration</th><th scope=col>Streptomycin</th><th scope=col>Replicate</th><th scope=col>Day</th></tr></thead>\n",
       "<tbody>\n",
       "\t<tr><th scope=row>T12_I0_AB0_REP1</th><td>0 </td><td>0 </td><td>1 </td><td>48</td></tr>\n",
       "\t<tr><th scope=row>T12_I0_AB0_REP2</th><td>0 </td><td>0 </td><td>2 </td><td>48</td></tr>\n",
       "\t<tr><th scope=row>T12_I0_AB0_REP3</th><td>0 </td><td>0 </td><td>3 </td><td>48</td></tr>\n",
       "\t<tr><th scope=row>T12_I0_AB0_REP4</th><td>0 </td><td>0 </td><td>4 </td><td>48</td></tr>\n",
       "\t<tr><th scope=row>T12_I0_AB0_REP5</th><td>0 </td><td>0 </td><td>5 </td><td>48</td></tr>\n",
       "\t<tr><th scope=row>T12_I0_AB0_REP6</th><td>0 </td><td>0 </td><td>6 </td><td>48</td></tr>\n",
       "</tbody>\n",
       "</table>\n"
      ],
      "text/latex": [
       "\\begin{tabular}{r|llll}\n",
       "  & Immigration & Streptomycin & Replicate & Day\\\\\n",
       "\\hline\n",
       "\tT12\\_I0\\_AB0\\_REP1 & 0  & 0  & 1  & 48\\\\\n",
       "\tT12\\_I0\\_AB0\\_REP2 & 0  & 0  & 2  & 48\\\\\n",
       "\tT12\\_I0\\_AB0\\_REP3 & 0  & 0  & 3  & 48\\\\\n",
       "\tT12\\_I0\\_AB0\\_REP4 & 0  & 0  & 4  & 48\\\\\n",
       "\tT12\\_I0\\_AB0\\_REP5 & 0  & 0  & 5  & 48\\\\\n",
       "\tT12\\_I0\\_AB0\\_REP6 & 0  & 0  & 6  & 48\\\\\n",
       "\\end{tabular}\n"
      ],
      "text/markdown": [
       "\n",
       "| <!--/--> | Immigration | Streptomycin | Replicate | Day | \n",
       "|---|---|---|---|---|---|\n",
       "| T12_I0_AB0_REP1 | 0  | 0  | 1  | 48 | \n",
       "| T12_I0_AB0_REP2 | 0  | 0  | 2  | 48 | \n",
       "| T12_I0_AB0_REP3 | 0  | 0  | 3  | 48 | \n",
       "| T12_I0_AB0_REP4 | 0  | 0  | 4  | 48 | \n",
       "| T12_I0_AB0_REP5 | 0  | 0  | 5  | 48 | \n",
       "| T12_I0_AB0_REP6 | 0  | 0  | 6  | 48 | \n",
       "\n",
       "\n"
      ],
      "text/plain": [
       "                Immigration Streptomycin Replicate Day\n",
       "T12_I0_AB0_REP1 0           0            1         48 \n",
       "T12_I0_AB0_REP2 0           0            2         48 \n",
       "T12_I0_AB0_REP3 0           0            3         48 \n",
       "T12_I0_AB0_REP4 0           0            4         48 \n",
       "T12_I0_AB0_REP5 0           0            5         48 \n",
       "T12_I0_AB0_REP6 0           0            6         48 "
      ]
     },
     "metadata": {},
     "output_type": "display_data"
    }
   ],
   "source": [
    "species_composition = read.table(\"../../../data/amplicon/rel_abund.txt\", \n",
    "                                 sep = \"\\t\",\n",
    "                                 header = T,\n",
    "                                 row.names = 1)\n",
    "\n",
    "metadata = read.table(\"../../../data/amplicon/meta.txt\",\n",
    "                      sep = \"\\t\",\n",
    "                      header = T,\n",
    "                      row.names = 1)\n",
    "\n",
    "# inspect\n",
    "\n",
    "head(species_composition)\n",
    "head(metadata)"
   ]
  },
  {
   "cell_type": "markdown",
   "metadata": {},
   "source": [
    "**Compute diversity (Shannon entropy)**"
   ]
  },
  {
   "cell_type": "code",
   "execution_count": 3,
   "metadata": {},
   "outputs": [
    {
     "data": {
      "text/html": [
       "<table>\n",
       "<thead><tr><th></th><th scope=col>Diversity</th><th scope=col>Immigration</th><th scope=col>Streptomycin</th><th scope=col>Replicate</th><th scope=col>Day</th></tr></thead>\n",
       "<tbody>\n",
       "\t<tr><th scope=row>T12_I0_AB0_REP1</th><td>1.484201</td><td>0       </td><td>0       </td><td>1       </td><td>48      </td></tr>\n",
       "\t<tr><th scope=row>T12_I0_AB0_REP2</th><td>1.396177</td><td>0       </td><td>0       </td><td>2       </td><td>48      </td></tr>\n",
       "\t<tr><th scope=row>T12_I0_AB0_REP3</th><td>1.564778</td><td>0       </td><td>0       </td><td>3       </td><td>48      </td></tr>\n",
       "\t<tr><th scope=row>T12_I0_AB0_REP4</th><td>1.841898</td><td>0       </td><td>0       </td><td>4       </td><td>48      </td></tr>\n",
       "\t<tr><th scope=row>T12_I0_AB0_REP5</th><td>1.833262</td><td>0       </td><td>0       </td><td>5       </td><td>48      </td></tr>\n",
       "\t<tr><th scope=row>T12_I0_AB0_REP6</th><td>1.742692</td><td>0       </td><td>0       </td><td>6       </td><td>48      </td></tr>\n",
       "</tbody>\n",
       "</table>\n"
      ],
      "text/latex": [
       "\\begin{tabular}{r|lllll}\n",
       "  & Diversity & Immigration & Streptomycin & Replicate & Day\\\\\n",
       "\\hline\n",
       "\tT12\\_I0\\_AB0\\_REP1 & 1.484201 & 0        & 0        & 1        & 48      \\\\\n",
       "\tT12\\_I0\\_AB0\\_REP2 & 1.396177 & 0        & 0        & 2        & 48      \\\\\n",
       "\tT12\\_I0\\_AB0\\_REP3 & 1.564778 & 0        & 0        & 3        & 48      \\\\\n",
       "\tT12\\_I0\\_AB0\\_REP4 & 1.841898 & 0        & 0        & 4        & 48      \\\\\n",
       "\tT12\\_I0\\_AB0\\_REP5 & 1.833262 & 0        & 0        & 5        & 48      \\\\\n",
       "\tT12\\_I0\\_AB0\\_REP6 & 1.742692 & 0        & 0        & 6        & 48      \\\\\n",
       "\\end{tabular}\n"
      ],
      "text/markdown": [
       "\n",
       "| <!--/--> | Diversity | Immigration | Streptomycin | Replicate | Day | \n",
       "|---|---|---|---|---|---|\n",
       "| T12_I0_AB0_REP1 | 1.484201 | 0        | 0        | 1        | 48       | \n",
       "| T12_I0_AB0_REP2 | 1.396177 | 0        | 0        | 2        | 48       | \n",
       "| T12_I0_AB0_REP3 | 1.564778 | 0        | 0        | 3        | 48       | \n",
       "| T12_I0_AB0_REP4 | 1.841898 | 0        | 0        | 4        | 48       | \n",
       "| T12_I0_AB0_REP5 | 1.833262 | 0        | 0        | 5        | 48       | \n",
       "| T12_I0_AB0_REP6 | 1.742692 | 0        | 0        | 6        | 48       | \n",
       "\n",
       "\n"
      ],
      "text/plain": [
       "                Diversity Immigration Streptomycin Replicate Day\n",
       "T12_I0_AB0_REP1 1.484201  0           0            1         48 \n",
       "T12_I0_AB0_REP2 1.396177  0           0            2         48 \n",
       "T12_I0_AB0_REP3 1.564778  0           0            3         48 \n",
       "T12_I0_AB0_REP4 1.841898  0           0            4         48 \n",
       "T12_I0_AB0_REP5 1.833262  0           0            5         48 \n",
       "T12_I0_AB0_REP6 1.742692  0           0            6         48 "
      ]
     },
     "metadata": {},
     "output_type": "display_data"
    }
   ],
   "source": [
    "diversity = diversity(species_composition, \"shannon\")\n",
    "\n",
    "# merge with metadata\n",
    "\n",
    "diversity = data.frame(Diversity = diversity, metadata)\n",
    "\n",
    "# inspect\n",
    "\n",
    "head(diversity)"
   ]
  },
  {
   "cell_type": "markdown",
   "metadata": {},
   "source": [
    "**Analyse diversity prior to antibiotic pulse (day 16)**"
   ]
  },
  {
   "cell_type": "markdown",
   "metadata": {},
   "source": [
    "Subset to data from day 16"
   ]
  },
  {
   "cell_type": "code",
   "execution_count": 4,
   "metadata": {},
   "outputs": [
    {
     "data": {
      "text/html": [
       "<table>\n",
       "<thead><tr><th></th><th scope=col>Diversity</th><th scope=col>Immigration</th><th scope=col>Streptomycin</th><th scope=col>Replicate</th><th scope=col>Day</th></tr></thead>\n",
       "<tbody>\n",
       "\t<tr><th scope=row>T4_I0_AB0_REP1</th><td>1.804413</td><td>0       </td><td>0       </td><td>1       </td><td>16      </td></tr>\n",
       "\t<tr><th scope=row>T4_I0_AB0_REP2</th><td>1.664104</td><td>0       </td><td>0       </td><td>2       </td><td>16      </td></tr>\n",
       "\t<tr><th scope=row>T4_I0_AB0_REP3</th><td>1.728952</td><td>0       </td><td>0       </td><td>3       </td><td>16      </td></tr>\n",
       "\t<tr><th scope=row>T4_I0_AB0_REP4</th><td>2.291624</td><td>0       </td><td>0       </td><td>4       </td><td>16      </td></tr>\n",
       "\t<tr><th scope=row>T4_I0_AB0_REP5</th><td>2.197921</td><td>0       </td><td>0       </td><td>5       </td><td>16      </td></tr>\n",
       "\t<tr><th scope=row>T4_I0_AB0_REP6</th><td>2.272841</td><td>0       </td><td>0       </td><td>6       </td><td>16      </td></tr>\n",
       "</tbody>\n",
       "</table>\n"
      ],
      "text/latex": [
       "\\begin{tabular}{r|lllll}\n",
       "  & Diversity & Immigration & Streptomycin & Replicate & Day\\\\\n",
       "\\hline\n",
       "\tT4\\_I0\\_AB0\\_REP1 & 1.804413 & 0        & 0        & 1        & 16      \\\\\n",
       "\tT4\\_I0\\_AB0\\_REP2 & 1.664104 & 0        & 0        & 2        & 16      \\\\\n",
       "\tT4\\_I0\\_AB0\\_REP3 & 1.728952 & 0        & 0        & 3        & 16      \\\\\n",
       "\tT4\\_I0\\_AB0\\_REP4 & 2.291624 & 0        & 0        & 4        & 16      \\\\\n",
       "\tT4\\_I0\\_AB0\\_REP5 & 2.197921 & 0        & 0        & 5        & 16      \\\\\n",
       "\tT4\\_I0\\_AB0\\_REP6 & 2.272841 & 0        & 0        & 6        & 16      \\\\\n",
       "\\end{tabular}\n"
      ],
      "text/markdown": [
       "\n",
       "| <!--/--> | Diversity | Immigration | Streptomycin | Replicate | Day | \n",
       "|---|---|---|---|---|---|\n",
       "| T4_I0_AB0_REP1 | 1.804413 | 0        | 0        | 1        | 16       | \n",
       "| T4_I0_AB0_REP2 | 1.664104 | 0        | 0        | 2        | 16       | \n",
       "| T4_I0_AB0_REP3 | 1.728952 | 0        | 0        | 3        | 16       | \n",
       "| T4_I0_AB0_REP4 | 2.291624 | 0        | 0        | 4        | 16       | \n",
       "| T4_I0_AB0_REP5 | 2.197921 | 0        | 0        | 5        | 16       | \n",
       "| T4_I0_AB0_REP6 | 2.272841 | 0        | 0        | 6        | 16       | \n",
       "\n",
       "\n"
      ],
      "text/plain": [
       "               Diversity Immigration Streptomycin Replicate Day\n",
       "T4_I0_AB0_REP1 1.804413  0           0            1         16 \n",
       "T4_I0_AB0_REP2 1.664104  0           0            2         16 \n",
       "T4_I0_AB0_REP3 1.728952  0           0            3         16 \n",
       "T4_I0_AB0_REP4 2.291624  0           0            4         16 \n",
       "T4_I0_AB0_REP5 2.197921  0           0            5         16 \n",
       "T4_I0_AB0_REP6 2.272841  0           0            6         16 "
      ]
     },
     "metadata": {},
     "output_type": "display_data"
    }
   ],
   "source": [
    "diversity_before_pulse = diversity[diversity$Day == 16,]\n",
    "\n",
    "# inspect\n",
    "\n",
    "head(diversity_before_pulse)"
   ]
  },
  {
   "cell_type": "markdown",
   "metadata": {},
   "source": [
    "Test for effect of immigration (only pre-disturbance treatment)"
   ]
  },
  {
   "cell_type": "code",
   "execution_count": 5,
   "metadata": {},
   "outputs": [
    {
     "data": {
      "text/html": [
       "<table>\n",
       "<thead><tr><th></th><th scope=col>Df</th><th scope=col>Sum Sq</th><th scope=col>Mean Sq</th><th scope=col>F value</th><th scope=col>Pr(&gt;F)</th></tr></thead>\n",
       "<tbody>\n",
       "\t<tr><th scope=row>Immigration</th><td> 1        </td><td>0.03893511</td><td>0.03893511</td><td>0.3240994 </td><td>0.5712112 </td></tr>\n",
       "\t<tr><th scope=row>Residuals</th><td>62        </td><td>7.44826005</td><td>0.12013323</td><td>       NA </td><td>       NA </td></tr>\n",
       "</tbody>\n",
       "</table>\n"
      ],
      "text/latex": [
       "\\begin{tabular}{r|lllll}\n",
       "  & Df & Sum Sq & Mean Sq & F value & Pr(>F)\\\\\n",
       "\\hline\n",
       "\tImmigration &  1         & 0.03893511 & 0.03893511 & 0.3240994  & 0.5712112 \\\\\n",
       "\tResiduals & 62         & 7.44826005 & 0.12013323 &        NA  &        NA \\\\\n",
       "\\end{tabular}\n"
      ],
      "text/markdown": [
       "\n",
       "| <!--/--> | Df | Sum Sq | Mean Sq | F value | Pr(>F) | \n",
       "|---|---|\n",
       "| Immigration |  1         | 0.03893511 | 0.03893511 | 0.3240994  | 0.5712112  | \n",
       "| Residuals | 62         | 7.44826005 | 0.12013323 |        NA  |        NA  | \n",
       "\n",
       "\n"
      ],
      "text/plain": [
       "            Df Sum Sq     Mean Sq    F value   Pr(>F)   \n",
       "Immigration  1 0.03893511 0.03893511 0.3240994 0.5712112\n",
       "Residuals   62 7.44826005 0.12013323        NA        NA"
      ]
     },
     "metadata": {},
     "output_type": "display_data"
    }
   ],
   "source": [
    "# create linear model\n",
    "\n",
    "M1 = lm(Diversity ~ Immigration, data = diversity_before_pulse)\n",
    "\n",
    "# inspect\n",
    "\n",
    "anova(M1) \n",
    "\n",
    "# no effect of immigration on diversity before antibiotic addition"
   ]
  },
  {
   "cell_type": "markdown",
   "metadata": {},
   "source": [
    "**Analyse diversity post-disturbance (day 32)**"
   ]
  },
  {
   "cell_type": "markdown",
   "metadata": {},
   "source": [
    "Subset to data from day 32"
   ]
  },
  {
   "cell_type": "code",
   "execution_count": 6,
   "metadata": {},
   "outputs": [
    {
     "data": {
      "text/html": [
       "<table>\n",
       "<thead><tr><th></th><th scope=col>Diversity</th><th scope=col>Immigration</th><th scope=col>Streptomycin</th><th scope=col>Replicate</th><th scope=col>Day</th></tr></thead>\n",
       "<tbody>\n",
       "\t<tr><th scope=row>T8_I0_AB0_REP1</th><td>1.566662</td><td>0       </td><td>0       </td><td>1       </td><td>32      </td></tr>\n",
       "\t<tr><th scope=row>T8_I0_AB0_REP2</th><td>1.654290</td><td>0       </td><td>0       </td><td>2       </td><td>32      </td></tr>\n",
       "\t<tr><th scope=row>T8_I0_AB0_REP3</th><td>1.625780</td><td>0       </td><td>0       </td><td>3       </td><td>32      </td></tr>\n",
       "\t<tr><th scope=row>T8_I0_AB0_REP4</th><td>1.993657</td><td>0       </td><td>0       </td><td>4       </td><td>32      </td></tr>\n",
       "\t<tr><th scope=row>T8_I0_AB0_REP5</th><td>2.248254</td><td>0       </td><td>0       </td><td>5       </td><td>32      </td></tr>\n",
       "\t<tr><th scope=row>T8_I0_AB0_REP6</th><td>2.242527</td><td>0       </td><td>0       </td><td>6       </td><td>32      </td></tr>\n",
       "</tbody>\n",
       "</table>\n"
      ],
      "text/latex": [
       "\\begin{tabular}{r|lllll}\n",
       "  & Diversity & Immigration & Streptomycin & Replicate & Day\\\\\n",
       "\\hline\n",
       "\tT8\\_I0\\_AB0\\_REP1 & 1.566662 & 0        & 0        & 1        & 32      \\\\\n",
       "\tT8\\_I0\\_AB0\\_REP2 & 1.654290 & 0        & 0        & 2        & 32      \\\\\n",
       "\tT8\\_I0\\_AB0\\_REP3 & 1.625780 & 0        & 0        & 3        & 32      \\\\\n",
       "\tT8\\_I0\\_AB0\\_REP4 & 1.993657 & 0        & 0        & 4        & 32      \\\\\n",
       "\tT8\\_I0\\_AB0\\_REP5 & 2.248254 & 0        & 0        & 5        & 32      \\\\\n",
       "\tT8\\_I0\\_AB0\\_REP6 & 2.242527 & 0        & 0        & 6        & 32      \\\\\n",
       "\\end{tabular}\n"
      ],
      "text/markdown": [
       "\n",
       "| <!--/--> | Diversity | Immigration | Streptomycin | Replicate | Day | \n",
       "|---|---|---|---|---|---|\n",
       "| T8_I0_AB0_REP1 | 1.566662 | 0        | 0        | 1        | 32       | \n",
       "| T8_I0_AB0_REP2 | 1.654290 | 0        | 0        | 2        | 32       | \n",
       "| T8_I0_AB0_REP3 | 1.625780 | 0        | 0        | 3        | 32       | \n",
       "| T8_I0_AB0_REP4 | 1.993657 | 0        | 0        | 4        | 32       | \n",
       "| T8_I0_AB0_REP5 | 2.248254 | 0        | 0        | 5        | 32       | \n",
       "| T8_I0_AB0_REP6 | 2.242527 | 0        | 0        | 6        | 32       | \n",
       "\n",
       "\n"
      ],
      "text/plain": [
       "               Diversity Immigration Streptomycin Replicate Day\n",
       "T8_I0_AB0_REP1 1.566662  0           0            1         32 \n",
       "T8_I0_AB0_REP2 1.654290  0           0            2         32 \n",
       "T8_I0_AB0_REP3 1.625780  0           0            3         32 \n",
       "T8_I0_AB0_REP4 1.993657  0           0            4         32 \n",
       "T8_I0_AB0_REP5 2.248254  0           0            5         32 \n",
       "T8_I0_AB0_REP6 2.242527  0           0            6         32 "
      ]
     },
     "metadata": {},
     "output_type": "display_data"
    }
   ],
   "source": [
    "diversity_post_disturbance = diversity[diversity$Day == 32,]\n",
    "\n",
    "diversity_post_disturbance$Streptomycin = as.factor(diversity_post_disturbance$Streptomycin) # inspect antibiotic as factor\n",
    "\n",
    "# inspect\n",
    "\n",
    "head(diversity_post_disturbance)"
   ]
  },
  {
   "cell_type": "markdown",
   "metadata": {},
   "source": [
    "Test for effect of immigration and antibiotic level"
   ]
  },
  {
   "cell_type": "code",
   "execution_count": 7,
   "metadata": {},
   "outputs": [
    {
     "name": "stdout",
     "output_type": "stream",
     "text": [
      "Start:  AIC=-113\n",
      "Diversity ~ Streptomycin * Immigration\n",
      "\n",
      "                           Df Sum of Sq    RSS     AIC\n",
      "- Streptomycin:Immigration  3  0.065011 8.5923 -118.51\n",
      "<none>                                  8.5273 -113.00\n",
      "\n",
      "Step:  AIC=-118.51\n",
      "Diversity ~ Streptomycin + Immigration\n",
      "\n",
      "               Df Sum of Sq     RSS     AIC\n",
      "- Immigration   1    0.1092  8.7014 -119.70\n",
      "<none>                       8.5923 -118.51\n",
      "- Streptomycin  3    5.2596 13.8519  -93.95\n",
      "\n",
      "Step:  AIC=-119.71\n",
      "Diversity ~ Streptomycin\n",
      "\n",
      "               Df Sum of Sq     RSS      AIC\n",
      "<none>                       8.7014 -119.705\n",
      "- Streptomycin  3    5.2596 13.9610  -95.447\n"
     ]
    },
    {
     "data": {
      "text/html": [
       "<table>\n",
       "<thead><tr><th></th><th scope=col>Df</th><th scope=col>Sum Sq</th><th scope=col>Mean Sq</th><th scope=col>F value</th><th scope=col>Pr(&gt;F)</th></tr></thead>\n",
       "<tbody>\n",
       "\t<tr><th scope=row>Streptomycin</th><td> 3          </td><td>5.259589    </td><td>1.753196    </td><td>12.08901    </td><td>2.727585e-06</td></tr>\n",
       "\t<tr><th scope=row>Residuals</th><td>60          </td><td>8.701441    </td><td>0.145024    </td><td>      NA    </td><td>          NA</td></tr>\n",
       "</tbody>\n",
       "</table>\n"
      ],
      "text/latex": [
       "\\begin{tabular}{r|lllll}\n",
       "  & Df & Sum Sq & Mean Sq & F value & Pr(>F)\\\\\n",
       "\\hline\n",
       "\tStreptomycin &  3           & 5.259589     & 1.753196     & 12.08901     & 2.727585e-06\\\\\n",
       "\tResiduals & 60           & 8.701441     & 0.145024     &       NA     &           NA\\\\\n",
       "\\end{tabular}\n"
      ],
      "text/markdown": [
       "\n",
       "| <!--/--> | Df | Sum Sq | Mean Sq | F value | Pr(>F) | \n",
       "|---|---|\n",
       "| Streptomycin |  3           | 5.259589     | 1.753196     | 12.08901     | 2.727585e-06 | \n",
       "| Residuals | 60           | 8.701441     | 0.145024     |       NA     |           NA | \n",
       "\n",
       "\n"
      ],
      "text/plain": [
       "             Df Sum Sq   Mean Sq  F value  Pr(>F)      \n",
       "Streptomycin  3 5.259589 1.753196 12.08901 2.727585e-06\n",
       "Residuals    60 8.701441 0.145024       NA           NA"
      ]
     },
     "metadata": {},
     "output_type": "display_data"
    }
   ],
   "source": [
    "# generate full model\n",
    "\n",
    "M2 = lm(Diversity ~ Streptomycin * Immigration, data = diversity_post_disturbance)\n",
    "\n",
    "# use stepwise model selection to find best model\n",
    "\n",
    "M3 = step(M2)\n",
    "\n",
    "# inspect best model\n",
    "\n",
    "anova(M3)\n",
    "\n",
    "# only antibiotic effect (no effect of immigration)"
   ]
  },
  {
   "cell_type": "markdown",
   "metadata": {},
   "source": [
    "Post-hoc test for antibiotic level"
   ]
  },
  {
   "cell_type": "code",
   "execution_count": 8,
   "metadata": {},
   "outputs": [
    {
     "data": {
      "text/plain": [
       "\n",
       "\t Simultaneous Tests for General Linear Hypotheses\n",
       "\n",
       "Multiple Comparisons of Means: Tukey Contrasts\n",
       "\n",
       "\n",
       "Fit: lm(formula = Diversity ~ Streptomycin, data = diversity_post_disturbance)\n",
       "\n",
       "Linear Hypotheses:\n",
       "              Estimate Std. Error t value Pr(>|t|)    \n",
       "4 - 0 == 0     -0.1185     0.1346  -0.880  0.81516    \n",
       "16 - 0 == 0    -0.4853     0.1346  -3.605  0.00336 ** \n",
       "128 - 0 == 0   -0.7185     0.1346  -5.337  < 0.001 ***\n",
       "16 - 4 == 0    -0.3668     0.1346  -2.725  0.04130 *  \n",
       "128 - 4 == 0   -0.6000     0.1346  -4.457  < 0.001 ***\n",
       "128 - 16 == 0  -0.2332     0.1346  -1.732  0.31637    \n",
       "---\n",
       "Signif. codes:  0 ‘***’ 0.001 ‘**’ 0.01 ‘*’ 0.05 ‘.’ 0.1 ‘ ’ 1\n",
       "(Adjusted p values reported -- single-step method)\n"
      ]
     },
     "metadata": {},
     "output_type": "display_data"
    }
   ],
   "source": [
    "summary(glht(M3, linfct = mcp(Streptomycin = \"Tukey\")))\n",
    "\n",
    "# all pairwise differences significant except for 0 vs. 4 and 16 vs. 128 levels\n",
    "\n",
    "# however, when plotted, we see a gradual decline in diversity"
   ]
  },
  {
   "cell_type": "markdown",
   "metadata": {},
   "source": [
    "Plot"
   ]
  },
  {
   "cell_type": "code",
   "execution_count": 9,
   "metadata": {},
   "outputs": [
    {
     "data": {},
     "metadata": {},
     "output_type": "display_data"
    },
    {
     "data": {
      "image/png": "[encoded data removed]",
      "text/plain": [
       "plot without title"
      ]
     },
     "metadata": {},
     "output_type": "display_data"
    }
   ],
   "source": [
    "# define color palette\n",
    "\n",
    "mypalette = c(\"#D3D3D3\", \"#cd6090\", \"#8f4364\", \"#522639\")\n",
    "\n",
    "# edit factors for plotting\n",
    "\n",
    "diversity_post_disturbance$Immigration = as.factor(ifelse(diversity_post_disturbance$Immigration == 0, \n",
    "                                                    \"Absent\", \"Present\"))\n",
    "\n",
    "diversity_post_disturbance$Streptomycin = factor(diversity_post_disturbance$Streptomycin, \n",
    "                                           levels = c(\"0\", \"4\", \"16\", \"128\"),\n",
    "                                           labels = c(\"No\", \"Low\", \"Intermediate\", \"High\"))\n",
    "\n",
    "# plot code\n",
    "\n",
    "p1 = ggplot(diversity_post_disturbance, aes(x = Streptomycin, y = Diversity, colour = Streptomycin)) +\n",
    "    geom_boxplot(outlier.shape = NA) +\n",
    "    geom_point(position = position_jitterdodge()) +\n",
    "    scale_colour_manual(values = mypalette) +\n",
    "    xlab(\"Antibiotic level\") +\n",
    "    ylab(\"Diversity (Shannon entropy)\") +\n",
    "    theme_classic() +\n",
    "    theme(legend.position = \"none\") +\n",
    "    theme(axis.text.x = element_text(size = 16, color = \"black\"),\n",
    "          axis.title.x = element_text(size = 16, color = \"black\"),\n",
    "          axis.text.y = element_text(size = 16, color = \"black\"),\n",
    "          axis.title.y = element_text(size = 16, color = \"black\"))\n",
    "p1"
   ]
  },
  {
   "cell_type": "markdown",
   "metadata": {},
   "source": [
    "**Save plot**"
   ]
  },
  {
   "cell_type": "code",
   "execution_count": 10,
   "metadata": {},
   "outputs": [],
   "source": [
    "# ggsave(\"../../../manuscript/figures/diversity_after_pulse.pdf\")"
   ]
  },
  {
   "cell_type": "markdown",
   "metadata": {},
   "source": [
    "**Analyse diversity post-recovery (day 48)**"
   ]
  },
  {
   "cell_type": "markdown",
   "metadata": {},
   "source": [
    "Subset to data from day 48"
   ]
  },
  {
   "cell_type": "code",
   "execution_count": 11,
   "metadata": {},
   "outputs": [
    {
     "data": {
      "text/html": [
       "<table>\n",
       "<thead><tr><th></th><th scope=col>Diversity</th><th scope=col>Immigration</th><th scope=col>Streptomycin</th><th scope=col>Replicate</th><th scope=col>Day</th></tr></thead>\n",
       "<tbody>\n",
       "\t<tr><th scope=row>T12_I0_AB0_REP1</th><td>1.484201</td><td>0       </td><td>0       </td><td>1       </td><td>48      </td></tr>\n",
       "\t<tr><th scope=row>T12_I0_AB0_REP2</th><td>1.396177</td><td>0       </td><td>0       </td><td>2       </td><td>48      </td></tr>\n",
       "\t<tr><th scope=row>T12_I0_AB0_REP3</th><td>1.564778</td><td>0       </td><td>0       </td><td>3       </td><td>48      </td></tr>\n",
       "\t<tr><th scope=row>T12_I0_AB0_REP4</th><td>1.841898</td><td>0       </td><td>0       </td><td>4       </td><td>48      </td></tr>\n",
       "\t<tr><th scope=row>T12_I0_AB0_REP5</th><td>1.833262</td><td>0       </td><td>0       </td><td>5       </td><td>48      </td></tr>\n",
       "\t<tr><th scope=row>T12_I0_AB0_REP6</th><td>1.742692</td><td>0       </td><td>0       </td><td>6       </td><td>48      </td></tr>\n",
       "</tbody>\n",
       "</table>\n"
      ],
      "text/latex": [
       "\\begin{tabular}{r|lllll}\n",
       "  & Diversity & Immigration & Streptomycin & Replicate & Day\\\\\n",
       "\\hline\n",
       "\tT12\\_I0\\_AB0\\_REP1 & 1.484201 & 0        & 0        & 1        & 48      \\\\\n",
       "\tT12\\_I0\\_AB0\\_REP2 & 1.396177 & 0        & 0        & 2        & 48      \\\\\n",
       "\tT12\\_I0\\_AB0\\_REP3 & 1.564778 & 0        & 0        & 3        & 48      \\\\\n",
       "\tT12\\_I0\\_AB0\\_REP4 & 1.841898 & 0        & 0        & 4        & 48      \\\\\n",
       "\tT12\\_I0\\_AB0\\_REP5 & 1.833262 & 0        & 0        & 5        & 48      \\\\\n",
       "\tT12\\_I0\\_AB0\\_REP6 & 1.742692 & 0        & 0        & 6        & 48      \\\\\n",
       "\\end{tabular}\n"
      ],
      "text/markdown": [
       "\n",
       "| <!--/--> | Diversity | Immigration | Streptomycin | Replicate | Day | \n",
       "|---|---|---|---|---|---|\n",
       "| T12_I0_AB0_REP1 | 1.484201 | 0        | 0        | 1        | 48       | \n",
       "| T12_I0_AB0_REP2 | 1.396177 | 0        | 0        | 2        | 48       | \n",
       "| T12_I0_AB0_REP3 | 1.564778 | 0        | 0        | 3        | 48       | \n",
       "| T12_I0_AB0_REP4 | 1.841898 | 0        | 0        | 4        | 48       | \n",
       "| T12_I0_AB0_REP5 | 1.833262 | 0        | 0        | 5        | 48       | \n",
       "| T12_I0_AB0_REP6 | 1.742692 | 0        | 0        | 6        | 48       | \n",
       "\n",
       "\n"
      ],
      "text/plain": [
       "                Diversity Immigration Streptomycin Replicate Day\n",
       "T12_I0_AB0_REP1 1.484201  0           0            1         48 \n",
       "T12_I0_AB0_REP2 1.396177  0           0            2         48 \n",
       "T12_I0_AB0_REP3 1.564778  0           0            3         48 \n",
       "T12_I0_AB0_REP4 1.841898  0           0            4         48 \n",
       "T12_I0_AB0_REP5 1.833262  0           0            5         48 \n",
       "T12_I0_AB0_REP6 1.742692  0           0            6         48 "
      ]
     },
     "metadata": {},
     "output_type": "display_data"
    }
   ],
   "source": [
    "diversity_post_recovery = diversity[diversity$Day == 48,]\n",
    "\n",
    "diversity_post_recovery$Streptomycin = as.factor(diversity_post_recovery$Streptomycin) # inspect antibiotic as factor\n",
    "\n",
    "# inspect\n",
    "\n",
    "head(diversity_post_recovery)"
   ]
  },
  {
   "cell_type": "markdown",
   "metadata": {},
   "source": [
    "Test for effect of immigration and antibiotic level"
   ]
  },
  {
   "cell_type": "code",
   "execution_count": 12,
   "metadata": {},
   "outputs": [
    {
     "name": "stdout",
     "output_type": "stream",
     "text": [
      "Start:  AIC=-143.13\n",
      "Diversity ~ Streptomycin * Immigration\n",
      "\n",
      "                           Df Sum of Sq    RSS     AIC\n",
      "<none>                                  4.7613 -143.13\n",
      "- Streptomycin:Immigration  3   0.50811 5.2694 -142.84\n"
     ]
    },
    {
     "data": {
      "text/html": [
       "<table>\n",
       "<thead><tr><th></th><th scope=col>Df</th><th scope=col>Sum Sq</th><th scope=col>Mean Sq</th><th scope=col>F value</th><th scope=col>Pr(&gt;F)</th></tr></thead>\n",
       "<tbody>\n",
       "\t<tr><th scope=row>Streptomycin</th><td> 3         </td><td>1.2118229  </td><td>0.40394095 </td><td>4.581234   </td><td>0.006261724</td></tr>\n",
       "\t<tr><th scope=row>Immigration</th><td> 1         </td><td>0.7646728  </td><td>0.76467281 </td><td>8.672419   </td><td>0.004757408</td></tr>\n",
       "\t<tr><th scope=row>Streptomycin:Immigration</th><td> 3         </td><td>0.5081069  </td><td>0.16936897 </td><td>1.920872   </td><td>0.137134312</td></tr>\n",
       "\t<tr><th scope=row>Residuals</th><td>54         </td><td>4.7613394  </td><td>0.08817295 </td><td>      NA   </td><td>         NA</td></tr>\n",
       "</tbody>\n",
       "</table>\n"
      ],
      "text/latex": [
       "\\begin{tabular}{r|lllll}\n",
       "  & Df & Sum Sq & Mean Sq & F value & Pr(>F)\\\\\n",
       "\\hline\n",
       "\tStreptomycin &  3          & 1.2118229   & 0.40394095  & 4.581234    & 0.006261724\\\\\n",
       "\tImmigration &  1          & 0.7646728   & 0.76467281  & 8.672419    & 0.004757408\\\\\n",
       "\tStreptomycin:Immigration &  3          & 0.5081069   & 0.16936897  & 1.920872    & 0.137134312\\\\\n",
       "\tResiduals & 54          & 4.7613394   & 0.08817295  &       NA    &          NA\\\\\n",
       "\\end{tabular}\n"
      ],
      "text/markdown": [
       "\n",
       "| <!--/--> | Df | Sum Sq | Mean Sq | F value | Pr(>F) | \n",
       "|---|---|---|---|\n",
       "| Streptomycin |  3          | 1.2118229   | 0.40394095  | 4.581234    | 0.006261724 | \n",
       "| Immigration |  1          | 0.7646728   | 0.76467281  | 8.672419    | 0.004757408 | \n",
       "| Streptomycin:Immigration |  3          | 0.5081069   | 0.16936897  | 1.920872    | 0.137134312 | \n",
       "| Residuals | 54          | 4.7613394   | 0.08817295  |       NA    |          NA | \n",
       "\n",
       "\n"
      ],
      "text/plain": [
       "                         Df Sum Sq    Mean Sq    F value  Pr(>F)     \n",
       "Streptomycin              3 1.2118229 0.40394095 4.581234 0.006261724\n",
       "Immigration               1 0.7646728 0.76467281 8.672419 0.004757408\n",
       "Streptomycin:Immigration  3 0.5081069 0.16936897 1.920872 0.137134312\n",
       "Residuals                54 4.7613394 0.08817295       NA          NA"
      ]
     },
     "metadata": {},
     "output_type": "display_data"
    }
   ],
   "source": [
    "# generate full model\n",
    "\n",
    "M4 = lm(Diversity ~ Streptomycin * Immigration, data = diversity_post_recovery)\n",
    "\n",
    "# use stepwise model selection to find best model\n",
    "\n",
    "M5 = step(M4)\n",
    "\n",
    "# inspect best model\n",
    "\n",
    "anova(M5)\n",
    "\n",
    "# significant antibiotic and immigration effects, no interaction"
   ]
  },
  {
   "cell_type": "markdown",
   "metadata": {},
   "source": [
    "Post-hoc test for antibiotic level"
   ]
  },
  {
   "cell_type": "code",
   "execution_count": 13,
   "metadata": {},
   "outputs": [
    {
     "data": {
      "text/plain": [
       "\n",
       "\t Simultaneous Tests for General Linear Hypotheses\n",
       "\n",
       "Multiple Comparisons of Means: Tukey Contrasts\n",
       "\n",
       "\n",
       "Fit: lm(formula = Diversity ~ Streptomycin, data = diversity_post_recovery[diversity_post_recovery$Immigration == \n",
       "    0, ])\n",
       "\n",
       "Linear Hypotheses:\n",
       "              Estimate Std. Error t value Pr(>|t|)   \n",
       "4 - 0 == 0      0.2161     0.1438   1.502  0.44996   \n",
       "16 - 0 == 0    -0.2010     0.1489  -1.350  0.54039   \n",
       "128 - 0 == 0   -0.3494     0.1438  -2.429  0.09543 . \n",
       "16 - 4 == 0    -0.4171     0.1489  -2.801  0.04296 * \n",
       "128 - 4 == 0   -0.5655     0.1438  -3.931  0.00291 **\n",
       "128 - 16 == 0  -0.1484     0.1489  -0.997  0.75236   \n",
       "---\n",
       "Signif. codes:  0 ‘***’ 0.001 ‘**’ 0.01 ‘*’ 0.05 ‘.’ 0.1 ‘ ’ 1\n",
       "(Adjusted p values reported -- single-step method)\n"
      ]
     },
     "metadata": {},
     "output_type": "display_data"
    },
    {
     "data": {
      "text/plain": [
       "\n",
       "\t Simultaneous Tests for General Linear Hypotheses\n",
       "\n",
       "Multiple Comparisons of Means: Tukey Contrasts\n",
       "\n",
       "\n",
       "Fit: lm(formula = Diversity ~ Streptomycin, data = diversity_post_recovery[diversity_post_recovery$Immigration == \n",
       "    1, ])\n",
       "\n",
       "Linear Hypotheses:\n",
       "               Estimate Std. Error t value Pr(>|t|)\n",
       "4 - 0 == 0    -0.005307   0.152958  -0.035    1.000\n",
       "16 - 0 == 0   -0.232394   0.152958  -1.519    0.440\n",
       "128 - 0 == 0  -0.061864   0.158327  -0.391    0.979\n",
       "16 - 4 == 0   -0.227087   0.152958  -1.485    0.460\n",
       "128 - 4 == 0  -0.056557   0.158327  -0.357    0.984\n",
       "128 - 16 == 0  0.170530   0.158327   1.077    0.706\n",
       "(Adjusted p values reported -- single-step method)\n"
      ]
     },
     "metadata": {},
     "output_type": "display_data"
    }
   ],
   "source": [
    "# due to immigration effect let's generate separate models for immigration treatments to inspect antibiotic effect\n",
    "\n",
    "M5_no_immig = lm(Diversity ~ Streptomycin, data = diversity_post_recovery[diversity_post_recovery$Immigration == 0,])\n",
    "summary(glht(M5_no_immig, linfct = mcp(Streptomycin = \"Tukey\")))\n",
    "\n",
    "# several significant pairwise differences occur between higher and lower levels (4 vs. 16/128, 0 vs. 128)\n",
    "\n",
    "M5_immig = lm(Diversity ~ Streptomycin, data = diversity_post_recovery[diversity_post_recovery$Immigration == 1,])\n",
    "summary(glht(M5_immig, linfct = mcp(Streptomycin = \"Tukey\")))\n",
    "\n",
    "# no significant pairwise differences, i.e. immigration removes residual effect of antibiotic on diversity"
   ]
  },
  {
   "cell_type": "markdown",
   "metadata": {},
   "source": [
    "Plot"
   ]
  },
  {
   "cell_type": "code",
   "execution_count": 14,
   "metadata": {},
   "outputs": [
    {
     "data": {},
     "metadata": {},
     "output_type": "display_data"
    },
    {
     "data": {
      "image/png": "[encoded data removed]",
      "text/plain": [
       "plot without title"
      ]
     },
     "metadata": {},
     "output_type": "display_data"
    }
   ],
   "source": [
    "# edit factors for plotting\n",
    "\n",
    "diversity_post_recovery$Immigration = as.factor(ifelse(diversity_post_recovery$Immigration == 0, \n",
    "                                                    \"Absent\", \"Present\"))\n",
    "\n",
    "diversity_post_recovery$Streptomycin = factor(diversity_post_recovery$Streptomycin, \n",
    "                                           levels = c(\"0\", \"4\", \"16\", \"128\"),\n",
    "                                           labels = c(\"No\", \"Low\", \"Intermediate\", \"High\"))\n",
    "\n",
    "# plot code\n",
    "\n",
    "ggplot(diversity_post_recovery, aes(x = Immigration, y = Diversity, colour = Streptomycin)) +\n",
    "    geom_boxplot(outlier.shape = NA) +\n",
    "    geom_point(position = position_jitterdodge()) +\n",
    "    scale_colour_manual(values = mypalette) +\n",
    "    xlab(\"Immigration\") +\n",
    "    ylab(\"Diversity (Shannon entropy)\") +\n",
    "    labs(colour = \"Antibiotic level\") +\n",
    "    theme_classic() +\n",
    "    theme(axis.text.x = element_text(size = 16, color = \"black\"),\n",
    "          axis.title.x = element_text(size = 16, color = \"black\"),\n",
    "          axis.text.y = element_text(size = 16, color = \"black\"),\n",
    "          axis.title.y = element_text(size = 16, color = \"black\"),\n",
    "          legend.text = element_text(size = 16, color = \"black\"),\n",
    "          legend.title = element_text(size = 16, color = \"black\"))"
   ]
  },
  {
   "cell_type": "markdown",
   "metadata": {},
   "source": [
    "**Save plot**"
   ]
  },
  {
   "cell_type": "code",
   "execution_count": 15,
   "metadata": {},
   "outputs": [],
   "source": [
    "# ggsave(\"../../../manuscript/figures/diversity_after_recovery.pdf\")"
   ]
  }
 ],
 "metadata": {
  "kernelspec": {
   "display_name": "R",
   "language": "R",
   "name": "ir"
  },
  "language_info": {
   "codemirror_mode": "r",
   "file_extension": ".r",
   "mimetype": "text/x-r-source",
   "name": "R",
   "pygments_lexer": "r",
   "version": "3.5.1"
  }
 },
 "nbformat": 4,
 "nbformat_minor": 2
}
