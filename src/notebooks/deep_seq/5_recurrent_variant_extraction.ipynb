{
 "cells": [
  {
   "cell_type": "markdown",
   "metadata": {},
   "source": [
    "# Extracting multihit nonsynonymous mutations from filtered variants"
   ]
  },
  {
   "cell_type": "code",
   "execution_count": 1,
   "metadata": {},
   "outputs": [],
   "source": [
    "# Read in data\n",
    "\n",
    "variants = read.table(\"../../../data/deep_seq/filtered_variant_data.txt\", \n",
    "                      sep = \"\\t\", \n",
    "                      header = T)"
   ]
  },
  {
   "cell_type": "code",
   "execution_count": 2,
   "metadata": {},
   "outputs": [
    {
     "data": {
      "text/html": [
       "<table>\n",
       "<thead><tr><th></th><th scope=col>SAMPLE</th><th scope=col>TIME</th><th scope=col>ANTIBIOTIC</th><th scope=col>IMMIGRATION</th><th scope=col>REPLICATE</th><th scope=col>SPECIES</th><th scope=col>CONTIG</th><th scope=col>CONTIG_LENGTH</th><th scope=col>POSITION</th><th scope=col>REF_ALLELE</th><th scope=col>⋯</th><th scope=col>VARIANT_EFFECT_CAT</th><th scope=col>VARIANT_IMPACT</th><th scope=col>GENE</th><th scope=col>GENEID</th><th scope=col>NA_CHANGE</th><th scope=col>AA_CHANGE</th><th scope=col>VARIANT_FREQUENCY</th><th scope=col>MEDIAN_COVERAGE</th><th scope=col>AMPLICON_READS</th><th scope=col>DISTANCE_FROM_PREV</th></tr></thead>\n",
       "<tbody>\n",
       "\t<tr><th scope=row>139</th><td>T8_AB4_I1_REP2 </td><td> 8             </td><td> 4             </td><td>1              </td><td>2              </td><td>HAMBI_1972     </td><td>ABNHBPOL_11    </td><td>154390         </td><td>38145          </td><td>T              </td><td>⋯              </td><td>nonsynonymous  </td><td>MODERATE       </td><td>vgrG1_2        </td><td>ABNHBPOL_02456 </td><td>c.340T&gt;G    </td><td>p.Ser114Ala    </td><td>0.5116279      </td><td>181            </td><td> 137           </td><td>40             </td></tr>\n",
       "\t<tr><th scope=row>140</th><td>T8_AB4_I1_REP3                              </td><td> 8                                          </td><td> 4                                          </td><td>1                                           </td><td>3                                           </td><td>HAMBI_1972                                  </td><td>ABNHBPOL_11                                 </td><td>154390                                      </td><td>38145                                       </td><td>T                                           </td><td>⋯                                           </td><td>nonsynonymous                               </td><td>MODERATE                                    </td><td>vgrG1_2                                     </td><td>ABNHBPOL_02456                              </td><td>c.340T&gt;G                                 </td><td>p.Ser114Ala                                 </td><td>0.6190476                                   </td><td>184                                         </td><td><span style=white-space:pre-wrap>  95</span></td><td>40                                          </td></tr>\n",
       "\t<tr><th scope=row>141</th><td>T8_AB16_I0_REP1                             </td><td> 8                                          </td><td>16                                          </td><td>0                                           </td><td>1                                           </td><td>HAMBI_1972                                  </td><td>ABNHBPOL_11                                 </td><td>154390                                      </td><td>38145                                       </td><td>T                                           </td><td>⋯                                           </td><td>nonsynonymous                               </td><td>MODERATE                                    </td><td>vgrG1_2                                     </td><td>ABNHBPOL_02456                              </td><td>c.340T&gt;G                                 </td><td>p.Ser114Ala                                 </td><td>0.3750000                                   </td><td> 25                                         </td><td><span style=white-space:pre-wrap>   4</span></td><td>40                                          </td></tr>\n",
       "\t<tr><th scope=row>142</th><td>T8_AB16_I1_REP3                             </td><td> 8                                          </td><td>16                                          </td><td>1                                           </td><td>3                                           </td><td>HAMBI_1972                                  </td><td>ABNHBPOL_11                                 </td><td>154390                                      </td><td>38145                                       </td><td>T                                           </td><td>⋯                                           </td><td>nonsynonymous                               </td><td>MODERATE                                    </td><td>vgrG1_2                                     </td><td>ABNHBPOL_02456                              </td><td>c.340T&gt;G                                 </td><td>p.Ser114Ala                                 </td><td>0.7500000                                   </td><td> 23                                         </td><td><span style=white-space:pre-wrap>   8</span></td><td>40                                          </td></tr>\n",
       "\t<tr><th scope=row>143</th><td>T12_AB4_I1_REP2</td><td>12             </td><td> 4             </td><td>1              </td><td>2              </td><td>HAMBI_1972     </td><td>ABNHBPOL_11    </td><td>154390         </td><td>38145          </td><td>T              </td><td>⋯              </td><td>nonsynonymous  </td><td>MODERATE       </td><td>vgrG1_2        </td><td>ABNHBPOL_02456 </td><td>c.340T&gt;G    </td><td>p.Ser114Ala    </td><td>0.6250000      </td><td>469            </td><td>1129           </td><td>40             </td></tr>\n",
       "\t<tr><th scope=row>144</th><td>T12_AB4_I1_REP3</td><td>12             </td><td> 4             </td><td>1              </td><td>3              </td><td>HAMBI_1972     </td><td>ABNHBPOL_11    </td><td>154390         </td><td>38145          </td><td>T              </td><td>⋯              </td><td>nonsynonymous  </td><td>MODERATE       </td><td>vgrG1_2        </td><td>ABNHBPOL_02456 </td><td>c.340T&gt;G    </td><td>p.Ser114Ala    </td><td>0.5421687      </td><td>393            </td><td> 734           </td><td>40             </td></tr>\n",
       "</tbody>\n",
       "</table>\n"
      ],
      "text/latex": [
       "\\begin{tabular}{r|lllllllllllllllllllllll}\n",
       "  & SAMPLE & TIME & ANTIBIOTIC & IMMIGRATION & REPLICATE & SPECIES & CONTIG & CONTIG\\_LENGTH & POSITION & REF\\_ALLELE & ⋯ & VARIANT\\_EFFECT\\_CAT & VARIANT\\_IMPACT & GENE & GENEID & NA\\_CHANGE & AA\\_CHANGE & VARIANT\\_FREQUENCY & MEDIAN\\_COVERAGE & AMPLICON\\_READS & DISTANCE\\_FROM\\_PREV\\\\\n",
       "\\hline\n",
       "\t139 & T8\\_AB4\\_I1\\_REP2  &  8                    &  4                    & 1                     & 2                     & HAMBI\\_1972          & ABNHBPOL\\_11         & 154390                & 38145                 & T                     & ⋯                     & nonsynonymous         & MODERATE              & vgrG1\\_2             & ABNHBPOL\\_02456      & c.340T>G              & p.Ser114Ala           & 0.5116279             & 181                   &  137                  & 40                   \\\\\n",
       "\t140 & T8\\_AB4\\_I1\\_REP3  &  8                    &  4                    & 1                     & 3                     & HAMBI\\_1972          & ABNHBPOL\\_11         & 154390                & 38145                 & T                     & ⋯                     & nonsynonymous         & MODERATE              & vgrG1\\_2             & ABNHBPOL\\_02456      & c.340T>G              & p.Ser114Ala           & 0.6190476             & 184                   &   95                  & 40                   \\\\\n",
       "\t141 & T8\\_AB16\\_I0\\_REP1 &  8                    & 16                    & 0                     & 1                     & HAMBI\\_1972          & ABNHBPOL\\_11         & 154390                & 38145                 & T                     & ⋯                     & nonsynonymous         & MODERATE              & vgrG1\\_2             & ABNHBPOL\\_02456      & c.340T>G              & p.Ser114Ala           & 0.3750000             &  25                   &    4                  & 40                   \\\\\n",
       "\t142 & T8\\_AB16\\_I1\\_REP3 &  8                    & 16                    & 1                     & 3                     & HAMBI\\_1972          & ABNHBPOL\\_11         & 154390                & 38145                 & T                     & ⋯                     & nonsynonymous         & MODERATE              & vgrG1\\_2             & ABNHBPOL\\_02456      & c.340T>G              & p.Ser114Ala           & 0.7500000             &  23                   &    8                  & 40                   \\\\\n",
       "\t143 & T12\\_AB4\\_I1\\_REP2 & 12                    &  4                    & 1                     & 2                     & HAMBI\\_1972          & ABNHBPOL\\_11         & 154390                & 38145                 & T                     & ⋯                     & nonsynonymous         & MODERATE              & vgrG1\\_2             & ABNHBPOL\\_02456      & c.340T>G              & p.Ser114Ala           & 0.6250000             & 469                   & 1129                  & 40                   \\\\\n",
       "\t144 & T12\\_AB4\\_I1\\_REP3 & 12                    &  4                    & 1                     & 3                     & HAMBI\\_1972          & ABNHBPOL\\_11         & 154390                & 38145                 & T                     & ⋯                     & nonsynonymous         & MODERATE              & vgrG1\\_2             & ABNHBPOL\\_02456      & c.340T>G              & p.Ser114Ala           & 0.5421687             & 393                   &  734                  & 40                   \\\\\n",
       "\\end{tabular}\n"
      ],
      "text/markdown": [
       "\n",
       "| <!--/--> | SAMPLE | TIME | ANTIBIOTIC | IMMIGRATION | REPLICATE | SPECIES | CONTIG | CONTIG_LENGTH | POSITION | REF_ALLELE | ⋯ | VARIANT_EFFECT_CAT | VARIANT_IMPACT | GENE | GENEID | NA_CHANGE | AA_CHANGE | VARIANT_FREQUENCY | MEDIAN_COVERAGE | AMPLICON_READS | DISTANCE_FROM_PREV | \n",
       "|---|---|---|---|---|---|\n",
       "| 139 | T8_AB4_I1_REP2  |  8              |  4              | 1               | 2               | HAMBI_1972      | ABNHBPOL_11     | 154390          | 38145           | T               | ⋯               | nonsynonymous   | MODERATE        | vgrG1_2         | ABNHBPOL_02456  | c.340T>G        | p.Ser114Ala     | 0.5116279       | 181             |  137            | 40              | \n",
       "| 140 | T8_AB4_I1_REP3  |  8              |  4              | 1               | 3               | HAMBI_1972      | ABNHBPOL_11     | 154390          | 38145           | T               | ⋯               | nonsynonymous   | MODERATE        | vgrG1_2         | ABNHBPOL_02456  | c.340T>G        | p.Ser114Ala     | 0.6190476       | 184             |   95            | 40              | \n",
       "| 141 | T8_AB16_I0_REP1 |  8              | 16              | 0               | 1               | HAMBI_1972      | ABNHBPOL_11     | 154390          | 38145           | T               | ⋯               | nonsynonymous   | MODERATE        | vgrG1_2         | ABNHBPOL_02456  | c.340T>G        | p.Ser114Ala     | 0.3750000       |  25             |    4            | 40              | \n",
       "| 142 | T8_AB16_I1_REP3 |  8              | 16              | 1               | 3               | HAMBI_1972      | ABNHBPOL_11     | 154390          | 38145           | T               | ⋯               | nonsynonymous   | MODERATE        | vgrG1_2         | ABNHBPOL_02456  | c.340T>G        | p.Ser114Ala     | 0.7500000       |  23             |    8            | 40              | \n",
       "| 143 | T12_AB4_I1_REP2 | 12              |  4              | 1               | 2               | HAMBI_1972      | ABNHBPOL_11     | 154390          | 38145           | T               | ⋯               | nonsynonymous   | MODERATE        | vgrG1_2         | ABNHBPOL_02456  | c.340T>G        | p.Ser114Ala     | 0.6250000       | 469             | 1129            | 40              | \n",
       "| 144 | T12_AB4_I1_REP3 | 12              |  4              | 1               | 3               | HAMBI_1972      | ABNHBPOL_11     | 154390          | 38145           | T               | ⋯               | nonsynonymous   | MODERATE        | vgrG1_2         | ABNHBPOL_02456  | c.340T>G        | p.Ser114Ala     | 0.5421687       | 393             |  734            | 40              | \n",
       "\n",
       "\n"
      ],
      "text/plain": [
       "    SAMPLE          TIME ANTIBIOTIC IMMIGRATION REPLICATE SPECIES   \n",
       "139 T8_AB4_I1_REP2   8    4         1           2         HAMBI_1972\n",
       "140 T8_AB4_I1_REP3   8    4         1           3         HAMBI_1972\n",
       "141 T8_AB16_I0_REP1  8   16         0           1         HAMBI_1972\n",
       "142 T8_AB16_I1_REP3  8   16         1           3         HAMBI_1972\n",
       "143 T12_AB4_I1_REP2 12    4         1           2         HAMBI_1972\n",
       "144 T12_AB4_I1_REP3 12    4         1           3         HAMBI_1972\n",
       "    CONTIG      CONTIG_LENGTH POSITION REF_ALLELE ⋯ VARIANT_EFFECT_CAT\n",
       "139 ABNHBPOL_11 154390        38145    T          ⋯ nonsynonymous     \n",
       "140 ABNHBPOL_11 154390        38145    T          ⋯ nonsynonymous     \n",
       "141 ABNHBPOL_11 154390        38145    T          ⋯ nonsynonymous     \n",
       "142 ABNHBPOL_11 154390        38145    T          ⋯ nonsynonymous     \n",
       "143 ABNHBPOL_11 154390        38145    T          ⋯ nonsynonymous     \n",
       "144 ABNHBPOL_11 154390        38145    T          ⋯ nonsynonymous     \n",
       "    VARIANT_IMPACT GENE    GENEID         NA_CHANGE AA_CHANGE  \n",
       "139 MODERATE       vgrG1_2 ABNHBPOL_02456 c.340T>G  p.Ser114Ala\n",
       "140 MODERATE       vgrG1_2 ABNHBPOL_02456 c.340T>G  p.Ser114Ala\n",
       "141 MODERATE       vgrG1_2 ABNHBPOL_02456 c.340T>G  p.Ser114Ala\n",
       "142 MODERATE       vgrG1_2 ABNHBPOL_02456 c.340T>G  p.Ser114Ala\n",
       "143 MODERATE       vgrG1_2 ABNHBPOL_02456 c.340T>G  p.Ser114Ala\n",
       "144 MODERATE       vgrG1_2 ABNHBPOL_02456 c.340T>G  p.Ser114Ala\n",
       "    VARIANT_FREQUENCY MEDIAN_COVERAGE AMPLICON_READS DISTANCE_FROM_PREV\n",
       "139 0.5116279         181              137           40                \n",
       "140 0.6190476         184               95           40                \n",
       "141 0.3750000          25                4           40                \n",
       "142 0.7500000          23                8           40                \n",
       "143 0.6250000         469             1129           40                \n",
       "144 0.5421687         393              734           40                "
      ]
     },
     "metadata": {},
     "output_type": "display_data"
    }
   ],
   "source": [
    "# Subset only genes with nonsynonymous mutations\n",
    "\n",
    "nonsynonymous = variants[variants$VARIANT_EFFECT_CAT == \"nonsynonymous\",]\n",
    "head(nonsynonymous)"
   ]
  },
  {
   "cell_type": "code",
   "execution_count": 3,
   "metadata": {},
   "outputs": [
    {
     "data": {
      "text/html": [
       "588"
      ],
      "text/latex": [
       "588"
      ],
      "text/markdown": [
       "588"
      ],
      "text/plain": [
       "[1] 588"
      ]
     },
     "metadata": {},
     "output_type": "display_data"
    }
   ],
   "source": [
    "# Number of variants (two observations for each, one per time point)\n",
    "\n",
    "nrow(nonsynonymous)/2 # 588 nonsynonymous variants"
   ]
  },
  {
   "cell_type": "code",
   "execution_count": 4,
   "metadata": {},
   "outputs": [
    {
     "data": {
      "text/html": [
       "<table>\n",
       "<thead><tr><th scope=col>SPECIES</th><th scope=col>CDS_COUNT</th></tr></thead>\n",
       "<tbody>\n",
       "\t<tr><td>HAMBI_6  </td><td>5945     </td></tr>\n",
       "\t<tr><td>HAMBI_97 </td><td>3137     </td></tr>\n",
       "\t<tr><td>HAMBI_105</td><td>5087     </td></tr>\n",
       "\t<tr><td>HAMBI_216</td><td>4825     </td></tr>\n",
       "\t<tr><td>HAMBI_262</td><td>3231     </td></tr>\n",
       "\t<tr><td>HAMBI_403</td><td>4905     </td></tr>\n",
       "</tbody>\n",
       "</table>\n"
      ],
      "text/latex": [
       "\\begin{tabular}{r|ll}\n",
       " SPECIES & CDS\\_COUNT\\\\\n",
       "\\hline\n",
       "\t HAMBI\\_6   & 5945       \\\\\n",
       "\t HAMBI\\_97  & 3137       \\\\\n",
       "\t HAMBI\\_105 & 5087       \\\\\n",
       "\t HAMBI\\_216 & 4825       \\\\\n",
       "\t HAMBI\\_262 & 3231       \\\\\n",
       "\t HAMBI\\_403 & 4905       \\\\\n",
       "\\end{tabular}\n"
      ],
      "text/markdown": [
       "\n",
       "SPECIES | CDS_COUNT | \n",
       "|---|---|---|---|---|---|\n",
       "| HAMBI_6   | 5945      | \n",
       "| HAMBI_97  | 3137      | \n",
       "| HAMBI_105 | 5087      | \n",
       "| HAMBI_216 | 4825      | \n",
       "| HAMBI_262 | 3231      | \n",
       "| HAMBI_403 | 4905      | \n",
       "\n",
       "\n"
      ],
      "text/plain": [
       "  SPECIES   CDS_COUNT\n",
       "1 HAMBI_6   5945     \n",
       "2 HAMBI_97  3137     \n",
       "3 HAMBI_105 5087     \n",
       "4 HAMBI_216 4825     \n",
       "5 HAMBI_262 3231     \n",
       "6 HAMBI_403 4905     "
      ]
     },
     "metadata": {},
     "output_type": "display_data"
    },
    {
     "data": {
      "text/html": [
       "58220"
      ],
      "text/latex": [
       "58220"
      ],
      "text/markdown": [
       "58220"
      ],
      "text/plain": [
       "[1] 58220"
      ]
     },
     "metadata": {},
     "output_type": "display_data"
    }
   ],
   "source": [
    "# Number of possible coding sequences\n",
    "\n",
    "cds_numbers = read.table(\"../../../data/deep_seq/cds_counts.txt\", \n",
    "                      sep = \"\\t\", \n",
    "                      header = F)\n",
    "colnames(cds_numbers) = c(\"SPECIES\", \"CDS_COUNT\")\n",
    "head(cds_numbers)\n",
    "sum(cds_numbers$CDS_COUNT[cds_numbers$SPECIES %in% nonsynonymous$SPECIES]) # 58,220 coding sequences"
   ]
  },
  {
   "cell_type": "code",
   "execution_count": 5,
   "metadata": {},
   "outputs": [
    {
     "data": {
      "text/html": [
       "<ol class=list-inline>\n",
       "\t<li>'b0lmZr1kQFVSHZciCODqzMw9sMj3iM6hRekNMyebw5thi2uOeY'</li>\n",
       "\t<li>'2PYzervlCTyrQI2x3UHN0kAyu2RMXsBxr9MqzCEHZVCaGJW8Ep'</li>\n",
       "\t<li>'M4TPBWnCfyImmmUuaFbGyrA0aQTxsw85pnH77WM9MnCcbjuXfK'</li>\n",
       "\t<li>'caqmuxvYEQ0cWAhkF90AY0vYGwvA89nMhqkrCOyDKVJ3wT1Woq'</li>\n",
       "\t<li>'z4wMaPsgoRLmAGihTbBtFtjtWP8ZZKv2uzpe7QivoFSLxTqQkd'</li>\n",
       "\t<li>'lcv2s1AIVm7kUSRHBu6tzUCH9WVFSstLuzBwMNGHihMWtNnJNV'</li>\n",
       "</ol>\n"
      ],
      "text/latex": [
       "\\begin{enumerate*}\n",
       "\\item 'b0lmZr1kQFVSHZciCODqzMw9sMj3iM6hRekNMyebw5thi2uOeY'\n",
       "\\item '2PYzervlCTyrQI2x3UHN0kAyu2RMXsBxr9MqzCEHZVCaGJW8Ep'\n",
       "\\item 'M4TPBWnCfyImmmUuaFbGyrA0aQTxsw85pnH77WM9MnCcbjuXfK'\n",
       "\\item 'caqmuxvYEQ0cWAhkF90AY0vYGwvA89nMhqkrCOyDKVJ3wT1Woq'\n",
       "\\item 'z4wMaPsgoRLmAGihTbBtFtjtWP8ZZKv2uzpe7QivoFSLxTqQkd'\n",
       "\\item 'lcv2s1AIVm7kUSRHBu6tzUCH9WVFSstLuzBwMNGHihMWtNnJNV'\n",
       "\\end{enumerate*}\n"
      ],
      "text/markdown": [
       "1. 'b0lmZr1kQFVSHZciCODqzMw9sMj3iM6hRekNMyebw5thi2uOeY'\n",
       "2. '2PYzervlCTyrQI2x3UHN0kAyu2RMXsBxr9MqzCEHZVCaGJW8Ep'\n",
       "3. 'M4TPBWnCfyImmmUuaFbGyrA0aQTxsw85pnH77WM9MnCcbjuXfK'\n",
       "4. 'caqmuxvYEQ0cWAhkF90AY0vYGwvA89nMhqkrCOyDKVJ3wT1Woq'\n",
       "5. 'z4wMaPsgoRLmAGihTbBtFtjtWP8ZZKv2uzpe7QivoFSLxTqQkd'\n",
       "6. 'lcv2s1AIVm7kUSRHBu6tzUCH9WVFSstLuzBwMNGHihMWtNnJNV'\n",
       "\n",
       "\n"
      ],
      "text/plain": [
       "[1] \"b0lmZr1kQFVSHZciCODqzMw9sMj3iM6hRekNMyebw5thi2uOeY\"\n",
       "[2] \"2PYzervlCTyrQI2x3UHN0kAyu2RMXsBxr9MqzCEHZVCaGJW8Ep\"\n",
       "[3] \"M4TPBWnCfyImmmUuaFbGyrA0aQTxsw85pnH77WM9MnCcbjuXfK\"\n",
       "[4] \"caqmuxvYEQ0cWAhkF90AY0vYGwvA89nMhqkrCOyDKVJ3wT1Woq\"\n",
       "[5] \"z4wMaPsgoRLmAGihTbBtFtjtWP8ZZKv2uzpe7QivoFSLxTqQkd\"\n",
       "[6] \"lcv2s1AIVm7kUSRHBu6tzUCH9WVFSstLuzBwMNGHihMWtNnJNV\""
      ]
     },
     "metadata": {},
     "output_type": "display_data"
    },
    {
     "data": {
      "text/html": [
       "58220"
      ],
      "text/latex": [
       "58220"
      ],
      "text/markdown": [
       "58220"
      ],
      "text/plain": [
       "[1] 58220"
      ]
     },
     "metadata": {},
     "output_type": "display_data"
    },
    {
     "data": {
      "text/html": [
       "<table>\n",
       "<thead><tr><th scope=col>one_hit</th><th scope=col>two_hits</th><th scope=col>three_hits</th><th scope=col>four_hits</th><th scope=col>five_hits</th></tr></thead>\n",
       "<tbody>\n",
       "\t<tr><td>566</td><td>11 </td><td>0  </td><td>0  </td><td>0  </td></tr>\n",
       "\t<tr><td>568</td><td>10 </td><td>0  </td><td>0  </td><td>0  </td></tr>\n",
       "\t<tr><td>569</td><td> 8 </td><td>1  </td><td>0  </td><td>0  </td></tr>\n",
       "\t<tr><td>570</td><td> 9 </td><td>0  </td><td>0  </td><td>0  </td></tr>\n",
       "\t<tr><td>571</td><td> 7 </td><td>1  </td><td>0  </td><td>0  </td></tr>\n",
       "\t<tr><td>572</td><td> 8 </td><td>0  </td><td>0  </td><td>0  </td></tr>\n",
       "</tbody>\n",
       "</table>\n"
      ],
      "text/latex": [
       "\\begin{tabular}{r|lllll}\n",
       " one\\_hit & two\\_hits & three\\_hits & four\\_hits & five\\_hits\\\\\n",
       "\\hline\n",
       "\t 566 & 11  & 0   & 0   & 0  \\\\\n",
       "\t 568 & 10  & 0   & 0   & 0  \\\\\n",
       "\t 569 &  8  & 1   & 0   & 0  \\\\\n",
       "\t 570 &  9  & 0   & 0   & 0  \\\\\n",
       "\t 571 &  7  & 1   & 0   & 0  \\\\\n",
       "\t 572 &  8  & 0   & 0   & 0  \\\\\n",
       "\\end{tabular}\n"
      ],
      "text/markdown": [
       "\n",
       "one_hit | two_hits | three_hits | four_hits | five_hits | \n",
       "|---|---|---|---|---|---|\n",
       "| 566 | 11  | 0   | 0   | 0   | \n",
       "| 568 | 10  | 0   | 0   | 0   | \n",
       "| 569 |  8  | 1   | 0   | 0   | \n",
       "| 570 |  9  | 0   | 0   | 0   | \n",
       "| 571 |  7  | 1   | 0   | 0   | \n",
       "| 572 |  8  | 0   | 0   | 0   | \n",
       "\n",
       "\n"
      ],
      "text/plain": [
       "  one_hit two_hits three_hits four_hits five_hits\n",
       "1 566     11       0          0         0        \n",
       "2 568     10       0          0         0        \n",
       "3 569      8       1          0         0        \n",
       "4 570      9       0          0         0        \n",
       "5 571      7       1          0         0        \n",
       "6 572      8       0          0         0        "
      ]
     },
     "metadata": {},
     "output_type": "display_data"
    },
    {
     "data": {
      "text/html": [
       "<dl class=dl-horizontal>\n",
       "\t<dt>one_hit</dt>\n",
       "\t\t<dd>577.045454545455</dd>\n",
       "\t<dt>two_hits</dt>\n",
       "\t\t<dd>4.77272727272727</dd>\n",
       "\t<dt>three_hits</dt>\n",
       "\t\t<dd>0.409090909090909</dd>\n",
       "\t<dt>four_hits</dt>\n",
       "\t\t<dd>0.0454545454545455</dd>\n",
       "\t<dt>five_hits</dt>\n",
       "\t\t<dd>0</dd>\n",
       "</dl>\n"
      ],
      "text/latex": [
       "\\begin{description*}\n",
       "\\item[one\\textbackslash{}\\_hit] 577.045454545455\n",
       "\\item[two\\textbackslash{}\\_hits] 4.77272727272727\n",
       "\\item[three\\textbackslash{}\\_hits] 0.409090909090909\n",
       "\\item[four\\textbackslash{}\\_hits] 0.0454545454545455\n",
       "\\item[five\\textbackslash{}\\_hits] 0\n",
       "\\end{description*}\n"
      ],
      "text/markdown": [
       "one_hit\n",
       ":   577.045454545455two_hits\n",
       ":   4.77272727272727three_hits\n",
       ":   0.409090909090909four_hits\n",
       ":   0.0454545454545455five_hits\n",
       ":   0\n",
       "\n"
      ],
      "text/plain": [
       "     one_hit     two_hits   three_hits    four_hits    five_hits \n",
       "577.04545455   4.77272727   0.40909091   0.04545455   0.00000000 "
      ]
     },
     "metadata": {},
     "output_type": "display_data"
    }
   ],
   "source": [
    "library(stringi)\n",
    "genes = stri_rand_strings(58220,50, pattern = \"[A-Za-z0-9]\")\n",
    "head(genes)\n",
    "length(unique(genes))\n",
    "\n",
    "gene_sample_list = list()\n",
    "for(i in 1:10000){\n",
    "    gene_sample = sample(genes, size = 588, replace =T)\n",
    "    hits = as.data.frame(table(gene_sample))\n",
    "    a = length(hits$gene_sample[hits$Freq == 1])\n",
    "    b = length(hits$gene_sample[hits$Freq == 2])\n",
    "    c = length(hits$gene_sample[hits$Freq == 3])\n",
    "    d = length(hits$gene_sample[hits$Freq == 4])\n",
    "    e = length(hits$gene_sample[hits$Freq == 5])\n",
    "    hits_summary = data.frame(one_hit = a, two_hits = b, three_hits = c, four_hits = d, five_hits = e)\n",
    "    gene_sample_list[[i]] = hits_summary\n",
    "}\n",
    "\n",
    "gene_hit_summary = Reduce(function(...) merge(..., all = T), gene_sample_list)\n",
    "head(gene_hit_summary)\n",
    "\n",
    "colMeans(gene_hit_summary)"
   ]
  },
  {
   "cell_type": "code",
   "execution_count": 6,
   "metadata": {},
   "outputs": [
    {
     "data": {
      "text/html": [
       "<table>\n",
       "<thead><tr><th scope=col>GENE</th><th scope=col>COUNT</th></tr></thead>\n",
       "<tbody>\n",
       "\t<tr><td>ABNHBPOL_00951</td><td>98            </td></tr>\n",
       "\t<tr><td>ABNHBPOL_04066</td><td>40            </td></tr>\n",
       "\t<tr><td>CKLFCLNC_01286</td><td>18            </td></tr>\n",
       "\t<tr><td>CKLFCLNC_02614</td><td>10            </td></tr>\n",
       "\t<tr><td>CKLFCLNC_02634</td><td>20            </td></tr>\n",
       "\t<tr><td>CKLFCLNC_03362</td><td>12            </td></tr>\n",
       "</tbody>\n",
       "</table>\n"
      ],
      "text/latex": [
       "\\begin{tabular}{r|ll}\n",
       " GENE & COUNT\\\\\n",
       "\\hline\n",
       "\t ABNHBPOL\\_00951 & 98              \\\\\n",
       "\t ABNHBPOL\\_04066 & 40              \\\\\n",
       "\t CKLFCLNC\\_01286 & 18              \\\\\n",
       "\t CKLFCLNC\\_02614 & 10              \\\\\n",
       "\t CKLFCLNC\\_02634 & 20              \\\\\n",
       "\t CKLFCLNC\\_03362 & 12              \\\\\n",
       "\\end{tabular}\n"
      ],
      "text/markdown": [
       "\n",
       "GENE | COUNT | \n",
       "|---|---|---|---|---|---|\n",
       "| ABNHBPOL_00951 | 98             | \n",
       "| ABNHBPOL_04066 | 40             | \n",
       "| CKLFCLNC_01286 | 18             | \n",
       "| CKLFCLNC_02614 | 10             | \n",
       "| CKLFCLNC_02634 | 20             | \n",
       "| CKLFCLNC_03362 | 12             | \n",
       "\n",
       "\n"
      ],
      "text/plain": [
       "  GENE           COUNT\n",
       "1 ABNHBPOL_00951 98   \n",
       "2 ABNHBPOL_04066 40   \n",
       "3 CKLFCLNC_01286 18   \n",
       "4 CKLFCLNC_02614 10   \n",
       "5 CKLFCLNC_02634 20   \n",
       "6 CKLFCLNC_03362 12   "
      ]
     },
     "metadata": {},
     "output_type": "display_data"
    },
    {
     "data": {
      "text/html": [
       "74"
      ],
      "text/latex": [
       "74"
      ],
      "text/markdown": [
       "74"
      ],
      "text/plain": [
       "[1] 74"
      ]
     },
     "metadata": {},
     "output_type": "display_data"
    },
    {
     "data": {
      "text/html": [
       "1092"
      ],
      "text/latex": [
       "1092"
      ],
      "text/markdown": [
       "1092"
      ],
      "text/plain": [
       "[1] 1092"
      ]
     },
     "metadata": {},
     "output_type": "display_data"
    },
    {
     "data": {
      "text/html": [
       "47"
      ],
      "text/latex": [
       "47"
      ],
      "text/markdown": [
       "47"
      ],
      "text/plain": [
       "[1] 47"
      ]
     },
     "metadata": {},
     "output_type": "display_data"
    },
    {
     "data": {
      "text/html": [
       "39"
      ],
      "text/latex": [
       "39"
      ],
      "text/markdown": [
       "39"
      ],
      "text/plain": [
       "[1] 39"
      ]
     },
     "metadata": {},
     "output_type": "display_data"
    }
   ],
   "source": [
    "nonsynonymous$COUNT = 1\n",
    "hit_counts = aggregate(COUNT ~ GENE, data = nonsynonymous, FUN = function(x) {sum(x)})\n",
    "head(hit_counts)                        \n",
    "                          \n",
    "# total number of nonsynonymous mutations\n",
    "length(hit_counts$COUNT) # 74\n",
    "# hit in two or more populations\n",
    "sum(hit_counts$COUNT[hit_counts$COUNT > 4]) # 1092 mutations (expected 5)\n",
    "length(hit_counts$COUNT[hit_counts$COUNT > 4]) # 47 genes (expected 5)\n",
    "# hit in three or more populations\n",
    "length(hit_counts$COUNT[hit_counts$COUNT > 6]) # 39 (expected < 1)\n",
    "                          \n",
    "# We would like to test these observations against the null hypothesis that those genes \n",
    "# recurrently mutated happen by chance. This model is equivalent to the case of comparing biased \n",
    "# and unbiased multinomial sampling of balls of different colour from an urn. \n",
    "# Out of all coding genes in the all the genomes, \n",
    "# we draw mutations from the multinomial distribution with replacement, \n",
    "# based on the number of observed nonsynonymous coding mutations in each population. \n",
    "# If these 588 mutations were randomly distributed over the 58,220 coding genes in the genomes, \n",
    "# we would expect only 5 genes mutated in two or more populations. \n",
    "# In total, there were 1092 coding nonsynonymous mutations across 47 genes \n",
    "# independently mutated in two or more populations.\n",
    "# Therefore, we focus on multi-hit genes which are independently mutated in two or more populations, \n",
    "# which are putatively beneficial."
   ]
  },
  {
   "cell_type": "code",
   "execution_count": 7,
   "metadata": {},
   "outputs": [
    {
     "data": {
      "text/html": [
       "<table>\n",
       "<thead><tr><th scope=col>GENE</th><th scope=col>COUNT</th></tr></thead>\n",
       "<tbody>\n",
       "\t<tr><td>ABNHBPOL_00951</td><td>98            </td></tr>\n",
       "\t<tr><td>ABNHBPOL_04066</td><td>40            </td></tr>\n",
       "\t<tr><td>CKLFCLNC_01286</td><td>18            </td></tr>\n",
       "\t<tr><td>CKLFCLNC_02614</td><td>10            </td></tr>\n",
       "\t<tr><td>CKLFCLNC_02634</td><td>20            </td></tr>\n",
       "\t<tr><td>CKLFCLNC_03362</td><td>12            </td></tr>\n",
       "\t<tr><td>CKLFCLNC_03364</td><td> 2            </td></tr>\n",
       "\t<tr><td>CKLFCLNC_05792</td><td> 6            </td></tr>\n",
       "\t<tr><td>CKLFCLNC_06220</td><td> 2            </td></tr>\n",
       "\t<tr><td>CKLFCLNC_06346</td><td> 2            </td></tr>\n",
       "\t<tr><td>DPMDEPGB_00219</td><td> 4            </td></tr>\n",
       "\t<tr><td>DPMDEPGB_02466</td><td> 4            </td></tr>\n",
       "\t<tr><td>DPMDEPGB_02646</td><td> 6            </td></tr>\n",
       "\t<tr><td>DPMDEPGB_02799</td><td> 8            </td></tr>\n",
       "\t<tr><td>DPMDEPGB_03114</td><td> 4            </td></tr>\n",
       "\t<tr><td>DPMDEPGB_03260</td><td> 2            </td></tr>\n",
       "\t<tr><td>DPMDEPGB_03261</td><td> 4            </td></tr>\n",
       "\t<tr><td>DPMDEPGB_04356</td><td> 2            </td></tr>\n",
       "\t<tr><td>EJMNOJEN_04543</td><td> 4            </td></tr>\n",
       "\t<tr><td>IBBHIMLJ_00246</td><td>18            </td></tr>\n",
       "\t<tr><td>IBBHIMLJ_00389</td><td>22            </td></tr>\n",
       "\t<tr><td>IBBHIMLJ_00602</td><td>10            </td></tr>\n",
       "\t<tr><td>IBBHIMLJ_00766</td><td>74            </td></tr>\n",
       "\t<tr><td>IBBHIMLJ_00815</td><td>92            </td></tr>\n",
       "\t<tr><td>IBBHIMLJ_00953</td><td>10            </td></tr>\n",
       "\t<tr><td>IBBHIMLJ_02593</td><td> 6            </td></tr>\n",
       "\t<tr><td>IBBHIMLJ_02849</td><td>32            </td></tr>\n",
       "\t<tr><td>IBBHIMLJ_02970</td><td>36            </td></tr>\n",
       "\t<tr><td>IBBHIMLJ_03302</td><td>16            </td></tr>\n",
       "\t<tr><td>IBBHIMLJ_03756</td><td>66            </td></tr>\n",
       "\t<tr><td>⋮</td><td>⋮</td></tr>\n",
       "\t<tr><td>aacC1  </td><td> 8     </td></tr>\n",
       "\t<tr><td>bvgS_2 </td><td>34     </td></tr>\n",
       "\t<tr><td>cckA   </td><td>12     </td></tr>\n",
       "\t<tr><td>cra    </td><td> 4     </td></tr>\n",
       "\t<tr><td>cspA_6 </td><td> 4     </td></tr>\n",
       "\t<tr><td>cya    </td><td>40     </td></tr>\n",
       "\t<tr><td>eno    </td><td>12     </td></tr>\n",
       "\t<tr><td>fhaB_2 </td><td> 4     </td></tr>\n",
       "\t<tr><td>hssR   </td><td> 6     </td></tr>\n",
       "\t<tr><td>kbl    </td><td> 4     </td></tr>\n",
       "\t<tr><td>lgrB   </td><td>56     </td></tr>\n",
       "\t<tr><td>ltxA_1 </td><td>10     </td></tr>\n",
       "\t<tr><td>ltxA_6 </td><td> 8     </td></tr>\n",
       "\t<tr><td>luxQ_1 </td><td> 4     </td></tr>\n",
       "\t<tr><td>ntrC   </td><td> 2     </td></tr>\n",
       "\t<tr><td>phoQ_2 </td><td> 4     </td></tr>\n",
       "\t<tr><td>phoR_2 </td><td> 8     </td></tr>\n",
       "\t<tr><td>pksJ   </td><td> 2     </td></tr>\n",
       "\t<tr><td>relA_2 </td><td>20     </td></tr>\n",
       "\t<tr><td>rhaR_1 </td><td>24     </td></tr>\n",
       "\t<tr><td>rhsA   </td><td> 8     </td></tr>\n",
       "\t<tr><td>rpsL   </td><td> 2     </td></tr>\n",
       "\t<tr><td>rsmG   </td><td> 4     </td></tr>\n",
       "\t<tr><td>silP   </td><td> 2     </td></tr>\n",
       "\t<tr><td>soj_1  </td><td> 8     </td></tr>\n",
       "\t<tr><td>spoT_1 </td><td> 4     </td></tr>\n",
       "\t<tr><td>ssb_4  </td><td> 2     </td></tr>\n",
       "\t<tr><td>vgrG1_2</td><td>40     </td></tr>\n",
       "\t<tr><td>xynD_5 </td><td>12     </td></tr>\n",
       "\t<tr><td>ycdT_1 </td><td> 6     </td></tr>\n",
       "</tbody>\n",
       "</table>\n"
      ],
      "text/latex": [
       "\\begin{tabular}{r|ll}\n",
       " GENE & COUNT\\\\\n",
       "\\hline\n",
       "\t ABNHBPOL\\_00951 & 98              \\\\\n",
       "\t ABNHBPOL\\_04066 & 40              \\\\\n",
       "\t CKLFCLNC\\_01286 & 18              \\\\\n",
       "\t CKLFCLNC\\_02614 & 10              \\\\\n",
       "\t CKLFCLNC\\_02634 & 20              \\\\\n",
       "\t CKLFCLNC\\_03362 & 12              \\\\\n",
       "\t CKLFCLNC\\_03364 &  2              \\\\\n",
       "\t CKLFCLNC\\_05792 &  6              \\\\\n",
       "\t CKLFCLNC\\_06220 &  2              \\\\\n",
       "\t CKLFCLNC\\_06346 &  2              \\\\\n",
       "\t DPMDEPGB\\_00219 &  4              \\\\\n",
       "\t DPMDEPGB\\_02466 &  4              \\\\\n",
       "\t DPMDEPGB\\_02646 &  6              \\\\\n",
       "\t DPMDEPGB\\_02799 &  8              \\\\\n",
       "\t DPMDEPGB\\_03114 &  4              \\\\\n",
       "\t DPMDEPGB\\_03260 &  2              \\\\\n",
       "\t DPMDEPGB\\_03261 &  4              \\\\\n",
       "\t DPMDEPGB\\_04356 &  2              \\\\\n",
       "\t EJMNOJEN\\_04543 &  4              \\\\\n",
       "\t IBBHIMLJ\\_00246 & 18              \\\\\n",
       "\t IBBHIMLJ\\_00389 & 22              \\\\\n",
       "\t IBBHIMLJ\\_00602 & 10              \\\\\n",
       "\t IBBHIMLJ\\_00766 & 74              \\\\\n",
       "\t IBBHIMLJ\\_00815 & 92              \\\\\n",
       "\t IBBHIMLJ\\_00953 & 10              \\\\\n",
       "\t IBBHIMLJ\\_02593 &  6              \\\\\n",
       "\t IBBHIMLJ\\_02849 & 32              \\\\\n",
       "\t IBBHIMLJ\\_02970 & 36              \\\\\n",
       "\t IBBHIMLJ\\_03302 & 16              \\\\\n",
       "\t IBBHIMLJ\\_03756 & 66              \\\\\n",
       "\t ⋮ & ⋮\\\\\n",
       "\t aacC1   &  8     \\\\\n",
       "\t bvgS\\_2  & 34       \\\\\n",
       "\t cckA    & 12     \\\\\n",
       "\t cra     &  4     \\\\\n",
       "\t cspA\\_6  &  4       \\\\\n",
       "\t cya     & 40     \\\\\n",
       "\t eno     & 12     \\\\\n",
       "\t fhaB\\_2  &  4       \\\\\n",
       "\t hssR    &  6     \\\\\n",
       "\t kbl     &  4     \\\\\n",
       "\t lgrB    & 56     \\\\\n",
       "\t ltxA\\_1  & 10       \\\\\n",
       "\t ltxA\\_6  &  8       \\\\\n",
       "\t luxQ\\_1  &  4       \\\\\n",
       "\t ntrC    &  2     \\\\\n",
       "\t phoQ\\_2  &  4       \\\\\n",
       "\t phoR\\_2  &  8       \\\\\n",
       "\t pksJ    &  2     \\\\\n",
       "\t relA\\_2  & 20       \\\\\n",
       "\t rhaR\\_1  & 24       \\\\\n",
       "\t rhsA    &  8     \\\\\n",
       "\t rpsL    &  2     \\\\\n",
       "\t rsmG    &  4     \\\\\n",
       "\t silP    &  2     \\\\\n",
       "\t soj\\_1   &  8       \\\\\n",
       "\t spoT\\_1  &  4       \\\\\n",
       "\t ssb\\_4   &  2       \\\\\n",
       "\t vgrG1\\_2 & 40       \\\\\n",
       "\t xynD\\_5  & 12       \\\\\n",
       "\t ycdT\\_1  &  6       \\\\\n",
       "\\end{tabular}\n"
      ],
      "text/markdown": [
       "\n",
       "GENE | COUNT | \n",
       "|---|---|---|---|---|---|---|---|---|---|---|---|---|---|---|---|---|---|---|---|---|---|---|---|---|---|---|---|---|---|---|---|---|---|---|---|---|---|---|---|---|---|---|---|---|---|---|---|---|---|---|---|---|---|---|---|---|---|---|---|---|\n",
       "| ABNHBPOL_00951 | 98             | \n",
       "| ABNHBPOL_04066 | 40             | \n",
       "| CKLFCLNC_01286 | 18             | \n",
       "| CKLFCLNC_02614 | 10             | \n",
       "| CKLFCLNC_02634 | 20             | \n",
       "| CKLFCLNC_03362 | 12             | \n",
       "| CKLFCLNC_03364 |  2             | \n",
       "| CKLFCLNC_05792 |  6             | \n",
       "| CKLFCLNC_06220 |  2             | \n",
       "| CKLFCLNC_06346 |  2             | \n",
       "| DPMDEPGB_00219 |  4             | \n",
       "| DPMDEPGB_02466 |  4             | \n",
       "| DPMDEPGB_02646 |  6             | \n",
       "| DPMDEPGB_02799 |  8             | \n",
       "| DPMDEPGB_03114 |  4             | \n",
       "| DPMDEPGB_03260 |  2             | \n",
       "| DPMDEPGB_03261 |  4             | \n",
       "| DPMDEPGB_04356 |  2             | \n",
       "| EJMNOJEN_04543 |  4             | \n",
       "| IBBHIMLJ_00246 | 18             | \n",
       "| IBBHIMLJ_00389 | 22             | \n",
       "| IBBHIMLJ_00602 | 10             | \n",
       "| IBBHIMLJ_00766 | 74             | \n",
       "| IBBHIMLJ_00815 | 92             | \n",
       "| IBBHIMLJ_00953 | 10             | \n",
       "| IBBHIMLJ_02593 |  6             | \n",
       "| IBBHIMLJ_02849 | 32             | \n",
       "| IBBHIMLJ_02970 | 36             | \n",
       "| IBBHIMLJ_03302 | 16             | \n",
       "| IBBHIMLJ_03756 | 66             | \n",
       "| ⋮ | ⋮ | \n",
       "| aacC1   |  8      | \n",
       "| bvgS_2  | 34      | \n",
       "| cckA    | 12      | \n",
       "| cra     |  4      | \n",
       "| cspA_6  |  4      | \n",
       "| cya     | 40      | \n",
       "| eno     | 12      | \n",
       "| fhaB_2  |  4      | \n",
       "| hssR    |  6      | \n",
       "| kbl     |  4      | \n",
       "| lgrB    | 56      | \n",
       "| ltxA_1  | 10      | \n",
       "| ltxA_6  |  8      | \n",
       "| luxQ_1  |  4      | \n",
       "| ntrC    |  2      | \n",
       "| phoQ_2  |  4      | \n",
       "| phoR_2  |  8      | \n",
       "| pksJ    |  2      | \n",
       "| relA_2  | 20      | \n",
       "| rhaR_1  | 24      | \n",
       "| rhsA    |  8      | \n",
       "| rpsL    |  2      | \n",
       "| rsmG    |  4      | \n",
       "| silP    |  2      | \n",
       "| soj_1   |  8      | \n",
       "| spoT_1  |  4      | \n",
       "| ssb_4   |  2      | \n",
       "| vgrG1_2 | 40      | \n",
       "| xynD_5  | 12      | \n",
       "| ycdT_1  |  6      | \n",
       "\n",
       "\n"
      ],
      "text/plain": [
       "   GENE           COUNT\n",
       "1  ABNHBPOL_00951 98   \n",
       "2  ABNHBPOL_04066 40   \n",
       "3  CKLFCLNC_01286 18   \n",
       "4  CKLFCLNC_02614 10   \n",
       "5  CKLFCLNC_02634 20   \n",
       "6  CKLFCLNC_03362 12   \n",
       "7  CKLFCLNC_03364  2   \n",
       "8  CKLFCLNC_05792  6   \n",
       "9  CKLFCLNC_06220  2   \n",
       "10 CKLFCLNC_06346  2   \n",
       "11 DPMDEPGB_00219  4   \n",
       "12 DPMDEPGB_02466  4   \n",
       "13 DPMDEPGB_02646  6   \n",
       "14 DPMDEPGB_02799  8   \n",
       "15 DPMDEPGB_03114  4   \n",
       "16 DPMDEPGB_03260  2   \n",
       "17 DPMDEPGB_03261  4   \n",
       "18 DPMDEPGB_04356  2   \n",
       "19 EJMNOJEN_04543  4   \n",
       "20 IBBHIMLJ_00246 18   \n",
       "21 IBBHIMLJ_00389 22   \n",
       "22 IBBHIMLJ_00602 10   \n",
       "23 IBBHIMLJ_00766 74   \n",
       "24 IBBHIMLJ_00815 92   \n",
       "25 IBBHIMLJ_00953 10   \n",
       "26 IBBHIMLJ_02593  6   \n",
       "27 IBBHIMLJ_02849 32   \n",
       "28 IBBHIMLJ_02970 36   \n",
       "29 IBBHIMLJ_03302 16   \n",
       "30 IBBHIMLJ_03756 66   \n",
       "⋮  ⋮              ⋮    \n",
       "45 aacC1           8   \n",
       "46 bvgS_2         34   \n",
       "47 cckA           12   \n",
       "48 cra             4   \n",
       "49 cspA_6          4   \n",
       "50 cya            40   \n",
       "51 eno            12   \n",
       "52 fhaB_2          4   \n",
       "53 hssR            6   \n",
       "54 kbl             4   \n",
       "55 lgrB           56   \n",
       "56 ltxA_1         10   \n",
       "57 ltxA_6          8   \n",
       "58 luxQ_1          4   \n",
       "59 ntrC            2   \n",
       "60 phoQ_2          4   \n",
       "61 phoR_2          8   \n",
       "62 pksJ            2   \n",
       "63 relA_2         20   \n",
       "64 rhaR_1         24   \n",
       "65 rhsA            8   \n",
       "66 rpsL            2   \n",
       "67 rsmG            4   \n",
       "68 silP            2   \n",
       "69 soj_1           8   \n",
       "70 spoT_1          4   \n",
       "71 ssb_4           2   \n",
       "72 vgrG1_2        40   \n",
       "73 xynD_5         12   \n",
       "74 ycdT_1          6   "
      ]
     },
     "metadata": {},
     "output_type": "display_data"
    }
   ],
   "source": [
    "hit_counts"
   ]
  },
  {
   "cell_type": "code",
   "execution_count": 8,
   "metadata": {},
   "outputs": [
    {
     "data": {
      "text/html": [
       "0.989968125847872"
      ],
      "text/latex": [
       "0.989968125847872"
      ],
      "text/markdown": [
       "0.989968125847872"
      ],
      "text/plain": [
       "[1] 0.9899681"
      ]
     },
     "metadata": {},
     "output_type": "display_data"
    },
    {
     "data": {
      "text/html": [
       "0.00499073575527493"
      ],
      "text/latex": [
       "0.00499073575527493"
      ],
      "text/markdown": [
       "0.00499073575527493"
      ],
      "text/plain": [
       "[1] 0.004990736"
      ]
     },
     "metadata": {},
     "output_type": "display_data"
    },
    {
     "data": {
      "text/html": [
       "1.67446546808378e-05"
      ],
      "text/latex": [
       "1.67446546808378e-05"
      ],
      "text/markdown": [
       "1.67446546808378e-05"
      ],
      "text/plain": [
       "[1] 1.674465e-05"
      ]
     },
     "metadata": {},
     "output_type": "display_data"
    },
    {
     "data": {
      "text/html": [
       "4.2063686203345e-08"
      ],
      "text/latex": [
       "4.2063686203345e-08"
      ],
      "text/markdown": [
       "4.2063686203345e-08"
      ],
      "text/plain": [
       "[1] 4.206369e-08"
      ]
     },
     "metadata": {},
     "output_type": "display_data"
    },
    {
     "data": {
      "text/html": [
       "577"
      ],
      "text/latex": [
       "577"
      ],
      "text/markdown": [
       "577"
      ],
      "text/plain": [
       "[1] 577"
      ]
     },
     "metadata": {},
     "output_type": "display_data"
    }
   ],
   "source": [
    "# There are 58,220 unique coding sequences (items, n) and we are selecting 588 of them (m)\n",
    "# The expected number of items appearing k times is therefore given by n * dbinom(k, m, 1 / n)\n",
    "\n",
    "# probability of one hit:\n",
    "58220 * dbinom(1, 588, 1 / 58220) / 588 # 0.989968125847872\n",
    "# two hits:\n",
    "58220 * dbinom(2, 588, 1 / 58220) / 588 # 0.00499073575527493\n",
    "# three hits:\n",
    "58220 * dbinom(3, 588, 1 / 58220) / 588 # 1.67446546808378e-05\n",
    "# four hits:\n",
    "58220 * dbinom(4, 588, 1 / 58220) / 588 # 4.2063686203345e-08\n",
    "\n",
    "# The probability of two hits in the same gene is below alpha 0.01\n",
    "\n",
    "# Based on literature we know that the rpsL gene is the most common target of streptomycin resistance mutations\n",
    "# so let's select it in in addition to all genes with two or more hits\n",
    "\n",
    "nonsynonymous$COUNT = 1\n",
    "hit_counts = aggregate(COUNT ~ GENE, data = nonsynonymous, FUN = function(x) {sum(x)})\n",
    "\n",
    "# There is a variant call for two time points per population, so two hits equal four occurrences\n",
    "\n",
    "x = hit_counts[hit_counts$COUNT >= 4,]\n",
    "\n",
    "multihit = nonsynonymous[nonsynonymous$GENE %in% x$GENE | nonsynonymous$GENE == \"rpsL\",]\n",
    "\n",
    "# Number of nonsynonymous variants left\n",
    "\n",
    "nrow(multihit)/2 # 547 (i.e. most variants, 577/588, occur in genes with more than one hit)"
   ]
  },
  {
   "cell_type": "code",
   "execution_count": 9,
   "metadata": {},
   "outputs": [
    {
     "data": {
      "text/html": [
       "20"
      ],
      "text/latex": [
       "20"
      ],
      "text/markdown": [
       "20"
      ],
      "text/plain": [
       "[1] 20"
      ]
     },
     "metadata": {},
     "output_type": "display_data"
    }
   ],
   "source": [
    "# Convert counts where both time points are included to actual counts\n",
    "\n",
    "multihit$COUNT = ifelse(multihit$VARIANT_FREQUENCY == 0, 0, 1)\n",
    "nrow(multihit[multihit$COUNT == 0,])"
   ]
  },
  {
   "cell_type": "code",
   "execution_count": 10,
   "metadata": {},
   "outputs": [],
   "source": [
    "# Write out\n",
    "\n",
    "write.table(multihit, row.names = FALSE, \"../../../data/deep_seq/multihit_nonsynonymous_variant_data.txt\", sep = \"\\t\")"
   ]
  }
 ],
 "metadata": {
  "kernelspec": {
   "display_name": "R",
   "language": "R",
   "name": "ir"
  },
  "language_info": {
   "codemirror_mode": "r",
   "file_extension": ".r",
   "mimetype": "text/x-r-source",
   "name": "R",
   "pygments_lexer": "r",
   "version": "3.5.1"
  }
 },
 "nbformat": 4,
 "nbformat_minor": 2
}
