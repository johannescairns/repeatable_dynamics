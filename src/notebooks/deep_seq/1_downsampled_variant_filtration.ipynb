{
 "cells": [
  {
   "cell_type": "markdown",
   "metadata": {},
   "source": [
    "# Filtering, reformatting and adding metadata to downsampled variants\n",
    "\n",
    "This notebook includes the first steps of downstream processing for vcf files generated with freebayes (https://github.com/ekg/freebayes), filtered with vcffilter and annotated with SnpEff. The input files are tab delimited text files generated from annotated vcf files using SnpSift, with only the first annotation for each variant considered. The processing includes reformatting data tables, filtering variants and adding metadata to create a master data table containing a golden set of variants."
   ]
  },
  {
   "cell_type": "code",
   "execution_count": 1,
   "metadata": {},
   "outputs": [],
   "source": [
    "# Housekeeping\n",
    "\n",
    "library(ggplot2)\n",
    "library(reshape2)"
   ]
  },
  {
   "cell_type": "code",
   "execution_count": 2,
   "metadata": {},
   "outputs": [
    {
     "data": {
      "text/html": [
       "<table>\n",
       "<thead><tr><th scope=col>CHROM</th><th scope=col>POS</th><th scope=col>REF</th><th scope=col>ALT</th><th scope=col>TYPE</th><th scope=col>ANN[0].EFFECT</th><th scope=col>ANN[0].IMPACT</th><th scope=col>ANN[0].GENE</th><th scope=col>ANN[0].GENEID</th><th scope=col>ANN[0].HGVS_C</th><th scope=col>ANN[0].HGVS_P</th><th scope=col>GEN[*].AD</th></tr></thead>\n",
       "<tbody>\n",
       "\t<tr><td>JFDMDMML_1                                                     </td><td>102233                                                         </td><td><span style=white-space:pre-wrap>A  </span>                    </td><td>G                                                              </td><td>snp                                                            </td><td><span style=white-space:pre-wrap>synonymous_variant     </span></td><td><span style=white-space:pre-wrap>LOW     </span>               </td><td>hag_2                                                          </td><td>JFDMDMML_00111                                                 </td><td><span style=white-space:pre-wrap>c.759A&gt;G   </span>         </td><td>p.Leu253Leu                                                    </td><td>0,4                                                            </td></tr>\n",
       "\t<tr><td>JFDMDMML_1                                                     </td><td>102275                                                         </td><td><span style=white-space:pre-wrap>C  </span>                    </td><td>T                                                              </td><td>snp                                                            </td><td><span style=white-space:pre-wrap>synonymous_variant     </span></td><td><span style=white-space:pre-wrap>LOW     </span>               </td><td>hag_2                                                          </td><td>JFDMDMML_00111                                                 </td><td><span style=white-space:pre-wrap>c.801C&gt;T   </span>         </td><td>p.Ser267Ser                                                    </td><td>0,7                                                            </td></tr>\n",
       "\t<tr><td>JFDMDMML_1                                                     </td><td>102281                                                         </td><td><span style=white-space:pre-wrap>G  </span>                    </td><td>C                                                              </td><td>snp                                                            </td><td><span style=white-space:pre-wrap>synonymous_variant     </span></td><td><span style=white-space:pre-wrap>LOW     </span>               </td><td>hag_2                                                          </td><td>JFDMDMML_00111                                                 </td><td><span style=white-space:pre-wrap>c.807G&gt;C   </span>         </td><td>p.Thr269Thr                                                    </td><td>0,7                                                            </td></tr>\n",
       "\t<tr><td>JFDMDMML_1                                                     </td><td>102302                                                         </td><td><span style=white-space:pre-wrap>G  </span>                    </td><td>A                                                              </td><td>snp                                                            </td><td><span style=white-space:pre-wrap>synonymous_variant     </span></td><td><span style=white-space:pre-wrap>LOW     </span>               </td><td>hag_2                                                          </td><td>JFDMDMML_00111                                                 </td><td><span style=white-space:pre-wrap>c.828G&gt;A   </span>         </td><td>p.Gln276Gln                                                    </td><td>0,6                                                            </td></tr>\n",
       "\t<tr><td>JFDMDMML_1             </td><td>540043                 </td><td>CTT                    </td><td>CT                     </td><td>del                    </td><td>downstream_gene_variant</td><td>MODIFIER               </td><td>exbB_1                 </td><td>JFDMDMML_00506         </td><td>c.*4852delT            </td><td>NA                     </td><td>0,3                    </td></tr>\n",
       "\t<tr><td>JFDMDMML_3                                                     </td><td><span style=white-space:pre-wrap>    98</span>                 </td><td><span style=white-space:pre-wrap>T  </span>                    </td><td>C                                                              </td><td>snp                                                            </td><td><span style=white-space:pre-wrap>upstream_gene_variant  </span></td><td>MODIFIER                                                       </td><td>metN_2                                                         </td><td>JFDMDMML_00998                                                 </td><td><span style=white-space:pre-wrap>c.-933T&gt;C  </span>         </td><td><span style=white-space:pre-wrap>NA         </span>            </td><td>0,6                                                            </td></tr>\n",
       "</tbody>\n",
       "</table>\n"
      ],
      "text/latex": [
       "\\begin{tabular}{r|llllllllllll}\n",
       " CHROM & POS & REF & ALT & TYPE & ANN{[}0{]}.EFFECT & ANN{[}0{]}.IMPACT & ANN{[}0{]}.GENE & ANN{[}0{]}.GENEID & ANN{[}0{]}.HGVS\\_C & ANN{[}0{]}.HGVS\\_P & GEN{[}*{]}.AD\\\\\n",
       "\\hline\n",
       "\t JFDMDMML\\_1              & 102233                    & A                         & G                         & snp                       & synonymous\\_variant      & LOW                       & hag\\_2                   & JFDMDMML\\_00111          & c.759A>G                  & p.Leu253Leu               & 0,4                      \\\\\n",
       "\t JFDMDMML\\_1              & 102275                    & C                         & T                         & snp                       & synonymous\\_variant      & LOW                       & hag\\_2                   & JFDMDMML\\_00111          & c.801C>T                  & p.Ser267Ser               & 0,7                      \\\\\n",
       "\t JFDMDMML\\_1              & 102281                    & G                         & C                         & snp                       & synonymous\\_variant      & LOW                       & hag\\_2                   & JFDMDMML\\_00111          & c.807G>C                  & p.Thr269Thr               & 0,7                      \\\\\n",
       "\t JFDMDMML\\_1              & 102302                    & G                         & A                         & snp                       & synonymous\\_variant      & LOW                       & hag\\_2                   & JFDMDMML\\_00111          & c.828G>A                  & p.Gln276Gln               & 0,6                      \\\\\n",
       "\t JFDMDMML\\_1                & 540043                      & CTT                         & CT                          & del                         & downstream\\_gene\\_variant & MODIFIER                    & exbB\\_1                    & JFDMDMML\\_00506            & c.*4852delT                 & NA                          & 0,3                        \\\\\n",
       "\t JFDMDMML\\_3                &     98                      & T                           & C                           & snp                         & upstream\\_gene\\_variant   & MODIFIER                    & metN\\_2                    & JFDMDMML\\_00998            & c.-933T>C                   & NA                          & 0,6                        \\\\\n",
       "\\end{tabular}\n"
      ],
      "text/markdown": [
       "\n",
       "CHROM | POS | REF | ALT | TYPE | ANN[0].EFFECT | ANN[0].IMPACT | ANN[0].GENE | ANN[0].GENEID | ANN[0].HGVS_C | ANN[0].HGVS_P | GEN[*].AD | \n",
       "|---|---|---|---|---|---|\n",
       "| JFDMDMML_1              | 102233                  | A                       | G                       | snp                     | synonymous_variant      | LOW                     | hag_2                   | JFDMDMML_00111          | c.759A>G                | p.Leu253Leu             | 0,4                     | \n",
       "| JFDMDMML_1              | 102275                  | C                       | T                       | snp                     | synonymous_variant      | LOW                     | hag_2                   | JFDMDMML_00111          | c.801C>T                | p.Ser267Ser             | 0,7                     | \n",
       "| JFDMDMML_1              | 102281                  | G                       | C                       | snp                     | synonymous_variant      | LOW                     | hag_2                   | JFDMDMML_00111          | c.807G>C                | p.Thr269Thr             | 0,7                     | \n",
       "| JFDMDMML_1              | 102302                  | G                       | A                       | snp                     | synonymous_variant      | LOW                     | hag_2                   | JFDMDMML_00111          | c.828G>A                | p.Gln276Gln             | 0,6                     | \n",
       "| JFDMDMML_1              | 540043                  | CTT                     | CT                      | del                     | downstream_gene_variant | MODIFIER                | exbB_1                  | JFDMDMML_00506          | c.*4852delT             | NA                      | 0,3                     | \n",
       "| JFDMDMML_3              |     98                  | T                       | C                       | snp                     | upstream_gene_variant   | MODIFIER                | metN_2                  | JFDMDMML_00998          | c.-933T>C               | NA                      | 0,6                     | \n",
       "\n",
       "\n"
      ],
      "text/plain": [
       "  CHROM      POS    REF ALT TYPE ANN[0].EFFECT           ANN[0].IMPACT\n",
       "1 JFDMDMML_1 102233 A   G   snp  synonymous_variant      LOW          \n",
       "2 JFDMDMML_1 102275 C   T   snp  synonymous_variant      LOW          \n",
       "3 JFDMDMML_1 102281 G   C   snp  synonymous_variant      LOW          \n",
       "4 JFDMDMML_1 102302 G   A   snp  synonymous_variant      LOW          \n",
       "5 JFDMDMML_1 540043 CTT CT  del  downstream_gene_variant MODIFIER     \n",
       "6 JFDMDMML_3     98 T   C   snp  upstream_gene_variant   MODIFIER     \n",
       "  ANN[0].GENE ANN[0].GENEID  ANN[0].HGVS_C ANN[0].HGVS_P GEN[*].AD\n",
       "1 hag_2       JFDMDMML_00111 c.759A>G      p.Leu253Leu   0,4      \n",
       "2 hag_2       JFDMDMML_00111 c.801C>T      p.Ser267Ser   0,7      \n",
       "3 hag_2       JFDMDMML_00111 c.807G>C      p.Thr269Thr   0,7      \n",
       "4 hag_2       JFDMDMML_00111 c.828G>A      p.Gln276Gln   0,6      \n",
       "5 exbB_1      JFDMDMML_00506 c.*4852delT   NA            0,3      \n",
       "6 metN_2      JFDMDMML_00998 c.-933T>C     NA            0,6      "
      ]
     },
     "metadata": {},
     "output_type": "display_data"
    }
   ],
   "source": [
    "# Read in variant data (SNPs, MNPs and indels)\n",
    "\n",
    "files = list.files(\"../../../data/deep_seq/downsampled_variant_data/\", full.names = T)\n",
    "filenames = gsub(\".txt\", \"\", basename(files))\n",
    "variant_list = lapply(files, read.table,header = T, check.names = F)\n",
    "names(variant_list) = filenames\n",
    "head(variant_list[[1]])"
   ]
  },
  {
   "cell_type": "code",
   "execution_count": 3,
   "metadata": {},
   "outputs": [
    {
     "data": {
      "text/html": [
       "<table>\n",
       "<thead><tr><th scope=col>CHROM</th><th scope=col>POS</th><th scope=col>REF</th><th scope=col>ALT</th><th scope=col>TYPE</th><th scope=col>EFFECT</th><th scope=col>IMPACT</th><th scope=col>GENE</th><th scope=col>GENEID</th><th scope=col>HGVS_C</th><th scope=col>HGVS_P</th><th scope=col>T12_AB0_I0_REP1</th></tr></thead>\n",
       "<tbody>\n",
       "\t<tr><td>JFDMDMML_1                                                     </td><td>102233                                                         </td><td><span style=white-space:pre-wrap>A  </span>                    </td><td>G                                                              </td><td>snp                                                            </td><td><span style=white-space:pre-wrap>synonymous_variant     </span></td><td><span style=white-space:pre-wrap>LOW     </span>               </td><td>hag_2                                                          </td><td>JFDMDMML_00111                                                 </td><td><span style=white-space:pre-wrap>c.759A&gt;G   </span>         </td><td>p.Leu253Leu                                                    </td><td>0,4                                                            </td></tr>\n",
       "\t<tr><td>JFDMDMML_1                                                     </td><td>102275                                                         </td><td><span style=white-space:pre-wrap>C  </span>                    </td><td>T                                                              </td><td>snp                                                            </td><td><span style=white-space:pre-wrap>synonymous_variant     </span></td><td><span style=white-space:pre-wrap>LOW     </span>               </td><td>hag_2                                                          </td><td>JFDMDMML_00111                                                 </td><td><span style=white-space:pre-wrap>c.801C&gt;T   </span>         </td><td>p.Ser267Ser                                                    </td><td>0,7                                                            </td></tr>\n",
       "\t<tr><td>JFDMDMML_1                                                     </td><td>102281                                                         </td><td><span style=white-space:pre-wrap>G  </span>                    </td><td>C                                                              </td><td>snp                                                            </td><td><span style=white-space:pre-wrap>synonymous_variant     </span></td><td><span style=white-space:pre-wrap>LOW     </span>               </td><td>hag_2                                                          </td><td>JFDMDMML_00111                                                 </td><td><span style=white-space:pre-wrap>c.807G&gt;C   </span>         </td><td>p.Thr269Thr                                                    </td><td>0,7                                                            </td></tr>\n",
       "\t<tr><td>JFDMDMML_1                                                     </td><td>102302                                                         </td><td><span style=white-space:pre-wrap>G  </span>                    </td><td>A                                                              </td><td>snp                                                            </td><td><span style=white-space:pre-wrap>synonymous_variant     </span></td><td><span style=white-space:pre-wrap>LOW     </span>               </td><td>hag_2                                                          </td><td>JFDMDMML_00111                                                 </td><td><span style=white-space:pre-wrap>c.828G&gt;A   </span>         </td><td>p.Gln276Gln                                                    </td><td>0,6                                                            </td></tr>\n",
       "\t<tr><td>JFDMDMML_1             </td><td>540043                 </td><td>CTT                    </td><td>CT                     </td><td>del                    </td><td>downstream_gene_variant</td><td>MODIFIER               </td><td>exbB_1                 </td><td>JFDMDMML_00506         </td><td>c.*4852delT            </td><td>NA                     </td><td>0,3                    </td></tr>\n",
       "\t<tr><td>JFDMDMML_3                                                     </td><td><span style=white-space:pre-wrap>    98</span>                 </td><td><span style=white-space:pre-wrap>T  </span>                    </td><td>C                                                              </td><td>snp                                                            </td><td><span style=white-space:pre-wrap>upstream_gene_variant  </span></td><td>MODIFIER                                                       </td><td>metN_2                                                         </td><td>JFDMDMML_00998                                                 </td><td><span style=white-space:pre-wrap>c.-933T&gt;C  </span>         </td><td><span style=white-space:pre-wrap>NA         </span>            </td><td>0,6                                                            </td></tr>\n",
       "</tbody>\n",
       "</table>\n"
      ],
      "text/latex": [
       "\\begin{tabular}{r|llllllllllll}\n",
       " CHROM & POS & REF & ALT & TYPE & EFFECT & IMPACT & GENE & GENEID & HGVS\\_C & HGVS\\_P & T12\\_AB0\\_I0\\_REP1\\\\\n",
       "\\hline\n",
       "\t JFDMDMML\\_1              & 102233                    & A                         & G                         & snp                       & synonymous\\_variant      & LOW                       & hag\\_2                   & JFDMDMML\\_00111          & c.759A>G                  & p.Leu253Leu               & 0,4                      \\\\\n",
       "\t JFDMDMML\\_1              & 102275                    & C                         & T                         & snp                       & synonymous\\_variant      & LOW                       & hag\\_2                   & JFDMDMML\\_00111          & c.801C>T                  & p.Ser267Ser               & 0,7                      \\\\\n",
       "\t JFDMDMML\\_1              & 102281                    & G                         & C                         & snp                       & synonymous\\_variant      & LOW                       & hag\\_2                   & JFDMDMML\\_00111          & c.807G>C                  & p.Thr269Thr               & 0,7                      \\\\\n",
       "\t JFDMDMML\\_1              & 102302                    & G                         & A                         & snp                       & synonymous\\_variant      & LOW                       & hag\\_2                   & JFDMDMML\\_00111          & c.828G>A                  & p.Gln276Gln               & 0,6                      \\\\\n",
       "\t JFDMDMML\\_1                & 540043                      & CTT                         & CT                          & del                         & downstream\\_gene\\_variant & MODIFIER                    & exbB\\_1                    & JFDMDMML\\_00506            & c.*4852delT                 & NA                          & 0,3                        \\\\\n",
       "\t JFDMDMML\\_3                &     98                      & T                           & C                           & snp                         & upstream\\_gene\\_variant   & MODIFIER                    & metN\\_2                    & JFDMDMML\\_00998            & c.-933T>C                   & NA                          & 0,6                        \\\\\n",
       "\\end{tabular}\n"
      ],
      "text/markdown": [
       "\n",
       "CHROM | POS | REF | ALT | TYPE | EFFECT | IMPACT | GENE | GENEID | HGVS_C | HGVS_P | T12_AB0_I0_REP1 | \n",
       "|---|---|---|---|---|---|\n",
       "| JFDMDMML_1              | 102233                  | A                       | G                       | snp                     | synonymous_variant      | LOW                     | hag_2                   | JFDMDMML_00111          | c.759A>G                | p.Leu253Leu             | 0,4                     | \n",
       "| JFDMDMML_1              | 102275                  | C                       | T                       | snp                     | synonymous_variant      | LOW                     | hag_2                   | JFDMDMML_00111          | c.801C>T                | p.Ser267Ser             | 0,7                     | \n",
       "| JFDMDMML_1              | 102281                  | G                       | C                       | snp                     | synonymous_variant      | LOW                     | hag_2                   | JFDMDMML_00111          | c.807G>C                | p.Thr269Thr             | 0,7                     | \n",
       "| JFDMDMML_1              | 102302                  | G                       | A                       | snp                     | synonymous_variant      | LOW                     | hag_2                   | JFDMDMML_00111          | c.828G>A                | p.Gln276Gln             | 0,6                     | \n",
       "| JFDMDMML_1              | 540043                  | CTT                     | CT                      | del                     | downstream_gene_variant | MODIFIER                | exbB_1                  | JFDMDMML_00506          | c.*4852delT             | NA                      | 0,3                     | \n",
       "| JFDMDMML_3              |     98                  | T                       | C                       | snp                     | upstream_gene_variant   | MODIFIER                | metN_2                  | JFDMDMML_00998          | c.-933T>C               | NA                      | 0,6                     | \n",
       "\n",
       "\n"
      ],
      "text/plain": [
       "  CHROM      POS    REF ALT TYPE EFFECT                  IMPACT   GENE  \n",
       "1 JFDMDMML_1 102233 A   G   snp  synonymous_variant      LOW      hag_2 \n",
       "2 JFDMDMML_1 102275 C   T   snp  synonymous_variant      LOW      hag_2 \n",
       "3 JFDMDMML_1 102281 G   C   snp  synonymous_variant      LOW      hag_2 \n",
       "4 JFDMDMML_1 102302 G   A   snp  synonymous_variant      LOW      hag_2 \n",
       "5 JFDMDMML_1 540043 CTT CT  del  downstream_gene_variant MODIFIER exbB_1\n",
       "6 JFDMDMML_3     98 T   C   snp  upstream_gene_variant   MODIFIER metN_2\n",
       "  GENEID         HGVS_C      HGVS_P      T12_AB0_I0_REP1\n",
       "1 JFDMDMML_00111 c.759A>G    p.Leu253Leu 0,4            \n",
       "2 JFDMDMML_00111 c.801C>T    p.Ser267Ser 0,7            \n",
       "3 JFDMDMML_00111 c.807G>C    p.Thr269Thr 0,7            \n",
       "4 JFDMDMML_00111 c.828G>A    p.Gln276Gln 0,6            \n",
       "5 JFDMDMML_00506 c.*4852delT NA          0,3            \n",
       "6 JFDMDMML_00998 c.-933T>C   NA          0,6            "
      ]
     },
     "metadata": {},
     "output_type": "display_data"
    }
   ],
   "source": [
    "# Rename columns including adding sample id\n",
    "\n",
    "variant_list2 = list()\n",
    "for(i in 1:length(variant_list)){\n",
    "  a = variant_list[[i]]\n",
    "  colnames(a) = c(\"CHROM\", \"POS\", \"REF\", \"ALT\", \"TYPE\", \"EFFECT\", \"IMPACT\", \"GENE\", \"GENEID\", \"HGVS_C\", \"HGVS_P\", names(variant_list[i]))  \n",
    "  variant_list2[[i]] = a\n",
    "}\n",
    "names(variant_list2)=filenames\n",
    "\n",
    "head(variant_list2[[1]])"
   ]
  },
  {
   "cell_type": "code",
   "execution_count": 4,
   "metadata": {},
   "outputs": [
    {
     "data": {
      "text/html": [
       "<ol class=list-inline>\n",
       "\t<li>269</li>\n",
       "\t<li>12</li>\n",
       "</ol>\n"
      ],
      "text/latex": [
       "\\begin{enumerate*}\n",
       "\\item 269\n",
       "\\item 12\n",
       "\\end{enumerate*}\n"
      ],
      "text/markdown": [
       "1. 269\n",
       "2. 12\n",
       "\n",
       "\n"
      ],
      "text/plain": [
       "[1] 269  12"
      ]
     },
     "metadata": {},
     "output_type": "display_data"
    },
    {
     "data": {
      "text/html": [
       "<table>\n",
       "<thead><tr><th scope=col>CHROM</th><th scope=col>POS</th><th scope=col>REF</th><th scope=col>ALT</th><th scope=col>TYPE</th><th scope=col>EFFECT</th><th scope=col>IMPACT</th><th scope=col>GENE</th><th scope=col>GENEID</th><th scope=col>HGVS_C</th><th scope=col>HGVS_P</th><th scope=col>T12_AB0_I0_REP1</th></tr></thead>\n",
       "<tbody>\n",
       "\t<tr><td>JFDMDMML_1                                                     </td><td>102233                                                         </td><td><span style=white-space:pre-wrap>A  </span>                    </td><td>G                                                              </td><td>snp                                                            </td><td><span style=white-space:pre-wrap>synonymous_variant     </span></td><td><span style=white-space:pre-wrap>LOW     </span>               </td><td>hag_2                                                          </td><td>JFDMDMML_00111                                                 </td><td><span style=white-space:pre-wrap>c.759A&gt;G   </span>         </td><td>p.Leu253Leu                                                    </td><td>1                                                              </td></tr>\n",
       "\t<tr><td>JFDMDMML_1                                                     </td><td>102275                                                         </td><td><span style=white-space:pre-wrap>C  </span>                    </td><td>T                                                              </td><td>snp                                                            </td><td><span style=white-space:pre-wrap>synonymous_variant     </span></td><td><span style=white-space:pre-wrap>LOW     </span>               </td><td>hag_2                                                          </td><td>JFDMDMML_00111                                                 </td><td><span style=white-space:pre-wrap>c.801C&gt;T   </span>         </td><td>p.Ser267Ser                                                    </td><td>1                                                              </td></tr>\n",
       "\t<tr><td>JFDMDMML_1                                                     </td><td>102281                                                         </td><td><span style=white-space:pre-wrap>G  </span>                    </td><td>C                                                              </td><td>snp                                                            </td><td><span style=white-space:pre-wrap>synonymous_variant     </span></td><td><span style=white-space:pre-wrap>LOW     </span>               </td><td>hag_2                                                          </td><td>JFDMDMML_00111                                                 </td><td><span style=white-space:pre-wrap>c.807G&gt;C   </span>         </td><td>p.Thr269Thr                                                    </td><td>1                                                              </td></tr>\n",
       "\t<tr><td>JFDMDMML_1                                                     </td><td>102302                                                         </td><td><span style=white-space:pre-wrap>G  </span>                    </td><td>A                                                              </td><td>snp                                                            </td><td><span style=white-space:pre-wrap>synonymous_variant     </span></td><td><span style=white-space:pre-wrap>LOW     </span>               </td><td>hag_2                                                          </td><td>JFDMDMML_00111                                                 </td><td><span style=white-space:pre-wrap>c.828G&gt;A   </span>         </td><td>p.Gln276Gln                                                    </td><td>1                                                              </td></tr>\n",
       "\t<tr><td>JFDMDMML_1             </td><td>540043                 </td><td>CTT                    </td><td>CT                     </td><td>del                    </td><td>downstream_gene_variant</td><td>MODIFIER               </td><td>exbB_1                 </td><td>JFDMDMML_00506         </td><td>c.*4852delT            </td><td>NA                     </td><td>1                      </td></tr>\n",
       "\t<tr><td>JFDMDMML_3                                                     </td><td><span style=white-space:pre-wrap>    98</span>                 </td><td><span style=white-space:pre-wrap>T  </span>                    </td><td>C                                                              </td><td>snp                                                            </td><td><span style=white-space:pre-wrap>upstream_gene_variant  </span></td><td>MODIFIER                                                       </td><td>metN_2                                                         </td><td>JFDMDMML_00998                                                 </td><td><span style=white-space:pre-wrap>c.-933T&gt;C  </span>         </td><td><span style=white-space:pre-wrap>NA         </span>            </td><td>1                                                              </td></tr>\n",
       "</tbody>\n",
       "</table>\n"
      ],
      "text/latex": [
       "\\begin{tabular}{r|llllllllllll}\n",
       " CHROM & POS & REF & ALT & TYPE & EFFECT & IMPACT & GENE & GENEID & HGVS\\_C & HGVS\\_P & T12\\_AB0\\_I0\\_REP1\\\\\n",
       "\\hline\n",
       "\t JFDMDMML\\_1              & 102233                    & A                         & G                         & snp                       & synonymous\\_variant      & LOW                       & hag\\_2                   & JFDMDMML\\_00111          & c.759A>G                  & p.Leu253Leu               & 1                        \\\\\n",
       "\t JFDMDMML\\_1              & 102275                    & C                         & T                         & snp                       & synonymous\\_variant      & LOW                       & hag\\_2                   & JFDMDMML\\_00111          & c.801C>T                  & p.Ser267Ser               & 1                        \\\\\n",
       "\t JFDMDMML\\_1              & 102281                    & G                         & C                         & snp                       & synonymous\\_variant      & LOW                       & hag\\_2                   & JFDMDMML\\_00111          & c.807G>C                  & p.Thr269Thr               & 1                        \\\\\n",
       "\t JFDMDMML\\_1              & 102302                    & G                         & A                         & snp                       & synonymous\\_variant      & LOW                       & hag\\_2                   & JFDMDMML\\_00111          & c.828G>A                  & p.Gln276Gln               & 1                        \\\\\n",
       "\t JFDMDMML\\_1                & 540043                      & CTT                         & CT                          & del                         & downstream\\_gene\\_variant & MODIFIER                    & exbB\\_1                    & JFDMDMML\\_00506            & c.*4852delT                 & NA                          & 1                          \\\\\n",
       "\t JFDMDMML\\_3                &     98                      & T                           & C                           & snp                         & upstream\\_gene\\_variant   & MODIFIER                    & metN\\_2                    & JFDMDMML\\_00998            & c.-933T>C                   & NA                          & 1                          \\\\\n",
       "\\end{tabular}\n"
      ],
      "text/markdown": [
       "\n",
       "CHROM | POS | REF | ALT | TYPE | EFFECT | IMPACT | GENE | GENEID | HGVS_C | HGVS_P | T12_AB0_I0_REP1 | \n",
       "|---|---|---|---|---|---|\n",
       "| JFDMDMML_1              | 102233                  | A                       | G                       | snp                     | synonymous_variant      | LOW                     | hag_2                   | JFDMDMML_00111          | c.759A>G                | p.Leu253Leu             | 1                       | \n",
       "| JFDMDMML_1              | 102275                  | C                       | T                       | snp                     | synonymous_variant      | LOW                     | hag_2                   | JFDMDMML_00111          | c.801C>T                | p.Ser267Ser             | 1                       | \n",
       "| JFDMDMML_1              | 102281                  | G                       | C                       | snp                     | synonymous_variant      | LOW                     | hag_2                   | JFDMDMML_00111          | c.807G>C                | p.Thr269Thr             | 1                       | \n",
       "| JFDMDMML_1              | 102302                  | G                       | A                       | snp                     | synonymous_variant      | LOW                     | hag_2                   | JFDMDMML_00111          | c.828G>A                | p.Gln276Gln             | 1                       | \n",
       "| JFDMDMML_1              | 540043                  | CTT                     | CT                      | del                     | downstream_gene_variant | MODIFIER                | exbB_1                  | JFDMDMML_00506          | c.*4852delT             | NA                      | 1                       | \n",
       "| JFDMDMML_3              |     98                  | T                       | C                       | snp                     | upstream_gene_variant   | MODIFIER                | metN_2                  | JFDMDMML_00998          | c.-933T>C               | NA                      | 1                       | \n",
       "\n",
       "\n"
      ],
      "text/plain": [
       "  CHROM      POS    REF ALT TYPE EFFECT                  IMPACT   GENE  \n",
       "1 JFDMDMML_1 102233 A   G   snp  synonymous_variant      LOW      hag_2 \n",
       "2 JFDMDMML_1 102275 C   T   snp  synonymous_variant      LOW      hag_2 \n",
       "3 JFDMDMML_1 102281 G   C   snp  synonymous_variant      LOW      hag_2 \n",
       "4 JFDMDMML_1 102302 G   A   snp  synonymous_variant      LOW      hag_2 \n",
       "5 JFDMDMML_1 540043 CTT CT  del  downstream_gene_variant MODIFIER exbB_1\n",
       "6 JFDMDMML_3     98 T   C   snp  upstream_gene_variant   MODIFIER metN_2\n",
       "  GENEID         HGVS_C      HGVS_P      T12_AB0_I0_REP1\n",
       "1 JFDMDMML_00111 c.759A>G    p.Leu253Leu 1              \n",
       "2 JFDMDMML_00111 c.801C>T    p.Ser267Ser 1              \n",
       "3 JFDMDMML_00111 c.807G>C    p.Thr269Thr 1              \n",
       "4 JFDMDMML_00111 c.828G>A    p.Gln276Gln 1              \n",
       "5 JFDMDMML_00506 c.*4852delT NA          1              \n",
       "6 JFDMDMML_00998 c.-933T>C   NA          1              "
      ]
     },
     "metadata": {},
     "output_type": "display_data"
    }
   ],
   "source": [
    "# Convert read count data to proportions and modify column names\n",
    "\n",
    "options(warn = -1) # inactivate warnings to avoid NA alerts\n",
    "\n",
    "dim(variant_list2[[1]])\n",
    "variant_list3 = list()\n",
    "for(i in 1:length(variant_list2)){\n",
    "    a = variant_list2[[i]]\n",
    "    c = vector(mode = \"numeric\", length = length(a[, 12]))\n",
    "    for(j in 1:nrow(a)){\n",
    "      b = as.character(a[j, 12])\n",
    "      b = as.numeric(unlist(strsplit(b, \",\", fixed = T)))\n",
    "      b = ifelse(is.na(b) == T, NA, b[2] / sum(b))\n",
    "      c[j] = b\n",
    "      }\n",
    "    a[, 12] = c\n",
    "    a[, 12] = as.numeric(a[, 12])\n",
    "    variant_list3[[i]] = a\n",
    "}\n",
    "\n",
    "options(warn = 0) # reactivate warnings\n",
    "\n",
    "head(variant_list3[[1]])"
   ]
  },
  {
   "cell_type": "code",
   "execution_count": 5,
   "metadata": {},
   "outputs": [
    {
     "data": {
      "text/html": [
       "<table>\n",
       "<thead><tr><th scope=col>CHROM</th><th scope=col>POS</th><th scope=col>REF</th><th scope=col>ALT</th><th scope=col>TYPE</th><th scope=col>EFFECT</th><th scope=col>IMPACT</th><th scope=col>GENE</th><th scope=col>GENEID</th><th scope=col>HGVS_C</th><th scope=col>HGVS_P</th><th scope=col>T12_AB0_I0_REP1</th></tr></thead>\n",
       "<tbody>\n",
       "\t<tr><td>JFDMDMML_1                                                     </td><td>102233                                                         </td><td><span style=white-space:pre-wrap>A  </span>                    </td><td>G                                                              </td><td>snp                                                            </td><td><span style=white-space:pre-wrap>synonymous_variant     </span></td><td><span style=white-space:pre-wrap>LOW     </span>               </td><td>hag_2                                                          </td><td>JFDMDMML_00111                                                 </td><td><span style=white-space:pre-wrap>c.759A&gt;G   </span>         </td><td>p.Leu253Leu                                                    </td><td>4                                                              </td></tr>\n",
       "\t<tr><td>JFDMDMML_1                                                     </td><td>102275                                                         </td><td><span style=white-space:pre-wrap>C  </span>                    </td><td>T                                                              </td><td>snp                                                            </td><td><span style=white-space:pre-wrap>synonymous_variant     </span></td><td><span style=white-space:pre-wrap>LOW     </span>               </td><td>hag_2                                                          </td><td>JFDMDMML_00111                                                 </td><td><span style=white-space:pre-wrap>c.801C&gt;T   </span>         </td><td>p.Ser267Ser                                                    </td><td>7                                                              </td></tr>\n",
       "\t<tr><td>JFDMDMML_1                                                     </td><td>102281                                                         </td><td><span style=white-space:pre-wrap>G  </span>                    </td><td>C                                                              </td><td>snp                                                            </td><td><span style=white-space:pre-wrap>synonymous_variant     </span></td><td><span style=white-space:pre-wrap>LOW     </span>               </td><td>hag_2                                                          </td><td>JFDMDMML_00111                                                 </td><td><span style=white-space:pre-wrap>c.807G&gt;C   </span>         </td><td>p.Thr269Thr                                                    </td><td>7                                                              </td></tr>\n",
       "\t<tr><td>JFDMDMML_1                                                     </td><td>102302                                                         </td><td><span style=white-space:pre-wrap>G  </span>                    </td><td>A                                                              </td><td>snp                                                            </td><td><span style=white-space:pre-wrap>synonymous_variant     </span></td><td><span style=white-space:pre-wrap>LOW     </span>               </td><td>hag_2                                                          </td><td>JFDMDMML_00111                                                 </td><td><span style=white-space:pre-wrap>c.828G&gt;A   </span>         </td><td>p.Gln276Gln                                                    </td><td>6                                                              </td></tr>\n",
       "\t<tr><td>JFDMDMML_1             </td><td>540043                 </td><td>CTT                    </td><td>CT                     </td><td>del                    </td><td>downstream_gene_variant</td><td>MODIFIER               </td><td>exbB_1                 </td><td>JFDMDMML_00506         </td><td>c.*4852delT            </td><td>NA                     </td><td>3                      </td></tr>\n",
       "\t<tr><td>JFDMDMML_3                                                     </td><td><span style=white-space:pre-wrap>    98</span>                 </td><td><span style=white-space:pre-wrap>T  </span>                    </td><td>C                                                              </td><td>snp                                                            </td><td><span style=white-space:pre-wrap>upstream_gene_variant  </span></td><td>MODIFIER                                                       </td><td>metN_2                                                         </td><td>JFDMDMML_00998                                                 </td><td><span style=white-space:pre-wrap>c.-933T&gt;C  </span>         </td><td><span style=white-space:pre-wrap>NA         </span>            </td><td>6                                                              </td></tr>\n",
       "</tbody>\n",
       "</table>\n"
      ],
      "text/latex": [
       "\\begin{tabular}{r|llllllllllll}\n",
       " CHROM & POS & REF & ALT & TYPE & EFFECT & IMPACT & GENE & GENEID & HGVS\\_C & HGVS\\_P & T12\\_AB0\\_I0\\_REP1\\\\\n",
       "\\hline\n",
       "\t JFDMDMML\\_1              & 102233                    & A                         & G                         & snp                       & synonymous\\_variant      & LOW                       & hag\\_2                   & JFDMDMML\\_00111          & c.759A>G                  & p.Leu253Leu               & 4                        \\\\\n",
       "\t JFDMDMML\\_1              & 102275                    & C                         & T                         & snp                       & synonymous\\_variant      & LOW                       & hag\\_2                   & JFDMDMML\\_00111          & c.801C>T                  & p.Ser267Ser               & 7                        \\\\\n",
       "\t JFDMDMML\\_1              & 102281                    & G                         & C                         & snp                       & synonymous\\_variant      & LOW                       & hag\\_2                   & JFDMDMML\\_00111          & c.807G>C                  & p.Thr269Thr               & 7                        \\\\\n",
       "\t JFDMDMML\\_1              & 102302                    & G                         & A                         & snp                       & synonymous\\_variant      & LOW                       & hag\\_2                   & JFDMDMML\\_00111          & c.828G>A                  & p.Gln276Gln               & 6                        \\\\\n",
       "\t JFDMDMML\\_1                & 540043                      & CTT                         & CT                          & del                         & downstream\\_gene\\_variant & MODIFIER                    & exbB\\_1                    & JFDMDMML\\_00506            & c.*4852delT                 & NA                          & 3                          \\\\\n",
       "\t JFDMDMML\\_3                &     98                      & T                           & C                           & snp                         & upstream\\_gene\\_variant   & MODIFIER                    & metN\\_2                    & JFDMDMML\\_00998            & c.-933T>C                   & NA                          & 6                          \\\\\n",
       "\\end{tabular}\n"
      ],
      "text/markdown": [
       "\n",
       "CHROM | POS | REF | ALT | TYPE | EFFECT | IMPACT | GENE | GENEID | HGVS_C | HGVS_P | T12_AB0_I0_REP1 | \n",
       "|---|---|---|---|---|---|\n",
       "| JFDMDMML_1              | 102233                  | A                       | G                       | snp                     | synonymous_variant      | LOW                     | hag_2                   | JFDMDMML_00111          | c.759A>G                | p.Leu253Leu             | 4                       | \n",
       "| JFDMDMML_1              | 102275                  | C                       | T                       | snp                     | synonymous_variant      | LOW                     | hag_2                   | JFDMDMML_00111          | c.801C>T                | p.Ser267Ser             | 7                       | \n",
       "| JFDMDMML_1              | 102281                  | G                       | C                       | snp                     | synonymous_variant      | LOW                     | hag_2                   | JFDMDMML_00111          | c.807G>C                | p.Thr269Thr             | 7                       | \n",
       "| JFDMDMML_1              | 102302                  | G                       | A                       | snp                     | synonymous_variant      | LOW                     | hag_2                   | JFDMDMML_00111          | c.828G>A                | p.Gln276Gln             | 6                       | \n",
       "| JFDMDMML_1              | 540043                  | CTT                     | CT                      | del                     | downstream_gene_variant | MODIFIER                | exbB_1                  | JFDMDMML_00506          | c.*4852delT             | NA                      | 3                       | \n",
       "| JFDMDMML_3              |     98                  | T                       | C                       | snp                     | upstream_gene_variant   | MODIFIER                | metN_2                  | JFDMDMML_00998          | c.-933T>C               | NA                      | 6                       | \n",
       "\n",
       "\n"
      ],
      "text/plain": [
       "  CHROM      POS    REF ALT TYPE EFFECT                  IMPACT   GENE  \n",
       "1 JFDMDMML_1 102233 A   G   snp  synonymous_variant      LOW      hag_2 \n",
       "2 JFDMDMML_1 102275 C   T   snp  synonymous_variant      LOW      hag_2 \n",
       "3 JFDMDMML_1 102281 G   C   snp  synonymous_variant      LOW      hag_2 \n",
       "4 JFDMDMML_1 102302 G   A   snp  synonymous_variant      LOW      hag_2 \n",
       "5 JFDMDMML_1 540043 CTT CT  del  downstream_gene_variant MODIFIER exbB_1\n",
       "6 JFDMDMML_3     98 T   C   snp  upstream_gene_variant   MODIFIER metN_2\n",
       "  GENEID         HGVS_C      HGVS_P      T12_AB0_I0_REP1\n",
       "1 JFDMDMML_00111 c.759A>G    p.Leu253Leu 4              \n",
       "2 JFDMDMML_00111 c.801C>T    p.Ser267Ser 7              \n",
       "3 JFDMDMML_00111 c.807G>C    p.Thr269Thr 7              \n",
       "4 JFDMDMML_00111 c.828G>A    p.Gln276Gln 6              \n",
       "5 JFDMDMML_00506 c.*4852delT NA          3              \n",
       "6 JFDMDMML_00998 c.-933T>C   NA          6              "
      ]
     },
     "metadata": {},
     "output_type": "display_data"
    }
   ],
   "source": [
    "# Convert read count data to total read depth and modify column names\n",
    "\n",
    "options(warn = -1) # inactivate warnings to avoid NA alerts\n",
    "\n",
    "depth_list = list()\n",
    "for(i in 1:length(variant_list2)){\n",
    "    a = variant_list2[[i]]\n",
    "    c = vector(mode = \"numeric\", length = length(a[, 12]))\n",
    "    for(j in 1:nrow(a)){\n",
    "      b = as.character(a[j, 12])\n",
    "      b = as.numeric(unlist(strsplit(b, \",\", fixed = T)))\n",
    "      b = ifelse(is.na(b) == T, NA, sum(b))\n",
    "      c[j] = b\n",
    "    }\n",
    "    a[, 12] = c\n",
    "    a[, 12] = as.numeric(a[, 12])\n",
    "  depth_list[[i]] = a\n",
    "}\n",
    "\n",
    "options(warn = 0) # reactivate warnings\n",
    "\n",
    "head(depth_list[[1]])"
   ]
  },
  {
   "cell_type": "code",
   "execution_count": 6,
   "metadata": {},
   "outputs": [
    {
     "data": {
      "text/html": [
       "<table>\n",
       "<thead><tr><th scope=col>CHROM</th><th scope=col>POS</th><th scope=col>REF</th><th scope=col>ALT</th><th scope=col>TYPE</th><th scope=col>EFFECT</th><th scope=col>IMPACT</th><th scope=col>GENE</th><th scope=col>GENEID</th><th scope=col>HGVS_C</th><th scope=col>⋯</th><th scope=col>T8_AB16_I0_REP3</th><th scope=col>T8_AB16_I1_REP1</th><th scope=col>T8_AB16_I1_REP2</th><th scope=col>T8_AB16_I1_REP3</th><th scope=col>T8_AB4_I0_REP1</th><th scope=col>T8_AB4_I0_REP2</th><th scope=col>T8_AB4_I0_REP3</th><th scope=col>T8_AB4_I1_REP1</th><th scope=col>T8_AB4_I1_REP2</th><th scope=col>T8_AB4_I1_REP3</th></tr></thead>\n",
       "<tbody>\n",
       "\t<tr><td>ABNHBPOL_1                                                                           </td><td> 28988                                                                               </td><td><span style=white-space:pre-wrap>C           </span>                                 </td><td><span style=white-space:pre-wrap>A                </span>                            </td><td><span style=white-space:pre-wrap>snp    </span>                                      </td><td><span style=white-space:pre-wrap>missense_variant                   </span>          </td><td>MODERATE                                                                             </td><td><span style=white-space:pre-wrap>carB          </span>                               </td><td>ABNHBPOL_00028                                                                       </td><td><span style=white-space:pre-wrap>c.1113C&gt;A                                 </span></td><td>⋯                                                                                    </td><td>NA                                                                                   </td><td><span style=white-space:pre-wrap>       NA</span>                                    </td><td>NA                                                                                   </td><td>NA                                                                                   </td><td>0.6666667                                                                            </td><td><span style=white-space:pre-wrap>       NA</span>                                    </td><td><span style=white-space:pre-wrap>       NA</span>                                    </td><td><span style=white-space:pre-wrap>       NA</span>                                    </td><td><span style=white-space:pre-wrap>       NA</span>                                    </td><td><span style=white-space:pre-wrap>   NA</span>                                        </td></tr>\n",
       "\t<tr><td>ABNHBPOL_1                                                                           </td><td> 59337                                                                               </td><td><span style=white-space:pre-wrap>A           </span>                                 </td><td><span style=white-space:pre-wrap>G                </span>                            </td><td><span style=white-space:pre-wrap>snp    </span>                                      </td><td><span style=white-space:pre-wrap>missense_variant                   </span>          </td><td>MODERATE                                                                             </td><td><span style=white-space:pre-wrap>bepC          </span>                               </td><td>ABNHBPOL_00049                                                                       </td><td><span style=white-space:pre-wrap>c.1199A&gt;G                                 </span></td><td>⋯                                                                                    </td><td>NA                                                                                   </td><td><span style=white-space:pre-wrap>       NA</span>                                    </td><td>NA                                                                                   </td><td>NA                                                                                   </td><td><span style=white-space:pre-wrap>       NA</span>                                    </td><td><span style=white-space:pre-wrap>       NA</span>                                    </td><td><span style=white-space:pre-wrap>       NA</span>                                    </td><td><span style=white-space:pre-wrap>       NA</span>                                    </td><td>0.6666667                                                                            </td><td><span style=white-space:pre-wrap>   NA</span>                                        </td></tr>\n",
       "\t<tr><td>ABNHBPOL_1                                                                           </td><td> 64476                                                                               </td><td><span style=white-space:pre-wrap>A           </span>                                 </td><td><span style=white-space:pre-wrap>G                </span>                            </td><td><span style=white-space:pre-wrap>snp    </span>                                      </td><td><span style=white-space:pre-wrap>synonymous_variant                 </span>          </td><td><span style=white-space:pre-wrap>LOW     </span>                                     </td><td><span style=white-space:pre-wrap>cya           </span>                               </td><td>ABNHBPOL_00052                                                                       </td><td><span style=white-space:pre-wrap>c.444A&gt;G                                  </span></td><td>⋯                                                                                    </td><td>NA                                                                                   </td><td><span style=white-space:pre-wrap>       NA</span>                                    </td><td>NA                                                                                   </td><td>NA                                                                                   </td><td><span style=white-space:pre-wrap>       NA</span>                                    </td><td>0.5681818                                                                            </td><td><span style=white-space:pre-wrap>       NA</span>                                    </td><td><span style=white-space:pre-wrap>       NA</span>                                    </td><td><span style=white-space:pre-wrap>       NA</span>                                    </td><td><span style=white-space:pre-wrap>   NA</span>                                        </td></tr>\n",
       "\t<tr><td>ABNHBPOL_1                                                                           </td><td> 64821                                                                               </td><td><span style=white-space:pre-wrap>C           </span>                                 </td><td><span style=white-space:pre-wrap>T                </span>                            </td><td><span style=white-space:pre-wrap>snp    </span>                                      </td><td><span style=white-space:pre-wrap>synonymous_variant                 </span>          </td><td><span style=white-space:pre-wrap>LOW     </span>                                     </td><td><span style=white-space:pre-wrap>cya           </span>                               </td><td>ABNHBPOL_00052                                                                       </td><td><span style=white-space:pre-wrap>c.789C&gt;T                                  </span></td><td>⋯                                                                                    </td><td>NA                                                                                   </td><td>0.8181818                                                                            </td><td>NA                                                                                   </td><td>NA                                                                                   </td><td>0.6875000                                                                            </td><td>0.7500000                                                                            </td><td>0.9375000                                                                            </td><td>0.8421053                                                                            </td><td>1.0000000                                                                            </td><td>0.875                                                                                </td></tr>\n",
       "\t<tr><td>ABNHBPOL_1                                            </td><td> 64871                                                </td><td>CCAACGATGATG                                          </td><td>CGGTGAGCGACGTCAAC                                     </td><td>complex                                               </td><td>frameshift_variant&amp;missense_variant               </td><td><span style=white-space:pre-wrap>HIGH    </span>      </td><td><span style=white-space:pre-wrap>cya           </span></td><td>ABNHBPOL_00052                                        </td><td>c.840_850delCAACGATGATGinsGGTGAGCGACGTCAAC            </td><td>⋯                                                     </td><td>NA                                                    </td><td><span style=white-space:pre-wrap>       NA</span>     </td><td>NA                                                    </td><td>NA                                                    </td><td><span style=white-space:pre-wrap>       NA</span>     </td><td><span style=white-space:pre-wrap>       NA</span>     </td><td>0.8333333                                             </td><td><span style=white-space:pre-wrap>       NA</span>     </td><td><span style=white-space:pre-wrap>       NA</span>     </td><td><span style=white-space:pre-wrap>   NA</span>         </td></tr>\n",
       "\t<tr><td>ABNHBPOL_1                                                                           </td><td>130054                                                                               </td><td><span style=white-space:pre-wrap>G           </span>                                 </td><td><span style=white-space:pre-wrap>T                </span>                            </td><td><span style=white-space:pre-wrap>snp    </span>                                      </td><td><span style=white-space:pre-wrap>missense_variant                   </span>          </td><td>MODERATE                                                                             </td><td>ABNHBPOL_00101                                                                       </td><td>ABNHBPOL_00101                                                                       </td><td><span style=white-space:pre-wrap>c.653C&gt;A                                  </span></td><td>⋯                                                                                    </td><td>NA                                                                                   </td><td><span style=white-space:pre-wrap>       NA</span>                                    </td><td>NA                                                                                   </td><td>NA                                                                                   </td><td><span style=white-space:pre-wrap>       NA</span>                                    </td><td><span style=white-space:pre-wrap>       NA</span>                                    </td><td><span style=white-space:pre-wrap>       NA</span>                                    </td><td><span style=white-space:pre-wrap>       NA</span>                                    </td><td><span style=white-space:pre-wrap>       NA</span>                                    </td><td><span style=white-space:pre-wrap>   NA</span>                                        </td></tr>\n",
       "</tbody>\n",
       "</table>\n"
      ],
      "text/latex": [
       "\\begin{tabular}{r|lllllllllllllllllllllllllllllllllllllllllllllllllllllllllll}\n",
       " CHROM & POS & REF & ALT & TYPE & EFFECT & IMPACT & GENE & GENEID & HGVS\\_C & ⋯ & T8\\_AB16\\_I0\\_REP3 & T8\\_AB16\\_I1\\_REP1 & T8\\_AB16\\_I1\\_REP2 & T8\\_AB16\\_I1\\_REP3 & T8\\_AB4\\_I0\\_REP1 & T8\\_AB4\\_I0\\_REP2 & T8\\_AB4\\_I0\\_REP3 & T8\\_AB4\\_I1\\_REP1 & T8\\_AB4\\_I1\\_REP2 & T8\\_AB4\\_I1\\_REP3\\\\\n",
       "\\hline\n",
       "\t ABNHBPOL\\_1                               &  28988                                     & C                                          & A                                          & snp                                        & missense\\_variant                         & MODERATE                                   & carB                                       & ABNHBPOL\\_00028                           & c.1113C>A                                  & ⋯                                          & NA                                         &        NA                                  & NA                                         & NA                                         & 0.6666667                                  &        NA                                  &        NA                                  &        NA                                  &        NA                                  &    NA                                     \\\\\n",
       "\t ABNHBPOL\\_1                               &  59337                                     & A                                          & G                                          & snp                                        & missense\\_variant                         & MODERATE                                   & bepC                                       & ABNHBPOL\\_00049                           & c.1199A>G                                  & ⋯                                          & NA                                         &        NA                                  & NA                                         & NA                                         &        NA                                  &        NA                                  &        NA                                  &        NA                                  & 0.6666667                                  &    NA                                     \\\\\n",
       "\t ABNHBPOL\\_1                               &  64476                                     & A                                          & G                                          & snp                                        & synonymous\\_variant                       & LOW                                        & cya                                        & ABNHBPOL\\_00052                           & c.444A>G                                   & ⋯                                          & NA                                         &        NA                                  & NA                                         & NA                                         &        NA                                  & 0.5681818                                  &        NA                                  &        NA                                  &        NA                                  &    NA                                     \\\\\n",
       "\t ABNHBPOL\\_1                               &  64821                                     & C                                          & T                                          & snp                                        & synonymous\\_variant                       & LOW                                        & cya                                        & ABNHBPOL\\_00052                           & c.789C>T                                   & ⋯                                          & NA                                         & 0.8181818                                  & NA                                         & NA                                         & 0.6875000                                  & 0.7500000                                  & 0.9375000                                  & 0.8421053                                  & 1.0000000                                  & 0.875                                     \\\\\n",
       "\t ABNHBPOL\\_1                                 &  64871                                       & CCAACGATGATG                                 & CGGTGAGCGACGTCAAC                            & complex                                      & frameshift\\_variant\\&missense\\_variant    & HIGH                                         & cya                                          & ABNHBPOL\\_00052                             & c.840\\_850delCAACGATGATGinsGGTGAGCGACGTCAAC & ⋯                                            & NA                                           &        NA                                    & NA                                           & NA                                           &        NA                                    &        NA                                    & 0.8333333                                    &        NA                                    &        NA                                    &    NA                                       \\\\\n",
       "\t ABNHBPOL\\_1                               & 130054                                     & G                                          & T                                          & snp                                        & missense\\_variant                         & MODERATE                                   & ABNHBPOL\\_00101                           & ABNHBPOL\\_00101                           & c.653C>A                                   & ⋯                                          & NA                                         &        NA                                  & NA                                         & NA                                         &        NA                                  &        NA                                  &        NA                                  &        NA                                  &        NA                                  &    NA                                     \\\\\n",
       "\\end{tabular}\n"
      ],
      "text/markdown": [
       "\n",
       "CHROM | POS | REF | ALT | TYPE | EFFECT | IMPACT | GENE | GENEID | HGVS_C | ⋯ | T8_AB16_I0_REP3 | T8_AB16_I1_REP1 | T8_AB16_I1_REP2 | T8_AB16_I1_REP3 | T8_AB4_I0_REP1 | T8_AB4_I0_REP2 | T8_AB4_I0_REP3 | T8_AB4_I1_REP1 | T8_AB4_I1_REP2 | T8_AB4_I1_REP3 | \n",
       "|---|---|---|---|---|---|\n",
       "| ABNHBPOL_1                                 |  28988                                     | C                                          | A                                          | snp                                        | missense_variant                           | MODERATE                                   | carB                                       | ABNHBPOL_00028                             | c.1113C>A                                  | ⋯                                          | NA                                         |        NA                                  | NA                                         | NA                                         | 0.6666667                                  |        NA                                  |        NA                                  |        NA                                  |        NA                                  |    NA                                      | \n",
       "| ABNHBPOL_1                                 |  59337                                     | A                                          | G                                          | snp                                        | missense_variant                           | MODERATE                                   | bepC                                       | ABNHBPOL_00049                             | c.1199A>G                                  | ⋯                                          | NA                                         |        NA                                  | NA                                         | NA                                         |        NA                                  |        NA                                  |        NA                                  |        NA                                  | 0.6666667                                  |    NA                                      | \n",
       "| ABNHBPOL_1                                 |  64476                                     | A                                          | G                                          | snp                                        | synonymous_variant                         | LOW                                        | cya                                        | ABNHBPOL_00052                             | c.444A>G                                   | ⋯                                          | NA                                         |        NA                                  | NA                                         | NA                                         |        NA                                  | 0.5681818                                  |        NA                                  |        NA                                  |        NA                                  |    NA                                      | \n",
       "| ABNHBPOL_1                                 |  64821                                     | C                                          | T                                          | snp                                        | synonymous_variant                         | LOW                                        | cya                                        | ABNHBPOL_00052                             | c.789C>T                                   | ⋯                                          | NA                                         | 0.8181818                                  | NA                                         | NA                                         | 0.6875000                                  | 0.7500000                                  | 0.9375000                                  | 0.8421053                                  | 1.0000000                                  | 0.875                                      | \n",
       "| ABNHBPOL_1                                 |  64871                                     | CCAACGATGATG                               | CGGTGAGCGACGTCAAC                          | complex                                    | frameshift_variant&missense_variant        | HIGH                                       | cya                                        | ABNHBPOL_00052                             | c.840_850delCAACGATGATGinsGGTGAGCGACGTCAAC | ⋯                                          | NA                                         |        NA                                  | NA                                         | NA                                         |        NA                                  |        NA                                  | 0.8333333                                  |        NA                                  |        NA                                  |    NA                                      | \n",
       "| ABNHBPOL_1                                 | 130054                                     | G                                          | T                                          | snp                                        | missense_variant                           | MODERATE                                   | ABNHBPOL_00101                             | ABNHBPOL_00101                             | c.653C>A                                   | ⋯                                          | NA                                         |        NA                                  | NA                                         | NA                                         |        NA                                  |        NA                                  |        NA                                  |        NA                                  |        NA                                  |    NA                                      | \n",
       "\n",
       "\n"
      ],
      "text/plain": [
       "  CHROM      POS    REF          ALT               TYPE   \n",
       "1 ABNHBPOL_1  28988 C            A                 snp    \n",
       "2 ABNHBPOL_1  59337 A            G                 snp    \n",
       "3 ABNHBPOL_1  64476 A            G                 snp    \n",
       "4 ABNHBPOL_1  64821 C            T                 snp    \n",
       "5 ABNHBPOL_1  64871 CCAACGATGATG CGGTGAGCGACGTCAAC complex\n",
       "6 ABNHBPOL_1 130054 G            T                 snp    \n",
       "  EFFECT                              IMPACT   GENE           GENEID        \n",
       "1 missense_variant                    MODERATE carB           ABNHBPOL_00028\n",
       "2 missense_variant                    MODERATE bepC           ABNHBPOL_00049\n",
       "3 synonymous_variant                  LOW      cya            ABNHBPOL_00052\n",
       "4 synonymous_variant                  LOW      cya            ABNHBPOL_00052\n",
       "5 frameshift_variant&missense_variant HIGH     cya            ABNHBPOL_00052\n",
       "6 missense_variant                    MODERATE ABNHBPOL_00101 ABNHBPOL_00101\n",
       "  HGVS_C                                     ⋯ T8_AB16_I0_REP3 T8_AB16_I1_REP1\n",
       "1 c.1113C>A                                  ⋯ NA                     NA      \n",
       "2 c.1199A>G                                  ⋯ NA                     NA      \n",
       "3 c.444A>G                                   ⋯ NA                     NA      \n",
       "4 c.789C>T                                   ⋯ NA              0.8181818      \n",
       "5 c.840_850delCAACGATGATGinsGGTGAGCGACGTCAAC ⋯ NA                     NA      \n",
       "6 c.653C>A                                   ⋯ NA                     NA      \n",
       "  T8_AB16_I1_REP2 T8_AB16_I1_REP3 T8_AB4_I0_REP1 T8_AB4_I0_REP2 T8_AB4_I0_REP3\n",
       "1 NA              NA              0.6666667             NA             NA     \n",
       "2 NA              NA                     NA             NA             NA     \n",
       "3 NA              NA                     NA      0.5681818             NA     \n",
       "4 NA              NA              0.6875000      0.7500000      0.9375000     \n",
       "5 NA              NA                     NA             NA      0.8333333     \n",
       "6 NA              NA                     NA             NA             NA     \n",
       "  T8_AB4_I1_REP1 T8_AB4_I1_REP2 T8_AB4_I1_REP3\n",
       "1        NA             NA         NA         \n",
       "2        NA      0.6666667         NA         \n",
       "3        NA             NA         NA         \n",
       "4 0.8421053      1.0000000      0.875         \n",
       "5        NA             NA         NA         \n",
       "6        NA             NA         NA         "
      ]
     },
     "metadata": {},
     "output_type": "display_data"
    }
   ],
   "source": [
    "# Concatenate variant frequency list into data frame\n",
    "\n",
    "variants=Reduce(function(...) merge(..., all=T), variant_list3)\n",
    "head(variants)"
   ]
  },
  {
   "cell_type": "code",
   "execution_count": 7,
   "metadata": {},
   "outputs": [
    {
     "data": {
      "text/html": [
       "<ol class=list-inline>\n",
       "\t<li>'HAMBI_1972'</li>\n",
       "\t<li>'HAMBI_6'</li>\n",
       "\t<li>'HAMBI_1287'</li>\n",
       "\t<li>'HAMBI_1977'</li>\n",
       "\t<li>'HAMBI_1875'</li>\n",
       "\t<li>'HAMBI_1896'</li>\n",
       "\t<li>'HAMBI_3172'</li>\n",
       "\t<li>'HAMBI_2659'</li>\n",
       "\t<li>'HAMBI_105'</li>\n",
       "\t<li>'HAMBI_3031'</li>\n",
       "\t<li>'HAMBI_403'</li>\n",
       "\t<li>'HAMBI_2443'</li>\n",
       "\t<li>'HAMBI_1874'</li>\n",
       "</ol>\n"
      ],
      "text/latex": [
       "\\begin{enumerate*}\n",
       "\\item 'HAMBI\\_1972'\n",
       "\\item 'HAMBI\\_6'\n",
       "\\item 'HAMBI\\_1287'\n",
       "\\item 'HAMBI\\_1977'\n",
       "\\item 'HAMBI\\_1875'\n",
       "\\item 'HAMBI\\_1896'\n",
       "\\item 'HAMBI\\_3172'\n",
       "\\item 'HAMBI\\_2659'\n",
       "\\item 'HAMBI\\_105'\n",
       "\\item 'HAMBI\\_3031'\n",
       "\\item 'HAMBI\\_403'\n",
       "\\item 'HAMBI\\_2443'\n",
       "\\item 'HAMBI\\_1874'\n",
       "\\end{enumerate*}\n"
      ],
      "text/markdown": [
       "1. 'HAMBI_1972'\n",
       "2. 'HAMBI_6'\n",
       "3. 'HAMBI_1287'\n",
       "4. 'HAMBI_1977'\n",
       "5. 'HAMBI_1875'\n",
       "6. 'HAMBI_1896'\n",
       "7. 'HAMBI_3172'\n",
       "8. 'HAMBI_2659'\n",
       "9. 'HAMBI_105'\n",
       "10. 'HAMBI_3031'\n",
       "11. 'HAMBI_403'\n",
       "12. 'HAMBI_2443'\n",
       "13. 'HAMBI_1874'\n",
       "\n",
       "\n"
      ],
      "text/plain": [
       " [1] \"HAMBI_1972\" \"HAMBI_6\"    \"HAMBI_1287\" \"HAMBI_1977\" \"HAMBI_1875\"\n",
       " [6] \"HAMBI_1896\" \"HAMBI_3172\" \"HAMBI_2659\" \"HAMBI_105\"  \"HAMBI_3031\"\n",
       "[11] \"HAMBI_403\"  \"HAMBI_2443\" \"HAMBI_1874\""
      ]
     },
     "metadata": {},
     "output_type": "display_data"
    },
    {
     "data": {
      "text/html": [
       "<table>\n",
       "<thead><tr><th scope=col>SPECIES</th><th scope=col>CHROM</th><th scope=col>POS</th><th scope=col>REF</th><th scope=col>ALT</th><th scope=col>TYPE</th><th scope=col>EFFECT</th><th scope=col>IMPACT</th><th scope=col>GENE</th><th scope=col>GENEID</th><th scope=col>⋯</th><th scope=col>T8_AB16_I0_REP3</th><th scope=col>T8_AB16_I1_REP1</th><th scope=col>T8_AB16_I1_REP2</th><th scope=col>T8_AB16_I1_REP3</th><th scope=col>T8_AB4_I0_REP1</th><th scope=col>T8_AB4_I0_REP2</th><th scope=col>T8_AB4_I0_REP3</th><th scope=col>T8_AB4_I1_REP1</th><th scope=col>T8_AB4_I1_REP2</th><th scope=col>T8_AB4_I1_REP3</th></tr></thead>\n",
       "<tbody>\n",
       "\t<tr><td>HAMBI_1972                         </td><td>ABNHBPOL_1                         </td><td> 28988                             </td><td>C                                  </td><td>A                                  </td><td>snp                                </td><td>missense_variant                   </td><td>MODERATE                           </td><td>carB                               </td><td>ABNHBPOL_00028                     </td><td>⋯                                  </td><td>NA                                 </td><td>       NA                          </td><td>NA                                 </td><td>NA                                 </td><td>0.6666667                          </td><td>       NA                          </td><td>       NA                          </td><td>       NA                          </td><td>       NA                          </td><td>   NA                              </td></tr>\n",
       "\t<tr><td>HAMBI_1972                         </td><td>ABNHBPOL_1                         </td><td> 59337                             </td><td>A                                  </td><td>G                                  </td><td>snp                                </td><td>missense_variant                   </td><td>MODERATE                           </td><td>bepC                               </td><td>ABNHBPOL_00049                     </td><td>⋯                                  </td><td>NA                                 </td><td>       NA                          </td><td>NA                                 </td><td>NA                                 </td><td>       NA                          </td><td>       NA                          </td><td>       NA                          </td><td>       NA                          </td><td>0.6666667                          </td><td>   NA                              </td></tr>\n",
       "\t<tr><td>HAMBI_1972                         </td><td>ABNHBPOL_1                         </td><td> 64476                             </td><td>A                                  </td><td>G                                  </td><td>snp                                </td><td>synonymous_variant                 </td><td>LOW                                </td><td>cya                                </td><td>ABNHBPOL_00052                     </td><td>⋯                                  </td><td>NA                                 </td><td>       NA                          </td><td>NA                                 </td><td>NA                                 </td><td>       NA                          </td><td>0.5681818                          </td><td>       NA                          </td><td>       NA                          </td><td>       NA                          </td><td>   NA                              </td></tr>\n",
       "\t<tr><td>HAMBI_1972                         </td><td>ABNHBPOL_1                         </td><td> 64821                             </td><td>C                                  </td><td>T                                  </td><td>snp                                </td><td>synonymous_variant                 </td><td>LOW                                </td><td>cya                                </td><td>ABNHBPOL_00052                     </td><td>⋯                                  </td><td>NA                                 </td><td>0.8181818                          </td><td>NA                                 </td><td>NA                                 </td><td>0.6875000                          </td><td>0.7500000                          </td><td>0.9375000                          </td><td>0.8421053                          </td><td>1.0000000                          </td><td>0.875                              </td></tr>\n",
       "\t<tr><td>HAMBI_1972                                            </td><td>ABNHBPOL_1                                            </td><td> 64871                                                </td><td>CCAACGATGATG                                          </td><td>CGGTGAGCGACGTCAAC                                     </td><td>complex                                               </td><td>frameshift_variant&amp;missense_variant               </td><td><span style=white-space:pre-wrap>HIGH    </span>      </td><td><span style=white-space:pre-wrap>cya           </span></td><td>ABNHBPOL_00052                                        </td><td>⋯                                                     </td><td>NA                                                    </td><td><span style=white-space:pre-wrap>       NA</span>     </td><td>NA                                                    </td><td>NA                                                    </td><td><span style=white-space:pre-wrap>       NA</span>     </td><td><span style=white-space:pre-wrap>       NA</span>     </td><td>0.8333333                                             </td><td><span style=white-space:pre-wrap>       NA</span>     </td><td><span style=white-space:pre-wrap>       NA</span>     </td><td><span style=white-space:pre-wrap>   NA</span>         </td></tr>\n",
       "\t<tr><td>HAMBI_1972                         </td><td>ABNHBPOL_1                         </td><td>130054                             </td><td>G                                  </td><td>T                                  </td><td>snp                                </td><td>missense_variant                   </td><td>MODERATE                           </td><td>ABNHBPOL_00101                     </td><td>ABNHBPOL_00101                     </td><td>⋯                                  </td><td>NA                                 </td><td>       NA                          </td><td>NA                                 </td><td>NA                                 </td><td>       NA                          </td><td>       NA                          </td><td>       NA                          </td><td>       NA                          </td><td>       NA                          </td><td>   NA                              </td></tr>\n",
       "</tbody>\n",
       "</table>\n"
      ],
      "text/latex": [
       "\\begin{tabular}{r|llllllllllllllllllllllllllllllllllllllllllllllllllllllllllll}\n",
       " SPECIES & CHROM & POS & REF & ALT & TYPE & EFFECT & IMPACT & GENE & GENEID & ⋯ & T8\\_AB16\\_I0\\_REP3 & T8\\_AB16\\_I1\\_REP1 & T8\\_AB16\\_I1\\_REP2 & T8\\_AB16\\_I1\\_REP3 & T8\\_AB4\\_I0\\_REP1 & T8\\_AB4\\_I0\\_REP2 & T8\\_AB4\\_I0\\_REP3 & T8\\_AB4\\_I1\\_REP1 & T8\\_AB4\\_I1\\_REP2 & T8\\_AB4\\_I1\\_REP3\\\\\n",
       "\\hline\n",
       "\t HAMBI\\_1972                          & ABNHBPOL\\_1                          &  28988                                & C                                     & A                                     & snp                                   & missense\\_variant                    & MODERATE                              & carB                                  & ABNHBPOL\\_00028                      & ⋯                                     & NA                                    &        NA                             & NA                                    & NA                                    & 0.6666667                             &        NA                             &        NA                             &        NA                             &        NA                             &    NA                                \\\\\n",
       "\t HAMBI\\_1972                          & ABNHBPOL\\_1                          &  59337                                & A                                     & G                                     & snp                                   & missense\\_variant                    & MODERATE                              & bepC                                  & ABNHBPOL\\_00049                      & ⋯                                     & NA                                    &        NA                             & NA                                    & NA                                    &        NA                             &        NA                             &        NA                             &        NA                             & 0.6666667                             &    NA                                \\\\\n",
       "\t HAMBI\\_1972                          & ABNHBPOL\\_1                          &  64476                                & A                                     & G                                     & snp                                   & synonymous\\_variant                  & LOW                                   & cya                                   & ABNHBPOL\\_00052                      & ⋯                                     & NA                                    &        NA                             & NA                                    & NA                                    &        NA                             & 0.5681818                             &        NA                             &        NA                             &        NA                             &    NA                                \\\\\n",
       "\t HAMBI\\_1972                          & ABNHBPOL\\_1                          &  64821                                & C                                     & T                                     & snp                                   & synonymous\\_variant                  & LOW                                   & cya                                   & ABNHBPOL\\_00052                      & ⋯                                     & NA                                    & 0.8181818                             & NA                                    & NA                                    & 0.6875000                             & 0.7500000                             & 0.9375000                             & 0.8421053                             & 1.0000000                             & 0.875                                \\\\\n",
       "\t HAMBI\\_1972                              & ABNHBPOL\\_1                              &  64871                                    & CCAACGATGATG                              & CGGTGAGCGACGTCAAC                         & complex                                   & frameshift\\_variant\\&missense\\_variant & HIGH                                      & cya                                       & ABNHBPOL\\_00052                          & ⋯                                         & NA                                        &        NA                                 & NA                                        & NA                                        &        NA                                 &        NA                                 & 0.8333333                                 &        NA                                 &        NA                                 &    NA                                    \\\\\n",
       "\t HAMBI\\_1972                          & ABNHBPOL\\_1                          & 130054                                & G                                     & T                                     & snp                                   & missense\\_variant                    & MODERATE                              & ABNHBPOL\\_00101                      & ABNHBPOL\\_00101                      & ⋯                                     & NA                                    &        NA                             & NA                                    & NA                                    &        NA                             &        NA                             &        NA                             &        NA                             &        NA                             &    NA                                \\\\\n",
       "\\end{tabular}\n"
      ],
      "text/markdown": [
       "\n",
       "SPECIES | CHROM | POS | REF | ALT | TYPE | EFFECT | IMPACT | GENE | GENEID | ⋯ | T8_AB16_I0_REP3 | T8_AB16_I1_REP1 | T8_AB16_I1_REP2 | T8_AB16_I1_REP3 | T8_AB4_I0_REP1 | T8_AB4_I0_REP2 | T8_AB4_I0_REP3 | T8_AB4_I1_REP1 | T8_AB4_I1_REP2 | T8_AB4_I1_REP3 | \n",
       "|---|---|---|---|---|---|\n",
       "| HAMBI_1972                          | ABNHBPOL_1                          |  28988                              | C                                   | A                                   | snp                                 | missense_variant                    | MODERATE                            | carB                                | ABNHBPOL_00028                      | ⋯                                   | NA                                  |        NA                           | NA                                  | NA                                  | 0.6666667                           |        NA                           |        NA                           |        NA                           |        NA                           |    NA                               | \n",
       "| HAMBI_1972                          | ABNHBPOL_1                          |  59337                              | A                                   | G                                   | snp                                 | missense_variant                    | MODERATE                            | bepC                                | ABNHBPOL_00049                      | ⋯                                   | NA                                  |        NA                           | NA                                  | NA                                  |        NA                           |        NA                           |        NA                           |        NA                           | 0.6666667                           |    NA                               | \n",
       "| HAMBI_1972                          | ABNHBPOL_1                          |  64476                              | A                                   | G                                   | snp                                 | synonymous_variant                  | LOW                                 | cya                                 | ABNHBPOL_00052                      | ⋯                                   | NA                                  |        NA                           | NA                                  | NA                                  |        NA                           | 0.5681818                           |        NA                           |        NA                           |        NA                           |    NA                               | \n",
       "| HAMBI_1972                          | ABNHBPOL_1                          |  64821                              | C                                   | T                                   | snp                                 | synonymous_variant                  | LOW                                 | cya                                 | ABNHBPOL_00052                      | ⋯                                   | NA                                  | 0.8181818                           | NA                                  | NA                                  | 0.6875000                           | 0.7500000                           | 0.9375000                           | 0.8421053                           | 1.0000000                           | 0.875                               | \n",
       "| HAMBI_1972                          | ABNHBPOL_1                          |  64871                              | CCAACGATGATG                        | CGGTGAGCGACGTCAAC                   | complex                             | frameshift_variant&missense_variant | HIGH                                | cya                                 | ABNHBPOL_00052                      | ⋯                                   | NA                                  |        NA                           | NA                                  | NA                                  |        NA                           |        NA                           | 0.8333333                           |        NA                           |        NA                           |    NA                               | \n",
       "| HAMBI_1972                          | ABNHBPOL_1                          | 130054                              | G                                   | T                                   | snp                                 | missense_variant                    | MODERATE                            | ABNHBPOL_00101                      | ABNHBPOL_00101                      | ⋯                                   | NA                                  |        NA                           | NA                                  | NA                                  |        NA                           |        NA                           |        NA                           |        NA                           |        NA                           |    NA                               | \n",
       "\n",
       "\n"
      ],
      "text/plain": [
       "  SPECIES    CHROM      POS    REF          ALT               TYPE   \n",
       "1 HAMBI_1972 ABNHBPOL_1  28988 C            A                 snp    \n",
       "2 HAMBI_1972 ABNHBPOL_1  59337 A            G                 snp    \n",
       "3 HAMBI_1972 ABNHBPOL_1  64476 A            G                 snp    \n",
       "4 HAMBI_1972 ABNHBPOL_1  64821 C            T                 snp    \n",
       "5 HAMBI_1972 ABNHBPOL_1  64871 CCAACGATGATG CGGTGAGCGACGTCAAC complex\n",
       "6 HAMBI_1972 ABNHBPOL_1 130054 G            T                 snp    \n",
       "  EFFECT                              IMPACT   GENE           GENEID         ⋯\n",
       "1 missense_variant                    MODERATE carB           ABNHBPOL_00028 ⋯\n",
       "2 missense_variant                    MODERATE bepC           ABNHBPOL_00049 ⋯\n",
       "3 synonymous_variant                  LOW      cya            ABNHBPOL_00052 ⋯\n",
       "4 synonymous_variant                  LOW      cya            ABNHBPOL_00052 ⋯\n",
       "5 frameshift_variant&missense_variant HIGH     cya            ABNHBPOL_00052 ⋯\n",
       "6 missense_variant                    MODERATE ABNHBPOL_00101 ABNHBPOL_00101 ⋯\n",
       "  T8_AB16_I0_REP3 T8_AB16_I1_REP1 T8_AB16_I1_REP2 T8_AB16_I1_REP3\n",
       "1 NA                     NA       NA              NA             \n",
       "2 NA                     NA       NA              NA             \n",
       "3 NA                     NA       NA              NA             \n",
       "4 NA              0.8181818       NA              NA             \n",
       "5 NA                     NA       NA              NA             \n",
       "6 NA                     NA       NA              NA             \n",
       "  T8_AB4_I0_REP1 T8_AB4_I0_REP2 T8_AB4_I0_REP3 T8_AB4_I1_REP1 T8_AB4_I1_REP2\n",
       "1 0.6666667             NA             NA             NA             NA     \n",
       "2        NA             NA             NA             NA      0.6666667     \n",
       "3        NA      0.5681818             NA             NA             NA     \n",
       "4 0.6875000      0.7500000      0.9375000      0.8421053      1.0000000     \n",
       "5        NA             NA      0.8333333             NA             NA     \n",
       "6        NA             NA             NA             NA             NA     \n",
       "  T8_AB4_I1_REP3\n",
       "1    NA         \n",
       "2    NA         \n",
       "3    NA         \n",
       "4 0.875         \n",
       "5    NA         \n",
       "6    NA         "
      ]
     },
     "metadata": {},
     "output_type": "display_data"
    }
   ],
   "source": [
    "# Add species column and move to first column\n",
    "\n",
    "variants$SPECIES = variants$CHROM\n",
    "variants$SPECIES = gsub(\"_.*\", \"\", variants$SPECIES)\n",
    "variants=variants[,c(60, 1:59)] # move species to first column\n",
    "\n",
    "variants$SPECIES = gsub(\"IDIPBEOP\", \"HAMBI_105\", variants$SPECIES)\n",
    "variants$SPECIES = gsub(\"EAEKGGIE\", \"HAMBI_1279\", variants$SPECIES)\n",
    "variants$SPECIES = gsub(\"JFDMDMML\", \"HAMBI_1287\", variants$SPECIES)\n",
    "variants$SPECIES = gsub(\"CJLINOFA\", \"HAMBI_1292\", variants$SPECIES)\n",
    "variants$SPECIES = gsub(\"LGLAIKJM\", \"HAMBI_1299\", variants$SPECIES)\n",
    "variants$SPECIES = gsub(\"PBDEHDGG\", \"HAMBI_1842\", variants$SPECIES)\n",
    "variants$SPECIES = gsub(\"IJBFBDHI\", \"HAMBI_1874\", variants$SPECIES)\n",
    "variants$SPECIES = gsub(\"OLKIGDAF\", \"HAMBI_1875\", variants$SPECIES)\n",
    "variants$SPECIES = gsub(\"IBBHIMLJ\", \"HAMBI_1896\", variants$SPECIES)\n",
    "variants$SPECIES = gsub(\"IKBFOMHN\", \"HAMBI_1923\", variants$SPECIES)\n",
    "variants$SPECIES = gsub(\"FGMDJBJE\", \"HAMBI_1966\", variants$SPECIES)\n",
    "variants$SPECIES = gsub(\"ABNHBPOL\", \"HAMBI_1972\", variants$SPECIES)\n",
    "variants$SPECIES = gsub(\"LPGKLAMA\", \"HAMBI_1977\", variants$SPECIES)\n",
    "variants$SPECIES = gsub(\"DDABIBKJ\", \"HAMBI_1988\", variants$SPECIES)\n",
    "variants$SPECIES = gsub(\"EJMNOJEN\", \"HAMBI_1992\", variants$SPECIES)\n",
    "variants$SPECIES = gsub(\"BPHLMDMA\", \"HAMBI_2159\", variants$SPECIES)\n",
    "variants$SPECIES = gsub(\"JMKNMFKB\", \"HAMBI_216\", variants$SPECIES)\n",
    "variants$SPECIES = gsub(\"MEJPDLNM\", \"HAMBI_2160\", variants$SPECIES)\n",
    "variants$SPECIES = gsub(\"HBKMOOGJ\", \"HAMBI_2164\", variants$SPECIES)\n",
    "variants$SPECIES = gsub(\"CDGJPFOH\", \"HAMBI_2443\", variants$SPECIES)\n",
    "variants$SPECIES = gsub(\"ODLGDGCB\", \"HAMBI_2467\", variants$SPECIES)\n",
    "variants$SPECIES = gsub(\"BNKCIJAK\", \"HAMBI_2494\", variants$SPECIES)\n",
    "variants$SPECIES = gsub(\"OJCBDLJO\", \"HAMBI_262\", variants$SPECIES)\n",
    "variants$SPECIES = gsub(\"DPMDEPGB\", \"HAMBI_2659\", variants$SPECIES)\n",
    "variants$SPECIES = gsub(\"CBFNKHCI\", \"HAMBI_2792\", variants$SPECIES)\n",
    "variants$SPECIES = gsub(\"PPBPPCPG\", \"HAMBI_2948\", variants$SPECIES)\n",
    "variants$SPECIES = gsub(\"JHKIHDGE\", \"HAMBI_3031\", variants$SPECIES)\n",
    "variants$SPECIES = gsub(\"CKLFCLNC\", \"HAMBI_3172\", variants$SPECIES)\n",
    "variants$SPECIES = gsub(\"MHFJDPFK\", \"HAMBI_3237\", variants$SPECIES)\n",
    "variants$SPECIES = gsub(\"NHMKOMBD\", \"HAMBI_403\", variants$SPECIES)\n",
    "variants$SPECIES = gsub(\"AMIEGGJA\", \"HAMBI_6\", variants$SPECIES)\n",
    "variants$SPECIES = gsub(\"GDIGBBFK\", \"HAMBI_97\", variants$SPECIES)\n",
    "\n",
    "unique(variants$SPECIES)\n",
    "head(variants)"
   ]
  },
  {
   "cell_type": "code",
   "execution_count": 8,
   "metadata": {},
   "outputs": [
    {
     "data": {
      "text/html": [
       "<table>\n",
       "<thead><tr><th scope=col>CHROM</th><th scope=col>POS</th><th scope=col>REF</th><th scope=col>ALT</th><th scope=col>TYPE</th><th scope=col>EFFECT</th><th scope=col>IMPACT</th><th scope=col>GENE</th><th scope=col>GENEID</th><th scope=col>HGVS_C</th><th scope=col>⋯</th><th scope=col>T8_AB16_I0_REP3</th><th scope=col>T8_AB16_I1_REP1</th><th scope=col>T8_AB16_I1_REP2</th><th scope=col>T8_AB16_I1_REP3</th><th scope=col>T8_AB4_I0_REP1</th><th scope=col>T8_AB4_I0_REP2</th><th scope=col>T8_AB4_I0_REP3</th><th scope=col>T8_AB4_I1_REP1</th><th scope=col>T8_AB4_I1_REP2</th><th scope=col>T8_AB4_I1_REP3</th></tr></thead>\n",
       "<tbody>\n",
       "\t<tr><td>ABNHBPOL_1                                                                           </td><td> 28988                                                                               </td><td><span style=white-space:pre-wrap>C           </span>                                 </td><td><span style=white-space:pre-wrap>A                </span>                            </td><td><span style=white-space:pre-wrap>snp    </span>                                      </td><td><span style=white-space:pre-wrap>missense_variant                   </span>          </td><td>MODERATE                                                                             </td><td><span style=white-space:pre-wrap>carB          </span>                               </td><td>ABNHBPOL_00028                                                                       </td><td><span style=white-space:pre-wrap>c.1113C&gt;A                                 </span></td><td>⋯                                                                                    </td><td>NA                                                                                   </td><td>NA                                                                                   </td><td>NA                                                                                   </td><td>NA                                                                                   </td><td> 3                                                                                   </td><td>NA                                                                                   </td><td>NA                                                                                   </td><td>NA                                                                                   </td><td>NA                                                                                   </td><td>NA                                                                                   </td></tr>\n",
       "\t<tr><td>ABNHBPOL_1                                                                           </td><td> 59337                                                                               </td><td><span style=white-space:pre-wrap>A           </span>                                 </td><td><span style=white-space:pre-wrap>G                </span>                            </td><td><span style=white-space:pre-wrap>snp    </span>                                      </td><td><span style=white-space:pre-wrap>missense_variant                   </span>          </td><td>MODERATE                                                                             </td><td><span style=white-space:pre-wrap>bepC          </span>                               </td><td>ABNHBPOL_00049                                                                       </td><td><span style=white-space:pre-wrap>c.1199A&gt;G                                 </span></td><td>⋯                                                                                    </td><td>NA                                                                                   </td><td>NA                                                                                   </td><td>NA                                                                                   </td><td>NA                                                                                   </td><td>NA                                                                                   </td><td>NA                                                                                   </td><td>NA                                                                                   </td><td>NA                                                                                   </td><td> 3                                                                                   </td><td>NA                                                                                   </td></tr>\n",
       "\t<tr><td>ABNHBPOL_1                                                                           </td><td> 64476                                                                               </td><td><span style=white-space:pre-wrap>A           </span>                                 </td><td><span style=white-space:pre-wrap>G                </span>                            </td><td><span style=white-space:pre-wrap>snp    </span>                                      </td><td><span style=white-space:pre-wrap>synonymous_variant                 </span>          </td><td><span style=white-space:pre-wrap>LOW     </span>                                     </td><td><span style=white-space:pre-wrap>cya           </span>                               </td><td>ABNHBPOL_00052                                                                       </td><td><span style=white-space:pre-wrap>c.444A&gt;G                                  </span></td><td>⋯                                                                                    </td><td>NA                                                                                   </td><td>NA                                                                                   </td><td>NA                                                                                   </td><td>NA                                                                                   </td><td>NA                                                                                   </td><td>44                                                                                   </td><td>NA                                                                                   </td><td>NA                                                                                   </td><td>NA                                                                                   </td><td>NA                                                                                   </td></tr>\n",
       "\t<tr><td>ABNHBPOL_1                                                                           </td><td> 64821                                                                               </td><td><span style=white-space:pre-wrap>C           </span>                                 </td><td><span style=white-space:pre-wrap>T                </span>                            </td><td><span style=white-space:pre-wrap>snp    </span>                                      </td><td><span style=white-space:pre-wrap>synonymous_variant                 </span>          </td><td><span style=white-space:pre-wrap>LOW     </span>                                     </td><td><span style=white-space:pre-wrap>cya           </span>                               </td><td>ABNHBPOL_00052                                                                       </td><td><span style=white-space:pre-wrap>c.789C&gt;T                                  </span></td><td>⋯                                                                                    </td><td>NA                                                                                   </td><td>11                                                                                   </td><td>NA                                                                                   </td><td>NA                                                                                   </td><td>16                                                                                   </td><td> 8                                                                                   </td><td>16                                                                                   </td><td>19                                                                                   </td><td>15                                                                                   </td><td>16                                                                                   </td></tr>\n",
       "\t<tr><td>ABNHBPOL_1                                            </td><td> 64871                                                </td><td>CCAACGATGATG                                          </td><td>CGGTGAGCGACGTCAAC                                     </td><td>complex                                               </td><td>frameshift_variant&amp;missense_variant               </td><td><span style=white-space:pre-wrap>HIGH    </span>      </td><td><span style=white-space:pre-wrap>cya           </span></td><td>ABNHBPOL_00052                                        </td><td>c.840_850delCAACGATGATGinsGGTGAGCGACGTCAAC            </td><td>⋯                                                     </td><td>NA                                                    </td><td>NA                                                    </td><td>NA                                                    </td><td>NA                                                    </td><td>NA                                                    </td><td>NA                                                    </td><td> 6                                                    </td><td>NA                                                    </td><td>NA                                                    </td><td>NA                                                    </td></tr>\n",
       "\t<tr><td>ABNHBPOL_1                                                                           </td><td>130054                                                                               </td><td><span style=white-space:pre-wrap>G           </span>                                 </td><td><span style=white-space:pre-wrap>T                </span>                            </td><td><span style=white-space:pre-wrap>snp    </span>                                      </td><td><span style=white-space:pre-wrap>missense_variant                   </span>          </td><td>MODERATE                                                                             </td><td>ABNHBPOL_00101                                                                       </td><td>ABNHBPOL_00101                                                                       </td><td><span style=white-space:pre-wrap>c.653C&gt;A                                  </span></td><td>⋯                                                                                    </td><td>NA                                                                                   </td><td>NA                                                                                   </td><td>NA                                                                                   </td><td>NA                                                                                   </td><td>NA                                                                                   </td><td>NA                                                                                   </td><td>NA                                                                                   </td><td>NA                                                                                   </td><td>NA                                                                                   </td><td>NA                                                                                   </td></tr>\n",
       "</tbody>\n",
       "</table>\n"
      ],
      "text/latex": [
       "\\begin{tabular}{r|lllllllllllllllllllllllllllllllllllllllllllllllllllllllllll}\n",
       " CHROM & POS & REF & ALT & TYPE & EFFECT & IMPACT & GENE & GENEID & HGVS\\_C & ⋯ & T8\\_AB16\\_I0\\_REP3 & T8\\_AB16\\_I1\\_REP1 & T8\\_AB16\\_I1\\_REP2 & T8\\_AB16\\_I1\\_REP3 & T8\\_AB4\\_I0\\_REP1 & T8\\_AB4\\_I0\\_REP2 & T8\\_AB4\\_I0\\_REP3 & T8\\_AB4\\_I1\\_REP1 & T8\\_AB4\\_I1\\_REP2 & T8\\_AB4\\_I1\\_REP3\\\\\n",
       "\\hline\n",
       "\t ABNHBPOL\\_1                               &  28988                                     & C                                          & A                                          & snp                                        & missense\\_variant                         & MODERATE                                   & carB                                       & ABNHBPOL\\_00028                           & c.1113C>A                                  & ⋯                                          & NA                                         & NA                                         & NA                                         & NA                                         &  3                                         & NA                                         & NA                                         & NA                                         & NA                                         & NA                                        \\\\\n",
       "\t ABNHBPOL\\_1                               &  59337                                     & A                                          & G                                          & snp                                        & missense\\_variant                         & MODERATE                                   & bepC                                       & ABNHBPOL\\_00049                           & c.1199A>G                                  & ⋯                                          & NA                                         & NA                                         & NA                                         & NA                                         & NA                                         & NA                                         & NA                                         & NA                                         &  3                                         & NA                                        \\\\\n",
       "\t ABNHBPOL\\_1                               &  64476                                     & A                                          & G                                          & snp                                        & synonymous\\_variant                       & LOW                                        & cya                                        & ABNHBPOL\\_00052                           & c.444A>G                                   & ⋯                                          & NA                                         & NA                                         & NA                                         & NA                                         & NA                                         & 44                                         & NA                                         & NA                                         & NA                                         & NA                                        \\\\\n",
       "\t ABNHBPOL\\_1                               &  64821                                     & C                                          & T                                          & snp                                        & synonymous\\_variant                       & LOW                                        & cya                                        & ABNHBPOL\\_00052                           & c.789C>T                                   & ⋯                                          & NA                                         & 11                                         & NA                                         & NA                                         & 16                                         &  8                                         & 16                                         & 19                                         & 15                                         & 16                                        \\\\\n",
       "\t ABNHBPOL\\_1                                 &  64871                                       & CCAACGATGATG                                 & CGGTGAGCGACGTCAAC                            & complex                                      & frameshift\\_variant\\&missense\\_variant    & HIGH                                         & cya                                          & ABNHBPOL\\_00052                             & c.840\\_850delCAACGATGATGinsGGTGAGCGACGTCAAC & ⋯                                            & NA                                           & NA                                           & NA                                           & NA                                           & NA                                           & NA                                           &  6                                           & NA                                           & NA                                           & NA                                          \\\\\n",
       "\t ABNHBPOL\\_1                               & 130054                                     & G                                          & T                                          & snp                                        & missense\\_variant                         & MODERATE                                   & ABNHBPOL\\_00101                           & ABNHBPOL\\_00101                           & c.653C>A                                   & ⋯                                          & NA                                         & NA                                         & NA                                         & NA                                         & NA                                         & NA                                         & NA                                         & NA                                         & NA                                         & NA                                        \\\\\n",
       "\\end{tabular}\n"
      ],
      "text/markdown": [
       "\n",
       "CHROM | POS | REF | ALT | TYPE | EFFECT | IMPACT | GENE | GENEID | HGVS_C | ⋯ | T8_AB16_I0_REP3 | T8_AB16_I1_REP1 | T8_AB16_I1_REP2 | T8_AB16_I1_REP3 | T8_AB4_I0_REP1 | T8_AB4_I0_REP2 | T8_AB4_I0_REP3 | T8_AB4_I1_REP1 | T8_AB4_I1_REP2 | T8_AB4_I1_REP3 | \n",
       "|---|---|---|---|---|---|\n",
       "| ABNHBPOL_1                                 |  28988                                     | C                                          | A                                          | snp                                        | missense_variant                           | MODERATE                                   | carB                                       | ABNHBPOL_00028                             | c.1113C>A                                  | ⋯                                          | NA                                         | NA                                         | NA                                         | NA                                         |  3                                         | NA                                         | NA                                         | NA                                         | NA                                         | NA                                         | \n",
       "| ABNHBPOL_1                                 |  59337                                     | A                                          | G                                          | snp                                        | missense_variant                           | MODERATE                                   | bepC                                       | ABNHBPOL_00049                             | c.1199A>G                                  | ⋯                                          | NA                                         | NA                                         | NA                                         | NA                                         | NA                                         | NA                                         | NA                                         | NA                                         |  3                                         | NA                                         | \n",
       "| ABNHBPOL_1                                 |  64476                                     | A                                          | G                                          | snp                                        | synonymous_variant                         | LOW                                        | cya                                        | ABNHBPOL_00052                             | c.444A>G                                   | ⋯                                          | NA                                         | NA                                         | NA                                         | NA                                         | NA                                         | 44                                         | NA                                         | NA                                         | NA                                         | NA                                         | \n",
       "| ABNHBPOL_1                                 |  64821                                     | C                                          | T                                          | snp                                        | synonymous_variant                         | LOW                                        | cya                                        | ABNHBPOL_00052                             | c.789C>T                                   | ⋯                                          | NA                                         | 11                                         | NA                                         | NA                                         | 16                                         |  8                                         | 16                                         | 19                                         | 15                                         | 16                                         | \n",
       "| ABNHBPOL_1                                 |  64871                                     | CCAACGATGATG                               | CGGTGAGCGACGTCAAC                          | complex                                    | frameshift_variant&missense_variant        | HIGH                                       | cya                                        | ABNHBPOL_00052                             | c.840_850delCAACGATGATGinsGGTGAGCGACGTCAAC | ⋯                                          | NA                                         | NA                                         | NA                                         | NA                                         | NA                                         | NA                                         |  6                                         | NA                                         | NA                                         | NA                                         | \n",
       "| ABNHBPOL_1                                 | 130054                                     | G                                          | T                                          | snp                                        | missense_variant                           | MODERATE                                   | ABNHBPOL_00101                             | ABNHBPOL_00101                             | c.653C>A                                   | ⋯                                          | NA                                         | NA                                         | NA                                         | NA                                         | NA                                         | NA                                         | NA                                         | NA                                         | NA                                         | NA                                         | \n",
       "\n",
       "\n"
      ],
      "text/plain": [
       "  CHROM      POS    REF          ALT               TYPE   \n",
       "1 ABNHBPOL_1  28988 C            A                 snp    \n",
       "2 ABNHBPOL_1  59337 A            G                 snp    \n",
       "3 ABNHBPOL_1  64476 A            G                 snp    \n",
       "4 ABNHBPOL_1  64821 C            T                 snp    \n",
       "5 ABNHBPOL_1  64871 CCAACGATGATG CGGTGAGCGACGTCAAC complex\n",
       "6 ABNHBPOL_1 130054 G            T                 snp    \n",
       "  EFFECT                              IMPACT   GENE           GENEID        \n",
       "1 missense_variant                    MODERATE carB           ABNHBPOL_00028\n",
       "2 missense_variant                    MODERATE bepC           ABNHBPOL_00049\n",
       "3 synonymous_variant                  LOW      cya            ABNHBPOL_00052\n",
       "4 synonymous_variant                  LOW      cya            ABNHBPOL_00052\n",
       "5 frameshift_variant&missense_variant HIGH     cya            ABNHBPOL_00052\n",
       "6 missense_variant                    MODERATE ABNHBPOL_00101 ABNHBPOL_00101\n",
       "  HGVS_C                                     ⋯ T8_AB16_I0_REP3 T8_AB16_I1_REP1\n",
       "1 c.1113C>A                                  ⋯ NA              NA             \n",
       "2 c.1199A>G                                  ⋯ NA              NA             \n",
       "3 c.444A>G                                   ⋯ NA              NA             \n",
       "4 c.789C>T                                   ⋯ NA              11             \n",
       "5 c.840_850delCAACGATGATGinsGGTGAGCGACGTCAAC ⋯ NA              NA             \n",
       "6 c.653C>A                                   ⋯ NA              NA             \n",
       "  T8_AB16_I1_REP2 T8_AB16_I1_REP3 T8_AB4_I0_REP1 T8_AB4_I0_REP2 T8_AB4_I0_REP3\n",
       "1 NA              NA               3             NA             NA            \n",
       "2 NA              NA              NA             NA             NA            \n",
       "3 NA              NA              NA             44             NA            \n",
       "4 NA              NA              16              8             16            \n",
       "5 NA              NA              NA             NA              6            \n",
       "6 NA              NA              NA             NA             NA            \n",
       "  T8_AB4_I1_REP1 T8_AB4_I1_REP2 T8_AB4_I1_REP3\n",
       "1 NA             NA             NA            \n",
       "2 NA              3             NA            \n",
       "3 NA             NA             NA            \n",
       "4 19             15             16            \n",
       "5 NA             NA             NA            \n",
       "6 NA             NA             NA            "
      ]
     },
     "metadata": {},
     "output_type": "display_data"
    }
   ],
   "source": [
    "# Concatenate variant depth list into data frame\n",
    "\n",
    "depths=Reduce(function(...) merge(..., all=T), depth_list)\n",
    "head(depths)"
   ]
  },
  {
   "cell_type": "code",
   "execution_count": 9,
   "metadata": {},
   "outputs": [
    {
     "data": {
      "text/html": [
       "<ol class=list-inline>\n",
       "\t<li>'HAMBI_1972'</li>\n",
       "\t<li>'HAMBI_6'</li>\n",
       "\t<li>'HAMBI_1287'</li>\n",
       "\t<li>'HAMBI_1977'</li>\n",
       "\t<li>'HAMBI_1875'</li>\n",
       "\t<li>'HAMBI_1896'</li>\n",
       "\t<li>'HAMBI_3172'</li>\n",
       "\t<li>'HAMBI_2659'</li>\n",
       "\t<li>'HAMBI_105'</li>\n",
       "\t<li>'HAMBI_3031'</li>\n",
       "\t<li>'HAMBI_403'</li>\n",
       "\t<li>'HAMBI_2443'</li>\n",
       "\t<li>'HAMBI_1874'</li>\n",
       "</ol>\n"
      ],
      "text/latex": [
       "\\begin{enumerate*}\n",
       "\\item 'HAMBI\\_1972'\n",
       "\\item 'HAMBI\\_6'\n",
       "\\item 'HAMBI\\_1287'\n",
       "\\item 'HAMBI\\_1977'\n",
       "\\item 'HAMBI\\_1875'\n",
       "\\item 'HAMBI\\_1896'\n",
       "\\item 'HAMBI\\_3172'\n",
       "\\item 'HAMBI\\_2659'\n",
       "\\item 'HAMBI\\_105'\n",
       "\\item 'HAMBI\\_3031'\n",
       "\\item 'HAMBI\\_403'\n",
       "\\item 'HAMBI\\_2443'\n",
       "\\item 'HAMBI\\_1874'\n",
       "\\end{enumerate*}\n"
      ],
      "text/markdown": [
       "1. 'HAMBI_1972'\n",
       "2. 'HAMBI_6'\n",
       "3. 'HAMBI_1287'\n",
       "4. 'HAMBI_1977'\n",
       "5. 'HAMBI_1875'\n",
       "6. 'HAMBI_1896'\n",
       "7. 'HAMBI_3172'\n",
       "8. 'HAMBI_2659'\n",
       "9. 'HAMBI_105'\n",
       "10. 'HAMBI_3031'\n",
       "11. 'HAMBI_403'\n",
       "12. 'HAMBI_2443'\n",
       "13. 'HAMBI_1874'\n",
       "\n",
       "\n"
      ],
      "text/plain": [
       " [1] \"HAMBI_1972\" \"HAMBI_6\"    \"HAMBI_1287\" \"HAMBI_1977\" \"HAMBI_1875\"\n",
       " [6] \"HAMBI_1896\" \"HAMBI_3172\" \"HAMBI_2659\" \"HAMBI_105\"  \"HAMBI_3031\"\n",
       "[11] \"HAMBI_403\"  \"HAMBI_2443\" \"HAMBI_1874\""
      ]
     },
     "metadata": {},
     "output_type": "display_data"
    },
    {
     "data": {
      "text/html": [
       "<table>\n",
       "<thead><tr><th scope=col>SPECIES</th><th scope=col>CHROM</th><th scope=col>POS</th><th scope=col>REF</th><th scope=col>ALT</th><th scope=col>TYPE</th><th scope=col>EFFECT</th><th scope=col>IMPACT</th><th scope=col>GENE</th><th scope=col>GENEID</th><th scope=col>⋯</th><th scope=col>T8_AB16_I0_REP3</th><th scope=col>T8_AB16_I1_REP1</th><th scope=col>T8_AB16_I1_REP2</th><th scope=col>T8_AB16_I1_REP3</th><th scope=col>T8_AB4_I0_REP1</th><th scope=col>T8_AB4_I0_REP2</th><th scope=col>T8_AB4_I0_REP3</th><th scope=col>T8_AB4_I1_REP1</th><th scope=col>T8_AB4_I1_REP2</th><th scope=col>T8_AB4_I1_REP3</th></tr></thead>\n",
       "<tbody>\n",
       "\t<tr><td>HAMBI_1972                         </td><td>ABNHBPOL_1                         </td><td> 28988                             </td><td>C                                  </td><td>A                                  </td><td>snp                                </td><td>missense_variant                   </td><td>MODERATE                           </td><td>carB                               </td><td>ABNHBPOL_00028                     </td><td>⋯                                  </td><td>NA                                 </td><td>NA                                 </td><td>NA                                 </td><td>NA                                 </td><td> 3                                 </td><td>NA                                 </td><td>NA                                 </td><td>NA                                 </td><td>NA                                 </td><td>NA                                 </td></tr>\n",
       "\t<tr><td>HAMBI_1972                         </td><td>ABNHBPOL_1                         </td><td> 59337                             </td><td>A                                  </td><td>G                                  </td><td>snp                                </td><td>missense_variant                   </td><td>MODERATE                           </td><td>bepC                               </td><td>ABNHBPOL_00049                     </td><td>⋯                                  </td><td>NA                                 </td><td>NA                                 </td><td>NA                                 </td><td>NA                                 </td><td>NA                                 </td><td>NA                                 </td><td>NA                                 </td><td>NA                                 </td><td> 3                                 </td><td>NA                                 </td></tr>\n",
       "\t<tr><td>HAMBI_1972                         </td><td>ABNHBPOL_1                         </td><td> 64476                             </td><td>A                                  </td><td>G                                  </td><td>snp                                </td><td>synonymous_variant                 </td><td>LOW                                </td><td>cya                                </td><td>ABNHBPOL_00052                     </td><td>⋯                                  </td><td>NA                                 </td><td>NA                                 </td><td>NA                                 </td><td>NA                                 </td><td>NA                                 </td><td>44                                 </td><td>NA                                 </td><td>NA                                 </td><td>NA                                 </td><td>NA                                 </td></tr>\n",
       "\t<tr><td>HAMBI_1972                         </td><td>ABNHBPOL_1                         </td><td> 64821                             </td><td>C                                  </td><td>T                                  </td><td>snp                                </td><td>synonymous_variant                 </td><td>LOW                                </td><td>cya                                </td><td>ABNHBPOL_00052                     </td><td>⋯                                  </td><td>NA                                 </td><td>11                                 </td><td>NA                                 </td><td>NA                                 </td><td>16                                 </td><td> 8                                 </td><td>16                                 </td><td>19                                 </td><td>15                                 </td><td>16                                 </td></tr>\n",
       "\t<tr><td>HAMBI_1972                                            </td><td>ABNHBPOL_1                                            </td><td> 64871                                                </td><td>CCAACGATGATG                                          </td><td>CGGTGAGCGACGTCAAC                                     </td><td>complex                                               </td><td>frameshift_variant&amp;missense_variant               </td><td><span style=white-space:pre-wrap>HIGH    </span>      </td><td><span style=white-space:pre-wrap>cya           </span></td><td>ABNHBPOL_00052                                        </td><td>⋯                                                     </td><td>NA                                                    </td><td>NA                                                    </td><td>NA                                                    </td><td>NA                                                    </td><td>NA                                                    </td><td>NA                                                    </td><td> 6                                                    </td><td>NA                                                    </td><td>NA                                                    </td><td>NA                                                    </td></tr>\n",
       "\t<tr><td>HAMBI_1972                         </td><td>ABNHBPOL_1                         </td><td>130054                             </td><td>G                                  </td><td>T                                  </td><td>snp                                </td><td>missense_variant                   </td><td>MODERATE                           </td><td>ABNHBPOL_00101                     </td><td>ABNHBPOL_00101                     </td><td>⋯                                  </td><td>NA                                 </td><td>NA                                 </td><td>NA                                 </td><td>NA                                 </td><td>NA                                 </td><td>NA                                 </td><td>NA                                 </td><td>NA                                 </td><td>NA                                 </td><td>NA                                 </td></tr>\n",
       "</tbody>\n",
       "</table>\n"
      ],
      "text/latex": [
       "\\begin{tabular}{r|llllllllllllllllllllllllllllllllllllllllllllllllllllllllllll}\n",
       " SPECIES & CHROM & POS & REF & ALT & TYPE & EFFECT & IMPACT & GENE & GENEID & ⋯ & T8\\_AB16\\_I0\\_REP3 & T8\\_AB16\\_I1\\_REP1 & T8\\_AB16\\_I1\\_REP2 & T8\\_AB16\\_I1\\_REP3 & T8\\_AB4\\_I0\\_REP1 & T8\\_AB4\\_I0\\_REP2 & T8\\_AB4\\_I0\\_REP3 & T8\\_AB4\\_I1\\_REP1 & T8\\_AB4\\_I1\\_REP2 & T8\\_AB4\\_I1\\_REP3\\\\\n",
       "\\hline\n",
       "\t HAMBI\\_1972                          & ABNHBPOL\\_1                          &  28988                                & C                                     & A                                     & snp                                   & missense\\_variant                    & MODERATE                              & carB                                  & ABNHBPOL\\_00028                      & ⋯                                     & NA                                    & NA                                    & NA                                    & NA                                    &  3                                    & NA                                    & NA                                    & NA                                    & NA                                    & NA                                   \\\\\n",
       "\t HAMBI\\_1972                          & ABNHBPOL\\_1                          &  59337                                & A                                     & G                                     & snp                                   & missense\\_variant                    & MODERATE                              & bepC                                  & ABNHBPOL\\_00049                      & ⋯                                     & NA                                    & NA                                    & NA                                    & NA                                    & NA                                    & NA                                    & NA                                    & NA                                    &  3                                    & NA                                   \\\\\n",
       "\t HAMBI\\_1972                          & ABNHBPOL\\_1                          &  64476                                & A                                     & G                                     & snp                                   & synonymous\\_variant                  & LOW                                   & cya                                   & ABNHBPOL\\_00052                      & ⋯                                     & NA                                    & NA                                    & NA                                    & NA                                    & NA                                    & 44                                    & NA                                    & NA                                    & NA                                    & NA                                   \\\\\n",
       "\t HAMBI\\_1972                          & ABNHBPOL\\_1                          &  64821                                & C                                     & T                                     & snp                                   & synonymous\\_variant                  & LOW                                   & cya                                   & ABNHBPOL\\_00052                      & ⋯                                     & NA                                    & 11                                    & NA                                    & NA                                    & 16                                    &  8                                    & 16                                    & 19                                    & 15                                    & 16                                   \\\\\n",
       "\t HAMBI\\_1972                              & ABNHBPOL\\_1                              &  64871                                    & CCAACGATGATG                              & CGGTGAGCGACGTCAAC                         & complex                                   & frameshift\\_variant\\&missense\\_variant & HIGH                                      & cya                                       & ABNHBPOL\\_00052                          & ⋯                                         & NA                                        & NA                                        & NA                                        & NA                                        & NA                                        & NA                                        &  6                                        & NA                                        & NA                                        & NA                                       \\\\\n",
       "\t HAMBI\\_1972                          & ABNHBPOL\\_1                          & 130054                                & G                                     & T                                     & snp                                   & missense\\_variant                    & MODERATE                              & ABNHBPOL\\_00101                      & ABNHBPOL\\_00101                      & ⋯                                     & NA                                    & NA                                    & NA                                    & NA                                    & NA                                    & NA                                    & NA                                    & NA                                    & NA                                    & NA                                   \\\\\n",
       "\\end{tabular}\n"
      ],
      "text/markdown": [
       "\n",
       "SPECIES | CHROM | POS | REF | ALT | TYPE | EFFECT | IMPACT | GENE | GENEID | ⋯ | T8_AB16_I0_REP3 | T8_AB16_I1_REP1 | T8_AB16_I1_REP2 | T8_AB16_I1_REP3 | T8_AB4_I0_REP1 | T8_AB4_I0_REP2 | T8_AB4_I0_REP3 | T8_AB4_I1_REP1 | T8_AB4_I1_REP2 | T8_AB4_I1_REP3 | \n",
       "|---|---|---|---|---|---|\n",
       "| HAMBI_1972                          | ABNHBPOL_1                          |  28988                              | C                                   | A                                   | snp                                 | missense_variant                    | MODERATE                            | carB                                | ABNHBPOL_00028                      | ⋯                                   | NA                                  | NA                                  | NA                                  | NA                                  |  3                                  | NA                                  | NA                                  | NA                                  | NA                                  | NA                                  | \n",
       "| HAMBI_1972                          | ABNHBPOL_1                          |  59337                              | A                                   | G                                   | snp                                 | missense_variant                    | MODERATE                            | bepC                                | ABNHBPOL_00049                      | ⋯                                   | NA                                  | NA                                  | NA                                  | NA                                  | NA                                  | NA                                  | NA                                  | NA                                  |  3                                  | NA                                  | \n",
       "| HAMBI_1972                          | ABNHBPOL_1                          |  64476                              | A                                   | G                                   | snp                                 | synonymous_variant                  | LOW                                 | cya                                 | ABNHBPOL_00052                      | ⋯                                   | NA                                  | NA                                  | NA                                  | NA                                  | NA                                  | 44                                  | NA                                  | NA                                  | NA                                  | NA                                  | \n",
       "| HAMBI_1972                          | ABNHBPOL_1                          |  64821                              | C                                   | T                                   | snp                                 | synonymous_variant                  | LOW                                 | cya                                 | ABNHBPOL_00052                      | ⋯                                   | NA                                  | 11                                  | NA                                  | NA                                  | 16                                  |  8                                  | 16                                  | 19                                  | 15                                  | 16                                  | \n",
       "| HAMBI_1972                          | ABNHBPOL_1                          |  64871                              | CCAACGATGATG                        | CGGTGAGCGACGTCAAC                   | complex                             | frameshift_variant&missense_variant | HIGH                                | cya                                 | ABNHBPOL_00052                      | ⋯                                   | NA                                  | NA                                  | NA                                  | NA                                  | NA                                  | NA                                  |  6                                  | NA                                  | NA                                  | NA                                  | \n",
       "| HAMBI_1972                          | ABNHBPOL_1                          | 130054                              | G                                   | T                                   | snp                                 | missense_variant                    | MODERATE                            | ABNHBPOL_00101                      | ABNHBPOL_00101                      | ⋯                                   | NA                                  | NA                                  | NA                                  | NA                                  | NA                                  | NA                                  | NA                                  | NA                                  | NA                                  | NA                                  | \n",
       "\n",
       "\n"
      ],
      "text/plain": [
       "  SPECIES    CHROM      POS    REF          ALT               TYPE   \n",
       "1 HAMBI_1972 ABNHBPOL_1  28988 C            A                 snp    \n",
       "2 HAMBI_1972 ABNHBPOL_1  59337 A            G                 snp    \n",
       "3 HAMBI_1972 ABNHBPOL_1  64476 A            G                 snp    \n",
       "4 HAMBI_1972 ABNHBPOL_1  64821 C            T                 snp    \n",
       "5 HAMBI_1972 ABNHBPOL_1  64871 CCAACGATGATG CGGTGAGCGACGTCAAC complex\n",
       "6 HAMBI_1972 ABNHBPOL_1 130054 G            T                 snp    \n",
       "  EFFECT                              IMPACT   GENE           GENEID         ⋯\n",
       "1 missense_variant                    MODERATE carB           ABNHBPOL_00028 ⋯\n",
       "2 missense_variant                    MODERATE bepC           ABNHBPOL_00049 ⋯\n",
       "3 synonymous_variant                  LOW      cya            ABNHBPOL_00052 ⋯\n",
       "4 synonymous_variant                  LOW      cya            ABNHBPOL_00052 ⋯\n",
       "5 frameshift_variant&missense_variant HIGH     cya            ABNHBPOL_00052 ⋯\n",
       "6 missense_variant                    MODERATE ABNHBPOL_00101 ABNHBPOL_00101 ⋯\n",
       "  T8_AB16_I0_REP3 T8_AB16_I1_REP1 T8_AB16_I1_REP2 T8_AB16_I1_REP3\n",
       "1 NA              NA              NA              NA             \n",
       "2 NA              NA              NA              NA             \n",
       "3 NA              NA              NA              NA             \n",
       "4 NA              11              NA              NA             \n",
       "5 NA              NA              NA              NA             \n",
       "6 NA              NA              NA              NA             \n",
       "  T8_AB4_I0_REP1 T8_AB4_I0_REP2 T8_AB4_I0_REP3 T8_AB4_I1_REP1 T8_AB4_I1_REP2\n",
       "1  3             NA             NA             NA             NA            \n",
       "2 NA             NA             NA             NA              3            \n",
       "3 NA             44             NA             NA             NA            \n",
       "4 16              8             16             19             15            \n",
       "5 NA             NA              6             NA             NA            \n",
       "6 NA             NA             NA             NA             NA            \n",
       "  T8_AB4_I1_REP3\n",
       "1 NA            \n",
       "2 NA            \n",
       "3 NA            \n",
       "4 16            \n",
       "5 NA            \n",
       "6 NA            "
      ]
     },
     "metadata": {},
     "output_type": "display_data"
    }
   ],
   "source": [
    "# Add species column and move to first column\n",
    "\n",
    "depths$SPECIES = depths$CHROM\n",
    "depths$SPECIES = gsub(\"_.*\", \"\", depths$SPECIES)\n",
    "depths=depths[,c(60, 1:59)] # move species to first column\n",
    "\n",
    "depths$SPECIES = gsub(\"IDIPBEOP\", \"HAMBI_105\", depths$SPECIES)\n",
    "depths$SPECIES = gsub(\"EAEKGGIE\", \"HAMBI_1279\", depths$SPECIES)\n",
    "depths$SPECIES = gsub(\"JFDMDMML\", \"HAMBI_1287\", depths$SPECIES)\n",
    "depths$SPECIES = gsub(\"CJLINOFA\", \"HAMBI_1292\", depths$SPECIES)\n",
    "depths$SPECIES = gsub(\"LGLAIKJM\", \"HAMBI_1299\", depths$SPECIES)\n",
    "depths$SPECIES = gsub(\"PBDEHDGG\", \"HAMBI_1842\", depths$SPECIES)\n",
    "depths$SPECIES = gsub(\"IJBFBDHI\", \"HAMBI_1874\", depths$SPECIES)\n",
    "depths$SPECIES = gsub(\"OLKIGDAF\", \"HAMBI_1875\", depths$SPECIES)\n",
    "depths$SPECIES = gsub(\"IBBHIMLJ\", \"HAMBI_1896\", depths$SPECIES)\n",
    "depths$SPECIES = gsub(\"IKBFOMHN\", \"HAMBI_1923\", depths$SPECIES)\n",
    "depths$SPECIES = gsub(\"FGMDJBJE\", \"HAMBI_1966\", depths$SPECIES)\n",
    "depths$SPECIES = gsub(\"ABNHBPOL\", \"HAMBI_1972\", depths$SPECIES)\n",
    "depths$SPECIES = gsub(\"LPGKLAMA\", \"HAMBI_1977\", depths$SPECIES)\n",
    "depths$SPECIES = gsub(\"DDABIBKJ\", \"HAMBI_1988\", depths$SPECIES)\n",
    "depths$SPECIES = gsub(\"EJMNOJEN\", \"HAMBI_1992\", depths$SPECIES)\n",
    "depths$SPECIES = gsub(\"BPHLMDMA\", \"HAMBI_2159\", depths$SPECIES)\n",
    "depths$SPECIES = gsub(\"JMKNMFKB\", \"HAMBI_216\", depths$SPECIES)\n",
    "depths$SPECIES = gsub(\"MEJPDLNM\", \"HAMBI_2160\", depths$SPECIES)\n",
    "depths$SPECIES = gsub(\"HBKMOOGJ\", \"HAMBI_2164\", depths$SPECIES)\n",
    "depths$SPECIES = gsub(\"CDGJPFOH\", \"HAMBI_2443\", depths$SPECIES)\n",
    "depths$SPECIES = gsub(\"ODLGDGCB\", \"HAMBI_2467\", depths$SPECIES)\n",
    "depths$SPECIES = gsub(\"BNKCIJAK\", \"HAMBI_2494\", depths$SPECIES)\n",
    "depths$SPECIES = gsub(\"OJCBDLJO\", \"HAMBI_262\", depths$SPECIES)\n",
    "depths$SPECIES = gsub(\"DPMDEPGB\", \"HAMBI_2659\", depths$SPECIES)\n",
    "depths$SPECIES = gsub(\"CBFNKHCI\", \"HAMBI_2792\", depths$SPECIES)\n",
    "depths$SPECIES = gsub(\"PPBPPCPG\", \"HAMBI_2948\", depths$SPECIES)\n",
    "depths$SPECIES = gsub(\"JHKIHDGE\", \"HAMBI_3031\", depths$SPECIES)\n",
    "depths$SPECIES = gsub(\"CKLFCLNC\", \"HAMBI_3172\", depths$SPECIES)\n",
    "depths$SPECIES = gsub(\"MHFJDPFK\", \"HAMBI_3237\", depths$SPECIES)\n",
    "depths$SPECIES = gsub(\"NHMKOMBD\", \"HAMBI_403\", depths$SPECIES)\n",
    "depths$SPECIES = gsub(\"AMIEGGJA\", \"HAMBI_6\", depths$SPECIES)\n",
    "depths$SPECIES = gsub(\"GDIGBBFK\", \"HAMBI_97\", depths$SPECIES)\n",
    "\n",
    "unique(depths$SPECIES)\n",
    "head(depths)"
   ]
  },
  {
   "cell_type": "code",
   "execution_count": 10,
   "metadata": {},
   "outputs": [
    {
     "data": {
      "text/html": [
       "<ol class=list-inline>\n",
       "\t<li>131371</li>\n",
       "\t<li>61</li>\n",
       "</ol>\n"
      ],
      "text/latex": [
       "\\begin{enumerate*}\n",
       "\\item 131371\n",
       "\\item 61\n",
       "\\end{enumerate*}\n"
      ],
      "text/markdown": [
       "1. 131371\n",
       "2. 61\n",
       "\n",
       "\n"
      ],
      "text/plain": [
       "[1] 131371     61"
      ]
     },
     "metadata": {},
     "output_type": "display_data"
    }
   ],
   "source": [
    "# Add depth column to variants\n",
    "\n",
    "tot_depth = rowSums(depths[, 13:60], na.rm = T)\n",
    "variants$tot_depth = tot_depth\n",
    "dim(variants)"
   ]
  },
  {
   "cell_type": "code",
   "execution_count": 11,
   "metadata": {},
   "outputs": [
    {
     "data": {
      "text/plain": [
       "\n",
       " HAMBI_105 HAMBI_1287 HAMBI_1874 HAMBI_1875 HAMBI_1896 HAMBI_1972 HAMBI_1977 \n",
       "        57        214         40        186        298        311        653 \n",
       "HAMBI_2443 HAMBI_2659 HAMBI_3031 HAMBI_3172  HAMBI_403    HAMBI_6 \n",
       "        62        111         99        283     128808        249 "
      ]
     },
     "metadata": {},
     "output_type": "display_data"
    }
   ],
   "source": [
    "# Inspect variant counts per species\n",
    "\n",
    "table(variants$SPECIES) # other species have max. 653 variants while HAMBI 403 has over 120k variants"
   ]
  },
  {
   "cell_type": "code",
   "execution_count": 12,
   "metadata": {},
   "outputs": [],
   "source": [
    "# Remove HAMBI 403 which likely has an unsuitable reference genome (taken from database based on strain identity)\n",
    "\n",
    "variants = variants[variants$SPECIES != \"HAMBI_403\",]"
   ]
  },
  {
   "cell_type": "code",
   "execution_count": 13,
   "metadata": {},
   "outputs": [
    {
     "data": {
      "text/html": [
       "<table>\n",
       "<thead><tr><th scope=col>SPECIES</th><th scope=col>CHROM</th><th scope=col>POS</th><th scope=col>REF</th><th scope=col>ALT</th><th scope=col>TYPE</th><th scope=col>EFFECT</th><th scope=col>IMPACT</th><th scope=col>GENE</th><th scope=col>GENEID</th><th scope=col>⋯</th><th scope=col>T8_AB16_I1_REP2</th><th scope=col>T8_AB16_I1_REP3</th><th scope=col>T8_AB4_I0_REP1</th><th scope=col>T8_AB4_I0_REP2</th><th scope=col>T8_AB4_I0_REP3</th><th scope=col>T8_AB4_I1_REP1</th><th scope=col>T8_AB4_I1_REP2</th><th scope=col>T8_AB4_I1_REP3</th><th scope=col>tot_depth</th><th scope=col>non_na_obs</th></tr></thead>\n",
       "<tbody>\n",
       "\t<tr><td>HAMBI_1972                         </td><td>ABNHBPOL_1                         </td><td> 28988                             </td><td>C                                  </td><td>A                                  </td><td>snp                                </td><td>missense_variant                   </td><td>MODERATE                           </td><td>carB                               </td><td>ABNHBPOL_00028                     </td><td>⋯                                  </td><td>NA                                 </td><td>NA                                 </td><td>0.6666667                          </td><td>       NA                          </td><td>       NA                          </td><td>       NA                          </td><td>       NA                          </td><td>   NA                              </td><td>  3                                </td><td> 1                                 </td></tr>\n",
       "\t<tr><td>HAMBI_1972                         </td><td>ABNHBPOL_1                         </td><td> 59337                             </td><td>A                                  </td><td>G                                  </td><td>snp                                </td><td>missense_variant                   </td><td>MODERATE                           </td><td>bepC                               </td><td>ABNHBPOL_00049                     </td><td>⋯                                  </td><td>NA                                 </td><td>NA                                 </td><td>       NA                          </td><td>       NA                          </td><td>       NA                          </td><td>       NA                          </td><td>0.6666667                          </td><td>   NA                              </td><td>  3                                </td><td> 1                                 </td></tr>\n",
       "\t<tr><td>HAMBI_1972                         </td><td>ABNHBPOL_1                         </td><td> 64476                             </td><td>A                                  </td><td>G                                  </td><td>snp                                </td><td>synonymous_variant                 </td><td>LOW                                </td><td>cya                                </td><td>ABNHBPOL_00052                     </td><td>⋯                                  </td><td>NA                                 </td><td>NA                                 </td><td>       NA                          </td><td>0.5681818                          </td><td>       NA                          </td><td>       NA                          </td><td>       NA                          </td><td>   NA                              </td><td>415                                </td><td>11                                 </td></tr>\n",
       "\t<tr><td>HAMBI_1972                         </td><td>ABNHBPOL_1                         </td><td> 64821                             </td><td>C                                  </td><td>T                                  </td><td>snp                                </td><td>synonymous_variant                 </td><td>LOW                                </td><td>cya                                </td><td>ABNHBPOL_00052                     </td><td>⋯                                  </td><td>NA                                 </td><td>NA                                 </td><td>0.6875000                          </td><td>0.7500000                          </td><td>0.9375000                          </td><td>0.8421053                          </td><td>1.0000000                          </td><td>0.875                              </td><td>527                                </td><td>34                                 </td></tr>\n",
       "\t<tr><td>HAMBI_1972                                            </td><td>ABNHBPOL_1                                            </td><td> 64871                                                </td><td>CCAACGATGATG                                          </td><td>CGGTGAGCGACGTCAAC                                     </td><td>complex                                               </td><td>frameshift_variant&amp;missense_variant               </td><td><span style=white-space:pre-wrap>HIGH    </span>      </td><td><span style=white-space:pre-wrap>cya           </span></td><td>ABNHBPOL_00052                                        </td><td>⋯                                                     </td><td>NA                                                    </td><td>NA                                                    </td><td><span style=white-space:pre-wrap>       NA</span>     </td><td><span style=white-space:pre-wrap>       NA</span>     </td><td>0.8333333                                             </td><td><span style=white-space:pre-wrap>       NA</span>     </td><td><span style=white-space:pre-wrap>       NA</span>     </td><td><span style=white-space:pre-wrap>   NA</span>         </td><td><span style=white-space:pre-wrap>  6</span>           </td><td> 1                                                    </td></tr>\n",
       "\t<tr><td>HAMBI_1972                         </td><td>ABNHBPOL_1                         </td><td>130054                             </td><td>G                                  </td><td>T                                  </td><td>snp                                </td><td>missense_variant                   </td><td>MODERATE                           </td><td>ABNHBPOL_00101                     </td><td>ABNHBPOL_00101                     </td><td>⋯                                  </td><td>NA                                 </td><td>NA                                 </td><td>       NA                          </td><td>       NA                          </td><td>       NA                          </td><td>       NA                          </td><td>       NA                          </td><td>   NA                              </td><td>  4                                </td><td> 1                                 </td></tr>\n",
       "</tbody>\n",
       "</table>\n"
      ],
      "text/latex": [
       "\\begin{tabular}{r|llllllllllllllllllllllllllllllllllllllllllllllllllllllllllllll}\n",
       " SPECIES & CHROM & POS & REF & ALT & TYPE & EFFECT & IMPACT & GENE & GENEID & ⋯ & T8\\_AB16\\_I1\\_REP2 & T8\\_AB16\\_I1\\_REP3 & T8\\_AB4\\_I0\\_REP1 & T8\\_AB4\\_I0\\_REP2 & T8\\_AB4\\_I0\\_REP3 & T8\\_AB4\\_I1\\_REP1 & T8\\_AB4\\_I1\\_REP2 & T8\\_AB4\\_I1\\_REP3 & tot\\_depth & non\\_na\\_obs\\\\\n",
       "\\hline\n",
       "\t HAMBI\\_1972                          & ABNHBPOL\\_1                          &  28988                                & C                                     & A                                     & snp                                   & missense\\_variant                    & MODERATE                              & carB                                  & ABNHBPOL\\_00028                      & ⋯                                     & NA                                    & NA                                    & 0.6666667                             &        NA                             &        NA                             &        NA                             &        NA                             &    NA                                 &   3                                   &  1                                   \\\\\n",
       "\t HAMBI\\_1972                          & ABNHBPOL\\_1                          &  59337                                & A                                     & G                                     & snp                                   & missense\\_variant                    & MODERATE                              & bepC                                  & ABNHBPOL\\_00049                      & ⋯                                     & NA                                    & NA                                    &        NA                             &        NA                             &        NA                             &        NA                             & 0.6666667                             &    NA                                 &   3                                   &  1                                   \\\\\n",
       "\t HAMBI\\_1972                          & ABNHBPOL\\_1                          &  64476                                & A                                     & G                                     & snp                                   & synonymous\\_variant                  & LOW                                   & cya                                   & ABNHBPOL\\_00052                      & ⋯                                     & NA                                    & NA                                    &        NA                             & 0.5681818                             &        NA                             &        NA                             &        NA                             &    NA                                 & 415                                   & 11                                   \\\\\n",
       "\t HAMBI\\_1972                          & ABNHBPOL\\_1                          &  64821                                & C                                     & T                                     & snp                                   & synonymous\\_variant                  & LOW                                   & cya                                   & ABNHBPOL\\_00052                      & ⋯                                     & NA                                    & NA                                    & 0.6875000                             & 0.7500000                             & 0.9375000                             & 0.8421053                             & 1.0000000                             & 0.875                                 & 527                                   & 34                                   \\\\\n",
       "\t HAMBI\\_1972                              & ABNHBPOL\\_1                              &  64871                                    & CCAACGATGATG                              & CGGTGAGCGACGTCAAC                         & complex                                   & frameshift\\_variant\\&missense\\_variant & HIGH                                      & cya                                       & ABNHBPOL\\_00052                          & ⋯                                         & NA                                        & NA                                        &        NA                                 &        NA                                 & 0.8333333                                 &        NA                                 &        NA                                 &    NA                                     &   6                                       &  1                                       \\\\\n",
       "\t HAMBI\\_1972                          & ABNHBPOL\\_1                          & 130054                                & G                                     & T                                     & snp                                   & missense\\_variant                    & MODERATE                              & ABNHBPOL\\_00101                      & ABNHBPOL\\_00101                      & ⋯                                     & NA                                    & NA                                    &        NA                             &        NA                             &        NA                             &        NA                             &        NA                             &    NA                                 &   4                                   &  1                                   \\\\\n",
       "\\end{tabular}\n"
      ],
      "text/markdown": [
       "\n",
       "SPECIES | CHROM | POS | REF | ALT | TYPE | EFFECT | IMPACT | GENE | GENEID | ⋯ | T8_AB16_I1_REP2 | T8_AB16_I1_REP3 | T8_AB4_I0_REP1 | T8_AB4_I0_REP2 | T8_AB4_I0_REP3 | T8_AB4_I1_REP1 | T8_AB4_I1_REP2 | T8_AB4_I1_REP3 | tot_depth | non_na_obs | \n",
       "|---|---|---|---|---|---|\n",
       "| HAMBI_1972                          | ABNHBPOL_1                          |  28988                              | C                                   | A                                   | snp                                 | missense_variant                    | MODERATE                            | carB                                | ABNHBPOL_00028                      | ⋯                                   | NA                                  | NA                                  | 0.6666667                           |        NA                           |        NA                           |        NA                           |        NA                           |    NA                               |   3                                 |  1                                  | \n",
       "| HAMBI_1972                          | ABNHBPOL_1                          |  59337                              | A                                   | G                                   | snp                                 | missense_variant                    | MODERATE                            | bepC                                | ABNHBPOL_00049                      | ⋯                                   | NA                                  | NA                                  |        NA                           |        NA                           |        NA                           |        NA                           | 0.6666667                           |    NA                               |   3                                 |  1                                  | \n",
       "| HAMBI_1972                          | ABNHBPOL_1                          |  64476                              | A                                   | G                                   | snp                                 | synonymous_variant                  | LOW                                 | cya                                 | ABNHBPOL_00052                      | ⋯                                   | NA                                  | NA                                  |        NA                           | 0.5681818                           |        NA                           |        NA                           |        NA                           |    NA                               | 415                                 | 11                                  | \n",
       "| HAMBI_1972                          | ABNHBPOL_1                          |  64821                              | C                                   | T                                   | snp                                 | synonymous_variant                  | LOW                                 | cya                                 | ABNHBPOL_00052                      | ⋯                                   | NA                                  | NA                                  | 0.6875000                           | 0.7500000                           | 0.9375000                           | 0.8421053                           | 1.0000000                           | 0.875                               | 527                                 | 34                                  | \n",
       "| HAMBI_1972                          | ABNHBPOL_1                          |  64871                              | CCAACGATGATG                        | CGGTGAGCGACGTCAAC                   | complex                             | frameshift_variant&missense_variant | HIGH                                | cya                                 | ABNHBPOL_00052                      | ⋯                                   | NA                                  | NA                                  |        NA                           |        NA                           | 0.8333333                           |        NA                           |        NA                           |    NA                               |   6                                 |  1                                  | \n",
       "| HAMBI_1972                          | ABNHBPOL_1                          | 130054                              | G                                   | T                                   | snp                                 | missense_variant                    | MODERATE                            | ABNHBPOL_00101                      | ABNHBPOL_00101                      | ⋯                                   | NA                                  | NA                                  |        NA                           |        NA                           |        NA                           |        NA                           |        NA                           |    NA                               |   4                                 |  1                                  | \n",
       "\n",
       "\n"
      ],
      "text/plain": [
       "  SPECIES    CHROM      POS    REF          ALT               TYPE   \n",
       "1 HAMBI_1972 ABNHBPOL_1  28988 C            A                 snp    \n",
       "2 HAMBI_1972 ABNHBPOL_1  59337 A            G                 snp    \n",
       "3 HAMBI_1972 ABNHBPOL_1  64476 A            G                 snp    \n",
       "4 HAMBI_1972 ABNHBPOL_1  64821 C            T                 snp    \n",
       "5 HAMBI_1972 ABNHBPOL_1  64871 CCAACGATGATG CGGTGAGCGACGTCAAC complex\n",
       "6 HAMBI_1972 ABNHBPOL_1 130054 G            T                 snp    \n",
       "  EFFECT                              IMPACT   GENE           GENEID         ⋯\n",
       "1 missense_variant                    MODERATE carB           ABNHBPOL_00028 ⋯\n",
       "2 missense_variant                    MODERATE bepC           ABNHBPOL_00049 ⋯\n",
       "3 synonymous_variant                  LOW      cya            ABNHBPOL_00052 ⋯\n",
       "4 synonymous_variant                  LOW      cya            ABNHBPOL_00052 ⋯\n",
       "5 frameshift_variant&missense_variant HIGH     cya            ABNHBPOL_00052 ⋯\n",
       "6 missense_variant                    MODERATE ABNHBPOL_00101 ABNHBPOL_00101 ⋯\n",
       "  T8_AB16_I1_REP2 T8_AB16_I1_REP3 T8_AB4_I0_REP1 T8_AB4_I0_REP2 T8_AB4_I0_REP3\n",
       "1 NA              NA              0.6666667             NA             NA     \n",
       "2 NA              NA                     NA             NA             NA     \n",
       "3 NA              NA                     NA      0.5681818             NA     \n",
       "4 NA              NA              0.6875000      0.7500000      0.9375000     \n",
       "5 NA              NA                     NA             NA      0.8333333     \n",
       "6 NA              NA                     NA             NA             NA     \n",
       "  T8_AB4_I1_REP1 T8_AB4_I1_REP2 T8_AB4_I1_REP3 tot_depth non_na_obs\n",
       "1        NA             NA         NA            3        1        \n",
       "2        NA      0.6666667         NA            3        1        \n",
       "3        NA             NA         NA          415       11        \n",
       "4 0.8421053      1.0000000      0.875          527       34        \n",
       "5        NA             NA         NA            6        1        \n",
       "6        NA             NA         NA            4        1        "
      ]
     },
     "metadata": {},
     "output_type": "display_data"
    }
   ],
   "source": [
    "# Count the number of observations for each variant\n",
    "\n",
    "variants2 = variants[, 13:60]\n",
    "variants2 = ifelse(is.na(variants2), 0, 1)\n",
    "non_na_obs = rowSums(variants2)\n",
    "variants$non_na_obs = non_na_obs\n",
    "head(variants)"
   ]
  },
  {
   "cell_type": "code",
   "execution_count": 14,
   "metadata": {},
   "outputs": [
    {
     "data": {
      "text/html": [
       "<table>\n",
       "<thead><tr><th scope=col>SPECIES</th><th scope=col>CHROM</th><th scope=col>POS</th><th scope=col>REF</th><th scope=col>ALT</th><th scope=col>TYPE</th><th scope=col>EFFECT</th><th scope=col>IMPACT</th><th scope=col>GENE</th><th scope=col>GENEID</th><th scope=col>⋯</th><th scope=col>T8_AB16_I1_REP3</th><th scope=col>T8_AB4_I0_REP1</th><th scope=col>T8_AB4_I0_REP2</th><th scope=col>T8_AB4_I0_REP3</th><th scope=col>T8_AB4_I1_REP1</th><th scope=col>T8_AB4_I1_REP2</th><th scope=col>T8_AB4_I1_REP3</th><th scope=col>tot_depth</th><th scope=col>non_na_obs</th><th scope=col>N_sample</th></tr></thead>\n",
       "<tbody>\n",
       "\t<tr><td>HAMBI_105            </td><td>IDIPBEOP_1           </td><td>1145423              </td><td>ACGGGCG              </td><td>GCGAGCA              </td><td>complex              </td><td>synonymous_variant   </td><td>LOW                  </td><td>tufA                 </td><td>IDIPBEOP_01165       </td><td>⋯                    </td><td>NA                   </td><td>NA                   </td><td>NA                   </td><td>NA                   </td><td>NA                   </td><td>NA                   </td><td>NA                   </td><td> 9                   </td><td>2                    </td><td>5                    </td></tr>\n",
       "\t<tr><td>HAMBI_105            </td><td>IDIPBEOP_6           </td><td> 209669              </td><td>T                    </td><td>G                    </td><td>snp                  </td><td>missense_variant     </td><td>MODERATE             </td><td>cra                  </td><td>IDIPBEOP_03720       </td><td>⋯                    </td><td>NA                   </td><td>NA                   </td><td>NA                   </td><td>NA                   </td><td>NA                   </td><td>NA                   </td><td>NA                   </td><td> 6                   </td><td>1                    </td><td>5                    </td></tr>\n",
       "\t<tr><td>HAMBI_105            </td><td>IDIPBEOP_6           </td><td> 236776              </td><td>A                    </td><td>T                    </td><td>snp                  </td><td>synonymous_variant   </td><td>LOW                  </td><td>cya                  </td><td>IDIPBEOP_03748       </td><td>⋯                    </td><td>NA                   </td><td>NA                   </td><td>NA                   </td><td>NA                   </td><td>NA                   </td><td>NA                   </td><td>NA                   </td><td>25                   </td><td>3                    </td><td>5                    </td></tr>\n",
       "\t<tr><td>HAMBI_105            </td><td>IDIPBEOP_32          </td><td>      3              </td><td>CTC                  </td><td>TGCAACTGTGCTC        </td><td>complex              </td><td>upstream_gene_variant</td><td>MODIFIER             </td><td>IDIPBEOP_05113       </td><td>IDIPBEOP_05113       </td><td>⋯                    </td><td>NA                   </td><td>NA                   </td><td>NA                   </td><td>NA                   </td><td>NA                   </td><td>NA                   </td><td>NA                   </td><td> 2                   </td><td>1                    </td><td>5                    </td></tr>\n",
       "\t<tr><td>HAMBI_105            </td><td>IDIPBEOP_6           </td><td> 236801              </td><td>G                    </td><td>A                    </td><td>snp                  </td><td>missense_variant     </td><td>MODERATE             </td><td>cya                  </td><td>IDIPBEOP_03748       </td><td>⋯                    </td><td>NA                   </td><td>NA                   </td><td>NA                   </td><td>NA                   </td><td>NA                   </td><td>NA                   </td><td>NA                   </td><td> 5                   </td><td>1                    </td><td>5                    </td></tr>\n",
       "\t<tr><td>HAMBI_105            </td><td>IDIPBEOP_6           </td><td> 236246              </td><td>A                    </td><td>G                    </td><td>snp                  </td><td>missense_variant     </td><td>MODERATE             </td><td>cya                  </td><td>IDIPBEOP_03748       </td><td>⋯                    </td><td>NA                   </td><td>NA                   </td><td>NA                   </td><td>NA                   </td><td>NA                   </td><td>NA                   </td><td>NA                   </td><td>21                   </td><td>2                    </td><td>5                    </td></tr>\n",
       "</tbody>\n",
       "</table>\n"
      ],
      "text/latex": [
       "\\begin{tabular}{r|lllllllllllllllllllllllllllllllllllllllllllllllllllllllllllllll}\n",
       " SPECIES & CHROM & POS & REF & ALT & TYPE & EFFECT & IMPACT & GENE & GENEID & ⋯ & T8\\_AB16\\_I1\\_REP3 & T8\\_AB4\\_I0\\_REP1 & T8\\_AB4\\_I0\\_REP2 & T8\\_AB4\\_I0\\_REP3 & T8\\_AB4\\_I1\\_REP1 & T8\\_AB4\\_I1\\_REP2 & T8\\_AB4\\_I1\\_REP3 & tot\\_depth & non\\_na\\_obs & N\\_sample\\\\\n",
       "\\hline\n",
       "\t HAMBI\\_105             & IDIPBEOP\\_1            & 1145423                 & ACGGGCG                 & GCGAGCA                 & complex                 & synonymous\\_variant    & LOW                     & tufA                    & IDIPBEOP\\_01165        & ⋯                       & NA                      & NA                      & NA                      & NA                      & NA                      & NA                      & NA                      &  9                      & 2                       & 5                      \\\\\n",
       "\t HAMBI\\_105             & IDIPBEOP\\_6            &  209669                 & T                       & G                       & snp                     & missense\\_variant      & MODERATE                & cra                     & IDIPBEOP\\_03720        & ⋯                       & NA                      & NA                      & NA                      & NA                      & NA                      & NA                      & NA                      &  6                      & 1                       & 5                      \\\\\n",
       "\t HAMBI\\_105             & IDIPBEOP\\_6            &  236776                 & A                       & T                       & snp                     & synonymous\\_variant    & LOW                     & cya                     & IDIPBEOP\\_03748        & ⋯                       & NA                      & NA                      & NA                      & NA                      & NA                      & NA                      & NA                      & 25                      & 3                       & 5                      \\\\\n",
       "\t HAMBI\\_105               & IDIPBEOP\\_32             &       3                   & CTC                       & TGCAACTGTGCTC             & complex                   & upstream\\_gene\\_variant & MODIFIER                  & IDIPBEOP\\_05113          & IDIPBEOP\\_05113          & ⋯                         & NA                        & NA                        & NA                        & NA                        & NA                        & NA                        & NA                        &  2                        & 1                         & 5                        \\\\\n",
       "\t HAMBI\\_105             & IDIPBEOP\\_6            &  236801                 & G                       & A                       & snp                     & missense\\_variant      & MODERATE                & cya                     & IDIPBEOP\\_03748        & ⋯                       & NA                      & NA                      & NA                      & NA                      & NA                      & NA                      & NA                      &  5                      & 1                       & 5                      \\\\\n",
       "\t HAMBI\\_105             & IDIPBEOP\\_6            &  236246                 & A                       & G                       & snp                     & missense\\_variant      & MODERATE                & cya                     & IDIPBEOP\\_03748        & ⋯                       & NA                      & NA                      & NA                      & NA                      & NA                      & NA                      & NA                      & 21                      & 2                       & 5                      \\\\\n",
       "\\end{tabular}\n"
      ],
      "text/markdown": [
       "\n",
       "SPECIES | CHROM | POS | REF | ALT | TYPE | EFFECT | IMPACT | GENE | GENEID | ⋯ | T8_AB16_I1_REP3 | T8_AB4_I0_REP1 | T8_AB4_I0_REP2 | T8_AB4_I0_REP3 | T8_AB4_I1_REP1 | T8_AB4_I1_REP2 | T8_AB4_I1_REP3 | tot_depth | non_na_obs | N_sample | \n",
       "|---|---|---|---|---|---|\n",
       "| HAMBI_105             | IDIPBEOP_1            | 1145423               | ACGGGCG               | GCGAGCA               | complex               | synonymous_variant    | LOW                   | tufA                  | IDIPBEOP_01165        | ⋯                     | NA                    | NA                    | NA                    | NA                    | NA                    | NA                    | NA                    |  9                    | 2                     | 5                     | \n",
       "| HAMBI_105             | IDIPBEOP_6            |  209669               | T                     | G                     | snp                   | missense_variant      | MODERATE              | cra                   | IDIPBEOP_03720        | ⋯                     | NA                    | NA                    | NA                    | NA                    | NA                    | NA                    | NA                    |  6                    | 1                     | 5                     | \n",
       "| HAMBI_105             | IDIPBEOP_6            |  236776               | A                     | T                     | snp                   | synonymous_variant    | LOW                   | cya                   | IDIPBEOP_03748        | ⋯                     | NA                    | NA                    | NA                    | NA                    | NA                    | NA                    | NA                    | 25                    | 3                     | 5                     | \n",
       "| HAMBI_105             | IDIPBEOP_32           |       3               | CTC                   | TGCAACTGTGCTC         | complex               | upstream_gene_variant | MODIFIER              | IDIPBEOP_05113        | IDIPBEOP_05113        | ⋯                     | NA                    | NA                    | NA                    | NA                    | NA                    | NA                    | NA                    |  2                    | 1                     | 5                     | \n",
       "| HAMBI_105             | IDIPBEOP_6            |  236801               | G                     | A                     | snp                   | missense_variant      | MODERATE              | cya                   | IDIPBEOP_03748        | ⋯                     | NA                    | NA                    | NA                    | NA                    | NA                    | NA                    | NA                    |  5                    | 1                     | 5                     | \n",
       "| HAMBI_105             | IDIPBEOP_6            |  236246               | A                     | G                     | snp                   | missense_variant      | MODERATE              | cya                   | IDIPBEOP_03748        | ⋯                     | NA                    | NA                    | NA                    | NA                    | NA                    | NA                    | NA                    | 21                    | 2                     | 5                     | \n",
       "\n",
       "\n"
      ],
      "text/plain": [
       "  SPECIES   CHROM       POS     REF     ALT           TYPE   \n",
       "1 HAMBI_105 IDIPBEOP_1  1145423 ACGGGCG GCGAGCA       complex\n",
       "2 HAMBI_105 IDIPBEOP_6   209669 T       G             snp    \n",
       "3 HAMBI_105 IDIPBEOP_6   236776 A       T             snp    \n",
       "4 HAMBI_105 IDIPBEOP_32       3 CTC     TGCAACTGTGCTC complex\n",
       "5 HAMBI_105 IDIPBEOP_6   236801 G       A             snp    \n",
       "6 HAMBI_105 IDIPBEOP_6   236246 A       G             snp    \n",
       "  EFFECT                IMPACT   GENE           GENEID         ⋯\n",
       "1 synonymous_variant    LOW      tufA           IDIPBEOP_01165 ⋯\n",
       "2 missense_variant      MODERATE cra            IDIPBEOP_03720 ⋯\n",
       "3 synonymous_variant    LOW      cya            IDIPBEOP_03748 ⋯\n",
       "4 upstream_gene_variant MODIFIER IDIPBEOP_05113 IDIPBEOP_05113 ⋯\n",
       "5 missense_variant      MODERATE cya            IDIPBEOP_03748 ⋯\n",
       "6 missense_variant      MODERATE cya            IDIPBEOP_03748 ⋯\n",
       "  T8_AB16_I1_REP3 T8_AB4_I0_REP1 T8_AB4_I0_REP2 T8_AB4_I0_REP3 T8_AB4_I1_REP1\n",
       "1 NA              NA             NA             NA             NA            \n",
       "2 NA              NA             NA             NA             NA            \n",
       "3 NA              NA             NA             NA             NA            \n",
       "4 NA              NA             NA             NA             NA            \n",
       "5 NA              NA             NA             NA             NA            \n",
       "6 NA              NA             NA             NA             NA            \n",
       "  T8_AB4_I1_REP2 T8_AB4_I1_REP3 tot_depth non_na_obs N_sample\n",
       "1 NA             NA              9        2          5       \n",
       "2 NA             NA              6        1          5       \n",
       "3 NA             NA             25        3          5       \n",
       "4 NA             NA              2        1          5       \n",
       "5 NA             NA              5        1          5       \n",
       "6 NA             NA             21        2          5       "
      ]
     },
     "metadata": {},
     "output_type": "display_data"
    }
   ],
   "source": [
    "# Count the number of samples per species with variant data\n",
    "\n",
    "a = unique(variants$SPECIES)\n",
    "N_sample = setNames(data.frame(matrix(ncol = 2, nrow = 0)), c(\"SPECIES\", \"N_sample\"))\n",
    "for(i in 1:length(a)){\n",
    "  b = colSums(variants[variants$SPECIES == a[i], 13:60], na.rm = T)\n",
    "  c = ifelse(b == 0 | is.na(b), 0, 1)\n",
    "  d = sum(c)\n",
    "  N_sample[i,\"SPECIES\"] = a[i]\n",
    "  N_sample[i, \"N_sample\"] = d\n",
    "}\n",
    "\n",
    "variants = merge(variants, N_sample, all.x = T)\n",
    "head(variants)"
   ]
  },
  {
   "cell_type": "code",
   "execution_count": 15,
   "metadata": {},
   "outputs": [
    {
     "name": "stderr",
     "output_type": "stream",
     "text": [
      "`stat_bin()` using `bins = 30`. Pick better value with `binwidth`.\n"
     ]
    },
    {
     "data": {},
     "metadata": {},
     "output_type": "display_data"
    },
    {
     "data": {
      "image/png": "[encoded data removed]",
      "text/plain": [
       "plot without title"
      ]
     },
     "metadata": {},
     "output_type": "display_data"
    }
   ],
   "source": [
    "# Count and visualize the proportion of samples with an observation\n",
    "\n",
    "variants$obs_prop = variants$non_na_obs / variants$N_sample\n",
    "\n",
    "p1 = ggplot(variants, aes(x=obs_prop)) +\n",
    "        geom_histogram() +\n",
    "        scale_x_continuous(breaks = seq(0, 1, len = 11))\n",
    "p1"
   ]
  },
  {
   "cell_type": "code",
   "execution_count": 16,
   "metadata": {},
   "outputs": [
    {
     "data": {
      "text/html": [
       "2482"
      ],
      "text/latex": [
       "2482"
      ],
      "text/markdown": [
       "2482"
      ],
      "text/plain": [
       "[1] 2482"
      ]
     },
     "metadata": {},
     "output_type": "display_data"
    }
   ],
   "source": [
    "# Let's remove 100 % variants as likely ancestral variants\n",
    "\n",
    "variants = variants[variants$obs_prop <= 0.99,]\n",
    "nrow(variants) # 2482 variants left"
   ]
  },
  {
   "cell_type": "code",
   "execution_count": 17,
   "metadata": {},
   "outputs": [
    {
     "data": {
      "text/html": [
       "<table>\n",
       "<thead><tr><th></th><th scope=col>SPECIES</th><th scope=col>CHROM</th><th scope=col>POS</th><th scope=col>REF</th><th scope=col>ALT</th><th scope=col>TYPE</th><th scope=col>EFFECT</th><th scope=col>IMPACT</th><th scope=col>GENE</th><th scope=col>GENEID</th><th scope=col>HGVS_C</th><th scope=col>HGVS_P</th><th scope=col>SAMPLE</th><th scope=col>FREQUENCY</th><th scope=col>TIME</th><th scope=col>AB</th><th scope=col>IM</th><th scope=col>REP</th></tr></thead>\n",
       "<tbody>\n",
       "\t<tr><th scope=row>81914</th><td>HAMBI_105                                                 </td><td>IDIPBEOP_1                                                </td><td><span style=white-space:pre-wrap>  42374</span>           </td><td>T                                                         </td><td>C                                                         </td><td>snp                                                       </td><td><span style=white-space:pre-wrap>missense_variant  </span></td><td>MODERATE                                                  </td><td>cysW_1                                                    </td><td>IDIPBEOP_00039                                            </td><td>c.461T&gt;C                                               </td><td>p.Ile154Thr                                               </td><td>T8_AB128_I1_REP1                                          </td><td>0.5000000                                                 </td><td> 8                                                        </td><td>128                                                       </td><td>1                                                         </td><td>1                                                         </td></tr>\n",
       "\t<tr><th scope=row>81913</th><td>HAMBI_105                                       </td><td>IDIPBEOP_1                                      </td><td> 836186                                         </td><td>C                                               </td><td>A                                               </td><td>snp                                             </td><td>synonymous_variant                              </td><td><span style=white-space:pre-wrap>LOW     </span></td><td><span style=white-space:pre-wrap>garB  </span>  </td><td>IDIPBEOP_00850                                  </td><td>c.1029G&gt;T                                    </td><td>p.Thr343Thr                                     </td><td>T8_AB128_I1_REP1                                </td><td>0.6666667                                       </td><td> 8                                              </td><td>128                                             </td><td>1                                               </td><td>1                                               </td></tr>\n",
       "\t<tr><th scope=row>81923</th><td>HAMBI_105                                                 </td><td>IDIPBEOP_1                                                </td><td> 902934                                                   </td><td>C                                                         </td><td>T                                                         </td><td>snp                                                       </td><td><span style=white-space:pre-wrap>missense_variant  </span></td><td>MODERATE                                                  </td><td><span style=white-space:pre-wrap>btrK  </span>            </td><td>IDIPBEOP_00911                                            </td><td>c.185C&gt;T                                               </td><td>p.Ala62Val                                                </td><td>T8_AB128_I1_REP1                                          </td><td>0.6666667                                                 </td><td> 8                                                        </td><td>128                                                       </td><td>1                                                         </td><td>1                                                         </td></tr>\n",
       "\t<tr><th scope=row>14919</th><td>HAMBI_105                                                 </td><td>IDIPBEOP_1                                                </td><td> 942441                                                   </td><td>A                                                         </td><td>C                                                         </td><td>snp                                                       </td><td><span style=white-space:pre-wrap>missense_variant  </span></td><td>MODERATE                                                  </td><td><span style=white-space:pre-wrap>erpA  </span>            </td><td>IDIPBEOP_00947                                            </td><td><span style=white-space:pre-wrap>c.8A&gt;C   </span>      </td><td><span style=white-space:pre-wrap>p.Asn3Thr  </span>       </td><td>T12_AB128_I0_REP1                                         </td><td>0.6666667                                                 </td><td>12                                                        </td><td>128                                                       </td><td>0                                                         </td><td>1                                                         </td></tr>\n",
       "\t<tr><th scope=row>86898</th><td>HAMBI_105                                       </td><td>IDIPBEOP_1                                      </td><td>1009493                                         </td><td>C                                               </td><td>T                                               </td><td>snp                                             </td><td>synonymous_variant                              </td><td><span style=white-space:pre-wrap>LOW     </span></td><td><span style=white-space:pre-wrap>recG  </span>  </td><td>IDIPBEOP_01017                                  </td><td>c.282C&gt;T                                     </td><td>p.Phe94Phe                                      </td><td>T8_AB128_I1_REP3                                </td><td>0.6666667                                       </td><td> 8                                              </td><td>128                                             </td><td>1                                               </td><td>3                                               </td></tr>\n",
       "\t<tr><th scope=row>14921</th><td>HAMBI_105                                       </td><td>IDIPBEOP_1                                      </td><td>1144946                                         </td><td>A                                               </td><td>G                                               </td><td>snp                                             </td><td>synonymous_variant                              </td><td><span style=white-space:pre-wrap>LOW     </span></td><td><span style=white-space:pre-wrap>tufA  </span>  </td><td>IDIPBEOP_01165                                  </td><td>c.834T&gt;C                                     </td><td>p.Gly278Gly                                     </td><td>T12_AB128_I0_REP1                               </td><td>0.7500000                                       </td><td>12                                              </td><td>128                                             </td><td>0                                               </td><td>1                                               </td></tr>\n",
       "</tbody>\n",
       "</table>\n"
      ],
      "text/latex": [
       "\\begin{tabular}{r|llllllllllllllllll}\n",
       "  & SPECIES & CHROM & POS & REF & ALT & TYPE & EFFECT & IMPACT & GENE & GENEID & HGVS\\_C & HGVS\\_P & SAMPLE & FREQUENCY & TIME & AB & IM & REP\\\\\n",
       "\\hline\n",
       "\t81914 & HAMBI\\_105             & IDIPBEOP\\_1            &   42374                 & T                       & C                       & snp                     & missense\\_variant      & MODERATE                & cysW\\_1                & IDIPBEOP\\_00039        & c.461T>C                & p.Ile154Thr             & T8\\_AB128\\_I1\\_REP1  & 0.5000000               &  8                      & 128                     & 1                       & 1                      \\\\\n",
       "\t81913 & HAMBI\\_105             & IDIPBEOP\\_1            &  836186                 & C                       & A                       & snp                     & synonymous\\_variant    & LOW                     & garB                    & IDIPBEOP\\_00850        & c.1029G>T               & p.Thr343Thr             & T8\\_AB128\\_I1\\_REP1  & 0.6666667               &  8                      & 128                     & 1                       & 1                      \\\\\n",
       "\t81923 & HAMBI\\_105             & IDIPBEOP\\_1            &  902934                 & C                       & T                       & snp                     & missense\\_variant      & MODERATE                & btrK                    & IDIPBEOP\\_00911        & c.185C>T                & p.Ala62Val              & T8\\_AB128\\_I1\\_REP1  & 0.6666667               &  8                      & 128                     & 1                       & 1                      \\\\\n",
       "\t14919 & HAMBI\\_105             & IDIPBEOP\\_1            &  942441                 & A                       & C                       & snp                     & missense\\_variant      & MODERATE                & erpA                    & IDIPBEOP\\_00947        & c.8A>C                  & p.Asn3Thr               & T12\\_AB128\\_I0\\_REP1 & 0.6666667               & 12                      & 128                     & 0                       & 1                      \\\\\n",
       "\t86898 & HAMBI\\_105             & IDIPBEOP\\_1            & 1009493                 & C                       & T                       & snp                     & synonymous\\_variant    & LOW                     & recG                    & IDIPBEOP\\_01017        & c.282C>T                & p.Phe94Phe              & T8\\_AB128\\_I1\\_REP3  & 0.6666667               &  8                      & 128                     & 1                       & 3                      \\\\\n",
       "\t14921 & HAMBI\\_105             & IDIPBEOP\\_1            & 1144946                 & A                       & G                       & snp                     & synonymous\\_variant    & LOW                     & tufA                    & IDIPBEOP\\_01165        & c.834T>C                & p.Gly278Gly             & T12\\_AB128\\_I0\\_REP1 & 0.7500000               & 12                      & 128                     & 0                       & 1                      \\\\\n",
       "\\end{tabular}\n"
      ],
      "text/markdown": [
       "\n",
       "| <!--/--> | SPECIES | CHROM | POS | REF | ALT | TYPE | EFFECT | IMPACT | GENE | GENEID | HGVS_C | HGVS_P | SAMPLE | FREQUENCY | TIME | AB | IM | REP | \n",
       "|---|---|---|---|---|---|\n",
       "| 81914 | HAMBI_105          | IDIPBEOP_1         |   42374            | T                  | C                  | snp                | missense_variant   | MODERATE           | cysW_1             | IDIPBEOP_00039     | c.461T>C           | p.Ile154Thr        | T8_AB128_I1_REP1   | 0.5000000          |  8                 | 128                | 1                  | 1                  | \n",
       "| 81913 | HAMBI_105          | IDIPBEOP_1         |  836186            | C                  | A                  | snp                | synonymous_variant | LOW                | garB               | IDIPBEOP_00850     | c.1029G>T          | p.Thr343Thr        | T8_AB128_I1_REP1   | 0.6666667          |  8                 | 128                | 1                  | 1                  | \n",
       "| 81923 | HAMBI_105          | IDIPBEOP_1         |  902934            | C                  | T                  | snp                | missense_variant   | MODERATE           | btrK               | IDIPBEOP_00911     | c.185C>T           | p.Ala62Val         | T8_AB128_I1_REP1   | 0.6666667          |  8                 | 128                | 1                  | 1                  | \n",
       "| 14919 | HAMBI_105          | IDIPBEOP_1         |  942441            | A                  | C                  | snp                | missense_variant   | MODERATE           | erpA               | IDIPBEOP_00947     | c.8A>C             | p.Asn3Thr          | T12_AB128_I0_REP1  | 0.6666667          | 12                 | 128                | 0                  | 1                  | \n",
       "| 86898 | HAMBI_105          | IDIPBEOP_1         | 1009493            | C                  | T                  | snp                | synonymous_variant | LOW                | recG               | IDIPBEOP_01017     | c.282C>T           | p.Phe94Phe         | T8_AB128_I1_REP3   | 0.6666667          |  8                 | 128                | 1                  | 3                  | \n",
       "| 14921 | HAMBI_105          | IDIPBEOP_1         | 1144946            | A                  | G                  | snp                | synonymous_variant | LOW                | tufA               | IDIPBEOP_01165     | c.834T>C           | p.Gly278Gly        | T12_AB128_I0_REP1  | 0.7500000          | 12                 | 128                | 0                  | 1                  | \n",
       "\n",
       "\n"
      ],
      "text/plain": [
       "      SPECIES   CHROM      POS     REF ALT TYPE EFFECT             IMPACT  \n",
       "81914 HAMBI_105 IDIPBEOP_1   42374 T   C   snp  missense_variant   MODERATE\n",
       "81913 HAMBI_105 IDIPBEOP_1  836186 C   A   snp  synonymous_variant LOW     \n",
       "81923 HAMBI_105 IDIPBEOP_1  902934 C   T   snp  missense_variant   MODERATE\n",
       "14919 HAMBI_105 IDIPBEOP_1  942441 A   C   snp  missense_variant   MODERATE\n",
       "86898 HAMBI_105 IDIPBEOP_1 1009493 C   T   snp  synonymous_variant LOW     \n",
       "14921 HAMBI_105 IDIPBEOP_1 1144946 A   G   snp  synonymous_variant LOW     \n",
       "      GENE   GENEID         HGVS_C    HGVS_P      SAMPLE            FREQUENCY\n",
       "81914 cysW_1 IDIPBEOP_00039 c.461T>C  p.Ile154Thr T8_AB128_I1_REP1  0.5000000\n",
       "81913 garB   IDIPBEOP_00850 c.1029G>T p.Thr343Thr T8_AB128_I1_REP1  0.6666667\n",
       "81923 btrK   IDIPBEOP_00911 c.185C>T  p.Ala62Val  T8_AB128_I1_REP1  0.6666667\n",
       "14919 erpA   IDIPBEOP_00947 c.8A>C    p.Asn3Thr   T12_AB128_I0_REP1 0.6666667\n",
       "86898 recG   IDIPBEOP_01017 c.282C>T  p.Phe94Phe  T8_AB128_I1_REP3  0.6666667\n",
       "14921 tufA   IDIPBEOP_01165 c.834T>C  p.Gly278Gly T12_AB128_I0_REP1 0.7500000\n",
       "      TIME AB  IM REP\n",
       "81914  8   128 1  1  \n",
       "81913  8   128 1  1  \n",
       "81923  8   128 1  1  \n",
       "14919 12   128 0  1  \n",
       "86898  8   128 1  3  \n",
       "14921 12   128 0  1  "
      ]
     },
     "metadata": {},
     "output_type": "display_data"
    }
   ],
   "source": [
    "# Reformat and add treatment information\n",
    "\n",
    "variants2 = melt(variants[,1:60], id.vars = c(\"SPECIES\",\"CHROM\",\"POS\",\"REF\",\"ALT\",\"TYPE\",\"EFFECT\",\"IMPACT\",\"GENE\",\"GENEID\",\"HGVS_C\",\"HGVS_P\"))\n",
    "colnames(variants2) =  c(\"SPECIES\",\"CHROM\",\"POS\",\"REF\",\"ALT\",\"TYPE\",\"EFFECT\",\"IMPACT\",\"GENE\",\"GENEID\",\"HGVS_C\",\"HGVS_P\", \"SAMPLE\", \"FREQUENCY\")\n",
    "variants2 = variants2[!is.na(variants2$FREQUENCY),]\n",
    "variants2 = variants2[order(variants2$SPECIES, variants2$CHROM, variants2$POS),]\n",
    "variants2$TIME = gsub(\"_AB.*\", \"\", variants2$SAMPLE)\n",
    "variants2$TIME = as.numeric(gsub(\"T\", \"\", variants2$TIME))\n",
    "variants2$AB = gsub(\".*_AB\", \"\", variants2$SAMPLE)\n",
    "variants2$AB = as.numeric(gsub(\"_I.*\", \"\", variants2$AB))\n",
    "variants2$IM = gsub(\".*_I\", \"\", variants2$SAMPLE)\n",
    "variants2$IM = as.factor(as.character(gsub(\"_REP.*\", \"\", variants2$IM)))\n",
    "variants2$REP = as.factor(as.character(gsub(\".*_REP\", \"\", variants2$SAMPLE)))\n",
    "head(variants2)"
   ]
  },
  {
   "cell_type": "code",
   "execution_count": 18,
   "metadata": {},
   "outputs": [
    {
     "data": {
      "text/html": [
       "<table>\n",
       "<thead><tr><th scope=col>SPECIES</th><th scope=col>TIME</th><th scope=col>AB</th><th scope=col>IM</th><th scope=col>REP</th><th scope=col>CHROM</th><th scope=col>POS</th><th scope=col>REF</th><th scope=col>ALT</th><th scope=col>TYPE</th><th scope=col>EFFECT</th><th scope=col>IMPACT</th><th scope=col>GENE</th><th scope=col>GENEID</th><th scope=col>HGVS_C</th><th scope=col>HGVS_P</th><th scope=col>SAMPLE</th><th scope=col>FREQUENCY</th><th scope=col>MEDIAN_COV</th></tr></thead>\n",
       "<tbody>\n",
       "\t<tr><td>HAMBI_105                                                               </td><td>12                                                                      </td><td>128                                                                     </td><td>0                                                                       </td><td>1                                                                       </td><td>IDIPBEOP_4                                                              </td><td> 354229                                                                 </td><td><span style=white-space:pre-wrap>A      </span>                         </td><td><span style=white-space:pre-wrap>G      </span>                         </td><td><span style=white-space:pre-wrap>snp    </span>                         </td><td><span style=white-space:pre-wrap>missense_variant  </span>              </td><td>MODERATE                                                                </td><td>csxA_2                                                                  </td><td>IDIPBEOP_03284                                                          </td><td><span style=white-space:pre-wrap>c.182T&gt;C                     </span></td><td><span style=white-space:pre-wrap>p.Leu61Pro             </span>         </td><td>T12_AB128_I0_REP1                                                       </td><td>0.6666667                                                               </td><td>74                                                                      </td></tr>\n",
       "\t<tr><td>HAMBI_105                                                               </td><td>12                                                                      </td><td>128                                                                     </td><td>0                                                                       </td><td>1                                                                       </td><td>IDIPBEOP_1                                                              </td><td>1145270                                                                 </td><td><span style=white-space:pre-wrap>C      </span>                         </td><td><span style=white-space:pre-wrap>T      </span>                         </td><td><span style=white-space:pre-wrap>snp    </span>                         </td><td>synonymous_variant                                                      </td><td><span style=white-space:pre-wrap>LOW     </span>                        </td><td><span style=white-space:pre-wrap>tufA  </span>                          </td><td>IDIPBEOP_01165                                                          </td><td><span style=white-space:pre-wrap>c.510G&gt;A                     </span></td><td><span style=white-space:pre-wrap>p.Ala170Ala            </span>         </td><td>T12_AB128_I0_REP1                                                       </td><td>1.0000000                                                               </td><td>74                                                                      </td></tr>\n",
       "\t<tr><td>HAMBI_105                                                               </td><td>12                                                                      </td><td>128                                                                     </td><td>0                                                                       </td><td>1                                                                       </td><td>IDIPBEOP_6                                                              </td><td> 209669                                                                 </td><td><span style=white-space:pre-wrap>T      </span>                         </td><td><span style=white-space:pre-wrap>G      </span>                         </td><td><span style=white-space:pre-wrap>snp    </span>                         </td><td><span style=white-space:pre-wrap>missense_variant  </span>              </td><td>MODERATE                                                                </td><td><span style=white-space:pre-wrap>cra   </span>                          </td><td>IDIPBEOP_03720                                                          </td><td><span style=white-space:pre-wrap>c.358A&gt;C                     </span></td><td><span style=white-space:pre-wrap>p.Thr120Pro            </span>         </td><td>T12_AB128_I0_REP1                                                       </td><td>0.8333333                                                               </td><td>74                                                                      </td></tr>\n",
       "\t<tr><td>HAMBI_105                                                               </td><td>12                                                                      </td><td>128                                                                     </td><td>0                                                                       </td><td>1                                                                       </td><td>IDIPBEOP_6                                                              </td><td> 236246                                                                 </td><td><span style=white-space:pre-wrap>A      </span>                         </td><td><span style=white-space:pre-wrap>G      </span>                         </td><td><span style=white-space:pre-wrap>snp    </span>                         </td><td><span style=white-space:pre-wrap>missense_variant  </span>              </td><td>MODERATE                                                                </td><td><span style=white-space:pre-wrap>cya   </span>                          </td><td>IDIPBEOP_03748                                                          </td><td><span style=white-space:pre-wrap>c.2134A&gt;G                    </span></td><td><span style=white-space:pre-wrap>p.Ile712Val            </span>         </td><td>T12_AB128_I0_REP1                                                       </td><td>0.6250000                                                               </td><td>74                                                                      </td></tr>\n",
       "\t<tr><td>HAMBI_105                                                               </td><td>12                                                                      </td><td>128                                                                     </td><td>0                                                                       </td><td>1                                                                       </td><td>IDIPBEOP_6                                                              </td><td> 236800                                                                 </td><td><span style=white-space:pre-wrap>C      </span>                         </td><td><span style=white-space:pre-wrap>T      </span>                         </td><td><span style=white-space:pre-wrap>snp    </span>                         </td><td>synonymous_variant                                                      </td><td><span style=white-space:pre-wrap>LOW     </span>                        </td><td><span style=white-space:pre-wrap>cya   </span>                          </td><td>IDIPBEOP_03748                                                          </td><td><span style=white-space:pre-wrap>c.2688C&gt;T                    </span></td><td><span style=white-space:pre-wrap>p.Asn896Asn            </span>         </td><td>T12_AB128_I0_REP1                                                       </td><td>0.7142857                                                               </td><td>74                                                                      </td></tr>\n",
       "\t<tr><td>HAMBI_105                    </td><td>12                           </td><td>128                          </td><td>0                            </td><td>1                            </td><td>IDIPBEOP_1                   </td><td>1145423                      </td><td>ACGGGCG                      </td><td>GCGAGCA                      </td><td>complex                      </td><td>synonymous_variant           </td><td>LOW                          </td><td>tufA                         </td><td>IDIPBEOP_01165               </td><td>c.351_357delCGCCCGTinsTGCTCGC</td><td>p.LeuAlaArg117LeuAlaArg      </td><td>T12_AB128_I0_REP1            </td><td>1.0000000                    </td><td>74                           </td></tr>\n",
       "</tbody>\n",
       "</table>\n"
      ],
      "text/latex": [
       "\\begin{tabular}{r|lllllllllllllllllll}\n",
       " SPECIES & TIME & AB & IM & REP & CHROM & POS & REF & ALT & TYPE & EFFECT & IMPACT & GENE & GENEID & HGVS\\_C & HGVS\\_P & SAMPLE & FREQUENCY & MEDIAN\\_COV\\\\\n",
       "\\hline\n",
       "\t HAMBI\\_105                   & 12                            & 128                           & 0                             & 1                             & IDIPBEOP\\_4                  &  354229                       & A                             & G                             & snp                           & missense\\_variant            & MODERATE                      & csxA\\_2                      & IDIPBEOP\\_03284              & c.182T>C                      & p.Leu61Pro                    & T12\\_AB128\\_I0\\_REP1       & 0.6666667                     & 74                           \\\\\n",
       "\t HAMBI\\_105                   & 12                            & 128                           & 0                             & 1                             & IDIPBEOP\\_1                  & 1145270                       & C                             & T                             & snp                           & synonymous\\_variant          & LOW                           & tufA                          & IDIPBEOP\\_01165              & c.510G>A                      & p.Ala170Ala                   & T12\\_AB128\\_I0\\_REP1       & 1.0000000                     & 74                           \\\\\n",
       "\t HAMBI\\_105                   & 12                            & 128                           & 0                             & 1                             & IDIPBEOP\\_6                  &  209669                       & T                             & G                             & snp                           & missense\\_variant            & MODERATE                      & cra                           & IDIPBEOP\\_03720              & c.358A>C                      & p.Thr120Pro                   & T12\\_AB128\\_I0\\_REP1       & 0.8333333                     & 74                           \\\\\n",
       "\t HAMBI\\_105                   & 12                            & 128                           & 0                             & 1                             & IDIPBEOP\\_6                  &  236246                       & A                             & G                             & snp                           & missense\\_variant            & MODERATE                      & cya                           & IDIPBEOP\\_03748              & c.2134A>G                     & p.Ile712Val                   & T12\\_AB128\\_I0\\_REP1       & 0.6250000                     & 74                           \\\\\n",
       "\t HAMBI\\_105                   & 12                            & 128                           & 0                             & 1                             & IDIPBEOP\\_6                  &  236800                       & C                             & T                             & snp                           & synonymous\\_variant          & LOW                           & cya                           & IDIPBEOP\\_03748              & c.2688C>T                     & p.Asn896Asn                   & T12\\_AB128\\_I0\\_REP1       & 0.7142857                     & 74                           \\\\\n",
       "\t HAMBI\\_105                     & 12                              & 128                             & 0                               & 1                               & IDIPBEOP\\_1                    & 1145423                         & ACGGGCG                         & GCGAGCA                         & complex                         & synonymous\\_variant            & LOW                             & tufA                            & IDIPBEOP\\_01165                & c.351\\_357delCGCCCGTinsTGCTCGC & p.LeuAlaArg117LeuAlaArg         & T12\\_AB128\\_I0\\_REP1         & 1.0000000                       & 74                             \\\\\n",
       "\\end{tabular}\n"
      ],
      "text/markdown": [
       "\n",
       "SPECIES | TIME | AB | IM | REP | CHROM | POS | REF | ALT | TYPE | EFFECT | IMPACT | GENE | GENEID | HGVS_C | HGVS_P | SAMPLE | FREQUENCY | MEDIAN_COV | \n",
       "|---|---|---|---|---|---|\n",
       "| HAMBI_105                     | 12                            | 128                           | 0                             | 1                             | IDIPBEOP_4                    |  354229                       | A                             | G                             | snp                           | missense_variant              | MODERATE                      | csxA_2                        | IDIPBEOP_03284                | c.182T>C                      | p.Leu61Pro                    | T12_AB128_I0_REP1             | 0.6666667                     | 74                            | \n",
       "| HAMBI_105                     | 12                            | 128                           | 0                             | 1                             | IDIPBEOP_1                    | 1145270                       | C                             | T                             | snp                           | synonymous_variant            | LOW                           | tufA                          | IDIPBEOP_01165                | c.510G>A                      | p.Ala170Ala                   | T12_AB128_I0_REP1             | 1.0000000                     | 74                            | \n",
       "| HAMBI_105                     | 12                            | 128                           | 0                             | 1                             | IDIPBEOP_6                    |  209669                       | T                             | G                             | snp                           | missense_variant              | MODERATE                      | cra                           | IDIPBEOP_03720                | c.358A>C                      | p.Thr120Pro                   | T12_AB128_I0_REP1             | 0.8333333                     | 74                            | \n",
       "| HAMBI_105                     | 12                            | 128                           | 0                             | 1                             | IDIPBEOP_6                    |  236246                       | A                             | G                             | snp                           | missense_variant              | MODERATE                      | cya                           | IDIPBEOP_03748                | c.2134A>G                     | p.Ile712Val                   | T12_AB128_I0_REP1             | 0.6250000                     | 74                            | \n",
       "| HAMBI_105                     | 12                            | 128                           | 0                             | 1                             | IDIPBEOP_6                    |  236800                       | C                             | T                             | snp                           | synonymous_variant            | LOW                           | cya                           | IDIPBEOP_03748                | c.2688C>T                     | p.Asn896Asn                   | T12_AB128_I0_REP1             | 0.7142857                     | 74                            | \n",
       "| HAMBI_105                     | 12                            | 128                           | 0                             | 1                             | IDIPBEOP_1                    | 1145423                       | ACGGGCG                       | GCGAGCA                       | complex                       | synonymous_variant            | LOW                           | tufA                          | IDIPBEOP_01165                | c.351_357delCGCCCGTinsTGCTCGC | p.LeuAlaArg117LeuAlaArg       | T12_AB128_I0_REP1             | 1.0000000                     | 74                            | \n",
       "\n",
       "\n"
      ],
      "text/plain": [
       "  SPECIES   TIME AB  IM REP CHROM      POS     REF     ALT     TYPE   \n",
       "1 HAMBI_105 12   128 0  1   IDIPBEOP_4  354229 A       G       snp    \n",
       "2 HAMBI_105 12   128 0  1   IDIPBEOP_1 1145270 C       T       snp    \n",
       "3 HAMBI_105 12   128 0  1   IDIPBEOP_6  209669 T       G       snp    \n",
       "4 HAMBI_105 12   128 0  1   IDIPBEOP_6  236246 A       G       snp    \n",
       "5 HAMBI_105 12   128 0  1   IDIPBEOP_6  236800 C       T       snp    \n",
       "6 HAMBI_105 12   128 0  1   IDIPBEOP_1 1145423 ACGGGCG GCGAGCA complex\n",
       "  EFFECT             IMPACT   GENE   GENEID        \n",
       "1 missense_variant   MODERATE csxA_2 IDIPBEOP_03284\n",
       "2 synonymous_variant LOW      tufA   IDIPBEOP_01165\n",
       "3 missense_variant   MODERATE cra    IDIPBEOP_03720\n",
       "4 missense_variant   MODERATE cya    IDIPBEOP_03748\n",
       "5 synonymous_variant LOW      cya    IDIPBEOP_03748\n",
       "6 synonymous_variant LOW      tufA   IDIPBEOP_01165\n",
       "  HGVS_C                        HGVS_P                  SAMPLE           \n",
       "1 c.182T>C                      p.Leu61Pro              T12_AB128_I0_REP1\n",
       "2 c.510G>A                      p.Ala170Ala             T12_AB128_I0_REP1\n",
       "3 c.358A>C                      p.Thr120Pro             T12_AB128_I0_REP1\n",
       "4 c.2134A>G                     p.Ile712Val             T12_AB128_I0_REP1\n",
       "5 c.2688C>T                     p.Asn896Asn             T12_AB128_I0_REP1\n",
       "6 c.351_357delCGCCCGTinsTGCTCGC p.LeuAlaArg117LeuAlaArg T12_AB128_I0_REP1\n",
       "  FREQUENCY MEDIAN_COV\n",
       "1 0.6666667 74        \n",
       "2 1.0000000 74        \n",
       "3 0.8333333 74        \n",
       "4 0.6250000 74        \n",
       "5 0.7142857 74        \n",
       "6 1.0000000 74        "
      ]
     },
     "metadata": {},
     "output_type": "display_data"
    }
   ],
   "source": [
    "# Add median genome coverage data per strain\n",
    "\n",
    "# Read in data\n",
    "\n",
    "deep_seq_comb = read.table('../../../data/deep_seq/median_coverage_per_1kb_window.txt', \n",
    "                           header = T, \n",
    "                           sep = '\\t', \n",
    "                           check.names = F)\n",
    "\n",
    "# Reformat\n",
    "\n",
    "deep_seq_comb$TIME = gsub(\"_AB.*\", \"\", deep_seq_comb$sample)\n",
    "deep_seq_comb$TIME = as.numeric(gsub(\"T\", \"\", deep_seq_comb$TIME))\n",
    "deep_seq_comb$AB = gsub(\".*_AB\", \"\", deep_seq_comb$sample)\n",
    "deep_seq_comb$AB = as.numeric(gsub(\"_I.*\", \"\", deep_seq_comb$AB))\n",
    "deep_seq_comb$IM = gsub(\".*_I\", \"\", deep_seq_comb$sample)\n",
    "deep_seq_comb$IM = as.factor(as.character(gsub(\"_REP.*\", \"\", deep_seq_comb$IM)))\n",
    "deep_seq_comb$REP = gsub(\".*_REP\", \"\", deep_seq_comb$sample)\n",
    "deep_seq_comb$SPECIES = paste(\"HAMBI\", deep_seq_comb$strain, sep = \"_\")\n",
    "deep_seq_comb = deep_seq_comb[,-c(1:2)]\n",
    "colnames(deep_seq_comb) = c(\"MEDIAN_COV\",\n",
    "                            \"TIME\",\n",
    "                            \"AB\",\n",
    "                            \"IM\",\n",
    "                            \"REP\",\n",
    "                            \"SPECIES\")\n",
    "\n",
    "# Extract only those species with variant data\n",
    "\n",
    "deep_seq_comb = deep_seq_comb[deep_seq_comb$SPECIES %in% variants2$SPECIES,]\n",
    "\n",
    "# Add coverage data to variant data table\n",
    "\n",
    "variants3 = merge(variants2, deep_seq_comb)\n",
    "head(variants3)"
   ]
  },
  {
   "cell_type": "code",
   "execution_count": 19,
   "metadata": {},
   "outputs": [
    {
     "data": {
      "text/html": [
       "<table>\n",
       "<thead><tr><th scope=col>SPECIES</th><th scope=col>TIME</th><th scope=col>AB</th><th scope=col>IM</th><th scope=col>REP</th><th scope=col>CHROM</th><th scope=col>POS</th><th scope=col>REF</th><th scope=col>ALT</th><th scope=col>TYPE</th><th scope=col>EFFECT</th><th scope=col>IMPACT</th><th scope=col>GENE</th><th scope=col>GENEID</th><th scope=col>HGVS_C</th><th scope=col>HGVS_P</th><th scope=col>SAMPLE</th><th scope=col>FREQUENCY</th><th scope=col>MEDIAN_COV</th><th scope=col>AMPLICON_READS</th></tr></thead>\n",
       "<tbody>\n",
       "\t<tr><td>HAMBI_105                                                               </td><td>12                                                                      </td><td>128                                                                     </td><td>0                                                                       </td><td>1                                                                       </td><td>IDIPBEOP_4                                                              </td><td> 354229                                                                 </td><td><span style=white-space:pre-wrap>A      </span>                         </td><td><span style=white-space:pre-wrap>G      </span>                         </td><td><span style=white-space:pre-wrap>snp    </span>                         </td><td><span style=white-space:pre-wrap>missense_variant  </span>              </td><td>MODERATE                                                                </td><td>csxA_2                                                                  </td><td>IDIPBEOP_03284                                                          </td><td><span style=white-space:pre-wrap>c.182T&gt;C                     </span></td><td><span style=white-space:pre-wrap>p.Leu61Pro             </span>         </td><td>T12_AB128_I0_REP1                                                       </td><td>0.6666667                                                               </td><td>74                                                                      </td><td>70                                                                      </td></tr>\n",
       "\t<tr><td>HAMBI_105                                                               </td><td>12                                                                      </td><td>128                                                                     </td><td>0                                                                       </td><td>1                                                                       </td><td>IDIPBEOP_1                                                              </td><td>1145270                                                                 </td><td><span style=white-space:pre-wrap>C      </span>                         </td><td><span style=white-space:pre-wrap>T      </span>                         </td><td><span style=white-space:pre-wrap>snp    </span>                         </td><td>synonymous_variant                                                      </td><td><span style=white-space:pre-wrap>LOW     </span>                        </td><td><span style=white-space:pre-wrap>tufA  </span>                          </td><td>IDIPBEOP_01165                                                          </td><td><span style=white-space:pre-wrap>c.510G&gt;A                     </span></td><td><span style=white-space:pre-wrap>p.Ala170Ala            </span>         </td><td>T12_AB128_I0_REP1                                                       </td><td>1.0000000                                                               </td><td>74                                                                      </td><td>70                                                                      </td></tr>\n",
       "\t<tr><td>HAMBI_105                                                               </td><td>12                                                                      </td><td>128                                                                     </td><td>0                                                                       </td><td>1                                                                       </td><td>IDIPBEOP_6                                                              </td><td> 209669                                                                 </td><td><span style=white-space:pre-wrap>T      </span>                         </td><td><span style=white-space:pre-wrap>G      </span>                         </td><td><span style=white-space:pre-wrap>snp    </span>                         </td><td><span style=white-space:pre-wrap>missense_variant  </span>              </td><td>MODERATE                                                                </td><td><span style=white-space:pre-wrap>cra   </span>                          </td><td>IDIPBEOP_03720                                                          </td><td><span style=white-space:pre-wrap>c.358A&gt;C                     </span></td><td><span style=white-space:pre-wrap>p.Thr120Pro            </span>         </td><td>T12_AB128_I0_REP1                                                       </td><td>0.8333333                                                               </td><td>74                                                                      </td><td>70                                                                      </td></tr>\n",
       "\t<tr><td>HAMBI_105                                                               </td><td>12                                                                      </td><td>128                                                                     </td><td>0                                                                       </td><td>1                                                                       </td><td>IDIPBEOP_6                                                              </td><td> 236246                                                                 </td><td><span style=white-space:pre-wrap>A      </span>                         </td><td><span style=white-space:pre-wrap>G      </span>                         </td><td><span style=white-space:pre-wrap>snp    </span>                         </td><td><span style=white-space:pre-wrap>missense_variant  </span>              </td><td>MODERATE                                                                </td><td><span style=white-space:pre-wrap>cya   </span>                          </td><td>IDIPBEOP_03748                                                          </td><td><span style=white-space:pre-wrap>c.2134A&gt;G                    </span></td><td><span style=white-space:pre-wrap>p.Ile712Val            </span>         </td><td>T12_AB128_I0_REP1                                                       </td><td>0.6250000                                                               </td><td>74                                                                      </td><td>70                                                                      </td></tr>\n",
       "\t<tr><td>HAMBI_105                                                               </td><td>12                                                                      </td><td>128                                                                     </td><td>0                                                                       </td><td>1                                                                       </td><td>IDIPBEOP_6                                                              </td><td> 236800                                                                 </td><td><span style=white-space:pre-wrap>C      </span>                         </td><td><span style=white-space:pre-wrap>T      </span>                         </td><td><span style=white-space:pre-wrap>snp    </span>                         </td><td>synonymous_variant                                                      </td><td><span style=white-space:pre-wrap>LOW     </span>                        </td><td><span style=white-space:pre-wrap>cya   </span>                          </td><td>IDIPBEOP_03748                                                          </td><td><span style=white-space:pre-wrap>c.2688C&gt;T                    </span></td><td><span style=white-space:pre-wrap>p.Asn896Asn            </span>         </td><td>T12_AB128_I0_REP1                                                       </td><td>0.7142857                                                               </td><td>74                                                                      </td><td>70                                                                      </td></tr>\n",
       "\t<tr><td>HAMBI_105                    </td><td>12                           </td><td>128                          </td><td>0                            </td><td>1                            </td><td>IDIPBEOP_1                   </td><td>1145423                      </td><td>ACGGGCG                      </td><td>GCGAGCA                      </td><td>complex                      </td><td>synonymous_variant           </td><td>LOW                          </td><td>tufA                         </td><td>IDIPBEOP_01165               </td><td>c.351_357delCGCCCGTinsTGCTCGC</td><td>p.LeuAlaArg117LeuAlaArg      </td><td>T12_AB128_I0_REP1            </td><td>1.0000000                    </td><td>74                           </td><td>70                           </td></tr>\n",
       "</tbody>\n",
       "</table>\n"
      ],
      "text/latex": [
       "\\begin{tabular}{r|llllllllllllllllllll}\n",
       " SPECIES & TIME & AB & IM & REP & CHROM & POS & REF & ALT & TYPE & EFFECT & IMPACT & GENE & GENEID & HGVS\\_C & HGVS\\_P & SAMPLE & FREQUENCY & MEDIAN\\_COV & AMPLICON\\_READS\\\\\n",
       "\\hline\n",
       "\t HAMBI\\_105                   & 12                            & 128                           & 0                             & 1                             & IDIPBEOP\\_4                  &  354229                       & A                             & G                             & snp                           & missense\\_variant            & MODERATE                      & csxA\\_2                      & IDIPBEOP\\_03284              & c.182T>C                      & p.Leu61Pro                    & T12\\_AB128\\_I0\\_REP1       & 0.6666667                     & 74                            & 70                           \\\\\n",
       "\t HAMBI\\_105                   & 12                            & 128                           & 0                             & 1                             & IDIPBEOP\\_1                  & 1145270                       & C                             & T                             & snp                           & synonymous\\_variant          & LOW                           & tufA                          & IDIPBEOP\\_01165              & c.510G>A                      & p.Ala170Ala                   & T12\\_AB128\\_I0\\_REP1       & 1.0000000                     & 74                            & 70                           \\\\\n",
       "\t HAMBI\\_105                   & 12                            & 128                           & 0                             & 1                             & IDIPBEOP\\_6                  &  209669                       & T                             & G                             & snp                           & missense\\_variant            & MODERATE                      & cra                           & IDIPBEOP\\_03720              & c.358A>C                      & p.Thr120Pro                   & T12\\_AB128\\_I0\\_REP1       & 0.8333333                     & 74                            & 70                           \\\\\n",
       "\t HAMBI\\_105                   & 12                            & 128                           & 0                             & 1                             & IDIPBEOP\\_6                  &  236246                       & A                             & G                             & snp                           & missense\\_variant            & MODERATE                      & cya                           & IDIPBEOP\\_03748              & c.2134A>G                     & p.Ile712Val                   & T12\\_AB128\\_I0\\_REP1       & 0.6250000                     & 74                            & 70                           \\\\\n",
       "\t HAMBI\\_105                   & 12                            & 128                           & 0                             & 1                             & IDIPBEOP\\_6                  &  236800                       & C                             & T                             & snp                           & synonymous\\_variant          & LOW                           & cya                           & IDIPBEOP\\_03748              & c.2688C>T                     & p.Asn896Asn                   & T12\\_AB128\\_I0\\_REP1       & 0.7142857                     & 74                            & 70                           \\\\\n",
       "\t HAMBI\\_105                     & 12                              & 128                             & 0                               & 1                               & IDIPBEOP\\_1                    & 1145423                         & ACGGGCG                         & GCGAGCA                         & complex                         & synonymous\\_variant            & LOW                             & tufA                            & IDIPBEOP\\_01165                & c.351\\_357delCGCCCGTinsTGCTCGC & p.LeuAlaArg117LeuAlaArg         & T12\\_AB128\\_I0\\_REP1         & 1.0000000                       & 74                              & 70                             \\\\\n",
       "\\end{tabular}\n"
      ],
      "text/markdown": [
       "\n",
       "SPECIES | TIME | AB | IM | REP | CHROM | POS | REF | ALT | TYPE | EFFECT | IMPACT | GENE | GENEID | HGVS_C | HGVS_P | SAMPLE | FREQUENCY | MEDIAN_COV | AMPLICON_READS | \n",
       "|---|---|---|---|---|---|\n",
       "| HAMBI_105                     | 12                            | 128                           | 0                             | 1                             | IDIPBEOP_4                    |  354229                       | A                             | G                             | snp                           | missense_variant              | MODERATE                      | csxA_2                        | IDIPBEOP_03284                | c.182T>C                      | p.Leu61Pro                    | T12_AB128_I0_REP1             | 0.6666667                     | 74                            | 70                            | \n",
       "| HAMBI_105                     | 12                            | 128                           | 0                             | 1                             | IDIPBEOP_1                    | 1145270                       | C                             | T                             | snp                           | synonymous_variant            | LOW                           | tufA                          | IDIPBEOP_01165                | c.510G>A                      | p.Ala170Ala                   | T12_AB128_I0_REP1             | 1.0000000                     | 74                            | 70                            | \n",
       "| HAMBI_105                     | 12                            | 128                           | 0                             | 1                             | IDIPBEOP_6                    |  209669                       | T                             | G                             | snp                           | missense_variant              | MODERATE                      | cra                           | IDIPBEOP_03720                | c.358A>C                      | p.Thr120Pro                   | T12_AB128_I0_REP1             | 0.8333333                     | 74                            | 70                            | \n",
       "| HAMBI_105                     | 12                            | 128                           | 0                             | 1                             | IDIPBEOP_6                    |  236246                       | A                             | G                             | snp                           | missense_variant              | MODERATE                      | cya                           | IDIPBEOP_03748                | c.2134A>G                     | p.Ile712Val                   | T12_AB128_I0_REP1             | 0.6250000                     | 74                            | 70                            | \n",
       "| HAMBI_105                     | 12                            | 128                           | 0                             | 1                             | IDIPBEOP_6                    |  236800                       | C                             | T                             | snp                           | synonymous_variant            | LOW                           | cya                           | IDIPBEOP_03748                | c.2688C>T                     | p.Asn896Asn                   | T12_AB128_I0_REP1             | 0.7142857                     | 74                            | 70                            | \n",
       "| HAMBI_105                     | 12                            | 128                           | 0                             | 1                             | IDIPBEOP_1                    | 1145423                       | ACGGGCG                       | GCGAGCA                       | complex                       | synonymous_variant            | LOW                           | tufA                          | IDIPBEOP_01165                | c.351_357delCGCCCGTinsTGCTCGC | p.LeuAlaArg117LeuAlaArg       | T12_AB128_I0_REP1             | 1.0000000                     | 74                            | 70                            | \n",
       "\n",
       "\n"
      ],
      "text/plain": [
       "  SPECIES   TIME AB  IM REP CHROM      POS     REF     ALT     TYPE   \n",
       "1 HAMBI_105 12   128 0  1   IDIPBEOP_4  354229 A       G       snp    \n",
       "2 HAMBI_105 12   128 0  1   IDIPBEOP_1 1145270 C       T       snp    \n",
       "3 HAMBI_105 12   128 0  1   IDIPBEOP_6  209669 T       G       snp    \n",
       "4 HAMBI_105 12   128 0  1   IDIPBEOP_6  236246 A       G       snp    \n",
       "5 HAMBI_105 12   128 0  1   IDIPBEOP_6  236800 C       T       snp    \n",
       "6 HAMBI_105 12   128 0  1   IDIPBEOP_1 1145423 ACGGGCG GCGAGCA complex\n",
       "  EFFECT             IMPACT   GENE   GENEID        \n",
       "1 missense_variant   MODERATE csxA_2 IDIPBEOP_03284\n",
       "2 synonymous_variant LOW      tufA   IDIPBEOP_01165\n",
       "3 missense_variant   MODERATE cra    IDIPBEOP_03720\n",
       "4 missense_variant   MODERATE cya    IDIPBEOP_03748\n",
       "5 synonymous_variant LOW      cya    IDIPBEOP_03748\n",
       "6 synonymous_variant LOW      tufA   IDIPBEOP_01165\n",
       "  HGVS_C                        HGVS_P                  SAMPLE           \n",
       "1 c.182T>C                      p.Leu61Pro              T12_AB128_I0_REP1\n",
       "2 c.510G>A                      p.Ala170Ala             T12_AB128_I0_REP1\n",
       "3 c.358A>C                      p.Thr120Pro             T12_AB128_I0_REP1\n",
       "4 c.2134A>G                     p.Ile712Val             T12_AB128_I0_REP1\n",
       "5 c.2688C>T                     p.Asn896Asn             T12_AB128_I0_REP1\n",
       "6 c.351_357delCGCCCGTinsTGCTCGC p.LeuAlaArg117LeuAlaArg T12_AB128_I0_REP1\n",
       "  FREQUENCY MEDIAN_COV AMPLICON_READS\n",
       "1 0.6666667 74         70            \n",
       "2 1.0000000 74         70            \n",
       "3 0.8333333 74         70            \n",
       "4 0.6250000 74         70            \n",
       "5 0.7142857 74         70            \n",
       "6 1.0000000 74         70            "
      ]
     },
     "metadata": {},
     "output_type": "display_data"
    }
   ],
   "source": [
    "# Add species abundance data based on 16S rRNA gene amplicon analysis\n",
    "\n",
    "# Read in data\n",
    "\n",
    "amplicon_data = read.table('../../../data/amplicon/species_abundance.txt', \n",
    "                           header = T, \n",
    "                           sep = '\\t', \n",
    "                           check.names = F)\n",
    "\n",
    "# Reformat\n",
    "\n",
    "amplicon_data = melt(amplicon_data, id.vars = \"species\")\n",
    "colnames(amplicon_data) = c(\"SPECIES\", \"SAMPLE\", \"AMPLICON_READS\")\n",
    "amplicon_data$TIME = gsub(\"_AB.*\", \"\", amplicon_data$SAMPLE)\n",
    "amplicon_data$TIME = as.numeric(gsub(\"T\", \"\", amplicon_data$TIME))\n",
    "amplicon_data$AB = gsub(\".*_AB\", \"\", amplicon_data$SAMPLE)\n",
    "amplicon_data$AB = as.numeric(gsub(\"_I.*\", \"\", amplicon_data$AB))\n",
    "amplicon_data$IM = gsub(\".*_I\", \"\", amplicon_data$SAMPLE)\n",
    "amplicon_data$IM = as.factor(as.character(gsub(\"_REP.*\", \"\", amplicon_data$IM)))\n",
    "amplicon_data$REP = gsub(\".*_REP\", \"\", amplicon_data$SAMPLE)\n",
    "amplicon_data$REP = as.factor(as.character(gsub(\"_all\", \"\", amplicon_data$REP)))\n",
    "amplicon_data$SPECIES = paste(\"HAMBI\", amplicon_data$SPECIES, sep = \"_\")\n",
    "amplicon_data = amplicon_data[,-2]\n",
    "\n",
    "# Extract only those species with variant data\n",
    "\n",
    "amplicon_data = amplicon_data[amplicon_data$SPECIES %in% variants3$SPECIES,]\n",
    "\n",
    "# Add amplicon data to variant data table\n",
    "\n",
    "variants4 = merge(variants3, amplicon_data, all.x = T)\n",
    "head(variants4)"
   ]
  },
  {
   "cell_type": "code",
   "execution_count": 20,
   "metadata": {},
   "outputs": [
    {
     "data": {
      "text/html": [
       "<ol class=list-inline>\n",
       "\t<li>missense_variant</li>\n",
       "\t<li>synonymous_variant</li>\n",
       "\t<li>upstream_gene_variant</li>\n",
       "\t<li>stop_gained</li>\n",
       "\t<li>frameshift_variant</li>\n",
       "\t<li>intragenic_variant</li>\n",
       "\t<li>downstream_gene_variant</li>\n",
       "\t<li>intergenic_region</li>\n",
       "\t<li>conservative_inframe_deletion</li>\n",
       "\t<li>conservative_inframe_insertion</li>\n",
       "\t<li>frameshift_variant&amp;synonymous_variant</li>\n",
       "\t<li>stop_lost&amp;splice_region_variant</li>\n",
       "\t<li>disruptive_inframe_insertion</li>\n",
       "\t<li>frameshift_variant&amp;missense_variant</li>\n",
       "\t<li>frameshift_variant&amp;stop_lost&amp;splice_region_variant</li>\n",
       "\t<li>synonymous_variant&amp;conservative_inframe_insertion</li>\n",
       "\t<li>frameshift_variant&amp;splice_region_variant</li>\n",
       "\t<li>splice_region_variant&amp;stop_retained_variant</li>\n",
       "\t<li>initiator_codon_variant</li>\n",
       "\t<li>disruptive_inframe_deletion</li>\n",
       "</ol>\n",
       "\n",
       "<details>\n",
       "\t<summary style=display:list-item;cursor:pointer>\n",
       "\t\t<strong>Levels</strong>:\n",
       "\t</summary>\n",
       "\t<ol class=list-inline>\n",
       "\t\t<li>'conservative_inframe_deletion'</li>\n",
       "\t\t<li>'conservative_inframe_insertion'</li>\n",
       "\t\t<li>'disruptive_inframe_deletion'</li>\n",
       "\t\t<li>'downstream_gene_variant'</li>\n",
       "\t\t<li>'frameshift_variant'</li>\n",
       "\t\t<li>'initiator_codon_variant'</li>\n",
       "\t\t<li>'intergenic_region'</li>\n",
       "\t\t<li>'intragenic_variant'</li>\n",
       "\t\t<li>'missense_variant'</li>\n",
       "\t\t<li>'stop_gained'</li>\n",
       "\t\t<li>'synonymous_variant'</li>\n",
       "\t\t<li>'upstream_gene_variant'</li>\n",
       "\t\t<li>'disruptive_inframe_insertion'</li>\n",
       "\t\t<li>'frameshift_variant&amp;stop_lost&amp;splice_region_variant'</li>\n",
       "\t\t<li>'frameshift_variant&amp;missense_variant'</li>\n",
       "\t\t<li>'frameshift_variant&amp;splice_region_variant'</li>\n",
       "\t\t<li>'frameshift_variant&amp;start_lost'</li>\n",
       "\t\t<li>'frameshift_variant&amp;stop_lost&amp;splice_region_variant&amp;synonymous_variant'</li>\n",
       "\t\t<li>'frameshift_variant&amp;stop_lost&amp;stop_retained_variant&amp;splice_region_variant'</li>\n",
       "\t\t<li>'frameshift_variant&amp;synonymous_variant'</li>\n",
       "\t\t<li>'initiator_codon_variant&amp;non_canonical_start_codon'</li>\n",
       "\t\t<li>'missense_variant&amp;conservative_inframe_deletion'</li>\n",
       "\t\t<li>'missense_variant&amp;conservative_inframe_insertion'</li>\n",
       "\t\t<li>'missense_variant&amp;disruptive_inframe_deletion'</li>\n",
       "\t\t<li>'missense_variant&amp;disruptive_inframe_insertion'</li>\n",
       "\t\t<li>'splice_region_variant&amp;stop_retained_variant'</li>\n",
       "\t\t<li>'start_lost'</li>\n",
       "\t\t<li>'start_lost&amp;intron_variant'</li>\n",
       "\t\t<li>'stop_lost&amp;splice_region_variant'</li>\n",
       "\t\t<li>'stop_lost&amp;splice_region_variant&amp;stop_retained_variant&amp;intron_variant'</li>\n",
       "\t\t<li>'stop_retained_variant&amp;splice_region_variant'</li>\n",
       "\t\t<li>'stop_retained_variant&amp;splice_region_variant&amp;conservative_inframe_insertion'</li>\n",
       "\t\t<li>'synonymous_variant&amp;conservative_inframe_deletion'</li>\n",
       "\t\t<li>'synonymous_variant&amp;conservative_inframe_insertion'</li>\n",
       "\t\t<li>'synonymous_variant&amp;disruptive_inframe_insertion'</li>\n",
       "\t\t<li>'frameshift_variant&amp;stop_lost&amp;splice_region_variant&amp;stop_retained_variant'</li>\n",
       "\t\t<li>'frameshift_variant&amp;stop_gained'</li>\n",
       "\t</ol>\n",
       "</details>"
      ],
      "text/latex": [
       "\\begin{enumerate*}\n",
       "\\item missense\\_variant\n",
       "\\item synonymous\\_variant\n",
       "\\item upstream\\_gene\\_variant\n",
       "\\item stop\\_gained\n",
       "\\item frameshift\\_variant\n",
       "\\item intragenic\\_variant\n",
       "\\item downstream\\_gene\\_variant\n",
       "\\item intergenic\\_region\n",
       "\\item conservative\\_inframe\\_deletion\n",
       "\\item conservative\\_inframe\\_insertion\n",
       "\\item frameshift\\_variant\\&synonymous\\_variant\n",
       "\\item stop\\_lost\\&splice\\_region\\_variant\n",
       "\\item disruptive\\_inframe\\_insertion\n",
       "\\item frameshift\\_variant\\&missense\\_variant\n",
       "\\item frameshift\\_variant\\&stop\\_lost\\&splice\\_region\\_variant\n",
       "\\item synonymous\\_variant\\&conservative\\_inframe\\_insertion\n",
       "\\item frameshift\\_variant\\&splice\\_region\\_variant\n",
       "\\item splice\\_region\\_variant\\&stop\\_retained\\_variant\n",
       "\\item initiator\\_codon\\_variant\n",
       "\\item disruptive\\_inframe\\_deletion\n",
       "\\end{enumerate*}\n",
       "\n",
       "\\emph{Levels}: \\begin{enumerate*}\n",
       "\\item 'conservative\\_inframe\\_deletion'\n",
       "\\item 'conservative\\_inframe\\_insertion'\n",
       "\\item 'disruptive\\_inframe\\_deletion'\n",
       "\\item 'downstream\\_gene\\_variant'\n",
       "\\item 'frameshift\\_variant'\n",
       "\\item 'initiator\\_codon\\_variant'\n",
       "\\item 'intergenic\\_region'\n",
       "\\item 'intragenic\\_variant'\n",
       "\\item 'missense\\_variant'\n",
       "\\item 'stop\\_gained'\n",
       "\\item 'synonymous\\_variant'\n",
       "\\item 'upstream\\_gene\\_variant'\n",
       "\\item 'disruptive\\_inframe\\_insertion'\n",
       "\\item 'frameshift\\_variant\\&stop\\_lost\\&splice\\_region\\_variant'\n",
       "\\item 'frameshift\\_variant\\&missense\\_variant'\n",
       "\\item 'frameshift\\_variant\\&splice\\_region\\_variant'\n",
       "\\item 'frameshift\\_variant\\&start\\_lost'\n",
       "\\item 'frameshift\\_variant\\&stop\\_lost\\&splice\\_region\\_variant\\&synonymous\\_variant'\n",
       "\\item 'frameshift\\_variant\\&stop\\_lost\\&stop\\_retained\\_variant\\&splice\\_region\\_variant'\n",
       "\\item 'frameshift\\_variant\\&synonymous\\_variant'\n",
       "\\item 'initiator\\_codon\\_variant\\&non\\_canonical\\_start\\_codon'\n",
       "\\item 'missense\\_variant\\&conservative\\_inframe\\_deletion'\n",
       "\\item 'missense\\_variant\\&conservative\\_inframe\\_insertion'\n",
       "\\item 'missense\\_variant\\&disruptive\\_inframe\\_deletion'\n",
       "\\item 'missense\\_variant\\&disruptive\\_inframe\\_insertion'\n",
       "\\item 'splice\\_region\\_variant\\&stop\\_retained\\_variant'\n",
       "\\item 'start\\_lost'\n",
       "\\item 'start\\_lost\\&intron\\_variant'\n",
       "\\item 'stop\\_lost\\&splice\\_region\\_variant'\n",
       "\\item 'stop\\_lost\\&splice\\_region\\_variant\\&stop\\_retained\\_variant\\&intron\\_variant'\n",
       "\\item 'stop\\_retained\\_variant\\&splice\\_region\\_variant'\n",
       "\\item 'stop\\_retained\\_variant\\&splice\\_region\\_variant\\&conservative\\_inframe\\_insertion'\n",
       "\\item 'synonymous\\_variant\\&conservative\\_inframe\\_deletion'\n",
       "\\item 'synonymous\\_variant\\&conservative\\_inframe\\_insertion'\n",
       "\\item 'synonymous\\_variant\\&disruptive\\_inframe\\_insertion'\n",
       "\\item 'frameshift\\_variant\\&stop\\_lost\\&splice\\_region\\_variant\\&stop\\_retained\\_variant'\n",
       "\\item 'frameshift\\_variant\\&stop\\_gained'\n",
       "\\end{enumerate*}\n"
      ],
      "text/markdown": [
       "1. missense_variant\n",
       "2. synonymous_variant\n",
       "3. upstream_gene_variant\n",
       "4. stop_gained\n",
       "5. frameshift_variant\n",
       "6. intragenic_variant\n",
       "7. downstream_gene_variant\n",
       "8. intergenic_region\n",
       "9. conservative_inframe_deletion\n",
       "10. conservative_inframe_insertion\n",
       "11. frameshift_variant&amp;synonymous_variant\n",
       "12. stop_lost&amp;splice_region_variant\n",
       "13. disruptive_inframe_insertion\n",
       "14. frameshift_variant&amp;missense_variant\n",
       "15. frameshift_variant&amp;stop_lost&amp;splice_region_variant\n",
       "16. synonymous_variant&amp;conservative_inframe_insertion\n",
       "17. frameshift_variant&amp;splice_region_variant\n",
       "18. splice_region_variant&amp;stop_retained_variant\n",
       "19. initiator_codon_variant\n",
       "20. disruptive_inframe_deletion\n",
       "\n",
       "\n",
       "\n",
       "**Levels**: 1. 'conservative_inframe_deletion'\n",
       "2. 'conservative_inframe_insertion'\n",
       "3. 'disruptive_inframe_deletion'\n",
       "4. 'downstream_gene_variant'\n",
       "5. 'frameshift_variant'\n",
       "6. 'initiator_codon_variant'\n",
       "7. 'intergenic_region'\n",
       "8. 'intragenic_variant'\n",
       "9. 'missense_variant'\n",
       "10. 'stop_gained'\n",
       "11. 'synonymous_variant'\n",
       "12. 'upstream_gene_variant'\n",
       "13. 'disruptive_inframe_insertion'\n",
       "14. 'frameshift_variant&amp;stop_lost&amp;splice_region_variant'\n",
       "15. 'frameshift_variant&amp;missense_variant'\n",
       "16. 'frameshift_variant&amp;splice_region_variant'\n",
       "17. 'frameshift_variant&amp;start_lost'\n",
       "18. 'frameshift_variant&amp;stop_lost&amp;splice_region_variant&amp;synonymous_variant'\n",
       "19. 'frameshift_variant&amp;stop_lost&amp;stop_retained_variant&amp;splice_region_variant'\n",
       "20. 'frameshift_variant&amp;synonymous_variant'\n",
       "21. 'initiator_codon_variant&amp;non_canonical_start_codon'\n",
       "22. 'missense_variant&amp;conservative_inframe_deletion'\n",
       "23. 'missense_variant&amp;conservative_inframe_insertion'\n",
       "24. 'missense_variant&amp;disruptive_inframe_deletion'\n",
       "25. 'missense_variant&amp;disruptive_inframe_insertion'\n",
       "26. 'splice_region_variant&amp;stop_retained_variant'\n",
       "27. 'start_lost'\n",
       "28. 'start_lost&amp;intron_variant'\n",
       "29. 'stop_lost&amp;splice_region_variant'\n",
       "30. 'stop_lost&amp;splice_region_variant&amp;stop_retained_variant&amp;intron_variant'\n",
       "31. 'stop_retained_variant&amp;splice_region_variant'\n",
       "32. 'stop_retained_variant&amp;splice_region_variant&amp;conservative_inframe_insertion'\n",
       "33. 'synonymous_variant&amp;conservative_inframe_deletion'\n",
       "34. 'synonymous_variant&amp;conservative_inframe_insertion'\n",
       "35. 'synonymous_variant&amp;disruptive_inframe_insertion'\n",
       "36. 'frameshift_variant&amp;stop_lost&amp;splice_region_variant&amp;stop_retained_variant'\n",
       "37. 'frameshift_variant&amp;stop_gained'\n",
       "\n",
       "\n"
      ],
      "text/plain": [
       " [1] missense_variant                                  \n",
       " [2] synonymous_variant                                \n",
       " [3] upstream_gene_variant                             \n",
       " [4] stop_gained                                       \n",
       " [5] frameshift_variant                                \n",
       " [6] intragenic_variant                                \n",
       " [7] downstream_gene_variant                           \n",
       " [8] intergenic_region                                 \n",
       " [9] conservative_inframe_deletion                     \n",
       "[10] conservative_inframe_insertion                    \n",
       "[11] frameshift_variant&synonymous_variant             \n",
       "[12] stop_lost&splice_region_variant                   \n",
       "[13] disruptive_inframe_insertion                      \n",
       "[14] frameshift_variant&missense_variant               \n",
       "[15] frameshift_variant&stop_lost&splice_region_variant\n",
       "[16] synonymous_variant&conservative_inframe_insertion \n",
       "[17] frameshift_variant&splice_region_variant          \n",
       "[18] splice_region_variant&stop_retained_variant       \n",
       "[19] initiator_codon_variant                           \n",
       "[20] disruptive_inframe_deletion                       \n",
       "37 Levels: conservative_inframe_deletion ... frameshift_variant&stop_gained"
      ]
     },
     "metadata": {},
     "output_type": "display_data"
    }
   ],
   "source": [
    "# Inspect variant effects\n",
    "\n",
    "unique(variants4$EFFECT)"
   ]
  },
  {
   "cell_type": "code",
   "execution_count": 21,
   "metadata": {},
   "outputs": [
    {
     "data": {
      "text/html": [
       "<ol class=list-inline>\n",
       "\t<li>'nonsynonymous'</li>\n",
       "\t<li>'synonymous'</li>\n",
       "\t<li>'noncoding'</li>\n",
       "</ol>\n"
      ],
      "text/latex": [
       "\\begin{enumerate*}\n",
       "\\item 'nonsynonymous'\n",
       "\\item 'synonymous'\n",
       "\\item 'noncoding'\n",
       "\\end{enumerate*}\n"
      ],
      "text/markdown": [
       "1. 'nonsynonymous'\n",
       "2. 'synonymous'\n",
       "3. 'noncoding'\n",
       "\n",
       "\n"
      ],
      "text/plain": [
       "[1] \"nonsynonymous\" \"synonymous\"    \"noncoding\"    "
      ]
     },
     "metadata": {},
     "output_type": "display_data"
    }
   ],
   "source": [
    "# Add reduced variant effect categories (synonymous, nonsynonymous or noncoding)\n",
    "\n",
    "variants4$EFFECT = as.factor(as.character(variants4$EFFECT))\n",
    "variants4$EFFECT_CAT = NA\n",
    "variants4$EFFECT_CAT = ifelse(grepl(\"missense_variant\", variants4$EFFECT), \"nonsynonymous\", variants4$EFFECT_CAT)\n",
    "variants4$EFFECT_CAT = ifelse(grepl(\"synonymous_variant\", variants4$EFFECT), \"synonymous\", variants4$EFFECT_CAT)\n",
    "variants4$EFFECT_CAT = ifelse(grepl(\"upstream_gene_variant\", variants4$EFFECT), \"noncoding\", variants4$EFFECT_CAT)\n",
    "variants4$EFFECT_CAT = ifelse(grepl(\"stop_gained\", variants4$EFFECT), \"nonsynonymous\", variants4$EFFECT_CAT)\n",
    "variants4$EFFECT_CAT = ifelse(grepl(\"frameshift_variant\", variants4$EFFECT), \"nonsynonymous\", variants4$EFFECT_CAT)\n",
    "variants4$EFFECT_CAT = ifelse(grepl(\"intragenic_variant\", variants4$EFFECT), \"noncoding\", variants4$EFFECT_CAT)\n",
    "variants4$EFFECT_CAT = ifelse(grepl(\"downstream_gene_variant\", variants4$EFFECT), \"noncoding\", variants4$EFFECT_CAT)\n",
    "variants4$EFFECT_CAT = ifelse(grepl(\"intergenic_region\", variants4$EFFECT), \"noncoding\", variants4$EFFECT_CAT)\n",
    "variants4$EFFECT_CAT = ifelse(grepl(\"conservative_inframe_deletion\", variants4$EFFECT), \"synonymous\", variants4$EFFECT_CAT)\n",
    "variants4$EFFECT_CAT = ifelse(grepl(\"conservative_inframe_insertion\", variants4$EFFECT), \"synonymous\", variants4$EFFECT_CAT)\n",
    "variants4$EFFECT_CAT = ifelse(grepl(\"frameshift_variant&synonymous_variant\", variants4$EFFECT), \"nonsynonymous\", variants4$EFFECT_CAT)\n",
    "variants4$EFFECT_CAT = ifelse(grepl(\"stop_lost&splice_region_variant\", variants4$EFFECT), \"nonsynonymous\", variants4$EFFECT_CAT)\n",
    "variants4$EFFECT_CAT = ifelse(grepl(\"disruptive_inframe_insertion\", variants4$EFFECT), \"nonsynonymous\", variants4$EFFECT_CAT)\n",
    "variants4$EFFECT_CAT = ifelse(grepl(\"frameshift_variant&missense_variant\", variants4$EFFECT), \"nonsynonymous\", variants4$EFFECT_CAT)\n",
    "variants4$EFFECT_CAT = ifelse(grepl(\"frameshift_variant&stop_lost&splice_region_variant\", variants4$EFFECT), \"nonsynonymous\", variants4$EFFECT_CAT)\n",
    "variants4$EFFECT_CAT = ifelse(grepl(\"synonymous_variant&conservative_inframe_insertion\", variants4$EFFECT), \"synonymous\", variants4$EFFECT_CAT)\n",
    "variants4$EFFECT_CAT = ifelse(grepl(\"frameshift_variant&splice_region_variant\", variants4$EFFECT), \"nonsynonymous\", variants4$EFFECT_CAT)\n",
    "variants4$EFFECT_CAT = ifelse(grepl(\"splice_region_variant&stop_retained_variant\", variants4$EFFECT), \"synonymous\", variants4$EFFECT_CAT)\n",
    "variants4$EFFECT_CAT = ifelse(grepl(\"initiator_codon_variant\", variants4$EFFECT), \"nonsynonymous\", variants4$EFFECT_CAT)\n",
    "variants4$EFFECT_CAT = ifelse(grepl(\"disruptive_inframe_deletion\", variants4$EFFECT), \"nonsynonymous\", variants4$EFFECT_CAT)\n",
    "unique(variants4$EFFECT_CAT)"
   ]
  },
  {
   "cell_type": "code",
   "execution_count": 22,
   "metadata": {},
   "outputs": [
    {
     "data": {
      "text/html": [
       "<table>\n",
       "<thead><tr><th></th><th scope=col>SAMPLE</th><th scope=col>TIME</th><th scope=col>ANTIBIOTIC</th><th scope=col>IMMIGRATION</th><th scope=col>REPLICATE</th><th scope=col>SPECIES</th><th scope=col>CONTIG</th><th scope=col>POSITION</th><th scope=col>REF_ALLELE</th><th scope=col>ALT_ALLELE</th><th scope=col>⋯</th><th scope=col>VARIANT_EFFECT</th><th scope=col>VARIANT_EFFECT_CAT</th><th scope=col>VARIANT_IMPACT</th><th scope=col>GENE</th><th scope=col>GENEID</th><th scope=col>NA_CHANGE</th><th scope=col>AA_CHANGE</th><th scope=col>VARIANT_FREQUENCY</th><th scope=col>MEDIAN_COVERAGE</th><th scope=col>AMPLICON_READS</th></tr></thead>\n",
       "<tbody>\n",
       "\t<tr><th scope=row>50</th><td>T8_AB128_I1_REP1                                          </td><td> 8                                                        </td><td>128                                                       </td><td>1                                                         </td><td>1                                                         </td><td>HAMBI_105                                                 </td><td>IDIPBEOP_1                                                </td><td><span style=white-space:pre-wrap>  42374</span>           </td><td>T                                                         </td><td>C                                                         </td><td>⋯                                                         </td><td><span style=white-space:pre-wrap>missense_variant  </span></td><td>nonsynonymous                                             </td><td>MODERATE                                                  </td><td>cysW_1                                                    </td><td>IDIPBEOP_00039                                            </td><td>c.461T&gt;C                                               </td><td>p.Ile154Thr                                               </td><td>0.5000000                                                 </td><td>58                                                        </td><td>14                                                        </td></tr>\n",
       "\t<tr><th scope=row>51</th><td>T8_AB128_I1_REP1                                     </td><td> 8                                                   </td><td>128                                                  </td><td>1                                                    </td><td>1                                                    </td><td>HAMBI_105                                            </td><td>IDIPBEOP_1                                           </td><td> 836186                                              </td><td>C                                                    </td><td>A                                                    </td><td>⋯                                                    </td><td>synonymous_variant                                   </td><td><span style=white-space:pre-wrap>synonymous   </span></td><td><span style=white-space:pre-wrap>LOW     </span>     </td><td><span style=white-space:pre-wrap>garB  </span>       </td><td>IDIPBEOP_00850                                       </td><td>c.1029G&gt;T                                         </td><td>p.Thr343Thr                                          </td><td>0.6666667                                            </td><td>58                                                   </td><td>14                                                   </td></tr>\n",
       "\t<tr><th scope=row>52</th><td>T8_AB128_I1_REP1                                          </td><td> 8                                                        </td><td>128                                                       </td><td>1                                                         </td><td>1                                                         </td><td>HAMBI_105                                                 </td><td>IDIPBEOP_1                                                </td><td> 902934                                                   </td><td>C                                                         </td><td>T                                                         </td><td>⋯                                                         </td><td><span style=white-space:pre-wrap>missense_variant  </span></td><td>nonsynonymous                                             </td><td>MODERATE                                                  </td><td><span style=white-space:pre-wrap>btrK  </span>            </td><td>IDIPBEOP_00911                                            </td><td>c.185C&gt;T                                               </td><td>p.Ala62Val                                                </td><td>0.6666667                                                 </td><td>58                                                        </td><td>14                                                        </td></tr>\n",
       "\t<tr><th scope=row>9</th><td>T12_AB128_I0_REP1                                         </td><td>12                                                        </td><td>128                                                       </td><td>0                                                         </td><td>1                                                         </td><td>HAMBI_105                                                 </td><td>IDIPBEOP_1                                                </td><td> 942441                                                   </td><td>A                                                         </td><td>C                                                         </td><td>⋯                                                         </td><td><span style=white-space:pre-wrap>missense_variant  </span></td><td>nonsynonymous                                             </td><td>MODERATE                                                  </td><td><span style=white-space:pre-wrap>erpA  </span>            </td><td>IDIPBEOP_00947                                            </td><td><span style=white-space:pre-wrap>c.8A&gt;C   </span>      </td><td><span style=white-space:pre-wrap>p.Asn3Thr  </span>       </td><td>0.6666667                                                 </td><td>74                                                        </td><td>70                                                        </td></tr>\n",
       "\t<tr><th scope=row>67</th><td>T8_AB128_I1_REP3                                     </td><td> 8                                                   </td><td>128                                                  </td><td>1                                                    </td><td>3                                                    </td><td>HAMBI_105                                            </td><td>IDIPBEOP_1                                           </td><td>1009493                                              </td><td>C                                                    </td><td>T                                                    </td><td>⋯                                                    </td><td>synonymous_variant                                   </td><td><span style=white-space:pre-wrap>synonymous   </span></td><td><span style=white-space:pre-wrap>LOW     </span>     </td><td><span style=white-space:pre-wrap>recG  </span>       </td><td>IDIPBEOP_01017                                       </td><td>c.282C&gt;T                                          </td><td>p.Phe94Phe                                           </td><td>0.6666667                                            </td><td>62                                                   </td><td>21                                                   </td></tr>\n",
       "\t<tr><th scope=row>11</th><td>T12_AB128_I0_REP1                                    </td><td>12                                                   </td><td>128                                                  </td><td>0                                                    </td><td>1                                                    </td><td>HAMBI_105                                            </td><td>IDIPBEOP_1                                           </td><td>1144946                                              </td><td>A                                                    </td><td>G                                                    </td><td>⋯                                                    </td><td>synonymous_variant                                   </td><td><span style=white-space:pre-wrap>synonymous   </span></td><td><span style=white-space:pre-wrap>LOW     </span>     </td><td><span style=white-space:pre-wrap>tufA  </span>       </td><td>IDIPBEOP_01165                                       </td><td>c.834T&gt;C                                          </td><td>p.Gly278Gly                                          </td><td>0.7500000                                            </td><td>74                                                   </td><td>70                                                   </td></tr>\n",
       "</tbody>\n",
       "</table>\n"
      ],
      "text/latex": [
       "\\begin{tabular}{r|lllllllllllllllllllll}\n",
       "  & SAMPLE & TIME & ANTIBIOTIC & IMMIGRATION & REPLICATE & SPECIES & CONTIG & POSITION & REF\\_ALLELE & ALT\\_ALLELE & ⋯ & VARIANT\\_EFFECT & VARIANT\\_EFFECT\\_CAT & VARIANT\\_IMPACT & GENE & GENEID & NA\\_CHANGE & AA\\_CHANGE & VARIANT\\_FREQUENCY & MEDIAN\\_COVERAGE & AMPLICON\\_READS\\\\\n",
       "\\hline\n",
       "\t50 & T8\\_AB128\\_I1\\_REP1  &  8                      & 128                     & 1                       & 1                       & HAMBI\\_105             & IDIPBEOP\\_1            &   42374                 & T                       & C                       & ⋯                       & missense\\_variant      & nonsynonymous           & MODERATE                & cysW\\_1                & IDIPBEOP\\_00039        & c.461T>C                & p.Ile154Thr             & 0.5000000               & 58                      & 14                     \\\\\n",
       "\t51 & T8\\_AB128\\_I1\\_REP1  &  8                      & 128                     & 1                       & 1                       & HAMBI\\_105             & IDIPBEOP\\_1            &  836186                 & C                       & A                       & ⋯                       & synonymous\\_variant    & synonymous              & LOW                     & garB                    & IDIPBEOP\\_00850        & c.1029G>T               & p.Thr343Thr             & 0.6666667               & 58                      & 14                     \\\\\n",
       "\t52 & T8\\_AB128\\_I1\\_REP1  &  8                      & 128                     & 1                       & 1                       & HAMBI\\_105             & IDIPBEOP\\_1            &  902934                 & C                       & T                       & ⋯                       & missense\\_variant      & nonsynonymous           & MODERATE                & btrK                    & IDIPBEOP\\_00911        & c.185C>T                & p.Ala62Val              & 0.6666667               & 58                      & 14                     \\\\\n",
       "\t9 & T12\\_AB128\\_I0\\_REP1 & 12                      & 128                     & 0                       & 1                       & HAMBI\\_105             & IDIPBEOP\\_1            &  942441                 & A                       & C                       & ⋯                       & missense\\_variant      & nonsynonymous           & MODERATE                & erpA                    & IDIPBEOP\\_00947        & c.8A>C                  & p.Asn3Thr               & 0.6666667               & 74                      & 70                     \\\\\n",
       "\t67 & T8\\_AB128\\_I1\\_REP3  &  8                      & 128                     & 1                       & 3                       & HAMBI\\_105             & IDIPBEOP\\_1            & 1009493                 & C                       & T                       & ⋯                       & synonymous\\_variant    & synonymous              & LOW                     & recG                    & IDIPBEOP\\_01017        & c.282C>T                & p.Phe94Phe              & 0.6666667               & 62                      & 21                     \\\\\n",
       "\t11 & T12\\_AB128\\_I0\\_REP1 & 12                      & 128                     & 0                       & 1                       & HAMBI\\_105             & IDIPBEOP\\_1            & 1144946                 & A                       & G                       & ⋯                       & synonymous\\_variant    & synonymous              & LOW                     & tufA                    & IDIPBEOP\\_01165        & c.834T>C                & p.Gly278Gly             & 0.7500000               & 74                      & 70                     \\\\\n",
       "\\end{tabular}\n"
      ],
      "text/markdown": [
       "\n",
       "| <!--/--> | SAMPLE | TIME | ANTIBIOTIC | IMMIGRATION | REPLICATE | SPECIES | CONTIG | POSITION | REF_ALLELE | ALT_ALLELE | ⋯ | VARIANT_EFFECT | VARIANT_EFFECT_CAT | VARIANT_IMPACT | GENE | GENEID | NA_CHANGE | AA_CHANGE | VARIANT_FREQUENCY | MEDIAN_COVERAGE | AMPLICON_READS | \n",
       "|---|---|---|---|---|---|\n",
       "| 50 | T8_AB128_I1_REP1   |  8                 | 128                | 1                  | 1                  | HAMBI_105          | IDIPBEOP_1         |   42374            | T                  | C                  | ⋯                  | missense_variant   | nonsynonymous      | MODERATE           | cysW_1             | IDIPBEOP_00039     | c.461T>C           | p.Ile154Thr        | 0.5000000          | 58                 | 14                 | \n",
       "| 51 | T8_AB128_I1_REP1   |  8                 | 128                | 1                  | 1                  | HAMBI_105          | IDIPBEOP_1         |  836186            | C                  | A                  | ⋯                  | synonymous_variant | synonymous         | LOW                | garB               | IDIPBEOP_00850     | c.1029G>T          | p.Thr343Thr        | 0.6666667          | 58                 | 14                 | \n",
       "| 52 | T8_AB128_I1_REP1   |  8                 | 128                | 1                  | 1                  | HAMBI_105          | IDIPBEOP_1         |  902934            | C                  | T                  | ⋯                  | missense_variant   | nonsynonymous      | MODERATE           | btrK               | IDIPBEOP_00911     | c.185C>T           | p.Ala62Val         | 0.6666667          | 58                 | 14                 | \n",
       "| 9 | T12_AB128_I0_REP1  | 12                 | 128                | 0                  | 1                  | HAMBI_105          | IDIPBEOP_1         |  942441            | A                  | C                  | ⋯                  | missense_variant   | nonsynonymous      | MODERATE           | erpA               | IDIPBEOP_00947     | c.8A>C             | p.Asn3Thr          | 0.6666667          | 74                 | 70                 | \n",
       "| 67 | T8_AB128_I1_REP3   |  8                 | 128                | 1                  | 3                  | HAMBI_105          | IDIPBEOP_1         | 1009493            | C                  | T                  | ⋯                  | synonymous_variant | synonymous         | LOW                | recG               | IDIPBEOP_01017     | c.282C>T           | p.Phe94Phe         | 0.6666667          | 62                 | 21                 | \n",
       "| 11 | T12_AB128_I0_REP1  | 12                 | 128                | 0                  | 1                  | HAMBI_105          | IDIPBEOP_1         | 1144946            | A                  | G                  | ⋯                  | synonymous_variant | synonymous         | LOW                | tufA               | IDIPBEOP_01165     | c.834T>C           | p.Gly278Gly        | 0.7500000          | 74                 | 70                 | \n",
       "\n",
       "\n"
      ],
      "text/plain": [
       "   SAMPLE            TIME ANTIBIOTIC IMMIGRATION REPLICATE SPECIES   CONTIG    \n",
       "50 T8_AB128_I1_REP1   8   128        1           1         HAMBI_105 IDIPBEOP_1\n",
       "51 T8_AB128_I1_REP1   8   128        1           1         HAMBI_105 IDIPBEOP_1\n",
       "52 T8_AB128_I1_REP1   8   128        1           1         HAMBI_105 IDIPBEOP_1\n",
       "9  T12_AB128_I0_REP1 12   128        0           1         HAMBI_105 IDIPBEOP_1\n",
       "67 T8_AB128_I1_REP3   8   128        1           3         HAMBI_105 IDIPBEOP_1\n",
       "11 T12_AB128_I0_REP1 12   128        0           1         HAMBI_105 IDIPBEOP_1\n",
       "   POSITION REF_ALLELE ALT_ALLELE ⋯ VARIANT_EFFECT     VARIANT_EFFECT_CAT\n",
       "50   42374  T          C          ⋯ missense_variant   nonsynonymous     \n",
       "51  836186  C          A          ⋯ synonymous_variant synonymous        \n",
       "52  902934  C          T          ⋯ missense_variant   nonsynonymous     \n",
       "9   942441  A          C          ⋯ missense_variant   nonsynonymous     \n",
       "67 1009493  C          T          ⋯ synonymous_variant synonymous        \n",
       "11 1144946  A          G          ⋯ synonymous_variant synonymous        \n",
       "   VARIANT_IMPACT GENE   GENEID         NA_CHANGE AA_CHANGE   VARIANT_FREQUENCY\n",
       "50 MODERATE       cysW_1 IDIPBEOP_00039 c.461T>C  p.Ile154Thr 0.5000000        \n",
       "51 LOW            garB   IDIPBEOP_00850 c.1029G>T p.Thr343Thr 0.6666667        \n",
       "52 MODERATE       btrK   IDIPBEOP_00911 c.185C>T  p.Ala62Val  0.6666667        \n",
       "9  MODERATE       erpA   IDIPBEOP_00947 c.8A>C    p.Asn3Thr   0.6666667        \n",
       "67 LOW            recG   IDIPBEOP_01017 c.282C>T  p.Phe94Phe  0.6666667        \n",
       "11 LOW            tufA   IDIPBEOP_01165 c.834T>C  p.Gly278Gly 0.7500000        \n",
       "   MEDIAN_COVERAGE AMPLICON_READS\n",
       "50 58              14            \n",
       "51 58              14            \n",
       "52 58              14            \n",
       "9  74              70            \n",
       "67 62              21            \n",
       "11 74              70            "
      ]
     },
     "metadata": {},
     "output_type": "display_data"
    }
   ],
   "source": [
    "# Reformat and add explicit column names\n",
    "\n",
    "variants4 = variants4[,c(17,2:5,1,6:11,21,12:16,18:20)]\n",
    "colnames(variants4) = c(\"SAMPLE\",\n",
    "                        \"TIME\",\n",
    "                        \"ANTIBIOTIC\",\n",
    "                        \"IMMIGRATION\",\n",
    "                        \"REPLICATE\",\n",
    "                        \"SPECIES\",\n",
    "                        \"CONTIG\",\n",
    "                        \"POSITION\",\n",
    "                        \"REF_ALLELE\",\n",
    "                        \"ALT_ALLELE\",\n",
    "                        \"VARIANT_TYPE\",\n",
    "                        \"VARIANT_EFFECT\",\n",
    "                        \"VARIANT_EFFECT_CAT\",\n",
    "                        \"VARIANT_IMPACT\",\n",
    "                        \"GENE\",\n",
    "                        \"GENEID\",\n",
    "                        \"NA_CHANGE\",\n",
    "                        \"AA_CHANGE\",\n",
    "                        \"VARIANT_FREQUENCY\",\n",
    "                        \"MEDIAN_COVERAGE\",\n",
    "                        \"AMPLICON_READS\")\n",
    "variants4 = variants4[order(variants4$SPECIES, variants4$CONTIG, variants4$POSITION),]\n",
    "head(variants4)"
   ]
  },
  {
   "cell_type": "code",
   "execution_count": 23,
   "metadata": {},
   "outputs": [
    {
     "data": {
      "text/html": [
       "<table>\n",
       "<thead><tr><th scope=col>CONTIG</th><th scope=col>POSITION</th><th scope=col>SAMPLE</th><th scope=col>TIME</th><th scope=col>ANTIBIOTIC</th><th scope=col>IMMIGRATION</th><th scope=col>REPLICATE</th><th scope=col>SPECIES</th><th scope=col>REF_ALLELE</th><th scope=col>ALT_ALLELE</th><th scope=col>⋯</th><th scope=col>VARIANT_EFFECT_CAT</th><th scope=col>VARIANT_IMPACT</th><th scope=col>GENE</th><th scope=col>GENEID</th><th scope=col>NA_CHANGE</th><th scope=col>AA_CHANGE</th><th scope=col>VARIANT_FREQUENCY</th><th scope=col>MEDIAN_COVERAGE</th><th scope=col>AMPLICON_READS</th><th scope=col>DISTANCE_FROM_PREV</th></tr></thead>\n",
       "<tbody>\n",
       "\t<tr><td>ABNHBPOL_1                                           </td><td>130054                                               </td><td>T12_AB16_I0_REP3                                     </td><td>12                                                   </td><td>16                                                   </td><td>0                                                    </td><td>3                                                    </td><td>HAMBI_1972                                           </td><td>G                                                    </td><td>T                                                    </td><td>⋯                                                    </td><td>nonsynonymous                                        </td><td>MODERATE                                             </td><td>ABNHBPOL_00101                                       </td><td>ABNHBPOL_00101                                       </td><td><span style=white-space:pre-wrap>c.653C&gt;A  </span></td><td>p.Thr218Asn                                          </td><td>0.5000000                                            </td><td>439                                                  </td><td> 550                                                 </td><td>65183                                                </td></tr>\n",
       "\t<tr><td>ABNHBPOL_1                                              </td><td>204875                                                  </td><td><span style=white-space:pre-wrap>T8_AB4_I1_REP1  </span></td><td> 8                                                      </td><td> 4                                                      </td><td>1                                                       </td><td>1                                                       </td><td>HAMBI_1972                                              </td><td>G                                                       </td><td>T                                                       </td><td>⋯                                                       </td><td>nonsynonymous                                           </td><td>MODERATE                                                </td><td><span style=white-space:pre-wrap>hscA          </span>  </td><td>ABNHBPOL_00169                                          </td><td>c.1013G&gt;T                                            </td><td>p.Arg338Leu                                             </td><td>0.6666667                                               </td><td>163                                                     </td><td> 169                                                    </td><td>74821                                                   </td></tr>\n",
       "\t<tr><td>ABNHBPOL_1                                            </td><td>277408                                                </td><td>T12_AB0_I0_REP1                                       </td><td>12                                                    </td><td> 0                                                    </td><td>0                                                     </td><td>1                                                     </td><td>HAMBI_1972                                            </td><td>T                                                     </td><td>C                                                     </td><td>⋯                                                     </td><td><span style=white-space:pre-wrap>noncoding    </span> </td><td>MODIFIER                                              </td><td><span style=white-space:pre-wrap>hns_1         </span></td><td>ABNHBPOL_00236                                        </td><td>c.-4987A&gt;G                                         </td><td><span style=white-space:pre-wrap>NA         </span>   </td><td>1.0000000                                             </td><td>604                                                   </td><td>4103                                                  </td><td>72533                                                 </td></tr>\n",
       "\t<tr><td>ABNHBPOL_1                                            </td><td>277408                                                </td><td>T12_AB0_I0_REP2                                       </td><td>12                                                    </td><td> 0                                                    </td><td>0                                                     </td><td>2                                                     </td><td>HAMBI_1972                                            </td><td>T                                                     </td><td>C                                                     </td><td>⋯                                                     </td><td><span style=white-space:pre-wrap>noncoding    </span> </td><td>MODIFIER                                              </td><td><span style=white-space:pre-wrap>hns_1         </span></td><td>ABNHBPOL_00236                                        </td><td>c.-4987A&gt;G                                         </td><td><span style=white-space:pre-wrap>NA         </span>   </td><td>1.0000000                                             </td><td>569                                                   </td><td>2768                                                  </td><td>72533                                                 </td></tr>\n",
       "\t<tr><td>ABNHBPOL_1                                            </td><td>277408                                                </td><td>T12_AB0_I0_REP3                                       </td><td>12                                                    </td><td> 0                                                    </td><td>0                                                     </td><td>3                                                     </td><td>HAMBI_1972                                            </td><td>T                                                     </td><td>C                                                     </td><td>⋯                                                     </td><td><span style=white-space:pre-wrap>noncoding    </span> </td><td>MODIFIER                                              </td><td><span style=white-space:pre-wrap>hns_1         </span></td><td>ABNHBPOL_00236                                        </td><td>c.-4987A&gt;G                                         </td><td><span style=white-space:pre-wrap>NA         </span>   </td><td>1.0000000                                             </td><td>452                                                   </td><td>2138                                                  </td><td>72533                                                 </td></tr>\n",
       "\t<tr><td>ABNHBPOL_1                                            </td><td>277408                                                </td><td>T12_AB0_I1_REP1                                       </td><td>12                                                    </td><td> 0                                                    </td><td>1                                                     </td><td>1                                                     </td><td>HAMBI_1972                                            </td><td>T                                                     </td><td>C                                                     </td><td>⋯                                                     </td><td><span style=white-space:pre-wrap>noncoding    </span> </td><td>MODIFIER                                              </td><td><span style=white-space:pre-wrap>hns_1         </span></td><td>ABNHBPOL_00236                                        </td><td>c.-4987A&gt;G                                         </td><td><span style=white-space:pre-wrap>NA         </span>   </td><td>1.0000000                                             </td><td>551                                                   </td><td>1886                                                  </td><td>72533                                                 </td></tr>\n",
       "</tbody>\n",
       "</table>\n"
      ],
      "text/latex": [
       "\\begin{tabular}{r|llllllllllllllllllllll}\n",
       " CONTIG & POSITION & SAMPLE & TIME & ANTIBIOTIC & IMMIGRATION & REPLICATE & SPECIES & REF\\_ALLELE & ALT\\_ALLELE & ⋯ & VARIANT\\_EFFECT\\_CAT & VARIANT\\_IMPACT & GENE & GENEID & NA\\_CHANGE & AA\\_CHANGE & VARIANT\\_FREQUENCY & MEDIAN\\_COVERAGE & AMPLICON\\_READS & DISTANCE\\_FROM\\_PREV\\\\\n",
       "\\hline\n",
       "\t ABNHBPOL\\_1           & 130054                 & T12\\_AB16\\_I0\\_REP3 & 12                     & 16                     & 0                      & 3                      & HAMBI\\_1972           & G                      & T                      & ⋯                      & nonsynonymous          & MODERATE               & ABNHBPOL\\_00101       & ABNHBPOL\\_00101       & c.653C>A               & p.Thr218Asn            & 0.5000000              & 439                    &  550                   & 65183                 \\\\\n",
       "\t ABNHBPOL\\_1           & 204875                 & T8\\_AB4\\_I1\\_REP1   &  8                     &  4                     & 1                      & 1                      & HAMBI\\_1972           & G                      & T                      & ⋯                      & nonsynonymous          & MODERATE               & hscA                   & ABNHBPOL\\_00169       & c.1013G>T              & p.Arg338Leu            & 0.6666667              & 163                    &  169                   & 74821                 \\\\\n",
       "\t ABNHBPOL\\_1           & 277408                 & T12\\_AB0\\_I0\\_REP1  & 12                     &  0                     & 0                      & 1                      & HAMBI\\_1972           & T                      & C                      & ⋯                      & noncoding              & MODIFIER               & hns\\_1                & ABNHBPOL\\_00236       & c.-4987A>G             & NA                     & 1.0000000              & 604                    & 4103                   & 72533                 \\\\\n",
       "\t ABNHBPOL\\_1           & 277408                 & T12\\_AB0\\_I0\\_REP2  & 12                     &  0                     & 0                      & 2                      & HAMBI\\_1972           & T                      & C                      & ⋯                      & noncoding              & MODIFIER               & hns\\_1                & ABNHBPOL\\_00236       & c.-4987A>G             & NA                     & 1.0000000              & 569                    & 2768                   & 72533                 \\\\\n",
       "\t ABNHBPOL\\_1           & 277408                 & T12\\_AB0\\_I0\\_REP3  & 12                     &  0                     & 0                      & 3                      & HAMBI\\_1972           & T                      & C                      & ⋯                      & noncoding              & MODIFIER               & hns\\_1                & ABNHBPOL\\_00236       & c.-4987A>G             & NA                     & 1.0000000              & 452                    & 2138                   & 72533                 \\\\\n",
       "\t ABNHBPOL\\_1           & 277408                 & T12\\_AB0\\_I1\\_REP1  & 12                     &  0                     & 1                      & 1                      & HAMBI\\_1972           & T                      & C                      & ⋯                      & noncoding              & MODIFIER               & hns\\_1                & ABNHBPOL\\_00236       & c.-4987A>G             & NA                     & 1.0000000              & 551                    & 1886                   & 72533                 \\\\\n",
       "\\end{tabular}\n"
      ],
      "text/markdown": [
       "\n",
       "CONTIG | POSITION | SAMPLE | TIME | ANTIBIOTIC | IMMIGRATION | REPLICATE | SPECIES | REF_ALLELE | ALT_ALLELE | ⋯ | VARIANT_EFFECT_CAT | VARIANT_IMPACT | GENE | GENEID | NA_CHANGE | AA_CHANGE | VARIANT_FREQUENCY | MEDIAN_COVERAGE | AMPLICON_READS | DISTANCE_FROM_PREV | \n",
       "|---|---|---|---|---|---|\n",
       "| ABNHBPOL_1       | 130054           | T12_AB16_I0_REP3 | 12               | 16               | 0                | 3                | HAMBI_1972       | G                | T                | ⋯                | nonsynonymous    | MODERATE         | ABNHBPOL_00101   | ABNHBPOL_00101   | c.653C>A         | p.Thr218Asn      | 0.5000000        | 439              |  550             | 65183            | \n",
       "| ABNHBPOL_1       | 204875           | T8_AB4_I1_REP1   |  8               |  4               | 1                | 1                | HAMBI_1972       | G                | T                | ⋯                | nonsynonymous    | MODERATE         | hscA             | ABNHBPOL_00169   | c.1013G>T        | p.Arg338Leu      | 0.6666667        | 163              |  169             | 74821            | \n",
       "| ABNHBPOL_1       | 277408           | T12_AB0_I0_REP1  | 12               |  0               | 0                | 1                | HAMBI_1972       | T                | C                | ⋯                | noncoding        | MODIFIER         | hns_1            | ABNHBPOL_00236   | c.-4987A>G       | NA               | 1.0000000        | 604              | 4103             | 72533            | \n",
       "| ABNHBPOL_1       | 277408           | T12_AB0_I0_REP2  | 12               |  0               | 0                | 2                | HAMBI_1972       | T                | C                | ⋯                | noncoding        | MODIFIER         | hns_1            | ABNHBPOL_00236   | c.-4987A>G       | NA               | 1.0000000        | 569              | 2768             | 72533            | \n",
       "| ABNHBPOL_1       | 277408           | T12_AB0_I0_REP3  | 12               |  0               | 0                | 3                | HAMBI_1972       | T                | C                | ⋯                | noncoding        | MODIFIER         | hns_1            | ABNHBPOL_00236   | c.-4987A>G       | NA               | 1.0000000        | 452              | 2138             | 72533            | \n",
       "| ABNHBPOL_1       | 277408           | T12_AB0_I1_REP1  | 12               |  0               | 1                | 1                | HAMBI_1972       | T                | C                | ⋯                | noncoding        | MODIFIER         | hns_1            | ABNHBPOL_00236   | c.-4987A>G       | NA               | 1.0000000        | 551              | 1886             | 72533            | \n",
       "\n",
       "\n"
      ],
      "text/plain": [
       "  CONTIG     POSITION SAMPLE           TIME ANTIBIOTIC IMMIGRATION REPLICATE\n",
       "1 ABNHBPOL_1 130054   T12_AB16_I0_REP3 12   16         0           3        \n",
       "2 ABNHBPOL_1 204875   T8_AB4_I1_REP1    8    4         1           1        \n",
       "3 ABNHBPOL_1 277408   T12_AB0_I0_REP1  12    0         0           1        \n",
       "4 ABNHBPOL_1 277408   T12_AB0_I0_REP2  12    0         0           2        \n",
       "5 ABNHBPOL_1 277408   T12_AB0_I0_REP3  12    0         0           3        \n",
       "6 ABNHBPOL_1 277408   T12_AB0_I1_REP1  12    0         1           1        \n",
       "  SPECIES    REF_ALLELE ALT_ALLELE ⋯ VARIANT_EFFECT_CAT VARIANT_IMPACT\n",
       "1 HAMBI_1972 G          T          ⋯ nonsynonymous      MODERATE      \n",
       "2 HAMBI_1972 G          T          ⋯ nonsynonymous      MODERATE      \n",
       "3 HAMBI_1972 T          C          ⋯ noncoding          MODIFIER      \n",
       "4 HAMBI_1972 T          C          ⋯ noncoding          MODIFIER      \n",
       "5 HAMBI_1972 T          C          ⋯ noncoding          MODIFIER      \n",
       "6 HAMBI_1972 T          C          ⋯ noncoding          MODIFIER      \n",
       "  GENE           GENEID         NA_CHANGE  AA_CHANGE   VARIANT_FREQUENCY\n",
       "1 ABNHBPOL_00101 ABNHBPOL_00101 c.653C>A   p.Thr218Asn 0.5000000        \n",
       "2 hscA           ABNHBPOL_00169 c.1013G>T  p.Arg338Leu 0.6666667        \n",
       "3 hns_1          ABNHBPOL_00236 c.-4987A>G NA          1.0000000        \n",
       "4 hns_1          ABNHBPOL_00236 c.-4987A>G NA          1.0000000        \n",
       "5 hns_1          ABNHBPOL_00236 c.-4987A>G NA          1.0000000        \n",
       "6 hns_1          ABNHBPOL_00236 c.-4987A>G NA          1.0000000        \n",
       "  MEDIAN_COVERAGE AMPLICON_READS DISTANCE_FROM_PREV\n",
       "1 439              550           65183             \n",
       "2 163              169           74821             \n",
       "3 604             4103           72533             \n",
       "4 569             2768           72533             \n",
       "5 452             2138           72533             \n",
       "6 551             1886           72533             "
      ]
     },
     "metadata": {},
     "output_type": "display_data"
    }
   ],
   "source": [
    "# Add distance from previous variant\n",
    "\n",
    "contigs = as.vector(unique(variants4$CONTIG))\n",
    "dist_list=list()\n",
    "for(i in 1:length(contigs)){\n",
    "  a = variants4[variants4$CONTIG == contigs[i],]\n",
    "  b = as.vector(sort(unique(a$POSITION)))\n",
    "  c = c(b[1],b[-length(b)])\n",
    "  d = b-c\n",
    "  e = as.data.frame(cbind(b,d))\n",
    "  colnames(e) = c(\"POSITION\",\"DISTANCE_FROM_PREV\")\n",
    "  e$CONTIG = contigs[i]\n",
    "  dist_list[[i]] = e\n",
    "}\n",
    "\n",
    "distance=Reduce(function(...) merge(..., all = T), dist_list)\n",
    "\n",
    "# Add distance data to variant data table\n",
    "                \n",
    "variants5 = merge(variants4, distance, all.x = T)\n",
    "head(variants5)"
   ]
  },
  {
   "cell_type": "code",
   "execution_count": 24,
   "metadata": {},
   "outputs": [
    {
     "data": {
      "text/html": [
       "<table>\n",
       "<thead><tr><th scope=col>SAMPLE</th><th scope=col>TIME</th><th scope=col>ANTIBIOTIC</th><th scope=col>IMMIGRATION</th><th scope=col>REPLICATE</th><th scope=col>SPECIES</th><th scope=col>CONTIG</th><th scope=col>CONTIG_LENGTH</th><th scope=col>POSITION</th><th scope=col>REF_ALLELE</th><th scope=col>⋯</th><th scope=col>VARIANT_EFFECT_CAT</th><th scope=col>VARIANT_IMPACT</th><th scope=col>GENE</th><th scope=col>GENEID</th><th scope=col>NA_CHANGE</th><th scope=col>AA_CHANGE</th><th scope=col>VARIANT_FREQUENCY</th><th scope=col>MEDIAN_COVERAGE</th><th scope=col>AMPLICON_READS</th><th scope=col>DISTANCE_FROM_PREV</th></tr></thead>\n",
       "<tbody>\n",
       "\t<tr><td>T12_AB16_I0_REP3                                     </td><td>12                                                   </td><td>16                                                   </td><td>0                                                    </td><td>3                                                    </td><td>HAMBI_1972                                           </td><td>ABNHBPOL_1                                           </td><td>404185                                               </td><td>130054                                               </td><td>G                                                    </td><td>⋯                                                    </td><td>nonsynonymous                                        </td><td>MODERATE                                             </td><td>ABNHBPOL_00101                                       </td><td>ABNHBPOL_00101                                       </td><td><span style=white-space:pre-wrap>c.653C&gt;A  </span></td><td>p.Thr218Asn                                          </td><td>0.5000000                                            </td><td>439                                                  </td><td> 550                                                 </td><td>65183                                                </td></tr>\n",
       "\t<tr><td><span style=white-space:pre-wrap>T8_AB4_I1_REP1  </span></td><td> 8                                                      </td><td> 4                                                      </td><td>1                                                       </td><td>1                                                       </td><td>HAMBI_1972                                              </td><td>ABNHBPOL_1                                              </td><td>404185                                                  </td><td>204875                                                  </td><td>G                                                       </td><td>⋯                                                       </td><td>nonsynonymous                                           </td><td>MODERATE                                                </td><td><span style=white-space:pre-wrap>hscA          </span>  </td><td>ABNHBPOL_00169                                          </td><td>c.1013G&gt;T                                            </td><td>p.Arg338Leu                                             </td><td>0.6666667                                               </td><td>163                                                     </td><td> 169                                                    </td><td>74821                                                   </td></tr>\n",
       "\t<tr><td>T12_AB0_I0_REP1                                       </td><td>12                                                    </td><td> 0                                                    </td><td>0                                                     </td><td>1                                                     </td><td>HAMBI_1972                                            </td><td>ABNHBPOL_1                                            </td><td>404185                                                </td><td>277408                                                </td><td>T                                                     </td><td>⋯                                                     </td><td><span style=white-space:pre-wrap>noncoding    </span> </td><td>MODIFIER                                              </td><td><span style=white-space:pre-wrap>hns_1         </span></td><td>ABNHBPOL_00236                                        </td><td>c.-4987A&gt;G                                         </td><td><span style=white-space:pre-wrap>NA         </span>   </td><td>1.0000000                                             </td><td>604                                                   </td><td>4103                                                  </td><td>72533                                                 </td></tr>\n",
       "\t<tr><td>T12_AB0_I0_REP2                                       </td><td>12                                                    </td><td> 0                                                    </td><td>0                                                     </td><td>2                                                     </td><td>HAMBI_1972                                            </td><td>ABNHBPOL_1                                            </td><td>404185                                                </td><td>277408                                                </td><td>T                                                     </td><td>⋯                                                     </td><td><span style=white-space:pre-wrap>noncoding    </span> </td><td>MODIFIER                                              </td><td><span style=white-space:pre-wrap>hns_1         </span></td><td>ABNHBPOL_00236                                        </td><td>c.-4987A&gt;G                                         </td><td><span style=white-space:pre-wrap>NA         </span>   </td><td>1.0000000                                             </td><td>569                                                   </td><td>2768                                                  </td><td>72533                                                 </td></tr>\n",
       "\t<tr><td>T12_AB0_I0_REP3                                       </td><td>12                                                    </td><td> 0                                                    </td><td>0                                                     </td><td>3                                                     </td><td>HAMBI_1972                                            </td><td>ABNHBPOL_1                                            </td><td>404185                                                </td><td>277408                                                </td><td>T                                                     </td><td>⋯                                                     </td><td><span style=white-space:pre-wrap>noncoding    </span> </td><td>MODIFIER                                              </td><td><span style=white-space:pre-wrap>hns_1         </span></td><td>ABNHBPOL_00236                                        </td><td>c.-4987A&gt;G                                         </td><td><span style=white-space:pre-wrap>NA         </span>   </td><td>1.0000000                                             </td><td>452                                                   </td><td>2138                                                  </td><td>72533                                                 </td></tr>\n",
       "\t<tr><td>T12_AB0_I1_REP1                                       </td><td>12                                                    </td><td> 0                                                    </td><td>1                                                     </td><td>1                                                     </td><td>HAMBI_1972                                            </td><td>ABNHBPOL_1                                            </td><td>404185                                                </td><td>277408                                                </td><td>T                                                     </td><td>⋯                                                     </td><td><span style=white-space:pre-wrap>noncoding    </span> </td><td>MODIFIER                                              </td><td><span style=white-space:pre-wrap>hns_1         </span></td><td>ABNHBPOL_00236                                        </td><td>c.-4987A&gt;G                                         </td><td><span style=white-space:pre-wrap>NA         </span>   </td><td>1.0000000                                             </td><td>551                                                   </td><td>1886                                                  </td><td>72533                                                 </td></tr>\n",
       "</tbody>\n",
       "</table>\n"
      ],
      "text/latex": [
       "\\begin{tabular}{r|lllllllllllllllllllllll}\n",
       " SAMPLE & TIME & ANTIBIOTIC & IMMIGRATION & REPLICATE & SPECIES & CONTIG & CONTIG\\_LENGTH & POSITION & REF\\_ALLELE & ⋯ & VARIANT\\_EFFECT\\_CAT & VARIANT\\_IMPACT & GENE & GENEID & NA\\_CHANGE & AA\\_CHANGE & VARIANT\\_FREQUENCY & MEDIAN\\_COVERAGE & AMPLICON\\_READS & DISTANCE\\_FROM\\_PREV\\\\\n",
       "\\hline\n",
       "\t T12\\_AB16\\_I0\\_REP3 & 12                     & 16                     & 0                      & 3                      & HAMBI\\_1972           & ABNHBPOL\\_1           & 404185                 & 130054                 & G                      & ⋯                      & nonsynonymous          & MODERATE               & ABNHBPOL\\_00101       & ABNHBPOL\\_00101       & c.653C>A               & p.Thr218Asn            & 0.5000000              & 439                    &  550                   & 65183                 \\\\\n",
       "\t T8\\_AB4\\_I1\\_REP1   &  8                     &  4                     & 1                      & 1                      & HAMBI\\_1972           & ABNHBPOL\\_1           & 404185                 & 204875                 & G                      & ⋯                      & nonsynonymous          & MODERATE               & hscA                   & ABNHBPOL\\_00169       & c.1013G>T              & p.Arg338Leu            & 0.6666667              & 163                    &  169                   & 74821                 \\\\\n",
       "\t T12\\_AB0\\_I0\\_REP1  & 12                     &  0                     & 0                      & 1                      & HAMBI\\_1972           & ABNHBPOL\\_1           & 404185                 & 277408                 & T                      & ⋯                      & noncoding              & MODIFIER               & hns\\_1                & ABNHBPOL\\_00236       & c.-4987A>G             & NA                     & 1.0000000              & 604                    & 4103                   & 72533                 \\\\\n",
       "\t T12\\_AB0\\_I0\\_REP2  & 12                     &  0                     & 0                      & 2                      & HAMBI\\_1972           & ABNHBPOL\\_1           & 404185                 & 277408                 & T                      & ⋯                      & noncoding              & MODIFIER               & hns\\_1                & ABNHBPOL\\_00236       & c.-4987A>G             & NA                     & 1.0000000              & 569                    & 2768                   & 72533                 \\\\\n",
       "\t T12\\_AB0\\_I0\\_REP3  & 12                     &  0                     & 0                      & 3                      & HAMBI\\_1972           & ABNHBPOL\\_1           & 404185                 & 277408                 & T                      & ⋯                      & noncoding              & MODIFIER               & hns\\_1                & ABNHBPOL\\_00236       & c.-4987A>G             & NA                     & 1.0000000              & 452                    & 2138                   & 72533                 \\\\\n",
       "\t T12\\_AB0\\_I1\\_REP1  & 12                     &  0                     & 1                      & 1                      & HAMBI\\_1972           & ABNHBPOL\\_1           & 404185                 & 277408                 & T                      & ⋯                      & noncoding              & MODIFIER               & hns\\_1                & ABNHBPOL\\_00236       & c.-4987A>G             & NA                     & 1.0000000              & 551                    & 1886                   & 72533                 \\\\\n",
       "\\end{tabular}\n"
      ],
      "text/markdown": [
       "\n",
       "SAMPLE | TIME | ANTIBIOTIC | IMMIGRATION | REPLICATE | SPECIES | CONTIG | CONTIG_LENGTH | POSITION | REF_ALLELE | ⋯ | VARIANT_EFFECT_CAT | VARIANT_IMPACT | GENE | GENEID | NA_CHANGE | AA_CHANGE | VARIANT_FREQUENCY | MEDIAN_COVERAGE | AMPLICON_READS | DISTANCE_FROM_PREV | \n",
       "|---|---|---|---|---|---|\n",
       "| T12_AB16_I0_REP3 | 12               | 16               | 0                | 3                | HAMBI_1972       | ABNHBPOL_1       | 404185           | 130054           | G                | ⋯                | nonsynonymous    | MODERATE         | ABNHBPOL_00101   | ABNHBPOL_00101   | c.653C>A         | p.Thr218Asn      | 0.5000000        | 439              |  550             | 65183            | \n",
       "| T8_AB4_I1_REP1   |  8               |  4               | 1                | 1                | HAMBI_1972       | ABNHBPOL_1       | 404185           | 204875           | G                | ⋯                | nonsynonymous    | MODERATE         | hscA             | ABNHBPOL_00169   | c.1013G>T        | p.Arg338Leu      | 0.6666667        | 163              |  169             | 74821            | \n",
       "| T12_AB0_I0_REP1  | 12               |  0               | 0                | 1                | HAMBI_1972       | ABNHBPOL_1       | 404185           | 277408           | T                | ⋯                | noncoding        | MODIFIER         | hns_1            | ABNHBPOL_00236   | c.-4987A>G       | NA               | 1.0000000        | 604              | 4103             | 72533            | \n",
       "| T12_AB0_I0_REP2  | 12               |  0               | 0                | 2                | HAMBI_1972       | ABNHBPOL_1       | 404185           | 277408           | T                | ⋯                | noncoding        | MODIFIER         | hns_1            | ABNHBPOL_00236   | c.-4987A>G       | NA               | 1.0000000        | 569              | 2768             | 72533            | \n",
       "| T12_AB0_I0_REP3  | 12               |  0               | 0                | 3                | HAMBI_1972       | ABNHBPOL_1       | 404185           | 277408           | T                | ⋯                | noncoding        | MODIFIER         | hns_1            | ABNHBPOL_00236   | c.-4987A>G       | NA               | 1.0000000        | 452              | 2138             | 72533            | \n",
       "| T12_AB0_I1_REP1  | 12               |  0               | 1                | 1                | HAMBI_1972       | ABNHBPOL_1       | 404185           | 277408           | T                | ⋯                | noncoding        | MODIFIER         | hns_1            | ABNHBPOL_00236   | c.-4987A>G       | NA               | 1.0000000        | 551              | 1886             | 72533            | \n",
       "\n",
       "\n"
      ],
      "text/plain": [
       "  SAMPLE           TIME ANTIBIOTIC IMMIGRATION REPLICATE SPECIES    CONTIG    \n",
       "1 T12_AB16_I0_REP3 12   16         0           3         HAMBI_1972 ABNHBPOL_1\n",
       "2 T8_AB4_I1_REP1    8    4         1           1         HAMBI_1972 ABNHBPOL_1\n",
       "3 T12_AB0_I0_REP1  12    0         0           1         HAMBI_1972 ABNHBPOL_1\n",
       "4 T12_AB0_I0_REP2  12    0         0           2         HAMBI_1972 ABNHBPOL_1\n",
       "5 T12_AB0_I0_REP3  12    0         0           3         HAMBI_1972 ABNHBPOL_1\n",
       "6 T12_AB0_I1_REP1  12    0         1           1         HAMBI_1972 ABNHBPOL_1\n",
       "  CONTIG_LENGTH POSITION REF_ALLELE ⋯ VARIANT_EFFECT_CAT VARIANT_IMPACT\n",
       "1 404185        130054   G          ⋯ nonsynonymous      MODERATE      \n",
       "2 404185        204875   G          ⋯ nonsynonymous      MODERATE      \n",
       "3 404185        277408   T          ⋯ noncoding          MODIFIER      \n",
       "4 404185        277408   T          ⋯ noncoding          MODIFIER      \n",
       "5 404185        277408   T          ⋯ noncoding          MODIFIER      \n",
       "6 404185        277408   T          ⋯ noncoding          MODIFIER      \n",
       "  GENE           GENEID         NA_CHANGE  AA_CHANGE   VARIANT_FREQUENCY\n",
       "1 ABNHBPOL_00101 ABNHBPOL_00101 c.653C>A   p.Thr218Asn 0.5000000        \n",
       "2 hscA           ABNHBPOL_00169 c.1013G>T  p.Arg338Leu 0.6666667        \n",
       "3 hns_1          ABNHBPOL_00236 c.-4987A>G NA          1.0000000        \n",
       "4 hns_1          ABNHBPOL_00236 c.-4987A>G NA          1.0000000        \n",
       "5 hns_1          ABNHBPOL_00236 c.-4987A>G NA          1.0000000        \n",
       "6 hns_1          ABNHBPOL_00236 c.-4987A>G NA          1.0000000        \n",
       "  MEDIAN_COVERAGE AMPLICON_READS DISTANCE_FROM_PREV\n",
       "1 439              550           65183             \n",
       "2 163              169           74821             \n",
       "3 604             4103           72533             \n",
       "4 569             2768           72533             \n",
       "5 452             2138           72533             \n",
       "6 551             1886           72533             "
      ]
     },
     "metadata": {},
     "output_type": "display_data"
    }
   ],
   "source": [
    "# Add contig length data\n",
    "\n",
    "# Read in data\n",
    "\n",
    "contig_length = read.table(\"../../../data/deep_seq/contig_length.txt\")\n",
    "\n",
    "# Reformat\n",
    "\n",
    "colnames(contig_length) = c(\"CONTIG\", \"CONTIG_LENGTH\")\n",
    "contig_length$CONTIG = gsub(\"[gln|X|]\", \"\", contig_length$CONTIG)\n",
    "contig_length$CONTIG = as.factor(contig_length$CONTIG)\n",
    "\n",
    "# Add contig length data to variant data table\n",
    "\n",
    "variants6 = merge(variants5, contig_length, by = \"CONTIG\")\n",
    "\n",
    "# Reformat variant data table\n",
    "\n",
    "variants6 = variants6[,c(3:8, 1, 23, 2, 9:22)]\n",
    "head(variants6)"
   ]
  },
  {
   "cell_type": "code",
   "execution_count": 25,
   "metadata": {},
   "outputs": [],
   "source": [
    "# Write out\n",
    "\n",
    "write.table(variants6, row.names = FALSE, \"../../../data/deep_seq/downsampled_filtered_variant_data.txt\", sep = \"\\t\")"
   ]
  }
 ],
 "metadata": {
  "kernelspec": {
   "display_name": "R",
   "language": "R",
   "name": "ir"
  },
  "language_info": {
   "codemirror_mode": "r",
   "file_extension": ".r",
   "mimetype": "text/x-r-source",
   "name": "R",
   "pygments_lexer": "r",
   "version": "3.5.1"
  }
 },
 "nbformat": 4,
 "nbformat_minor": 2
}
