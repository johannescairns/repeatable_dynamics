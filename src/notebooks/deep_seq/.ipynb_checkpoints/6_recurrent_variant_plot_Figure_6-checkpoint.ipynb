{
 "cells": [
  {
   "cell_type": "markdown",
   "metadata": {},
   "source": [
    "# Recurrent variant plot"
   ]
  },
  {
   "cell_type": "code",
   "execution_count": 1,
   "metadata": {},
   "outputs": [
    {
     "name": "stderr",
     "output_type": "stream",
     "text": [
      "\n",
      "Attaching package: ‘dplyr’\n",
      "\n",
      "The following objects are masked from ‘package:stats’:\n",
      "\n",
      "    filter, lag\n",
      "\n",
      "The following objects are masked from ‘package:base’:\n",
      "\n",
      "    intersect, setdiff, setequal, union\n",
      "\n"
     ]
    }
   ],
   "source": [
    "# Housekeeping\n",
    "\n",
    "library(dplyr)\n",
    "library(ggplot2)\n",
    "library(RColorBrewer)\n",
    "library(reshape2)\n",
    "library(scales)"
   ]
  },
  {
   "cell_type": "code",
   "execution_count": 2,
   "metadata": {},
   "outputs": [
    {
     "data": {
      "text/html": [
       "<table>\n",
       "<thead><tr><th scope=col>SAMPLE</th><th scope=col>TIME</th><th scope=col>ANTIBIOTIC</th><th scope=col>IMMIGRATION</th><th scope=col>REPLICATE</th><th scope=col>SPECIES</th><th scope=col>CONTIG</th><th scope=col>CONTIG_LENGTH</th><th scope=col>POSITION</th><th scope=col>REF_ALLELE</th><th scope=col>⋯</th><th scope=col>VARIANT_IMPACT</th><th scope=col>GENE</th><th scope=col>GENEID</th><th scope=col>NA_CHANGE</th><th scope=col>AA_CHANGE</th><th scope=col>VARIANT_FREQUENCY</th><th scope=col>MEDIAN_COVERAGE</th><th scope=col>AMPLICON_READS</th><th scope=col>DISTANCE_FROM_PREV</th><th scope=col>COUNT</th></tr></thead>\n",
       "<tbody>\n",
       "\t<tr><td>T8_AB4_I1_REP2 </td><td> 8             </td><td> 4             </td><td>1              </td><td>2              </td><td>HAMBI_1972     </td><td>ABNHBPOL_11    </td><td>154390         </td><td>38145          </td><td>T              </td><td>⋯              </td><td>MODERATE       </td><td>vgrG1_2        </td><td>ABNHBPOL_02456 </td><td>c.340T&gt;G    </td><td>p.Ser114Ala    </td><td>0.5116279      </td><td>181            </td><td> 137           </td><td>40             </td><td>1              </td></tr>\n",
       "\t<tr><td>T8_AB4_I1_REP3                              </td><td> 8                                          </td><td> 4                                          </td><td>1                                           </td><td>3                                           </td><td>HAMBI_1972                                  </td><td>ABNHBPOL_11                                 </td><td>154390                                      </td><td>38145                                       </td><td>T                                           </td><td>⋯                                           </td><td>MODERATE                                    </td><td>vgrG1_2                                     </td><td>ABNHBPOL_02456                              </td><td>c.340T&gt;G                                 </td><td>p.Ser114Ala                                 </td><td>0.6190476                                   </td><td>184                                         </td><td><span style=white-space:pre-wrap>  95</span></td><td>40                                          </td><td>1                                           </td></tr>\n",
       "\t<tr><td>T8_AB16_I0_REP1                             </td><td> 8                                          </td><td>16                                          </td><td>0                                           </td><td>1                                           </td><td>HAMBI_1972                                  </td><td>ABNHBPOL_11                                 </td><td>154390                                      </td><td>38145                                       </td><td>T                                           </td><td>⋯                                           </td><td>MODERATE                                    </td><td>vgrG1_2                                     </td><td>ABNHBPOL_02456                              </td><td>c.340T&gt;G                                 </td><td>p.Ser114Ala                                 </td><td>0.3750000                                   </td><td> 25                                         </td><td><span style=white-space:pre-wrap>   4</span></td><td>40                                          </td><td>1                                           </td></tr>\n",
       "\t<tr><td>T8_AB16_I1_REP3                             </td><td> 8                                          </td><td>16                                          </td><td>1                                           </td><td>3                                           </td><td>HAMBI_1972                                  </td><td>ABNHBPOL_11                                 </td><td>154390                                      </td><td>38145                                       </td><td>T                                           </td><td>⋯                                           </td><td>MODERATE                                    </td><td>vgrG1_2                                     </td><td>ABNHBPOL_02456                              </td><td>c.340T&gt;G                                 </td><td>p.Ser114Ala                                 </td><td>0.7500000                                   </td><td> 23                                         </td><td><span style=white-space:pre-wrap>   8</span></td><td>40                                          </td><td>1                                           </td></tr>\n",
       "\t<tr><td>T12_AB4_I1_REP2</td><td>12             </td><td> 4             </td><td>1              </td><td>2              </td><td>HAMBI_1972     </td><td>ABNHBPOL_11    </td><td>154390         </td><td>38145          </td><td>T              </td><td>⋯              </td><td>MODERATE       </td><td>vgrG1_2        </td><td>ABNHBPOL_02456 </td><td>c.340T&gt;G    </td><td>p.Ser114Ala    </td><td>0.6250000      </td><td>469            </td><td>1129           </td><td>40             </td><td>1              </td></tr>\n",
       "\t<tr><td>T12_AB4_I1_REP3</td><td>12             </td><td> 4             </td><td>1              </td><td>3              </td><td>HAMBI_1972     </td><td>ABNHBPOL_11    </td><td>154390         </td><td>38145          </td><td>T              </td><td>⋯              </td><td>MODERATE       </td><td>vgrG1_2        </td><td>ABNHBPOL_02456 </td><td>c.340T&gt;G    </td><td>p.Ser114Ala    </td><td>0.5421687      </td><td>393            </td><td> 734           </td><td>40             </td><td>1              </td></tr>\n",
       "</tbody>\n",
       "</table>\n"
      ],
      "text/latex": [
       "\\begin{tabular}{r|llllllllllllllllllllllll}\n",
       " SAMPLE & TIME & ANTIBIOTIC & IMMIGRATION & REPLICATE & SPECIES & CONTIG & CONTIG\\_LENGTH & POSITION & REF\\_ALLELE & ⋯ & VARIANT\\_IMPACT & GENE & GENEID & NA\\_CHANGE & AA\\_CHANGE & VARIANT\\_FREQUENCY & MEDIAN\\_COVERAGE & AMPLICON\\_READS & DISTANCE\\_FROM\\_PREV & COUNT\\\\\n",
       "\\hline\n",
       "\t T8\\_AB4\\_I1\\_REP2  &  8                    &  4                    & 1                     & 2                     & HAMBI\\_1972          & ABNHBPOL\\_11         & 154390                & 38145                 & T                     & ⋯                     & MODERATE              & vgrG1\\_2             & ABNHBPOL\\_02456      & c.340T>G              & p.Ser114Ala           & 0.5116279             & 181                   &  137                  & 40                    & 1                    \\\\\n",
       "\t T8\\_AB4\\_I1\\_REP3  &  8                    &  4                    & 1                     & 3                     & HAMBI\\_1972          & ABNHBPOL\\_11         & 154390                & 38145                 & T                     & ⋯                     & MODERATE              & vgrG1\\_2             & ABNHBPOL\\_02456      & c.340T>G              & p.Ser114Ala           & 0.6190476             & 184                   &   95                  & 40                    & 1                    \\\\\n",
       "\t T8\\_AB16\\_I0\\_REP1 &  8                    & 16                    & 0                     & 1                     & HAMBI\\_1972          & ABNHBPOL\\_11         & 154390                & 38145                 & T                     & ⋯                     & MODERATE              & vgrG1\\_2             & ABNHBPOL\\_02456      & c.340T>G              & p.Ser114Ala           & 0.3750000             &  25                   &    4                  & 40                    & 1                    \\\\\n",
       "\t T8\\_AB16\\_I1\\_REP3 &  8                    & 16                    & 1                     & 3                     & HAMBI\\_1972          & ABNHBPOL\\_11         & 154390                & 38145                 & T                     & ⋯                     & MODERATE              & vgrG1\\_2             & ABNHBPOL\\_02456      & c.340T>G              & p.Ser114Ala           & 0.7500000             &  23                   &    8                  & 40                    & 1                    \\\\\n",
       "\t T12\\_AB4\\_I1\\_REP2 & 12                    &  4                    & 1                     & 2                     & HAMBI\\_1972          & ABNHBPOL\\_11         & 154390                & 38145                 & T                     & ⋯                     & MODERATE              & vgrG1\\_2             & ABNHBPOL\\_02456      & c.340T>G              & p.Ser114Ala           & 0.6250000             & 469                   & 1129                  & 40                    & 1                    \\\\\n",
       "\t T12\\_AB4\\_I1\\_REP3 & 12                    &  4                    & 1                     & 3                     & HAMBI\\_1972          & ABNHBPOL\\_11         & 154390                & 38145                 & T                     & ⋯                     & MODERATE              & vgrG1\\_2             & ABNHBPOL\\_02456      & c.340T>G              & p.Ser114Ala           & 0.5421687             & 393                   &  734                  & 40                    & 1                    \\\\\n",
       "\\end{tabular}\n"
      ],
      "text/markdown": [
       "\n",
       "SAMPLE | TIME | ANTIBIOTIC | IMMIGRATION | REPLICATE | SPECIES | CONTIG | CONTIG_LENGTH | POSITION | REF_ALLELE | ⋯ | VARIANT_IMPACT | GENE | GENEID | NA_CHANGE | AA_CHANGE | VARIANT_FREQUENCY | MEDIAN_COVERAGE | AMPLICON_READS | DISTANCE_FROM_PREV | COUNT | \n",
       "|---|---|---|---|---|---|\n",
       "| T8_AB4_I1_REP2  |  8              |  4              | 1               | 2               | HAMBI_1972      | ABNHBPOL_11     | 154390          | 38145           | T               | ⋯               | MODERATE        | vgrG1_2         | ABNHBPOL_02456  | c.340T>G        | p.Ser114Ala     | 0.5116279       | 181             |  137            | 40              | 1               | \n",
       "| T8_AB4_I1_REP3  |  8              |  4              | 1               | 3               | HAMBI_1972      | ABNHBPOL_11     | 154390          | 38145           | T               | ⋯               | MODERATE        | vgrG1_2         | ABNHBPOL_02456  | c.340T>G        | p.Ser114Ala     | 0.6190476       | 184             |   95            | 40              | 1               | \n",
       "| T8_AB16_I0_REP1 |  8              | 16              | 0               | 1               | HAMBI_1972      | ABNHBPOL_11     | 154390          | 38145           | T               | ⋯               | MODERATE        | vgrG1_2         | ABNHBPOL_02456  | c.340T>G        | p.Ser114Ala     | 0.3750000       |  25             |    4            | 40              | 1               | \n",
       "| T8_AB16_I1_REP3 |  8              | 16              | 1               | 3               | HAMBI_1972      | ABNHBPOL_11     | 154390          | 38145           | T               | ⋯               | MODERATE        | vgrG1_2         | ABNHBPOL_02456  | c.340T>G        | p.Ser114Ala     | 0.7500000       |  23             |    8            | 40              | 1               | \n",
       "| T12_AB4_I1_REP2 | 12              |  4              | 1               | 2               | HAMBI_1972      | ABNHBPOL_11     | 154390          | 38145           | T               | ⋯               | MODERATE        | vgrG1_2         | ABNHBPOL_02456  | c.340T>G        | p.Ser114Ala     | 0.6250000       | 469             | 1129            | 40              | 1               | \n",
       "| T12_AB4_I1_REP3 | 12              |  4              | 1               | 3               | HAMBI_1972      | ABNHBPOL_11     | 154390          | 38145           | T               | ⋯               | MODERATE        | vgrG1_2         | ABNHBPOL_02456  | c.340T>G        | p.Ser114Ala     | 0.5421687       | 393             |  734            | 40              | 1               | \n",
       "\n",
       "\n"
      ],
      "text/plain": [
       "  SAMPLE          TIME ANTIBIOTIC IMMIGRATION REPLICATE SPECIES    CONTIG     \n",
       "1 T8_AB4_I1_REP2   8    4         1           2         HAMBI_1972 ABNHBPOL_11\n",
       "2 T8_AB4_I1_REP3   8    4         1           3         HAMBI_1972 ABNHBPOL_11\n",
       "3 T8_AB16_I0_REP1  8   16         0           1         HAMBI_1972 ABNHBPOL_11\n",
       "4 T8_AB16_I1_REP3  8   16         1           3         HAMBI_1972 ABNHBPOL_11\n",
       "5 T12_AB4_I1_REP2 12    4         1           2         HAMBI_1972 ABNHBPOL_11\n",
       "6 T12_AB4_I1_REP3 12    4         1           3         HAMBI_1972 ABNHBPOL_11\n",
       "  CONTIG_LENGTH POSITION REF_ALLELE ⋯ VARIANT_IMPACT GENE    GENEID        \n",
       "1 154390        38145    T          ⋯ MODERATE       vgrG1_2 ABNHBPOL_02456\n",
       "2 154390        38145    T          ⋯ MODERATE       vgrG1_2 ABNHBPOL_02456\n",
       "3 154390        38145    T          ⋯ MODERATE       vgrG1_2 ABNHBPOL_02456\n",
       "4 154390        38145    T          ⋯ MODERATE       vgrG1_2 ABNHBPOL_02456\n",
       "5 154390        38145    T          ⋯ MODERATE       vgrG1_2 ABNHBPOL_02456\n",
       "6 154390        38145    T          ⋯ MODERATE       vgrG1_2 ABNHBPOL_02456\n",
       "  NA_CHANGE AA_CHANGE   VARIANT_FREQUENCY MEDIAN_COVERAGE AMPLICON_READS\n",
       "1 c.340T>G  p.Ser114Ala 0.5116279         181              137          \n",
       "2 c.340T>G  p.Ser114Ala 0.6190476         184               95          \n",
       "3 c.340T>G  p.Ser114Ala 0.3750000          25                4          \n",
       "4 c.340T>G  p.Ser114Ala 0.7500000          23                8          \n",
       "5 c.340T>G  p.Ser114Ala 0.6250000         469             1129          \n",
       "6 c.340T>G  p.Ser114Ala 0.5421687         393              734          \n",
       "  DISTANCE_FROM_PREV COUNT\n",
       "1 40                 1    \n",
       "2 40                 1    \n",
       "3 40                 1    \n",
       "4 40                 1    \n",
       "5 40                 1    \n",
       "6 40                 1    "
      ]
     },
     "metadata": {},
     "output_type": "display_data"
    }
   ],
   "source": [
    "# Read in data\n",
    "\n",
    "multihit = read.table(\"../../../data/deep_seq/multihit_nonsynonymous_variant_data.txt\", \n",
    "                      sep = \"\\t\", \n",
    "                      header = T)\n",
    "head(multihit)"
   ]
  },
  {
   "cell_type": "code",
   "execution_count": 3,
   "metadata": {},
   "outputs": [
    {
     "data": {
      "text/html": [
       "<table>\n",
       "<thead><tr><th scope=col>GENE</th><th scope=col>SPECIES</th><th scope=col>TIME</th><th scope=col>ANTIBIOTIC</th><th scope=col>IMMIGRATION</th><th scope=col>REPLICATE</th><th scope=col>COUNT</th></tr></thead>\n",
       "<tbody>\n",
       "\t<tr><td>IJBFBDHI_03141</td><td>HAMBI_1874    </td><td>8             </td><td>0             </td><td>0             </td><td>1             </td><td>1             </td></tr>\n",
       "\t<tr><td>hssR          </td><td>HAMBI_1874    </td><td>8             </td><td>0             </td><td>0             </td><td>1             </td><td>1             </td></tr>\n",
       "\t<tr><td>IBBHIMLJ_00246</td><td>HAMBI_1896    </td><td>8             </td><td>0             </td><td>0             </td><td>1             </td><td>1             </td></tr>\n",
       "\t<tr><td>IBBHIMLJ_00766</td><td>HAMBI_1896    </td><td>8             </td><td>0             </td><td>0             </td><td>1             </td><td>2             </td></tr>\n",
       "\t<tr><td>IBBHIMLJ_00815</td><td>HAMBI_1896    </td><td>8             </td><td>0             </td><td>0             </td><td>1             </td><td>2             </td></tr>\n",
       "\t<tr><td>IBBHIMLJ_02849</td><td>HAMBI_1896    </td><td>8             </td><td>0             </td><td>0             </td><td>1             </td><td>1             </td></tr>\n",
       "</tbody>\n",
       "</table>\n"
      ],
      "text/latex": [
       "\\begin{tabular}{r|lllllll}\n",
       " GENE & SPECIES & TIME & ANTIBIOTIC & IMMIGRATION & REPLICATE & COUNT\\\\\n",
       "\\hline\n",
       "\t IJBFBDHI\\_03141 & HAMBI\\_1874     & 8                & 0                & 0                & 1                & 1               \\\\\n",
       "\t hssR           & HAMBI\\_1874   & 8              & 0              & 0              & 1              & 1             \\\\\n",
       "\t IBBHIMLJ\\_00246 & HAMBI\\_1896     & 8                & 0                & 0                & 1                & 1               \\\\\n",
       "\t IBBHIMLJ\\_00766 & HAMBI\\_1896     & 8                & 0                & 0                & 1                & 2               \\\\\n",
       "\t IBBHIMLJ\\_00815 & HAMBI\\_1896     & 8                & 0                & 0                & 1                & 2               \\\\\n",
       "\t IBBHIMLJ\\_02849 & HAMBI\\_1896     & 8                & 0                & 0                & 1                & 1               \\\\\n",
       "\\end{tabular}\n"
      ],
      "text/markdown": [
       "\n",
       "GENE | SPECIES | TIME | ANTIBIOTIC | IMMIGRATION | REPLICATE | COUNT | \n",
       "|---|---|---|---|---|---|\n",
       "| IJBFBDHI_03141 | HAMBI_1874     | 8              | 0              | 0              | 1              | 1              | \n",
       "| hssR           | HAMBI_1874     | 8              | 0              | 0              | 1              | 1              | \n",
       "| IBBHIMLJ_00246 | HAMBI_1896     | 8              | 0              | 0              | 1              | 1              | \n",
       "| IBBHIMLJ_00766 | HAMBI_1896     | 8              | 0              | 0              | 1              | 2              | \n",
       "| IBBHIMLJ_00815 | HAMBI_1896     | 8              | 0              | 0              | 1              | 2              | \n",
       "| IBBHIMLJ_02849 | HAMBI_1896     | 8              | 0              | 0              | 1              | 1              | \n",
       "\n",
       "\n"
      ],
      "text/plain": [
       "  GENE           SPECIES    TIME ANTIBIOTIC IMMIGRATION REPLICATE COUNT\n",
       "1 IJBFBDHI_03141 HAMBI_1874 8    0          0           1         1    \n",
       "2 hssR           HAMBI_1874 8    0          0           1         1    \n",
       "3 IBBHIMLJ_00246 HAMBI_1896 8    0          0           1         1    \n",
       "4 IBBHIMLJ_00766 HAMBI_1896 8    0          0           1         2    \n",
       "5 IBBHIMLJ_00815 HAMBI_1896 8    0          0           1         2    \n",
       "6 IBBHIMLJ_02849 HAMBI_1896 8    0          0           1         1    "
      ]
     },
     "metadata": {},
     "output_type": "display_data"
    }
   ],
   "source": [
    "# Aggregate variants over treatment combinations per replicate community\n",
    "\n",
    "multihit2 = aggregate(COUNT ~ GENE-SPECIES-TIME-ANTIBIOTIC-IMMIGRATION-REPLICATE, \n",
    "                     data = multihit, \n",
    "                     FUN = function(x) {sum(x)})\n",
    "multihit2 = multihit2[multihit2$COUNT != 0,] # remove time points where variant not detected\n",
    "head(multihit2)"
   ]
  },
  {
   "cell_type": "code",
   "execution_count": 4,
   "metadata": {},
   "outputs": [
    {
     "data": {
      "text/html": [
       "<table>\n",
       "<thead><tr><th scope=col>Var1</th><th scope=col>0</th><th scope=col>4</th><th scope=col>16</th><th scope=col>128</th><th scope=col>ab</th><th scope=col>dataforall</th></tr></thead>\n",
       "<tbody>\n",
       "\t<tr><td>HAMBI_105 </td><td> 2        </td><td> 6        </td><td> 12       </td><td>19        </td><td> 37       </td><td>yes       </td></tr>\n",
       "\t<tr><td>HAMBI_1287</td><td> 6        </td><td> 0        </td><td>  2       </td><td> 0        </td><td>  2       </td><td>no        </td></tr>\n",
       "\t<tr><td>HAMBI_1874</td><td>10        </td><td> 4        </td><td>  2       </td><td> 0        </td><td>  6       </td><td>no        </td></tr>\n",
       "\t<tr><td>HAMBI_1896</td><td>86        </td><td>74        </td><td>107       </td><td>31        </td><td>212       </td><td>yes       </td></tr>\n",
       "\t<tr><td>HAMBI_1972</td><td>44        </td><td>34        </td><td> 44       </td><td> 1        </td><td> 79       </td><td>yes       </td></tr>\n",
       "\t<tr><td>HAMBI_1977</td><td>36        </td><td>46        </td><td> 38       </td><td> 5        </td><td> 89       </td><td>yes       </td></tr>\n",
       "\t<tr><td>HAMBI_1992</td><td> 0        </td><td> 0        </td><td>  0       </td><td> 2        </td><td>  2       </td><td>no        </td></tr>\n",
       "\t<tr><td>HAMBI_2160</td><td> 0        </td><td> 0        </td><td>  4       </td><td> 0        </td><td>  4       </td><td>no        </td></tr>\n",
       "\t<tr><td>HAMBI_2443</td><td> 0        </td><td> 6        </td><td>  0       </td><td> 0        </td><td>  6       </td><td>no        </td></tr>\n",
       "\t<tr><td>HAMBI_2659</td><td> 0        </td><td> 0        </td><td>  6       </td><td>42        </td><td> 48       </td><td>no        </td></tr>\n",
       "\t<tr><td>HAMBI_3031</td><td> 0        </td><td> 0        </td><td>  2       </td><td>48        </td><td> 50       </td><td>no        </td></tr>\n",
       "\t<tr><td>HAMBI_3172</td><td>22        </td><td> 2        </td><td>  2       </td><td>42        </td><td> 46       </td><td>yes       </td></tr>\n",
       "</tbody>\n",
       "</table>\n"
      ],
      "text/latex": [
       "\\begin{tabular}{r|lllllll}\n",
       " Var1 & 0 & 4 & 16 & 128 & ab & dataforall\\\\\n",
       "\\hline\n",
       "\t HAMBI\\_105  &  2           &  6           &  12          & 19           &  37          & yes         \\\\\n",
       "\t HAMBI\\_1287 &  6           &  0           &   2          &  0           &   2          & no          \\\\\n",
       "\t HAMBI\\_1874 & 10           &  4           &   2          &  0           &   6          & no          \\\\\n",
       "\t HAMBI\\_1896 & 86           & 74           & 107          & 31           & 212          & yes         \\\\\n",
       "\t HAMBI\\_1972 & 44           & 34           &  44          &  1           &  79          & yes         \\\\\n",
       "\t HAMBI\\_1977 & 36           & 46           &  38          &  5           &  89          & yes         \\\\\n",
       "\t HAMBI\\_1992 &  0           &  0           &   0          &  2           &   2          & no          \\\\\n",
       "\t HAMBI\\_2160 &  0           &  0           &   4          &  0           &   4          & no          \\\\\n",
       "\t HAMBI\\_2443 &  0           &  6           &   0          &  0           &   6          & no          \\\\\n",
       "\t HAMBI\\_2659 &  0           &  0           &   6          & 42           &  48          & no          \\\\\n",
       "\t HAMBI\\_3031 &  0           &  0           &   2          & 48           &  50          & no          \\\\\n",
       "\t HAMBI\\_3172 & 22           &  2           &   2          & 42           &  46          & yes         \\\\\n",
       "\\end{tabular}\n"
      ],
      "text/markdown": [
       "\n",
       "Var1 | 0 | 4 | 16 | 128 | ab | dataforall | \n",
       "|---|---|---|---|---|---|---|---|---|---|---|---|\n",
       "| HAMBI_105  |  2         |  6         |  12        | 19         |  37        | yes        | \n",
       "| HAMBI_1287 |  6         |  0         |   2        |  0         |   2        | no         | \n",
       "| HAMBI_1874 | 10         |  4         |   2        |  0         |   6        | no         | \n",
       "| HAMBI_1896 | 86         | 74         | 107        | 31         | 212        | yes        | \n",
       "| HAMBI_1972 | 44         | 34         |  44        |  1         |  79        | yes        | \n",
       "| HAMBI_1977 | 36         | 46         |  38        |  5         |  89        | yes        | \n",
       "| HAMBI_1992 |  0         |  0         |   0        |  2         |   2        | no         | \n",
       "| HAMBI_2160 |  0         |  0         |   4        |  0         |   4        | no         | \n",
       "| HAMBI_2443 |  0         |  6         |   0        |  0         |   6        | no         | \n",
       "| HAMBI_2659 |  0         |  0         |   6        | 42         |  48        | no         | \n",
       "| HAMBI_3031 |  0         |  0         |   2        | 48         |  50        | no         | \n",
       "| HAMBI_3172 | 22         |  2         |   2        | 42         |  46        | yes        | \n",
       "\n",
       "\n"
      ],
      "text/plain": [
       "   Var1       0  4  16  128 ab  dataforall\n",
       "1  HAMBI_105   2  6  12 19   37 yes       \n",
       "2  HAMBI_1287  6  0   2  0    2 no        \n",
       "3  HAMBI_1874 10  4   2  0    6 no        \n",
       "4  HAMBI_1896 86 74 107 31  212 yes       \n",
       "5  HAMBI_1972 44 34  44  1   79 yes       \n",
       "6  HAMBI_1977 36 46  38  5   89 yes       \n",
       "7  HAMBI_1992  0  0   0  2    2 no        \n",
       "8  HAMBI_2160  0  0   4  0    4 no        \n",
       "9  HAMBI_2443  0  6   0  0    6 no        \n",
       "10 HAMBI_2659  0  0   6 42   48 no        \n",
       "11 HAMBI_3031  0  0   2 48   50 no        \n",
       "12 HAMBI_3172 22  2   2 42   46 yes       "
      ]
     },
     "metadata": {},
     "output_type": "display_data"
    },
    {
     "data": {
      "text/html": [
       "<ol class=list-inline>\n",
       "\t<li>HAMBI_105</li>\n",
       "\t<li>HAMBI_1896</li>\n",
       "\t<li>HAMBI_1972</li>\n",
       "\t<li>HAMBI_1977</li>\n",
       "\t<li>HAMBI_3172</li>\n",
       "</ol>\n",
       "\n",
       "<details>\n",
       "\t<summary style=display:list-item;cursor:pointer>\n",
       "\t\t<strong>Levels</strong>:\n",
       "\t</summary>\n",
       "\t<ol class=list-inline>\n",
       "\t\t<li>'HAMBI_105'</li>\n",
       "\t\t<li>'HAMBI_1287'</li>\n",
       "\t\t<li>'HAMBI_1874'</li>\n",
       "\t\t<li>'HAMBI_1896'</li>\n",
       "\t\t<li>'HAMBI_1972'</li>\n",
       "\t\t<li>'HAMBI_1977'</li>\n",
       "\t\t<li>'HAMBI_1992'</li>\n",
       "\t\t<li>'HAMBI_2160'</li>\n",
       "\t\t<li>'HAMBI_2443'</li>\n",
       "\t\t<li>'HAMBI_2659'</li>\n",
       "\t\t<li>'HAMBI_3031'</li>\n",
       "\t\t<li>'HAMBI_3172'</li>\n",
       "\t</ol>\n",
       "</details>"
      ],
      "text/latex": [
       "\\begin{enumerate*}\n",
       "\\item HAMBI\\_105\n",
       "\\item HAMBI\\_1896\n",
       "\\item HAMBI\\_1972\n",
       "\\item HAMBI\\_1977\n",
       "\\item HAMBI\\_3172\n",
       "\\end{enumerate*}\n",
       "\n",
       "\\emph{Levels}: \\begin{enumerate*}\n",
       "\\item 'HAMBI\\_105'\n",
       "\\item 'HAMBI\\_1287'\n",
       "\\item 'HAMBI\\_1874'\n",
       "\\item 'HAMBI\\_1896'\n",
       "\\item 'HAMBI\\_1972'\n",
       "\\item 'HAMBI\\_1977'\n",
       "\\item 'HAMBI\\_1992'\n",
       "\\item 'HAMBI\\_2160'\n",
       "\\item 'HAMBI\\_2443'\n",
       "\\item 'HAMBI\\_2659'\n",
       "\\item 'HAMBI\\_3031'\n",
       "\\item 'HAMBI\\_3172'\n",
       "\\end{enumerate*}\n"
      ],
      "text/markdown": [
       "1. HAMBI_105\n",
       "2. HAMBI_1896\n",
       "3. HAMBI_1972\n",
       "4. HAMBI_1977\n",
       "5. HAMBI_3172\n",
       "\n",
       "\n",
       "\n",
       "**Levels**: 1. 'HAMBI_105'\n",
       "2. 'HAMBI_1287'\n",
       "3. 'HAMBI_1874'\n",
       "4. 'HAMBI_1896'\n",
       "5. 'HAMBI_1972'\n",
       "6. 'HAMBI_1977'\n",
       "7. 'HAMBI_1992'\n",
       "8. 'HAMBI_2160'\n",
       "9. 'HAMBI_2443'\n",
       "10. 'HAMBI_2659'\n",
       "11. 'HAMBI_3031'\n",
       "12. 'HAMBI_3172'\n",
       "\n",
       "\n"
      ],
      "text/plain": [
       "[1] HAMBI_105  HAMBI_1896 HAMBI_1972 HAMBI_1977 HAMBI_3172\n",
       "12 Levels: HAMBI_105 HAMBI_1287 HAMBI_1874 HAMBI_1896 HAMBI_1972 ... HAMBI_3172"
      ]
     },
     "metadata": {},
     "output_type": "display_data"
    },
    {
     "data": {
      "text/html": [
       "787"
      ],
      "text/latex": [
       "787"
      ],
      "text/markdown": [
       "787"
      ],
      "text/plain": [
       "[1] 787"
      ]
     },
     "metadata": {},
     "output_type": "display_data"
    },
    {
     "data": {
      "text/html": [
       "653"
      ],
      "text/latex": [
       "653"
      ],
      "text/markdown": [
       "653"
      ],
      "text/plain": [
       "[1] 653"
      ]
     },
     "metadata": {},
     "output_type": "display_data"
    }
   ],
   "source": [
    "# Keep only species with data for no antibiotic and at least one antibiotic concentration\n",
    "\n",
    "x = as.data.frame(table(multihit2$SPECIES, by = multihit2$ANTIBIOTIC))\n",
    "x = dcast(Var1 ~ by, value.var = \"Freq\", data = x)\n",
    "x$ab = x$'4' + x$'16' + x$'128'\n",
    "x$dataforall = ifelse(x$'4' > 0 & x$'4' > 0 & x$'16' > 0 & x$'128' > 0, \"yes\", \"no\")\n",
    "y = x$Var1[x$dataforall == \"yes\"]\n",
    "x\n",
    "y\n",
    "multihit3 = multihit2[multihit2$SPECIES %in% y,]\n",
    "nrow(multihit2)\n",
    "nrow(multihit3)"
   ]
  },
  {
   "cell_type": "code",
   "execution_count": 5,
   "metadata": {},
   "outputs": [
    {
     "data": {
      "text/html": [
       "<table>\n",
       "<thead><tr><th scope=col>GENE</th><th scope=col>SPECIES</th><th scope=col>TIME</th><th scope=col>ANTIBIOTIC</th><th scope=col>IMMIGRATION</th><th scope=col>REPLICATE</th><th scope=col>COUNT</th></tr></thead>\n",
       "<tbody>\n",
       "\t<tr><td>IJBFBDHI_03141</td><td>HAMBI_1874    </td><td>8             </td><td>0             </td><td>0             </td><td>1             </td><td>1             </td></tr>\n",
       "\t<tr><td>hssR          </td><td>HAMBI_1874    </td><td>8             </td><td>0             </td><td>0             </td><td>1             </td><td>1             </td></tr>\n",
       "\t<tr><td>IBBHIMLJ_00246</td><td>HAMBI_1896    </td><td>8             </td><td>0             </td><td>0             </td><td>1             </td><td>1             </td></tr>\n",
       "\t<tr><td>IBBHIMLJ_00766</td><td>HAMBI_1896    </td><td>8             </td><td>0             </td><td>0             </td><td>1             </td><td>2             </td></tr>\n",
       "\t<tr><td>IBBHIMLJ_00815</td><td>HAMBI_1896    </td><td>8             </td><td>0             </td><td>0             </td><td>1             </td><td>2             </td></tr>\n",
       "\t<tr><td>IBBHIMLJ_02849</td><td>HAMBI_1896    </td><td>8             </td><td>0             </td><td>0             </td><td>1             </td><td>1             </td></tr>\n",
       "</tbody>\n",
       "</table>\n"
      ],
      "text/latex": [
       "\\begin{tabular}{r|lllllll}\n",
       " GENE & SPECIES & TIME & ANTIBIOTIC & IMMIGRATION & REPLICATE & COUNT\\\\\n",
       "\\hline\n",
       "\t IJBFBDHI\\_03141 & HAMBI\\_1874     & 8                & 0                & 0                & 1                & 1               \\\\\n",
       "\t hssR           & HAMBI\\_1874   & 8              & 0              & 0              & 1              & 1             \\\\\n",
       "\t IBBHIMLJ\\_00246 & HAMBI\\_1896     & 8                & 0                & 0                & 1                & 1               \\\\\n",
       "\t IBBHIMLJ\\_00766 & HAMBI\\_1896     & 8                & 0                & 0                & 1                & 2               \\\\\n",
       "\t IBBHIMLJ\\_00815 & HAMBI\\_1896     & 8                & 0                & 0                & 1                & 2               \\\\\n",
       "\t IBBHIMLJ\\_02849 & HAMBI\\_1896     & 8                & 0                & 0                & 1                & 1               \\\\\n",
       "\\end{tabular}\n"
      ],
      "text/markdown": [
       "\n",
       "GENE | SPECIES | TIME | ANTIBIOTIC | IMMIGRATION | REPLICATE | COUNT | \n",
       "|---|---|---|---|---|---|\n",
       "| IJBFBDHI_03141 | HAMBI_1874     | 8              | 0              | 0              | 1              | 1              | \n",
       "| hssR           | HAMBI_1874     | 8              | 0              | 0              | 1              | 1              | \n",
       "| IBBHIMLJ_00246 | HAMBI_1896     | 8              | 0              | 0              | 1              | 1              | \n",
       "| IBBHIMLJ_00766 | HAMBI_1896     | 8              | 0              | 0              | 1              | 2              | \n",
       "| IBBHIMLJ_00815 | HAMBI_1896     | 8              | 0              | 0              | 1              | 2              | \n",
       "| IBBHIMLJ_02849 | HAMBI_1896     | 8              | 0              | 0              | 1              | 1              | \n",
       "\n",
       "\n"
      ],
      "text/plain": [
       "  GENE           SPECIES    TIME ANTIBIOTIC IMMIGRATION REPLICATE COUNT\n",
       "1 IJBFBDHI_03141 HAMBI_1874 8    0          0           1         1    \n",
       "2 hssR           HAMBI_1874 8    0          0           1         1    \n",
       "3 IBBHIMLJ_00246 HAMBI_1896 8    0          0           1         1    \n",
       "4 IBBHIMLJ_00766 HAMBI_1896 8    0          0           1         2    \n",
       "5 IBBHIMLJ_00815 HAMBI_1896 8    0          0           1         2    \n",
       "6 IBBHIMLJ_02849 HAMBI_1896 8    0          0           1         1    "
      ]
     },
     "metadata": {},
     "output_type": "display_data"
    }
   ],
   "source": [
    "head(multihit2)"
   ]
  },
  {
   "cell_type": "code",
   "execution_count": 6,
   "metadata": {},
   "outputs": [
    {
     "name": "stderr",
     "output_type": "stream",
     "text": [
      "Using Var1 as id variables\n"
     ]
    },
    {
     "data": {
      "text/html": [
       "<table>\n",
       "<thead><tr><th scope=col>SPECIES</th><th scope=col>TREAT2</th><th scope=col>INFO_FOR_REP</th><th scope=col>ANTIBIOTIC</th><th scope=col>IMMIGRATION</th></tr></thead>\n",
       "<tbody>\n",
       "\t<tr><td>HAMBI_105 </td><td>0_0       </td><td>1         </td><td>0         </td><td>0         </td></tr>\n",
       "\t<tr><td>HAMBI_1287</td><td>0_0       </td><td>1         </td><td>0         </td><td>0         </td></tr>\n",
       "\t<tr><td>HAMBI_1874</td><td>0_0       </td><td>2         </td><td>0         </td><td>0         </td></tr>\n",
       "\t<tr><td>HAMBI_1896</td><td>0_0       </td><td>3         </td><td>0         </td><td>0         </td></tr>\n",
       "\t<tr><td>HAMBI_1972</td><td>0_0       </td><td>3         </td><td>0         </td><td>0         </td></tr>\n",
       "\t<tr><td>HAMBI_1977</td><td>0_0       </td><td>3         </td><td>0         </td><td>0         </td></tr>\n",
       "</tbody>\n",
       "</table>\n"
      ],
      "text/latex": [
       "\\begin{tabular}{r|lllll}\n",
       " SPECIES & TREAT2 & INFO\\_FOR\\_REP & ANTIBIOTIC & IMMIGRATION\\\\\n",
       "\\hline\n",
       "\t HAMBI\\_105  & 0\\_0        & 1            & 0            & 0           \\\\\n",
       "\t HAMBI\\_1287 & 0\\_0        & 1            & 0            & 0           \\\\\n",
       "\t HAMBI\\_1874 & 0\\_0        & 2            & 0            & 0           \\\\\n",
       "\t HAMBI\\_1896 & 0\\_0        & 3            & 0            & 0           \\\\\n",
       "\t HAMBI\\_1972 & 0\\_0        & 3            & 0            & 0           \\\\\n",
       "\t HAMBI\\_1977 & 0\\_0        & 3            & 0            & 0           \\\\\n",
       "\\end{tabular}\n"
      ],
      "text/markdown": [
       "\n",
       "SPECIES | TREAT2 | INFO_FOR_REP | ANTIBIOTIC | IMMIGRATION | \n",
       "|---|---|---|---|---|---|\n",
       "| HAMBI_105  | 0_0        | 1          | 0          | 0          | \n",
       "| HAMBI_1287 | 0_0        | 1          | 0          | 0          | \n",
       "| HAMBI_1874 | 0_0        | 2          | 0          | 0          | \n",
       "| HAMBI_1896 | 0_0        | 3          | 0          | 0          | \n",
       "| HAMBI_1972 | 0_0        | 3          | 0          | 0          | \n",
       "| HAMBI_1977 | 0_0        | 3          | 0          | 0          | \n",
       "\n",
       "\n"
      ],
      "text/plain": [
       "  SPECIES    TREAT2 INFO_FOR_REP ANTIBIOTIC IMMIGRATION\n",
       "1 HAMBI_105  0_0    1            0          0          \n",
       "2 HAMBI_1287 0_0    1            0          0          \n",
       "3 HAMBI_1874 0_0    2            0          0          \n",
       "4 HAMBI_1896 0_0    3            0          0          \n",
       "5 HAMBI_1972 0_0    3            0          0          \n",
       "6 HAMBI_1977 0_0    3            0          0          "
      ]
     },
     "metadata": {},
     "output_type": "display_data"
    },
    {
     "data": {
      "text/html": [
       "<table>\n",
       "<thead><tr><th scope=col>SPECIES</th><th scope=col>TREAT2</th><th scope=col>ANTIBIOTIC</th><th scope=col>IMMIGRATION</th><th scope=col>GENE</th><th scope=col>TIME</th><th scope=col>REPLICATE</th><th scope=col>COUNT</th><th scope=col>TREAT</th><th scope=col>INFO_FOR_REP</th></tr></thead>\n",
       "<tbody>\n",
       "\t<tr><td>HAMBI_105</td><td>0_0      </td><td>0        </td><td>0        </td><td>cya      </td><td>12       </td><td> 3       </td><td> 1       </td><td>0_0_3    </td><td>1        </td></tr>\n",
       "\t<tr><td>HAMBI_105</td><td>0_1      </td><td>0        </td><td>1        </td><td>NA       </td><td>NA       </td><td>NA       </td><td>NA       </td><td>NA       </td><td>0        </td></tr>\n",
       "\t<tr><td>HAMBI_105</td><td>128_0    </td><td>128      </td><td>0        </td><td>cya      </td><td>12       </td><td> 2       </td><td> 1       </td><td>128_0_2  </td><td>3        </td></tr>\n",
       "\t<tr><td>HAMBI_105</td><td>128_0    </td><td>128      </td><td>0        </td><td>cra      </td><td>12       </td><td> 1       </td><td> 1       </td><td>128_0_1  </td><td>3        </td></tr>\n",
       "\t<tr><td>HAMBI_105</td><td>128_0    </td><td>128      </td><td>0        </td><td>cspA_6   </td><td>12       </td><td> 1       </td><td> 1       </td><td>128_0_1  </td><td>3        </td></tr>\n",
       "\t<tr><td>HAMBI_105</td><td>128_0    </td><td>128      </td><td>0        </td><td>rpsL     </td><td>12       </td><td> 3       </td><td> 1       </td><td>128_0_3  </td><td>3        </td></tr>\n",
       "</tbody>\n",
       "</table>\n"
      ],
      "text/latex": [
       "\\begin{tabular}{r|llllllllll}\n",
       " SPECIES & TREAT2 & ANTIBIOTIC & IMMIGRATION & GENE & TIME & REPLICATE & COUNT & TREAT & INFO\\_FOR\\_REP\\\\\n",
       "\\hline\n",
       "\t HAMBI\\_105 & 0\\_0       & 0           & 0           & cya         & 12          &  3          &  1          & 0\\_0\\_3   & 1          \\\\\n",
       "\t HAMBI\\_105 & 0\\_1       & 0           & 1           & NA          & NA          & NA          & NA          & NA          & 0          \\\\\n",
       "\t HAMBI\\_105 & 128\\_0     & 128         & 0           & cya         & 12          &  2          &  1          & 128\\_0\\_2 & 3          \\\\\n",
       "\t HAMBI\\_105 & 128\\_0     & 128         & 0           & cra         & 12          &  1          &  1          & 128\\_0\\_1 & 3          \\\\\n",
       "\t HAMBI\\_105 & 128\\_0     & 128         & 0           & cspA\\_6    & 12          &  1          &  1          & 128\\_0\\_1 & 3          \\\\\n",
       "\t HAMBI\\_105 & 128\\_0     & 128         & 0           & rpsL        & 12          &  3          &  1          & 128\\_0\\_3 & 3          \\\\\n",
       "\\end{tabular}\n"
      ],
      "text/markdown": [
       "\n",
       "SPECIES | TREAT2 | ANTIBIOTIC | IMMIGRATION | GENE | TIME | REPLICATE | COUNT | TREAT | INFO_FOR_REP | \n",
       "|---|---|---|---|---|---|\n",
       "| HAMBI_105 | 0_0       | 0         | 0         | cya       | 12        |  3        |  1        | 0_0_3     | 1         | \n",
       "| HAMBI_105 | 0_1       | 0         | 1         | NA        | NA        | NA        | NA        | NA        | 0         | \n",
       "| HAMBI_105 | 128_0     | 128       | 0         | cya       | 12        |  2        |  1        | 128_0_2   | 3         | \n",
       "| HAMBI_105 | 128_0     | 128       | 0         | cra       | 12        |  1        |  1        | 128_0_1   | 3         | \n",
       "| HAMBI_105 | 128_0     | 128       | 0         | cspA_6    | 12        |  1        |  1        | 128_0_1   | 3         | \n",
       "| HAMBI_105 | 128_0     | 128       | 0         | rpsL      | 12        |  3        |  1        | 128_0_3   | 3         | \n",
       "\n",
       "\n"
      ],
      "text/plain": [
       "  SPECIES   TREAT2 ANTIBIOTIC IMMIGRATION GENE   TIME REPLICATE COUNT TREAT  \n",
       "1 HAMBI_105 0_0    0          0           cya    12    3         1    0_0_3  \n",
       "2 HAMBI_105 0_1    0          1           NA     NA   NA        NA    NA     \n",
       "3 HAMBI_105 128_0  128        0           cya    12    2         1    128_0_2\n",
       "4 HAMBI_105 128_0  128        0           cra    12    1         1    128_0_1\n",
       "5 HAMBI_105 128_0  128        0           cspA_6 12    1         1    128_0_1\n",
       "6 HAMBI_105 128_0  128        0           rpsL   12    3         1    128_0_3\n",
       "  INFO_FOR_REP\n",
       "1 1           \n",
       "2 0           \n",
       "3 3           \n",
       "4 3           \n",
       "5 3           \n",
       "6 3           "
      ]
     },
     "metadata": {},
     "output_type": "display_data"
    }
   ],
   "source": [
    "# Inspect number of replicates in each treatment containing information\n",
    "\n",
    "multihit3b = multihit2[multihit2$TIME == 12,]\n",
    "\n",
    "multihit3b$TREAT = paste(multihit3b$ANTIBIOTIC, multihit3b$IMMIGRATION, multihit3b$REPLICATE, sep = \"_\")\n",
    "\n",
    "x = as.data.frame(table(multihit3b$SPECIES, by = multihit3b$TREAT))\n",
    "x = dcast(Var1 ~ by, value.var = \"Freq\", data = x)\n",
    "x = melt(x)\n",
    "x$value = ifelse(x$value > 0, 1, 0)\n",
    "colnames(x) = c(\"SPECIES\", \"TREAT\", \"INFO_FOR_REP\")\n",
    "\n",
    "x$TREAT = as.character(x$TREAT)\n",
    "x$TREAT2 = substr(x$TREAT,1,nchar(x$TREAT)-2)\n",
    "x = aggregate(data = x, INFO_FOR_REP ~ SPECIES + TREAT2, FUN = sum)\n",
    "x$ANTIBIOTIC = substr(x$TREAT2,1,nchar(x$TREAT2)-2)\n",
    "\n",
    "substrRight <- function(x, n){\n",
    "  substr(x, nchar(x)-n+1, nchar(x))\n",
    "}\n",
    "\n",
    "x$IMMIGRATION = substrRight(x$TREAT2, 1)\n",
    "\n",
    "head(x)\n",
    "\n",
    "multihit3b$TREAT2 = paste(multihit3b$ANTIBIOTIC, multihit3b$IMMIGRATION, sep = \"_\")\n",
    "\n",
    "multihit3b = merge(multihit3b, x, by = c(\"SPECIES\", \"TREAT2\", \"ANTIBIOTIC\", \"IMMIGRATION\"), all = T)\n",
    "\n",
    "head(multihit3b)"
   ]
  },
  {
   "cell_type": "code",
   "execution_count": 7,
   "metadata": {},
   "outputs": [
    {
     "data": {
      "text/html": [
       "<table>\n",
       "<thead><tr><th scope=col>GENE</th><th scope=col>SPECIES</th><th scope=col>ANTIBIOTIC</th><th scope=col>IMMIGRATION</th><th scope=col>INFO_FOR_REP</th><th scope=col>12</th></tr></thead>\n",
       "<tbody>\n",
       "\t<tr><td>ABNHBPOL_00951</td><td>HAMBI_1972    </td><td>0             </td><td>0             </td><td>3             </td><td>2             </td></tr>\n",
       "\t<tr><td>ABNHBPOL_00951</td><td>HAMBI_1972    </td><td>0             </td><td>1             </td><td>3             </td><td>3             </td></tr>\n",
       "\t<tr><td>ABNHBPOL_00951</td><td>HAMBI_1972    </td><td>128           </td><td>1             </td><td>1             </td><td>1             </td></tr>\n",
       "\t<tr><td>ABNHBPOL_00951</td><td>HAMBI_1972    </td><td>16            </td><td>0             </td><td>3             </td><td>3             </td></tr>\n",
       "\t<tr><td>ABNHBPOL_00951</td><td>HAMBI_1972    </td><td>16            </td><td>1             </td><td>3             </td><td>3             </td></tr>\n",
       "\t<tr><td>ABNHBPOL_00951</td><td>HAMBI_1972    </td><td>4             </td><td>0             </td><td>3             </td><td>3             </td></tr>\n",
       "</tbody>\n",
       "</table>\n"
      ],
      "text/latex": [
       "\\begin{tabular}{r|llllll}\n",
       " GENE & SPECIES & ANTIBIOTIC & IMMIGRATION & INFO\\_FOR\\_REP & 12\\\\\n",
       "\\hline\n",
       "\t ABNHBPOL\\_00951 & HAMBI\\_1972     & 0                & 0                & 3                & 2               \\\\\n",
       "\t ABNHBPOL\\_00951 & HAMBI\\_1972     & 0                & 1                & 3                & 3               \\\\\n",
       "\t ABNHBPOL\\_00951 & HAMBI\\_1972     & 128              & 1                & 1                & 1               \\\\\n",
       "\t ABNHBPOL\\_00951 & HAMBI\\_1972     & 16               & 0                & 3                & 3               \\\\\n",
       "\t ABNHBPOL\\_00951 & HAMBI\\_1972     & 16               & 1                & 3                & 3               \\\\\n",
       "\t ABNHBPOL\\_00951 & HAMBI\\_1972     & 4                & 0                & 3                & 3               \\\\\n",
       "\\end{tabular}\n"
      ],
      "text/markdown": [
       "\n",
       "GENE | SPECIES | ANTIBIOTIC | IMMIGRATION | INFO_FOR_REP | 12 | \n",
       "|---|---|---|---|---|---|\n",
       "| ABNHBPOL_00951 | HAMBI_1972     | 0              | 0              | 3              | 2              | \n",
       "| ABNHBPOL_00951 | HAMBI_1972     | 0              | 1              | 3              | 3              | \n",
       "| ABNHBPOL_00951 | HAMBI_1972     | 128            | 1              | 1              | 1              | \n",
       "| ABNHBPOL_00951 | HAMBI_1972     | 16             | 0              | 3              | 3              | \n",
       "| ABNHBPOL_00951 | HAMBI_1972     | 16             | 1              | 3              | 3              | \n",
       "| ABNHBPOL_00951 | HAMBI_1972     | 4              | 0              | 3              | 3              | \n",
       "\n",
       "\n"
      ],
      "text/plain": [
       "  GENE           SPECIES    ANTIBIOTIC IMMIGRATION INFO_FOR_REP 12\n",
       "1 ABNHBPOL_00951 HAMBI_1972 0          0           3            2 \n",
       "2 ABNHBPOL_00951 HAMBI_1972 0          1           3            3 \n",
       "3 ABNHBPOL_00951 HAMBI_1972 128        1           1            1 \n",
       "4 ABNHBPOL_00951 HAMBI_1972 16         0           3            3 \n",
       "5 ABNHBPOL_00951 HAMBI_1972 16         1           3            3 \n",
       "6 ABNHBPOL_00951 HAMBI_1972 4          0           3            3 "
      ]
     },
     "metadata": {},
     "output_type": "display_data"
    }
   ],
   "source": [
    "multihit3b$COUNT = 1\n",
    "multihit4 = aggregate(data = multihit3b, COUNT ~ GENE + SPECIES + TIME + ANTIBIOTIC + IMMIGRATION + INFO_FOR_REP, FUN = sum)\n",
    "multihit5 = dcast(GENE + SPECIES + ANTIBIOTIC + IMMIGRATION + INFO_FOR_REP ~ TIME, value.var = \"COUNT\", data = multihit4)\n",
    "head(multihit5)"
   ]
  },
  {
   "cell_type": "code",
   "execution_count": 8,
   "metadata": {},
   "outputs": [],
   "source": [
    "multihit4$ANTIBIOTIC = factor(multihit4$ANTIBIOTIC, levels = c(0, 4, 16, 128), labels = c(\"Control\", \"Low\", \"Intermediate\", \"High\"))\n",
    "multihit4$IMMIGRATION = factor(multihit4$IMMIGRATION, levels = c(0, 1), labels = c(\"No immigration\", \"Immigration\"))"
   ]
  },
  {
   "cell_type": "code",
   "execution_count": 9,
   "metadata": {},
   "outputs": [],
   "source": [
    "multihit4 = multihit4[order(multihit4$SPECIES, multihit4$GENE),]"
   ]
  },
  {
   "cell_type": "code",
   "execution_count": 10,
   "metadata": {},
   "outputs": [
    {
     "data": {
      "text/html": [
       "<table>\n",
       "<thead><tr><th></th><th scope=col>GENE</th><th scope=col>SPECIES</th><th scope=col>TIME</th><th scope=col>ANTIBIOTIC</th><th scope=col>IMMIGRATION</th><th scope=col>INFO_FOR_REP</th><th scope=col>COUNT</th><th scope=col>PROP</th></tr></thead>\n",
       "<tbody>\n",
       "\t<tr><th scope=row>68</th><td>IDIPBEOP_05061</td><td>HAMBI_105     </td><td>12            </td><td>High          </td><td>No immigration</td><td>3             </td><td>1             </td><td>0.3333333     </td></tr>\n",
       "\t<tr><th scope=row>103</th><td>IDIPBEOP_05061</td><td>HAMBI_105     </td><td>12            </td><td>Intermediate  </td><td>No immigration</td><td>3             </td><td>1             </td><td>0.3333333     </td></tr>\n",
       "\t<tr><th scope=row>160</th><td>IDIPBEOP_05061</td><td>HAMBI_105     </td><td>12            </td><td>High          </td><td>Immigration   </td><td>3             </td><td>1             </td><td>0.3333333     </td></tr>\n",
       "\t<tr><th scope=row>43</th><td>cra           </td><td>HAMBI_105     </td><td>12            </td><td>Low           </td><td>Immigration   </td><td>2             </td><td>1             </td><td>0.5000000     </td></tr>\n",
       "\t<tr><th scope=row>69</th><td>cra           </td><td>HAMBI_105     </td><td>12            </td><td>High          </td><td>No immigration</td><td>3             </td><td>1             </td><td>0.3333333     </td></tr>\n",
       "\t<tr><th scope=row>70</th><td>cspA_6        </td><td>HAMBI_105     </td><td>12            </td><td>High          </td><td>No immigration</td><td>3             </td><td>2             </td><td>0.6666667     </td></tr>\n",
       "</tbody>\n",
       "</table>\n"
      ],
      "text/latex": [
       "\\begin{tabular}{r|llllllll}\n",
       "  & GENE & SPECIES & TIME & ANTIBIOTIC & IMMIGRATION & INFO\\_FOR\\_REP & COUNT & PROP\\\\\n",
       "\\hline\n",
       "\t68 & IDIPBEOP\\_05061 & HAMBI\\_105      & 12               & High             & No immigration   & 3                & 1                & 0.3333333       \\\\\n",
       "\t103 & IDIPBEOP\\_05061 & HAMBI\\_105      & 12               & Intermediate     & No immigration   & 3                & 1                & 0.3333333       \\\\\n",
       "\t160 & IDIPBEOP\\_05061 & HAMBI\\_105      & 12               & High             & Immigration      & 3                & 1                & 0.3333333       \\\\\n",
       "\t43 & cra            & HAMBI\\_105    & 12             & Low            & Immigration    & 2              & 1              & 0.5000000     \\\\\n",
       "\t69 & cra            & HAMBI\\_105    & 12             & High           & No immigration & 3              & 1              & 0.3333333     \\\\\n",
       "\t70 & cspA\\_6         & HAMBI\\_105      & 12               & High             & No immigration   & 3                & 2                & 0.6666667       \\\\\n",
       "\\end{tabular}\n"
      ],
      "text/markdown": [
       "\n",
       "| <!--/--> | GENE | SPECIES | TIME | ANTIBIOTIC | IMMIGRATION | INFO_FOR_REP | COUNT | PROP | \n",
       "|---|---|---|---|---|---|\n",
       "| 68 | IDIPBEOP_05061 | HAMBI_105      | 12             | High           | No immigration | 3              | 1              | 0.3333333      | \n",
       "| 103 | IDIPBEOP_05061 | HAMBI_105      | 12             | Intermediate   | No immigration | 3              | 1              | 0.3333333      | \n",
       "| 160 | IDIPBEOP_05061 | HAMBI_105      | 12             | High           | Immigration    | 3              | 1              | 0.3333333      | \n",
       "| 43 | cra            | HAMBI_105      | 12             | Low            | Immigration    | 2              | 1              | 0.5000000      | \n",
       "| 69 | cra            | HAMBI_105      | 12             | High           | No immigration | 3              | 1              | 0.3333333      | \n",
       "| 70 | cspA_6         | HAMBI_105      | 12             | High           | No immigration | 3              | 2              | 0.6666667      | \n",
       "\n",
       "\n"
      ],
      "text/plain": [
       "    GENE           SPECIES   TIME ANTIBIOTIC   IMMIGRATION    INFO_FOR_REP\n",
       "68  IDIPBEOP_05061 HAMBI_105 12   High         No immigration 3           \n",
       "103 IDIPBEOP_05061 HAMBI_105 12   Intermediate No immigration 3           \n",
       "160 IDIPBEOP_05061 HAMBI_105 12   High         Immigration    3           \n",
       "43  cra            HAMBI_105 12   Low          Immigration    2           \n",
       "69  cra            HAMBI_105 12   High         No immigration 3           \n",
       "70  cspA_6         HAMBI_105 12   High         No immigration 3           \n",
       "    COUNT PROP     \n",
       "68  1     0.3333333\n",
       "103 1     0.3333333\n",
       "160 1     0.3333333\n",
       "43  1     0.5000000\n",
       "69  1     0.3333333\n",
       "70  2     0.6666667"
      ]
     },
     "metadata": {},
     "output_type": "display_data"
    }
   ],
   "source": [
    "multihit4$PROP = multihit4$COUNT/multihit4$INFO_FOR_REP\n",
    "head(multihit4)"
   ]
  },
  {
   "cell_type": "code",
   "execution_count": 11,
   "metadata": {
    "scrolled": true
   },
   "outputs": [],
   "source": [
    "multihit4$PROP2 = paste(multihit4$COUNT, \"/\", multihit4$INFO_FOR_REP)"
   ]
  },
  {
   "cell_type": "code",
   "execution_count": 12,
   "metadata": {},
   "outputs": [
    {
     "data": {
      "text/html": [
       "<table>\n",
       "<thead><tr><th></th><th scope=col>GENE</th><th scope=col>SPECIES</th><th scope=col>TIME</th><th scope=col>ANTIBIOTIC</th><th scope=col>IMMIGRATION</th><th scope=col>INFO_FOR_REP</th><th scope=col>COUNT</th><th scope=col>PROP</th><th scope=col>PROP2</th></tr></thead>\n",
       "<tbody>\n",
       "\t<tr><th scope=row>68</th><td>IDIPBEOP_05061</td><td>HAMBI_105     </td><td>12            </td><td>High          </td><td>No immigration</td><td>3             </td><td>1             </td><td>0.3333333     </td><td>1 / 3         </td></tr>\n",
       "\t<tr><th scope=row>103</th><td>IDIPBEOP_05061</td><td>HAMBI_105     </td><td>12            </td><td>Intermediate  </td><td>No immigration</td><td>3             </td><td>1             </td><td>0.3333333     </td><td>1 / 3         </td></tr>\n",
       "\t<tr><th scope=row>160</th><td>IDIPBEOP_05061</td><td>HAMBI_105     </td><td>12            </td><td>High          </td><td>Immigration   </td><td>3             </td><td>1             </td><td>0.3333333     </td><td>1 / 3         </td></tr>\n",
       "\t<tr><th scope=row>43</th><td>cra           </td><td>HAMBI_105     </td><td>12            </td><td>Low           </td><td>Immigration   </td><td>2             </td><td>1             </td><td>0.5000000     </td><td>1 / 2         </td></tr>\n",
       "\t<tr><th scope=row>69</th><td>cra           </td><td>HAMBI_105     </td><td>12            </td><td>High          </td><td>No immigration</td><td>3             </td><td>1             </td><td>0.3333333     </td><td>1 / 3         </td></tr>\n",
       "\t<tr><th scope=row>70</th><td>cspA_6        </td><td>HAMBI_105     </td><td>12            </td><td>High          </td><td>No immigration</td><td>3             </td><td>2             </td><td>0.6666667     </td><td>2 / 3         </td></tr>\n",
       "</tbody>\n",
       "</table>\n"
      ],
      "text/latex": [
       "\\begin{tabular}{r|lllllllll}\n",
       "  & GENE & SPECIES & TIME & ANTIBIOTIC & IMMIGRATION & INFO\\_FOR\\_REP & COUNT & PROP & PROP2\\\\\n",
       "\\hline\n",
       "\t68 & IDIPBEOP\\_05061 & HAMBI\\_105      & 12               & High             & No immigration   & 3                & 1                & 0.3333333        & 1 / 3           \\\\\n",
       "\t103 & IDIPBEOP\\_05061 & HAMBI\\_105      & 12               & Intermediate     & No immigration   & 3                & 1                & 0.3333333        & 1 / 3           \\\\\n",
       "\t160 & IDIPBEOP\\_05061 & HAMBI\\_105      & 12               & High             & Immigration      & 3                & 1                & 0.3333333        & 1 / 3           \\\\\n",
       "\t43 & cra            & HAMBI\\_105    & 12             & Low            & Immigration    & 2              & 1              & 0.5000000      & 1 / 2         \\\\\n",
       "\t69 & cra            & HAMBI\\_105    & 12             & High           & No immigration & 3              & 1              & 0.3333333      & 1 / 3         \\\\\n",
       "\t70 & cspA\\_6         & HAMBI\\_105      & 12               & High             & No immigration   & 3                & 2                & 0.6666667        & 2 / 3           \\\\\n",
       "\\end{tabular}\n"
      ],
      "text/markdown": [
       "\n",
       "| <!--/--> | GENE | SPECIES | TIME | ANTIBIOTIC | IMMIGRATION | INFO_FOR_REP | COUNT | PROP | PROP2 | \n",
       "|---|---|---|---|---|---|\n",
       "| 68 | IDIPBEOP_05061 | HAMBI_105      | 12             | High           | No immigration | 3              | 1              | 0.3333333      | 1 / 3          | \n",
       "| 103 | IDIPBEOP_05061 | HAMBI_105      | 12             | Intermediate   | No immigration | 3              | 1              | 0.3333333      | 1 / 3          | \n",
       "| 160 | IDIPBEOP_05061 | HAMBI_105      | 12             | High           | Immigration    | 3              | 1              | 0.3333333      | 1 / 3          | \n",
       "| 43 | cra            | HAMBI_105      | 12             | Low            | Immigration    | 2              | 1              | 0.5000000      | 1 / 2          | \n",
       "| 69 | cra            | HAMBI_105      | 12             | High           | No immigration | 3              | 1              | 0.3333333      | 1 / 3          | \n",
       "| 70 | cspA_6         | HAMBI_105      | 12             | High           | No immigration | 3              | 2              | 0.6666667      | 2 / 3          | \n",
       "\n",
       "\n"
      ],
      "text/plain": [
       "    GENE           SPECIES   TIME ANTIBIOTIC   IMMIGRATION    INFO_FOR_REP\n",
       "68  IDIPBEOP_05061 HAMBI_105 12   High         No immigration 3           \n",
       "103 IDIPBEOP_05061 HAMBI_105 12   Intermediate No immigration 3           \n",
       "160 IDIPBEOP_05061 HAMBI_105 12   High         Immigration    3           \n",
       "43  cra            HAMBI_105 12   Low          Immigration    2           \n",
       "69  cra            HAMBI_105 12   High         No immigration 3           \n",
       "70  cspA_6         HAMBI_105 12   High         No immigration 3           \n",
       "    COUNT PROP      PROP2\n",
       "68  1     0.3333333 1 / 3\n",
       "103 1     0.3333333 1 / 3\n",
       "160 1     0.3333333 1 / 3\n",
       "43  1     0.5000000 1 / 2\n",
       "69  1     0.3333333 1 / 3\n",
       "70  2     0.6666667 2 / 3"
      ]
     },
     "metadata": {},
     "output_type": "display_data"
    }
   ],
   "source": [
    "head(multihit4)"
   ]
  },
  {
   "cell_type": "code",
   "execution_count": 13,
   "metadata": {},
   "outputs": [
    {
     "data": {
      "text/html": [
       "<table>\n",
       "<thead><tr><th></th><th scope=col>GENE</th><th scope=col>SPECIES</th><th scope=col>TIME</th><th scope=col>ANTIBIOTIC</th><th scope=col>IMMIGRATION</th><th scope=col>INFO_FOR_REP</th><th scope=col>COUNT</th><th scope=col>PROP</th><th scope=col>PROP2</th></tr></thead>\n",
       "<tbody>\n",
       "\t<tr><th scope=row>43</th><td>cra           </td><td>HAMBI_105     </td><td>12            </td><td>Low           </td><td>Immigration   </td><td>2             </td><td>1             </td><td>0.5000000     </td><td>1 / 2         </td></tr>\n",
       "\t<tr><th scope=row>69</th><td>cra           </td><td>HAMBI_105     </td><td>12            </td><td>High          </td><td>No immigration</td><td>3             </td><td>1             </td><td>0.3333333     </td><td>1 / 3         </td></tr>\n",
       "\t<tr><th scope=row>70</th><td>cspA_6        </td><td>HAMBI_105     </td><td>12            </td><td>High          </td><td>No immigration</td><td>3             </td><td>2             </td><td>0.6666667     </td><td>2 / 3         </td></tr>\n",
       "\t<tr><th scope=row>1</th><td>cya           </td><td>HAMBI_105     </td><td>12            </td><td>Control       </td><td>No immigration</td><td>1             </td><td>1             </td><td>1.0000000     </td><td>1 / 1         </td></tr>\n",
       "\t<tr><th scope=row>9</th><td>cya           </td><td>HAMBI_105     </td><td>12            </td><td>Low           </td><td>No immigration</td><td>1             </td><td>1             </td><td>1.0000000     </td><td>1 / 1         </td></tr>\n",
       "\t<tr><th scope=row>41</th><td>cya           </td><td>HAMBI_105     </td><td>12            </td><td>Intermediate  </td><td>Immigration   </td><td>2             </td><td>2             </td><td>1.0000000     </td><td>2 / 2         </td></tr>\n",
       "</tbody>\n",
       "</table>\n"
      ],
      "text/latex": [
       "\\begin{tabular}{r|lllllllll}\n",
       "  & GENE & SPECIES & TIME & ANTIBIOTIC & IMMIGRATION & INFO\\_FOR\\_REP & COUNT & PROP & PROP2\\\\\n",
       "\\hline\n",
       "\t43 & cra            & HAMBI\\_105    & 12             & Low            & Immigration    & 2              & 1              & 0.5000000      & 1 / 2         \\\\\n",
       "\t69 & cra            & HAMBI\\_105    & 12             & High           & No immigration & 3              & 1              & 0.3333333      & 1 / 3         \\\\\n",
       "\t70 & cspA\\_6       & HAMBI\\_105    & 12             & High           & No immigration & 3              & 2              & 0.6666667      & 2 / 3         \\\\\n",
       "\t1 & cya            & HAMBI\\_105    & 12             & Control        & No immigration & 1              & 1              & 1.0000000      & 1 / 1         \\\\\n",
       "\t9 & cya            & HAMBI\\_105    & 12             & Low            & No immigration & 1              & 1              & 1.0000000      & 1 / 1         \\\\\n",
       "\t41 & cya            & HAMBI\\_105    & 12             & Intermediate   & Immigration    & 2              & 2              & 1.0000000      & 2 / 2         \\\\\n",
       "\\end{tabular}\n"
      ],
      "text/markdown": [
       "\n",
       "| <!--/--> | GENE | SPECIES | TIME | ANTIBIOTIC | IMMIGRATION | INFO_FOR_REP | COUNT | PROP | PROP2 | \n",
       "|---|---|---|---|---|---|\n",
       "| 43 | cra            | HAMBI_105      | 12             | Low            | Immigration    | 2              | 1              | 0.5000000      | 1 / 2          | \n",
       "| 69 | cra            | HAMBI_105      | 12             | High           | No immigration | 3              | 1              | 0.3333333      | 1 / 3          | \n",
       "| 70 | cspA_6         | HAMBI_105      | 12             | High           | No immigration | 3              | 2              | 0.6666667      | 2 / 3          | \n",
       "| 1 | cya            | HAMBI_105      | 12             | Control        | No immigration | 1              | 1              | 1.0000000      | 1 / 1          | \n",
       "| 9 | cya            | HAMBI_105      | 12             | Low            | No immigration | 1              | 1              | 1.0000000      | 1 / 1          | \n",
       "| 41 | cya            | HAMBI_105      | 12             | Intermediate   | Immigration    | 2              | 2              | 1.0000000      | 2 / 2          | \n",
       "\n",
       "\n"
      ],
      "text/plain": [
       "   GENE   SPECIES   TIME ANTIBIOTIC   IMMIGRATION    INFO_FOR_REP COUNT\n",
       "43 cra    HAMBI_105 12   Low          Immigration    2            1    \n",
       "69 cra    HAMBI_105 12   High         No immigration 3            1    \n",
       "70 cspA_6 HAMBI_105 12   High         No immigration 3            2    \n",
       "1  cya    HAMBI_105 12   Control      No immigration 1            1    \n",
       "9  cya    HAMBI_105 12   Low          No immigration 1            1    \n",
       "41 cya    HAMBI_105 12   Intermediate Immigration    2            2    \n",
       "   PROP      PROP2\n",
       "43 0.5000000 1 / 2\n",
       "69 0.3333333 1 / 3\n",
       "70 0.6666667 2 / 3\n",
       "1  1.0000000 1 / 1\n",
       "9  1.0000000 1 / 1\n",
       "41 1.0000000 2 / 2"
      ]
     },
     "metadata": {},
     "output_type": "display_data"
    }
   ],
   "source": [
    "# Let's only keep genes with functional annotation\n",
    "\n",
    "multihit4 = multihit4[!grepl(\"IJBFBDHI\", multihit4$GENE),]\n",
    "multihit4 = multihit4[!grepl(\"IBBHIMLJ\", multihit4$GENE),]\n",
    "multihit4 = multihit4[!grepl(\"LPGKLAMA\", multihit4$GENE),]\n",
    "multihit4 = multihit4[!grepl(\"CKLFCLNC\", multihit4$GENE),]\n",
    "multihit4 = multihit4[!grepl(\"ABNHBPOL\", multihit4$GENE),]\n",
    "multihit4 = multihit4[!grepl(\"DPMDEPGB\", multihit4$GENE),]\n",
    "multihit4 = multihit4[!grepl(\"IDIPBEOP\", multihit4$GENE),]\n",
    "multihit4 = multihit4[!grepl(\"EJMNOJEN\", multihit4$GENE),]\n",
    "multihit4 = multihit4[!grepl(\"JHKIHDGE\", multihit4$GENE),]\n",
    "multihit4 = multihit4[!grepl(\"JFDMDMML\", multihit4$GENE),]\n",
    "multihit4 = multihit4[!grepl(\"MEJPDLNM\", multihit4$GENE),]\n",
    "head(multihit4)"
   ]
  },
  {
   "cell_type": "code",
   "execution_count": 14,
   "metadata": {},
   "outputs": [
    {
     "data": {
      "text/html": [
       "<ol class=list-inline>\n",
       "\t<li>cra</li>\n",
       "\t<li>cspA_6</li>\n",
       "\t<li>cya</li>\n",
       "\t<li>rpsL</li>\n",
       "\t<li>hssR</li>\n",
       "\t<li>cckA</li>\n",
       "\t<li>rhaR_1</li>\n",
       "\t<li>bvgS_2</li>\n",
       "\t<li>phoQ_2</li>\n",
       "\t<li>vgrG1_2</li>\n",
       "\t<li>lgrB</li>\n",
       "\t<li>rsmG</li>\n",
       "\t<li>fhaB_2</li>\n",
       "\t<li>aacC1</li>\n",
       "\t<li>kbl</li>\n",
       "\t<li>rhsA</li>\n",
       "\t<li>soj_1</li>\n",
       "\t<li>spoT_1</li>\n",
       "\t<li>ycdT_1</li>\n",
       "\t<li>phoR_2</li>\n",
       "\t<li>relA_2</li>\n",
       "\t<li>xynD_5</li>\n",
       "\t<li>eno</li>\n",
       "\t<li>ltxA_1</li>\n",
       "\t<li>ltxA_6</li>\n",
       "\t<li>luxQ_1</li>\n",
       "</ol>\n",
       "\n",
       "<details>\n",
       "\t<summary style=display:list-item;cursor:pointer>\n",
       "\t\t<strong>Levels</strong>:\n",
       "\t</summary>\n",
       "\t<ol class=list-inline>\n",
       "\t\t<li>'ABNHBPOL_00951'</li>\n",
       "\t\t<li>'ABNHBPOL_04066'</li>\n",
       "\t\t<li>'CKLFCLNC_01286'</li>\n",
       "\t\t<li>'CKLFCLNC_02614'</li>\n",
       "\t\t<li>'CKLFCLNC_02634'</li>\n",
       "\t\t<li>'CKLFCLNC_03362'</li>\n",
       "\t\t<li>'CKLFCLNC_05792'</li>\n",
       "\t\t<li>'DPMDEPGB_00219'</li>\n",
       "\t\t<li>'DPMDEPGB_02466'</li>\n",
       "\t\t<li>'DPMDEPGB_02646'</li>\n",
       "\t\t<li>'DPMDEPGB_02799'</li>\n",
       "\t\t<li>'DPMDEPGB_03114'</li>\n",
       "\t\t<li>'DPMDEPGB_03261'</li>\n",
       "\t\t<li>'EJMNOJEN_04543'</li>\n",
       "\t\t<li>'IBBHIMLJ_00246'</li>\n",
       "\t\t<li>'IBBHIMLJ_00389'</li>\n",
       "\t\t<li>'IBBHIMLJ_00602'</li>\n",
       "\t\t<li>'IBBHIMLJ_00766'</li>\n",
       "\t\t<li>'IBBHIMLJ_00815'</li>\n",
       "\t\t<li>'IBBHIMLJ_00953'</li>\n",
       "\t\t<li>'IBBHIMLJ_02593'</li>\n",
       "\t\t<li>'IBBHIMLJ_02849'</li>\n",
       "\t\t<li>'IBBHIMLJ_02970'</li>\n",
       "\t\t<li>'IBBHIMLJ_03302'</li>\n",
       "\t\t<li>'IBBHIMLJ_03756'</li>\n",
       "\t\t<li>'IDIPBEOP_05061'</li>\n",
       "\t\t<li>'IJBFBDHI_02170'</li>\n",
       "\t\t<li>'IJBFBDHI_03141'</li>\n",
       "\t\t<li>'JFDMDMML_00996'</li>\n",
       "\t\t<li>'JHKIHDGE_01253'</li>\n",
       "\t\t<li>'JHKIHDGE_03280'</li>\n",
       "\t\t<li>'JHKIHDGE_04647'</li>\n",
       "\t\t<li>'LPGKLAMA_00493'</li>\n",
       "\t\t<li>'LPGKLAMA_00543'</li>\n",
       "\t\t<li>'LPGKLAMA_05251'</li>\n",
       "\t\t<li>'LPGKLAMA_05584'</li>\n",
       "\t\t<li>'MEJPDLNM_00795'</li>\n",
       "\t\t<li>'aacC1'</li>\n",
       "\t\t<li>'bvgS_2'</li>\n",
       "\t\t<li>'cckA'</li>\n",
       "\t\t<li>'cra'</li>\n",
       "\t\t<li>'cspA_6'</li>\n",
       "\t\t<li>'cya'</li>\n",
       "\t\t<li>'eno'</li>\n",
       "\t\t<li>'fhaB_2'</li>\n",
       "\t\t<li>'hssR'</li>\n",
       "\t\t<li>'kbl'</li>\n",
       "\t\t<li>'lgrB'</li>\n",
       "\t\t<li>'ltxA_1'</li>\n",
       "\t\t<li>'ltxA_6'</li>\n",
       "\t\t<li>'luxQ_1'</li>\n",
       "\t\t<li>'phoQ_2'</li>\n",
       "\t\t<li>'phoR_2'</li>\n",
       "\t\t<li>'relA_2'</li>\n",
       "\t\t<li>'rhaR_1'</li>\n",
       "\t\t<li>'rhsA'</li>\n",
       "\t\t<li>'rpsL'</li>\n",
       "\t\t<li>'rsmG'</li>\n",
       "\t\t<li>'soj_1'</li>\n",
       "\t\t<li>'spoT_1'</li>\n",
       "\t\t<li>'vgrG1_2'</li>\n",
       "\t\t<li>'xynD_5'</li>\n",
       "\t\t<li>'ycdT_1'</li>\n",
       "\t</ol>\n",
       "</details>"
      ],
      "text/latex": [
       "\\begin{enumerate*}\n",
       "\\item cra\n",
       "\\item cspA\\_6\n",
       "\\item cya\n",
       "\\item rpsL\n",
       "\\item hssR\n",
       "\\item cckA\n",
       "\\item rhaR\\_1\n",
       "\\item bvgS\\_2\n",
       "\\item phoQ\\_2\n",
       "\\item vgrG1\\_2\n",
       "\\item lgrB\n",
       "\\item rsmG\n",
       "\\item fhaB\\_2\n",
       "\\item aacC1\n",
       "\\item kbl\n",
       "\\item rhsA\n",
       "\\item soj\\_1\n",
       "\\item spoT\\_1\n",
       "\\item ycdT\\_1\n",
       "\\item phoR\\_2\n",
       "\\item relA\\_2\n",
       "\\item xynD\\_5\n",
       "\\item eno\n",
       "\\item ltxA\\_1\n",
       "\\item ltxA\\_6\n",
       "\\item luxQ\\_1\n",
       "\\end{enumerate*}\n",
       "\n",
       "\\emph{Levels}: \\begin{enumerate*}\n",
       "\\item 'ABNHBPOL\\_00951'\n",
       "\\item 'ABNHBPOL\\_04066'\n",
       "\\item 'CKLFCLNC\\_01286'\n",
       "\\item 'CKLFCLNC\\_02614'\n",
       "\\item 'CKLFCLNC\\_02634'\n",
       "\\item 'CKLFCLNC\\_03362'\n",
       "\\item 'CKLFCLNC\\_05792'\n",
       "\\item 'DPMDEPGB\\_00219'\n",
       "\\item 'DPMDEPGB\\_02466'\n",
       "\\item 'DPMDEPGB\\_02646'\n",
       "\\item 'DPMDEPGB\\_02799'\n",
       "\\item 'DPMDEPGB\\_03114'\n",
       "\\item 'DPMDEPGB\\_03261'\n",
       "\\item 'EJMNOJEN\\_04543'\n",
       "\\item 'IBBHIMLJ\\_00246'\n",
       "\\item 'IBBHIMLJ\\_00389'\n",
       "\\item 'IBBHIMLJ\\_00602'\n",
       "\\item 'IBBHIMLJ\\_00766'\n",
       "\\item 'IBBHIMLJ\\_00815'\n",
       "\\item 'IBBHIMLJ\\_00953'\n",
       "\\item 'IBBHIMLJ\\_02593'\n",
       "\\item 'IBBHIMLJ\\_02849'\n",
       "\\item 'IBBHIMLJ\\_02970'\n",
       "\\item 'IBBHIMLJ\\_03302'\n",
       "\\item 'IBBHIMLJ\\_03756'\n",
       "\\item 'IDIPBEOP\\_05061'\n",
       "\\item 'IJBFBDHI\\_02170'\n",
       "\\item 'IJBFBDHI\\_03141'\n",
       "\\item 'JFDMDMML\\_00996'\n",
       "\\item 'JHKIHDGE\\_01253'\n",
       "\\item 'JHKIHDGE\\_03280'\n",
       "\\item 'JHKIHDGE\\_04647'\n",
       "\\item 'LPGKLAMA\\_00493'\n",
       "\\item 'LPGKLAMA\\_00543'\n",
       "\\item 'LPGKLAMA\\_05251'\n",
       "\\item 'LPGKLAMA\\_05584'\n",
       "\\item 'MEJPDLNM\\_00795'\n",
       "\\item 'aacC1'\n",
       "\\item 'bvgS\\_2'\n",
       "\\item 'cckA'\n",
       "\\item 'cra'\n",
       "\\item 'cspA\\_6'\n",
       "\\item 'cya'\n",
       "\\item 'eno'\n",
       "\\item 'fhaB\\_2'\n",
       "\\item 'hssR'\n",
       "\\item 'kbl'\n",
       "\\item 'lgrB'\n",
       "\\item 'ltxA\\_1'\n",
       "\\item 'ltxA\\_6'\n",
       "\\item 'luxQ\\_1'\n",
       "\\item 'phoQ\\_2'\n",
       "\\item 'phoR\\_2'\n",
       "\\item 'relA\\_2'\n",
       "\\item 'rhaR\\_1'\n",
       "\\item 'rhsA'\n",
       "\\item 'rpsL'\n",
       "\\item 'rsmG'\n",
       "\\item 'soj\\_1'\n",
       "\\item 'spoT\\_1'\n",
       "\\item 'vgrG1\\_2'\n",
       "\\item 'xynD\\_5'\n",
       "\\item 'ycdT\\_1'\n",
       "\\end{enumerate*}\n"
      ],
      "text/markdown": [
       "1. cra\n",
       "2. cspA_6\n",
       "3. cya\n",
       "4. rpsL\n",
       "5. hssR\n",
       "6. cckA\n",
       "7. rhaR_1\n",
       "8. bvgS_2\n",
       "9. phoQ_2\n",
       "10. vgrG1_2\n",
       "11. lgrB\n",
       "12. rsmG\n",
       "13. fhaB_2\n",
       "14. aacC1\n",
       "15. kbl\n",
       "16. rhsA\n",
       "17. soj_1\n",
       "18. spoT_1\n",
       "19. ycdT_1\n",
       "20. phoR_2\n",
       "21. relA_2\n",
       "22. xynD_5\n",
       "23. eno\n",
       "24. ltxA_1\n",
       "25. ltxA_6\n",
       "26. luxQ_1\n",
       "\n",
       "\n",
       "\n",
       "**Levels**: 1. 'ABNHBPOL_00951'\n",
       "2. 'ABNHBPOL_04066'\n",
       "3. 'CKLFCLNC_01286'\n",
       "4. 'CKLFCLNC_02614'\n",
       "5. 'CKLFCLNC_02634'\n",
       "6. 'CKLFCLNC_03362'\n",
       "7. 'CKLFCLNC_05792'\n",
       "8. 'DPMDEPGB_00219'\n",
       "9. 'DPMDEPGB_02466'\n",
       "10. 'DPMDEPGB_02646'\n",
       "11. 'DPMDEPGB_02799'\n",
       "12. 'DPMDEPGB_03114'\n",
       "13. 'DPMDEPGB_03261'\n",
       "14. 'EJMNOJEN_04543'\n",
       "15. 'IBBHIMLJ_00246'\n",
       "16. 'IBBHIMLJ_00389'\n",
       "17. 'IBBHIMLJ_00602'\n",
       "18. 'IBBHIMLJ_00766'\n",
       "19. 'IBBHIMLJ_00815'\n",
       "20. 'IBBHIMLJ_00953'\n",
       "21. 'IBBHIMLJ_02593'\n",
       "22. 'IBBHIMLJ_02849'\n",
       "23. 'IBBHIMLJ_02970'\n",
       "24. 'IBBHIMLJ_03302'\n",
       "25. 'IBBHIMLJ_03756'\n",
       "26. 'IDIPBEOP_05061'\n",
       "27. 'IJBFBDHI_02170'\n",
       "28. 'IJBFBDHI_03141'\n",
       "29. 'JFDMDMML_00996'\n",
       "30. 'JHKIHDGE_01253'\n",
       "31. 'JHKIHDGE_03280'\n",
       "32. 'JHKIHDGE_04647'\n",
       "33. 'LPGKLAMA_00493'\n",
       "34. 'LPGKLAMA_00543'\n",
       "35. 'LPGKLAMA_05251'\n",
       "36. 'LPGKLAMA_05584'\n",
       "37. 'MEJPDLNM_00795'\n",
       "38. 'aacC1'\n",
       "39. 'bvgS_2'\n",
       "40. 'cckA'\n",
       "41. 'cra'\n",
       "42. 'cspA_6'\n",
       "43. 'cya'\n",
       "44. 'eno'\n",
       "45. 'fhaB_2'\n",
       "46. 'hssR'\n",
       "47. 'kbl'\n",
       "48. 'lgrB'\n",
       "49. 'ltxA_1'\n",
       "50. 'ltxA_6'\n",
       "51. 'luxQ_1'\n",
       "52. 'phoQ_2'\n",
       "53. 'phoR_2'\n",
       "54. 'relA_2'\n",
       "55. 'rhaR_1'\n",
       "56. 'rhsA'\n",
       "57. 'rpsL'\n",
       "58. 'rsmG'\n",
       "59. 'soj_1'\n",
       "60. 'spoT_1'\n",
       "61. 'vgrG1_2'\n",
       "62. 'xynD_5'\n",
       "63. 'ycdT_1'\n",
       "\n",
       "\n"
      ],
      "text/plain": [
       " [1] cra     cspA_6  cya     rpsL    hssR    cckA    rhaR_1  bvgS_2  phoQ_2 \n",
       "[10] vgrG1_2 lgrB    rsmG    fhaB_2  aacC1   kbl     rhsA    soj_1   spoT_1 \n",
       "[19] ycdT_1  phoR_2  relA_2  xynD_5  eno     ltxA_1  ltxA_6  luxQ_1 \n",
       "63 Levels: ABNHBPOL_00951 ABNHBPOL_04066 CKLFCLNC_01286 ... ycdT_1"
      ]
     },
     "metadata": {},
     "output_type": "display_data"
    }
   ],
   "source": [
    "x = unique(multihit4$GENE)\n",
    "x"
   ]
  },
  {
   "cell_type": "code",
   "execution_count": 15,
   "metadata": {},
   "outputs": [],
   "source": [
    "multihit4$GENE = factor(multihit4$GENE, levels = rev(sort(unique(multihit4$GENE))))"
   ]
  },
  {
   "cell_type": "code",
   "execution_count": 16,
   "metadata": {},
   "outputs": [],
   "source": [
    "multihit4$PROP2 = factor(multihit4$PROP2, levels = c(\"1 / 3\",\n",
    "                                                     \"1 / 2\",\n",
    "                                                     \"2 / 3\",\n",
    "                                                     \"1 / 1\",\n",
    "                                                     \"2 / 2\",\n",
    "                                                     \"3 / 3\"))"
   ]
  },
  {
   "cell_type": "code",
   "execution_count": 17,
   "metadata": {},
   "outputs": [
    {
     "data": {
      "text/html": [
       "<ol class=list-inline>\n",
       "\t<li>'1 / 3'</li>\n",
       "\t<li>'1 / 2'</li>\n",
       "\t<li>'2 / 3'</li>\n",
       "\t<li>'1 / 1'</li>\n",
       "\t<li>'2 / 2'</li>\n",
       "\t<li>'3 / 3'</li>\n",
       "</ol>\n"
      ],
      "text/latex": [
       "\\begin{enumerate*}\n",
       "\\item '1 / 3'\n",
       "\\item '1 / 2'\n",
       "\\item '2 / 3'\n",
       "\\item '1 / 1'\n",
       "\\item '2 / 2'\n",
       "\\item '3 / 3'\n",
       "\\end{enumerate*}\n"
      ],
      "text/markdown": [
       "1. '1 / 3'\n",
       "2. '1 / 2'\n",
       "3. '2 / 3'\n",
       "4. '1 / 1'\n",
       "5. '2 / 2'\n",
       "6. '3 / 3'\n",
       "\n",
       "\n"
      ],
      "text/plain": [
       "[1] \"1 / 3\" \"1 / 2\" \"2 / 3\" \"1 / 1\" \"2 / 2\" \"3 / 3\""
      ]
     },
     "metadata": {},
     "output_type": "display_data"
    }
   ],
   "source": [
    "levels(multihit4$PROP2)"
   ]
  },
  {
   "cell_type": "code",
   "execution_count": 18,
   "metadata": {},
   "outputs": [],
   "source": [
    "colors = rev(brewer.pal(6, name=\"Spectral\"))"
   ]
  },
  {
   "cell_type": "code",
   "execution_count": 19,
   "metadata": {},
   "outputs": [],
   "source": [
    "multihit4$GENE = gsub(\"_.*\", \"\", multihit4$GENE)"
   ]
  },
  {
   "cell_type": "code",
   "execution_count": 20,
   "metadata": {},
   "outputs": [],
   "source": [
    "multihit4$SPECIES = gsub(\"_\", \"\\n\", multihit4$SPECIES)"
   ]
  },
  {
   "cell_type": "code",
   "execution_count": 21,
   "metadata": {},
   "outputs": [],
   "source": [
    "multihit4$IMMIGRATION = factor(multihit4$IMMIGRATION, levels = c(\"No immigration\", \"Immigration\"))"
   ]
  },
  {
   "cell_type": "code",
   "execution_count": 22,
   "metadata": {},
   "outputs": [
    {
     "data": {
      "text/html": [
       "<ol class=list-inline>\n",
       "\t<li>'HAMBI\\n105'</li>\n",
       "\t<li>'HAMBI\\n1874'</li>\n",
       "\t<li>'HAMBI\\n1896'</li>\n",
       "\t<li>'HAMBI\\n1972'</li>\n",
       "\t<li>'HAMBI\\n1977'</li>\n",
       "\t<li>'HAMBI\\n2160'</li>\n",
       "\t<li>'HAMBI\\n2443'</li>\n",
       "\t<li>'HAMBI\\n2659'</li>\n",
       "\t<li>'HAMBI\\n3031'</li>\n",
       "\t<li>'HAMBI\\n3172'</li>\n",
       "</ol>\n"
      ],
      "text/latex": [
       "\\begin{enumerate*}\n",
       "\\item 'HAMBI\\textbackslash{}n105'\n",
       "\\item 'HAMBI\\textbackslash{}n1874'\n",
       "\\item 'HAMBI\\textbackslash{}n1896'\n",
       "\\item 'HAMBI\\textbackslash{}n1972'\n",
       "\\item 'HAMBI\\textbackslash{}n1977'\n",
       "\\item 'HAMBI\\textbackslash{}n2160'\n",
       "\\item 'HAMBI\\textbackslash{}n2443'\n",
       "\\item 'HAMBI\\textbackslash{}n2659'\n",
       "\\item 'HAMBI\\textbackslash{}n3031'\n",
       "\\item 'HAMBI\\textbackslash{}n3172'\n",
       "\\end{enumerate*}\n"
      ],
      "text/markdown": [
       "1. 'HAMBI\\n105'\n",
       "2. 'HAMBI\\n1874'\n",
       "3. 'HAMBI\\n1896'\n",
       "4. 'HAMBI\\n1972'\n",
       "5. 'HAMBI\\n1977'\n",
       "6. 'HAMBI\\n2160'\n",
       "7. 'HAMBI\\n2443'\n",
       "8. 'HAMBI\\n2659'\n",
       "9. 'HAMBI\\n3031'\n",
       "10. 'HAMBI\\n3172'\n",
       "\n",
       "\n"
      ],
      "text/plain": [
       " [1] \"HAMBI\\n105\"  \"HAMBI\\n1874\" \"HAMBI\\n1896\" \"HAMBI\\n1972\" \"HAMBI\\n1977\"\n",
       " [6] \"HAMBI\\n2160\" \"HAMBI\\n2443\" \"HAMBI\\n2659\" \"HAMBI\\n3031\" \"HAMBI\\n3172\""
      ]
     },
     "metadata": {},
     "output_type": "display_data"
    }
   ],
   "source": [
    "# Rename species\n",
    "\n",
    "unique(multihit4$SPECIES)\n",
    "multihit4$SPECIES = factor(multihit4$SPECIES, levels = c('HAMBI\\n105', \n",
    "                                                         'HAMBI\\n1874', \n",
    "                                                         'HAMBI\\n1896', \n",
    "                                                         'HAMBI\\n1972', \n",
    "                                                         'HAMBI\\n1977',\n",
    "                                                         'HAMBI\\n2160',\n",
    "                                                         'HAMBI\\n2443',\n",
    "                                                         'HAMBI\\n2659',\n",
    "                                                         'HAMBI\\n3031',\n",
    "                                                         'HAMBI\\n3172'),\n",
    "                           labels = c('Agrobacterium\\ntumefaciens', \n",
    "                                      'Sphingobacterium\\nmultivorum', \n",
    "                                      'Sphingobacterium\\nspiritivorum', \n",
    "                                      'Aeromonas\\ncaviae', \n",
    "                                      'Pseudomonas\\nchlororaphis',\n",
    "                                      'Bordetella\\navium',\n",
    "                                      'Paracoccus\\ndenitrificans',\n",
    "                                      'Stenotrophomonas\\nmaltophilia',\n",
    "                                      'Niabella\\nyanshanensis',\n",
    "                                      'Azospirillum\\nbrasilense'))\n",
    "multihit4$SPECIES = factor(multihit4$SPECIES, levels = c('Aeromonas\\ncaviae', \n",
    "                                                         'Agrobacterium\\ntumefaciens', \n",
    "                                                         'Azospirillum\\nbrasilense',\n",
    "                                                         'Bordetella\\navium',\n",
    "                                                         'Niabella\\nyanshanensis',\n",
    "                                                         'Paracoccus\\ndenitrificans',\n",
    "                                                         'Pseudomonas\\nchlororaphis',\n",
    "                                                         'Sphingobacterium\\nmultivorum',\n",
    "                                                         'Sphingobacterium\\nspiritivorum',\n",
    "                                                         'Stenotrophomonas\\nmaltophilia'))"
   ]
  },
  {
   "cell_type": "code",
   "execution_count": 23,
   "metadata": {},
   "outputs": [
    {
     "data": {},
     "metadata": {},
     "output_type": "display_data"
    },
    {
     "data": {
      "image/png": "[encoded data removed]",
      "text/plain": [
       "plot without title"
      ]
     },
     "metadata": {},
     "output_type": "display_data"
    }
   ],
   "source": [
    "# Plot code\n",
    "\n",
    "p1 = ggplot(multihit4[multihit4$TIME == 12,],aes(y = factor(ANTIBIOTIC), x = reorder(GENE, desc(GENE)), fill = PROP2))+\n",
    "    geom_tile(colour = \"black\", size = 0.25)+\n",
    "    scale_x_discrete(position = \"top\") +\n",
    "    scale_fill_manual(values =c('1 / 3' = colors[1], \n",
    "                                  '1 / 2' = colors[2],\n",
    "                                  '2 / 3' = colors[3],\n",
    "                                  '1 / 1' = colors[4],\n",
    "                                  '2 / 2' = colors[5],\n",
    "                                  '3 / 3' = colors[6])) +\n",
    "    guides(fill = guide_legend(title = \"Replicates\\nhit / detected\")) +\n",
    "    facet_grid(IMMIGRATION ~ SPECIES, scales = \"free\", space = \"free\", switch = \"x\")+\n",
    "    ylab(\"Antibiotic level\") +\n",
    "    xlab(\"Gene\") +\n",
    "    theme(strip.text.y = element_text(size = 20, color = \"black\"),\n",
    "        strip.text.x = element_text(size = 16, color = \"black\", face = \"italic\", angle = 90),\n",
    "        legend.text = element_text(size = 20, color = \"black\"),\n",
    "        legend.title = element_text(size = 20, color = \"black\"),\n",
    "        strip.background.y =element_rect(fill =\"white\", size = 0.5, colour = \"white\"),\n",
    "        strip.background.x =element_rect(fill =\"white\", colour = \"white\"),\n",
    "        axis.title.x = element_text(size = 20, color = \"black\"),\n",
    "        axis.title.y = element_text(size = 20, color = \"black\"),\n",
    "        axis.text.x = element_text(angle = 0, size = 16, color = \"black\", hjust = 0.5, vjust = 0.5, face = \"italic\"),\n",
    "        axis.text.y = element_text(size = 20, color = \"black\"),\n",
    "        panel.spacing.x = unit(1, \"lines\"),\n",
    "        panel.background = element_rect(fill = NA, color = \"black\"),\n",
    "        axis.line = element_blank(),\n",
    "        strip.placement = \"outside\")\n",
    "p1"
   ]
  },
  {
   "cell_type": "code",
   "execution_count": 24,
   "metadata": {},
   "outputs": [],
   "source": [
    "# Write out\n",
    "\n",
    "# ggsave(\"../../../manuscript/figures/recurrent_variant_plot.pdf\", width = 24, height = 8)"
   ]
  }
 ],
 "metadata": {
  "kernelspec": {
   "display_name": "R",
   "language": "R",
   "name": "ir"
  },
  "language_info": {
   "codemirror_mode": "r",
   "file_extension": ".r",
   "mimetype": "text/x-r-source",
   "name": "R",
   "pygments_lexer": "r",
   "version": "3.5.1"
  }
 },
 "nbformat": 4,
 "nbformat_minor": 2
}
