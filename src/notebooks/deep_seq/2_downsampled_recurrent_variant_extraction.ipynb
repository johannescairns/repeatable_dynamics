{
 "cells": [
  {
   "cell_type": "markdown",
   "metadata": {},
   "source": [
    "# Extracting multihit nonsynonymous mutations from filtered variants"
   ]
  },
  {
   "cell_type": "code",
   "execution_count": 1,
   "metadata": {},
   "outputs": [],
   "source": [
    "# Read in data\n",
    "\n",
    "variants = read.table(\"../../../data/deep_seq/downsampled_filtered_variant_data.txt\", \n",
    "                      sep = \"\\t\", \n",
    "                      header = T)"
   ]
  },
  {
   "cell_type": "code",
   "execution_count": 2,
   "metadata": {},
   "outputs": [
    {
     "data": {
      "text/html": [
       "<table>\n",
       "<thead><tr><th></th><th scope=col>SAMPLE</th><th scope=col>TIME</th><th scope=col>ANTIBIOTIC</th><th scope=col>IMMIGRATION</th><th scope=col>REPLICATE</th><th scope=col>SPECIES</th><th scope=col>CONTIG</th><th scope=col>CONTIG_LENGTH</th><th scope=col>POSITION</th><th scope=col>REF_ALLELE</th><th scope=col>⋯</th><th scope=col>VARIANT_EFFECT_CAT</th><th scope=col>VARIANT_IMPACT</th><th scope=col>GENE</th><th scope=col>GENEID</th><th scope=col>NA_CHANGE</th><th scope=col>AA_CHANGE</th><th scope=col>VARIANT_FREQUENCY</th><th scope=col>MEDIAN_COVERAGE</th><th scope=col>AMPLICON_READS</th><th scope=col>DISTANCE_FROM_PREV</th></tr></thead>\n",
       "<tbody>\n",
       "\t<tr><th scope=row>1</th><td>T12_AB16_I0_REP3                                                                     </td><td>12                                                                                   </td><td>16                                                                                   </td><td>0                                                                                    </td><td>3                                                                                    </td><td>HAMBI_1972                                                                           </td><td>ABNHBPOL_1                                                                           </td><td>404185                                                                               </td><td>130054                                                                               </td><td><span style=white-space:pre-wrap>G           </span>                                 </td><td>⋯                                                                                    </td><td>nonsynonymous                                                                        </td><td>MODERATE                                                                             </td><td>ABNHBPOL_00101                                                                       </td><td>ABNHBPOL_00101                                                                       </td><td><span style=white-space:pre-wrap>c.653C&gt;A                                  </span></td><td>p.Thr218Asn                                                                          </td><td>0.5000000                                                                            </td><td>439                                                                                  </td><td> 550                                                                                 </td><td>65183                                                                                </td></tr>\n",
       "\t<tr><th scope=row>2</th><td><span style=white-space:pre-wrap>T8_AB4_I1_REP1  </span>                             </td><td> 8                                                                                   </td><td> 4                                                                                   </td><td>1                                                                                    </td><td>1                                                                                    </td><td>HAMBI_1972                                                                           </td><td>ABNHBPOL_1                                                                           </td><td>404185                                                                               </td><td>204875                                                                               </td><td><span style=white-space:pre-wrap>G           </span>                                 </td><td>⋯                                                                                    </td><td>nonsynonymous                                                                        </td><td>MODERATE                                                                             </td><td><span style=white-space:pre-wrap>hscA          </span>                               </td><td>ABNHBPOL_00169                                                                       </td><td><span style=white-space:pre-wrap>c.1013G&gt;T                                 </span></td><td>p.Arg338Leu                                                                          </td><td>0.6666667                                                                            </td><td>163                                                                                  </td><td> 169                                                                                 </td><td>74821                                                                                </td></tr>\n",
       "\t<tr><th scope=row>116</th><td><span style=white-space:pre-wrap>T8_AB4_I0_REP1  </span>                             </td><td> 8                                                                                   </td><td> 4                                                                                   </td><td>0                                                                                    </td><td>1                                                                                    </td><td>HAMBI_1972                                                                           </td><td>ABNHBPOL_1                                                                           </td><td>404185                                                                               </td><td> 28988                                                                               </td><td><span style=white-space:pre-wrap>C           </span>                                 </td><td>⋯                                                                                    </td><td>nonsynonymous                                                                        </td><td>MODERATE                                                                             </td><td><span style=white-space:pre-wrap>carB          </span>                               </td><td>ABNHBPOL_00028                                                                       </td><td><span style=white-space:pre-wrap>c.1113C&gt;A                                 </span></td><td>p.Asn371Lys                                                                          </td><td>0.6666667                                                                            </td><td>200                                                                                  </td><td><span style=white-space:pre-wrap>  98</span>                                         </td><td><span style=white-space:pre-wrap>    0</span>                                        </td></tr>\n",
       "\t<tr><th scope=row>119</th><td>T12_AB0_I0_REP2                                                                      </td><td>12                                                                                   </td><td> 0                                                                                   </td><td>0                                                                                    </td><td>2                                                                                    </td><td>HAMBI_1972                                                                           </td><td>ABNHBPOL_1                                                                           </td><td>404185                                                                               </td><td>372096                                                                               </td><td><span style=white-space:pre-wrap>G           </span>                                 </td><td>⋯                                                                                    </td><td>nonsynonymous                                                                        </td><td>MODERATE                                                                             </td><td><span style=white-space:pre-wrap>trxC          </span>                               </td><td>ABNHBPOL_00315                                                                       </td><td><span style=white-space:pre-wrap>c.112C&gt;A                                  </span></td><td>p.Gln38Lys                                                                           </td><td>0.5000000                                                                            </td><td>569                                                                                  </td><td>2768                                                                                 </td><td> 6573                                                                                </td></tr>\n",
       "\t<tr><th scope=row>120</th><td><span style=white-space:pre-wrap>T8_AB4_I1_REP2  </span>                             </td><td> 8                                                                                   </td><td> 4                                                                                   </td><td>1                                                                                    </td><td>2                                                                                    </td><td>HAMBI_1972                                                                           </td><td>ABNHBPOL_1                                                                           </td><td>404185                                                                               </td><td> 59337                                                                               </td><td><span style=white-space:pre-wrap>A           </span>                                 </td><td>⋯                                                                                    </td><td>nonsynonymous                                                                        </td><td>MODERATE                                                                             </td><td><span style=white-space:pre-wrap>bepC          </span>                               </td><td>ABNHBPOL_00049                                                                       </td><td><span style=white-space:pre-wrap>c.1199A&gt;G                                 </span></td><td>p.Glu400Gly                                                                          </td><td>0.6666667                                                                            </td><td>181                                                                                  </td><td> 137                                                                                 </td><td>30349                                                                                </td></tr>\n",
       "\t<tr><th scope=row>132</th><td>T8_AB4_I0_REP3                            </td><td> 8                                        </td><td> 4                                        </td><td>0                                         </td><td>3                                         </td><td>HAMBI_1972                                </td><td>ABNHBPOL_1                                </td><td>404185                                    </td><td> 64871                                    </td><td>CCAACGATGATG                              </td><td>⋯                                         </td><td>nonsynonymous                             </td><td>HIGH                                      </td><td>cya                                       </td><td>ABNHBPOL_00052                            </td><td>c.840_850delCAACGATGATGinsGGTGAGCGACGTCAAC</td><td>p.Asn281fs                                </td><td>0.8333333                                 </td><td>268                                       </td><td> 129                                      </td><td>  395                                     </td></tr>\n",
       "</tbody>\n",
       "</table>\n"
      ],
      "text/latex": [
       "\\begin{tabular}{r|lllllllllllllllllllllll}\n",
       "  & SAMPLE & TIME & ANTIBIOTIC & IMMIGRATION & REPLICATE & SPECIES & CONTIG & CONTIG\\_LENGTH & POSITION & REF\\_ALLELE & ⋯ & VARIANT\\_EFFECT\\_CAT & VARIANT\\_IMPACT & GENE & GENEID & NA\\_CHANGE & AA\\_CHANGE & VARIANT\\_FREQUENCY & MEDIAN\\_COVERAGE & AMPLICON\\_READS & DISTANCE\\_FROM\\_PREV\\\\\n",
       "\\hline\n",
       "\t1 & T12\\_AB16\\_I0\\_REP3                     & 12                                         & 16                                         & 0                                          & 3                                          & HAMBI\\_1972                               & ABNHBPOL\\_1                               & 404185                                     & 130054                                     & G                                          & ⋯                                          & nonsynonymous                              & MODERATE                                   & ABNHBPOL\\_00101                           & ABNHBPOL\\_00101                           & c.653C>A                                   & p.Thr218Asn                                & 0.5000000                                  & 439                                        &  550                                       & 65183                                     \\\\\n",
       "\t2 & T8\\_AB4\\_I1\\_REP1                       &  8                                         &  4                                         & 1                                          & 1                                          & HAMBI\\_1972                               & ABNHBPOL\\_1                               & 404185                                     & 204875                                     & G                                          & ⋯                                          & nonsynonymous                              & MODERATE                                   & hscA                                       & ABNHBPOL\\_00169                           & c.1013G>T                                  & p.Arg338Leu                                & 0.6666667                                  & 163                                        &  169                                       & 74821                                     \\\\\n",
       "\t116 & T8\\_AB4\\_I0\\_REP1                       &  8                                         &  4                                         & 0                                          & 1                                          & HAMBI\\_1972                               & ABNHBPOL\\_1                               & 404185                                     &  28988                                     & C                                          & ⋯                                          & nonsynonymous                              & MODERATE                                   & carB                                       & ABNHBPOL\\_00028                           & c.1113C>A                                  & p.Asn371Lys                                & 0.6666667                                  & 200                                        &   98                                       &     0                                     \\\\\n",
       "\t119 & T12\\_AB0\\_I0\\_REP2                      & 12                                         &  0                                         & 0                                          & 2                                          & HAMBI\\_1972                               & ABNHBPOL\\_1                               & 404185                                     & 372096                                     & G                                          & ⋯                                          & nonsynonymous                              & MODERATE                                   & trxC                                       & ABNHBPOL\\_00315                           & c.112C>A                                   & p.Gln38Lys                                 & 0.5000000                                  & 569                                        & 2768                                       &  6573                                     \\\\\n",
       "\t120 & T8\\_AB4\\_I1\\_REP2                       &  8                                         &  4                                         & 1                                          & 2                                          & HAMBI\\_1972                               & ABNHBPOL\\_1                               & 404185                                     &  59337                                     & A                                          & ⋯                                          & nonsynonymous                              & MODERATE                                   & bepC                                       & ABNHBPOL\\_00049                           & c.1199A>G                                  & p.Glu400Gly                                & 0.6666667                                  & 181                                        &  137                                       & 30349                                     \\\\\n",
       "\t132 & T8\\_AB4\\_I0\\_REP3                         &  8                                           &  4                                           & 0                                            & 3                                            & HAMBI\\_1972                                 & ABNHBPOL\\_1                                 & 404185                                       &  64871                                       & CCAACGATGATG                                 & ⋯                                            & nonsynonymous                                & HIGH                                         & cya                                          & ABNHBPOL\\_00052                             & c.840\\_850delCAACGATGATGinsGGTGAGCGACGTCAAC & p.Asn281fs                                   & 0.8333333                                    & 268                                          &  129                                         &   395                                       \\\\\n",
       "\\end{tabular}\n"
      ],
      "text/markdown": [
       "\n",
       "| <!--/--> | SAMPLE | TIME | ANTIBIOTIC | IMMIGRATION | REPLICATE | SPECIES | CONTIG | CONTIG_LENGTH | POSITION | REF_ALLELE | ⋯ | VARIANT_EFFECT_CAT | VARIANT_IMPACT | GENE | GENEID | NA_CHANGE | AA_CHANGE | VARIANT_FREQUENCY | MEDIAN_COVERAGE | AMPLICON_READS | DISTANCE_FROM_PREV | \n",
       "|---|---|---|---|---|---|\n",
       "| 1 | T12_AB16_I0_REP3                           | 12                                         | 16                                         | 0                                          | 3                                          | HAMBI_1972                                 | ABNHBPOL_1                                 | 404185                                     | 130054                                     | G                                          | ⋯                                          | nonsynonymous                              | MODERATE                                   | ABNHBPOL_00101                             | ABNHBPOL_00101                             | c.653C>A                                   | p.Thr218Asn                                | 0.5000000                                  | 439                                        |  550                                       | 65183                                      | \n",
       "| 2 | T8_AB4_I1_REP1                             |  8                                         |  4                                         | 1                                          | 1                                          | HAMBI_1972                                 | ABNHBPOL_1                                 | 404185                                     | 204875                                     | G                                          | ⋯                                          | nonsynonymous                              | MODERATE                                   | hscA                                       | ABNHBPOL_00169                             | c.1013G>T                                  | p.Arg338Leu                                | 0.6666667                                  | 163                                        |  169                                       | 74821                                      | \n",
       "| 116 | T8_AB4_I0_REP1                             |  8                                         |  4                                         | 0                                          | 1                                          | HAMBI_1972                                 | ABNHBPOL_1                                 | 404185                                     |  28988                                     | C                                          | ⋯                                          | nonsynonymous                              | MODERATE                                   | carB                                       | ABNHBPOL_00028                             | c.1113C>A                                  | p.Asn371Lys                                | 0.6666667                                  | 200                                        |   98                                       |     0                                      | \n",
       "| 119 | T12_AB0_I0_REP2                            | 12                                         |  0                                         | 0                                          | 2                                          | HAMBI_1972                                 | ABNHBPOL_1                                 | 404185                                     | 372096                                     | G                                          | ⋯                                          | nonsynonymous                              | MODERATE                                   | trxC                                       | ABNHBPOL_00315                             | c.112C>A                                   | p.Gln38Lys                                 | 0.5000000                                  | 569                                        | 2768                                       |  6573                                      | \n",
       "| 120 | T8_AB4_I1_REP2                             |  8                                         |  4                                         | 1                                          | 2                                          | HAMBI_1972                                 | ABNHBPOL_1                                 | 404185                                     |  59337                                     | A                                          | ⋯                                          | nonsynonymous                              | MODERATE                                   | bepC                                       | ABNHBPOL_00049                             | c.1199A>G                                  | p.Glu400Gly                                | 0.6666667                                  | 181                                        |  137                                       | 30349                                      | \n",
       "| 132 | T8_AB4_I0_REP3                             |  8                                         |  4                                         | 0                                          | 3                                          | HAMBI_1972                                 | ABNHBPOL_1                                 | 404185                                     |  64871                                     | CCAACGATGATG                               | ⋯                                          | nonsynonymous                              | HIGH                                       | cya                                        | ABNHBPOL_00052                             | c.840_850delCAACGATGATGinsGGTGAGCGACGTCAAC | p.Asn281fs                                 | 0.8333333                                  | 268                                        |  129                                       |   395                                      | \n",
       "\n",
       "\n"
      ],
      "text/plain": [
       "    SAMPLE           TIME ANTIBIOTIC IMMIGRATION REPLICATE SPECIES   \n",
       "1   T12_AB16_I0_REP3 12   16         0           3         HAMBI_1972\n",
       "2   T8_AB4_I1_REP1    8    4         1           1         HAMBI_1972\n",
       "116 T8_AB4_I0_REP1    8    4         0           1         HAMBI_1972\n",
       "119 T12_AB0_I0_REP2  12    0         0           2         HAMBI_1972\n",
       "120 T8_AB4_I1_REP2    8    4         1           2         HAMBI_1972\n",
       "132 T8_AB4_I0_REP3    8    4         0           3         HAMBI_1972\n",
       "    CONTIG     CONTIG_LENGTH POSITION REF_ALLELE   ⋯ VARIANT_EFFECT_CAT\n",
       "1   ABNHBPOL_1 404185        130054   G            ⋯ nonsynonymous     \n",
       "2   ABNHBPOL_1 404185        204875   G            ⋯ nonsynonymous     \n",
       "116 ABNHBPOL_1 404185         28988   C            ⋯ nonsynonymous     \n",
       "119 ABNHBPOL_1 404185        372096   G            ⋯ nonsynonymous     \n",
       "120 ABNHBPOL_1 404185         59337   A            ⋯ nonsynonymous     \n",
       "132 ABNHBPOL_1 404185         64871   CCAACGATGATG ⋯ nonsynonymous     \n",
       "    VARIANT_IMPACT GENE           GENEID        \n",
       "1   MODERATE       ABNHBPOL_00101 ABNHBPOL_00101\n",
       "2   MODERATE       hscA           ABNHBPOL_00169\n",
       "116 MODERATE       carB           ABNHBPOL_00028\n",
       "119 MODERATE       trxC           ABNHBPOL_00315\n",
       "120 MODERATE       bepC           ABNHBPOL_00049\n",
       "132 HIGH           cya            ABNHBPOL_00052\n",
       "    NA_CHANGE                                  AA_CHANGE   VARIANT_FREQUENCY\n",
       "1   c.653C>A                                   p.Thr218Asn 0.5000000        \n",
       "2   c.1013G>T                                  p.Arg338Leu 0.6666667        \n",
       "116 c.1113C>A                                  p.Asn371Lys 0.6666667        \n",
       "119 c.112C>A                                   p.Gln38Lys  0.5000000        \n",
       "120 c.1199A>G                                  p.Glu400Gly 0.6666667        \n",
       "132 c.840_850delCAACGATGATGinsGGTGAGCGACGTCAAC p.Asn281fs  0.8333333        \n",
       "    MEDIAN_COVERAGE AMPLICON_READS DISTANCE_FROM_PREV\n",
       "1   439              550           65183             \n",
       "2   163              169           74821             \n",
       "116 200               98               0             \n",
       "119 569             2768            6573             \n",
       "120 181              137           30349             \n",
       "132 268              129             395             "
      ]
     },
     "metadata": {},
     "output_type": "display_data"
    }
   ],
   "source": [
    "# Subset only genes with nonsynonymous mutations\n",
    "\n",
    "nonsynonymous = variants[variants$VARIANT_EFFECT_CAT == \"nonsynonymous\",]\n",
    "head(nonsynonymous)"
   ]
  },
  {
   "cell_type": "code",
   "execution_count": 3,
   "metadata": {},
   "outputs": [
    {
     "data": {
      "text/html": [
       "2295"
      ],
      "text/latex": [
       "2295"
      ],
      "text/markdown": [
       "2295"
      ],
      "text/plain": [
       "[1] 2295"
      ]
     },
     "metadata": {},
     "output_type": "display_data"
    }
   ],
   "source": [
    "# Number of variants (some represent one variant in two time points)\n",
    "\n",
    "nrow(nonsynonymous) # 2295 nonsynonymous variants"
   ]
  },
  {
   "cell_type": "code",
   "execution_count": 4,
   "metadata": {},
   "outputs": [
    {
     "data": {
      "text/html": [
       "<table>\n",
       "<thead><tr><th scope=col>SPECIES</th><th scope=col>CDS_COUNT</th></tr></thead>\n",
       "<tbody>\n",
       "\t<tr><td>HAMBI_6  </td><td>5945     </td></tr>\n",
       "\t<tr><td>HAMBI_97 </td><td>3137     </td></tr>\n",
       "\t<tr><td>HAMBI_105</td><td>5087     </td></tr>\n",
       "\t<tr><td>HAMBI_216</td><td>4825     </td></tr>\n",
       "\t<tr><td>HAMBI_262</td><td>3231     </td></tr>\n",
       "\t<tr><td>HAMBI_403</td><td>4905     </td></tr>\n",
       "</tbody>\n",
       "</table>\n"
      ],
      "text/latex": [
       "\\begin{tabular}{r|ll}\n",
       " SPECIES & CDS\\_COUNT\\\\\n",
       "\\hline\n",
       "\t HAMBI\\_6   & 5945       \\\\\n",
       "\t HAMBI\\_97  & 3137       \\\\\n",
       "\t HAMBI\\_105 & 5087       \\\\\n",
       "\t HAMBI\\_216 & 4825       \\\\\n",
       "\t HAMBI\\_262 & 3231       \\\\\n",
       "\t HAMBI\\_403 & 4905       \\\\\n",
       "\\end{tabular}\n"
      ],
      "text/markdown": [
       "\n",
       "SPECIES | CDS_COUNT | \n",
       "|---|---|---|---|---|---|\n",
       "| HAMBI_6   | 5945      | \n",
       "| HAMBI_97  | 3137      | \n",
       "| HAMBI_105 | 5087      | \n",
       "| HAMBI_216 | 4825      | \n",
       "| HAMBI_262 | 3231      | \n",
       "| HAMBI_403 | 4905      | \n",
       "\n",
       "\n"
      ],
      "text/plain": [
       "  SPECIES   CDS_COUNT\n",
       "1 HAMBI_6   5945     \n",
       "2 HAMBI_97  3137     \n",
       "3 HAMBI_105 5087     \n",
       "4 HAMBI_216 4825     \n",
       "5 HAMBI_262 3231     \n",
       "6 HAMBI_403 4905     "
      ]
     },
     "metadata": {},
     "output_type": "display_data"
    },
    {
     "data": {
      "text/html": [
       "53916"
      ],
      "text/latex": [
       "53916"
      ],
      "text/markdown": [
       "53916"
      ],
      "text/plain": [
       "[1] 53916"
      ]
     },
     "metadata": {},
     "output_type": "display_data"
    }
   ],
   "source": [
    "# Number of possible coding sequences\n",
    "\n",
    "cds_numbers = read.table(\"../../../data/deep_seq/cds_counts.txt\", \n",
    "                      sep = \"\\t\", \n",
    "                      header = F)\n",
    "colnames(cds_numbers) = c(\"SPECIES\", \"CDS_COUNT\")\n",
    "head(cds_numbers)\n",
    "sum(cds_numbers$CDS_COUNT[cds_numbers$SPECIES %in% nonsynonymous$SPECIES]) # 53,916 coding sequences"
   ]
  },
  {
   "cell_type": "code",
   "execution_count": 5,
   "metadata": {},
   "outputs": [
    {
     "data": {
      "text/html": [
       "0.95834440511755"
      ],
      "text/latex": [
       "0.95834440511755"
      ],
      "text/markdown": [
       "0.95834440511755"
      ],
      "text/plain": [
       "[1] 0.9583444"
      ]
     },
     "metadata": {},
     "output_type": "display_data"
    },
    {
     "data": {
      "text/html": [
       "0.0203880373304244"
      ],
      "text/latex": [
       "0.0203880373304244"
      ],
      "text/markdown": [
       "0.0203880373304244"
      ],
      "text/plain": [
       "[1] 0.02038804"
      ]
     },
     "metadata": {},
     "output_type": "display_data"
    },
    {
     "data": {
      "text/html": [
       "0.000289033785271033"
      ],
      "text/latex": [
       "0.000289033785271033"
      ],
      "text/markdown": [
       "0.000289033785271033"
      ],
      "text/plain": [
       "[1] 0.0002890338"
      ]
     },
     "metadata": {},
     "output_type": "display_data"
    },
    {
     "data": {
      "text/html": [
       "3.07180485876475e-06"
      ],
      "text/latex": [
       "3.07180485876475e-06"
      ],
      "text/markdown": [
       "3.07180485876475e-06"
      ],
      "text/plain": [
       "[1] 3.071805e-06"
      ]
     },
     "metadata": {},
     "output_type": "display_data"
    },
    {
     "data": {
      "text/html": [
       "1764"
      ],
      "text/latex": [
       "1764"
      ],
      "text/markdown": [
       "1764"
      ],
      "text/plain": [
       "[1] 1764"
      ]
     },
     "metadata": {},
     "output_type": "display_data"
    }
   ],
   "source": [
    "# There are 53,916 unique coding sequences (items, n) and we are selecting 2295 of them (m)\n",
    "# The expected number of items appearing k times is therefore given by n * dbinom(k, m, 1 / n)\n",
    "\n",
    "# probability of one hit:\n",
    "53916 * dbinom(1, 2295, 1 / 53916) / 2295 # 0.95834440511755\n",
    "# two hits:\n",
    "53916 * dbinom(2, 2295, 1 / 53916) / 2295 # 0.0203880373304244\n",
    "# three hits:\n",
    "53916 * dbinom(3, 2295, 1 / 53916) / 2295 # 0.000289033785271033\n",
    "# four hits:\n",
    "53916 * dbinom(4, 2295, 1 / 53916) / 2295 # 3.07180485876475e-06\n",
    "\n",
    "# The probability of three hits in the same gene is below alpha 0.01\n",
    "# Let's use three as criterion instead of two which can result from same variant occurring in two time points\n",
    "\n",
    "# Based on literature we know that the rpsL gene is the most common target of streptomycin resistance mutations\n",
    "# so let's select it in in addition to all genes with two or more hits\n",
    "\n",
    "nonsynonymous$COUNT = 1\n",
    "hit_counts = aggregate(COUNT ~ GENE, data = nonsynonymous, FUN = function(x) {sum(x)})\n",
    "\n",
    "x = hit_counts[hit_counts$COUNT >= 3,]\n",
    "\n",
    "multihit = nonsynonymous[nonsynonymous$GENE %in% x$GENE | nonsynonymous$GENE == \"rpsL\",]\n",
    "\n",
    "# Number of nonsynonymous variants left\n",
    "\n",
    "nrow(multihit) # 1764 (i.e. most variants, 1764/2295, occur in genes with more than one hit)"
   ]
  },
  {
   "cell_type": "code",
   "execution_count": 6,
   "metadata": {},
   "outputs": [
    {
     "data": {
      "text/html": [
       "0"
      ],
      "text/latex": [
       "0"
      ],
      "text/markdown": [
       "0"
      ],
      "text/plain": [
       "[1] 0"
      ]
     },
     "metadata": {},
     "output_type": "display_data"
    },
    {
     "data": {
      "text/html": [
       "<table>\n",
       "<thead><tr><th></th><th scope=col>SAMPLE</th><th scope=col>TIME</th><th scope=col>ANTIBIOTIC</th><th scope=col>IMMIGRATION</th><th scope=col>REPLICATE</th><th scope=col>SPECIES</th><th scope=col>CONTIG</th><th scope=col>CONTIG_LENGTH</th><th scope=col>POSITION</th><th scope=col>REF_ALLELE</th><th scope=col>⋯</th><th scope=col>VARIANT_IMPACT</th><th scope=col>GENE</th><th scope=col>GENEID</th><th scope=col>NA_CHANGE</th><th scope=col>AA_CHANGE</th><th scope=col>VARIANT_FREQUENCY</th><th scope=col>MEDIAN_COVERAGE</th><th scope=col>AMPLICON_READS</th><th scope=col>DISTANCE_FROM_PREV</th><th scope=col>COUNT</th></tr></thead>\n",
       "<tbody>\n",
       "\t<tr><th scope=row>132</th><td>T8_AB4_I0_REP3                            </td><td> 8                                        </td><td>  4                                       </td><td>0                                         </td><td>3                                         </td><td>HAMBI_1972                                </td><td>ABNHBPOL_1                                </td><td>404185                                    </td><td>64871                                     </td><td>CCAACGATGATG                              </td><td>⋯                                         </td><td>HIGH                                      </td><td>cya                                       </td><td>ABNHBPOL_00052                            </td><td>c.840_850delCAACGATGATGinsGGTGAGCGACGTCAAC</td><td>p.Asn281fs                                </td><td>0.8333333                                 </td><td>268                                       </td><td>129                                       </td><td>395                                       </td><td>1                                         </td></tr>\n",
       "\t<tr><th scope=row>199</th><td>T12_AB128_I1_REP2                                                                    </td><td>12                                                                                   </td><td>128                                                                                  </td><td>1                                                                                    </td><td>2                                                                                    </td><td>HAMBI_1972                                                                           </td><td>ABNHBPOL_11                                                                          </td><td>154390                                                                               </td><td>37915                                                                                </td><td><span style=white-space:pre-wrap>G           </span>                                 </td><td>⋯                                                                                    </td><td>MODERATE                                                                             </td><td>vgrG1_2                                                                              </td><td>ABNHBPOL_02456                                                                       </td><td><span style=white-space:pre-wrap>c.110G&gt;A                                  </span></td><td>p.Ser37Asn                                                                           </td><td>0.5714286                                                                            </td><td>326                                                                                  </td><td>578                                                                                  </td><td> 16                                                                                  </td><td>1                                                                                    </td></tr>\n",
       "\t<tr><th scope=row>200</th><td>T12_AB128_I1_REP3                         </td><td>12                                        </td><td>128                                       </td><td>1                                         </td><td>3                                         </td><td>HAMBI_1972                                </td><td>ABNHBPOL_11                               </td><td>154390                                    </td><td>37915                                     </td><td>GC                                        </td><td>⋯                                         </td><td>MODERATE                                  </td><td>vgrG1_2                                   </td><td>ABNHBPOL_02456                            </td><td>c.110_111delGCinsAT                       </td><td>p.Ser37Asn                                </td><td>0.6666667                                 </td><td>450                                       </td><td>848                                       </td><td> 16                                       </td><td>1                                         </td></tr>\n",
       "\t<tr><th scope=row>201</th><td>T12_AB16_I0_REP1                                                                     </td><td>12                                                                                   </td><td> 16                                                                                  </td><td>0                                                                                    </td><td>1                                                                                    </td><td>HAMBI_1972                                                                           </td><td>ABNHBPOL_11                                                                          </td><td>154390                                                                               </td><td>37915                                                                                </td><td><span style=white-space:pre-wrap>G           </span>                                 </td><td>⋯                                                                                    </td><td>MODERATE                                                                             </td><td>vgrG1_2                                                                              </td><td>ABNHBPOL_02456                                                                       </td><td><span style=white-space:pre-wrap>c.110G&gt;A                                  </span></td><td>p.Ser37Asn                                                                           </td><td>0.5833333                                                                            </td><td>344                                                                                  </td><td>631                                                                                  </td><td> 16                                                                                  </td><td>1                                                                                    </td></tr>\n",
       "\t<tr><th scope=row>202</th><td>T12_AB16_I0_REP2                                                                     </td><td>12                                                                                   </td><td> 16                                                                                  </td><td>0                                                                                    </td><td>2                                                                                    </td><td>HAMBI_1972                                                                           </td><td>ABNHBPOL_11                                                                          </td><td>154390                                                                               </td><td>37915                                                                                </td><td><span style=white-space:pre-wrap>G           </span>                                 </td><td>⋯                                                                                    </td><td>MODERATE                                                                             </td><td>vgrG1_2                                                                              </td><td>ABNHBPOL_02456                                                                       </td><td><span style=white-space:pre-wrap>c.110G&gt;A                                  </span></td><td>p.Ser37Asn                                                                           </td><td>0.6666667                                                                            </td><td>262                                                                                  </td><td>374                                                                                  </td><td> 16                                                                                  </td><td>1                                                                                    </td></tr>\n",
       "\t<tr><th scope=row>203</th><td>T12_AB16_I1_REP1                                                                     </td><td>12                                                                                   </td><td> 16                                                                                  </td><td>1                                                                                    </td><td>1                                                                                    </td><td>HAMBI_1972                                                                           </td><td>ABNHBPOL_11                                                                          </td><td>154390                                                                               </td><td>37915                                                                                </td><td><span style=white-space:pre-wrap>G           </span>                                 </td><td>⋯                                                                                    </td><td>MODERATE                                                                             </td><td>vgrG1_2                                                                              </td><td>ABNHBPOL_02456                                                                       </td><td><span style=white-space:pre-wrap>c.110G&gt;A                                  </span></td><td>p.Ser37Asn                                                                           </td><td>0.8571429                                                                            </td><td>341                                                                                  </td><td>579                                                                                  </td><td> 16                                                                                  </td><td>1                                                                                    </td></tr>\n",
       "</tbody>\n",
       "</table>\n"
      ],
      "text/latex": [
       "\\begin{tabular}{r|llllllllllllllllllllllll}\n",
       "  & SAMPLE & TIME & ANTIBIOTIC & IMMIGRATION & REPLICATE & SPECIES & CONTIG & CONTIG\\_LENGTH & POSITION & REF\\_ALLELE & ⋯ & VARIANT\\_IMPACT & GENE & GENEID & NA\\_CHANGE & AA\\_CHANGE & VARIANT\\_FREQUENCY & MEDIAN\\_COVERAGE & AMPLICON\\_READS & DISTANCE\\_FROM\\_PREV & COUNT\\\\\n",
       "\\hline\n",
       "\t132 & T8\\_AB4\\_I0\\_REP3                         &  8                                           &   4                                          & 0                                            & 3                                            & HAMBI\\_1972                                 & ABNHBPOL\\_1                                 & 404185                                       & 64871                                        & CCAACGATGATG                                 & ⋯                                            & HIGH                                         & cya                                          & ABNHBPOL\\_00052                             & c.840\\_850delCAACGATGATGinsGGTGAGCGACGTCAAC & p.Asn281fs                                   & 0.8333333                                    & 268                                          & 129                                          & 395                                          & 1                                           \\\\\n",
       "\t199 & T12\\_AB128\\_I1\\_REP2                    & 12                                         & 128                                        & 1                                          & 2                                          & HAMBI\\_1972                               & ABNHBPOL\\_11                              & 154390                                     & 37915                                      & G                                          & ⋯                                          & MODERATE                                   & vgrG1\\_2                                  & ABNHBPOL\\_02456                           & c.110G>A                                   & p.Ser37Asn                                 & 0.5714286                                  & 326                                        & 578                                        &  16                                        & 1                                         \\\\\n",
       "\t200 & T12\\_AB128\\_I1\\_REP3                      & 12                                           & 128                                          & 1                                            & 3                                            & HAMBI\\_1972                                 & ABNHBPOL\\_11                                & 154390                                       & 37915                                        & GC                                           & ⋯                                            & MODERATE                                     & vgrG1\\_2                                    & ABNHBPOL\\_02456                             & c.110\\_111delGCinsAT                        & p.Ser37Asn                                   & 0.6666667                                    & 450                                          & 848                                          &  16                                          & 1                                           \\\\\n",
       "\t201 & T12\\_AB16\\_I0\\_REP1                     & 12                                         &  16                                        & 0                                          & 1                                          & HAMBI\\_1972                               & ABNHBPOL\\_11                              & 154390                                     & 37915                                      & G                                          & ⋯                                          & MODERATE                                   & vgrG1\\_2                                  & ABNHBPOL\\_02456                           & c.110G>A                                   & p.Ser37Asn                                 & 0.5833333                                  & 344                                        & 631                                        &  16                                        & 1                                         \\\\\n",
       "\t202 & T12\\_AB16\\_I0\\_REP2                     & 12                                         &  16                                        & 0                                          & 2                                          & HAMBI\\_1972                               & ABNHBPOL\\_11                              & 154390                                     & 37915                                      & G                                          & ⋯                                          & MODERATE                                   & vgrG1\\_2                                  & ABNHBPOL\\_02456                           & c.110G>A                                   & p.Ser37Asn                                 & 0.6666667                                  & 262                                        & 374                                        &  16                                        & 1                                         \\\\\n",
       "\t203 & T12\\_AB16\\_I1\\_REP1                     & 12                                         &  16                                        & 1                                          & 1                                          & HAMBI\\_1972                               & ABNHBPOL\\_11                              & 154390                                     & 37915                                      & G                                          & ⋯                                          & MODERATE                                   & vgrG1\\_2                                  & ABNHBPOL\\_02456                           & c.110G>A                                   & p.Ser37Asn                                 & 0.8571429                                  & 341                                        & 579                                        &  16                                        & 1                                         \\\\\n",
       "\\end{tabular}\n"
      ],
      "text/markdown": [
       "\n",
       "| <!--/--> | SAMPLE | TIME | ANTIBIOTIC | IMMIGRATION | REPLICATE | SPECIES | CONTIG | CONTIG_LENGTH | POSITION | REF_ALLELE | ⋯ | VARIANT_IMPACT | GENE | GENEID | NA_CHANGE | AA_CHANGE | VARIANT_FREQUENCY | MEDIAN_COVERAGE | AMPLICON_READS | DISTANCE_FROM_PREV | COUNT | \n",
       "|---|---|---|---|---|---|\n",
       "| 132 | T8_AB4_I0_REP3                             |  8                                         |   4                                        | 0                                          | 3                                          | HAMBI_1972                                 | ABNHBPOL_1                                 | 404185                                     | 64871                                      | CCAACGATGATG                               | ⋯                                          | HIGH                                       | cya                                        | ABNHBPOL_00052                             | c.840_850delCAACGATGATGinsGGTGAGCGACGTCAAC | p.Asn281fs                                 | 0.8333333                                  | 268                                        | 129                                        | 395                                        | 1                                          | \n",
       "| 199 | T12_AB128_I1_REP2                          | 12                                         | 128                                        | 1                                          | 2                                          | HAMBI_1972                                 | ABNHBPOL_11                                | 154390                                     | 37915                                      | G                                          | ⋯                                          | MODERATE                                   | vgrG1_2                                    | ABNHBPOL_02456                             | c.110G>A                                   | p.Ser37Asn                                 | 0.5714286                                  | 326                                        | 578                                        |  16                                        | 1                                          | \n",
       "| 200 | T12_AB128_I1_REP3                          | 12                                         | 128                                        | 1                                          | 3                                          | HAMBI_1972                                 | ABNHBPOL_11                                | 154390                                     | 37915                                      | GC                                         | ⋯                                          | MODERATE                                   | vgrG1_2                                    | ABNHBPOL_02456                             | c.110_111delGCinsAT                        | p.Ser37Asn                                 | 0.6666667                                  | 450                                        | 848                                        |  16                                        | 1                                          | \n",
       "| 201 | T12_AB16_I0_REP1                           | 12                                         |  16                                        | 0                                          | 1                                          | HAMBI_1972                                 | ABNHBPOL_11                                | 154390                                     | 37915                                      | G                                          | ⋯                                          | MODERATE                                   | vgrG1_2                                    | ABNHBPOL_02456                             | c.110G>A                                   | p.Ser37Asn                                 | 0.5833333                                  | 344                                        | 631                                        |  16                                        | 1                                          | \n",
       "| 202 | T12_AB16_I0_REP2                           | 12                                         |  16                                        | 0                                          | 2                                          | HAMBI_1972                                 | ABNHBPOL_11                                | 154390                                     | 37915                                      | G                                          | ⋯                                          | MODERATE                                   | vgrG1_2                                    | ABNHBPOL_02456                             | c.110G>A                                   | p.Ser37Asn                                 | 0.6666667                                  | 262                                        | 374                                        |  16                                        | 1                                          | \n",
       "| 203 | T12_AB16_I1_REP1                           | 12                                         |  16                                        | 1                                          | 1                                          | HAMBI_1972                                 | ABNHBPOL_11                                | 154390                                     | 37915                                      | G                                          | ⋯                                          | MODERATE                                   | vgrG1_2                                    | ABNHBPOL_02456                             | c.110G>A                                   | p.Ser37Asn                                 | 0.8571429                                  | 341                                        | 579                                        |  16                                        | 1                                          | \n",
       "\n",
       "\n"
      ],
      "text/plain": [
       "    SAMPLE            TIME ANTIBIOTIC IMMIGRATION REPLICATE SPECIES   \n",
       "132 T8_AB4_I0_REP3     8     4        0           3         HAMBI_1972\n",
       "199 T12_AB128_I1_REP2 12   128        1           2         HAMBI_1972\n",
       "200 T12_AB128_I1_REP3 12   128        1           3         HAMBI_1972\n",
       "201 T12_AB16_I0_REP1  12    16        0           1         HAMBI_1972\n",
       "202 T12_AB16_I0_REP2  12    16        0           2         HAMBI_1972\n",
       "203 T12_AB16_I1_REP1  12    16        1           1         HAMBI_1972\n",
       "    CONTIG      CONTIG_LENGTH POSITION REF_ALLELE   ⋯ VARIANT_IMPACT GENE   \n",
       "132 ABNHBPOL_1  404185        64871    CCAACGATGATG ⋯ HIGH           cya    \n",
       "199 ABNHBPOL_11 154390        37915    G            ⋯ MODERATE       vgrG1_2\n",
       "200 ABNHBPOL_11 154390        37915    GC           ⋯ MODERATE       vgrG1_2\n",
       "201 ABNHBPOL_11 154390        37915    G            ⋯ MODERATE       vgrG1_2\n",
       "202 ABNHBPOL_11 154390        37915    G            ⋯ MODERATE       vgrG1_2\n",
       "203 ABNHBPOL_11 154390        37915    G            ⋯ MODERATE       vgrG1_2\n",
       "    GENEID         NA_CHANGE                                  AA_CHANGE \n",
       "132 ABNHBPOL_00052 c.840_850delCAACGATGATGinsGGTGAGCGACGTCAAC p.Asn281fs\n",
       "199 ABNHBPOL_02456 c.110G>A                                   p.Ser37Asn\n",
       "200 ABNHBPOL_02456 c.110_111delGCinsAT                        p.Ser37Asn\n",
       "201 ABNHBPOL_02456 c.110G>A                                   p.Ser37Asn\n",
       "202 ABNHBPOL_02456 c.110G>A                                   p.Ser37Asn\n",
       "203 ABNHBPOL_02456 c.110G>A                                   p.Ser37Asn\n",
       "    VARIANT_FREQUENCY MEDIAN_COVERAGE AMPLICON_READS DISTANCE_FROM_PREV COUNT\n",
       "132 0.8333333         268             129            395                1    \n",
       "199 0.5714286         326             578             16                1    \n",
       "200 0.6666667         450             848             16                1    \n",
       "201 0.5833333         344             631             16                1    \n",
       "202 0.6666667         262             374             16                1    \n",
       "203 0.8571429         341             579             16                1    "
      ]
     },
     "metadata": {},
     "output_type": "display_data"
    }
   ],
   "source": [
    "# Convert counts where both time points are included to actual counts\n",
    "\n",
    "multihit$COUNT = ifelse(multihit$VARIANT_FREQUENCY == 0, 0, 1)\n",
    "nrow(multihit[multihit$COUNT == 0,])\n",
    "head(multihit)"
   ]
  },
  {
   "cell_type": "code",
   "execution_count": 7,
   "metadata": {},
   "outputs": [],
   "source": [
    "# Write out\n",
    "\n",
    "write.table(multihit, row.names = FALSE, \"../../../data/deep_seq/downsampled_multihit_nonsynonymous_variant_data.txt\", sep = \"\\t\")"
   ]
  }
 ],
 "metadata": {
  "kernelspec": {
   "display_name": "R",
   "language": "R",
   "name": "ir"
  },
  "language_info": {
   "codemirror_mode": "r",
   "file_extension": ".r",
   "mimetype": "text/x-r-source",
   "name": "R",
   "pygments_lexer": "r",
   "version": "3.5.1"
  }
 },
 "nbformat": 4,
 "nbformat_minor": 2
}
