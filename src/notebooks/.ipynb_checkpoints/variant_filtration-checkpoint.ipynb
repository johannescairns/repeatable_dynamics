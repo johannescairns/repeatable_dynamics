{
 "cells": [
  {
   "cell_type": "markdown",
   "metadata": {},
   "source": [
    "# Filtering, reformatting and adding metadata to variants\n",
    "\n",
    "This notebook includes the first steps of downstream processing for vcf files generated with freebayes (https://github.com/ekg/freebayes), filtered with vcffilter and annotated with SnpEff. The input files are tab delimited text files generated from annotated vcf files using SnpSift, with only the first annotation for each variant considered. The processing includes reformatting data tables, filtering variants and adding metadata to create a master data table containing a golden set of variants."
   ]
  },
  {
   "cell_type": "code",
   "execution_count": 2,
   "metadata": {},
   "outputs": [],
   "source": [
    "# Housekeeping\n",
    "\n",
    "library(ggplot2)\n",
    "library(reshape2)"
   ]
  },
  {
   "cell_type": "code",
   "execution_count": 3,
   "metadata": {},
   "outputs": [
    {
     "data": {
      "text/html": [
       "<table>\n",
       "<thead><tr><th scope=col>CHROM</th><th scope=col>POS</th><th scope=col>REF</th><th scope=col>ALT</th><th scope=col>TYPE</th><th scope=col>ANN[0].EFFECT</th><th scope=col>ANN[0].IMPACT</th><th scope=col>ANN[0].GENE</th><th scope=col>ANN[0].GENEID</th><th scope=col>ANN[0].HGVS_C</th><th scope=col>ANN[0].HGVS_P</th><th scope=col>GEN[*].AD</th></tr></thead>\n",
       "<tbody>\n",
       "\t<tr><td>IDIPBEOP_1                                                                                                                                                                                   </td><td>1144946                                                                                                                                                                                      </td><td><span style=white-space:pre-wrap>A      </span>                                                                                                                                              </td><td><span style=white-space:pre-wrap>G      </span>                                                                                                                                              </td><td><span style=white-space:pre-wrap>snp    </span>                                                                                                                                              </td><td>synonymous_variant                                                                                                                                                                           </td><td>LOW                                                                                                                                                                                          </td><td>tufA                                                                                                                                                                                         </td><td>IDIPBEOP_01165                                                                                                                                                                               </td><td><span style=white-space:pre-wrap>c.834T&gt;C                     </span>                                                                                                                     </td><td><span style=white-space:pre-wrap>p.Gly278Gly            </span>                                                                                                                              </td><td><span style=white-space:pre-wrap>NA:NA:NA:NA:NA:NA:NA:NA:10,11:NA:NA:NA:NA:NA:NA:NA:NA:NA:NA:NA:NA:NA:NA:NA:NA:NA:NA:NA:NA:NA:NA:NA:0,1:NA:NA:NA:NA:NA:NA:NA:NA:NA:NA:NA:NA:NA:NA:NA  </span></td></tr>\n",
       "\t<tr><td>IDIPBEOP_1                                                                                                                                                                                   </td><td>1144988                                                                                                                                                                                      </td><td><span style=white-space:pre-wrap>A      </span>                                                                                                                                              </td><td><span style=white-space:pre-wrap>G      </span>                                                                                                                                              </td><td><span style=white-space:pre-wrap>snp    </span>                                                                                                                                              </td><td>synonymous_variant                                                                                                                                                                           </td><td>LOW                                                                                                                                                                                          </td><td>tufA                                                                                                                                                                                         </td><td>IDIPBEOP_01165                                                                                                                                                                               </td><td><span style=white-space:pre-wrap>c.792T&gt;C                     </span>                                                                                                                     </td><td><span style=white-space:pre-wrap>p.Asp264Asp            </span>                                                                                                                              </td><td><span style=white-space:pre-wrap>NA:NA:NA:NA:NA:NA:NA:NA:NA:NA:NA:1,5:NA:NA:NA:NA:NA:NA:NA:NA:NA:NA:NA:NA:NA:NA:NA:NA:NA:NA:NA:NA:NA:NA:NA:2,4:NA:NA:NA:NA:NA:NA:NA:NA:NA:NA:NA:NA    </span></td></tr>\n",
       "\t<tr><td>IDIPBEOP_1                                                                                                                                           </td><td>1145033                                                                                                                                              </td><td>AGAA                                                                                                                                                 </td><td>CGAG                                                                                                                                                 </td><td>complex                                                                                                                                              </td><td>synonymous_variant                                                                                                                                   </td><td>LOW                                                                                                                                                  </td><td>tufA                                                                                                                                                 </td><td>IDIPBEOP_01165                                                                                                                                       </td><td>c.744_747delTTCTinsCTCG                                                                                                                              </td><td>p.ThrSer248ThrSer                                                                                                                                    </td><td>NA:NA:NA:NA:NA:NA:NA:5,6:6,7:NA:NA:2,4:NA:NA:NA:NA:NA:NA:NA:NA:NA:NA:NA:NA:NA:NA:NA:NA:NA:NA:NA:2,2:1,1:NA:NA:1,6:NA:NA:NA:NA:NA:NA:NA:NA:NA:NA:NA:NA</td></tr>\n",
       "\t<tr><td>IDIPBEOP_1                                                                                                                                           </td><td>1145270                                                                                                                                              </td><td><span style=white-space:pre-wrap>C      </span>                                                                                                      </td><td><span style=white-space:pre-wrap>T      </span>                                                                                                      </td><td><span style=white-space:pre-wrap>snp    </span>                                                                                                      </td><td>synonymous_variant                                                                                                                                   </td><td>LOW                                                                                                                                                  </td><td>tufA                                                                                                                                                 </td><td>IDIPBEOP_01165                                                                                                                                       </td><td><span style=white-space:pre-wrap>c.510G&gt;A                     </span>                                                                             </td><td><span style=white-space:pre-wrap>p.Ala170Ala            </span>                                                                                      </td><td>NA:NA:NA:NA:NA:NA:3,6:NA:6,7:NA:NA:2,3:NA:NA:NA:NA:NA:NA:NA:NA:NA:NA:NA:NA:NA:NA:NA:NA:NA:NA:3,3:NA:0,2:NA:NA:1,6:NA:NA:NA:NA:NA:NA:NA:NA:NA:NA:NA:NA</td></tr>\n",
       "\t<tr><td>IDIPBEOP_1                                                                                                                                                                                   </td><td>1145348                                                                                                                                                                                      </td><td><span style=white-space:pre-wrap>G      </span>                                                                                                                                              </td><td><span style=white-space:pre-wrap>C      </span>                                                                                                                                              </td><td><span style=white-space:pre-wrap>snp    </span>                                                                                                                                              </td><td>synonymous_variant                                                                                                                                                                           </td><td>LOW                                                                                                                                                                                          </td><td>tufA                                                                                                                                                                                         </td><td>IDIPBEOP_01165                                                                                                                                                                               </td><td><span style=white-space:pre-wrap>c.432C&gt;G                     </span>                                                                                                                     </td><td><span style=white-space:pre-wrap>p.Leu144Leu            </span>                                                                                                                              </td><td><span style=white-space:pre-wrap>NA:NA:NA:NA:NA:NA:5,10:NA:NA:NA:NA:NA:NA:NA:NA:NA:NA:NA:NA:NA:NA:NA:NA:NA:NA:NA:NA:NA:NA:NA:3,3:NA:NA:NA:NA:NA:NA:NA:NA:NA:NA:NA:NA:NA:NA:NA:NA:NA   </span></td></tr>\n",
       "\t<tr><td>IDIPBEOP_1                                                                                                                                           </td><td>1145423                                                                                                                                              </td><td>ACGGGCG                                                                                                                                              </td><td>GCGAGCA                                                                                                                                              </td><td>complex                                                                                                                                              </td><td>synonymous_variant                                                                                                                                   </td><td>LOW                                                                                                                                                  </td><td>tufA                                                                                                                                                 </td><td>IDIPBEOP_01165                                                                                                                                       </td><td>c.351_357delCGCCCGTinsTGCTCGC                                                                                                                        </td><td>p.LeuAlaArg117LeuAlaArg                                                                                                                              </td><td>NA:NA:NA:NA:NA:NA:3,10:NA:NA:NA:1,3:NA:NA:NA:NA:NA:NA:NA:NA:NA:NA:NA:NA:NA:NA:NA:NA:NA:NA:NA:1,2:NA:NA:NA:4,4:NA:NA:NA:NA:NA:NA:NA:NA:NA:NA:NA:NA:NA </td></tr>\n",
       "</tbody>\n",
       "</table>\n"
      ],
      "text/latex": [
       "\\begin{tabular}{r|llllllllllll}\n",
       " CHROM & POS & REF & ALT & TYPE & ANN{[}0{]}.EFFECT & ANN{[}0{]}.IMPACT & ANN{[}0{]}.GENE & ANN{[}0{]}.GENEID & ANN{[}0{]}.HGVS\\_C & ANN{[}0{]}.HGVS\\_P & GEN{[}*{]}.AD\\\\\n",
       "\\hline\n",
       "\t IDIPBEOP\\_1                                                                                                                                          & 1144946                                                                                                                                               & A                                                                                                                                                     & G                                                                                                                                                     & snp                                                                                                                                                   & synonymous\\_variant                                                                                                                                  & LOW                                                                                                                                                   & tufA                                                                                                                                                  & IDIPBEOP\\_01165                                                                                                                                      & c.834T>C                                                                                                                                              & p.Gly278Gly                                                                                                                                           & NA:NA:NA:NA:NA:NA:NA:NA:10,11:NA:NA:NA:NA:NA:NA:NA:NA:NA:NA:NA:NA:NA:NA:NA:NA:NA:NA:NA:NA:NA:NA:NA:0,1:NA:NA:NA:NA:NA:NA:NA:NA:NA:NA:NA:NA:NA:NA:NA  \\\\\n",
       "\t IDIPBEOP\\_1                                                                                                                                          & 1144988                                                                                                                                               & A                                                                                                                                                     & G                                                                                                                                                     & snp                                                                                                                                                   & synonymous\\_variant                                                                                                                                  & LOW                                                                                                                                                   & tufA                                                                                                                                                  & IDIPBEOP\\_01165                                                                                                                                      & c.792T>C                                                                                                                                              & p.Asp264Asp                                                                                                                                           & NA:NA:NA:NA:NA:NA:NA:NA:NA:NA:NA:1,5:NA:NA:NA:NA:NA:NA:NA:NA:NA:NA:NA:NA:NA:NA:NA:NA:NA:NA:NA:NA:NA:NA:NA:2,4:NA:NA:NA:NA:NA:NA:NA:NA:NA:NA:NA:NA    \\\\\n",
       "\t IDIPBEOP\\_1                                                                                                                                          & 1145033                                                                                                                                               & AGAA                                                                                                                                                  & CGAG                                                                                                                                                  & complex                                                                                                                                               & synonymous\\_variant                                                                                                                                  & LOW                                                                                                                                                   & tufA                                                                                                                                                  & IDIPBEOP\\_01165                                                                                                                                      & c.744\\_747delTTCTinsCTCG                                                                                                                             & p.ThrSer248ThrSer                                                                                                                                     & NA:NA:NA:NA:NA:NA:NA:5,6:6,7:NA:NA:2,4:NA:NA:NA:NA:NA:NA:NA:NA:NA:NA:NA:NA:NA:NA:NA:NA:NA:NA:NA:2,2:1,1:NA:NA:1,6:NA:NA:NA:NA:NA:NA:NA:NA:NA:NA:NA:NA\\\\\n",
       "\t IDIPBEOP\\_1                                                                                                                                          & 1145270                                                                                                                                               & C                                                                                                                                                     & T                                                                                                                                                     & snp                                                                                                                                                   & synonymous\\_variant                                                                                                                                  & LOW                                                                                                                                                   & tufA                                                                                                                                                  & IDIPBEOP\\_01165                                                                                                                                      & c.510G>A                                                                                                                                              & p.Ala170Ala                                                                                                                                           & NA:NA:NA:NA:NA:NA:3,6:NA:6,7:NA:NA:2,3:NA:NA:NA:NA:NA:NA:NA:NA:NA:NA:NA:NA:NA:NA:NA:NA:NA:NA:3,3:NA:0,2:NA:NA:1,6:NA:NA:NA:NA:NA:NA:NA:NA:NA:NA:NA:NA\\\\\n",
       "\t IDIPBEOP\\_1                                                                                                                                          & 1145348                                                                                                                                               & G                                                                                                                                                     & C                                                                                                                                                     & snp                                                                                                                                                   & synonymous\\_variant                                                                                                                                  & LOW                                                                                                                                                   & tufA                                                                                                                                                  & IDIPBEOP\\_01165                                                                                                                                      & c.432C>G                                                                                                                                              & p.Leu144Leu                                                                                                                                           & NA:NA:NA:NA:NA:NA:5,10:NA:NA:NA:NA:NA:NA:NA:NA:NA:NA:NA:NA:NA:NA:NA:NA:NA:NA:NA:NA:NA:NA:NA:3,3:NA:NA:NA:NA:NA:NA:NA:NA:NA:NA:NA:NA:NA:NA:NA:NA:NA   \\\\\n",
       "\t IDIPBEOP\\_1                                                                                                                                          & 1145423                                                                                                                                               & ACGGGCG                                                                                                                                               & GCGAGCA                                                                                                                                               & complex                                                                                                                                               & synonymous\\_variant                                                                                                                                  & LOW                                                                                                                                                   & tufA                                                                                                                                                  & IDIPBEOP\\_01165                                                                                                                                      & c.351\\_357delCGCCCGTinsTGCTCGC                                                                                                                       & p.LeuAlaArg117LeuAlaArg                                                                                                                               & NA:NA:NA:NA:NA:NA:3,10:NA:NA:NA:1,3:NA:NA:NA:NA:NA:NA:NA:NA:NA:NA:NA:NA:NA:NA:NA:NA:NA:NA:NA:1,2:NA:NA:NA:4,4:NA:NA:NA:NA:NA:NA:NA:NA:NA:NA:NA:NA:NA \\\\\n",
       "\\end{tabular}\n"
      ],
      "text/markdown": [
       "\n",
       "CHROM | POS | REF | ALT | TYPE | ANN[0].EFFECT | ANN[0].IMPACT | ANN[0].GENE | ANN[0].GENEID | ANN[0].HGVS_C | ANN[0].HGVS_P | GEN[*].AD | \n",
       "|---|---|---|---|---|---|\n",
       "| IDIPBEOP_1                                                                                                                                            | 1144946                                                                                                                                               | A                                                                                                                                                     | G                                                                                                                                                     | snp                                                                                                                                                   | synonymous_variant                                                                                                                                    | LOW                                                                                                                                                   | tufA                                                                                                                                                  | IDIPBEOP_01165                                                                                                                                        | c.834T>C                                                                                                                                              | p.Gly278Gly                                                                                                                                           | NA:NA:NA:NA:NA:NA:NA:NA:10,11:NA:NA:NA:NA:NA:NA:NA:NA:NA:NA:NA:NA:NA:NA:NA:NA:NA:NA:NA:NA:NA:NA:NA:0,1:NA:NA:NA:NA:NA:NA:NA:NA:NA:NA:NA:NA:NA:NA:NA   | \n",
       "| IDIPBEOP_1                                                                                                                                            | 1144988                                                                                                                                               | A                                                                                                                                                     | G                                                                                                                                                     | snp                                                                                                                                                   | synonymous_variant                                                                                                                                    | LOW                                                                                                                                                   | tufA                                                                                                                                                  | IDIPBEOP_01165                                                                                                                                        | c.792T>C                                                                                                                                              | p.Asp264Asp                                                                                                                                           | NA:NA:NA:NA:NA:NA:NA:NA:NA:NA:NA:1,5:NA:NA:NA:NA:NA:NA:NA:NA:NA:NA:NA:NA:NA:NA:NA:NA:NA:NA:NA:NA:NA:NA:NA:2,4:NA:NA:NA:NA:NA:NA:NA:NA:NA:NA:NA:NA     | \n",
       "| IDIPBEOP_1                                                                                                                                            | 1145033                                                                                                                                               | AGAA                                                                                                                                                  | CGAG                                                                                                                                                  | complex                                                                                                                                               | synonymous_variant                                                                                                                                    | LOW                                                                                                                                                   | tufA                                                                                                                                                  | IDIPBEOP_01165                                                                                                                                        | c.744_747delTTCTinsCTCG                                                                                                                               | p.ThrSer248ThrSer                                                                                                                                     | NA:NA:NA:NA:NA:NA:NA:5,6:6,7:NA:NA:2,4:NA:NA:NA:NA:NA:NA:NA:NA:NA:NA:NA:NA:NA:NA:NA:NA:NA:NA:NA:2,2:1,1:NA:NA:1,6:NA:NA:NA:NA:NA:NA:NA:NA:NA:NA:NA:NA | \n",
       "| IDIPBEOP_1                                                                                                                                            | 1145270                                                                                                                                               | C                                                                                                                                                     | T                                                                                                                                                     | snp                                                                                                                                                   | synonymous_variant                                                                                                                                    | LOW                                                                                                                                                   | tufA                                                                                                                                                  | IDIPBEOP_01165                                                                                                                                        | c.510G>A                                                                                                                                              | p.Ala170Ala                                                                                                                                           | NA:NA:NA:NA:NA:NA:3,6:NA:6,7:NA:NA:2,3:NA:NA:NA:NA:NA:NA:NA:NA:NA:NA:NA:NA:NA:NA:NA:NA:NA:NA:3,3:NA:0,2:NA:NA:1,6:NA:NA:NA:NA:NA:NA:NA:NA:NA:NA:NA:NA | \n",
       "| IDIPBEOP_1                                                                                                                                            | 1145348                                                                                                                                               | G                                                                                                                                                     | C                                                                                                                                                     | snp                                                                                                                                                   | synonymous_variant                                                                                                                                    | LOW                                                                                                                                                   | tufA                                                                                                                                                  | IDIPBEOP_01165                                                                                                                                        | c.432C>G                                                                                                                                              | p.Leu144Leu                                                                                                                                           | NA:NA:NA:NA:NA:NA:5,10:NA:NA:NA:NA:NA:NA:NA:NA:NA:NA:NA:NA:NA:NA:NA:NA:NA:NA:NA:NA:NA:NA:NA:3,3:NA:NA:NA:NA:NA:NA:NA:NA:NA:NA:NA:NA:NA:NA:NA:NA:NA    | \n",
       "| IDIPBEOP_1                                                                                                                                            | 1145423                                                                                                                                               | ACGGGCG                                                                                                                                               | GCGAGCA                                                                                                                                               | complex                                                                                                                                               | synonymous_variant                                                                                                                                    | LOW                                                                                                                                                   | tufA                                                                                                                                                  | IDIPBEOP_01165                                                                                                                                        | c.351_357delCGCCCGTinsTGCTCGC                                                                                                                         | p.LeuAlaArg117LeuAlaArg                                                                                                                               | NA:NA:NA:NA:NA:NA:3,10:NA:NA:NA:1,3:NA:NA:NA:NA:NA:NA:NA:NA:NA:NA:NA:NA:NA:NA:NA:NA:NA:NA:NA:1,2:NA:NA:NA:4,4:NA:NA:NA:NA:NA:NA:NA:NA:NA:NA:NA:NA:NA  | \n",
       "\n",
       "\n"
      ],
      "text/plain": [
       "  CHROM      POS     REF     ALT     TYPE    ANN[0].EFFECT      ANN[0].IMPACT\n",
       "1 IDIPBEOP_1 1144946 A       G       snp     synonymous_variant LOW          \n",
       "2 IDIPBEOP_1 1144988 A       G       snp     synonymous_variant LOW          \n",
       "3 IDIPBEOP_1 1145033 AGAA    CGAG    complex synonymous_variant LOW          \n",
       "4 IDIPBEOP_1 1145270 C       T       snp     synonymous_variant LOW          \n",
       "5 IDIPBEOP_1 1145348 G       C       snp     synonymous_variant LOW          \n",
       "6 IDIPBEOP_1 1145423 ACGGGCG GCGAGCA complex synonymous_variant LOW          \n",
       "  ANN[0].GENE ANN[0].GENEID  ANN[0].HGVS_C                \n",
       "1 tufA        IDIPBEOP_01165 c.834T>C                     \n",
       "2 tufA        IDIPBEOP_01165 c.792T>C                     \n",
       "3 tufA        IDIPBEOP_01165 c.744_747delTTCTinsCTCG      \n",
       "4 tufA        IDIPBEOP_01165 c.510G>A                     \n",
       "5 tufA        IDIPBEOP_01165 c.432C>G                     \n",
       "6 tufA        IDIPBEOP_01165 c.351_357delCGCCCGTinsTGCTCGC\n",
       "  ANN[0].HGVS_P          \n",
       "1 p.Gly278Gly            \n",
       "2 p.Asp264Asp            \n",
       "3 p.ThrSer248ThrSer      \n",
       "4 p.Ala170Ala            \n",
       "5 p.Leu144Leu            \n",
       "6 p.LeuAlaArg117LeuAlaArg\n",
       "  GEN[*].AD                                                                                                                                            \n",
       "1 NA:NA:NA:NA:NA:NA:NA:NA:10,11:NA:NA:NA:NA:NA:NA:NA:NA:NA:NA:NA:NA:NA:NA:NA:NA:NA:NA:NA:NA:NA:NA:NA:0,1:NA:NA:NA:NA:NA:NA:NA:NA:NA:NA:NA:NA:NA:NA:NA  \n",
       "2 NA:NA:NA:NA:NA:NA:NA:NA:NA:NA:NA:1,5:NA:NA:NA:NA:NA:NA:NA:NA:NA:NA:NA:NA:NA:NA:NA:NA:NA:NA:NA:NA:NA:NA:NA:2,4:NA:NA:NA:NA:NA:NA:NA:NA:NA:NA:NA:NA    \n",
       "3 NA:NA:NA:NA:NA:NA:NA:5,6:6,7:NA:NA:2,4:NA:NA:NA:NA:NA:NA:NA:NA:NA:NA:NA:NA:NA:NA:NA:NA:NA:NA:NA:2,2:1,1:NA:NA:1,6:NA:NA:NA:NA:NA:NA:NA:NA:NA:NA:NA:NA\n",
       "4 NA:NA:NA:NA:NA:NA:3,6:NA:6,7:NA:NA:2,3:NA:NA:NA:NA:NA:NA:NA:NA:NA:NA:NA:NA:NA:NA:NA:NA:NA:NA:3,3:NA:0,2:NA:NA:1,6:NA:NA:NA:NA:NA:NA:NA:NA:NA:NA:NA:NA\n",
       "5 NA:NA:NA:NA:NA:NA:5,10:NA:NA:NA:NA:NA:NA:NA:NA:NA:NA:NA:NA:NA:NA:NA:NA:NA:NA:NA:NA:NA:NA:NA:3,3:NA:NA:NA:NA:NA:NA:NA:NA:NA:NA:NA:NA:NA:NA:NA:NA:NA   \n",
       "6 NA:NA:NA:NA:NA:NA:3,10:NA:NA:NA:1,3:NA:NA:NA:NA:NA:NA:NA:NA:NA:NA:NA:NA:NA:NA:NA:NA:NA:NA:NA:1,2:NA:NA:NA:4,4:NA:NA:NA:NA:NA:NA:NA:NA:NA:NA:NA:NA:NA "
      ]
     },
     "metadata": {},
     "output_type": "display_data"
    }
   ],
   "source": [
    "# Read in variant data (SNPs, MNPs and indels)\n",
    "\n",
    "files = list.files(\"../../data/deep_seq/variant_data/\", full.names = T)\n",
    "filenames = gsub(\"_SnpSift.txt\", \"\", basename(files))\n",
    "variant_list = lapply(files, read.table,header = T, check.names = F)\n",
    "names(variant_list) = filenames\n",
    "head(variant_list[[1]])"
   ]
  },
  {
   "cell_type": "code",
   "execution_count": 6,
   "metadata": {},
   "outputs": [
    {
     "data": {
      "text/html": [
       "<table>\n",
       "<thead><tr><th scope=col>CHROM</th><th scope=col>POS</th><th scope=col>REF</th><th scope=col>ALT</th><th scope=col>TYPE</th><th scope=col>ANN[0].EFFECT</th><th scope=col>ANN[0].IMPACT</th><th scope=col>ANN[0].GENE</th><th scope=col>ANN[0].GENEID</th><th scope=col>ANN[0].HGVS_C</th><th scope=col>⋯</th><th scope=col>T8_AB16_I0_REP3</th><th scope=col>T8_AB16_I1_REP1</th><th scope=col>T8_AB16_I1_REP2</th><th scope=col>T8_AB16_I1_REP3</th><th scope=col>T8_AB4_I0_REP1</th><th scope=col>T8_AB4_I0_REP2</th><th scope=col>T8_AB4_I0_REP3</th><th scope=col>T8_AB4_I1_REP1</th><th scope=col>T8_AB4_I1_REP2</th><th scope=col>T8_AB4_I1_REP3</th></tr></thead>\n",
       "<tbody>\n",
       "\t<tr><td>IDIPBEOP_1                                                              </td><td>1144946                                                                 </td><td><span style=white-space:pre-wrap>A      </span>                         </td><td><span style=white-space:pre-wrap>G      </span>                         </td><td><span style=white-space:pre-wrap>snp    </span>                         </td><td>synonymous_variant                                                      </td><td>LOW                                                                     </td><td>tufA                                                                    </td><td>IDIPBEOP_01165                                                          </td><td><span style=white-space:pre-wrap>c.834T&gt;C                     </span></td><td>⋯                                                                       </td><td>NA                                                                      </td><td>NA                                                                      </td><td>NA                                                                      </td><td>NA                                                                      </td><td>NA                                                                      </td><td>NA                                                                      </td><td>NA                                                                      </td><td>NA                                                                      </td><td>NA                                                                      </td><td>NA                                                                      </td></tr>\n",
       "\t<tr><td>IDIPBEOP_1                                                              </td><td>1144988                                                                 </td><td><span style=white-space:pre-wrap>A      </span>                         </td><td><span style=white-space:pre-wrap>G      </span>                         </td><td><span style=white-space:pre-wrap>snp    </span>                         </td><td>synonymous_variant                                                      </td><td>LOW                                                                     </td><td>tufA                                                                    </td><td>IDIPBEOP_01165                                                          </td><td><span style=white-space:pre-wrap>c.792T&gt;C                     </span></td><td>⋯                                                                       </td><td>NA                                                                      </td><td>NA                                                                      </td><td>NA                                                                      </td><td>NA                                                                      </td><td>NA                                                                      </td><td>NA                                                                      </td><td>NA                                                                      </td><td>NA                                                                      </td><td>NA                                                                      </td><td>NA                                                                      </td></tr>\n",
       "\t<tr><td>IDIPBEOP_1                   </td><td>1145033                      </td><td>AGAA                         </td><td>CGAG                         </td><td>complex                      </td><td>synonymous_variant           </td><td>LOW                          </td><td>tufA                         </td><td>IDIPBEOP_01165               </td><td>c.744_747delTTCTinsCTCG      </td><td>⋯                            </td><td>NA                           </td><td>NA                           </td><td>NA                           </td><td>NA                           </td><td>NA                           </td><td>NA                           </td><td>NA                           </td><td>NA                           </td><td>NA                           </td><td>NA                           </td></tr>\n",
       "\t<tr><td>IDIPBEOP_1                                                              </td><td>1145270                                                                 </td><td><span style=white-space:pre-wrap>C      </span>                         </td><td><span style=white-space:pre-wrap>T      </span>                         </td><td><span style=white-space:pre-wrap>snp    </span>                         </td><td>synonymous_variant                                                      </td><td>LOW                                                                     </td><td>tufA                                                                    </td><td>IDIPBEOP_01165                                                          </td><td><span style=white-space:pre-wrap>c.510G&gt;A                     </span></td><td>⋯                                                                       </td><td>NA                                                                      </td><td>NA                                                                      </td><td>NA                                                                      </td><td>NA                                                                      </td><td>NA                                                                      </td><td>NA                                                                      </td><td>NA                                                                      </td><td>NA                                                                      </td><td>NA                                                                      </td><td>NA                                                                      </td></tr>\n",
       "\t<tr><td>IDIPBEOP_1                                                              </td><td>1145348                                                                 </td><td><span style=white-space:pre-wrap>G      </span>                         </td><td><span style=white-space:pre-wrap>C      </span>                         </td><td><span style=white-space:pre-wrap>snp    </span>                         </td><td>synonymous_variant                                                      </td><td>LOW                                                                     </td><td>tufA                                                                    </td><td>IDIPBEOP_01165                                                          </td><td><span style=white-space:pre-wrap>c.432C&gt;G                     </span></td><td>⋯                                                                       </td><td>NA                                                                      </td><td>NA                                                                      </td><td>NA                                                                      </td><td>NA                                                                      </td><td>NA                                                                      </td><td>NA                                                                      </td><td>NA                                                                      </td><td>NA                                                                      </td><td>NA                                                                      </td><td>NA                                                                      </td></tr>\n",
       "\t<tr><td>IDIPBEOP_1                   </td><td>1145423                      </td><td>ACGGGCG                      </td><td>GCGAGCA                      </td><td>complex                      </td><td>synonymous_variant           </td><td>LOW                          </td><td>tufA                         </td><td>IDIPBEOP_01165               </td><td>c.351_357delCGCCCGTinsTGCTCGC</td><td>⋯                            </td><td>NA                           </td><td>NA                           </td><td>NA                           </td><td>NA                           </td><td>NA                           </td><td>NA                           </td><td>NA                           </td><td>NA                           </td><td>NA                           </td><td>NA                           </td></tr>\n",
       "</tbody>\n",
       "</table>\n"
      ],
      "text/latex": [
       "\\begin{tabular}{r|lllllllllllllllllllllllllllllllllllllllllllllllllllllllllll}\n",
       " CHROM & POS & REF & ALT & TYPE & ANN{[}0{]}.EFFECT & ANN{[}0{]}.IMPACT & ANN{[}0{]}.GENE & ANN{[}0{]}.GENEID & ANN{[}0{]}.HGVS\\_C & ⋯ & T8\\_AB16\\_I0\\_REP3 & T8\\_AB16\\_I1\\_REP1 & T8\\_AB16\\_I1\\_REP2 & T8\\_AB16\\_I1\\_REP3 & T8\\_AB4\\_I0\\_REP1 & T8\\_AB4\\_I0\\_REP2 & T8\\_AB4\\_I0\\_REP3 & T8\\_AB4\\_I1\\_REP1 & T8\\_AB4\\_I1\\_REP2 & T8\\_AB4\\_I1\\_REP3\\\\\n",
       "\\hline\n",
       "\t IDIPBEOP\\_1                  & 1144946                       & A                             & G                             & snp                           & synonymous\\_variant          & LOW                           & tufA                          & IDIPBEOP\\_01165              & c.834T>C                      & ⋯                             & NA                            & NA                            & NA                            & NA                            & NA                            & NA                            & NA                            & NA                            & NA                            & NA                           \\\\\n",
       "\t IDIPBEOP\\_1                  & 1144988                       & A                             & G                             & snp                           & synonymous\\_variant          & LOW                           & tufA                          & IDIPBEOP\\_01165              & c.792T>C                      & ⋯                             & NA                            & NA                            & NA                            & NA                            & NA                            & NA                            & NA                            & NA                            & NA                            & NA                           \\\\\n",
       "\t IDIPBEOP\\_1                    & 1145033                         & AGAA                            & CGAG                            & complex                         & synonymous\\_variant            & LOW                             & tufA                            & IDIPBEOP\\_01165                & c.744\\_747delTTCTinsCTCG       & ⋯                               & NA                              & NA                              & NA                              & NA                              & NA                              & NA                              & NA                              & NA                              & NA                              & NA                             \\\\\n",
       "\t IDIPBEOP\\_1                  & 1145270                       & C                             & T                             & snp                           & synonymous\\_variant          & LOW                           & tufA                          & IDIPBEOP\\_01165              & c.510G>A                      & ⋯                             & NA                            & NA                            & NA                            & NA                            & NA                            & NA                            & NA                            & NA                            & NA                            & NA                           \\\\\n",
       "\t IDIPBEOP\\_1                  & 1145348                       & G                             & C                             & snp                           & synonymous\\_variant          & LOW                           & tufA                          & IDIPBEOP\\_01165              & c.432C>G                      & ⋯                             & NA                            & NA                            & NA                            & NA                            & NA                            & NA                            & NA                            & NA                            & NA                            & NA                           \\\\\n",
       "\t IDIPBEOP\\_1                    & 1145423                         & ACGGGCG                         & GCGAGCA                         & complex                         & synonymous\\_variant            & LOW                             & tufA                            & IDIPBEOP\\_01165                & c.351\\_357delCGCCCGTinsTGCTCGC & ⋯                               & NA                              & NA                              & NA                              & NA                              & NA                              & NA                              & NA                              & NA                              & NA                              & NA                             \\\\\n",
       "\\end{tabular}\n"
      ],
      "text/markdown": [
       "\n",
       "CHROM | POS | REF | ALT | TYPE | ANN[0].EFFECT | ANN[0].IMPACT | ANN[0].GENE | ANN[0].GENEID | ANN[0].HGVS_C | ⋯ | T8_AB16_I0_REP3 | T8_AB16_I1_REP1 | T8_AB16_I1_REP2 | T8_AB16_I1_REP3 | T8_AB4_I0_REP1 | T8_AB4_I0_REP2 | T8_AB4_I0_REP3 | T8_AB4_I1_REP1 | T8_AB4_I1_REP2 | T8_AB4_I1_REP3 | \n",
       "|---|---|---|---|---|---|\n",
       "| IDIPBEOP_1                    | 1144946                       | A                             | G                             | snp                           | synonymous_variant            | LOW                           | tufA                          | IDIPBEOP_01165                | c.834T>C                      | ⋯                             | NA                            | NA                            | NA                            | NA                            | NA                            | NA                            | NA                            | NA                            | NA                            | NA                            | \n",
       "| IDIPBEOP_1                    | 1144988                       | A                             | G                             | snp                           | synonymous_variant            | LOW                           | tufA                          | IDIPBEOP_01165                | c.792T>C                      | ⋯                             | NA                            | NA                            | NA                            | NA                            | NA                            | NA                            | NA                            | NA                            | NA                            | NA                            | \n",
       "| IDIPBEOP_1                    | 1145033                       | AGAA                          | CGAG                          | complex                       | synonymous_variant            | LOW                           | tufA                          | IDIPBEOP_01165                | c.744_747delTTCTinsCTCG       | ⋯                             | NA                            | NA                            | NA                            | NA                            | NA                            | NA                            | NA                            | NA                            | NA                            | NA                            | \n",
       "| IDIPBEOP_1                    | 1145270                       | C                             | T                             | snp                           | synonymous_variant            | LOW                           | tufA                          | IDIPBEOP_01165                | c.510G>A                      | ⋯                             | NA                            | NA                            | NA                            | NA                            | NA                            | NA                            | NA                            | NA                            | NA                            | NA                            | \n",
       "| IDIPBEOP_1                    | 1145348                       | G                             | C                             | snp                           | synonymous_variant            | LOW                           | tufA                          | IDIPBEOP_01165                | c.432C>G                      | ⋯                             | NA                            | NA                            | NA                            | NA                            | NA                            | NA                            | NA                            | NA                            | NA                            | NA                            | \n",
       "| IDIPBEOP_1                    | 1145423                       | ACGGGCG                       | GCGAGCA                       | complex                       | synonymous_variant            | LOW                           | tufA                          | IDIPBEOP_01165                | c.351_357delCGCCCGTinsTGCTCGC | ⋯                             | NA                            | NA                            | NA                            | NA                            | NA                            | NA                            | NA                            | NA                            | NA                            | NA                            | \n",
       "\n",
       "\n"
      ],
      "text/plain": [
       "  CHROM      POS     REF     ALT     TYPE    ANN[0].EFFECT      ANN[0].IMPACT\n",
       "1 IDIPBEOP_1 1144946 A       G       snp     synonymous_variant LOW          \n",
       "2 IDIPBEOP_1 1144988 A       G       snp     synonymous_variant LOW          \n",
       "3 IDIPBEOP_1 1145033 AGAA    CGAG    complex synonymous_variant LOW          \n",
       "4 IDIPBEOP_1 1145270 C       T       snp     synonymous_variant LOW          \n",
       "5 IDIPBEOP_1 1145348 G       C       snp     synonymous_variant LOW          \n",
       "6 IDIPBEOP_1 1145423 ACGGGCG GCGAGCA complex synonymous_variant LOW          \n",
       "  ANN[0].GENE ANN[0].GENEID  ANN[0].HGVS_C                 ⋯ T8_AB16_I0_REP3\n",
       "1 tufA        IDIPBEOP_01165 c.834T>C                      ⋯ NA             \n",
       "2 tufA        IDIPBEOP_01165 c.792T>C                      ⋯ NA             \n",
       "3 tufA        IDIPBEOP_01165 c.744_747delTTCTinsCTCG       ⋯ NA             \n",
       "4 tufA        IDIPBEOP_01165 c.510G>A                      ⋯ NA             \n",
       "5 tufA        IDIPBEOP_01165 c.432C>G                      ⋯ NA             \n",
       "6 tufA        IDIPBEOP_01165 c.351_357delCGCCCGTinsTGCTCGC ⋯ NA             \n",
       "  T8_AB16_I1_REP1 T8_AB16_I1_REP2 T8_AB16_I1_REP3 T8_AB4_I0_REP1 T8_AB4_I0_REP2\n",
       "1 NA              NA              NA              NA             NA            \n",
       "2 NA              NA              NA              NA             NA            \n",
       "3 NA              NA              NA              NA             NA            \n",
       "4 NA              NA              NA              NA             NA            \n",
       "5 NA              NA              NA              NA             NA            \n",
       "6 NA              NA              NA              NA             NA            \n",
       "  T8_AB4_I0_REP3 T8_AB4_I1_REP1 T8_AB4_I1_REP2 T8_AB4_I1_REP3\n",
       "1 NA             NA             NA             NA            \n",
       "2 NA             NA             NA             NA            \n",
       "3 NA             NA             NA             NA            \n",
       "4 NA             NA             NA             NA            \n",
       "5 NA             NA             NA             NA            \n",
       "6 NA             NA             NA             NA            "
      ]
     },
     "metadata": {},
     "output_type": "display_data"
    }
   ],
   "source": [
    "# Split genotype column by sample and add sample id (based on vcf header)\n",
    "\n",
    "variant_list2 = list()\n",
    "for(i in 1:length(variant_list)){\n",
    "  a = variant_list[[i]]\n",
    "  b = data.frame(do.call('rbind', strsplit(as.character(a$`GEN[*].AD`), ':', fixed = TRUE)))\n",
    "  colnames(b) = c(\"T12_AB0_I0_REP1\", \n",
    "                  \"T12_AB0_I0_REP2\", \n",
    "                  \"T12_AB0_I0_REP3\", \n",
    "                  \"T12_AB0_I1_REP1\", \n",
    "                  \"T12_AB0_I1_REP2\", \n",
    "                  \"T12_AB0_I1_REP3\", \n",
    "                  \"T12_AB128_I0_REP1\", \n",
    "                  \"T12_AB128_I0_REP2\", \n",
    "                  \"T12_AB128_I0_REP3\", \n",
    "                  \"T12_AB128_I1_REP1\", \n",
    "                  \"T12_AB128_I1_REP2\", \n",
    "                  \"T12_AB128_I1_REP3\", \n",
    "                  \"T12_AB16_I0_REP1\", \n",
    "                  \"T12_AB16_I0_REP2\", \n",
    "                  \"T12_AB16_I0_REP3\", \n",
    "                  \"T12_AB16_I1_REP1\", \n",
    "                  \"T12_AB16_I1_REP2\", \n",
    "                  \"T12_AB16_I1_REP3\", \n",
    "                  \"T12_AB4_I0_REP1\", \n",
    "                  \"T12_AB4_I0_REP2\", \n",
    "                  \"T12_AB4_I0_REP3\", \n",
    "                  \"T12_AB4_I1_REP1\", \n",
    "                  \"T12_AB4_I1_REP2\", \n",
    "                  \"T12_AB4_I1_REP3\", \n",
    "                  \"T8_AB0_I0_REP1\", \n",
    "                  \"T8_AB0_I0_REP2\", \n",
    "                  \"T8_AB0_I0_REP3\", \n",
    "                  \"T8_AB0_I1_REP1\", \n",
    "                  \"T8_AB0_I1_REP2\", \n",
    "                  \"T8_AB0_I1_REP3\", \n",
    "                  \"T8_AB128_I0_REP1\", \n",
    "                  \"T8_AB128_I0_REP2\", \n",
    "                  \"T8_AB128_I0_REP3\", \n",
    "                  \"T8_AB128_I1_REP1\", \n",
    "                  \"T8_AB128_I1_REP2\", \n",
    "                  \"T8_AB128_I1_REP3\", \n",
    "                  \"T8_AB16_I0_REP1\", \n",
    "                  \"T8_AB16_I0_REP2\", \n",
    "                  \"T8_AB16_I0_REP3\",\n",
    "                  \"T8_AB16_I1_REP1\", \n",
    "                  \"T8_AB16_I1_REP2\", \n",
    "                  \"T8_AB16_I1_REP3\", \n",
    "                  \"T8_AB4_I0_REP1\", \n",
    "                  \"T8_AB4_I0_REP2\", \n",
    "                  \"T8_AB4_I0_REP3\", \n",
    "                  \"T8_AB4_I1_REP1\", \n",
    "                  \"T8_AB4_I1_REP2\", \n",
    "                  \"T8_AB4_I1_REP3\")\n",
    "  a = cbind(a[, -12], b)\n",
    "  variant_list2[[i]] = a\n",
    "}\n",
    "names(variant_list2)=filenames\n",
    "\n",
    "head(variant_list2[[1]])"
   ]
  },
  {
   "cell_type": "code",
   "execution_count": 8,
   "metadata": {},
   "outputs": [
    {
     "data": {
      "text/html": [
       "<ol class=list-inline>\n",
       "\t<li>31</li>\n",
       "\t<li>59</li>\n",
       "</ol>\n"
      ],
      "text/latex": [
       "\\begin{enumerate*}\n",
       "\\item 31\n",
       "\\item 59\n",
       "\\end{enumerate*}\n"
      ],
      "text/markdown": [
       "1. 31\n",
       "2. 59\n",
       "\n",
       "\n"
      ],
      "text/plain": [
       "[1] 31 59"
      ]
     },
     "metadata": {},
     "output_type": "display_data"
    },
    {
     "data": {
      "text/html": [
       "<table>\n",
       "<thead><tr><th scope=col>CHROM</th><th scope=col>POS</th><th scope=col>REF</th><th scope=col>ALT</th><th scope=col>TYPE</th><th scope=col>EFFECT</th><th scope=col>IMPACT</th><th scope=col>GENE</th><th scope=col>GENEID</th><th scope=col>HGVS_C</th><th scope=col>⋯</th><th scope=col>T8_AB16_I1_REP1</th><th scope=col>T8_AB16_I1_REP2</th><th scope=col>T8_AB16_I1_REP3</th><th scope=col>T8_AB4_I0_REP1</th><th scope=col>T8_AB4_I0_REP2</th><th scope=col>T8_AB4_I0_REP3</th><th scope=col>T8_AB4_I1_REP1</th><th scope=col>T8_AB4_I1_REP2</th><th scope=col>T8_AB4_I1_REP3</th><th scope=col>SPECIES</th></tr></thead>\n",
       "<tbody>\n",
       "\t<tr><td>IDIPBEOP_1                                                              </td><td>1144946                                                                 </td><td><span style=white-space:pre-wrap>A      </span>                         </td><td><span style=white-space:pre-wrap>G      </span>                         </td><td><span style=white-space:pre-wrap>snp    </span>                         </td><td>synonymous_variant                                                      </td><td>LOW                                                                     </td><td>tufA                                                                    </td><td>IDIPBEOP_01165                                                          </td><td><span style=white-space:pre-wrap>c.834T&gt;C                     </span></td><td>⋯                                                                       </td><td>NA                                                                      </td><td>NA                                                                      </td><td>NA                                                                      </td><td>NA                                                                      </td><td>NA                                                                      </td><td>NA                                                                      </td><td>NA                                                                      </td><td>NA                                                                      </td><td>NA                                                                      </td><td>HAMBI_105                                                               </td></tr>\n",
       "\t<tr><td>IDIPBEOP_1                                                              </td><td>1144988                                                                 </td><td><span style=white-space:pre-wrap>A      </span>                         </td><td><span style=white-space:pre-wrap>G      </span>                         </td><td><span style=white-space:pre-wrap>snp    </span>                         </td><td>synonymous_variant                                                      </td><td>LOW                                                                     </td><td>tufA                                                                    </td><td>IDIPBEOP_01165                                                          </td><td><span style=white-space:pre-wrap>c.792T&gt;C                     </span></td><td>⋯                                                                       </td><td>NA                                                                      </td><td>NA                                                                      </td><td>NA                                                                      </td><td>NA                                                                      </td><td>NA                                                                      </td><td>NA                                                                      </td><td>NA                                                                      </td><td>NA                                                                      </td><td>NA                                                                      </td><td>HAMBI_105                                                               </td></tr>\n",
       "\t<tr><td>IDIPBEOP_1                   </td><td>1145033                      </td><td>AGAA                         </td><td>CGAG                         </td><td>complex                      </td><td>synonymous_variant           </td><td>LOW                          </td><td>tufA                         </td><td>IDIPBEOP_01165               </td><td>c.744_747delTTCTinsCTCG      </td><td>⋯                            </td><td>NA                           </td><td>NA                           </td><td>NA                           </td><td>NA                           </td><td>NA                           </td><td>NA                           </td><td>NA                           </td><td>NA                           </td><td>NA                           </td><td>HAMBI_105                    </td></tr>\n",
       "\t<tr><td>IDIPBEOP_1                                                              </td><td>1145270                                                                 </td><td><span style=white-space:pre-wrap>C      </span>                         </td><td><span style=white-space:pre-wrap>T      </span>                         </td><td><span style=white-space:pre-wrap>snp    </span>                         </td><td>synonymous_variant                                                      </td><td>LOW                                                                     </td><td>tufA                                                                    </td><td>IDIPBEOP_01165                                                          </td><td><span style=white-space:pre-wrap>c.510G&gt;A                     </span></td><td>⋯                                                                       </td><td>NA                                                                      </td><td>NA                                                                      </td><td>NA                                                                      </td><td>NA                                                                      </td><td>NA                                                                      </td><td>NA                                                                      </td><td>NA                                                                      </td><td>NA                                                                      </td><td>NA                                                                      </td><td>HAMBI_105                                                               </td></tr>\n",
       "\t<tr><td>IDIPBEOP_1                                                              </td><td>1145348                                                                 </td><td><span style=white-space:pre-wrap>G      </span>                         </td><td><span style=white-space:pre-wrap>C      </span>                         </td><td><span style=white-space:pre-wrap>snp    </span>                         </td><td>synonymous_variant                                                      </td><td>LOW                                                                     </td><td>tufA                                                                    </td><td>IDIPBEOP_01165                                                          </td><td><span style=white-space:pre-wrap>c.432C&gt;G                     </span></td><td>⋯                                                                       </td><td>NA                                                                      </td><td>NA                                                                      </td><td>NA                                                                      </td><td>NA                                                                      </td><td>NA                                                                      </td><td>NA                                                                      </td><td>NA                                                                      </td><td>NA                                                                      </td><td>NA                                                                      </td><td>HAMBI_105                                                               </td></tr>\n",
       "\t<tr><td>IDIPBEOP_1                   </td><td>1145423                      </td><td>ACGGGCG                      </td><td>GCGAGCA                      </td><td>complex                      </td><td>synonymous_variant           </td><td>LOW                          </td><td>tufA                         </td><td>IDIPBEOP_01165               </td><td>c.351_357delCGCCCGTinsTGCTCGC</td><td>⋯                            </td><td>NA                           </td><td>NA                           </td><td>NA                           </td><td>NA                           </td><td>NA                           </td><td>NA                           </td><td>NA                           </td><td>NA                           </td><td>NA                           </td><td>HAMBI_105                    </td></tr>\n",
       "</tbody>\n",
       "</table>\n"
      ],
      "text/latex": [
       "\\begin{tabular}{r|llllllllllllllllllllllllllllllllllllllllllllllllllllllllllll}\n",
       " CHROM & POS & REF & ALT & TYPE & EFFECT & IMPACT & GENE & GENEID & HGVS\\_C & ⋯ & T8\\_AB16\\_I1\\_REP1 & T8\\_AB16\\_I1\\_REP2 & T8\\_AB16\\_I1\\_REP3 & T8\\_AB4\\_I0\\_REP1 & T8\\_AB4\\_I0\\_REP2 & T8\\_AB4\\_I0\\_REP3 & T8\\_AB4\\_I1\\_REP1 & T8\\_AB4\\_I1\\_REP2 & T8\\_AB4\\_I1\\_REP3 & SPECIES\\\\\n",
       "\\hline\n",
       "\t IDIPBEOP\\_1                  & 1144946                       & A                             & G                             & snp                           & synonymous\\_variant          & LOW                           & tufA                          & IDIPBEOP\\_01165              & c.834T>C                      & ⋯                             & NA                            & NA                            & NA                            & NA                            & NA                            & NA                            & NA                            & NA                            & NA                            & HAMBI\\_105                  \\\\\n",
       "\t IDIPBEOP\\_1                  & 1144988                       & A                             & G                             & snp                           & synonymous\\_variant          & LOW                           & tufA                          & IDIPBEOP\\_01165              & c.792T>C                      & ⋯                             & NA                            & NA                            & NA                            & NA                            & NA                            & NA                            & NA                            & NA                            & NA                            & HAMBI\\_105                  \\\\\n",
       "\t IDIPBEOP\\_1                    & 1145033                         & AGAA                            & CGAG                            & complex                         & synonymous\\_variant            & LOW                             & tufA                            & IDIPBEOP\\_01165                & c.744\\_747delTTCTinsCTCG       & ⋯                               & NA                              & NA                              & NA                              & NA                              & NA                              & NA                              & NA                              & NA                              & NA                              & HAMBI\\_105                    \\\\\n",
       "\t IDIPBEOP\\_1                  & 1145270                       & C                             & T                             & snp                           & synonymous\\_variant          & LOW                           & tufA                          & IDIPBEOP\\_01165              & c.510G>A                      & ⋯                             & NA                            & NA                            & NA                            & NA                            & NA                            & NA                            & NA                            & NA                            & NA                            & HAMBI\\_105                  \\\\\n",
       "\t IDIPBEOP\\_1                  & 1145348                       & G                             & C                             & snp                           & synonymous\\_variant          & LOW                           & tufA                          & IDIPBEOP\\_01165              & c.432C>G                      & ⋯                             & NA                            & NA                            & NA                            & NA                            & NA                            & NA                            & NA                            & NA                            & NA                            & HAMBI\\_105                  \\\\\n",
       "\t IDIPBEOP\\_1                    & 1145423                         & ACGGGCG                         & GCGAGCA                         & complex                         & synonymous\\_variant            & LOW                             & tufA                            & IDIPBEOP\\_01165                & c.351\\_357delCGCCCGTinsTGCTCGC & ⋯                               & NA                              & NA                              & NA                              & NA                              & NA                              & NA                              & NA                              & NA                              & NA                              & HAMBI\\_105                    \\\\\n",
       "\\end{tabular}\n"
      ],
      "text/markdown": [
       "\n",
       "CHROM | POS | REF | ALT | TYPE | EFFECT | IMPACT | GENE | GENEID | HGVS_C | ⋯ | T8_AB16_I1_REP1 | T8_AB16_I1_REP2 | T8_AB16_I1_REP3 | T8_AB4_I0_REP1 | T8_AB4_I0_REP2 | T8_AB4_I0_REP3 | T8_AB4_I1_REP1 | T8_AB4_I1_REP2 | T8_AB4_I1_REP3 | SPECIES | \n",
       "|---|---|---|---|---|---|\n",
       "| IDIPBEOP_1                    | 1144946                       | A                             | G                             | snp                           | synonymous_variant            | LOW                           | tufA                          | IDIPBEOP_01165                | c.834T>C                      | ⋯                             | NA                            | NA                            | NA                            | NA                            | NA                            | NA                            | NA                            | NA                            | NA                            | HAMBI_105                     | \n",
       "| IDIPBEOP_1                    | 1144988                       | A                             | G                             | snp                           | synonymous_variant            | LOW                           | tufA                          | IDIPBEOP_01165                | c.792T>C                      | ⋯                             | NA                            | NA                            | NA                            | NA                            | NA                            | NA                            | NA                            | NA                            | NA                            | HAMBI_105                     | \n",
       "| IDIPBEOP_1                    | 1145033                       | AGAA                          | CGAG                          | complex                       | synonymous_variant            | LOW                           | tufA                          | IDIPBEOP_01165                | c.744_747delTTCTinsCTCG       | ⋯                             | NA                            | NA                            | NA                            | NA                            | NA                            | NA                            | NA                            | NA                            | NA                            | HAMBI_105                     | \n",
       "| IDIPBEOP_1                    | 1145270                       | C                             | T                             | snp                           | synonymous_variant            | LOW                           | tufA                          | IDIPBEOP_01165                | c.510G>A                      | ⋯                             | NA                            | NA                            | NA                            | NA                            | NA                            | NA                            | NA                            | NA                            | NA                            | HAMBI_105                     | \n",
       "| IDIPBEOP_1                    | 1145348                       | G                             | C                             | snp                           | synonymous_variant            | LOW                           | tufA                          | IDIPBEOP_01165                | c.432C>G                      | ⋯                             | NA                            | NA                            | NA                            | NA                            | NA                            | NA                            | NA                            | NA                            | NA                            | HAMBI_105                     | \n",
       "| IDIPBEOP_1                    | 1145423                       | ACGGGCG                       | GCGAGCA                       | complex                       | synonymous_variant            | LOW                           | tufA                          | IDIPBEOP_01165                | c.351_357delCGCCCGTinsTGCTCGC | ⋯                             | NA                            | NA                            | NA                            | NA                            | NA                            | NA                            | NA                            | NA                            | NA                            | HAMBI_105                     | \n",
       "\n",
       "\n"
      ],
      "text/plain": [
       "  CHROM      POS     REF     ALT     TYPE    EFFECT             IMPACT GENE\n",
       "1 IDIPBEOP_1 1144946 A       G       snp     synonymous_variant LOW    tufA\n",
       "2 IDIPBEOP_1 1144988 A       G       snp     synonymous_variant LOW    tufA\n",
       "3 IDIPBEOP_1 1145033 AGAA    CGAG    complex synonymous_variant LOW    tufA\n",
       "4 IDIPBEOP_1 1145270 C       T       snp     synonymous_variant LOW    tufA\n",
       "5 IDIPBEOP_1 1145348 G       C       snp     synonymous_variant LOW    tufA\n",
       "6 IDIPBEOP_1 1145423 ACGGGCG GCGAGCA complex synonymous_variant LOW    tufA\n",
       "  GENEID         HGVS_C                        ⋯ T8_AB16_I1_REP1\n",
       "1 IDIPBEOP_01165 c.834T>C                      ⋯ NA             \n",
       "2 IDIPBEOP_01165 c.792T>C                      ⋯ NA             \n",
       "3 IDIPBEOP_01165 c.744_747delTTCTinsCTCG       ⋯ NA             \n",
       "4 IDIPBEOP_01165 c.510G>A                      ⋯ NA             \n",
       "5 IDIPBEOP_01165 c.432C>G                      ⋯ NA             \n",
       "6 IDIPBEOP_01165 c.351_357delCGCCCGTinsTGCTCGC ⋯ NA             \n",
       "  T8_AB16_I1_REP2 T8_AB16_I1_REP3 T8_AB4_I0_REP1 T8_AB4_I0_REP2 T8_AB4_I0_REP3\n",
       "1 NA              NA              NA             NA             NA            \n",
       "2 NA              NA              NA             NA             NA            \n",
       "3 NA              NA              NA             NA             NA            \n",
       "4 NA              NA              NA             NA             NA            \n",
       "5 NA              NA              NA             NA             NA            \n",
       "6 NA              NA              NA             NA             NA            \n",
       "  T8_AB4_I1_REP1 T8_AB4_I1_REP2 T8_AB4_I1_REP3 SPECIES  \n",
       "1 NA             NA             NA             HAMBI_105\n",
       "2 NA             NA             NA             HAMBI_105\n",
       "3 NA             NA             NA             HAMBI_105\n",
       "4 NA             NA             NA             HAMBI_105\n",
       "5 NA             NA             NA             HAMBI_105\n",
       "6 NA             NA             NA             HAMBI_105"
      ]
     },
     "metadata": {},
     "output_type": "display_data"
    }
   ],
   "source": [
    "# Convert read count data to proportions and modify column names\n",
    "\n",
    "options(warn = -1) # inactivate warnings to avoid NA alerts\n",
    "\n",
    "dim(variant_list2[[1]])\n",
    "variant_list3 = list()\n",
    "for(i in 1:length(variant_list2)){\n",
    "  a = variant_list2[[i]]\n",
    "  for(k in 1:48){\n",
    "    c = vector(mode = \"numeric\", length = length(a[, 11 + k]))\n",
    "    for(j in 1:nrow(a)){\n",
    "      b = as.character(a[j, 11+k])\n",
    "      b = as.numeric(unlist(strsplit(b, \",\", fixed = T)))\n",
    "      b = ifelse(is.na(b) == T, NA, b[2] / sum(b))\n",
    "      c[j] = b\n",
    "      }\n",
    "    a[, 11 + k] = c\n",
    "    a[, 11 + k] = as.numeric(a[, 11 + k])\n",
    "    names(a) = gsub(\"[ANN[0].]\", \"\", names(a))\n",
    "    names(a) = gsub(\"ANN.\", \"\", names(a))\n",
    "    a[\"SPECIES\"] = paste(\"HAMBI\", names(variant_list2[i]), sep = \"_\")\n",
    "  }\n",
    "  variant_list3[[i]] = a\n",
    "}\n",
    "\n",
    "options(warn = 0) # reactivate warnings\n",
    "\n",
    "head(variant_list3[[1]])"
   ]
  },
  {
   "cell_type": "code",
   "execution_count": 9,
   "metadata": {},
   "outputs": [
    {
     "data": {
      "text/html": [
       "<table>\n",
       "<thead><tr><th scope=col>CHROM</th><th scope=col>POS</th><th scope=col>REF</th><th scope=col>ALT</th><th scope=col>TYPE</th><th scope=col>EFFECT</th><th scope=col>IMPACT</th><th scope=col>GENE</th><th scope=col>GENEID</th><th scope=col>HGVS_C</th><th scope=col>⋯</th><th scope=col>T8_AB16_I1_REP1</th><th scope=col>T8_AB16_I1_REP2</th><th scope=col>T8_AB16_I1_REP3</th><th scope=col>T8_AB4_I0_REP1</th><th scope=col>T8_AB4_I0_REP2</th><th scope=col>T8_AB4_I0_REP3</th><th scope=col>T8_AB4_I1_REP1</th><th scope=col>T8_AB4_I1_REP2</th><th scope=col>T8_AB4_I1_REP3</th><th scope=col>SPECIES</th></tr></thead>\n",
       "<tbody>\n",
       "\t<tr><td>IDIPBEOP_1                                                              </td><td>1144946                                                                 </td><td><span style=white-space:pre-wrap>A      </span>                         </td><td><span style=white-space:pre-wrap>G      </span>                         </td><td><span style=white-space:pre-wrap>snp    </span>                         </td><td>synonymous_variant                                                      </td><td>LOW                                                                     </td><td>tufA                                                                    </td><td>IDIPBEOP_01165                                                          </td><td><span style=white-space:pre-wrap>c.834T&gt;C                     </span></td><td>⋯                                                                       </td><td>NA                                                                      </td><td>NA                                                                      </td><td>NA                                                                      </td><td>NA                                                                      </td><td>NA                                                                      </td><td>NA                                                                      </td><td>NA                                                                      </td><td>NA                                                                      </td><td>NA                                                                      </td><td>HAMBI_105                                                               </td></tr>\n",
       "\t<tr><td>IDIPBEOP_1                                                              </td><td>1144988                                                                 </td><td><span style=white-space:pre-wrap>A      </span>                         </td><td><span style=white-space:pre-wrap>G      </span>                         </td><td><span style=white-space:pre-wrap>snp    </span>                         </td><td>synonymous_variant                                                      </td><td>LOW                                                                     </td><td>tufA                                                                    </td><td>IDIPBEOP_01165                                                          </td><td><span style=white-space:pre-wrap>c.792T&gt;C                     </span></td><td>⋯                                                                       </td><td>NA                                                                      </td><td>NA                                                                      </td><td>NA                                                                      </td><td>NA                                                                      </td><td>NA                                                                      </td><td>NA                                                                      </td><td>NA                                                                      </td><td>NA                                                                      </td><td>NA                                                                      </td><td>HAMBI_105                                                               </td></tr>\n",
       "\t<tr><td>IDIPBEOP_1                   </td><td>1145033                      </td><td>AGAA                         </td><td>CGAG                         </td><td>complex                      </td><td>synonymous_variant           </td><td>LOW                          </td><td>tufA                         </td><td>IDIPBEOP_01165               </td><td>c.744_747delTTCTinsCTCG      </td><td>⋯                            </td><td>NA                           </td><td>NA                           </td><td>NA                           </td><td>NA                           </td><td>NA                           </td><td>NA                           </td><td>NA                           </td><td>NA                           </td><td>NA                           </td><td>HAMBI_105                    </td></tr>\n",
       "\t<tr><td>IDIPBEOP_1                                                              </td><td>1145270                                                                 </td><td><span style=white-space:pre-wrap>C      </span>                         </td><td><span style=white-space:pre-wrap>T      </span>                         </td><td><span style=white-space:pre-wrap>snp    </span>                         </td><td>synonymous_variant                                                      </td><td>LOW                                                                     </td><td>tufA                                                                    </td><td>IDIPBEOP_01165                                                          </td><td><span style=white-space:pre-wrap>c.510G&gt;A                     </span></td><td>⋯                                                                       </td><td>NA                                                                      </td><td>NA                                                                      </td><td>NA                                                                      </td><td>NA                                                                      </td><td>NA                                                                      </td><td>NA                                                                      </td><td>NA                                                                      </td><td>NA                                                                      </td><td>NA                                                                      </td><td>HAMBI_105                                                               </td></tr>\n",
       "\t<tr><td>IDIPBEOP_1                                                              </td><td>1145348                                                                 </td><td><span style=white-space:pre-wrap>G      </span>                         </td><td><span style=white-space:pre-wrap>C      </span>                         </td><td><span style=white-space:pre-wrap>snp    </span>                         </td><td>synonymous_variant                                                      </td><td>LOW                                                                     </td><td>tufA                                                                    </td><td>IDIPBEOP_01165                                                          </td><td><span style=white-space:pre-wrap>c.432C&gt;G                     </span></td><td>⋯                                                                       </td><td>NA                                                                      </td><td>NA                                                                      </td><td>NA                                                                      </td><td>NA                                                                      </td><td>NA                                                                      </td><td>NA                                                                      </td><td>NA                                                                      </td><td>NA                                                                      </td><td>NA                                                                      </td><td>HAMBI_105                                                               </td></tr>\n",
       "\t<tr><td>IDIPBEOP_1                   </td><td>1145423                      </td><td>ACGGGCG                      </td><td>GCGAGCA                      </td><td>complex                      </td><td>synonymous_variant           </td><td>LOW                          </td><td>tufA                         </td><td>IDIPBEOP_01165               </td><td>c.351_357delCGCCCGTinsTGCTCGC</td><td>⋯                            </td><td>NA                           </td><td>NA                           </td><td>NA                           </td><td>NA                           </td><td>NA                           </td><td>NA                           </td><td>NA                           </td><td>NA                           </td><td>NA                           </td><td>HAMBI_105                    </td></tr>\n",
       "</tbody>\n",
       "</table>\n"
      ],
      "text/latex": [
       "\\begin{tabular}{r|llllllllllllllllllllllllllllllllllllllllllllllllllllllllllll}\n",
       " CHROM & POS & REF & ALT & TYPE & EFFECT & IMPACT & GENE & GENEID & HGVS\\_C & ⋯ & T8\\_AB16\\_I1\\_REP1 & T8\\_AB16\\_I1\\_REP2 & T8\\_AB16\\_I1\\_REP3 & T8\\_AB4\\_I0\\_REP1 & T8\\_AB4\\_I0\\_REP2 & T8\\_AB4\\_I0\\_REP3 & T8\\_AB4\\_I1\\_REP1 & T8\\_AB4\\_I1\\_REP2 & T8\\_AB4\\_I1\\_REP3 & SPECIES\\\\\n",
       "\\hline\n",
       "\t IDIPBEOP\\_1                  & 1144946                       & A                             & G                             & snp                           & synonymous\\_variant          & LOW                           & tufA                          & IDIPBEOP\\_01165              & c.834T>C                      & ⋯                             & NA                            & NA                            & NA                            & NA                            & NA                            & NA                            & NA                            & NA                            & NA                            & HAMBI\\_105                  \\\\\n",
       "\t IDIPBEOP\\_1                  & 1144988                       & A                             & G                             & snp                           & synonymous\\_variant          & LOW                           & tufA                          & IDIPBEOP\\_01165              & c.792T>C                      & ⋯                             & NA                            & NA                            & NA                            & NA                            & NA                            & NA                            & NA                            & NA                            & NA                            & HAMBI\\_105                  \\\\\n",
       "\t IDIPBEOP\\_1                    & 1145033                         & AGAA                            & CGAG                            & complex                         & synonymous\\_variant            & LOW                             & tufA                            & IDIPBEOP\\_01165                & c.744\\_747delTTCTinsCTCG       & ⋯                               & NA                              & NA                              & NA                              & NA                              & NA                              & NA                              & NA                              & NA                              & NA                              & HAMBI\\_105                    \\\\\n",
       "\t IDIPBEOP\\_1                  & 1145270                       & C                             & T                             & snp                           & synonymous\\_variant          & LOW                           & tufA                          & IDIPBEOP\\_01165              & c.510G>A                      & ⋯                             & NA                            & NA                            & NA                            & NA                            & NA                            & NA                            & NA                            & NA                            & NA                            & HAMBI\\_105                  \\\\\n",
       "\t IDIPBEOP\\_1                  & 1145348                       & G                             & C                             & snp                           & synonymous\\_variant          & LOW                           & tufA                          & IDIPBEOP\\_01165              & c.432C>G                      & ⋯                             & NA                            & NA                            & NA                            & NA                            & NA                            & NA                            & NA                            & NA                            & NA                            & HAMBI\\_105                  \\\\\n",
       "\t IDIPBEOP\\_1                    & 1145423                         & ACGGGCG                         & GCGAGCA                         & complex                         & synonymous\\_variant            & LOW                             & tufA                            & IDIPBEOP\\_01165                & c.351\\_357delCGCCCGTinsTGCTCGC & ⋯                               & NA                              & NA                              & NA                              & NA                              & NA                              & NA                              & NA                              & NA                              & NA                              & HAMBI\\_105                    \\\\\n",
       "\\end{tabular}\n"
      ],
      "text/markdown": [
       "\n",
       "CHROM | POS | REF | ALT | TYPE | EFFECT | IMPACT | GENE | GENEID | HGVS_C | ⋯ | T8_AB16_I1_REP1 | T8_AB16_I1_REP2 | T8_AB16_I1_REP3 | T8_AB4_I0_REP1 | T8_AB4_I0_REP2 | T8_AB4_I0_REP3 | T8_AB4_I1_REP1 | T8_AB4_I1_REP2 | T8_AB4_I1_REP3 | SPECIES | \n",
       "|---|---|---|---|---|---|\n",
       "| IDIPBEOP_1                    | 1144946                       | A                             | G                             | snp                           | synonymous_variant            | LOW                           | tufA                          | IDIPBEOP_01165                | c.834T>C                      | ⋯                             | NA                            | NA                            | NA                            | NA                            | NA                            | NA                            | NA                            | NA                            | NA                            | HAMBI_105                     | \n",
       "| IDIPBEOP_1                    | 1144988                       | A                             | G                             | snp                           | synonymous_variant            | LOW                           | tufA                          | IDIPBEOP_01165                | c.792T>C                      | ⋯                             | NA                            | NA                            | NA                            | NA                            | NA                            | NA                            | NA                            | NA                            | NA                            | HAMBI_105                     | \n",
       "| IDIPBEOP_1                    | 1145033                       | AGAA                          | CGAG                          | complex                       | synonymous_variant            | LOW                           | tufA                          | IDIPBEOP_01165                | c.744_747delTTCTinsCTCG       | ⋯                             | NA                            | NA                            | NA                            | NA                            | NA                            | NA                            | NA                            | NA                            | NA                            | HAMBI_105                     | \n",
       "| IDIPBEOP_1                    | 1145270                       | C                             | T                             | snp                           | synonymous_variant            | LOW                           | tufA                          | IDIPBEOP_01165                | c.510G>A                      | ⋯                             | NA                            | NA                            | NA                            | NA                            | NA                            | NA                            | NA                            | NA                            | NA                            | HAMBI_105                     | \n",
       "| IDIPBEOP_1                    | 1145348                       | G                             | C                             | snp                           | synonymous_variant            | LOW                           | tufA                          | IDIPBEOP_01165                | c.432C>G                      | ⋯                             | NA                            | NA                            | NA                            | NA                            | NA                            | NA                            | NA                            | NA                            | NA                            | HAMBI_105                     | \n",
       "| IDIPBEOP_1                    | 1145423                       | ACGGGCG                       | GCGAGCA                       | complex                       | synonymous_variant            | LOW                           | tufA                          | IDIPBEOP_01165                | c.351_357delCGCCCGTinsTGCTCGC | ⋯                             | NA                            | NA                            | NA                            | NA                            | NA                            | NA                            | NA                            | NA                            | NA                            | HAMBI_105                     | \n",
       "\n",
       "\n"
      ],
      "text/plain": [
       "  CHROM      POS     REF     ALT     TYPE    EFFECT             IMPACT GENE\n",
       "1 IDIPBEOP_1 1144946 A       G       snp     synonymous_variant LOW    tufA\n",
       "2 IDIPBEOP_1 1144988 A       G       snp     synonymous_variant LOW    tufA\n",
       "3 IDIPBEOP_1 1145033 AGAA    CGAG    complex synonymous_variant LOW    tufA\n",
       "4 IDIPBEOP_1 1145270 C       T       snp     synonymous_variant LOW    tufA\n",
       "5 IDIPBEOP_1 1145348 G       C       snp     synonymous_variant LOW    tufA\n",
       "6 IDIPBEOP_1 1145423 ACGGGCG GCGAGCA complex synonymous_variant LOW    tufA\n",
       "  GENEID         HGVS_C                        ⋯ T8_AB16_I1_REP1\n",
       "1 IDIPBEOP_01165 c.834T>C                      ⋯ NA             \n",
       "2 IDIPBEOP_01165 c.792T>C                      ⋯ NA             \n",
       "3 IDIPBEOP_01165 c.744_747delTTCTinsCTCG       ⋯ NA             \n",
       "4 IDIPBEOP_01165 c.510G>A                      ⋯ NA             \n",
       "5 IDIPBEOP_01165 c.432C>G                      ⋯ NA             \n",
       "6 IDIPBEOP_01165 c.351_357delCGCCCGTinsTGCTCGC ⋯ NA             \n",
       "  T8_AB16_I1_REP2 T8_AB16_I1_REP3 T8_AB4_I0_REP1 T8_AB4_I0_REP2 T8_AB4_I0_REP3\n",
       "1 NA              NA              NA             NA             NA            \n",
       "2 NA              NA              NA             NA             NA            \n",
       "3 NA              NA              NA             NA             NA            \n",
       "4 NA              NA              NA             NA             NA            \n",
       "5 NA              NA              NA             NA             NA            \n",
       "6 NA              NA              NA             NA             NA            \n",
       "  T8_AB4_I1_REP1 T8_AB4_I1_REP2 T8_AB4_I1_REP3 SPECIES  \n",
       "1 NA             NA             NA             HAMBI_105\n",
       "2 NA             NA             NA             HAMBI_105\n",
       "3 NA             NA             NA             HAMBI_105\n",
       "4 NA             NA             NA             HAMBI_105\n",
       "5 NA             NA             NA             HAMBI_105\n",
       "6 NA             NA             NA             HAMBI_105"
      ]
     },
     "metadata": {},
     "output_type": "display_data"
    }
   ],
   "source": [
    "# Convert read count data to total read depth and modify column names\n",
    "\n",
    "options(warn = -1) # inactivate warnings to avoid NA alerts\n",
    "\n",
    "depth_list = list()\n",
    "for(i in 1:length(variant_list2)){\n",
    "  a = variant_list2[[i]]\n",
    "  for(k in 1:48){\n",
    "    c = vector(mode = \"numeric\", length = length(a[, 11+k]))\n",
    "    for(j in 1:nrow(a)){\n",
    "      b = as.character(a[j, 11 + k])\n",
    "      b = as.numeric(unlist(strsplit(b, \",\", fixed = T)))\n",
    "      b = ifelse(is.na(b) == T, NA, sum(b))\n",
    "      c[j] = b\n",
    "    }\n",
    "    a[, 11 + k] = c\n",
    "    a[, 11 + k] = as.numeric(a[, 11+k])\n",
    "    names(a) = gsub(\"[ANN[0].]\", \"\", names(a))\n",
    "    names(a) = gsub(\"ANN.\", \"\", names(a))\n",
    "    a[\"SPECIES\"] = paste(\"HAMBI\", names(variant_list2[i]), sep = \"_\")\n",
    "  }\n",
    "  depth_list[[i]] = a\n",
    "}\n",
    "\n",
    "options(warn = 0) # reactivate warnings\n",
    "\n",
    "head(depth_list[[1]])"
   ]
  },
  {
   "cell_type": "code",
   "execution_count": 10,
   "metadata": {},
   "outputs": [
    {
     "data": {
      "text/html": [
       "<table>\n",
       "<thead><tr><th scope=col>SPECIES</th><th scope=col>CHROM</th><th scope=col>POS</th><th scope=col>REF</th><th scope=col>ALT</th><th scope=col>TYPE</th><th scope=col>EFFECT</th><th scope=col>IMPACT</th><th scope=col>GENE</th><th scope=col>GENEID</th><th scope=col>⋯</th><th scope=col>T8_AB16_I0_REP3</th><th scope=col>T8_AB16_I1_REP1</th><th scope=col>T8_AB16_I1_REP2</th><th scope=col>T8_AB16_I1_REP3</th><th scope=col>T8_AB4_I0_REP1</th><th scope=col>T8_AB4_I0_REP2</th><th scope=col>T8_AB4_I0_REP3</th><th scope=col>T8_AB4_I1_REP1</th><th scope=col>T8_AB4_I1_REP2</th><th scope=col>T8_AB4_I1_REP3</th></tr></thead>\n",
       "<tbody>\n",
       "\t<tr><td>HAMBI_105         </td><td>IDIPBEOP_1        </td><td>1144946           </td><td>A                 </td><td>G                 </td><td>snp               </td><td>synonymous_variant</td><td>LOW               </td><td>tufA              </td><td>IDIPBEOP_01165    </td><td>⋯                 </td><td>NA                </td><td>NA                </td><td>NA                </td><td>NA                </td><td>NA                </td><td>NA                </td><td>NA                </td><td>NA                </td><td>NA                </td><td>NA                </td></tr>\n",
       "\t<tr><td>HAMBI_105         </td><td>IDIPBEOP_1        </td><td>1144988           </td><td>A                 </td><td>G                 </td><td>snp               </td><td>synonymous_variant</td><td>LOW               </td><td>tufA              </td><td>IDIPBEOP_01165    </td><td>⋯                 </td><td>NA                </td><td>NA                </td><td>NA                </td><td>NA                </td><td>NA                </td><td>NA                </td><td>NA                </td><td>NA                </td><td>NA                </td><td>NA                </td></tr>\n",
       "\t<tr><td>HAMBI_105         </td><td>IDIPBEOP_1        </td><td>1145033           </td><td>AGAA              </td><td>CGAG              </td><td>complex           </td><td>synonymous_variant</td><td>LOW               </td><td>tufA              </td><td>IDIPBEOP_01165    </td><td>⋯                 </td><td>NA                </td><td>NA                </td><td>NA                </td><td>NA                </td><td>NA                </td><td>NA                </td><td>NA                </td><td>NA                </td><td>NA                </td><td>NA                </td></tr>\n",
       "\t<tr><td>HAMBI_105         </td><td>IDIPBEOP_1        </td><td>1145270           </td><td>C                 </td><td>T                 </td><td>snp               </td><td>synonymous_variant</td><td>LOW               </td><td>tufA              </td><td>IDIPBEOP_01165    </td><td>⋯                 </td><td>NA                </td><td>NA                </td><td>NA                </td><td>NA                </td><td>NA                </td><td>NA                </td><td>NA                </td><td>NA                </td><td>NA                </td><td>NA                </td></tr>\n",
       "\t<tr><td>HAMBI_105         </td><td>IDIPBEOP_1        </td><td>1145348           </td><td>G                 </td><td>C                 </td><td>snp               </td><td>synonymous_variant</td><td>LOW               </td><td>tufA              </td><td>IDIPBEOP_01165    </td><td>⋯                 </td><td>NA                </td><td>NA                </td><td>NA                </td><td>NA                </td><td>NA                </td><td>NA                </td><td>NA                </td><td>NA                </td><td>NA                </td><td>NA                </td></tr>\n",
       "\t<tr><td>HAMBI_105         </td><td>IDIPBEOP_1        </td><td>1145423           </td><td>ACGGGCG           </td><td>GCGAGCA           </td><td>complex           </td><td>synonymous_variant</td><td>LOW               </td><td>tufA              </td><td>IDIPBEOP_01165    </td><td>⋯                 </td><td>NA                </td><td>NA                </td><td>NA                </td><td>NA                </td><td>NA                </td><td>NA                </td><td>NA                </td><td>NA                </td><td>NA                </td><td>NA                </td></tr>\n",
       "</tbody>\n",
       "</table>\n"
      ],
      "text/latex": [
       "\\begin{tabular}{r|llllllllllllllllllllllllllllllllllllllllllllllllllllllllllll}\n",
       " SPECIES & CHROM & POS & REF & ALT & TYPE & EFFECT & IMPACT & GENE & GENEID & ⋯ & T8\\_AB16\\_I0\\_REP3 & T8\\_AB16\\_I1\\_REP1 & T8\\_AB16\\_I1\\_REP2 & T8\\_AB16\\_I1\\_REP3 & T8\\_AB4\\_I0\\_REP1 & T8\\_AB4\\_I0\\_REP2 & T8\\_AB4\\_I0\\_REP3 & T8\\_AB4\\_I1\\_REP1 & T8\\_AB4\\_I1\\_REP2 & T8\\_AB4\\_I1\\_REP3\\\\\n",
       "\\hline\n",
       "\t HAMBI\\_105          & IDIPBEOP\\_1         & 1144946              & A                    & G                    & snp                  & synonymous\\_variant & LOW                  & tufA                 & IDIPBEOP\\_01165     & ⋯                    & NA                   & NA                   & NA                   & NA                   & NA                   & NA                   & NA                   & NA                   & NA                   & NA                  \\\\\n",
       "\t HAMBI\\_105          & IDIPBEOP\\_1         & 1144988              & A                    & G                    & snp                  & synonymous\\_variant & LOW                  & tufA                 & IDIPBEOP\\_01165     & ⋯                    & NA                   & NA                   & NA                   & NA                   & NA                   & NA                   & NA                   & NA                   & NA                   & NA                  \\\\\n",
       "\t HAMBI\\_105          & IDIPBEOP\\_1         & 1145033              & AGAA                 & CGAG                 & complex              & synonymous\\_variant & LOW                  & tufA                 & IDIPBEOP\\_01165     & ⋯                    & NA                   & NA                   & NA                   & NA                   & NA                   & NA                   & NA                   & NA                   & NA                   & NA                  \\\\\n",
       "\t HAMBI\\_105          & IDIPBEOP\\_1         & 1145270              & C                    & T                    & snp                  & synonymous\\_variant & LOW                  & tufA                 & IDIPBEOP\\_01165     & ⋯                    & NA                   & NA                   & NA                   & NA                   & NA                   & NA                   & NA                   & NA                   & NA                   & NA                  \\\\\n",
       "\t HAMBI\\_105          & IDIPBEOP\\_1         & 1145348              & G                    & C                    & snp                  & synonymous\\_variant & LOW                  & tufA                 & IDIPBEOP\\_01165     & ⋯                    & NA                   & NA                   & NA                   & NA                   & NA                   & NA                   & NA                   & NA                   & NA                   & NA                  \\\\\n",
       "\t HAMBI\\_105          & IDIPBEOP\\_1         & 1145423              & ACGGGCG              & GCGAGCA              & complex              & synonymous\\_variant & LOW                  & tufA                 & IDIPBEOP\\_01165     & ⋯                    & NA                   & NA                   & NA                   & NA                   & NA                   & NA                   & NA                   & NA                   & NA                   & NA                  \\\\\n",
       "\\end{tabular}\n"
      ],
      "text/markdown": [
       "\n",
       "SPECIES | CHROM | POS | REF | ALT | TYPE | EFFECT | IMPACT | GENE | GENEID | ⋯ | T8_AB16_I0_REP3 | T8_AB16_I1_REP1 | T8_AB16_I1_REP2 | T8_AB16_I1_REP3 | T8_AB4_I0_REP1 | T8_AB4_I0_REP2 | T8_AB4_I0_REP3 | T8_AB4_I1_REP1 | T8_AB4_I1_REP2 | T8_AB4_I1_REP3 | \n",
       "|---|---|---|---|---|---|\n",
       "| HAMBI_105          | IDIPBEOP_1         | 1144946            | A                  | G                  | snp                | synonymous_variant | LOW                | tufA               | IDIPBEOP_01165     | ⋯                  | NA                 | NA                 | NA                 | NA                 | NA                 | NA                 | NA                 | NA                 | NA                 | NA                 | \n",
       "| HAMBI_105          | IDIPBEOP_1         | 1144988            | A                  | G                  | snp                | synonymous_variant | LOW                | tufA               | IDIPBEOP_01165     | ⋯                  | NA                 | NA                 | NA                 | NA                 | NA                 | NA                 | NA                 | NA                 | NA                 | NA                 | \n",
       "| HAMBI_105          | IDIPBEOP_1         | 1145033            | AGAA               | CGAG               | complex            | synonymous_variant | LOW                | tufA               | IDIPBEOP_01165     | ⋯                  | NA                 | NA                 | NA                 | NA                 | NA                 | NA                 | NA                 | NA                 | NA                 | NA                 | \n",
       "| HAMBI_105          | IDIPBEOP_1         | 1145270            | C                  | T                  | snp                | synonymous_variant | LOW                | tufA               | IDIPBEOP_01165     | ⋯                  | NA                 | NA                 | NA                 | NA                 | NA                 | NA                 | NA                 | NA                 | NA                 | NA                 | \n",
       "| HAMBI_105          | IDIPBEOP_1         | 1145348            | G                  | C                  | snp                | synonymous_variant | LOW                | tufA               | IDIPBEOP_01165     | ⋯                  | NA                 | NA                 | NA                 | NA                 | NA                 | NA                 | NA                 | NA                 | NA                 | NA                 | \n",
       "| HAMBI_105          | IDIPBEOP_1         | 1145423            | ACGGGCG            | GCGAGCA            | complex            | synonymous_variant | LOW                | tufA               | IDIPBEOP_01165     | ⋯                  | NA                 | NA                 | NA                 | NA                 | NA                 | NA                 | NA                 | NA                 | NA                 | NA                 | \n",
       "\n",
       "\n"
      ],
      "text/plain": [
       "  SPECIES   CHROM      POS     REF     ALT     TYPE    EFFECT            \n",
       "1 HAMBI_105 IDIPBEOP_1 1144946 A       G       snp     synonymous_variant\n",
       "2 HAMBI_105 IDIPBEOP_1 1144988 A       G       snp     synonymous_variant\n",
       "3 HAMBI_105 IDIPBEOP_1 1145033 AGAA    CGAG    complex synonymous_variant\n",
       "4 HAMBI_105 IDIPBEOP_1 1145270 C       T       snp     synonymous_variant\n",
       "5 HAMBI_105 IDIPBEOP_1 1145348 G       C       snp     synonymous_variant\n",
       "6 HAMBI_105 IDIPBEOP_1 1145423 ACGGGCG GCGAGCA complex synonymous_variant\n",
       "  IMPACT GENE GENEID         ⋯ T8_AB16_I0_REP3 T8_AB16_I1_REP1 T8_AB16_I1_REP2\n",
       "1 LOW    tufA IDIPBEOP_01165 ⋯ NA              NA              NA             \n",
       "2 LOW    tufA IDIPBEOP_01165 ⋯ NA              NA              NA             \n",
       "3 LOW    tufA IDIPBEOP_01165 ⋯ NA              NA              NA             \n",
       "4 LOW    tufA IDIPBEOP_01165 ⋯ NA              NA              NA             \n",
       "5 LOW    tufA IDIPBEOP_01165 ⋯ NA              NA              NA             \n",
       "6 LOW    tufA IDIPBEOP_01165 ⋯ NA              NA              NA             \n",
       "  T8_AB16_I1_REP3 T8_AB4_I0_REP1 T8_AB4_I0_REP2 T8_AB4_I0_REP3 T8_AB4_I1_REP1\n",
       "1 NA              NA             NA             NA             NA            \n",
       "2 NA              NA             NA             NA             NA            \n",
       "3 NA              NA             NA             NA             NA            \n",
       "4 NA              NA             NA             NA             NA            \n",
       "5 NA              NA             NA             NA             NA            \n",
       "6 NA              NA             NA             NA             NA            \n",
       "  T8_AB4_I1_REP2 T8_AB4_I1_REP3\n",
       "1 NA             NA            \n",
       "2 NA             NA            \n",
       "3 NA             NA            \n",
       "4 NA             NA            \n",
       "5 NA             NA            \n",
       "6 NA             NA            "
      ]
     },
     "metadata": {},
     "output_type": "display_data"
    }
   ],
   "source": [
    "# Concatenate variant frequency list into data frame\n",
    "\n",
    "variants=Reduce(function(...) merge(..., all=T), variant_list3)\n",
    "variants=variants[,c(60, 1:59)] # move species to first column\n",
    "head(variants)"
   ]
  },
  {
   "cell_type": "code",
   "execution_count": 11,
   "metadata": {},
   "outputs": [
    {
     "data": {
      "text/html": [
       "<table>\n",
       "<thead><tr><th scope=col>SPECIES</th><th scope=col>CHROM</th><th scope=col>POS</th><th scope=col>REF</th><th scope=col>ALT</th><th scope=col>TYPE</th><th scope=col>EFFECT</th><th scope=col>IMPACT</th><th scope=col>GENE</th><th scope=col>GENEID</th><th scope=col>⋯</th><th scope=col>T8_AB16_I0_REP3</th><th scope=col>T8_AB16_I1_REP1</th><th scope=col>T8_AB16_I1_REP2</th><th scope=col>T8_AB16_I1_REP3</th><th scope=col>T8_AB4_I0_REP1</th><th scope=col>T8_AB4_I0_REP2</th><th scope=col>T8_AB4_I0_REP3</th><th scope=col>T8_AB4_I1_REP1</th><th scope=col>T8_AB4_I1_REP2</th><th scope=col>T8_AB4_I1_REP3</th></tr></thead>\n",
       "<tbody>\n",
       "\t<tr><td>HAMBI_105         </td><td>IDIPBEOP_1        </td><td>1144946           </td><td>A                 </td><td>G                 </td><td>snp               </td><td>synonymous_variant</td><td>LOW               </td><td>tufA              </td><td>IDIPBEOP_01165    </td><td>⋯                 </td><td>NA                </td><td>NA                </td><td>NA                </td><td>NA                </td><td>NA                </td><td>NA                </td><td>NA                </td><td>NA                </td><td>NA                </td><td>NA                </td></tr>\n",
       "\t<tr><td>HAMBI_105         </td><td>IDIPBEOP_1        </td><td>1144988           </td><td>A                 </td><td>G                 </td><td>snp               </td><td>synonymous_variant</td><td>LOW               </td><td>tufA              </td><td>IDIPBEOP_01165    </td><td>⋯                 </td><td>NA                </td><td>NA                </td><td>NA                </td><td>NA                </td><td>NA                </td><td>NA                </td><td>NA                </td><td>NA                </td><td>NA                </td><td>NA                </td></tr>\n",
       "\t<tr><td>HAMBI_105         </td><td>IDIPBEOP_1        </td><td>1145033           </td><td>AGAA              </td><td>CGAG              </td><td>complex           </td><td>synonymous_variant</td><td>LOW               </td><td>tufA              </td><td>IDIPBEOP_01165    </td><td>⋯                 </td><td>NA                </td><td>NA                </td><td>NA                </td><td>NA                </td><td>NA                </td><td>NA                </td><td>NA                </td><td>NA                </td><td>NA                </td><td>NA                </td></tr>\n",
       "\t<tr><td>HAMBI_105         </td><td>IDIPBEOP_1        </td><td>1145270           </td><td>C                 </td><td>T                 </td><td>snp               </td><td>synonymous_variant</td><td>LOW               </td><td>tufA              </td><td>IDIPBEOP_01165    </td><td>⋯                 </td><td>NA                </td><td>NA                </td><td>NA                </td><td>NA                </td><td>NA                </td><td>NA                </td><td>NA                </td><td>NA                </td><td>NA                </td><td>NA                </td></tr>\n",
       "\t<tr><td>HAMBI_105         </td><td>IDIPBEOP_1        </td><td>1145348           </td><td>G                 </td><td>C                 </td><td>snp               </td><td>synonymous_variant</td><td>LOW               </td><td>tufA              </td><td>IDIPBEOP_01165    </td><td>⋯                 </td><td>NA                </td><td>NA                </td><td>NA                </td><td>NA                </td><td>NA                </td><td>NA                </td><td>NA                </td><td>NA                </td><td>NA                </td><td>NA                </td></tr>\n",
       "\t<tr><td>HAMBI_105         </td><td>IDIPBEOP_1        </td><td>1145423           </td><td>ACGGGCG           </td><td>GCGAGCA           </td><td>complex           </td><td>synonymous_variant</td><td>LOW               </td><td>tufA              </td><td>IDIPBEOP_01165    </td><td>⋯                 </td><td>NA                </td><td>NA                </td><td>NA                </td><td>NA                </td><td>NA                </td><td>NA                </td><td>NA                </td><td>NA                </td><td>NA                </td><td>NA                </td></tr>\n",
       "</tbody>\n",
       "</table>\n"
      ],
      "text/latex": [
       "\\begin{tabular}{r|llllllllllllllllllllllllllllllllllllllllllllllllllllllllllll}\n",
       " SPECIES & CHROM & POS & REF & ALT & TYPE & EFFECT & IMPACT & GENE & GENEID & ⋯ & T8\\_AB16\\_I0\\_REP3 & T8\\_AB16\\_I1\\_REP1 & T8\\_AB16\\_I1\\_REP2 & T8\\_AB16\\_I1\\_REP3 & T8\\_AB4\\_I0\\_REP1 & T8\\_AB4\\_I0\\_REP2 & T8\\_AB4\\_I0\\_REP3 & T8\\_AB4\\_I1\\_REP1 & T8\\_AB4\\_I1\\_REP2 & T8\\_AB4\\_I1\\_REP3\\\\\n",
       "\\hline\n",
       "\t HAMBI\\_105          & IDIPBEOP\\_1         & 1144946              & A                    & G                    & snp                  & synonymous\\_variant & LOW                  & tufA                 & IDIPBEOP\\_01165     & ⋯                    & NA                   & NA                   & NA                   & NA                   & NA                   & NA                   & NA                   & NA                   & NA                   & NA                  \\\\\n",
       "\t HAMBI\\_105          & IDIPBEOP\\_1         & 1144988              & A                    & G                    & snp                  & synonymous\\_variant & LOW                  & tufA                 & IDIPBEOP\\_01165     & ⋯                    & NA                   & NA                   & NA                   & NA                   & NA                   & NA                   & NA                   & NA                   & NA                   & NA                  \\\\\n",
       "\t HAMBI\\_105          & IDIPBEOP\\_1         & 1145033              & AGAA                 & CGAG                 & complex              & synonymous\\_variant & LOW                  & tufA                 & IDIPBEOP\\_01165     & ⋯                    & NA                   & NA                   & NA                   & NA                   & NA                   & NA                   & NA                   & NA                   & NA                   & NA                  \\\\\n",
       "\t HAMBI\\_105          & IDIPBEOP\\_1         & 1145270              & C                    & T                    & snp                  & synonymous\\_variant & LOW                  & tufA                 & IDIPBEOP\\_01165     & ⋯                    & NA                   & NA                   & NA                   & NA                   & NA                   & NA                   & NA                   & NA                   & NA                   & NA                  \\\\\n",
       "\t HAMBI\\_105          & IDIPBEOP\\_1         & 1145348              & G                    & C                    & snp                  & synonymous\\_variant & LOW                  & tufA                 & IDIPBEOP\\_01165     & ⋯                    & NA                   & NA                   & NA                   & NA                   & NA                   & NA                   & NA                   & NA                   & NA                   & NA                  \\\\\n",
       "\t HAMBI\\_105          & IDIPBEOP\\_1         & 1145423              & ACGGGCG              & GCGAGCA              & complex              & synonymous\\_variant & LOW                  & tufA                 & IDIPBEOP\\_01165     & ⋯                    & NA                   & NA                   & NA                   & NA                   & NA                   & NA                   & NA                   & NA                   & NA                   & NA                  \\\\\n",
       "\\end{tabular}\n"
      ],
      "text/markdown": [
       "\n",
       "SPECIES | CHROM | POS | REF | ALT | TYPE | EFFECT | IMPACT | GENE | GENEID | ⋯ | T8_AB16_I0_REP3 | T8_AB16_I1_REP1 | T8_AB16_I1_REP2 | T8_AB16_I1_REP3 | T8_AB4_I0_REP1 | T8_AB4_I0_REP2 | T8_AB4_I0_REP3 | T8_AB4_I1_REP1 | T8_AB4_I1_REP2 | T8_AB4_I1_REP3 | \n",
       "|---|---|---|---|---|---|\n",
       "| HAMBI_105          | IDIPBEOP_1         | 1144946            | A                  | G                  | snp                | synonymous_variant | LOW                | tufA               | IDIPBEOP_01165     | ⋯                  | NA                 | NA                 | NA                 | NA                 | NA                 | NA                 | NA                 | NA                 | NA                 | NA                 | \n",
       "| HAMBI_105          | IDIPBEOP_1         | 1144988            | A                  | G                  | snp                | synonymous_variant | LOW                | tufA               | IDIPBEOP_01165     | ⋯                  | NA                 | NA                 | NA                 | NA                 | NA                 | NA                 | NA                 | NA                 | NA                 | NA                 | \n",
       "| HAMBI_105          | IDIPBEOP_1         | 1145033            | AGAA               | CGAG               | complex            | synonymous_variant | LOW                | tufA               | IDIPBEOP_01165     | ⋯                  | NA                 | NA                 | NA                 | NA                 | NA                 | NA                 | NA                 | NA                 | NA                 | NA                 | \n",
       "| HAMBI_105          | IDIPBEOP_1         | 1145270            | C                  | T                  | snp                | synonymous_variant | LOW                | tufA               | IDIPBEOP_01165     | ⋯                  | NA                 | NA                 | NA                 | NA                 | NA                 | NA                 | NA                 | NA                 | NA                 | NA                 | \n",
       "| HAMBI_105          | IDIPBEOP_1         | 1145348            | G                  | C                  | snp                | synonymous_variant | LOW                | tufA               | IDIPBEOP_01165     | ⋯                  | NA                 | NA                 | NA                 | NA                 | NA                 | NA                 | NA                 | NA                 | NA                 | NA                 | \n",
       "| HAMBI_105          | IDIPBEOP_1         | 1145423            | ACGGGCG            | GCGAGCA            | complex            | synonymous_variant | LOW                | tufA               | IDIPBEOP_01165     | ⋯                  | NA                 | NA                 | NA                 | NA                 | NA                 | NA                 | NA                 | NA                 | NA                 | NA                 | \n",
       "\n",
       "\n"
      ],
      "text/plain": [
       "  SPECIES   CHROM      POS     REF     ALT     TYPE    EFFECT            \n",
       "1 HAMBI_105 IDIPBEOP_1 1144946 A       G       snp     synonymous_variant\n",
       "2 HAMBI_105 IDIPBEOP_1 1144988 A       G       snp     synonymous_variant\n",
       "3 HAMBI_105 IDIPBEOP_1 1145033 AGAA    CGAG    complex synonymous_variant\n",
       "4 HAMBI_105 IDIPBEOP_1 1145270 C       T       snp     synonymous_variant\n",
       "5 HAMBI_105 IDIPBEOP_1 1145348 G       C       snp     synonymous_variant\n",
       "6 HAMBI_105 IDIPBEOP_1 1145423 ACGGGCG GCGAGCA complex synonymous_variant\n",
       "  IMPACT GENE GENEID         ⋯ T8_AB16_I0_REP3 T8_AB16_I1_REP1 T8_AB16_I1_REP2\n",
       "1 LOW    tufA IDIPBEOP_01165 ⋯ NA              NA              NA             \n",
       "2 LOW    tufA IDIPBEOP_01165 ⋯ NA              NA              NA             \n",
       "3 LOW    tufA IDIPBEOP_01165 ⋯ NA              NA              NA             \n",
       "4 LOW    tufA IDIPBEOP_01165 ⋯ NA              NA              NA             \n",
       "5 LOW    tufA IDIPBEOP_01165 ⋯ NA              NA              NA             \n",
       "6 LOW    tufA IDIPBEOP_01165 ⋯ NA              NA              NA             \n",
       "  T8_AB16_I1_REP3 T8_AB4_I0_REP1 T8_AB4_I0_REP2 T8_AB4_I0_REP3 T8_AB4_I1_REP1\n",
       "1 NA              NA             NA             NA             NA            \n",
       "2 NA              NA             NA             NA             NA            \n",
       "3 NA              NA             NA             NA             NA            \n",
       "4 NA              NA             NA             NA             NA            \n",
       "5 NA              NA             NA             NA             NA            \n",
       "6 NA              NA             NA             NA             NA            \n",
       "  T8_AB4_I1_REP2 T8_AB4_I1_REP3\n",
       "1 NA             NA            \n",
       "2 NA             NA            \n",
       "3 NA             NA            \n",
       "4 NA             NA            \n",
       "5 NA             NA            \n",
       "6 NA             NA            "
      ]
     },
     "metadata": {},
     "output_type": "display_data"
    }
   ],
   "source": [
    "# Concatenate variant depth list into data frame\n",
    "\n",
    "depths=Reduce(function(...) merge(..., all=T), depth_list)\n",
    "depths=depths[,c(60, 1:59)] # move species to first column\n",
    "head(depths)"
   ]
  },
  {
   "cell_type": "code",
   "execution_count": 13,
   "metadata": {},
   "outputs": [
    {
     "data": {
      "text/html": [
       "<ol class=list-inline>\n",
       "\t<li>132299</li>\n",
       "\t<li>61</li>\n",
       "</ol>\n"
      ],
      "text/latex": [
       "\\begin{enumerate*}\n",
       "\\item 132299\n",
       "\\item 61\n",
       "\\end{enumerate*}\n"
      ],
      "text/markdown": [
       "1. 132299\n",
       "2. 61\n",
       "\n",
       "\n"
      ],
      "text/plain": [
       "[1] 132299     61"
      ]
     },
     "metadata": {},
     "output_type": "display_data"
    }
   ],
   "source": [
    "# Add depth column to variants\n",
    "\n",
    "tot_depth = rowSums(depths[, 13:60], na.rm = T)\n",
    "variants$tot_depth = tot_depth\n",
    "dim(variants)"
   ]
  },
  {
   "cell_type": "code",
   "execution_count": 14,
   "metadata": {},
   "outputs": [
    {
     "data": {
      "text/html": [
       "<ol class=list-inline>\n",
       "\t<li>132171</li>\n",
       "\t<li>61</li>\n",
       "</ol>\n"
      ],
      "text/latex": [
       "\\begin{enumerate*}\n",
       "\\item 132171\n",
       "\\item 61\n",
       "\\end{enumerate*}\n"
      ],
      "text/markdown": [
       "1. 132171\n",
       "2. 61\n",
       "\n",
       "\n"
      ],
      "text/plain": [
       "[1] 132171     61"
      ]
     },
     "metadata": {},
     "output_type": "display_data"
    }
   ],
   "source": [
    "# Remove variants with combined depth over all samples < 10\n",
    "\n",
    "variants = variants[variants$tot_depth >= 10,]\n",
    "dim(variants) # 132299-132171 = 128 variants removed"
   ]
  },
  {
   "cell_type": "code",
   "execution_count": 15,
   "metadata": {},
   "outputs": [
    {
     "data": {
      "text/html": [
       "27.2750527484387"
      ],
      "text/latex": [
       "27.2750527484387"
      ],
      "text/markdown": [
       "27.2750527484387"
      ],
      "text/plain": [
       "[1] 27.27505"
      ]
     },
     "metadata": {},
     "output_type": "display_data"
    }
   ],
   "source": [
    "# Check that there are no 0 frequency rows\n",
    "\n",
    "min(rowSums(variants[, 13:60]), na.rm = T) # ok"
   ]
  },
  {
   "cell_type": "code",
   "execution_count": 20,
   "metadata": {},
   "outputs": [
    {
     "data": {
      "text/plain": [
       "\n",
       " HAMBI_105 HAMBI_1287 HAMBI_1874 HAMBI_1875 HAMBI_1896 HAMBI_1972 HAMBI_1977 \n",
       "        31         74         29        106        145        176        309 \n",
       "HAMBI_1992 HAMBI_2160 HAMBI_2443 HAMBI_2659 HAMBI_3031 HAMBI_3172  HAMBI_403 \n",
       "         6         21         30        102         54        149     130939 "
      ]
     },
     "metadata": {},
     "output_type": "display_data"
    }
   ],
   "source": [
    "# Inspect variant counts per species\n",
    "\n",
    "table(variants$SPECIES) # other species have max. 309 variants while HAMBI 403 has over 130k variants"
   ]
  },
  {
   "cell_type": "code",
   "execution_count": 21,
   "metadata": {},
   "outputs": [],
   "source": [
    "# Remove HAMBI 403 which likely has an unsuitable reference genome (taken from database based on strain identity)\n",
    "\n",
    "variants = variants[variants$SPECIES != \"HAMBI_403\",]"
   ]
  },
  {
   "cell_type": "code",
   "execution_count": 26,
   "metadata": {},
   "outputs": [
    {
     "data": {
      "text/html": [
       "2"
      ],
      "text/latex": [
       "2"
      ],
      "text/markdown": [
       "2"
      ],
      "text/plain": [
       "[1] 2"
      ]
     },
     "metadata": {},
     "output_type": "display_data"
    }
   ],
   "source": [
    "# Count the number of observations for each variant\n",
    "\n",
    "variants2 = variants[, 13:60]\n",
    "variants2 = ifelse(is.na(variants2), 0, 1)\n",
    "non_na_obs = rowSums(variants2)\n",
    "variants$non_na_obs = non_na_obs\n",
    "head(variants)"
   ]
  },
  {
   "cell_type": "code",
   "execution_count": 28,
   "metadata": {},
   "outputs": [
    {
     "data": {
      "text/html": [
       "<table>\n",
       "<thead><tr><th scope=col>SPECIES</th><th scope=col>CHROM</th><th scope=col>POS</th><th scope=col>REF</th><th scope=col>ALT</th><th scope=col>TYPE</th><th scope=col>EFFECT</th><th scope=col>IMPACT</th><th scope=col>GENE</th><th scope=col>GENEID</th><th scope=col>⋯</th><th scope=col>T8_AB4_I0_REP1</th><th scope=col>T8_AB4_I0_REP2</th><th scope=col>T8_AB4_I0_REP3</th><th scope=col>T8_AB4_I1_REP1</th><th scope=col>T8_AB4_I1_REP2</th><th scope=col>T8_AB4_I1_REP3</th><th scope=col>tot_depth</th><th scope=col>non_na_counts</th><th scope=col>non_na_obs</th><th scope=col>N_sample</th></tr></thead>\n",
       "<tbody>\n",
       "\t<tr><td>HAMBI_105         </td><td>IDIPBEOP_1        </td><td>1144946           </td><td>A                 </td><td>G                 </td><td>snp               </td><td>synonymous_variant</td><td>LOW               </td><td>tufA              </td><td>IDIPBEOP_01165    </td><td>⋯                 </td><td>NA                </td><td>NA                </td><td>NA                </td><td>NA                </td><td>NA                </td><td>NA                </td><td>22                </td><td>2                 </td><td>2                 </td><td>32                </td></tr>\n",
       "\t<tr><td>HAMBI_105         </td><td>IDIPBEOP_1        </td><td>1144988           </td><td>A                 </td><td>G                 </td><td>snp               </td><td>synonymous_variant</td><td>LOW               </td><td>tufA              </td><td>IDIPBEOP_01165    </td><td>⋯                 </td><td>NA                </td><td>NA                </td><td>NA                </td><td>NA                </td><td>NA                </td><td>NA                </td><td>12                </td><td>2                 </td><td>2                 </td><td>32                </td></tr>\n",
       "\t<tr><td>HAMBI_105         </td><td>IDIPBEOP_1        </td><td>1145033           </td><td>AGAA              </td><td>CGAG              </td><td>complex           </td><td>synonymous_variant</td><td>LOW               </td><td>tufA              </td><td>IDIPBEOP_01165    </td><td>⋯                 </td><td>NA                </td><td>NA                </td><td>NA                </td><td>NA                </td><td>NA                </td><td>NA                </td><td>43                </td><td>6                 </td><td>6                 </td><td>32                </td></tr>\n",
       "\t<tr><td>HAMBI_105         </td><td>IDIPBEOP_1        </td><td>1145270           </td><td>C                 </td><td>T                 </td><td>snp               </td><td>synonymous_variant</td><td>LOW               </td><td>tufA              </td><td>IDIPBEOP_01165    </td><td>⋯                 </td><td>NA                </td><td>NA                </td><td>NA                </td><td>NA                </td><td>NA                </td><td>NA                </td><td>42                </td><td>6                 </td><td>6                 </td><td>32                </td></tr>\n",
       "\t<tr><td>HAMBI_105         </td><td>IDIPBEOP_1        </td><td>1145348           </td><td>G                 </td><td>C                 </td><td>snp               </td><td>synonymous_variant</td><td>LOW               </td><td>tufA              </td><td>IDIPBEOP_01165    </td><td>⋯                 </td><td>NA                </td><td>NA                </td><td>NA                </td><td>NA                </td><td>NA                </td><td>NA                </td><td>21                </td><td>2                 </td><td>2                 </td><td>32                </td></tr>\n",
       "\t<tr><td>HAMBI_105         </td><td>IDIPBEOP_1        </td><td>1145423           </td><td>ACGGGCG           </td><td>GCGAGCA           </td><td>complex           </td><td>synonymous_variant</td><td>LOW               </td><td>tufA              </td><td>IDIPBEOP_01165    </td><td>⋯                 </td><td>NA                </td><td>NA                </td><td>NA                </td><td>NA                </td><td>NA                </td><td>NA                </td><td>28                </td><td>4                 </td><td>4                 </td><td>32                </td></tr>\n",
       "</tbody>\n",
       "</table>\n"
      ],
      "text/latex": [
       "\\begin{tabular}{r|llllllllllllllllllllllllllllllllllllllllllllllllllllllllllllllll}\n",
       " SPECIES & CHROM & POS & REF & ALT & TYPE & EFFECT & IMPACT & GENE & GENEID & ⋯ & T8\\_AB4\\_I0\\_REP1 & T8\\_AB4\\_I0\\_REP2 & T8\\_AB4\\_I0\\_REP3 & T8\\_AB4\\_I1\\_REP1 & T8\\_AB4\\_I1\\_REP2 & T8\\_AB4\\_I1\\_REP3 & tot\\_depth & non\\_na\\_counts & non\\_na\\_obs & N\\_sample\\\\\n",
       "\\hline\n",
       "\t HAMBI\\_105          & IDIPBEOP\\_1         & 1144946              & A                    & G                    & snp                  & synonymous\\_variant & LOW                  & tufA                 & IDIPBEOP\\_01165     & ⋯                    & NA                   & NA                   & NA                   & NA                   & NA                   & NA                   & 22                   & 2                    & 2                    & 32                  \\\\\n",
       "\t HAMBI\\_105          & IDIPBEOP\\_1         & 1144988              & A                    & G                    & snp                  & synonymous\\_variant & LOW                  & tufA                 & IDIPBEOP\\_01165     & ⋯                    & NA                   & NA                   & NA                   & NA                   & NA                   & NA                   & 12                   & 2                    & 2                    & 32                  \\\\\n",
       "\t HAMBI\\_105          & IDIPBEOP\\_1         & 1145033              & AGAA                 & CGAG                 & complex              & synonymous\\_variant & LOW                  & tufA                 & IDIPBEOP\\_01165     & ⋯                    & NA                   & NA                   & NA                   & NA                   & NA                   & NA                   & 43                   & 6                    & 6                    & 32                  \\\\\n",
       "\t HAMBI\\_105          & IDIPBEOP\\_1         & 1145270              & C                    & T                    & snp                  & synonymous\\_variant & LOW                  & tufA                 & IDIPBEOP\\_01165     & ⋯                    & NA                   & NA                   & NA                   & NA                   & NA                   & NA                   & 42                   & 6                    & 6                    & 32                  \\\\\n",
       "\t HAMBI\\_105          & IDIPBEOP\\_1         & 1145348              & G                    & C                    & snp                  & synonymous\\_variant & LOW                  & tufA                 & IDIPBEOP\\_01165     & ⋯                    & NA                   & NA                   & NA                   & NA                   & NA                   & NA                   & 21                   & 2                    & 2                    & 32                  \\\\\n",
       "\t HAMBI\\_105          & IDIPBEOP\\_1         & 1145423              & ACGGGCG              & GCGAGCA              & complex              & synonymous\\_variant & LOW                  & tufA                 & IDIPBEOP\\_01165     & ⋯                    & NA                   & NA                   & NA                   & NA                   & NA                   & NA                   & 28                   & 4                    & 4                    & 32                  \\\\\n",
       "\\end{tabular}\n"
      ],
      "text/markdown": [
       "\n",
       "SPECIES | CHROM | POS | REF | ALT | TYPE | EFFECT | IMPACT | GENE | GENEID | ⋯ | T8_AB4_I0_REP1 | T8_AB4_I0_REP2 | T8_AB4_I0_REP3 | T8_AB4_I1_REP1 | T8_AB4_I1_REP2 | T8_AB4_I1_REP3 | tot_depth | non_na_counts | non_na_obs | N_sample | \n",
       "|---|---|---|---|---|---|\n",
       "| HAMBI_105          | IDIPBEOP_1         | 1144946            | A                  | G                  | snp                | synonymous_variant | LOW                | tufA               | IDIPBEOP_01165     | ⋯                  | NA                 | NA                 | NA                 | NA                 | NA                 | NA                 | 22                 | 2                  | 2                  | 32                 | \n",
       "| HAMBI_105          | IDIPBEOP_1         | 1144988            | A                  | G                  | snp                | synonymous_variant | LOW                | tufA               | IDIPBEOP_01165     | ⋯                  | NA                 | NA                 | NA                 | NA                 | NA                 | NA                 | 12                 | 2                  | 2                  | 32                 | \n",
       "| HAMBI_105          | IDIPBEOP_1         | 1145033            | AGAA               | CGAG               | complex            | synonymous_variant | LOW                | tufA               | IDIPBEOP_01165     | ⋯                  | NA                 | NA                 | NA                 | NA                 | NA                 | NA                 | 43                 | 6                  | 6                  | 32                 | \n",
       "| HAMBI_105          | IDIPBEOP_1         | 1145270            | C                  | T                  | snp                | synonymous_variant | LOW                | tufA               | IDIPBEOP_01165     | ⋯                  | NA                 | NA                 | NA                 | NA                 | NA                 | NA                 | 42                 | 6                  | 6                  | 32                 | \n",
       "| HAMBI_105          | IDIPBEOP_1         | 1145348            | G                  | C                  | snp                | synonymous_variant | LOW                | tufA               | IDIPBEOP_01165     | ⋯                  | NA                 | NA                 | NA                 | NA                 | NA                 | NA                 | 21                 | 2                  | 2                  | 32                 | \n",
       "| HAMBI_105          | IDIPBEOP_1         | 1145423            | ACGGGCG            | GCGAGCA            | complex            | synonymous_variant | LOW                | tufA               | IDIPBEOP_01165     | ⋯                  | NA                 | NA                 | NA                 | NA                 | NA                 | NA                 | 28                 | 4                  | 4                  | 32                 | \n",
       "\n",
       "\n"
      ],
      "text/plain": [
       "  SPECIES   CHROM      POS     REF     ALT     TYPE    EFFECT            \n",
       "1 HAMBI_105 IDIPBEOP_1 1144946 A       G       snp     synonymous_variant\n",
       "2 HAMBI_105 IDIPBEOP_1 1144988 A       G       snp     synonymous_variant\n",
       "3 HAMBI_105 IDIPBEOP_1 1145033 AGAA    CGAG    complex synonymous_variant\n",
       "4 HAMBI_105 IDIPBEOP_1 1145270 C       T       snp     synonymous_variant\n",
       "5 HAMBI_105 IDIPBEOP_1 1145348 G       C       snp     synonymous_variant\n",
       "6 HAMBI_105 IDIPBEOP_1 1145423 ACGGGCG GCGAGCA complex synonymous_variant\n",
       "  IMPACT GENE GENEID         ⋯ T8_AB4_I0_REP1 T8_AB4_I0_REP2 T8_AB4_I0_REP3\n",
       "1 LOW    tufA IDIPBEOP_01165 ⋯ NA             NA             NA            \n",
       "2 LOW    tufA IDIPBEOP_01165 ⋯ NA             NA             NA            \n",
       "3 LOW    tufA IDIPBEOP_01165 ⋯ NA             NA             NA            \n",
       "4 LOW    tufA IDIPBEOP_01165 ⋯ NA             NA             NA            \n",
       "5 LOW    tufA IDIPBEOP_01165 ⋯ NA             NA             NA            \n",
       "6 LOW    tufA IDIPBEOP_01165 ⋯ NA             NA             NA            \n",
       "  T8_AB4_I1_REP1 T8_AB4_I1_REP2 T8_AB4_I1_REP3 tot_depth non_na_counts\n",
       "1 NA             NA             NA             22        2            \n",
       "2 NA             NA             NA             12        2            \n",
       "3 NA             NA             NA             43        6            \n",
       "4 NA             NA             NA             42        6            \n",
       "5 NA             NA             NA             21        2            \n",
       "6 NA             NA             NA             28        4            \n",
       "  non_na_obs N_sample\n",
       "1 2          32      \n",
       "2 2          32      \n",
       "3 6          32      \n",
       "4 6          32      \n",
       "5 2          32      \n",
       "6 4          32      "
      ]
     },
     "metadata": {},
     "output_type": "display_data"
    }
   ],
   "source": [
    "# Count the number of samples per species with variant data\n",
    "\n",
    "a = unique(variants$SPECIES)\n",
    "N_sample = setNames(data.frame(matrix(ncol = 2, nrow = 0)), c(\"SPECIES\", \"N_sample\"))\n",
    "for(i in 1:length(a)){\n",
    "  b = colSums(variants[variants$SPECIES == a[i], 13:60], na.rm = T)\n",
    "  c = ifelse(b == 0 | is.na(b), 0, 1)\n",
    "  d = sum(c)\n",
    "  N_sample[i,\"SPECIES\"] = a[i]\n",
    "  N_sample[i, \"N_sample\"] = d\n",
    "}\n",
    "\n",
    "variants = merge(variants, N_sample, all.x = T)\n",
    "head(variants)"
   ]
  },
  {
   "cell_type": "code",
   "execution_count": 37,
   "metadata": {},
   "outputs": [
    {
     "name": "stderr",
     "output_type": "stream",
     "text": [
      "`stat_bin()` using `bins = 30`. Pick better value with `binwidth`.\n"
     ]
    },
    {
     "data": {},
     "metadata": {},
     "output_type": "display_data"
    },
    {
     "data": {
      "image/png": "[encoded data removed]",
      "text/plain": [
       "plot without title"
      ]
     },
     "metadata": {},
     "output_type": "display_data"
    }
   ],
   "source": [
    "# Count and visualize the proportion of samples with an observation\n",
    "\n",
    "variants$obs_prop = variants$non_na_obs / variants$N_sample\n",
    "\n",
    "p1 = ggplot(variants, aes(x=obs_prop)) +\n",
    "        geom_histogram() +\n",
    "        scale_x_continuous(breaks = seq(0, 1, len = 11))\n",
    "p1"
   ]
  },
  {
   "cell_type": "code",
   "execution_count": 38,
   "metadata": {},
   "outputs": [
    {
     "data": {
      "text/html": [
       "983"
      ],
      "text/latex": [
       "983"
      ],
      "text/markdown": [
       "983"
      ],
      "text/plain": [
       "[1] 983"
      ]
     },
     "metadata": {},
     "output_type": "display_data"
    }
   ],
   "source": [
    "# There are high peaks of variants occurring in over 80 % of samples, indicating that these might be ancestral variants or alignment errors\n",
    "# Let's remove these\n",
    "\n",
    "variants = variants[variants$obs_prop <= 0.8,]\n",
    "nrow(variants) # 983 variants left"
   ]
  },
  {
   "cell_type": "code",
   "execution_count": 45,
   "metadata": {},
   "outputs": [
    {
     "data": {
      "text/html": [
       "13"
      ],
      "text/latex": [
       "13"
      ],
      "text/markdown": [
       "13"
      ],
      "text/plain": [
       "[1] 13"
      ]
     },
     "metadata": {},
     "output_type": "display_data"
    }
   ],
   "source": [
    "# Each community has two samples (for two time points), and only variants called in both were accepted in vcffilter\n",
    "# Let's remove variants occurring in odd numbers of samples in case any remain\n",
    "\n",
    "odds = seq(1, 48, 2)\n",
    "variants2 = variants[!(variants$non_na_obs %in% odds),]\n",
    "nrow(variants) - nrow(variants2) # 13 variants removed"
   ]
  },
  {
   "cell_type": "code",
   "execution_count": 46,
   "metadata": {},
   "outputs": [
    {
     "data": {
      "text/html": [
       "<table>\n",
       "<thead><tr><th></th><th scope=col>SPECIES</th><th scope=col>CHROM</th><th scope=col>POS</th><th scope=col>REF</th><th scope=col>ALT</th><th scope=col>TYPE</th><th scope=col>EFFECT</th><th scope=col>IMPACT</th><th scope=col>GENE</th><th scope=col>GENEID</th><th scope=col>HGVS_C</th><th scope=col>HGVS_P</th><th scope=col>SAMPLE</th><th scope=col>FREQUENCY</th><th scope=col>TIME</th><th scope=col>AB</th><th scope=col>IM</th><th scope=col>REP</th></tr></thead>\n",
       "<tbody>\n",
       "\t<tr><th scope=row>7761</th><td>HAMBI_105                                                         </td><td>IDIPBEOP_1                                                        </td><td>1144946                                                           </td><td><span style=white-space:pre-wrap>A   </span>                      </td><td><span style=white-space:pre-wrap>G   </span>                      </td><td><span style=white-space:pre-wrap>snp    </span>                   </td><td>synonymous_variant                                                </td><td>LOW                                                               </td><td>tufA                                                              </td><td>IDIPBEOP_01165                                                    </td><td><span style=white-space:pre-wrap>c.834T&gt;C               </span></td><td><span style=white-space:pre-wrap>p.Gly278Gly      </span>         </td><td>T12_AB128_I0_REP3                                                 </td><td>0.5238095                                                         </td><td>12                                                                </td><td>128                                                               </td><td>0                                                                 </td><td>3                                                                 </td></tr>\n",
       "\t<tr><th scope=row>31041</th><td>HAMBI_105                                                         </td><td>IDIPBEOP_1                                                        </td><td>1144946                                                           </td><td><span style=white-space:pre-wrap>A   </span>                      </td><td><span style=white-space:pre-wrap>G   </span>                      </td><td><span style=white-space:pre-wrap>snp    </span>                   </td><td>synonymous_variant                                                </td><td>LOW                                                               </td><td>tufA                                                              </td><td>IDIPBEOP_01165                                                    </td><td><span style=white-space:pre-wrap>c.834T&gt;C               </span></td><td><span style=white-space:pre-wrap>p.Gly278Gly      </span>         </td><td>T8_AB128_I0_REP3                                                  </td><td>1.0000000                                                         </td><td> 8                                                                </td><td>128                                                               </td><td>0                                                                 </td><td>3                                                                 </td></tr>\n",
       "\t<tr><th scope=row>10672</th><td>HAMBI_105                                                         </td><td>IDIPBEOP_1                                                        </td><td>1144988                                                           </td><td><span style=white-space:pre-wrap>A   </span>                      </td><td><span style=white-space:pre-wrap>G   </span>                      </td><td><span style=white-space:pre-wrap>snp    </span>                   </td><td>synonymous_variant                                                </td><td>LOW                                                               </td><td>tufA                                                              </td><td>IDIPBEOP_01165                                                    </td><td><span style=white-space:pre-wrap>c.792T&gt;C               </span></td><td><span style=white-space:pre-wrap>p.Asp264Asp      </span>         </td><td>T12_AB128_I1_REP3                                                 </td><td>0.8333333                                                         </td><td>12                                                                </td><td>128                                                               </td><td>1                                                                 </td><td>3                                                                 </td></tr>\n",
       "\t<tr><th scope=row>33952</th><td>HAMBI_105                                                         </td><td>IDIPBEOP_1                                                        </td><td>1144988                                                           </td><td><span style=white-space:pre-wrap>A   </span>                      </td><td><span style=white-space:pre-wrap>G   </span>                      </td><td><span style=white-space:pre-wrap>snp    </span>                   </td><td>synonymous_variant                                                </td><td>LOW                                                               </td><td>tufA                                                              </td><td>IDIPBEOP_01165                                                    </td><td><span style=white-space:pre-wrap>c.792T&gt;C               </span></td><td><span style=white-space:pre-wrap>p.Asp264Asp      </span>         </td><td>T8_AB128_I1_REP3                                                  </td><td>0.6666667                                                         </td><td> 8                                                                </td><td>128                                                               </td><td>1                                                                 </td><td>3                                                                 </td></tr>\n",
       "\t<tr><th scope=row>6793</th><td>HAMBI_105              </td><td>IDIPBEOP_1             </td><td>1145033                </td><td>AGAA                   </td><td>CGAG                   </td><td>complex                </td><td>synonymous_variant     </td><td>LOW                    </td><td>tufA                   </td><td>IDIPBEOP_01165         </td><td>c.744_747delTTCTinsCTCG</td><td>p.ThrSer248ThrSer      </td><td>T12_AB128_I0_REP2      </td><td>0.5454545              </td><td>12                     </td><td>128                    </td><td>0                      </td><td>2                      </td></tr>\n",
       "\t<tr><th scope=row>7763</th><td>HAMBI_105              </td><td>IDIPBEOP_1             </td><td>1145033                </td><td>AGAA                   </td><td>CGAG                   </td><td>complex                </td><td>synonymous_variant     </td><td>LOW                    </td><td>tufA                   </td><td>IDIPBEOP_01165         </td><td>c.744_747delTTCTinsCTCG</td><td>p.ThrSer248ThrSer      </td><td>T12_AB128_I0_REP3      </td><td>0.5384615              </td><td>12                     </td><td>128                    </td><td>0                      </td><td>3                      </td></tr>\n",
       "</tbody>\n",
       "</table>\n"
      ],
      "text/latex": [
       "\\begin{tabular}{r|llllllllllllllllll}\n",
       "  & SPECIES & CHROM & POS & REF & ALT & TYPE & EFFECT & IMPACT & GENE & GENEID & HGVS\\_C & HGVS\\_P & SAMPLE & FREQUENCY & TIME & AB & IM & REP\\\\\n",
       "\\hline\n",
       "\t7761 & HAMBI\\_105             & IDIPBEOP\\_1            & 1144946                 & A                       & G                       & snp                     & synonymous\\_variant    & LOW                     & tufA                    & IDIPBEOP\\_01165        & c.834T>C                & p.Gly278Gly             & T12\\_AB128\\_I0\\_REP3 & 0.5238095               & 12                      & 128                     & 0                       & 3                      \\\\\n",
       "\t31041 & HAMBI\\_105             & IDIPBEOP\\_1            & 1144946                 & A                       & G                       & snp                     & synonymous\\_variant    & LOW                     & tufA                    & IDIPBEOP\\_01165        & c.834T>C                & p.Gly278Gly             & T8\\_AB128\\_I0\\_REP3  & 1.0000000               &  8                      & 128                     & 0                       & 3                      \\\\\n",
       "\t10672 & HAMBI\\_105             & IDIPBEOP\\_1            & 1144988                 & A                       & G                       & snp                     & synonymous\\_variant    & LOW                     & tufA                    & IDIPBEOP\\_01165        & c.792T>C                & p.Asp264Asp             & T12\\_AB128\\_I1\\_REP3 & 0.8333333               & 12                      & 128                     & 1                       & 3                      \\\\\n",
       "\t33952 & HAMBI\\_105             & IDIPBEOP\\_1            & 1144988                 & A                       & G                       & snp                     & synonymous\\_variant    & LOW                     & tufA                    & IDIPBEOP\\_01165        & c.792T>C                & p.Asp264Asp             & T8\\_AB128\\_I1\\_REP3  & 0.6666667               &  8                      & 128                     & 1                       & 3                      \\\\\n",
       "\t6793 & HAMBI\\_105               & IDIPBEOP\\_1              & 1145033                   & AGAA                      & CGAG                      & complex                   & synonymous\\_variant      & LOW                       & tufA                      & IDIPBEOP\\_01165          & c.744\\_747delTTCTinsCTCG & p.ThrSer248ThrSer         & T12\\_AB128\\_I0\\_REP2   & 0.5454545                 & 12                        & 128                       & 0                         & 2                        \\\\\n",
       "\t7763 & HAMBI\\_105               & IDIPBEOP\\_1              & 1145033                   & AGAA                      & CGAG                      & complex                   & synonymous\\_variant      & LOW                       & tufA                      & IDIPBEOP\\_01165          & c.744\\_747delTTCTinsCTCG & p.ThrSer248ThrSer         & T12\\_AB128\\_I0\\_REP3   & 0.5384615                 & 12                        & 128                       & 0                         & 3                        \\\\\n",
       "\\end{tabular}\n"
      ],
      "text/markdown": [
       "\n",
       "| <!--/--> | SPECIES | CHROM | POS | REF | ALT | TYPE | EFFECT | IMPACT | GENE | GENEID | HGVS_C | HGVS_P | SAMPLE | FREQUENCY | TIME | AB | IM | REP | \n",
       "|---|---|---|---|---|---|\n",
       "| 7761 | HAMBI_105               | IDIPBEOP_1              | 1144946                 | A                       | G                       | snp                     | synonymous_variant      | LOW                     | tufA                    | IDIPBEOP_01165          | c.834T>C                | p.Gly278Gly             | T12_AB128_I0_REP3       | 0.5238095               | 12                      | 128                     | 0                       | 3                       | \n",
       "| 31041 | HAMBI_105               | IDIPBEOP_1              | 1144946                 | A                       | G                       | snp                     | synonymous_variant      | LOW                     | tufA                    | IDIPBEOP_01165          | c.834T>C                | p.Gly278Gly             | T8_AB128_I0_REP3        | 1.0000000               |  8                      | 128                     | 0                       | 3                       | \n",
       "| 10672 | HAMBI_105               | IDIPBEOP_1              | 1144988                 | A                       | G                       | snp                     | synonymous_variant      | LOW                     | tufA                    | IDIPBEOP_01165          | c.792T>C                | p.Asp264Asp             | T12_AB128_I1_REP3       | 0.8333333               | 12                      | 128                     | 1                       | 3                       | \n",
       "| 33952 | HAMBI_105               | IDIPBEOP_1              | 1144988                 | A                       | G                       | snp                     | synonymous_variant      | LOW                     | tufA                    | IDIPBEOP_01165          | c.792T>C                | p.Asp264Asp             | T8_AB128_I1_REP3        | 0.6666667               |  8                      | 128                     | 1                       | 3                       | \n",
       "| 6793 | HAMBI_105               | IDIPBEOP_1              | 1145033                 | AGAA                    | CGAG                    | complex                 | synonymous_variant      | LOW                     | tufA                    | IDIPBEOP_01165          | c.744_747delTTCTinsCTCG | p.ThrSer248ThrSer       | T12_AB128_I0_REP2       | 0.5454545               | 12                      | 128                     | 0                       | 2                       | \n",
       "| 7763 | HAMBI_105               | IDIPBEOP_1              | 1145033                 | AGAA                    | CGAG                    | complex                 | synonymous_variant      | LOW                     | tufA                    | IDIPBEOP_01165          | c.744_747delTTCTinsCTCG | p.ThrSer248ThrSer       | T12_AB128_I0_REP3       | 0.5384615               | 12                      | 128                     | 0                       | 3                       | \n",
       "\n",
       "\n"
      ],
      "text/plain": [
       "      SPECIES   CHROM      POS     REF  ALT  TYPE    EFFECT             IMPACT\n",
       "7761  HAMBI_105 IDIPBEOP_1 1144946 A    G    snp     synonymous_variant LOW   \n",
       "31041 HAMBI_105 IDIPBEOP_1 1144946 A    G    snp     synonymous_variant LOW   \n",
       "10672 HAMBI_105 IDIPBEOP_1 1144988 A    G    snp     synonymous_variant LOW   \n",
       "33952 HAMBI_105 IDIPBEOP_1 1144988 A    G    snp     synonymous_variant LOW   \n",
       "6793  HAMBI_105 IDIPBEOP_1 1145033 AGAA CGAG complex synonymous_variant LOW   \n",
       "7763  HAMBI_105 IDIPBEOP_1 1145033 AGAA CGAG complex synonymous_variant LOW   \n",
       "      GENE GENEID         HGVS_C                  HGVS_P           \n",
       "7761  tufA IDIPBEOP_01165 c.834T>C                p.Gly278Gly      \n",
       "31041 tufA IDIPBEOP_01165 c.834T>C                p.Gly278Gly      \n",
       "10672 tufA IDIPBEOP_01165 c.792T>C                p.Asp264Asp      \n",
       "33952 tufA IDIPBEOP_01165 c.792T>C                p.Asp264Asp      \n",
       "6793  tufA IDIPBEOP_01165 c.744_747delTTCTinsCTCG p.ThrSer248ThrSer\n",
       "7763  tufA IDIPBEOP_01165 c.744_747delTTCTinsCTCG p.ThrSer248ThrSer\n",
       "      SAMPLE            FREQUENCY TIME AB  IM REP\n",
       "7761  T12_AB128_I0_REP3 0.5238095 12   128 0  3  \n",
       "31041 T8_AB128_I0_REP3  1.0000000  8   128 0  3  \n",
       "10672 T12_AB128_I1_REP3 0.8333333 12   128 1  3  \n",
       "33952 T8_AB128_I1_REP3  0.6666667  8   128 1  3  \n",
       "6793  T12_AB128_I0_REP2 0.5454545 12   128 0  2  \n",
       "7763  T12_AB128_I0_REP3 0.5384615 12   128 0  3  "
      ]
     },
     "metadata": {},
     "output_type": "display_data"
    }
   ],
   "source": [
    "# Reformat and add treatment information\n",
    "\n",
    "variants2 = melt(variants2[,1:60], id.vars = c(\"SPECIES\",\"CHROM\",\"POS\",\"REF\",\"ALT\",\"TYPE\",\"EFFECT\",\"IMPACT\",\"GENE\",\"GENEID\",\"HGVS_C\",\"HGVS_P\"))\n",
    "colnames(variants2) =  c(\"SPECIES\",\"CHROM\",\"POS\",\"REF\",\"ALT\",\"TYPE\",\"EFFECT\",\"IMPACT\",\"GENE\",\"GENEID\",\"HGVS_C\",\"HGVS_P\", \"SAMPLE\", \"FREQUENCY\")\n",
    "variants2 = variants2[!is.na(variants2$FREQUENCY),]\n",
    "variants2 = variants2[order(variants2$SPECIES, variants2$CHROM, variants2$POS),]\n",
    "variants2$TIME = gsub(\"_AB.*\", \"\", variants2$SAMPLE)\n",
    "variants2$TIME = as.numeric(gsub(\"T\", \"\", variants2$TIME))\n",
    "variants2$AB = gsub(\".*_AB\", \"\", variants2$SAMPLE)\n",
    "variants2$AB = as.numeric(gsub(\"_I.*\", \"\", variants2$AB))\n",
    "variants2$IM = gsub(\".*_I\", \"\", variants2$SAMPLE)\n",
    "variants2$IM = as.factor(as.character(gsub(\"_REP.*\", \"\", variants2$IM)))\n",
    "variants2$REP = as.factor(as.character(gsub(\".*_REP\", \"\", variants2$SAMPLE)))\n",
    "head(variants2)"
   ]
  },
  {
   "cell_type": "code",
   "execution_count": 47,
   "metadata": {},
   "outputs": [
    {
     "data": {
      "text/html": [
       "<table>\n",
       "<thead><tr><th scope=col>SPECIES</th><th scope=col>TIME</th><th scope=col>AB</th><th scope=col>IM</th><th scope=col>REP</th><th scope=col>CHROM</th><th scope=col>POS</th><th scope=col>REF</th><th scope=col>ALT</th><th scope=col>TYPE</th><th scope=col>EFFECT</th><th scope=col>IMPACT</th><th scope=col>GENE</th><th scope=col>GENEID</th><th scope=col>HGVS_C</th><th scope=col>HGVS_P</th><th scope=col>SAMPLE</th><th scope=col>FREQUENCY</th><th scope=col>MEDIAN_COV</th></tr></thead>\n",
       "<tbody>\n",
       "\t<tr><td>HAMBI_105                    </td><td>12                           </td><td>  0                          </td><td>0                            </td><td>3                            </td><td>IDIPBEOP_6                   </td><td> 237283                      </td><td>GC                           </td><td>TA                           </td><td>NA                           </td><td>synonymous_variant           </td><td>LOW                          </td><td>cya                          </td><td>IDIPBEOP_03748               </td><td>c.3171_3172delGCinsTA        </td><td>p.LeuArg1057LeuArg           </td><td>T12_AB0_I0_REP3              </td><td>1.0000000                    </td><td>10                           </td></tr>\n",
       "\t<tr><td>HAMBI_105                                                               </td><td>12                                                                      </td><td><span style=white-space:pre-wrap>  0</span>                             </td><td>0                                                                       </td><td>3                                                                       </td><td>IDIPBEOP_6                                                              </td><td> 237300                                                                 </td><td><span style=white-space:pre-wrap>T      </span>                         </td><td><span style=white-space:pre-wrap>C      </span>                         </td><td><span style=white-space:pre-wrap>snp    </span>                         </td><td><span style=white-space:pre-wrap>missense_variant  </span>              </td><td>MODERATE                                                                </td><td><span style=white-space:pre-wrap>cya   </span>                          </td><td>IDIPBEOP_03748                                                          </td><td><span style=white-space:pre-wrap>c.3188T&gt;C                    </span></td><td><span style=white-space:pre-wrap>p.Val1063Ala           </span>         </td><td><span style=white-space:pre-wrap>T12_AB0_I0_REP3  </span>               </td><td>1.0000000                                                               </td><td>10                                                                      </td></tr>\n",
       "\t<tr><td>HAMBI_105                                                               </td><td>12                                                                      </td><td><span style=white-space:pre-wrap>  0</span>                             </td><td>0                                                                       </td><td>3                                                                       </td><td>IDIPBEOP_6                                                              </td><td> 237310                                                                 </td><td><span style=white-space:pre-wrap>T      </span>                         </td><td><span style=white-space:pre-wrap>C      </span>                         </td><td><span style=white-space:pre-wrap>snp    </span>                         </td><td>synonymous_variant                                                      </td><td><span style=white-space:pre-wrap>LOW     </span>                        </td><td><span style=white-space:pre-wrap>cya   </span>                          </td><td>IDIPBEOP_03748                                                          </td><td><span style=white-space:pre-wrap>c.3198T&gt;C                    </span></td><td><span style=white-space:pre-wrap>p.Asp1066Asp           </span>         </td><td><span style=white-space:pre-wrap>T12_AB0_I0_REP3  </span>               </td><td>1.0000000                                                               </td><td>10                                                                      </td></tr>\n",
       "\t<tr><td>HAMBI_105                                                               </td><td>12                                                                      </td><td>128                                                                     </td><td>0                                                                       </td><td>1                                                                       </td><td>IDIPBEOP_1                                                              </td><td>1145270                                                                 </td><td><span style=white-space:pre-wrap>C      </span>                         </td><td><span style=white-space:pre-wrap>T      </span>                         </td><td><span style=white-space:pre-wrap>snp    </span>                         </td><td>synonymous_variant                                                      </td><td><span style=white-space:pre-wrap>LOW     </span>                        </td><td><span style=white-space:pre-wrap>tufA  </span>                          </td><td>IDIPBEOP_01165                                                          </td><td><span style=white-space:pre-wrap>c.510G&gt;A                     </span></td><td><span style=white-space:pre-wrap>p.Ala170Ala            </span>         </td><td>T12_AB128_I0_REP1                                                       </td><td>0.6666667                                                               </td><td>74                                                                      </td></tr>\n",
       "\t<tr><td>HAMBI_105                                                               </td><td>12                                                                      </td><td>128                                                                     </td><td>0                                                                       </td><td>1                                                                       </td><td>IDIPBEOP_19                                                             </td><td><span style=white-space:pre-wrap>   7480</span>                         </td><td><span style=white-space:pre-wrap>T      </span>                         </td><td><span style=white-space:pre-wrap>C      </span>                         </td><td><span style=white-space:pre-wrap>snp    </span>                         </td><td>synonymous_variant                                                      </td><td><span style=white-space:pre-wrap>LOW     </span>                        </td><td>cspA_6                                                                  </td><td>IDIPBEOP_05060                                                          </td><td><span style=white-space:pre-wrap>c.42T&gt;C                      </span></td><td><span style=white-space:pre-wrap>p.Gly14Gly             </span>         </td><td>T12_AB128_I0_REP1                                                       </td><td>0.9000000                                                               </td><td>74                                                                      </td></tr>\n",
       "\t<tr><td>HAMBI_105                    </td><td>12                           </td><td>128                          </td><td>0                            </td><td>1                            </td><td>IDIPBEOP_1                   </td><td>1145423                      </td><td>ACGGGCG                      </td><td>GCGAGCA                      </td><td>complex                      </td><td>synonymous_variant           </td><td>LOW                          </td><td>tufA                         </td><td>IDIPBEOP_01165               </td><td>c.351_357delCGCCCGTinsTGCTCGC</td><td>p.LeuAlaArg117LeuAlaArg      </td><td>T12_AB128_I0_REP1            </td><td>0.7692308                    </td><td>74                           </td></tr>\n",
       "</tbody>\n",
       "</table>\n"
      ],
      "text/latex": [
       "\\begin{tabular}{r|lllllllllllllllllll}\n",
       " SPECIES & TIME & AB & IM & REP & CHROM & POS & REF & ALT & TYPE & EFFECT & IMPACT & GENE & GENEID & HGVS\\_C & HGVS\\_P & SAMPLE & FREQUENCY & MEDIAN\\_COV\\\\\n",
       "\\hline\n",
       "\t HAMBI\\_105                     & 12                              &   0                             & 0                               & 3                               & IDIPBEOP\\_6                    &  237283                         & GC                              & TA                              & NA                              & synonymous\\_variant            & LOW                             & cya                             & IDIPBEOP\\_03748                & c.3171\\_3172delGCinsTA         & p.LeuArg1057LeuArg              & T12\\_AB0\\_I0\\_REP3           & 1.0000000                       & 10                             \\\\\n",
       "\t HAMBI\\_105                   & 12                            &   0                           & 0                             & 3                             & IDIPBEOP\\_6                  &  237300                       & T                             & C                             & snp                           & missense\\_variant            & MODERATE                      & cya                           & IDIPBEOP\\_03748              & c.3188T>C                     & p.Val1063Ala                  & T12\\_AB0\\_I0\\_REP3         & 1.0000000                     & 10                           \\\\\n",
       "\t HAMBI\\_105                   & 12                            &   0                           & 0                             & 3                             & IDIPBEOP\\_6                  &  237310                       & T                             & C                             & snp                           & synonymous\\_variant          & LOW                           & cya                           & IDIPBEOP\\_03748              & c.3198T>C                     & p.Asp1066Asp                  & T12\\_AB0\\_I0\\_REP3         & 1.0000000                     & 10                           \\\\\n",
       "\t HAMBI\\_105                   & 12                            & 128                           & 0                             & 1                             & IDIPBEOP\\_1                  & 1145270                       & C                             & T                             & snp                           & synonymous\\_variant          & LOW                           & tufA                          & IDIPBEOP\\_01165              & c.510G>A                      & p.Ala170Ala                   & T12\\_AB128\\_I0\\_REP1       & 0.6666667                     & 74                           \\\\\n",
       "\t HAMBI\\_105                   & 12                            & 128                           & 0                             & 1                             & IDIPBEOP\\_19                 &    7480                       & T                             & C                             & snp                           & synonymous\\_variant          & LOW                           & cspA\\_6                      & IDIPBEOP\\_05060              & c.42T>C                       & p.Gly14Gly                    & T12\\_AB128\\_I0\\_REP1       & 0.9000000                     & 74                           \\\\\n",
       "\t HAMBI\\_105                     & 12                              & 128                             & 0                               & 1                               & IDIPBEOP\\_1                    & 1145423                         & ACGGGCG                         & GCGAGCA                         & complex                         & synonymous\\_variant            & LOW                             & tufA                            & IDIPBEOP\\_01165                & c.351\\_357delCGCCCGTinsTGCTCGC & p.LeuAlaArg117LeuAlaArg         & T12\\_AB128\\_I0\\_REP1         & 0.7692308                       & 74                             \\\\\n",
       "\\end{tabular}\n"
      ],
      "text/markdown": [
       "\n",
       "SPECIES | TIME | AB | IM | REP | CHROM | POS | REF | ALT | TYPE | EFFECT | IMPACT | GENE | GENEID | HGVS_C | HGVS_P | SAMPLE | FREQUENCY | MEDIAN_COV | \n",
       "|---|---|---|---|---|---|\n",
       "| HAMBI_105                     | 12                            |   0                           | 0                             | 3                             | IDIPBEOP_6                    |  237283                       | GC                            | TA                            | NA                            | synonymous_variant            | LOW                           | cya                           | IDIPBEOP_03748                | c.3171_3172delGCinsTA         | p.LeuArg1057LeuArg            | T12_AB0_I0_REP3               | 1.0000000                     | 10                            | \n",
       "| HAMBI_105                     | 12                            |   0                           | 0                             | 3                             | IDIPBEOP_6                    |  237300                       | T                             | C                             | snp                           | missense_variant              | MODERATE                      | cya                           | IDIPBEOP_03748                | c.3188T>C                     | p.Val1063Ala                  | T12_AB0_I0_REP3               | 1.0000000                     | 10                            | \n",
       "| HAMBI_105                     | 12                            |   0                           | 0                             | 3                             | IDIPBEOP_6                    |  237310                       | T                             | C                             | snp                           | synonymous_variant            | LOW                           | cya                           | IDIPBEOP_03748                | c.3198T>C                     | p.Asp1066Asp                  | T12_AB0_I0_REP3               | 1.0000000                     | 10                            | \n",
       "| HAMBI_105                     | 12                            | 128                           | 0                             | 1                             | IDIPBEOP_1                    | 1145270                       | C                             | T                             | snp                           | synonymous_variant            | LOW                           | tufA                          | IDIPBEOP_01165                | c.510G>A                      | p.Ala170Ala                   | T12_AB128_I0_REP1             | 0.6666667                     | 74                            | \n",
       "| HAMBI_105                     | 12                            | 128                           | 0                             | 1                             | IDIPBEOP_19                   |    7480                       | T                             | C                             | snp                           | synonymous_variant            | LOW                           | cspA_6                        | IDIPBEOP_05060                | c.42T>C                       | p.Gly14Gly                    | T12_AB128_I0_REP1             | 0.9000000                     | 74                            | \n",
       "| HAMBI_105                     | 12                            | 128                           | 0                             | 1                             | IDIPBEOP_1                    | 1145423                       | ACGGGCG                       | GCGAGCA                       | complex                       | synonymous_variant            | LOW                           | tufA                          | IDIPBEOP_01165                | c.351_357delCGCCCGTinsTGCTCGC | p.LeuAlaArg117LeuAlaArg       | T12_AB128_I0_REP1             | 0.7692308                     | 74                            | \n",
       "\n",
       "\n"
      ],
      "text/plain": [
       "  SPECIES   TIME AB  IM REP CHROM       POS     REF     ALT     TYPE   \n",
       "1 HAMBI_105 12     0 0  3   IDIPBEOP_6   237283 GC      TA      NA     \n",
       "2 HAMBI_105 12     0 0  3   IDIPBEOP_6   237300 T       C       snp    \n",
       "3 HAMBI_105 12     0 0  3   IDIPBEOP_6   237310 T       C       snp    \n",
       "4 HAMBI_105 12   128 0  1   IDIPBEOP_1  1145270 C       T       snp    \n",
       "5 HAMBI_105 12   128 0  1   IDIPBEOP_19    7480 T       C       snp    \n",
       "6 HAMBI_105 12   128 0  1   IDIPBEOP_1  1145423 ACGGGCG GCGAGCA complex\n",
       "  EFFECT             IMPACT   GENE   GENEID        \n",
       "1 synonymous_variant LOW      cya    IDIPBEOP_03748\n",
       "2 missense_variant   MODERATE cya    IDIPBEOP_03748\n",
       "3 synonymous_variant LOW      cya    IDIPBEOP_03748\n",
       "4 synonymous_variant LOW      tufA   IDIPBEOP_01165\n",
       "5 synonymous_variant LOW      cspA_6 IDIPBEOP_05060\n",
       "6 synonymous_variant LOW      tufA   IDIPBEOP_01165\n",
       "  HGVS_C                        HGVS_P                  SAMPLE           \n",
       "1 c.3171_3172delGCinsTA         p.LeuArg1057LeuArg      T12_AB0_I0_REP3  \n",
       "2 c.3188T>C                     p.Val1063Ala            T12_AB0_I0_REP3  \n",
       "3 c.3198T>C                     p.Asp1066Asp            T12_AB0_I0_REP3  \n",
       "4 c.510G>A                      p.Ala170Ala             T12_AB128_I0_REP1\n",
       "5 c.42T>C                       p.Gly14Gly              T12_AB128_I0_REP1\n",
       "6 c.351_357delCGCCCGTinsTGCTCGC p.LeuAlaArg117LeuAlaArg T12_AB128_I0_REP1\n",
       "  FREQUENCY MEDIAN_COV\n",
       "1 1.0000000 10        \n",
       "2 1.0000000 10        \n",
       "3 1.0000000 10        \n",
       "4 0.6666667 74        \n",
       "5 0.9000000 74        \n",
       "6 0.7692308 74        "
      ]
     },
     "metadata": {},
     "output_type": "display_data"
    }
   ],
   "source": [
    "# Add median genome coverage data per strain\n",
    "\n",
    "# Read in data\n",
    "\n",
    "deep_seq_comb = read.table('../../data/deep_seq/median_coverage_per_1kb_window.txt', \n",
    "                           header = T, \n",
    "                           sep = '\\t', \n",
    "                           check.names = F)\n",
    "\n",
    "# Reformat\n",
    "\n",
    "deep_seq_comb$TIME = gsub(\"_AB.*\", \"\", deep_seq_comb$sample)\n",
    "deep_seq_comb$TIME = as.numeric(gsub(\"T\", \"\", deep_seq_comb$TIME))\n",
    "deep_seq_comb$AB = gsub(\".*_AB\", \"\", deep_seq_comb$sample)\n",
    "deep_seq_comb$AB = as.numeric(gsub(\"_I.*\", \"\", deep_seq_comb$AB))\n",
    "deep_seq_comb$IM = gsub(\".*_I\", \"\", deep_seq_comb$sample)\n",
    "deep_seq_comb$IM = as.factor(as.character(gsub(\"_REP.*\", \"\", deep_seq_comb$IM)))\n",
    "deep_seq_comb$REP = gsub(\".*_REP\", \"\", deep_seq_comb$sample)\n",
    "deep_seq_comb$SPECIES = paste(\"HAMBI\", deep_seq_comb$strain, sep = \"_\")\n",
    "deep_seq_comb = deep_seq_comb[,-c(1:2)]\n",
    "colnames(deep_seq_comb) = c(\"MEDIAN_COV\",\n",
    "                            \"TIME\",\n",
    "                            \"AB\",\n",
    "                            \"IM\",\n",
    "                            \"REP\",\n",
    "                            \"SPECIES\")\n",
    "\n",
    "# Extract only those species with variant data\n",
    "\n",
    "deep_seq_comb = deep_seq_comb[deep_seq_comb$SPECIES %in% variants2$SPECIES,]\n",
    "\n",
    "# Add coverage data to variant data table\n",
    "\n",
    "variants3 = merge(variants2, deep_seq_comb)\n",
    "head(variants3)"
   ]
  },
  {
   "cell_type": "code",
   "execution_count": 54,
   "metadata": {},
   "outputs": [
    {
     "data": {
      "text/html": [
       "<table>\n",
       "<thead><tr><th scope=col>SPECIES</th><th scope=col>TIME</th><th scope=col>AB</th><th scope=col>IM</th><th scope=col>REP</th><th scope=col>CHROM</th><th scope=col>POS</th><th scope=col>REF</th><th scope=col>ALT</th><th scope=col>TYPE</th><th scope=col>EFFECT</th><th scope=col>IMPACT</th><th scope=col>GENE</th><th scope=col>GENEID</th><th scope=col>HGVS_C</th><th scope=col>HGVS_P</th><th scope=col>SAMPLE</th><th scope=col>FREQUENCY</th><th scope=col>MEDIAN_COV</th><th scope=col>AMPLICON_READS</th></tr></thead>\n",
       "<tbody>\n",
       "\t<tr><td>HAMBI_105            </td><td>8                    </td><td>0                    </td><td>0                    </td><td>3                    </td><td>IDIPBEOP_6           </td><td>237283               </td><td>GC                   </td><td>TA                   </td><td>NA                   </td><td>synonymous_variant   </td><td>LOW                  </td><td>cya                  </td><td>IDIPBEOP_03748       </td><td>c.3171_3172delGCinsTA</td><td>p.LeuArg1057LeuArg   </td><td>T8_AB0_I0_REP3       </td><td>0.8181818            </td><td>14                   </td><td> 7                   </td></tr>\n",
       "\t<tr><td>HAMBI_105                                                       </td><td>8                                                               </td><td>0                                                               </td><td>0                                                               </td><td>3                                                               </td><td>IDIPBEOP_6                                                      </td><td>237300                                                          </td><td>T                                                               </td><td>C                                                               </td><td>snp                                                             </td><td><span style=white-space:pre-wrap>missense_variant  </span>      </td><td>MODERATE                                                        </td><td>cya                                                             </td><td>IDIPBEOP_03748                                                  </td><td><span style=white-space:pre-wrap>c.3188T&gt;C            </span></td><td><span style=white-space:pre-wrap>p.Val1063Ala      </span>      </td><td>T8_AB0_I0_REP3                                                  </td><td>0.8181818                                                       </td><td>14                                                              </td><td> 7                                                              </td></tr>\n",
       "\t<tr><td>HAMBI_105                                                       </td><td>8                                                               </td><td>0                                                               </td><td>0                                                               </td><td>3                                                               </td><td>IDIPBEOP_6                                                      </td><td>237310                                                          </td><td>T                                                               </td><td>C                                                               </td><td>snp                                                             </td><td>synonymous_variant                                              </td><td><span style=white-space:pre-wrap>LOW     </span>                </td><td>cya                                                             </td><td>IDIPBEOP_03748                                                  </td><td><span style=white-space:pre-wrap>c.3198T&gt;C            </span></td><td><span style=white-space:pre-wrap>p.Asp1066Asp      </span>      </td><td>T8_AB0_I0_REP3                                                  </td><td>0.8000000                                                       </td><td>14                                                              </td><td> 7                                                              </td></tr>\n",
       "\t<tr><td>HAMBI_105            </td><td>8                    </td><td>4                    </td><td>0                    </td><td>1                    </td><td>IDIPBEOP_6           </td><td>237283               </td><td>GC                   </td><td>TA                   </td><td>NA                   </td><td>synonymous_variant   </td><td>LOW                  </td><td>cya                  </td><td>IDIPBEOP_03748       </td><td>c.3171_3172delGCinsTA</td><td>p.LeuArg1057LeuArg   </td><td>T8_AB4_I0_REP1       </td><td>0.4285714            </td><td>15                   </td><td> 5                   </td></tr>\n",
       "\t<tr><td>HAMBI_105                                                       </td><td>8                                                               </td><td>4                                                               </td><td>0                                                               </td><td>2                                                               </td><td>IDIPBEOP_6                                                      </td><td>236246                                                          </td><td>A                                                               </td><td>G                                                               </td><td>snp                                                             </td><td><span style=white-space:pre-wrap>missense_variant  </span>      </td><td>MODERATE                                                        </td><td>cya                                                             </td><td>IDIPBEOP_03748                                                  </td><td><span style=white-space:pre-wrap>c.2134A&gt;G            </span></td><td><span style=white-space:pre-wrap>p.Ile712Val       </span>      </td><td>T8_AB4_I0_REP2                                                  </td><td>0.5000000                                                       </td><td>20                                                              </td><td> 4                                                              </td></tr>\n",
       "\t<tr><td>HAMBI_105                                                       </td><td>8                                                               </td><td>4                                                               </td><td>1                                                               </td><td>1                                                               </td><td>IDIPBEOP_6                                                      </td><td>237300                                                          </td><td>T                                                               </td><td>C                                                               </td><td>snp                                                             </td><td><span style=white-space:pre-wrap>missense_variant  </span>      </td><td>MODERATE                                                        </td><td>cya                                                             </td><td>IDIPBEOP_03748                                                  </td><td><span style=white-space:pre-wrap>c.3188T&gt;C            </span></td><td><span style=white-space:pre-wrap>p.Val1063Ala      </span>      </td><td>T8_AB4_I1_REP1                                                  </td><td>0.7500000                                                       </td><td>18                                                              </td><td>11                                                              </td></tr>\n",
       "</tbody>\n",
       "</table>\n"
      ],
      "text/latex": [
       "\\begin{tabular}{r|llllllllllllllllllll}\n",
       " SPECIES & TIME & AB & IM & REP & CHROM & POS & REF & ALT & TYPE & EFFECT & IMPACT & GENE & GENEID & HGVS\\_C & HGVS\\_P & SAMPLE & FREQUENCY & MEDIAN\\_COV & AMPLICON\\_READS\\\\\n",
       "\\hline\n",
       "\t HAMBI\\_105             & 8                       & 0                       & 0                       & 3                       & IDIPBEOP\\_6            & 237283                  & GC                      & TA                      & NA                      & synonymous\\_variant    & LOW                     & cya                     & IDIPBEOP\\_03748        & c.3171\\_3172delGCinsTA & p.LeuArg1057LeuArg      & T8\\_AB0\\_I0\\_REP3    & 0.8181818               & 14                      &  7                     \\\\\n",
       "\t HAMBI\\_105           & 8                     & 0                     & 0                     & 3                     & IDIPBEOP\\_6          & 237300                & T                     & C                     & snp                   & missense\\_variant    & MODERATE              & cya                   & IDIPBEOP\\_03748      & c.3188T>C             & p.Val1063Ala          & T8\\_AB0\\_I0\\_REP3  & 0.8181818             & 14                    &  7                   \\\\\n",
       "\t HAMBI\\_105           & 8                     & 0                     & 0                     & 3                     & IDIPBEOP\\_6          & 237310                & T                     & C                     & snp                   & synonymous\\_variant  & LOW                   & cya                   & IDIPBEOP\\_03748      & c.3198T>C             & p.Asp1066Asp          & T8\\_AB0\\_I0\\_REP3  & 0.8000000             & 14                    &  7                   \\\\\n",
       "\t HAMBI\\_105             & 8                       & 4                       & 0                       & 1                       & IDIPBEOP\\_6            & 237283                  & GC                      & TA                      & NA                      & synonymous\\_variant    & LOW                     & cya                     & IDIPBEOP\\_03748        & c.3171\\_3172delGCinsTA & p.LeuArg1057LeuArg      & T8\\_AB4\\_I0\\_REP1    & 0.4285714               & 15                      &  5                     \\\\\n",
       "\t HAMBI\\_105           & 8                     & 4                     & 0                     & 2                     & IDIPBEOP\\_6          & 236246                & A                     & G                     & snp                   & missense\\_variant    & MODERATE              & cya                   & IDIPBEOP\\_03748      & c.2134A>G             & p.Ile712Val           & T8\\_AB4\\_I0\\_REP2  & 0.5000000             & 20                    &  4                   \\\\\n",
       "\t HAMBI\\_105           & 8                     & 4                     & 1                     & 1                     & IDIPBEOP\\_6          & 237300                & T                     & C                     & snp                   & missense\\_variant    & MODERATE              & cya                   & IDIPBEOP\\_03748      & c.3188T>C             & p.Val1063Ala          & T8\\_AB4\\_I1\\_REP1  & 0.7500000             & 18                    & 11                   \\\\\n",
       "\\end{tabular}\n"
      ],
      "text/markdown": [
       "\n",
       "SPECIES | TIME | AB | IM | REP | CHROM | POS | REF | ALT | TYPE | EFFECT | IMPACT | GENE | GENEID | HGVS_C | HGVS_P | SAMPLE | FREQUENCY | MEDIAN_COV | AMPLICON_READS | \n",
       "|---|---|---|---|---|---|\n",
       "| HAMBI_105             | 8                     | 0                     | 0                     | 3                     | IDIPBEOP_6            | 237283                | GC                    | TA                    | NA                    | synonymous_variant    | LOW                   | cya                   | IDIPBEOP_03748        | c.3171_3172delGCinsTA | p.LeuArg1057LeuArg    | T8_AB0_I0_REP3        | 0.8181818             | 14                    |  7                    | \n",
       "| HAMBI_105             | 8                     | 0                     | 0                     | 3                     | IDIPBEOP_6            | 237300                | T                     | C                     | snp                   | missense_variant      | MODERATE              | cya                   | IDIPBEOP_03748        | c.3188T>C             | p.Val1063Ala          | T8_AB0_I0_REP3        | 0.8181818             | 14                    |  7                    | \n",
       "| HAMBI_105             | 8                     | 0                     | 0                     | 3                     | IDIPBEOP_6            | 237310                | T                     | C                     | snp                   | synonymous_variant    | LOW                   | cya                   | IDIPBEOP_03748        | c.3198T>C             | p.Asp1066Asp          | T8_AB0_I0_REP3        | 0.8000000             | 14                    |  7                    | \n",
       "| HAMBI_105             | 8                     | 4                     | 0                     | 1                     | IDIPBEOP_6            | 237283                | GC                    | TA                    | NA                    | synonymous_variant    | LOW                   | cya                   | IDIPBEOP_03748        | c.3171_3172delGCinsTA | p.LeuArg1057LeuArg    | T8_AB4_I0_REP1        | 0.4285714             | 15                    |  5                    | \n",
       "| HAMBI_105             | 8                     | 4                     | 0                     | 2                     | IDIPBEOP_6            | 236246                | A                     | G                     | snp                   | missense_variant      | MODERATE              | cya                   | IDIPBEOP_03748        | c.2134A>G             | p.Ile712Val           | T8_AB4_I0_REP2        | 0.5000000             | 20                    |  4                    | \n",
       "| HAMBI_105             | 8                     | 4                     | 1                     | 1                     | IDIPBEOP_6            | 237300                | T                     | C                     | snp                   | missense_variant      | MODERATE              | cya                   | IDIPBEOP_03748        | c.3188T>C             | p.Val1063Ala          | T8_AB4_I1_REP1        | 0.7500000             | 18                    | 11                    | \n",
       "\n",
       "\n"
      ],
      "text/plain": [
       "  SPECIES   TIME AB IM REP CHROM      POS    REF ALT TYPE EFFECT            \n",
       "1 HAMBI_105 8    0  0  3   IDIPBEOP_6 237283 GC  TA  NA   synonymous_variant\n",
       "2 HAMBI_105 8    0  0  3   IDIPBEOP_6 237300 T   C   snp  missense_variant  \n",
       "3 HAMBI_105 8    0  0  3   IDIPBEOP_6 237310 T   C   snp  synonymous_variant\n",
       "4 HAMBI_105 8    4  0  1   IDIPBEOP_6 237283 GC  TA  NA   synonymous_variant\n",
       "5 HAMBI_105 8    4  0  2   IDIPBEOP_6 236246 A   G   snp  missense_variant  \n",
       "6 HAMBI_105 8    4  1  1   IDIPBEOP_6 237300 T   C   snp  missense_variant  \n",
       "  IMPACT   GENE GENEID         HGVS_C                HGVS_P            \n",
       "1 LOW      cya  IDIPBEOP_03748 c.3171_3172delGCinsTA p.LeuArg1057LeuArg\n",
       "2 MODERATE cya  IDIPBEOP_03748 c.3188T>C             p.Val1063Ala      \n",
       "3 LOW      cya  IDIPBEOP_03748 c.3198T>C             p.Asp1066Asp      \n",
       "4 LOW      cya  IDIPBEOP_03748 c.3171_3172delGCinsTA p.LeuArg1057LeuArg\n",
       "5 MODERATE cya  IDIPBEOP_03748 c.2134A>G             p.Ile712Val       \n",
       "6 MODERATE cya  IDIPBEOP_03748 c.3188T>C             p.Val1063Ala      \n",
       "  SAMPLE         FREQUENCY MEDIAN_COV AMPLICON_READS\n",
       "1 T8_AB0_I0_REP3 0.8181818 14          7            \n",
       "2 T8_AB0_I0_REP3 0.8181818 14          7            \n",
       "3 T8_AB0_I0_REP3 0.8000000 14          7            \n",
       "4 T8_AB4_I0_REP1 0.4285714 15          5            \n",
       "5 T8_AB4_I0_REP2 0.5000000 20          4            \n",
       "6 T8_AB4_I1_REP1 0.7500000 18         11            "
      ]
     },
     "metadata": {},
     "output_type": "display_data"
    }
   ],
   "source": [
    "# Add species abundance data (normalized to 15k reads) based on 16S rRNA gene amplicon analysis\n",
    "\n",
    "# Read in data\n",
    "\n",
    "amplicon_data = read.table('../../data/amplicon/species_abundance.txt', \n",
    "                           header = T, \n",
    "                           sep = '\\t', \n",
    "                           check.names = F)\n",
    "\n",
    "# Reformat\n",
    "\n",
    "amplicon_data = melt(amplicon_data, id.vars = \"species\")\n",
    "colnames(amplicon_data) = c(\"SPECIES\", \"SAMPLE\", \"AMPLICON_READS\")\n",
    "amplicon_data$TIME = gsub(\"_AB.*\", \"\", amplicon_data$SAMPLE)\n",
    "amplicon_data$TIME = as.numeric(gsub(\"T\", \"\", amplicon_data$TIME))\n",
    "amplicon_data$AB = gsub(\".*_AB\", \"\", amplicon_data$SAMPLE)\n",
    "amplicon_data$AB = as.numeric(gsub(\"_I.*\", \"\", amplicon_data$AB))\n",
    "amplicon_data$IM = gsub(\".*_I\", \"\", amplicon_data$SAMPLE)\n",
    "amplicon_data$IM = as.factor(as.character(gsub(\"_REP.*\", \"\", amplicon_data$IM)))\n",
    "amplicon_data$REP = gsub(\".*_REP\", \"\", amplicon_data$SAMPLE)\n",
    "amplicon_data$REP = as.factor(as.character(gsub(\"_all\", \"\", amplicon_data$REP)))\n",
    "amplicon_data$SPECIES = paste(\"HAMBI\", amplicon_data$SPECIES, sep = \"_\")\n",
    "amplicon_data = amplicon_data[,-2]\n",
    "\n",
    "# Extract only those species with variant data\n",
    "\n",
    "amplicon_data = amplicon_data[amplicon_data$SPECIES %in% variants3$SPECIES,]\n",
    "\n",
    "# Add amplicon data to variant data table\n",
    "\n",
    "variants4 = merge(variants3, amplicon_data, all.x = T)\n",
    "head(variants4)"
   ]
  },
  {
   "cell_type": "code",
   "execution_count": 51,
   "metadata": {},
   "outputs": [
    {
     "data": {
      "text/html": [
       "<ol class=list-inline>\n",
       "\t<li>synonymous_variant</li>\n",
       "\t<li>missense_variant</li>\n",
       "\t<li>upstream_gene_variant</li>\n",
       "\t<li>intragenic_variant</li>\n",
       "\t<li>intergenic_region</li>\n",
       "\t<li>downstream_gene_variant</li>\n",
       "\t<li>disruptive_inframe_insertion</li>\n",
       "\t<li>frameshift_variant&amp;missense_variant</li>\n",
       "\t<li>frameshift_variant</li>\n",
       "\t<li>stop_gained</li>\n",
       "\t<li>splice_region_variant&amp;stop_retained_variant</li>\n",
       "\t<li>stop_lost&amp;splice_region_variant</li>\n",
       "\t<li>conservative_inframe_insertion</li>\n",
       "\t<li>start_lost</li>\n",
       "\t<li>initiator_codon_variant</li>\n",
       "</ol>\n",
       "\n",
       "<details>\n",
       "\t<summary style=display:list-item;cursor:pointer>\n",
       "\t\t<strong>Levels</strong>:\n",
       "\t</summary>\n",
       "\t<ol class=list-inline>\n",
       "\t\t<li>'missense_variant'</li>\n",
       "\t\t<li>'synonymous_variant'</li>\n",
       "\t\t<li>'upstream_gene_variant'</li>\n",
       "\t\t<li>'downstream_gene_variant'</li>\n",
       "\t\t<li>'intergenic_region'</li>\n",
       "\t\t<li>'intragenic_variant'</li>\n",
       "\t\t<li>'conservative_inframe_deletion'</li>\n",
       "\t\t<li>'conservative_inframe_insertion'</li>\n",
       "\t\t<li>'frameshift_variant'</li>\n",
       "\t\t<li>'disruptive_inframe_insertion'</li>\n",
       "\t\t<li>'feature_elongation'</li>\n",
       "\t\t<li>'frameshift_variant&amp;missense_variant'</li>\n",
       "\t\t<li>'frameshift_variant&amp;splice_region_variant'</li>\n",
       "\t\t<li>'splice_region_variant&amp;stop_retained_variant'</li>\n",
       "\t\t<li>'stop_lost&amp;splice_region_variant'</li>\n",
       "\t\t<li>'stop_gained'</li>\n",
       "\t\t<li>'initiator_codon_variant'</li>\n",
       "\t\t<li>'start_lost'</li>\n",
       "\t\t<li>'disruptive_inframe_deletion'</li>\n",
       "\t\t<li>'frameshift_variant&amp;start_lost'</li>\n",
       "\t\t<li>'frameshift_variant&amp;stop_gained'</li>\n",
       "\t\t<li>'frameshift_variant&amp;stop_lost&amp;splice_region_variant'</li>\n",
       "\t\t<li>'frameshift_variant&amp;stop_lost&amp;splice_region_variant&amp;stop_retained_variant'</li>\n",
       "\t\t<li>'frameshift_variant&amp;stop_lost&amp;splice_region_variant&amp;synonymous_variant'</li>\n",
       "\t\t<li>'frameshift_variant&amp;stop_lost&amp;stop_retained_variant&amp;splice_region_variant'</li>\n",
       "\t\t<li>'frameshift_variant&amp;stop_retained_variant&amp;splice_region_variant'</li>\n",
       "\t\t<li>'frameshift_variant&amp;synonymous_variant'</li>\n",
       "\t\t<li>'initiator_codon_variant&amp;non_canonical_start_codon'</li>\n",
       "\t\t<li>'missense_variant&amp;conservative_inframe_deletion'</li>\n",
       "\t\t<li>'missense_variant&amp;conservative_inframe_insertion'</li>\n",
       "\t\t<li>'missense_variant&amp;disruptive_inframe_deletion'</li>\n",
       "\t\t<li>'missense_variant&amp;disruptive_inframe_insertion'</li>\n",
       "\t\t<li>'splice_region_variant&amp;disruptive_inframe_insertion'</li>\n",
       "\t\t<li>'start_lost&amp;intron_variant'</li>\n",
       "\t\t<li>'stop_lost&amp;splice_region_variant&amp;stop_retained_variant&amp;intron_variant'</li>\n",
       "\t\t<li>'stop_retained_variant&amp;splice_region_variant'</li>\n",
       "\t\t<li>'stop_retained_variant&amp;splice_region_variant&amp;conservative_inframe_insertion'</li>\n",
       "\t\t<li>'stop_retained_variant&amp;splice_region_variant&amp;intron_variant'</li>\n",
       "\t\t<li>'synonymous_variant&amp;conservative_inframe_deletion'</li>\n",
       "\t\t<li>'synonymous_variant&amp;conservative_inframe_insertion'</li>\n",
       "\t\t<li>'synonymous_variant&amp;disruptive_inframe_deletion'</li>\n",
       "\t\t<li>'synonymous_variant&amp;disruptive_inframe_insertion'</li>\n",
       "\t</ol>\n",
       "</details>"
      ],
      "text/latex": [
       "\\begin{enumerate*}\n",
       "\\item synonymous\\_variant\n",
       "\\item missense\\_variant\n",
       "\\item upstream\\_gene\\_variant\n",
       "\\item intragenic\\_variant\n",
       "\\item intergenic\\_region\n",
       "\\item downstream\\_gene\\_variant\n",
       "\\item disruptive\\_inframe\\_insertion\n",
       "\\item frameshift\\_variant\\&missense\\_variant\n",
       "\\item frameshift\\_variant\n",
       "\\item stop\\_gained\n",
       "\\item splice\\_region\\_variant\\&stop\\_retained\\_variant\n",
       "\\item stop\\_lost\\&splice\\_region\\_variant\n",
       "\\item conservative\\_inframe\\_insertion\n",
       "\\item start\\_lost\n",
       "\\item initiator\\_codon\\_variant\n",
       "\\end{enumerate*}\n",
       "\n",
       "\\emph{Levels}: \\begin{enumerate*}\n",
       "\\item 'missense\\_variant'\n",
       "\\item 'synonymous\\_variant'\n",
       "\\item 'upstream\\_gene\\_variant'\n",
       "\\item 'downstream\\_gene\\_variant'\n",
       "\\item 'intergenic\\_region'\n",
       "\\item 'intragenic\\_variant'\n",
       "\\item 'conservative\\_inframe\\_deletion'\n",
       "\\item 'conservative\\_inframe\\_insertion'\n",
       "\\item 'frameshift\\_variant'\n",
       "\\item 'disruptive\\_inframe\\_insertion'\n",
       "\\item 'feature\\_elongation'\n",
       "\\item 'frameshift\\_variant\\&missense\\_variant'\n",
       "\\item 'frameshift\\_variant\\&splice\\_region\\_variant'\n",
       "\\item 'splice\\_region\\_variant\\&stop\\_retained\\_variant'\n",
       "\\item 'stop\\_lost\\&splice\\_region\\_variant'\n",
       "\\item 'stop\\_gained'\n",
       "\\item 'initiator\\_codon\\_variant'\n",
       "\\item 'start\\_lost'\n",
       "\\item 'disruptive\\_inframe\\_deletion'\n",
       "\\item 'frameshift\\_variant\\&start\\_lost'\n",
       "\\item 'frameshift\\_variant\\&stop\\_gained'\n",
       "\\item 'frameshift\\_variant\\&stop\\_lost\\&splice\\_region\\_variant'\n",
       "\\item 'frameshift\\_variant\\&stop\\_lost\\&splice\\_region\\_variant\\&stop\\_retained\\_variant'\n",
       "\\item 'frameshift\\_variant\\&stop\\_lost\\&splice\\_region\\_variant\\&synonymous\\_variant'\n",
       "\\item 'frameshift\\_variant\\&stop\\_lost\\&stop\\_retained\\_variant\\&splice\\_region\\_variant'\n",
       "\\item 'frameshift\\_variant\\&stop\\_retained\\_variant\\&splice\\_region\\_variant'\n",
       "\\item 'frameshift\\_variant\\&synonymous\\_variant'\n",
       "\\item 'initiator\\_codon\\_variant\\&non\\_canonical\\_start\\_codon'\n",
       "\\item 'missense\\_variant\\&conservative\\_inframe\\_deletion'\n",
       "\\item 'missense\\_variant\\&conservative\\_inframe\\_insertion'\n",
       "\\item 'missense\\_variant\\&disruptive\\_inframe\\_deletion'\n",
       "\\item 'missense\\_variant\\&disruptive\\_inframe\\_insertion'\n",
       "\\item 'splice\\_region\\_variant\\&disruptive\\_inframe\\_insertion'\n",
       "\\item 'start\\_lost\\&intron\\_variant'\n",
       "\\item 'stop\\_lost\\&splice\\_region\\_variant\\&stop\\_retained\\_variant\\&intron\\_variant'\n",
       "\\item 'stop\\_retained\\_variant\\&splice\\_region\\_variant'\n",
       "\\item 'stop\\_retained\\_variant\\&splice\\_region\\_variant\\&conservative\\_inframe\\_insertion'\n",
       "\\item 'stop\\_retained\\_variant\\&splice\\_region\\_variant\\&intron\\_variant'\n",
       "\\item 'synonymous\\_variant\\&conservative\\_inframe\\_deletion'\n",
       "\\item 'synonymous\\_variant\\&conservative\\_inframe\\_insertion'\n",
       "\\item 'synonymous\\_variant\\&disruptive\\_inframe\\_deletion'\n",
       "\\item 'synonymous\\_variant\\&disruptive\\_inframe\\_insertion'\n",
       "\\end{enumerate*}\n"
      ],
      "text/markdown": [
       "1. synonymous_variant\n",
       "2. missense_variant\n",
       "3. upstream_gene_variant\n",
       "4. intragenic_variant\n",
       "5. intergenic_region\n",
       "6. downstream_gene_variant\n",
       "7. disruptive_inframe_insertion\n",
       "8. frameshift_variant&amp;missense_variant\n",
       "9. frameshift_variant\n",
       "10. stop_gained\n",
       "11. splice_region_variant&amp;stop_retained_variant\n",
       "12. stop_lost&amp;splice_region_variant\n",
       "13. conservative_inframe_insertion\n",
       "14. start_lost\n",
       "15. initiator_codon_variant\n",
       "\n",
       "\n",
       "\n",
       "**Levels**: 1. 'missense_variant'\n",
       "2. 'synonymous_variant'\n",
       "3. 'upstream_gene_variant'\n",
       "4. 'downstream_gene_variant'\n",
       "5. 'intergenic_region'\n",
       "6. 'intragenic_variant'\n",
       "7. 'conservative_inframe_deletion'\n",
       "8. 'conservative_inframe_insertion'\n",
       "9. 'frameshift_variant'\n",
       "10. 'disruptive_inframe_insertion'\n",
       "11. 'feature_elongation'\n",
       "12. 'frameshift_variant&amp;missense_variant'\n",
       "13. 'frameshift_variant&amp;splice_region_variant'\n",
       "14. 'splice_region_variant&amp;stop_retained_variant'\n",
       "15. 'stop_lost&amp;splice_region_variant'\n",
       "16. 'stop_gained'\n",
       "17. 'initiator_codon_variant'\n",
       "18. 'start_lost'\n",
       "19. 'disruptive_inframe_deletion'\n",
       "20. 'frameshift_variant&amp;start_lost'\n",
       "21. 'frameshift_variant&amp;stop_gained'\n",
       "22. 'frameshift_variant&amp;stop_lost&amp;splice_region_variant'\n",
       "23. 'frameshift_variant&amp;stop_lost&amp;splice_region_variant&amp;stop_retained_variant'\n",
       "24. 'frameshift_variant&amp;stop_lost&amp;splice_region_variant&amp;synonymous_variant'\n",
       "25. 'frameshift_variant&amp;stop_lost&amp;stop_retained_variant&amp;splice_region_variant'\n",
       "26. 'frameshift_variant&amp;stop_retained_variant&amp;splice_region_variant'\n",
       "27. 'frameshift_variant&amp;synonymous_variant'\n",
       "28. 'initiator_codon_variant&amp;non_canonical_start_codon'\n",
       "29. 'missense_variant&amp;conservative_inframe_deletion'\n",
       "30. 'missense_variant&amp;conservative_inframe_insertion'\n",
       "31. 'missense_variant&amp;disruptive_inframe_deletion'\n",
       "32. 'missense_variant&amp;disruptive_inframe_insertion'\n",
       "33. 'splice_region_variant&amp;disruptive_inframe_insertion'\n",
       "34. 'start_lost&amp;intron_variant'\n",
       "35. 'stop_lost&amp;splice_region_variant&amp;stop_retained_variant&amp;intron_variant'\n",
       "36. 'stop_retained_variant&amp;splice_region_variant'\n",
       "37. 'stop_retained_variant&amp;splice_region_variant&amp;conservative_inframe_insertion'\n",
       "38. 'stop_retained_variant&amp;splice_region_variant&amp;intron_variant'\n",
       "39. 'synonymous_variant&amp;conservative_inframe_deletion'\n",
       "40. 'synonymous_variant&amp;conservative_inframe_insertion'\n",
       "41. 'synonymous_variant&amp;disruptive_inframe_deletion'\n",
       "42. 'synonymous_variant&amp;disruptive_inframe_insertion'\n",
       "\n",
       "\n"
      ],
      "text/plain": [
       " [1] synonymous_variant                         \n",
       " [2] missense_variant                           \n",
       " [3] upstream_gene_variant                      \n",
       " [4] intragenic_variant                         \n",
       " [5] intergenic_region                          \n",
       " [6] downstream_gene_variant                    \n",
       " [7] disruptive_inframe_insertion               \n",
       " [8] frameshift_variant&missense_variant        \n",
       " [9] frameshift_variant                         \n",
       "[10] stop_gained                                \n",
       "[11] splice_region_variant&stop_retained_variant\n",
       "[12] stop_lost&splice_region_variant            \n",
       "[13] conservative_inframe_insertion             \n",
       "[14] start_lost                                 \n",
       "[15] initiator_codon_variant                    \n",
       "42 Levels: missense_variant synonymous_variant ... synonymous_variant&disruptive_inframe_insertion"
      ]
     },
     "metadata": {},
     "output_type": "display_data"
    }
   ],
   "source": [
    "# Inspect variant effects\n",
    "\n",
    "unique(variants4$EFFECT)"
   ]
  },
  {
   "cell_type": "code",
   "execution_count": 55,
   "metadata": {},
   "outputs": [
    {
     "data": {
      "text/html": [
       "<ol class=list-inline>\n",
       "\t<li>'synonymous'</li>\n",
       "\t<li>'nonsynonymous'</li>\n",
       "\t<li>'noncoding'</li>\n",
       "</ol>\n"
      ],
      "text/latex": [
       "\\begin{enumerate*}\n",
       "\\item 'synonymous'\n",
       "\\item 'nonsynonymous'\n",
       "\\item 'noncoding'\n",
       "\\end{enumerate*}\n"
      ],
      "text/markdown": [
       "1. 'synonymous'\n",
       "2. 'nonsynonymous'\n",
       "3. 'noncoding'\n",
       "\n",
       "\n"
      ],
      "text/plain": [
       "[1] \"synonymous\"    \"nonsynonymous\" \"noncoding\"    "
      ]
     },
     "metadata": {},
     "output_type": "display_data"
    }
   ],
   "source": [
    "# Add reduced variant effect categories (synonymous, nonsynonymous or noncoding)\n",
    "\n",
    "variants4$EFFECT = as.factor(as.character(variants4$EFFECT))\n",
    "variants4$EFFECT_CAT = NA\n",
    "variants4$EFFECT_CAT = ifelse(grepl(\"synonymous_variant\", variants4$EFFECT), \"synonymous\", variants4$EFFECT_CAT)\n",
    "variants4$EFFECT_CAT = ifelse(grepl(\"missense_variant\", variants4$EFFECT), \"nonsynonymous\", variants4$EFFECT_CAT)\n",
    "variants4$EFFECT_CAT = ifelse(grepl(\"upstream_gene_variant\", variants4$EFFECT), \"noncoding\", variants4$EFFECT_CAT)\n",
    "variants4$EFFECT_CAT = ifelse(grepl(\"intragenic_variant\", variants4$EFFECT), \"noncoding\", variants4$EFFECT_CAT)\n",
    "variants4$EFFECT_CAT = ifelse(grepl(\"intergenic_region\", variants4$EFFECT), \"noncoding\", variants4$EFFECT_CAT)\n",
    "variants4$EFFECT_CAT = ifelse(grepl(\"downstream_gene_variant\", variants4$EFFECT), \"noncoding\", variants4$EFFECT_CAT)\n",
    "variants4$EFFECT_CAT = ifelse(grepl(\"disruptive_inframe_insertion\", variants4$EFFECT), \"nonsynonymous\", variants4$EFFECT_CAT)\n",
    "variants4$EFFECT_CAT = ifelse(grepl(\"frameshift_variant&missense_variant\", variants4$EFFECT), \"nonsynonymous\", variants4$EFFECT_CAT)\n",
    "variants4$EFFECT_CAT = ifelse(grepl(\"frameshift_variant\", variants4$EFFECT), \"nonsynonymous\", variants4$EFFECT_CAT)\n",
    "variants4$EFFECT_CAT = ifelse(grepl(\"stop_gained\", variants4$EFFECT), \"nonsynonymous\", variants4$EFFECT_CAT)\n",
    "variants4$EFFECT_CAT = ifelse(grepl(\"splice_region_variant&stop_retained_variant\", variants4$EFFECT), \"synonymous\", variants4$EFFECT_CAT)\n",
    "variants4$EFFECT_CAT = ifelse(grepl(\"stop_lost&splice_region_variant\", variants4$EFFECT), \"nonsynonymous\", variants4$EFFECT_CAT)\n",
    "variants4$EFFECT_CAT = ifelse(grepl(\"conservative_inframe_insertion\", variants4$EFFECT), \"synonymous\", variants4$EFFECT_CAT)\n",
    "variants4$EFFECT_CAT = ifelse(grepl(\"start_lost\", variants4$EFFECT), \"nonsynonymous\", variants4$EFFECT_CAT)\n",
    "variants4$EFFECT_CAT = ifelse(grepl(\"initiator_codon_variant\", variants4$EFFECT), \"nonsynonymous\", variants4$EFFECT_CAT)\n",
    "unique(variants4$EFFECT_CAT)"
   ]
  },
  {
   "cell_type": "code",
   "execution_count": 56,
   "metadata": {},
   "outputs": [
    {
     "data": {
      "text/html": [
       "<table>\n",
       "<thead><tr><th></th><th scope=col>SAMPLE</th><th scope=col>TIME</th><th scope=col>ANTIBIOTIC</th><th scope=col>IMMIGRATION</th><th scope=col>REPLICATE</th><th scope=col>SPECIES</th><th scope=col>CONTIG</th><th scope=col>POSITION</th><th scope=col>REF_ALLELE</th><th scope=col>ALT_ALLELE</th><th scope=col>⋯</th><th scope=col>VARIANT_EFFECT</th><th scope=col>VARIANT_EFFECT_CAT</th><th scope=col>VARIANT_IMPACT</th><th scope=col>GENE</th><th scope=col>GENEID</th><th scope=col>NA_CHANGE</th><th scope=col>AA_CHANGE</th><th scope=col>VARIANT_FREQUENCY</th><th scope=col>MEDIAN_COVERAGE</th><th scope=col>AMPLICON_READS</th></tr></thead>\n",
       "<tbody>\n",
       "\t<tr><th scope=row>46</th><td>T8_AB128_I0_REP3                                                  </td><td> 8                                                                </td><td>128                                                               </td><td>0                                                                 </td><td>3                                                                 </td><td>HAMBI_105                                                         </td><td>IDIPBEOP_1                                                        </td><td>1144946                                                           </td><td><span style=white-space:pre-wrap>A   </span>                      </td><td><span style=white-space:pre-wrap>G   </span>                      </td><td>⋯                                                                 </td><td>synonymous_variant                                                </td><td>synonymous                                                        </td><td>LOW                                                               </td><td>tufA                                                              </td><td>IDIPBEOP_01165                                                    </td><td><span style=white-space:pre-wrap>c.834T&gt;C               </span></td><td><span style=white-space:pre-wrap>p.Gly278Gly      </span>         </td><td>1.0000000                                                         </td><td>16                                                                </td><td><span style=white-space:pre-wrap>  2</span>                       </td></tr>\n",
       "\t<tr><th scope=row>130</th><td>T12_AB128_I0_REP3                                                 </td><td>12                                                                </td><td>128                                                               </td><td>0                                                                 </td><td>3                                                                 </td><td>HAMBI_105                                                         </td><td>IDIPBEOP_1                                                        </td><td>1144946                                                           </td><td><span style=white-space:pre-wrap>A   </span>                      </td><td><span style=white-space:pre-wrap>G   </span>                      </td><td>⋯                                                                 </td><td>synonymous_variant                                                </td><td>synonymous                                                        </td><td>LOW                                                               </td><td>tufA                                                              </td><td>IDIPBEOP_01165                                                    </td><td><span style=white-space:pre-wrap>c.834T&gt;C               </span></td><td><span style=white-space:pre-wrap>p.Gly278Gly      </span>         </td><td>0.5238095                                                         </td><td>92                                                                </td><td>124                                                               </td></tr>\n",
       "\t<tr><th scope=row>83</th><td>T8_AB128_I1_REP3                                                  </td><td> 8                                                                </td><td>128                                                               </td><td>1                                                                 </td><td>3                                                                 </td><td>HAMBI_105                                                         </td><td>IDIPBEOP_1                                                        </td><td>1144988                                                           </td><td><span style=white-space:pre-wrap>A   </span>                      </td><td><span style=white-space:pre-wrap>G   </span>                      </td><td>⋯                                                                 </td><td>synonymous_variant                                                </td><td>synonymous                                                        </td><td>LOW                                                               </td><td>tufA                                                              </td><td>IDIPBEOP_01165                                                    </td><td><span style=white-space:pre-wrap>c.792T&gt;C               </span></td><td><span style=white-space:pre-wrap>p.Asp264Asp      </span>         </td><td>0.6666667                                                         </td><td>62                                                                </td><td> 21                                                               </td></tr>\n",
       "\t<tr><th scope=row>163</th><td>T12_AB128_I1_REP3                                                 </td><td>12                                                                </td><td>128                                                               </td><td>1                                                                 </td><td>3                                                                 </td><td>HAMBI_105                                                         </td><td>IDIPBEOP_1                                                        </td><td>1144988                                                           </td><td><span style=white-space:pre-wrap>A   </span>                      </td><td><span style=white-space:pre-wrap>G   </span>                      </td><td>⋯                                                                 </td><td>synonymous_variant                                                </td><td>synonymous                                                        </td><td>LOW                                                               </td><td>tufA                                                              </td><td>IDIPBEOP_01165                                                    </td><td><span style=white-space:pre-wrap>c.792T&gt;C               </span></td><td><span style=white-space:pre-wrap>p.Asp264Asp      </span>         </td><td>0.8333333                                                         </td><td>23                                                                </td><td> 19                                                               </td></tr>\n",
       "\t<tr><th scope=row>41</th><td>T8_AB128_I0_REP2       </td><td> 8                     </td><td>128                    </td><td>0                      </td><td>2                      </td><td>HAMBI_105              </td><td>IDIPBEOP_1             </td><td>1145033                </td><td>AGAA                   </td><td>CGAG                   </td><td>⋯                      </td><td>synonymous_variant     </td><td>synonymous             </td><td>LOW                    </td><td>tufA                   </td><td>IDIPBEOP_01165         </td><td>c.744_747delTTCTinsCTCG</td><td>p.ThrSer248ThrSer      </td><td>0.5000000              </td><td>15                     </td><td>  6                    </td></tr>\n",
       "\t<tr><th scope=row>53</th><td>T8_AB128_I0_REP3       </td><td> 8                     </td><td>128                    </td><td>0                      </td><td>3                      </td><td>HAMBI_105              </td><td>IDIPBEOP_1             </td><td>1145033                </td><td>AGAA                   </td><td>CGAG                   </td><td>⋯                      </td><td>synonymous_variant     </td><td>synonymous             </td><td>LOW                    </td><td>tufA                   </td><td>IDIPBEOP_01165         </td><td>c.744_747delTTCTinsCTCG</td><td>p.ThrSer248ThrSer      </td><td>0.5000000              </td><td>16                     </td><td>  2                    </td></tr>\n",
       "</tbody>\n",
       "</table>\n"
      ],
      "text/latex": [
       "\\begin{tabular}{r|lllllllllllllllllllll}\n",
       "  & SAMPLE & TIME & ANTIBIOTIC & IMMIGRATION & REPLICATE & SPECIES & CONTIG & POSITION & REF\\_ALLELE & ALT\\_ALLELE & ⋯ & VARIANT\\_EFFECT & VARIANT\\_EFFECT\\_CAT & VARIANT\\_IMPACT & GENE & GENEID & NA\\_CHANGE & AA\\_CHANGE & VARIANT\\_FREQUENCY & MEDIAN\\_COVERAGE & AMPLICON\\_READS\\\\\n",
       "\\hline\n",
       "\t46 & T8\\_AB128\\_I0\\_REP3  &  8                      & 128                     & 0                       & 3                       & HAMBI\\_105             & IDIPBEOP\\_1            & 1144946                 & A                       & G                       & ⋯                       & synonymous\\_variant    & synonymous              & LOW                     & tufA                    & IDIPBEOP\\_01165        & c.834T>C                & p.Gly278Gly             & 1.0000000               & 16                      &   2                    \\\\\n",
       "\t130 & T12\\_AB128\\_I0\\_REP3 & 12                      & 128                     & 0                       & 3                       & HAMBI\\_105             & IDIPBEOP\\_1            & 1144946                 & A                       & G                       & ⋯                       & synonymous\\_variant    & synonymous              & LOW                     & tufA                    & IDIPBEOP\\_01165        & c.834T>C                & p.Gly278Gly             & 0.5238095               & 92                      & 124                    \\\\\n",
       "\t83 & T8\\_AB128\\_I1\\_REP3  &  8                      & 128                     & 1                       & 3                       & HAMBI\\_105             & IDIPBEOP\\_1            & 1144988                 & A                       & G                       & ⋯                       & synonymous\\_variant    & synonymous              & LOW                     & tufA                    & IDIPBEOP\\_01165        & c.792T>C                & p.Asp264Asp             & 0.6666667               & 62                      &  21                    \\\\\n",
       "\t163 & T12\\_AB128\\_I1\\_REP3 & 12                      & 128                     & 1                       & 3                       & HAMBI\\_105             & IDIPBEOP\\_1            & 1144988                 & A                       & G                       & ⋯                       & synonymous\\_variant    & synonymous              & LOW                     & tufA                    & IDIPBEOP\\_01165        & c.792T>C                & p.Asp264Asp             & 0.8333333               & 23                      &  19                    \\\\\n",
       "\t41 & T8\\_AB128\\_I0\\_REP2    &  8                        & 128                       & 0                         & 2                         & HAMBI\\_105               & IDIPBEOP\\_1              & 1145033                   & AGAA                      & CGAG                      & ⋯                         & synonymous\\_variant      & synonymous                & LOW                       & tufA                      & IDIPBEOP\\_01165          & c.744\\_747delTTCTinsCTCG & p.ThrSer248ThrSer         & 0.5000000                 & 15                        &   6                      \\\\\n",
       "\t53 & T8\\_AB128\\_I0\\_REP3    &  8                        & 128                       & 0                         & 3                         & HAMBI\\_105               & IDIPBEOP\\_1              & 1145033                   & AGAA                      & CGAG                      & ⋯                         & synonymous\\_variant      & synonymous                & LOW                       & tufA                      & IDIPBEOP\\_01165          & c.744\\_747delTTCTinsCTCG & p.ThrSer248ThrSer         & 0.5000000                 & 16                        &   2                      \\\\\n",
       "\\end{tabular}\n"
      ],
      "text/markdown": [
       "\n",
       "| <!--/--> | SAMPLE | TIME | ANTIBIOTIC | IMMIGRATION | REPLICATE | SPECIES | CONTIG | POSITION | REF_ALLELE | ALT_ALLELE | ⋯ | VARIANT_EFFECT | VARIANT_EFFECT_CAT | VARIANT_IMPACT | GENE | GENEID | NA_CHANGE | AA_CHANGE | VARIANT_FREQUENCY | MEDIAN_COVERAGE | AMPLICON_READS | \n",
       "|---|---|---|---|---|---|\n",
       "| 46 | T8_AB128_I0_REP3        |  8                      | 128                     | 0                       | 3                       | HAMBI_105               | IDIPBEOP_1              | 1144946                 | A                       | G                       | ⋯                       | synonymous_variant      | synonymous              | LOW                     | tufA                    | IDIPBEOP_01165          | c.834T>C                | p.Gly278Gly             | 1.0000000               | 16                      |   2                     | \n",
       "| 130 | T12_AB128_I0_REP3       | 12                      | 128                     | 0                       | 3                       | HAMBI_105               | IDIPBEOP_1              | 1144946                 | A                       | G                       | ⋯                       | synonymous_variant      | synonymous              | LOW                     | tufA                    | IDIPBEOP_01165          | c.834T>C                | p.Gly278Gly             | 0.5238095               | 92                      | 124                     | \n",
       "| 83 | T8_AB128_I1_REP3        |  8                      | 128                     | 1                       | 3                       | HAMBI_105               | IDIPBEOP_1              | 1144988                 | A                       | G                       | ⋯                       | synonymous_variant      | synonymous              | LOW                     | tufA                    | IDIPBEOP_01165          | c.792T>C                | p.Asp264Asp             | 0.6666667               | 62                      |  21                     | \n",
       "| 163 | T12_AB128_I1_REP3       | 12                      | 128                     | 1                       | 3                       | HAMBI_105               | IDIPBEOP_1              | 1144988                 | A                       | G                       | ⋯                       | synonymous_variant      | synonymous              | LOW                     | tufA                    | IDIPBEOP_01165          | c.792T>C                | p.Asp264Asp             | 0.8333333               | 23                      |  19                     | \n",
       "| 41 | T8_AB128_I0_REP2        |  8                      | 128                     | 0                       | 2                       | HAMBI_105               | IDIPBEOP_1              | 1145033                 | AGAA                    | CGAG                    | ⋯                       | synonymous_variant      | synonymous              | LOW                     | tufA                    | IDIPBEOP_01165          | c.744_747delTTCTinsCTCG | p.ThrSer248ThrSer       | 0.5000000               | 15                      |   6                     | \n",
       "| 53 | T8_AB128_I0_REP3        |  8                      | 128                     | 0                       | 3                       | HAMBI_105               | IDIPBEOP_1              | 1145033                 | AGAA                    | CGAG                    | ⋯                       | synonymous_variant      | synonymous              | LOW                     | tufA                    | IDIPBEOP_01165          | c.744_747delTTCTinsCTCG | p.ThrSer248ThrSer       | 0.5000000               | 16                      |   2                     | \n",
       "\n",
       "\n"
      ],
      "text/plain": [
       "    SAMPLE            TIME ANTIBIOTIC IMMIGRATION REPLICATE SPECIES  \n",
       "46  T8_AB128_I0_REP3   8   128        0           3         HAMBI_105\n",
       "130 T12_AB128_I0_REP3 12   128        0           3         HAMBI_105\n",
       "83  T8_AB128_I1_REP3   8   128        1           3         HAMBI_105\n",
       "163 T12_AB128_I1_REP3 12   128        1           3         HAMBI_105\n",
       "41  T8_AB128_I0_REP2   8   128        0           2         HAMBI_105\n",
       "53  T8_AB128_I0_REP3   8   128        0           3         HAMBI_105\n",
       "    CONTIG     POSITION REF_ALLELE ALT_ALLELE ⋯ VARIANT_EFFECT    \n",
       "46  IDIPBEOP_1 1144946  A          G          ⋯ synonymous_variant\n",
       "130 IDIPBEOP_1 1144946  A          G          ⋯ synonymous_variant\n",
       "83  IDIPBEOP_1 1144988  A          G          ⋯ synonymous_variant\n",
       "163 IDIPBEOP_1 1144988  A          G          ⋯ synonymous_variant\n",
       "41  IDIPBEOP_1 1145033  AGAA       CGAG       ⋯ synonymous_variant\n",
       "53  IDIPBEOP_1 1145033  AGAA       CGAG       ⋯ synonymous_variant\n",
       "    VARIANT_EFFECT_CAT VARIANT_IMPACT GENE GENEID        \n",
       "46  synonymous         LOW            tufA IDIPBEOP_01165\n",
       "130 synonymous         LOW            tufA IDIPBEOP_01165\n",
       "83  synonymous         LOW            tufA IDIPBEOP_01165\n",
       "163 synonymous         LOW            tufA IDIPBEOP_01165\n",
       "41  synonymous         LOW            tufA IDIPBEOP_01165\n",
       "53  synonymous         LOW            tufA IDIPBEOP_01165\n",
       "    NA_CHANGE               AA_CHANGE         VARIANT_FREQUENCY MEDIAN_COVERAGE\n",
       "46  c.834T>C                p.Gly278Gly       1.0000000         16             \n",
       "130 c.834T>C                p.Gly278Gly       0.5238095         92             \n",
       "83  c.792T>C                p.Asp264Asp       0.6666667         62             \n",
       "163 c.792T>C                p.Asp264Asp       0.8333333         23             \n",
       "41  c.744_747delTTCTinsCTCG p.ThrSer248ThrSer 0.5000000         15             \n",
       "53  c.744_747delTTCTinsCTCG p.ThrSer248ThrSer 0.5000000         16             \n",
       "    AMPLICON_READS\n",
       "46    2           \n",
       "130 124           \n",
       "83   21           \n",
       "163  19           \n",
       "41    6           \n",
       "53    2           "
      ]
     },
     "metadata": {},
     "output_type": "display_data"
    }
   ],
   "source": [
    "# Reformat and add explicit column names\n",
    "\n",
    "variants4 = variants4[,c(17,2:5,1,6:11,21,12:16,18:20)]\n",
    "colnames(variants4) = c(\"SAMPLE\",\n",
    "                        \"TIME\",\n",
    "                        \"ANTIBIOTIC\",\n",
    "                        \"IMMIGRATION\",\n",
    "                        \"REPLICATE\",\n",
    "                        \"SPECIES\",\n",
    "                        \"CONTIG\",\n",
    "                        \"POSITION\",\n",
    "                        \"REF_ALLELE\",\n",
    "                        \"ALT_ALLELE\",\n",
    "                        \"VARIANT_TYPE\",\n",
    "                        \"VARIANT_EFFECT\",\n",
    "                        \"VARIANT_EFFECT_CAT\",\n",
    "                        \"VARIANT_IMPACT\",\n",
    "                        \"GENE\",\n",
    "                        \"GENEID\",\n",
    "                        \"NA_CHANGE\",\n",
    "                        \"AA_CHANGE\",\n",
    "                        \"VARIANT_FREQUENCY\",\n",
    "                        \"MEDIAN_COVERAGE\",\n",
    "                        \"AMPLICON_READS\")\n",
    "variants4 = variants4[order(variants4$SPECIES, variants4$CONTIG, variants4$POSITION),]\n",
    "head(variants4)"
   ]
  },
  {
   "cell_type": "code",
   "execution_count": 63,
   "metadata": {},
   "outputs": [
    {
     "data": {
      "text/html": [
       "<table>\n",
       "<thead><tr><th scope=col>CONTIG</th><th scope=col>POSITION</th><th scope=col>SAMPLE</th><th scope=col>TIME</th><th scope=col>ANTIBIOTIC</th><th scope=col>IMMIGRATION</th><th scope=col>REPLICATE</th><th scope=col>SPECIES</th><th scope=col>REF_ALLELE</th><th scope=col>ALT_ALLELE</th><th scope=col>⋯</th><th scope=col>VARIANT_EFFECT_CAT</th><th scope=col>VARIANT_IMPACT</th><th scope=col>GENE</th><th scope=col>GENEID</th><th scope=col>NA_CHANGE</th><th scope=col>AA_CHANGE</th><th scope=col>VARIANT_FREQUENCY</th><th scope=col>MEDIAN_COVERAGE</th><th scope=col>AMPLICON_READS</th><th scope=col>DISTANCE_FROM_PREV</th></tr></thead>\n",
       "<tbody>\n",
       "\t<tr><td>ABNHBPOL_1                                            </td><td>317775                                                </td><td>T8_AB16_I0_REP2                                       </td><td> 8                                                    </td><td>16                                                    </td><td>0                                                     </td><td>2                                                     </td><td>HAMBI_1972                                            </td><td>C                                                     </td><td>G                                                     </td><td>⋯                                                     </td><td>noncoding                                             </td><td>MODIFIER                                              </td><td><span style=white-space:pre-wrap>nrfB          </span></td><td>ABNHBPOL_00273                                        </td><td>c.-4528G&gt;C                                         </td><td><span style=white-space:pre-wrap>NA        </span>    </td><td>0.0000000                                             </td><td> 17                                                   </td><td><span style=white-space:pre-wrap>  6</span>           </td><td><span style=white-space:pre-wrap>  0</span>           </td></tr>\n",
       "\t<tr><td>ABNHBPOL_1                                            </td><td>317775                                                </td><td>T12_AB16_I0_REP2                                      </td><td>12                                                    </td><td>16                                                    </td><td>0                                                     </td><td>2                                                     </td><td>HAMBI_1972                                            </td><td>C                                                     </td><td>G                                                     </td><td>⋯                                                     </td><td>noncoding                                             </td><td>MODIFIER                                              </td><td><span style=white-space:pre-wrap>nrfB          </span></td><td>ABNHBPOL_00273                                        </td><td>c.-4528G&gt;C                                         </td><td><span style=white-space:pre-wrap>NA        </span>    </td><td>0.5769231                                             </td><td>262                                                   </td><td>374                                                   </td><td><span style=white-space:pre-wrap>  0</span>           </td></tr>\n",
       "\t<tr><td>ABNHBPOL_1                                              </td><td>317986                                                  </td><td><span style=white-space:pre-wrap>T8_AB0_I1_REP1  </span></td><td> 8                                                      </td><td> 0                                                      </td><td>1                                                       </td><td>1                                                       </td><td>HAMBI_1972                                              </td><td>C                                                       </td><td>G                                                       </td><td>⋯                                                       </td><td>synonymous                                              </td><td><span style=white-space:pre-wrap>LOW     </span>        </td><td>ABNHBPOL_00276                                          </td><td>ABNHBPOL_00276                                          </td><td><span style=white-space:pre-wrap>c.33C&gt;G   </span>   </td><td>p.Gly11Gly                                              </td><td>0.5625000                                               </td><td>570                                                     </td><td>525                                                     </td><td>211                                                     </td></tr>\n",
       "\t<tr><td>ABNHBPOL_1                                              </td><td>317986                                                  </td><td><span style=white-space:pre-wrap>T8_AB0_I1_REP2  </span></td><td> 8                                                      </td><td> 0                                                      </td><td>1                                                       </td><td>2                                                       </td><td>HAMBI_1972                                              </td><td>C                                                       </td><td>G                                                       </td><td>⋯                                                       </td><td>synonymous                                              </td><td><span style=white-space:pre-wrap>LOW     </span>        </td><td>ABNHBPOL_00276                                          </td><td>ABNHBPOL_00276                                          </td><td><span style=white-space:pre-wrap>c.33C&gt;G   </span>   </td><td>p.Gly11Gly                                              </td><td>0.5476190                                               </td><td>484                                                     </td><td>373                                                     </td><td>211                                                     </td></tr>\n",
       "\t<tr><td>ABNHBPOL_1                                              </td><td>317986                                                  </td><td><span style=white-space:pre-wrap>T8_AB4_I0_REP2  </span></td><td> 8                                                      </td><td> 4                                                      </td><td>0                                                       </td><td>2                                                       </td><td>HAMBI_1972                                              </td><td>C                                                       </td><td>G                                                       </td><td>⋯                                                       </td><td>synonymous                                              </td><td><span style=white-space:pre-wrap>LOW     </span>        </td><td>ABNHBPOL_00276                                          </td><td>ABNHBPOL_00276                                          </td><td><span style=white-space:pre-wrap>c.33C&gt;G   </span>   </td><td>p.Gly11Gly                                              </td><td>0.6000000                                               </td><td>214                                                     </td><td>121                                                     </td><td>211                                                     </td></tr>\n",
       "\t<tr><td>ABNHBPOL_1                                           </td><td>317986                                               </td><td>T8_AB16_I0_REP2                                      </td><td> 8                                                   </td><td>16                                                   </td><td>0                                                    </td><td>2                                                    </td><td>HAMBI_1972                                           </td><td>C                                                    </td><td>G                                                    </td><td>⋯                                                    </td><td>synonymous                                           </td><td><span style=white-space:pre-wrap>LOW     </span>     </td><td>ABNHBPOL_00276                                       </td><td>ABNHBPOL_00276                                       </td><td><span style=white-space:pre-wrap>c.33C&gt;G   </span></td><td>p.Gly11Gly                                           </td><td>1.0000000                                            </td><td> 17                                                  </td><td><span style=white-space:pre-wrap>  6</span>          </td><td>211                                                  </td></tr>\n",
       "</tbody>\n",
       "</table>\n"
      ],
      "text/latex": [
       "\\begin{tabular}{r|llllllllllllllllllllll}\n",
       " CONTIG & POSITION & SAMPLE & TIME & ANTIBIOTIC & IMMIGRATION & REPLICATE & SPECIES & REF\\_ALLELE & ALT\\_ALLELE & ⋯ & VARIANT\\_EFFECT\\_CAT & VARIANT\\_IMPACT & GENE & GENEID & NA\\_CHANGE & AA\\_CHANGE & VARIANT\\_FREQUENCY & MEDIAN\\_COVERAGE & AMPLICON\\_READS & DISTANCE\\_FROM\\_PREV\\\\\n",
       "\\hline\n",
       "\t ABNHBPOL\\_1           & 317775                 & T8\\_AB16\\_I0\\_REP2  &  8                     & 16                     & 0                      & 2                      & HAMBI\\_1972           & C                      & G                      & ⋯                      & noncoding              & MODIFIER               & nrfB                   & ABNHBPOL\\_00273       & c.-4528G>C             & NA                     & 0.0000000              &  17                    &   6                    &   0                   \\\\\n",
       "\t ABNHBPOL\\_1           & 317775                 & T12\\_AB16\\_I0\\_REP2 & 12                     & 16                     & 0                      & 2                      & HAMBI\\_1972           & C                      & G                      & ⋯                      & noncoding              & MODIFIER               & nrfB                   & ABNHBPOL\\_00273       & c.-4528G>C             & NA                     & 0.5769231              & 262                    & 374                    &   0                   \\\\\n",
       "\t ABNHBPOL\\_1           & 317986                 & T8\\_AB0\\_I1\\_REP1   &  8                     &  0                     & 1                      & 1                      & HAMBI\\_1972           & C                      & G                      & ⋯                      & synonymous             & LOW                    & ABNHBPOL\\_00276       & ABNHBPOL\\_00276       & c.33C>G                & p.Gly11Gly             & 0.5625000              & 570                    & 525                    & 211                   \\\\\n",
       "\t ABNHBPOL\\_1           & 317986                 & T8\\_AB0\\_I1\\_REP2   &  8                     &  0                     & 1                      & 2                      & HAMBI\\_1972           & C                      & G                      & ⋯                      & synonymous             & LOW                    & ABNHBPOL\\_00276       & ABNHBPOL\\_00276       & c.33C>G                & p.Gly11Gly             & 0.5476190              & 484                    & 373                    & 211                   \\\\\n",
       "\t ABNHBPOL\\_1           & 317986                 & T8\\_AB4\\_I0\\_REP2   &  8                     &  4                     & 0                      & 2                      & HAMBI\\_1972           & C                      & G                      & ⋯                      & synonymous             & LOW                    & ABNHBPOL\\_00276       & ABNHBPOL\\_00276       & c.33C>G                & p.Gly11Gly             & 0.6000000              & 214                    & 121                    & 211                   \\\\\n",
       "\t ABNHBPOL\\_1           & 317986                 & T8\\_AB16\\_I0\\_REP2  &  8                     & 16                     & 0                      & 2                      & HAMBI\\_1972           & C                      & G                      & ⋯                      & synonymous             & LOW                    & ABNHBPOL\\_00276       & ABNHBPOL\\_00276       & c.33C>G                & p.Gly11Gly             & 1.0000000              &  17                    &   6                    & 211                   \\\\\n",
       "\\end{tabular}\n"
      ],
      "text/markdown": [
       "\n",
       "CONTIG | POSITION | SAMPLE | TIME | ANTIBIOTIC | IMMIGRATION | REPLICATE | SPECIES | REF_ALLELE | ALT_ALLELE | ⋯ | VARIANT_EFFECT_CAT | VARIANT_IMPACT | GENE | GENEID | NA_CHANGE | AA_CHANGE | VARIANT_FREQUENCY | MEDIAN_COVERAGE | AMPLICON_READS | DISTANCE_FROM_PREV | \n",
       "|---|---|---|---|---|---|\n",
       "| ABNHBPOL_1       | 317775           | T8_AB16_I0_REP2  |  8               | 16               | 0                | 2                | HAMBI_1972       | C                | G                | ⋯                | noncoding        | MODIFIER         | nrfB             | ABNHBPOL_00273   | c.-4528G>C       | NA               | 0.0000000        |  17              |   6              |   0              | \n",
       "| ABNHBPOL_1       | 317775           | T12_AB16_I0_REP2 | 12               | 16               | 0                | 2                | HAMBI_1972       | C                | G                | ⋯                | noncoding        | MODIFIER         | nrfB             | ABNHBPOL_00273   | c.-4528G>C       | NA               | 0.5769231        | 262              | 374              |   0              | \n",
       "| ABNHBPOL_1       | 317986           | T8_AB0_I1_REP1   |  8               |  0               | 1                | 1                | HAMBI_1972       | C                | G                | ⋯                | synonymous       | LOW              | ABNHBPOL_00276   | ABNHBPOL_00276   | c.33C>G          | p.Gly11Gly       | 0.5625000        | 570              | 525              | 211              | \n",
       "| ABNHBPOL_1       | 317986           | T8_AB0_I1_REP2   |  8               |  0               | 1                | 2                | HAMBI_1972       | C                | G                | ⋯                | synonymous       | LOW              | ABNHBPOL_00276   | ABNHBPOL_00276   | c.33C>G          | p.Gly11Gly       | 0.5476190        | 484              | 373              | 211              | \n",
       "| ABNHBPOL_1       | 317986           | T8_AB4_I0_REP2   |  8               |  4               | 0                | 2                | HAMBI_1972       | C                | G                | ⋯                | synonymous       | LOW              | ABNHBPOL_00276   | ABNHBPOL_00276   | c.33C>G          | p.Gly11Gly       | 0.6000000        | 214              | 121              | 211              | \n",
       "| ABNHBPOL_1       | 317986           | T8_AB16_I0_REP2  |  8               | 16               | 0                | 2                | HAMBI_1972       | C                | G                | ⋯                | synonymous       | LOW              | ABNHBPOL_00276   | ABNHBPOL_00276   | c.33C>G          | p.Gly11Gly       | 1.0000000        |  17              |   6              | 211              | \n",
       "\n",
       "\n"
      ],
      "text/plain": [
       "  CONTIG     POSITION SAMPLE           TIME ANTIBIOTIC IMMIGRATION REPLICATE\n",
       "1 ABNHBPOL_1 317775   T8_AB16_I0_REP2   8   16         0           2        \n",
       "2 ABNHBPOL_1 317775   T12_AB16_I0_REP2 12   16         0           2        \n",
       "3 ABNHBPOL_1 317986   T8_AB0_I1_REP1    8    0         1           1        \n",
       "4 ABNHBPOL_1 317986   T8_AB0_I1_REP2    8    0         1           2        \n",
       "5 ABNHBPOL_1 317986   T8_AB4_I0_REP2    8    4         0           2        \n",
       "6 ABNHBPOL_1 317986   T8_AB16_I0_REP2   8   16         0           2        \n",
       "  SPECIES    REF_ALLELE ALT_ALLELE ⋯ VARIANT_EFFECT_CAT VARIANT_IMPACT\n",
       "1 HAMBI_1972 C          G          ⋯ noncoding          MODIFIER      \n",
       "2 HAMBI_1972 C          G          ⋯ noncoding          MODIFIER      \n",
       "3 HAMBI_1972 C          G          ⋯ synonymous         LOW           \n",
       "4 HAMBI_1972 C          G          ⋯ synonymous         LOW           \n",
       "5 HAMBI_1972 C          G          ⋯ synonymous         LOW           \n",
       "6 HAMBI_1972 C          G          ⋯ synonymous         LOW           \n",
       "  GENE           GENEID         NA_CHANGE  AA_CHANGE  VARIANT_FREQUENCY\n",
       "1 nrfB           ABNHBPOL_00273 c.-4528G>C NA         0.0000000        \n",
       "2 nrfB           ABNHBPOL_00273 c.-4528G>C NA         0.5769231        \n",
       "3 ABNHBPOL_00276 ABNHBPOL_00276 c.33C>G    p.Gly11Gly 0.5625000        \n",
       "4 ABNHBPOL_00276 ABNHBPOL_00276 c.33C>G    p.Gly11Gly 0.5476190        \n",
       "5 ABNHBPOL_00276 ABNHBPOL_00276 c.33C>G    p.Gly11Gly 0.6000000        \n",
       "6 ABNHBPOL_00276 ABNHBPOL_00276 c.33C>G    p.Gly11Gly 1.0000000        \n",
       "  MEDIAN_COVERAGE AMPLICON_READS DISTANCE_FROM_PREV\n",
       "1  17               6              0               \n",
       "2 262             374              0               \n",
       "3 570             525            211               \n",
       "4 484             373            211               \n",
       "5 214             121            211               \n",
       "6  17               6            211               "
      ]
     },
     "metadata": {},
     "output_type": "display_data"
    }
   ],
   "source": [
    "# Add distance from previous variant\n",
    "\n",
    "contigs = as.vector(unique(variants4$CONTIG))\n",
    "dist_list=list()\n",
    "for(i in 1:length(contigs)){\n",
    "  a = variants4[variants4$CONTIG == contigs[i],]\n",
    "  b = as.vector(sort(unique(a$POSITION)))\n",
    "  c = c(b[1],b[-length(b)])\n",
    "  d = b-c\n",
    "  e = as.data.frame(cbind(b,d))\n",
    "  colnames(e) = c(\"POSITION\",\"DISTANCE_FROM_PREV\")\n",
    "  e$CONTIG = contigs[i]\n",
    "  dist_list[[i]] = e\n",
    "}\n",
    "\n",
    "distance=Reduce(function(...) merge(..., all = T), dist_list)\n",
    "\n",
    "# Add distance data to variant data table\n",
    "                \n",
    "variants5 = merge(variants4, distance, all.x = T)\n",
    "head(variants5)"
   ]
  },
  {
   "cell_type": "code",
   "execution_count": 64,
   "metadata": {},
   "outputs": [
    {
     "data": {
      "text/html": [
       "<table>\n",
       "<thead><tr><th scope=col>SAMPLE</th><th scope=col>TIME</th><th scope=col>ANTIBIOTIC</th><th scope=col>IMMIGRATION</th><th scope=col>REPLICATE</th><th scope=col>SPECIES</th><th scope=col>CONTIG</th><th scope=col>CONTIG_LENGTH</th><th scope=col>POSITION</th><th scope=col>REF_ALLELE</th><th scope=col>⋯</th><th scope=col>VARIANT_EFFECT_CAT</th><th scope=col>VARIANT_IMPACT</th><th scope=col>GENE</th><th scope=col>GENEID</th><th scope=col>NA_CHANGE</th><th scope=col>AA_CHANGE</th><th scope=col>VARIANT_FREQUENCY</th><th scope=col>MEDIAN_COVERAGE</th><th scope=col>AMPLICON_READS</th><th scope=col>DISTANCE_FROM_PREV</th></tr></thead>\n",
       "<tbody>\n",
       "\t<tr><td>T8_AB16_I0_REP2                                       </td><td> 8                                                    </td><td>16                                                    </td><td>0                                                     </td><td>2                                                     </td><td>HAMBI_1972                                            </td><td>ABNHBPOL_1                                            </td><td>404185                                                </td><td>317775                                                </td><td>C                                                     </td><td>⋯                                                     </td><td>noncoding                                             </td><td>MODIFIER                                              </td><td><span style=white-space:pre-wrap>nrfB          </span></td><td>ABNHBPOL_00273                                        </td><td>c.-4528G&gt;C                                         </td><td><span style=white-space:pre-wrap>NA        </span>    </td><td>0.0000000                                             </td><td> 17                                                   </td><td><span style=white-space:pre-wrap>  6</span>           </td><td><span style=white-space:pre-wrap>  0</span>           </td></tr>\n",
       "\t<tr><td>T12_AB16_I0_REP2                                      </td><td>12                                                    </td><td>16                                                    </td><td>0                                                     </td><td>2                                                     </td><td>HAMBI_1972                                            </td><td>ABNHBPOL_1                                            </td><td>404185                                                </td><td>317775                                                </td><td>C                                                     </td><td>⋯                                                     </td><td>noncoding                                             </td><td>MODIFIER                                              </td><td><span style=white-space:pre-wrap>nrfB          </span></td><td>ABNHBPOL_00273                                        </td><td>c.-4528G&gt;C                                         </td><td><span style=white-space:pre-wrap>NA        </span>    </td><td>0.5769231                                             </td><td>262                                                   </td><td>374                                                   </td><td><span style=white-space:pre-wrap>  0</span>           </td></tr>\n",
       "\t<tr><td><span style=white-space:pre-wrap>T8_AB0_I1_REP1  </span></td><td> 8                                                      </td><td> 0                                                      </td><td>1                                                       </td><td>1                                                       </td><td>HAMBI_1972                                              </td><td>ABNHBPOL_1                                              </td><td>404185                                                  </td><td>317986                                                  </td><td>C                                                       </td><td>⋯                                                       </td><td>synonymous                                              </td><td><span style=white-space:pre-wrap>LOW     </span>        </td><td>ABNHBPOL_00276                                          </td><td>ABNHBPOL_00276                                          </td><td><span style=white-space:pre-wrap>c.33C&gt;G   </span>   </td><td>p.Gly11Gly                                              </td><td>0.5625000                                               </td><td>570                                                     </td><td>525                                                     </td><td>211                                                     </td></tr>\n",
       "\t<tr><td><span style=white-space:pre-wrap>T8_AB0_I1_REP2  </span></td><td> 8                                                      </td><td> 0                                                      </td><td>1                                                       </td><td>2                                                       </td><td>HAMBI_1972                                              </td><td>ABNHBPOL_1                                              </td><td>404185                                                  </td><td>317986                                                  </td><td>C                                                       </td><td>⋯                                                       </td><td>synonymous                                              </td><td><span style=white-space:pre-wrap>LOW     </span>        </td><td>ABNHBPOL_00276                                          </td><td>ABNHBPOL_00276                                          </td><td><span style=white-space:pre-wrap>c.33C&gt;G   </span>   </td><td>p.Gly11Gly                                              </td><td>0.5476190                                               </td><td>484                                                     </td><td>373                                                     </td><td>211                                                     </td></tr>\n",
       "\t<tr><td><span style=white-space:pre-wrap>T8_AB4_I0_REP2  </span></td><td> 8                                                      </td><td> 4                                                      </td><td>0                                                       </td><td>2                                                       </td><td>HAMBI_1972                                              </td><td>ABNHBPOL_1                                              </td><td>404185                                                  </td><td>317986                                                  </td><td>C                                                       </td><td>⋯                                                       </td><td>synonymous                                              </td><td><span style=white-space:pre-wrap>LOW     </span>        </td><td>ABNHBPOL_00276                                          </td><td>ABNHBPOL_00276                                          </td><td><span style=white-space:pre-wrap>c.33C&gt;G   </span>   </td><td>p.Gly11Gly                                              </td><td>0.6000000                                               </td><td>214                                                     </td><td>121                                                     </td><td>211                                                     </td></tr>\n",
       "\t<tr><td>T8_AB16_I0_REP2                                      </td><td> 8                                                   </td><td>16                                                   </td><td>0                                                    </td><td>2                                                    </td><td>HAMBI_1972                                           </td><td>ABNHBPOL_1                                           </td><td>404185                                               </td><td>317986                                               </td><td>C                                                    </td><td>⋯                                                    </td><td>synonymous                                           </td><td><span style=white-space:pre-wrap>LOW     </span>     </td><td>ABNHBPOL_00276                                       </td><td>ABNHBPOL_00276                                       </td><td><span style=white-space:pre-wrap>c.33C&gt;G   </span></td><td>p.Gly11Gly                                           </td><td>1.0000000                                            </td><td> 17                                                  </td><td><span style=white-space:pre-wrap>  6</span>          </td><td>211                                                  </td></tr>\n",
       "</tbody>\n",
       "</table>\n"
      ],
      "text/latex": [
       "\\begin{tabular}{r|lllllllllllllllllllllll}\n",
       " SAMPLE & TIME & ANTIBIOTIC & IMMIGRATION & REPLICATE & SPECIES & CONTIG & CONTIG\\_LENGTH & POSITION & REF\\_ALLELE & ⋯ & VARIANT\\_EFFECT\\_CAT & VARIANT\\_IMPACT & GENE & GENEID & NA\\_CHANGE & AA\\_CHANGE & VARIANT\\_FREQUENCY & MEDIAN\\_COVERAGE & AMPLICON\\_READS & DISTANCE\\_FROM\\_PREV\\\\\n",
       "\\hline\n",
       "\t T8\\_AB16\\_I0\\_REP2  &  8                     & 16                     & 0                      & 2                      & HAMBI\\_1972           & ABNHBPOL\\_1           & 404185                 & 317775                 & C                      & ⋯                      & noncoding              & MODIFIER               & nrfB                   & ABNHBPOL\\_00273       & c.-4528G>C             & NA                     & 0.0000000              &  17                    &   6                    &   0                   \\\\\n",
       "\t T12\\_AB16\\_I0\\_REP2 & 12                     & 16                     & 0                      & 2                      & HAMBI\\_1972           & ABNHBPOL\\_1           & 404185                 & 317775                 & C                      & ⋯                      & noncoding              & MODIFIER               & nrfB                   & ABNHBPOL\\_00273       & c.-4528G>C             & NA                     & 0.5769231              & 262                    & 374                    &   0                   \\\\\n",
       "\t T8\\_AB0\\_I1\\_REP1   &  8                     &  0                     & 1                      & 1                      & HAMBI\\_1972           & ABNHBPOL\\_1           & 404185                 & 317986                 & C                      & ⋯                      & synonymous             & LOW                    & ABNHBPOL\\_00276       & ABNHBPOL\\_00276       & c.33C>G                & p.Gly11Gly             & 0.5625000              & 570                    & 525                    & 211                   \\\\\n",
       "\t T8\\_AB0\\_I1\\_REP2   &  8                     &  0                     & 1                      & 2                      & HAMBI\\_1972           & ABNHBPOL\\_1           & 404185                 & 317986                 & C                      & ⋯                      & synonymous             & LOW                    & ABNHBPOL\\_00276       & ABNHBPOL\\_00276       & c.33C>G                & p.Gly11Gly             & 0.5476190              & 484                    & 373                    & 211                   \\\\\n",
       "\t T8\\_AB4\\_I0\\_REP2   &  8                     &  4                     & 0                      & 2                      & HAMBI\\_1972           & ABNHBPOL\\_1           & 404185                 & 317986                 & C                      & ⋯                      & synonymous             & LOW                    & ABNHBPOL\\_00276       & ABNHBPOL\\_00276       & c.33C>G                & p.Gly11Gly             & 0.6000000              & 214                    & 121                    & 211                   \\\\\n",
       "\t T8\\_AB16\\_I0\\_REP2  &  8                     & 16                     & 0                      & 2                      & HAMBI\\_1972           & ABNHBPOL\\_1           & 404185                 & 317986                 & C                      & ⋯                      & synonymous             & LOW                    & ABNHBPOL\\_00276       & ABNHBPOL\\_00276       & c.33C>G                & p.Gly11Gly             & 1.0000000              &  17                    &   6                    & 211                   \\\\\n",
       "\\end{tabular}\n"
      ],
      "text/markdown": [
       "\n",
       "SAMPLE | TIME | ANTIBIOTIC | IMMIGRATION | REPLICATE | SPECIES | CONTIG | CONTIG_LENGTH | POSITION | REF_ALLELE | ⋯ | VARIANT_EFFECT_CAT | VARIANT_IMPACT | GENE | GENEID | NA_CHANGE | AA_CHANGE | VARIANT_FREQUENCY | MEDIAN_COVERAGE | AMPLICON_READS | DISTANCE_FROM_PREV | \n",
       "|---|---|---|---|---|---|\n",
       "| T8_AB16_I0_REP2  |  8               | 16               | 0                | 2                | HAMBI_1972       | ABNHBPOL_1       | 404185           | 317775           | C                | ⋯                | noncoding        | MODIFIER         | nrfB             | ABNHBPOL_00273   | c.-4528G>C       | NA               | 0.0000000        |  17              |   6              |   0              | \n",
       "| T12_AB16_I0_REP2 | 12               | 16               | 0                | 2                | HAMBI_1972       | ABNHBPOL_1       | 404185           | 317775           | C                | ⋯                | noncoding        | MODIFIER         | nrfB             | ABNHBPOL_00273   | c.-4528G>C       | NA               | 0.5769231        | 262              | 374              |   0              | \n",
       "| T8_AB0_I1_REP1   |  8               |  0               | 1                | 1                | HAMBI_1972       | ABNHBPOL_1       | 404185           | 317986           | C                | ⋯                | synonymous       | LOW              | ABNHBPOL_00276   | ABNHBPOL_00276   | c.33C>G          | p.Gly11Gly       | 0.5625000        | 570              | 525              | 211              | \n",
       "| T8_AB0_I1_REP2   |  8               |  0               | 1                | 2                | HAMBI_1972       | ABNHBPOL_1       | 404185           | 317986           | C                | ⋯                | synonymous       | LOW              | ABNHBPOL_00276   | ABNHBPOL_00276   | c.33C>G          | p.Gly11Gly       | 0.5476190        | 484              | 373              | 211              | \n",
       "| T8_AB4_I0_REP2   |  8               |  4               | 0                | 2                | HAMBI_1972       | ABNHBPOL_1       | 404185           | 317986           | C                | ⋯                | synonymous       | LOW              | ABNHBPOL_00276   | ABNHBPOL_00276   | c.33C>G          | p.Gly11Gly       | 0.6000000        | 214              | 121              | 211              | \n",
       "| T8_AB16_I0_REP2  |  8               | 16               | 0                | 2                | HAMBI_1972       | ABNHBPOL_1       | 404185           | 317986           | C                | ⋯                | synonymous       | LOW              | ABNHBPOL_00276   | ABNHBPOL_00276   | c.33C>G          | p.Gly11Gly       | 1.0000000        |  17              |   6              | 211              | \n",
       "\n",
       "\n"
      ],
      "text/plain": [
       "  SAMPLE           TIME ANTIBIOTIC IMMIGRATION REPLICATE SPECIES    CONTIG    \n",
       "1 T8_AB16_I0_REP2   8   16         0           2         HAMBI_1972 ABNHBPOL_1\n",
       "2 T12_AB16_I0_REP2 12   16         0           2         HAMBI_1972 ABNHBPOL_1\n",
       "3 T8_AB0_I1_REP1    8    0         1           1         HAMBI_1972 ABNHBPOL_1\n",
       "4 T8_AB0_I1_REP2    8    0         1           2         HAMBI_1972 ABNHBPOL_1\n",
       "5 T8_AB4_I0_REP2    8    4         0           2         HAMBI_1972 ABNHBPOL_1\n",
       "6 T8_AB16_I0_REP2   8   16         0           2         HAMBI_1972 ABNHBPOL_1\n",
       "  CONTIG_LENGTH POSITION REF_ALLELE ⋯ VARIANT_EFFECT_CAT VARIANT_IMPACT\n",
       "1 404185        317775   C          ⋯ noncoding          MODIFIER      \n",
       "2 404185        317775   C          ⋯ noncoding          MODIFIER      \n",
       "3 404185        317986   C          ⋯ synonymous         LOW           \n",
       "4 404185        317986   C          ⋯ synonymous         LOW           \n",
       "5 404185        317986   C          ⋯ synonymous         LOW           \n",
       "6 404185        317986   C          ⋯ synonymous         LOW           \n",
       "  GENE           GENEID         NA_CHANGE  AA_CHANGE  VARIANT_FREQUENCY\n",
       "1 nrfB           ABNHBPOL_00273 c.-4528G>C NA         0.0000000        \n",
       "2 nrfB           ABNHBPOL_00273 c.-4528G>C NA         0.5769231        \n",
       "3 ABNHBPOL_00276 ABNHBPOL_00276 c.33C>G    p.Gly11Gly 0.5625000        \n",
       "4 ABNHBPOL_00276 ABNHBPOL_00276 c.33C>G    p.Gly11Gly 0.5476190        \n",
       "5 ABNHBPOL_00276 ABNHBPOL_00276 c.33C>G    p.Gly11Gly 0.6000000        \n",
       "6 ABNHBPOL_00276 ABNHBPOL_00276 c.33C>G    p.Gly11Gly 1.0000000        \n",
       "  MEDIAN_COVERAGE AMPLICON_READS DISTANCE_FROM_PREV\n",
       "1  17               6              0               \n",
       "2 262             374              0               \n",
       "3 570             525            211               \n",
       "4 484             373            211               \n",
       "5 214             121            211               \n",
       "6  17               6            211               "
      ]
     },
     "metadata": {},
     "output_type": "display_data"
    }
   ],
   "source": [
    "# Add contig length data\n",
    "\n",
    "# Read in data\n",
    "\n",
    "contig_length = read.table(\"../../data/deep_seq/contig_length.txt\")\n",
    "\n",
    "# Reformat\n",
    "\n",
    "colnames(contig_length) = c(\"CONTIG\", \"CONTIG_LENGTH\")\n",
    "contig_length$CONTIG = gsub(\"[gln|X|]\", \"\", contig_length$CONTIG)\n",
    "contig_length$CONTIG = as.factor(contig_length$CONTIG)\n",
    "\n",
    "# Add contig length data to variant data table\n",
    "\n",
    "variants6 = merge(variants5, contig_length, by = \"CONTIG\")\n",
    "\n",
    "# Reformat variant data table\n",
    "\n",
    "variants6 = variants6[,c(3:8, 1, 23, 2, 9:22)]\n",
    "head(variants6)"
   ]
  },
  {
   "cell_type": "code",
   "execution_count": 65,
   "metadata": {},
   "outputs": [],
   "source": [
    "# Write out\n",
    "\n",
    "write.table(variants6, row.names = FALSE, \"../../data/deep_seq/filtered_variant_data.txt\", sep = \"\\t\")"
   ]
  }
 ],
 "metadata": {
  "kernelspec": {
   "display_name": "R",
   "language": "R",
   "name": "ir"
  },
  "language_info": {
   "codemirror_mode": "r",
   "file_extension": ".r",
   "mimetype": "text/x-r-source",
   "name": "R",
   "pygments_lexer": "r",
   "version": "3.5.1"
  }
 },
 "nbformat": 4,
 "nbformat_minor": 2
}
