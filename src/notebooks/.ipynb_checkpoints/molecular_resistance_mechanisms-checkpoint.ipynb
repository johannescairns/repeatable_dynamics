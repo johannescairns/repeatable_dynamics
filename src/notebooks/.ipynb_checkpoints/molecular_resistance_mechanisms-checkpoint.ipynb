{
 "cells": [
  {
   "cell_type": "markdown",
   "metadata": {},
   "source": [
    "# Molecular mechanisms of antibiotic resistance"
   ]
  },
  {
   "cell_type": "code",
   "execution_count": 19,
   "metadata": {},
   "outputs": [],
   "source": [
    "# Housekeeping\n",
    "\n",
    "library(ggplot2)\n",
    "library(scales)\n",
    "library(tidyr)\n",
    "source(\"source.R\")"
   ]
  },
  {
   "cell_type": "code",
   "execution_count": 16,
   "metadata": {},
   "outputs": [
    {
     "data": {
      "text/html": [
       "<ol class=list-inline>\n",
       "\t<li>1154</li>\n",
       "\t<li>24</li>\n",
       "</ol>\n"
      ],
      "text/latex": [
       "\\begin{enumerate*}\n",
       "\\item 1154\n",
       "\\item 24\n",
       "\\end{enumerate*}\n"
      ],
      "text/markdown": [
       "1. 1154\n",
       "2. 24\n",
       "\n",
       "\n"
      ],
      "text/plain": [
       "[1] 1154   24"
      ]
     },
     "metadata": {},
     "output_type": "display_data"
    },
    {
     "data": {
      "text/html": [
       "<ol class=list-inline>\n",
       "\t<li>577</li>\n",
       "\t<li>25</li>\n",
       "</ol>\n"
      ],
      "text/latex": [
       "\\begin{enumerate*}\n",
       "\\item 577\n",
       "\\item 25\n",
       "\\end{enumerate*}\n"
      ],
      "text/markdown": [
       "1. 577\n",
       "2. 25\n",
       "\n",
       "\n"
      ],
      "text/plain": [
       "[1] 577  25"
      ]
     },
     "metadata": {},
     "output_type": "display_data"
    }
   ],
   "source": [
    "# Read in data\n",
    "\n",
    "multihit = read.table(\"../../data/deep_seq/multihit_nonsynonymous_variant_data.txt\", \n",
    "                      sep = \"\\t\", \n",
    "                      header = T)\n",
    "\n",
    "dim(multihit)\n",
    "\n",
    "multihit_selection_coefs = read.table(\"../../data/deep_seq/multihit_variant_selection_coefficient_data.txt\", \n",
    "                      sep = \"\\t\", \n",
    "                      header = T)\n",
    "\n",
    "dim(multihit_selection_coefs)"
   ]
  },
  {
   "cell_type": "code",
   "execution_count": 17,
   "metadata": {},
   "outputs": [
    {
     "data": {
      "text/html": [
       "<ol class=list-inline>\n",
       "\t<li>'HAMBI_1992'</li>\n",
       "\t<li>'HAMBI_2160'</li>\n",
       "\t<li>'HAMBI_2443'</li>\n",
       "\t<li>'HAMBI_2659'</li>\n",
       "\t<li>'HAMBI_3031'</li>\n",
       "</ol>\n"
      ],
      "text/latex": [
       "\\begin{enumerate*}\n",
       "\\item 'HAMBI\\_1992'\n",
       "\\item 'HAMBI\\_2160'\n",
       "\\item 'HAMBI\\_2443'\n",
       "\\item 'HAMBI\\_2659'\n",
       "\\item 'HAMBI\\_3031'\n",
       "\\end{enumerate*}\n"
      ],
      "text/markdown": [
       "1. 'HAMBI_1992'\n",
       "2. 'HAMBI_2160'\n",
       "3. 'HAMBI_2443'\n",
       "4. 'HAMBI_2659'\n",
       "5. 'HAMBI_3031'\n",
       "\n",
       "\n"
      ],
      "text/plain": [
       "[1] \"HAMBI_1992\" \"HAMBI_2160\" \"HAMBI_2443\" \"HAMBI_2659\" \"HAMBI_3031\""
      ]
     },
     "metadata": {},
     "output_type": "display_data"
    },
    {
     "data": {
      "text/html": [
       "<ol class=list-inline>\n",
       "\t<li>1012</li>\n",
       "\t<li>24</li>\n",
       "</ol>\n"
      ],
      "text/latex": [
       "\\begin{enumerate*}\n",
       "\\item 1012\n",
       "\\item 24\n",
       "\\end{enumerate*}\n"
      ],
      "text/markdown": [
       "1. 1012\n",
       "2. 24\n",
       "\n",
       "\n"
      ],
      "text/plain": [
       "[1] 1012   24"
      ]
     },
     "metadata": {},
     "output_type": "display_data"
    },
    {
     "data": {
      "text/html": [
       "<ol class=list-inline>\n",
       "\t<li>506</li>\n",
       "\t<li>25</li>\n",
       "</ol>\n"
      ],
      "text/latex": [
       "\\begin{enumerate*}\n",
       "\\item 506\n",
       "\\item 25\n",
       "\\end{enumerate*}\n"
      ],
      "text/markdown": [
       "1. 506\n",
       "2. 25\n",
       "\n",
       "\n"
      ],
      "text/plain": [
       "[1] 506  25"
      ]
     },
     "metadata": {},
     "output_type": "display_data"
    }
   ],
   "source": [
    "# Remove species for which there is variant data only with antibiotics since multihit genes cannot be compared\n",
    "# with and without antibiotics\n",
    "\n",
    "species_by_antibiotics = as.data.frame(table(multihit$SPECIES, by = multihit$ANTIBIOTIC))\n",
    "species_removed = as.vector(unique(species_by_antibiotics$Var1[species_by_antibiotics$by == 0 & \n",
    "                                                               species_by_antibiotics$Freq == 0]))\n",
    "species_removed\n",
    "\n",
    "multihit = multihit[!(multihit$SPECIES %in% species_removed),]\n",
    "dim(multihit)\n",
    "\n",
    "multihit_selection_coefs = multihit_selection_coefs[!(multihit_selection_coefs$SPECIES %in% species_removed),]\n",
    "dim(multihit_selection_coefs)"
   ]
  },
  {
   "cell_type": "code",
   "execution_count": 28,
   "metadata": {},
   "outputs": [
    {
     "data": {
      "text/html": [
       "<ol class=list-inline>\n",
       "\t<li>'CKLFCLNC_03362'</li>\n",
       "\t<li>'IBBHIMLJ_02593'</li>\n",
       "\t<li>'IDIPBEOP_05061'</li>\n",
       "\t<li>'cra'</li>\n",
       "\t<li>'cspA_6'</li>\n",
       "\t<li>'ltxA_6'</li>\n",
       "\t<li>'luxQ_1'</li>\n",
       "\t<li>'phoQ_2'</li>\n",
       "\t<li>'rpsL'</li>\n",
       "\t<li>'rsmG'</li>\n",
       "</ol>\n"
      ],
      "text/latex": [
       "\\begin{enumerate*}\n",
       "\\item 'CKLFCLNC\\_03362'\n",
       "\\item 'IBBHIMLJ\\_02593'\n",
       "\\item 'IDIPBEOP\\_05061'\n",
       "\\item 'cra'\n",
       "\\item 'cspA\\_6'\n",
       "\\item 'ltxA\\_6'\n",
       "\\item 'luxQ\\_1'\n",
       "\\item 'phoQ\\_2'\n",
       "\\item 'rpsL'\n",
       "\\item 'rsmG'\n",
       "\\end{enumerate*}\n"
      ],
      "text/markdown": [
       "1. 'CKLFCLNC_03362'\n",
       "2. 'IBBHIMLJ_02593'\n",
       "3. 'IDIPBEOP_05061'\n",
       "4. 'cra'\n",
       "5. 'cspA_6'\n",
       "6. 'ltxA_6'\n",
       "7. 'luxQ_1'\n",
       "8. 'phoQ_2'\n",
       "9. 'rpsL'\n",
       "10. 'rsmG'\n",
       "\n",
       "\n"
      ],
      "text/plain": [
       " [1] \"CKLFCLNC_03362\" \"IBBHIMLJ_02593\" \"IDIPBEOP_05061\" \"cra\"           \n",
       " [5] \"cspA_6\"         \"ltxA_6\"         \"luxQ_1\"         \"phoQ_2\"        \n",
       " [9] \"rpsL\"           \"rsmG\"          "
      ]
     },
     "metadata": {},
     "output_type": "display_data"
    },
    {
     "data": {
      "text/html": [
       "<ol class=list-inline>\n",
       "\t<li>54</li>\n",
       "\t<li>24</li>\n",
       "</ol>\n"
      ],
      "text/latex": [
       "\\begin{enumerate*}\n",
       "\\item 54\n",
       "\\item 24\n",
       "\\end{enumerate*}\n"
      ],
      "text/markdown": [
       "1. 54\n",
       "2. 24\n",
       "\n",
       "\n"
      ],
      "text/plain": [
       "[1] 54 24"
      ]
     },
     "metadata": {},
     "output_type": "display_data"
    },
    {
     "data": {
      "text/html": [
       "<ol class=list-inline>\n",
       "\t<li>27</li>\n",
       "\t<li>25</li>\n",
       "</ol>\n"
      ],
      "text/latex": [
       "\\begin{enumerate*}\n",
       "\\item 27\n",
       "\\item 25\n",
       "\\end{enumerate*}\n"
      ],
      "text/markdown": [
       "1. 27\n",
       "2. 25\n",
       "\n",
       "\n"
      ],
      "text/plain": [
       "[1] 27 25"
      ]
     },
     "metadata": {},
     "output_type": "display_data"
    }
   ],
   "source": [
    "# Remove genes present both with and without antibiotic\n",
    "\n",
    "genes_by_antibiotics = as.data.frame(table(multihit$GENE, by = multihit$ANTIBIOTIC))\n",
    "genes_by_antibiotics = spread(genes_by_antibiotics, by, Freq)\n",
    "genes_by_antibiotics$all_ab = rowSums(genes_by_antibiotics[,3:5])\n",
    "genes_by_antibiotics$no_ab = ifelse(genes_by_antibiotics$'0' == 0, 0, 1)\n",
    "genes_by_antibiotics$ab = ifelse(genes_by_antibiotics$all_ab == 0, 0, 1)\n",
    "\n",
    "genes_kept = as.vector(unique(genes_by_antibiotics$Var1[genes_by_antibiotics$no_ab == 0 & \n",
    "                                                           genes_by_antibiotics$ab == 1]))\n",
    "\n",
    "multihit = multihit[multihit$GENE %in% genes_kept,]\n",
    "dim(multihit)\n",
    "\n",
    "multihit_selection_coefs = multihit_selection_coefs[multihit_selection_coefs$GENE %in% genes_kept,]\n",
    "dim(multihit_selection_coefs)"
   ]
  },
  {
   "cell_type": "code",
   "execution_count": 36,
   "metadata": {},
   "outputs": [
    {
     "data": {
      "text/html": [
       "10"
      ],
      "text/latex": [
       "10"
      ],
      "text/markdown": [
       "10"
      ],
      "text/plain": [
       "[1] 10"
      ]
     },
     "metadata": {},
     "output_type": "display_data"
    },
    {
     "data": {
      "text/html": [
       "<ol class=list-inline>\n",
       "\t<li>'CKLFCLNC_03362'</li>\n",
       "\t<li>'IBBHIMLJ_02593'</li>\n",
       "\t<li>'IDIPBEOP_05061'</li>\n",
       "\t<li>'cra'</li>\n",
       "\t<li>'cspA_6'</li>\n",
       "\t<li>'ltxA_6'</li>\n",
       "\t<li>'luxQ_1'</li>\n",
       "\t<li>'phoQ_2'</li>\n",
       "\t<li>'rpsL'</li>\n",
       "\t<li>'rsmG'</li>\n",
       "</ol>\n"
      ],
      "text/latex": [
       "\\begin{enumerate*}\n",
       "\\item 'CKLFCLNC\\_03362'\n",
       "\\item 'IBBHIMLJ\\_02593'\n",
       "\\item 'IDIPBEOP\\_05061'\n",
       "\\item 'cra'\n",
       "\\item 'cspA\\_6'\n",
       "\\item 'ltxA\\_6'\n",
       "\\item 'luxQ\\_1'\n",
       "\\item 'phoQ\\_2'\n",
       "\\item 'rpsL'\n",
       "\\item 'rsmG'\n",
       "\\end{enumerate*}\n"
      ],
      "text/markdown": [
       "1. 'CKLFCLNC_03362'\n",
       "2. 'IBBHIMLJ_02593'\n",
       "3. 'IDIPBEOP_05061'\n",
       "4. 'cra'\n",
       "5. 'cspA_6'\n",
       "6. 'ltxA_6'\n",
       "7. 'luxQ_1'\n",
       "8. 'phoQ_2'\n",
       "9. 'rpsL'\n",
       "10. 'rsmG'\n",
       "\n",
       "\n"
      ],
      "text/plain": [
       " [1] \"CKLFCLNC_03362\" \"IBBHIMLJ_02593\" \"IDIPBEOP_05061\" \"cra\"           \n",
       " [5] \"cspA_6\"         \"ltxA_6\"         \"luxQ_1\"         \"phoQ_2\"        \n",
       " [9] \"rpsL\"           \"rsmG\"          "
      ]
     },
     "metadata": {},
     "output_type": "display_data"
    },
    {
     "data": {
      "text/html": [
       "<ol class=list-inline>\n",
       "\t<li>HAMBI_1972</li>\n",
       "\t<li>HAMBI_3172</li>\n",
       "\t<li>HAMBI_1896</li>\n",
       "\t<li>HAMBI_105</li>\n",
       "\t<li>HAMBI_1977</li>\n",
       "</ol>\n",
       "\n",
       "<details>\n",
       "\t<summary style=display:list-item;cursor:pointer>\n",
       "\t\t<strong>Levels</strong>:\n",
       "\t</summary>\n",
       "\t<ol class=list-inline>\n",
       "\t\t<li>'HAMBI_105'</li>\n",
       "\t\t<li>'HAMBI_1287'</li>\n",
       "\t\t<li>'HAMBI_1874'</li>\n",
       "\t\t<li>'HAMBI_1896'</li>\n",
       "\t\t<li>'HAMBI_1972'</li>\n",
       "\t\t<li>'HAMBI_1977'</li>\n",
       "\t\t<li>'HAMBI_1992'</li>\n",
       "\t\t<li>'HAMBI_2160'</li>\n",
       "\t\t<li>'HAMBI_2443'</li>\n",
       "\t\t<li>'HAMBI_2659'</li>\n",
       "\t\t<li>'HAMBI_3031'</li>\n",
       "\t\t<li>'HAMBI_3172'</li>\n",
       "\t</ol>\n",
       "</details>"
      ],
      "text/latex": [
       "\\begin{enumerate*}\n",
       "\\item HAMBI\\_1972\n",
       "\\item HAMBI\\_3172\n",
       "\\item HAMBI\\_1896\n",
       "\\item HAMBI\\_105\n",
       "\\item HAMBI\\_1977\n",
       "\\end{enumerate*}\n",
       "\n",
       "\\emph{Levels}: \\begin{enumerate*}\n",
       "\\item 'HAMBI\\_105'\n",
       "\\item 'HAMBI\\_1287'\n",
       "\\item 'HAMBI\\_1874'\n",
       "\\item 'HAMBI\\_1896'\n",
       "\\item 'HAMBI\\_1972'\n",
       "\\item 'HAMBI\\_1977'\n",
       "\\item 'HAMBI\\_1992'\n",
       "\\item 'HAMBI\\_2160'\n",
       "\\item 'HAMBI\\_2443'\n",
       "\\item 'HAMBI\\_2659'\n",
       "\\item 'HAMBI\\_3031'\n",
       "\\item 'HAMBI\\_3172'\n",
       "\\end{enumerate*}\n"
      ],
      "text/markdown": [
       "1. HAMBI_1972\n",
       "2. HAMBI_3172\n",
       "3. HAMBI_1896\n",
       "4. HAMBI_105\n",
       "5. HAMBI_1977\n",
       "\n",
       "\n",
       "\n",
       "**Levels**: 1. 'HAMBI_105'\n",
       "2. 'HAMBI_1287'\n",
       "3. 'HAMBI_1874'\n",
       "4. 'HAMBI_1896'\n",
       "5. 'HAMBI_1972'\n",
       "6. 'HAMBI_1977'\n",
       "7. 'HAMBI_1992'\n",
       "8. 'HAMBI_2160'\n",
       "9. 'HAMBI_2443'\n",
       "10. 'HAMBI_2659'\n",
       "11. 'HAMBI_3031'\n",
       "12. 'HAMBI_3172'\n",
       "\n",
       "\n"
      ],
      "text/plain": [
       "[1] HAMBI_1972 HAMBI_3172 HAMBI_1896 HAMBI_105  HAMBI_1977\n",
       "12 Levels: HAMBI_105 HAMBI_1287 HAMBI_1874 HAMBI_1896 HAMBI_1972 ... HAMBI_3172"
      ]
     },
     "metadata": {},
     "output_type": "display_data"
    },
    {
     "data": {
      "text/html": [
       "HAMBI_3172\n",
       "<details>\n",
       "\t<summary style=display:list-item;cursor:pointer>\n",
       "\t\t<strong>Levels</strong>:\n",
       "\t</summary>\n",
       "\t<ol class=list-inline>\n",
       "\t\t<li>'HAMBI_105'</li>\n",
       "\t\t<li>'HAMBI_1287'</li>\n",
       "\t\t<li>'HAMBI_1874'</li>\n",
       "\t\t<li>'HAMBI_1896'</li>\n",
       "\t\t<li>'HAMBI_1972'</li>\n",
       "\t\t<li>'HAMBI_1977'</li>\n",
       "\t\t<li>'HAMBI_1992'</li>\n",
       "\t\t<li>'HAMBI_2160'</li>\n",
       "\t\t<li>'HAMBI_2443'</li>\n",
       "\t\t<li>'HAMBI_2659'</li>\n",
       "\t\t<li>'HAMBI_3031'</li>\n",
       "\t\t<li>'HAMBI_3172'</li>\n",
       "\t</ol>\n",
       "</details>"
      ],
      "text/latex": [
       "HAMBI\\_3172\n",
       "\\emph{Levels}: \\begin{enumerate*}\n",
       "\\item 'HAMBI\\_105'\n",
       "\\item 'HAMBI\\_1287'\n",
       "\\item 'HAMBI\\_1874'\n",
       "\\item 'HAMBI\\_1896'\n",
       "\\item 'HAMBI\\_1972'\n",
       "\\item 'HAMBI\\_1977'\n",
       "\\item 'HAMBI\\_1992'\n",
       "\\item 'HAMBI\\_2160'\n",
       "\\item 'HAMBI\\_2443'\n",
       "\\item 'HAMBI\\_2659'\n",
       "\\item 'HAMBI\\_3031'\n",
       "\\item 'HAMBI\\_3172'\n",
       "\\end{enumerate*}\n"
      ],
      "text/markdown": [
       "HAMBI_3172\n",
       "**Levels**: 1. 'HAMBI_105'\n",
       "2. 'HAMBI_1287'\n",
       "3. 'HAMBI_1874'\n",
       "4. 'HAMBI_1896'\n",
       "5. 'HAMBI_1972'\n",
       "6. 'HAMBI_1977'\n",
       "7. 'HAMBI_1992'\n",
       "8. 'HAMBI_2160'\n",
       "9. 'HAMBI_2443'\n",
       "10. 'HAMBI_2659'\n",
       "11. 'HAMBI_3031'\n",
       "12. 'HAMBI_3172'\n",
       "\n",
       "\n"
      ],
      "text/plain": [
       "[1] HAMBI_3172\n",
       "12 Levels: HAMBI_105 HAMBI_1287 HAMBI_1874 HAMBI_1896 HAMBI_1972 ... HAMBI_3172"
      ]
     },
     "metadata": {},
     "output_type": "display_data"
    },
    {
     "data": {
      "text/html": [
       "HAMBI_1896\n",
       "<details>\n",
       "\t<summary style=display:list-item;cursor:pointer>\n",
       "\t\t<strong>Levels</strong>:\n",
       "\t</summary>\n",
       "\t<ol class=list-inline>\n",
       "\t\t<li>'HAMBI_105'</li>\n",
       "\t\t<li>'HAMBI_1287'</li>\n",
       "\t\t<li>'HAMBI_1874'</li>\n",
       "\t\t<li>'HAMBI_1896'</li>\n",
       "\t\t<li>'HAMBI_1972'</li>\n",
       "\t\t<li>'HAMBI_1977'</li>\n",
       "\t\t<li>'HAMBI_1992'</li>\n",
       "\t\t<li>'HAMBI_2160'</li>\n",
       "\t\t<li>'HAMBI_2443'</li>\n",
       "\t\t<li>'HAMBI_2659'</li>\n",
       "\t\t<li>'HAMBI_3031'</li>\n",
       "\t\t<li>'HAMBI_3172'</li>\n",
       "\t</ol>\n",
       "</details>"
      ],
      "text/latex": [
       "HAMBI\\_1896\n",
       "\\emph{Levels}: \\begin{enumerate*}\n",
       "\\item 'HAMBI\\_105'\n",
       "\\item 'HAMBI\\_1287'\n",
       "\\item 'HAMBI\\_1874'\n",
       "\\item 'HAMBI\\_1896'\n",
       "\\item 'HAMBI\\_1972'\n",
       "\\item 'HAMBI\\_1977'\n",
       "\\item 'HAMBI\\_1992'\n",
       "\\item 'HAMBI\\_2160'\n",
       "\\item 'HAMBI\\_2443'\n",
       "\\item 'HAMBI\\_2659'\n",
       "\\item 'HAMBI\\_3031'\n",
       "\\item 'HAMBI\\_3172'\n",
       "\\end{enumerate*}\n"
      ],
      "text/markdown": [
       "HAMBI_1896\n",
       "**Levels**: 1. 'HAMBI_105'\n",
       "2. 'HAMBI_1287'\n",
       "3. 'HAMBI_1874'\n",
       "4. 'HAMBI_1896'\n",
       "5. 'HAMBI_1972'\n",
       "6. 'HAMBI_1977'\n",
       "7. 'HAMBI_1992'\n",
       "8. 'HAMBI_2160'\n",
       "9. 'HAMBI_2443'\n",
       "10. 'HAMBI_2659'\n",
       "11. 'HAMBI_3031'\n",
       "12. 'HAMBI_3172'\n",
       "\n",
       "\n"
      ],
      "text/plain": [
       "[1] HAMBI_1896\n",
       "12 Levels: HAMBI_105 HAMBI_1287 HAMBI_1874 HAMBI_1896 HAMBI_1972 ... HAMBI_3172"
      ]
     },
     "metadata": {},
     "output_type": "display_data"
    },
    {
     "data": {
      "text/html": [
       "HAMBI_105\n",
       "<details>\n",
       "\t<summary style=display:list-item;cursor:pointer>\n",
       "\t\t<strong>Levels</strong>:\n",
       "\t</summary>\n",
       "\t<ol class=list-inline>\n",
       "\t\t<li>'HAMBI_105'</li>\n",
       "\t\t<li>'HAMBI_1287'</li>\n",
       "\t\t<li>'HAMBI_1874'</li>\n",
       "\t\t<li>'HAMBI_1896'</li>\n",
       "\t\t<li>'HAMBI_1972'</li>\n",
       "\t\t<li>'HAMBI_1977'</li>\n",
       "\t\t<li>'HAMBI_1992'</li>\n",
       "\t\t<li>'HAMBI_2160'</li>\n",
       "\t\t<li>'HAMBI_2443'</li>\n",
       "\t\t<li>'HAMBI_2659'</li>\n",
       "\t\t<li>'HAMBI_3031'</li>\n",
       "\t\t<li>'HAMBI_3172'</li>\n",
       "\t</ol>\n",
       "</details>"
      ],
      "text/latex": [
       "HAMBI\\_105\n",
       "\\emph{Levels}: \\begin{enumerate*}\n",
       "\\item 'HAMBI\\_105'\n",
       "\\item 'HAMBI\\_1287'\n",
       "\\item 'HAMBI\\_1874'\n",
       "\\item 'HAMBI\\_1896'\n",
       "\\item 'HAMBI\\_1972'\n",
       "\\item 'HAMBI\\_1977'\n",
       "\\item 'HAMBI\\_1992'\n",
       "\\item 'HAMBI\\_2160'\n",
       "\\item 'HAMBI\\_2443'\n",
       "\\item 'HAMBI\\_2659'\n",
       "\\item 'HAMBI\\_3031'\n",
       "\\item 'HAMBI\\_3172'\n",
       "\\end{enumerate*}\n"
      ],
      "text/markdown": [
       "HAMBI_105\n",
       "**Levels**: 1. 'HAMBI_105'\n",
       "2. 'HAMBI_1287'\n",
       "3. 'HAMBI_1874'\n",
       "4. 'HAMBI_1896'\n",
       "5. 'HAMBI_1972'\n",
       "6. 'HAMBI_1977'\n",
       "7. 'HAMBI_1992'\n",
       "8. 'HAMBI_2160'\n",
       "9. 'HAMBI_2443'\n",
       "10. 'HAMBI_2659'\n",
       "11. 'HAMBI_3031'\n",
       "12. 'HAMBI_3172'\n",
       "\n",
       "\n"
      ],
      "text/plain": [
       "[1] HAMBI_105\n",
       "12 Levels: HAMBI_105 HAMBI_1287 HAMBI_1874 HAMBI_1896 HAMBI_1972 ... HAMBI_3172"
      ]
     },
     "metadata": {},
     "output_type": "display_data"
    }
   ],
   "source": [
    "# Inspect\n",
    "\n",
    "length(genes_kept) # only 10 genes left\n",
    "\n",
    "genes_kept\n",
    "\n",
    "unique(multihit$SPECIES)\n",
    "unique(multihit$SPECIES[multihit$GENE == \"CKLFCLNC_03362\"])\n",
    "unique(multihit$SPECIES[multihit$GENE == \"IBBHIMLJ_02593\"])\n",
    "unique(multihit$SPECIES[multihit$GENE == \"IDIPBEOP_05061\"])"
   ]
  },
  {
   "cell_type": "markdown",
   "metadata": {},
   "source": [
    "## Potential role of genes in streptomycin / aminoglycoside resistance\n",
    "\n",
    "$rpsL$ (ribosomal protein S12, most common mutational target of streptomycin resistance):\n",
    "https://www.ncbi.nlm.nih.gov/pubmed/7934937\n",
    "\n",
    "$cra$ (transcription factor implicated in regulatory role affecting virulence / AMR):\n",
    "https://www.ncbi.nlm.nih.gov/pmc/articles/PMC5295033/\n",
    "\n",
    "$cspA$ (cold shock protein also implicated in AMR):\n",
    "https://www.ncbi.nlm.nih.gov/pmc/articles/PMC166043/\n",
    "\n",
    "$ltxA$ (virulence factor, indirect relationship with antimicrobial susceptibility and drug efflux):\n",
    "https://www.ncbi.nlm.nih.gov/pmc/articles/PMC1831674/\n",
    "\n",
    "$luxQ$ (quorum sensing / phosphatase activity):\n",
    "https://www.ncbi.nlm.nih.gov/pmc/articles/PMC228483/\n",
    "https://www.ncbi.nlm.nih.gov/pmc/articles/PMC2992599/\n",
    "\n",
    "$phoQ$ (member of two-component regulatory system implicated in streptomycin resistance):\n",
    "https://www.ncbi.nlm.nih.gov/pubmed/11021929\n",
    "\n",
    "$rsmG$ (16S rRNA methyltransferase implicated in streptomycin resistance):\n",
    "https://www.ncbi.nlm.nih.gov/pmc/articles/PMC1913335/\n",
    "http://www.scielo.org.co/scielo.php?script=sci_arttext&pid=S0120-41572014000500006\n",
    "\n",
    "\n",
    "### blastn hits for hypothetical proteins\n",
    "\n",
    "\n",
    "HAMBI_105 (Agrobacterium tumefaciens): IDIPBEOP_05061\n",
    "- hypothetical proteins in same and other species with no functional annotation\n",
    "\n",
    "HAMBI_1896: IBBHIMLJ_02593\n",
    "- homology with DNA-binding protein in Elisabethkingia anophelis (potential role for cold shock and DNA-binding proteins in aminoglycoside resistance: https://www.ncbi.nlm.nih.gov/pubmed/19907650)\n",
    "\n",
    "HAMBI_3172: CKLFCLNC_03362\n",
    "- homology with IS256 family transposase in same species (IS256 is associated with antibiotic, including aminoglycoside, resistance https://www.ncbi.nlm.nih.gov/pmc/articles/PMC2916423/)"
   ]
  },
  {
   "cell_type": "code",
   "execution_count": 41,
   "metadata": {},
   "outputs": [
    {
     "data": {
      "text/html": [
       "<table>\n",
       "<thead><tr><th></th><th scope=col>ANTIBIOTIC</th><th scope=col>IMMIGRATION</th><th scope=col>REPLICATE</th><th scope=col>SPECIES</th><th scope=col>CONTIG</th><th scope=col>CONTIG_LENGTH</th><th scope=col>POSITION</th><th scope=col>REF_ALLELE</th><th scope=col>ALT_ALLELE</th><th scope=col>VARIANT_TYPE</th><th scope=col>⋯</th><th scope=col>NA_CHANGE</th><th scope=col>AA_CHANGE</th><th scope=col>FREQ_T8</th><th scope=col>FREQ_T12</th><th scope=col>ABUND_T8</th><th scope=col>ABUND_T12</th><th scope=col>FREQ_S</th><th scope=col>FREQ_W</th><th scope=col>ABUND_S</th><th scope=col>ABUND_W</th></tr></thead>\n",
       "<tbody>\n",
       "\t<tr><th scope=row>147</th><td>128                                                           </td><td>0                                                             </td><td>1                                                             </td><td>HAMBI_105                                                     </td><td>IDIPBEOP_6                                                    </td><td> 241380                                                       </td><td> 209669                                                       </td><td><span style=white-space:pre-wrap>T  </span>                   </td><td><span style=white-space:pre-wrap>G  </span>                   </td><td><span style=white-space:pre-wrap>snp    </span>               </td><td>⋯                                                             </td><td><span style=white-space:pre-wrap>c.358A&gt;C           </span></td><td>p.Thr120Pro                                                   </td><td>0.01                                                          </td><td>0.9166667                                                     </td><td>4.666667e-04                                                  </td><td>0.004666667                                                   </td><td>1.748254                                                      </td><td>2.748254                                                      </td><td>0.5766990                                                     </td><td>1.576699                                                      </td></tr>\n",
       "\t<tr><th scope=row>203</th><td>128                                                           </td><td>0                                                             </td><td>3                                                             </td><td>HAMBI_105                                                     </td><td>IDIPBEOP_1                                                    </td><td>1656016                                                       </td><td>1148702                                                       </td><td><span style=white-space:pre-wrap>T  </span>                   </td><td><span style=white-space:pre-wrap>C  </span>                   </td><td><span style=white-space:pre-wrap>snp    </span>               </td><td>⋯                                                             </td><td><span style=white-space:pre-wrap>c.197A&gt;G           </span></td><td>p.Tyr66Cys                                                    </td><td>0.01                                                          </td><td>0.8750000                                                     </td><td>1.333333e-04                                                  </td><td>0.008266667                                                   </td><td>1.635257                                                      </td><td>2.635257                                                      </td><td>1.0338255                                                     </td><td>2.033826                                                      </td></tr>\n",
       "\t<tr><th scope=row>282</th><td> 16                </td><td>0                  </td><td>1                  </td><td>HAMBI_105          </td><td>IDIPBEOP_19        </td><td>  20135            </td><td>   7838            </td><td>GCG                </td><td>ACA                </td><td>complex            </td><td>⋯                  </td><td>c.61_63delGCGinsACA</td><td>p.Ala21Thr         </td><td>0.60               </td><td>0.9990000          </td><td>6.666667e-05       </td><td>0.001400000        </td><td>1.625322           </td><td>2.625322           </td><td>0.7614642          </td><td>1.761464           </td></tr>\n",
       "</tbody>\n",
       "</table>\n"
      ],
      "text/latex": [
       "\\begin{tabular}{r|lllllllllllllllllllllllll}\n",
       "  & ANTIBIOTIC & IMMIGRATION & REPLICATE & SPECIES & CONTIG & CONTIG\\_LENGTH & POSITION & REF\\_ALLELE & ALT\\_ALLELE & VARIANT\\_TYPE & ⋯ & NA\\_CHANGE & AA\\_CHANGE & FREQ\\_T8 & FREQ\\_T12 & ABUND\\_T8 & ABUND\\_T12 & FREQ\\_S & FREQ\\_W & ABUND\\_S & ABUND\\_W\\\\\n",
       "\\hline\n",
       "\t147 & 128                 & 0                   & 1                   & HAMBI\\_105         & IDIPBEOP\\_6        &  241380             &  209669             & T                   & G                   & snp                 & ⋯                   & c.358A>C            & p.Thr120Pro         & 0.01                & 0.9166667           & 4.666667e-04        & 0.004666667         & 1.748254            & 2.748254            & 0.5766990           & 1.576699           \\\\\n",
       "\t203 & 128                 & 0                   & 3                   & HAMBI\\_105         & IDIPBEOP\\_1        & 1656016             & 1148702             & T                   & C                   & snp                 & ⋯                   & c.197A>G            & p.Tyr66Cys          & 0.01                & 0.8750000           & 1.333333e-04        & 0.008266667         & 1.635257            & 2.635257            & 1.0338255           & 2.033826           \\\\\n",
       "\t282 &  16                   & 0                     & 1                     & HAMBI\\_105           & IDIPBEOP\\_19         &   20135               &    7838               & GCG                   & ACA                   & complex               & ⋯                     & c.61\\_63delGCGinsACA & p.Ala21Thr            & 0.60                  & 0.9990000             & 6.666667e-05          & 0.001400000           & 1.625322              & 2.625322              & 0.7614642             & 1.761464             \\\\\n",
       "\\end{tabular}\n"
      ],
      "text/markdown": [
       "\n",
       "| <!--/--> | ANTIBIOTIC | IMMIGRATION | REPLICATE | SPECIES | CONTIG | CONTIG_LENGTH | POSITION | REF_ALLELE | ALT_ALLELE | VARIANT_TYPE | ⋯ | NA_CHANGE | AA_CHANGE | FREQ_T8 | FREQ_T12 | ABUND_T8 | ABUND_T12 | FREQ_S | FREQ_W | ABUND_S | ABUND_W | \n",
       "|---|---|---|\n",
       "| 147 | 128                 | 0                   | 1                   | HAMBI_105           | IDIPBEOP_6          |  241380             |  209669             | T                   | G                   | snp                 | ⋯                   | c.358A>C            | p.Thr120Pro         | 0.01                | 0.9166667           | 4.666667e-04        | 0.004666667         | 1.748254            | 2.748254            | 0.5766990           | 1.576699            | \n",
       "| 203 | 128                 | 0                   | 3                   | HAMBI_105           | IDIPBEOP_1          | 1656016             | 1148702             | T                   | C                   | snp                 | ⋯                   | c.197A>G            | p.Tyr66Cys          | 0.01                | 0.8750000           | 1.333333e-04        | 0.008266667         | 1.635257            | 2.635257            | 1.0338255           | 2.033826            | \n",
       "| 282 |  16                 | 0                   | 1                   | HAMBI_105           | IDIPBEOP_19         |   20135             |    7838             | GCG                 | ACA                 | complex             | ⋯                   | c.61_63delGCGinsACA | p.Ala21Thr          | 0.60                | 0.9990000           | 6.666667e-05        | 0.001400000         | 1.625322            | 2.625322            | 0.7614642           | 1.761464            | \n",
       "\n",
       "\n"
      ],
      "text/plain": [
       "    ANTIBIOTIC IMMIGRATION REPLICATE SPECIES   CONTIG      CONTIG_LENGTH\n",
       "147 128        0           1         HAMBI_105 IDIPBEOP_6   241380      \n",
       "203 128        0           3         HAMBI_105 IDIPBEOP_1  1656016      \n",
       "282  16        0           1         HAMBI_105 IDIPBEOP_19   20135      \n",
       "    POSITION REF_ALLELE ALT_ALLELE VARIANT_TYPE ⋯ NA_CHANGE          \n",
       "147  209669  T          G          snp          ⋯ c.358A>C           \n",
       "203 1148702  T          C          snp          ⋯ c.197A>G           \n",
       "282    7838  GCG        ACA        complex      ⋯ c.61_63delGCGinsACA\n",
       "    AA_CHANGE   FREQ_T8 FREQ_T12  ABUND_T8     ABUND_T12   FREQ_S   FREQ_W  \n",
       "147 p.Thr120Pro 0.01    0.9166667 4.666667e-04 0.004666667 1.748254 2.748254\n",
       "203 p.Tyr66Cys  0.01    0.8750000 1.333333e-04 0.008266667 1.635257 2.635257\n",
       "282 p.Ala21Thr  0.60    0.9990000 6.666667e-05 0.001400000 1.625322 2.625322\n",
       "    ABUND_S   ABUND_W \n",
       "147 0.5766990 1.576699\n",
       "203 1.0338255 2.033826\n",
       "282 0.7614642 1.761464"
      ]
     },
     "metadata": {},
     "output_type": "display_data"
    }
   ],
   "source": [
    "# High selection coefficients between t8 and t12\n",
    "\n",
    "multihit_selection_coefs[multihit_selection_coefs$FREQ_S >= quantile(multihit_selection_coefs$FREQ_S, 0.9),]\n",
    "\n",
    "# all occur without immigration and are associated with increase in species abundance"
   ]
  },
  {
   "cell_type": "code",
   "execution_count": 42,
   "metadata": {},
   "outputs": [
    {
     "data": {
      "text/html": [
       "<table>\n",
       "<thead><tr><th></th><th scope=col>ANTIBIOTIC</th><th scope=col>IMMIGRATION</th><th scope=col>REPLICATE</th><th scope=col>SPECIES</th><th scope=col>CONTIG</th><th scope=col>CONTIG_LENGTH</th><th scope=col>POSITION</th><th scope=col>REF_ALLELE</th><th scope=col>ALT_ALLELE</th><th scope=col>VARIANT_TYPE</th><th scope=col>⋯</th><th scope=col>NA_CHANGE</th><th scope=col>AA_CHANGE</th><th scope=col>FREQ_T8</th><th scope=col>FREQ_T12</th><th scope=col>ABUND_T8</th><th scope=col>ABUND_T12</th><th scope=col>FREQ_S</th><th scope=col>FREQ_W</th><th scope=col>ABUND_S</th><th scope=col>ABUND_W</th></tr></thead>\n",
       "<tbody>\n",
       "\t<tr><th scope=row>248</th><td>128                               </td><td>0                                 </td><td>3                                 </td><td>HAMBI_3172                        </td><td>CKLFCLNC_50                       </td><td>54856                             </td><td> 1753                             </td><td>AC                                </td><td>GG                                </td><td>mnp                               </td><td>⋯                                 </td><td>c.1654_1655delACinsGG             </td><td>p.Thr552Gly                       </td><td>0.8333333                         </td><td>0.4285714                         </td><td>1.333333e-04                      </td><td>1.400000e-03                      </td><td>-0.4742800                        </td><td>0.5257200                         </td><td>0.5881607                         </td><td>1.588161                          </td></tr>\n",
       "\t<tr><th scope=row>280</th><td>128                               </td><td>1                                 </td><td>3                                 </td><td>HAMBI_3172                        </td><td>CKLFCLNC_36                       </td><td>69417                             </td><td>62894                             </td><td>AC                                </td><td>ATC                               </td><td>ins                               </td><td>⋯                                 </td><td>c.171_172insT                     </td><td>p.Gln58fs                         </td><td>0.8888889                         </td><td>0.5000000                         </td><td>6.666667e-05                      </td><td>6.666667e-05                      </td><td>-0.5198604                        </td><td>0.4801396                         </td><td>0.0000000                         </td><td>1.000000                          </td></tr>\n",
       "\t<tr><th scope=row>281</th><td>128                               </td><td>1                                 </td><td>3                                 </td><td>HAMBI_3172                        </td><td>CKLFCLNC_36                       </td><td>69417                             </td><td>63001                             </td><td>CCACCGA                           </td><td>GCACGAACCCGC                      </td><td>complex                           </td><td>⋯                                 </td><td>c.278_284delCCACCGAinsGCACGAACCCGC</td><td>p.Thr93fs                         </td><td>0.7500000                         </td><td>0.3333333                         </td><td>6.666667e-05                      </td><td>6.666667e-05                      </td><td>-0.4479399                        </td><td>0.5520601                         </td><td>0.0000000                         </td><td>1.000000                          </td></tr>\n",
       "</tbody>\n",
       "</table>\n"
      ],
      "text/latex": [
       "\\begin{tabular}{r|lllllllllllllllllllllllll}\n",
       "  & ANTIBIOTIC & IMMIGRATION & REPLICATE & SPECIES & CONTIG & CONTIG\\_LENGTH & POSITION & REF\\_ALLELE & ALT\\_ALLELE & VARIANT\\_TYPE & ⋯ & NA\\_CHANGE & AA\\_CHANGE & FREQ\\_T8 & FREQ\\_T12 & ABUND\\_T8 & ABUND\\_T12 & FREQ\\_S & FREQ\\_W & ABUND\\_S & ABUND\\_W\\\\\n",
       "\\hline\n",
       "\t248 & 128                                  & 0                                    & 3                                    & HAMBI\\_3172                         & CKLFCLNC\\_50                        & 54856                                &  1753                                & AC                                   & GG                                   & mnp                                  & ⋯                                    & c.1654\\_1655delACinsGG              & p.Thr552Gly                          & 0.8333333                            & 0.4285714                            & 1.333333e-04                         & 1.400000e-03                         & -0.4742800                           & 0.5257200                            & 0.5881607                            & 1.588161                            \\\\\n",
       "\t280 & 128                                  & 1                                    & 3                                    & HAMBI\\_3172                         & CKLFCLNC\\_36                        & 69417                                & 62894                                & AC                                   & ATC                                  & ins                                  & ⋯                                    & c.171\\_172insT                      & p.Gln58fs                            & 0.8888889                            & 0.5000000                            & 6.666667e-05                         & 6.666667e-05                         & -0.5198604                           & 0.4801396                            & 0.0000000                            & 1.000000                            \\\\\n",
       "\t281 & 128                                  & 1                                    & 3                                    & HAMBI\\_3172                         & CKLFCLNC\\_36                        & 69417                                & 63001                                & CCACCGA                              & GCACGAACCCGC                         & complex                              & ⋯                                    & c.278\\_284delCCACCGAinsGCACGAACCCGC & p.Thr93fs                            & 0.7500000                            & 0.3333333                            & 6.666667e-05                         & 6.666667e-05                         & -0.4479399                           & 0.5520601                            & 0.0000000                            & 1.000000                            \\\\\n",
       "\\end{tabular}\n"
      ],
      "text/markdown": [
       "\n",
       "| <!--/--> | ANTIBIOTIC | IMMIGRATION | REPLICATE | SPECIES | CONTIG | CONTIG_LENGTH | POSITION | REF_ALLELE | ALT_ALLELE | VARIANT_TYPE | ⋯ | NA_CHANGE | AA_CHANGE | FREQ_T8 | FREQ_T12 | ABUND_T8 | ABUND_T12 | FREQ_S | FREQ_W | ABUND_S | ABUND_W | \n",
       "|---|---|---|\n",
       "| 248 | 128                                | 0                                  | 3                                  | HAMBI_3172                         | CKLFCLNC_50                        | 54856                              |  1753                              | AC                                 | GG                                 | mnp                                | ⋯                                  | c.1654_1655delACinsGG              | p.Thr552Gly                        | 0.8333333                          | 0.4285714                          | 1.333333e-04                       | 1.400000e-03                       | -0.4742800                         | 0.5257200                          | 0.5881607                          | 1.588161                           | \n",
       "| 280 | 128                                | 1                                  | 3                                  | HAMBI_3172                         | CKLFCLNC_36                        | 69417                              | 62894                              | AC                                 | ATC                                | ins                                | ⋯                                  | c.171_172insT                      | p.Gln58fs                          | 0.8888889                          | 0.5000000                          | 6.666667e-05                       | 6.666667e-05                       | -0.5198604                         | 0.4801396                          | 0.0000000                          | 1.000000                           | \n",
       "| 281 | 128                                | 1                                  | 3                                  | HAMBI_3172                         | CKLFCLNC_36                        | 69417                              | 63001                              | CCACCGA                            | GCACGAACCCGC                       | complex                            | ⋯                                  | c.278_284delCCACCGAinsGCACGAACCCGC | p.Thr93fs                          | 0.7500000                          | 0.3333333                          | 6.666667e-05                       | 6.666667e-05                       | -0.4479399                         | 0.5520601                          | 0.0000000                          | 1.000000                           | \n",
       "\n",
       "\n"
      ],
      "text/plain": [
       "    ANTIBIOTIC IMMIGRATION REPLICATE SPECIES    CONTIG      CONTIG_LENGTH\n",
       "248 128        0           3         HAMBI_3172 CKLFCLNC_50 54856        \n",
       "280 128        1           3         HAMBI_3172 CKLFCLNC_36 69417        \n",
       "281 128        1           3         HAMBI_3172 CKLFCLNC_36 69417        \n",
       "    POSITION REF_ALLELE ALT_ALLELE   VARIANT_TYPE ⋯\n",
       "248  1753    AC         GG           mnp          ⋯\n",
       "280 62894    AC         ATC          ins          ⋯\n",
       "281 63001    CCACCGA    GCACGAACCCGC complex      ⋯\n",
       "    NA_CHANGE                          AA_CHANGE   FREQ_T8   FREQ_T12 \n",
       "248 c.1654_1655delACinsGG              p.Thr552Gly 0.8333333 0.4285714\n",
       "280 c.171_172insT                      p.Gln58fs   0.8888889 0.5000000\n",
       "281 c.278_284delCCACCGAinsGCACGAACCCGC p.Thr93fs   0.7500000 0.3333333\n",
       "    ABUND_T8     ABUND_T12    FREQ_S     FREQ_W    ABUND_S   ABUND_W \n",
       "248 1.333333e-04 1.400000e-03 -0.4742800 0.5257200 0.5881607 1.588161\n",
       "280 6.666667e-05 6.666667e-05 -0.5198604 0.4801396 0.0000000 1.000000\n",
       "281 6.666667e-05 6.666667e-05 -0.4479399 0.5520601 0.0000000 1.000000"
      ]
     },
     "metadata": {},
     "output_type": "display_data"
    }
   ],
   "source": [
    "# Low selection coefficients between t8 and t12\n",
    "\n",
    "multihit_selection_coefs[multihit_selection_coefs$FREQ_S <= quantile(multihit_selection_coefs$FREQ_S, 0.1),]\n",
    "\n",
    "# 2/3 occur with immigration, and these two are associated with no abundance change in species"
   ]
  }
 ],
 "metadata": {
  "kernelspec": {
   "display_name": "R",
   "language": "R",
   "name": "ir"
  },
  "language_info": {
   "codemirror_mode": "r",
   "file_extension": ".r",
   "mimetype": "text/x-r-source",
   "name": "R",
   "pygments_lexer": "r",
   "version": "3.5.1"
  }
 },
 "nbformat": 4,
 "nbformat_minor": 2
}
