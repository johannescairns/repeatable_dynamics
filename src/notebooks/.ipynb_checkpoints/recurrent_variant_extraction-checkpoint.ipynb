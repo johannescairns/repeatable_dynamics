{
 "cells": [
  {
   "cell_type": "markdown",
   "metadata": {},
   "source": [
    "# Extracting multihit nonsynonymous mutations from filtered variants"
   ]
  },
  {
   "cell_type": "code",
   "execution_count": 11,
   "metadata": {},
   "outputs": [],
   "source": [
    "# Read in data\n",
    "\n",
    "variants = read.table(\"../../data/deep_seq/filtered_variant_data.txt\", \n",
    "                      sep = \"\\t\", \n",
    "                      header = T)"
   ]
  },
  {
   "cell_type": "code",
   "execution_count": 12,
   "metadata": {},
   "outputs": [
    {
     "data": {
      "text/html": [
       "<table>\n",
       "<thead><tr><th></th><th scope=col>SAMPLE</th><th scope=col>TIME</th><th scope=col>ANTIBIOTIC</th><th scope=col>IMMIGRATION</th><th scope=col>REPLICATE</th><th scope=col>SPECIES</th><th scope=col>CONTIG</th><th scope=col>CONTIG_LENGTH</th><th scope=col>POSITION</th><th scope=col>REF_ALLELE</th><th scope=col>⋯</th><th scope=col>VARIANT_EFFECT_CAT</th><th scope=col>VARIANT_IMPACT</th><th scope=col>GENE</th><th scope=col>GENEID</th><th scope=col>NA_CHANGE</th><th scope=col>AA_CHANGE</th><th scope=col>VARIANT_FREQUENCY</th><th scope=col>MEDIAN_COVERAGE</th><th scope=col>AMPLICON_READS</th><th scope=col>DISTANCE_FROM_PREV</th></tr></thead>\n",
       "<tbody>\n",
       "\t<tr><th scope=row>139</th><td>T8_AB4_I1_REP2 </td><td> 8             </td><td> 4             </td><td>1              </td><td>2              </td><td>HAMBI_1972     </td><td>ABNHBPOL_11    </td><td>154390         </td><td>38145          </td><td>T              </td><td>⋯              </td><td>nonsynonymous  </td><td>MODERATE       </td><td>vgrG1_2        </td><td>ABNHBPOL_02456 </td><td>c.340T&gt;G    </td><td>p.Ser114Ala    </td><td>0.5116279      </td><td>181            </td><td> 137           </td><td>40             </td></tr>\n",
       "\t<tr><th scope=row>140</th><td>T8_AB4_I1_REP3                              </td><td> 8                                          </td><td> 4                                          </td><td>1                                           </td><td>3                                           </td><td>HAMBI_1972                                  </td><td>ABNHBPOL_11                                 </td><td>154390                                      </td><td>38145                                       </td><td>T                                           </td><td>⋯                                           </td><td>nonsynonymous                               </td><td>MODERATE                                    </td><td>vgrG1_2                                     </td><td>ABNHBPOL_02456                              </td><td>c.340T&gt;G                                 </td><td>p.Ser114Ala                                 </td><td>0.6190476                                   </td><td>184                                         </td><td><span style=white-space:pre-wrap>  95</span></td><td>40                                          </td></tr>\n",
       "\t<tr><th scope=row>141</th><td>T8_AB16_I0_REP1                             </td><td> 8                                          </td><td>16                                          </td><td>0                                           </td><td>1                                           </td><td>HAMBI_1972                                  </td><td>ABNHBPOL_11                                 </td><td>154390                                      </td><td>38145                                       </td><td>T                                           </td><td>⋯                                           </td><td>nonsynonymous                               </td><td>MODERATE                                    </td><td>vgrG1_2                                     </td><td>ABNHBPOL_02456                              </td><td>c.340T&gt;G                                 </td><td>p.Ser114Ala                                 </td><td>0.3750000                                   </td><td> 25                                         </td><td><span style=white-space:pre-wrap>   4</span></td><td>40                                          </td></tr>\n",
       "\t<tr><th scope=row>142</th><td>T8_AB16_I1_REP3                             </td><td> 8                                          </td><td>16                                          </td><td>1                                           </td><td>3                                           </td><td>HAMBI_1972                                  </td><td>ABNHBPOL_11                                 </td><td>154390                                      </td><td>38145                                       </td><td>T                                           </td><td>⋯                                           </td><td>nonsynonymous                               </td><td>MODERATE                                    </td><td>vgrG1_2                                     </td><td>ABNHBPOL_02456                              </td><td>c.340T&gt;G                                 </td><td>p.Ser114Ala                                 </td><td>0.7500000                                   </td><td> 23                                         </td><td><span style=white-space:pre-wrap>   8</span></td><td>40                                          </td></tr>\n",
       "\t<tr><th scope=row>143</th><td>T12_AB4_I1_REP2</td><td>12             </td><td> 4             </td><td>1              </td><td>2              </td><td>HAMBI_1972     </td><td>ABNHBPOL_11    </td><td>154390         </td><td>38145          </td><td>T              </td><td>⋯              </td><td>nonsynonymous  </td><td>MODERATE       </td><td>vgrG1_2        </td><td>ABNHBPOL_02456 </td><td>c.340T&gt;G    </td><td>p.Ser114Ala    </td><td>0.6250000      </td><td>469            </td><td>1129           </td><td>40             </td></tr>\n",
       "\t<tr><th scope=row>144</th><td>T12_AB4_I1_REP3</td><td>12             </td><td> 4             </td><td>1              </td><td>3              </td><td>HAMBI_1972     </td><td>ABNHBPOL_11    </td><td>154390         </td><td>38145          </td><td>T              </td><td>⋯              </td><td>nonsynonymous  </td><td>MODERATE       </td><td>vgrG1_2        </td><td>ABNHBPOL_02456 </td><td>c.340T&gt;G    </td><td>p.Ser114Ala    </td><td>0.5421687      </td><td>393            </td><td> 734           </td><td>40             </td></tr>\n",
       "</tbody>\n",
       "</table>\n"
      ],
      "text/latex": [
       "\\begin{tabular}{r|lllllllllllllllllllllll}\n",
       "  & SAMPLE & TIME & ANTIBIOTIC & IMMIGRATION & REPLICATE & SPECIES & CONTIG & CONTIG\\_LENGTH & POSITION & REF\\_ALLELE & ⋯ & VARIANT\\_EFFECT\\_CAT & VARIANT\\_IMPACT & GENE & GENEID & NA\\_CHANGE & AA\\_CHANGE & VARIANT\\_FREQUENCY & MEDIAN\\_COVERAGE & AMPLICON\\_READS & DISTANCE\\_FROM\\_PREV\\\\\n",
       "\\hline\n",
       "\t139 & T8\\_AB4\\_I1\\_REP2  &  8                    &  4                    & 1                     & 2                     & HAMBI\\_1972          & ABNHBPOL\\_11         & 154390                & 38145                 & T                     & ⋯                     & nonsynonymous         & MODERATE              & vgrG1\\_2             & ABNHBPOL\\_02456      & c.340T>G              & p.Ser114Ala           & 0.5116279             & 181                   &  137                  & 40                   \\\\\n",
       "\t140 & T8\\_AB4\\_I1\\_REP3  &  8                    &  4                    & 1                     & 3                     & HAMBI\\_1972          & ABNHBPOL\\_11         & 154390                & 38145                 & T                     & ⋯                     & nonsynonymous         & MODERATE              & vgrG1\\_2             & ABNHBPOL\\_02456      & c.340T>G              & p.Ser114Ala           & 0.6190476             & 184                   &   95                  & 40                   \\\\\n",
       "\t141 & T8\\_AB16\\_I0\\_REP1 &  8                    & 16                    & 0                     & 1                     & HAMBI\\_1972          & ABNHBPOL\\_11         & 154390                & 38145                 & T                     & ⋯                     & nonsynonymous         & MODERATE              & vgrG1\\_2             & ABNHBPOL\\_02456      & c.340T>G              & p.Ser114Ala           & 0.3750000             &  25                   &    4                  & 40                   \\\\\n",
       "\t142 & T8\\_AB16\\_I1\\_REP3 &  8                    & 16                    & 1                     & 3                     & HAMBI\\_1972          & ABNHBPOL\\_11         & 154390                & 38145                 & T                     & ⋯                     & nonsynonymous         & MODERATE              & vgrG1\\_2             & ABNHBPOL\\_02456      & c.340T>G              & p.Ser114Ala           & 0.7500000             &  23                   &    8                  & 40                   \\\\\n",
       "\t143 & T12\\_AB4\\_I1\\_REP2 & 12                    &  4                    & 1                     & 2                     & HAMBI\\_1972          & ABNHBPOL\\_11         & 154390                & 38145                 & T                     & ⋯                     & nonsynonymous         & MODERATE              & vgrG1\\_2             & ABNHBPOL\\_02456      & c.340T>G              & p.Ser114Ala           & 0.6250000             & 469                   & 1129                  & 40                   \\\\\n",
       "\t144 & T12\\_AB4\\_I1\\_REP3 & 12                    &  4                    & 1                     & 3                     & HAMBI\\_1972          & ABNHBPOL\\_11         & 154390                & 38145                 & T                     & ⋯                     & nonsynonymous         & MODERATE              & vgrG1\\_2             & ABNHBPOL\\_02456      & c.340T>G              & p.Ser114Ala           & 0.5421687             & 393                   &  734                  & 40                   \\\\\n",
       "\\end{tabular}\n"
      ],
      "text/markdown": [
       "\n",
       "| <!--/--> | SAMPLE | TIME | ANTIBIOTIC | IMMIGRATION | REPLICATE | SPECIES | CONTIG | CONTIG_LENGTH | POSITION | REF_ALLELE | ⋯ | VARIANT_EFFECT_CAT | VARIANT_IMPACT | GENE | GENEID | NA_CHANGE | AA_CHANGE | VARIANT_FREQUENCY | MEDIAN_COVERAGE | AMPLICON_READS | DISTANCE_FROM_PREV | \n",
       "|---|---|---|---|---|---|\n",
       "| 139 | T8_AB4_I1_REP2  |  8              |  4              | 1               | 2               | HAMBI_1972      | ABNHBPOL_11     | 154390          | 38145           | T               | ⋯               | nonsynonymous   | MODERATE        | vgrG1_2         | ABNHBPOL_02456  | c.340T>G        | p.Ser114Ala     | 0.5116279       | 181             |  137            | 40              | \n",
       "| 140 | T8_AB4_I1_REP3  |  8              |  4              | 1               | 3               | HAMBI_1972      | ABNHBPOL_11     | 154390          | 38145           | T               | ⋯               | nonsynonymous   | MODERATE        | vgrG1_2         | ABNHBPOL_02456  | c.340T>G        | p.Ser114Ala     | 0.6190476       | 184             |   95            | 40              | \n",
       "| 141 | T8_AB16_I0_REP1 |  8              | 16              | 0               | 1               | HAMBI_1972      | ABNHBPOL_11     | 154390          | 38145           | T               | ⋯               | nonsynonymous   | MODERATE        | vgrG1_2         | ABNHBPOL_02456  | c.340T>G        | p.Ser114Ala     | 0.3750000       |  25             |    4            | 40              | \n",
       "| 142 | T8_AB16_I1_REP3 |  8              | 16              | 1               | 3               | HAMBI_1972      | ABNHBPOL_11     | 154390          | 38145           | T               | ⋯               | nonsynonymous   | MODERATE        | vgrG1_2         | ABNHBPOL_02456  | c.340T>G        | p.Ser114Ala     | 0.7500000       |  23             |    8            | 40              | \n",
       "| 143 | T12_AB4_I1_REP2 | 12              |  4              | 1               | 2               | HAMBI_1972      | ABNHBPOL_11     | 154390          | 38145           | T               | ⋯               | nonsynonymous   | MODERATE        | vgrG1_2         | ABNHBPOL_02456  | c.340T>G        | p.Ser114Ala     | 0.6250000       | 469             | 1129            | 40              | \n",
       "| 144 | T12_AB4_I1_REP3 | 12              |  4              | 1               | 3               | HAMBI_1972      | ABNHBPOL_11     | 154390          | 38145           | T               | ⋯               | nonsynonymous   | MODERATE        | vgrG1_2         | ABNHBPOL_02456  | c.340T>G        | p.Ser114Ala     | 0.5421687       | 393             |  734            | 40              | \n",
       "\n",
       "\n"
      ],
      "text/plain": [
       "    SAMPLE          TIME ANTIBIOTIC IMMIGRATION REPLICATE SPECIES   \n",
       "139 T8_AB4_I1_REP2   8    4         1           2         HAMBI_1972\n",
       "140 T8_AB4_I1_REP3   8    4         1           3         HAMBI_1972\n",
       "141 T8_AB16_I0_REP1  8   16         0           1         HAMBI_1972\n",
       "142 T8_AB16_I1_REP3  8   16         1           3         HAMBI_1972\n",
       "143 T12_AB4_I1_REP2 12    4         1           2         HAMBI_1972\n",
       "144 T12_AB4_I1_REP3 12    4         1           3         HAMBI_1972\n",
       "    CONTIG      CONTIG_LENGTH POSITION REF_ALLELE ⋯ VARIANT_EFFECT_CAT\n",
       "139 ABNHBPOL_11 154390        38145    T          ⋯ nonsynonymous     \n",
       "140 ABNHBPOL_11 154390        38145    T          ⋯ nonsynonymous     \n",
       "141 ABNHBPOL_11 154390        38145    T          ⋯ nonsynonymous     \n",
       "142 ABNHBPOL_11 154390        38145    T          ⋯ nonsynonymous     \n",
       "143 ABNHBPOL_11 154390        38145    T          ⋯ nonsynonymous     \n",
       "144 ABNHBPOL_11 154390        38145    T          ⋯ nonsynonymous     \n",
       "    VARIANT_IMPACT GENE    GENEID         NA_CHANGE AA_CHANGE  \n",
       "139 MODERATE       vgrG1_2 ABNHBPOL_02456 c.340T>G  p.Ser114Ala\n",
       "140 MODERATE       vgrG1_2 ABNHBPOL_02456 c.340T>G  p.Ser114Ala\n",
       "141 MODERATE       vgrG1_2 ABNHBPOL_02456 c.340T>G  p.Ser114Ala\n",
       "142 MODERATE       vgrG1_2 ABNHBPOL_02456 c.340T>G  p.Ser114Ala\n",
       "143 MODERATE       vgrG1_2 ABNHBPOL_02456 c.340T>G  p.Ser114Ala\n",
       "144 MODERATE       vgrG1_2 ABNHBPOL_02456 c.340T>G  p.Ser114Ala\n",
       "    VARIANT_FREQUENCY MEDIAN_COVERAGE AMPLICON_READS DISTANCE_FROM_PREV\n",
       "139 0.5116279         181              137           40                \n",
       "140 0.6190476         184               95           40                \n",
       "141 0.3750000          25                4           40                \n",
       "142 0.7500000          23                8           40                \n",
       "143 0.6250000         469             1129           40                \n",
       "144 0.5421687         393              734           40                "
      ]
     },
     "metadata": {},
     "output_type": "display_data"
    }
   ],
   "source": [
    "# Subset only genes with nonsynonymous mutations\n",
    "\n",
    "nonsynonymous = variants[variants$VARIANT_EFFECT_CAT == \"nonsynonymous\",]\n",
    "head(nonsynonymous)"
   ]
  },
  {
   "cell_type": "code",
   "execution_count": 13,
   "metadata": {},
   "outputs": [
    {
     "data": {
      "text/html": [
       "588"
      ],
      "text/latex": [
       "588"
      ],
      "text/markdown": [
       "588"
      ],
      "text/plain": [
       "[1] 588"
      ]
     },
     "metadata": {},
     "output_type": "display_data"
    }
   ],
   "source": [
    "# Number of variants (two observations for each, one per time point)\n",
    "\n",
    "nrow(nonsynonymous)/2 # 588 nonsynonymous variants"
   ]
  },
  {
   "cell_type": "code",
   "execution_count": 14,
   "metadata": {},
   "outputs": [
    {
     "data": {
      "text/html": [
       "<table>\n",
       "<thead><tr><th scope=col>SPECIES</th><th scope=col>CDS_COUNT</th></tr></thead>\n",
       "<tbody>\n",
       "\t<tr><td>HAMBI_6  </td><td>5945     </td></tr>\n",
       "\t<tr><td>HAMBI_97 </td><td>3137     </td></tr>\n",
       "\t<tr><td>HAMBI_105</td><td>5087     </td></tr>\n",
       "\t<tr><td>HAMBI_216</td><td>4825     </td></tr>\n",
       "\t<tr><td>HAMBI_262</td><td>3231     </td></tr>\n",
       "\t<tr><td>HAMBI_403</td><td>4905     </td></tr>\n",
       "</tbody>\n",
       "</table>\n"
      ],
      "text/latex": [
       "\\begin{tabular}{r|ll}\n",
       " SPECIES & CDS\\_COUNT\\\\\n",
       "\\hline\n",
       "\t HAMBI\\_6   & 5945       \\\\\n",
       "\t HAMBI\\_97  & 3137       \\\\\n",
       "\t HAMBI\\_105 & 5087       \\\\\n",
       "\t HAMBI\\_216 & 4825       \\\\\n",
       "\t HAMBI\\_262 & 3231       \\\\\n",
       "\t HAMBI\\_403 & 4905       \\\\\n",
       "\\end{tabular}\n"
      ],
      "text/markdown": [
       "\n",
       "SPECIES | CDS_COUNT | \n",
       "|---|---|---|---|---|---|\n",
       "| HAMBI_6   | 5945      | \n",
       "| HAMBI_97  | 3137      | \n",
       "| HAMBI_105 | 5087      | \n",
       "| HAMBI_216 | 4825      | \n",
       "| HAMBI_262 | 3231      | \n",
       "| HAMBI_403 | 4905      | \n",
       "\n",
       "\n"
      ],
      "text/plain": [
       "  SPECIES   CDS_COUNT\n",
       "1 HAMBI_6   5945     \n",
       "2 HAMBI_97  3137     \n",
       "3 HAMBI_105 5087     \n",
       "4 HAMBI_216 4825     \n",
       "5 HAMBI_262 3231     \n",
       "6 HAMBI_403 4905     "
      ]
     },
     "metadata": {},
     "output_type": "display_data"
    },
    {
     "data": {
      "text/html": [
       "58220"
      ],
      "text/latex": [
       "58220"
      ],
      "text/markdown": [
       "58220"
      ],
      "text/plain": [
       "[1] 58220"
      ]
     },
     "metadata": {},
     "output_type": "display_data"
    }
   ],
   "source": [
    "# Number of possible coding sequences\n",
    "\n",
    "cds_numbers = read.table(\"../../data/deep_seq/cds_counts.txt\", \n",
    "                      sep = \"\\t\", \n",
    "                      header = F)\n",
    "colnames(cds_numbers) = c(\"SPECIES\", \"CDS_COUNT\")\n",
    "head(cds_numbers)\n",
    "sum(cds_numbers$CDS_COUNT[cds_numbers$SPECIES %in% nonsynonymous$SPECIES]) # 58,220 coding sequences"
   ]
  },
  {
   "cell_type": "code",
   "execution_count": 16,
   "metadata": {},
   "outputs": [
    {
     "data": {
      "text/html": [
       "0.989968125847872"
      ],
      "text/latex": [
       "0.989968125847872"
      ],
      "text/markdown": [
       "0.989968125847872"
      ],
      "text/plain": [
       "[1] 0.9899681"
      ]
     },
     "metadata": {},
     "output_type": "display_data"
    },
    {
     "data": {
      "text/html": [
       "0.00499073575527493"
      ],
      "text/latex": [
       "0.00499073575527493"
      ],
      "text/markdown": [
       "0.00499073575527493"
      ],
      "text/plain": [
       "[1] 0.004990736"
      ]
     },
     "metadata": {},
     "output_type": "display_data"
    },
    {
     "data": {
      "text/html": [
       "1.67446546808378e-05"
      ],
      "text/latex": [
       "1.67446546808378e-05"
      ],
      "text/markdown": [
       "1.67446546808378e-05"
      ],
      "text/plain": [
       "[1] 1.674465e-05"
      ]
     },
     "metadata": {},
     "output_type": "display_data"
    },
    {
     "data": {
      "text/html": [
       "4.2063686203345e-08"
      ],
      "text/latex": [
       "4.2063686203345e-08"
      ],
      "text/markdown": [
       "4.2063686203345e-08"
      ],
      "text/plain": [
       "[1] 4.206369e-08"
      ]
     },
     "metadata": {},
     "output_type": "display_data"
    },
    {
     "data": {
      "text/html": [
       "577"
      ],
      "text/latex": [
       "577"
      ],
      "text/markdown": [
       "577"
      ],
      "text/plain": [
       "[1] 577"
      ]
     },
     "metadata": {},
     "output_type": "display_data"
    }
   ],
   "source": [
    "# There are 58,220 unique coding sequences (items, n) and we are selecting 588 of them (m)\n",
    "# The expected number of items appearing k times is therefore given by n * dbinom(k, m, 1 / n)\n",
    "\n",
    "# probability of one hit:\n",
    "58220 * dbinom(1, 588, 1 / 58220) / 588 # 0.989968125847872\n",
    "# two hits:\n",
    "58220 * dbinom(2, 588, 1 / 58220) / 588 # 0.00499073575527493\n",
    "# three hits:\n",
    "58220 * dbinom(3, 588, 1 / 58220) / 588 # 1.67446546808378e-05\n",
    "# four hits:\n",
    "58220 * dbinom(4, 588, 1 / 58220) / 588 # 4.2063686203345e-08\n",
    "\n",
    "# The probability of two hits in the same gene is below alpha 0.01\n",
    "\n",
    "# Based on literature we know that the rpsL gene is the most common target of streptomycin resistance mutations\n",
    "# so let's select it in in addition to all genes with two or more hits\n",
    "\n",
    "nonsynonymous$COUNT = 1\n",
    "hit_counts = aggregate(COUNT ~ GENE, data = nonsynonymous, FUN = function(x) {sum(x)})\n",
    "\n",
    "# There is a variant call for two time points per population, so two hits equal four occurrences\n",
    "\n",
    "x = hit_counts[hit_counts$COUNT >= 4,]\n",
    "\n",
    "multihit = nonsynonymous[nonsynonymous$GENE %in% x$GENE | nonsynonymous$GENE == \"rpsL\",]\n",
    "\n",
    "# Number of nonsynonymous variants left\n",
    "\n",
    "nrow(multihit)/2 # 547 (i.e. most variants, 577/588, occur in genes with more than one hit)"
   ]
  },
  {
   "cell_type": "code",
   "execution_count": 18,
   "metadata": {},
   "outputs": [
    {
     "data": {
      "text/html": [
       "20"
      ],
      "text/latex": [
       "20"
      ],
      "text/markdown": [
       "20"
      ],
      "text/plain": [
       "[1] 20"
      ]
     },
     "metadata": {},
     "output_type": "display_data"
    }
   ],
   "source": [
    "# Convert counts where both time points are included to actual counts\n",
    "\n",
    "multihit$COUNT = ifelse(multihit$VARIANT_FREQUENCY == 0, 0, 1)\n",
    "nrow(multihit[multihit$COUNT == 0,])"
   ]
  },
  {
   "cell_type": "code",
   "execution_count": 19,
   "metadata": {},
   "outputs": [],
   "source": [
    "# Write out\n",
    "\n",
    "write.table(multihit, row.names = FALSE, \"../../data/deep_seq/multihit_nonsynonymous_variant_data.txt\", sep = \"\\t\")"
   ]
  }
 ],
 "metadata": {
  "kernelspec": {
   "display_name": "R",
   "language": "R",
   "name": "ir"
  },
  "language_info": {
   "codemirror_mode": "r",
   "file_extension": ".r",
   "mimetype": "text/x-r-source",
   "name": "R",
   "pygments_lexer": "r",
   "version": "3.5.1"
  }
 },
 "nbformat": 4,
 "nbformat_minor": 2
}
