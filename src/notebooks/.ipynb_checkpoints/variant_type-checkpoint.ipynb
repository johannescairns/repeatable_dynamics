{
 "cells": [
  {
   "cell_type": "markdown",
   "metadata": {},
   "source": [
    "# Variant type analyses and figures for filtered variants"
   ]
  },
  {
   "cell_type": "code",
   "execution_count": 1,
   "metadata": {},
   "outputs": [
    {
     "name": "stderr",
     "output_type": "stream",
     "text": [
      "Loading required package: lme4\n",
      "Loading required package: Matrix\n",
      "************\n",
      "Welcome to afex. For support visit: http://afex.singmann.science/\n",
      "- Functions for ANOVAs: aov_car(), aov_ez(), and aov_4()\n",
      "- Methods for calculating p-values with mixed(): 'KR', 'S', 'LRT', and 'PB'\n",
      "- 'afex_aov' and 'mixed' objects can be passed to emmeans() for follow-up tests\n",
      "- NEWS: library('emmeans') now needs to be called explicitly!\n",
      "- Get and set global package options with: afex_options()\n",
      "- Set orthogonal sum-to-zero contrasts globally: set_sum_contrasts()\n",
      "- For example analyses see: browseVignettes(\"afex\")\n",
      "************\n",
      "\n",
      "Attaching package: ‘afex’\n",
      "\n",
      "The following object is masked from ‘package:lme4’:\n",
      "\n",
      "    lmer\n",
      "\n",
      "Loading required package: carData\n",
      "Loading required package: foreign\n",
      "Loading required package: nnet\n"
     ]
    }
   ],
   "source": [
    "# Housekeeping\n",
    "\n",
    "library(afex)\n",
    "library(car)\n",
    "library(foreign)\n",
    "library(ggplot2)\n",
    "library(MASS)\n",
    "library(nnet)\n",
    "library(scales)\n",
    "source(\"source.R\")"
   ]
  },
  {
   "cell_type": "code",
   "execution_count": 2,
   "metadata": {},
   "outputs": [],
   "source": [
    "# Read in data\n",
    "\n",
    "variants = read.table(\"../../data/deep_seq/filtered_variant_data.txt\", \n",
    "                      sep = \"\\t\", \n",
    "                      header = T)"
   ]
  },
  {
   "cell_type": "markdown",
   "metadata": {},
   "source": [
    "## Statistics"
   ]
  },
  {
   "cell_type": "markdown",
   "metadata": {},
   "source": [
    "### Data exploration"
   ]
  },
  {
   "cell_type": "code",
   "execution_count": 3,
   "metadata": {},
   "outputs": [
    {
     "data": {
      "text/plain": [
       "            by\n",
       "               0   4  16 128\n",
       "  HAMBI_105    6  12  36 116\n",
       "  HAMBI_1287  84  90 160 180\n",
       "  HAMBI_1874 100  72  44   0\n",
       "  HAMBI_1875 154 168 190 220\n",
       "  HAMBI_1896 482 390 538 154\n",
       "  HAMBI_1972 584 450 386  18\n",
       "  HAMBI_1977 552 558 408  70\n",
       "  HAMBI_1992   0   0   0  12\n",
       "  HAMBI_2160   6   0  38   0\n",
       "  HAMBI_2443   0  96   0   0\n",
       "  HAMBI_2659   0   0  70 270\n",
       "  HAMBI_3031   0   2  14 302\n",
       "  HAMBI_3172 144  42  24 392"
      ]
     },
     "metadata": {},
     "output_type": "display_data"
    },
    {
     "data": {
      "text/plain": [
       "            by\n",
       "               0   4  16 128\n",
       "  HAMBI_1972 584 450 386  18\n",
       "  HAMBI_3172 144  42  24 392\n",
       "  HAMBI_1896 482 390 538 154\n",
       "  HAMBI_105    6  12  36 116\n",
       "  HAMBI_1874 100  72  44   0\n",
       "  HAMBI_1287  84  90 160 180\n",
       "  HAMBI_3031   0   2  14 302\n",
       "  HAMBI_1977 552 558 408  70\n",
       "  HAMBI_1875 154 168 190 220"
      ]
     },
     "metadata": {},
     "output_type": "display_data"
    },
    {
     "data": {
      "text/plain": [
       "            by\n",
       "               8  12\n",
       "  HAMBI_1972 719 719\n",
       "  HAMBI_3172 301 301\n",
       "  HAMBI_1896 782 782\n",
       "  HAMBI_105   85  85\n",
       "  HAMBI_1874 108 108\n",
       "  HAMBI_1287 257 257\n",
       "  HAMBI_3031 159 159\n",
       "  HAMBI_1977 794 794\n",
       "  HAMBI_1875 366 366"
      ]
     },
     "metadata": {},
     "output_type": "display_data"
    },
    {
     "data": {
      "text/plain": [
       "            by\n",
       "               0   1\n",
       "  HAMBI_1972 700 738\n",
       "  HAMBI_3172 468 134\n",
       "  HAMBI_1896 848 716\n",
       "  HAMBI_105  114  56\n",
       "  HAMBI_1874 130  86\n",
       "  HAMBI_1287 266 248\n",
       "  HAMBI_3031 194 124\n",
       "  HAMBI_1977 766 822\n",
       "  HAMBI_1875 382 350"
      ]
     },
     "metadata": {},
     "output_type": "display_data"
    },
    {
     "data": {
      "text/plain": [
       "               by\n",
       "                HAMBI_1972 HAMBI_3172 HAMBI_1896 HAMBI_105 HAMBI_1874\n",
       "  noncoding            586        352        530        14        198\n",
       "  nonsynonymous        218        108        422        56         16\n",
       "  synonymous           634        142        612       100          2\n",
       "               by\n",
       "                HAMBI_1287 HAMBI_3031 HAMBI_1977 HAMBI_1875\n",
       "  noncoding            504        234       1252        732\n",
       "  nonsynonymous         10         62        196          0\n",
       "  synonymous             0         22        140          0"
      ]
     },
     "metadata": {},
     "output_type": "display_data"
    }
   ],
   "source": [
    "# Balance of categorical covariates\n",
    "\n",
    "table(variants$SPECIES, by = variants$ANTIBIOTIC)\n",
    "\n",
    "# Let's remove species where there are no data points for over one antibiotic concentration\n",
    "\n",
    "variants2 = variants[variants$SPECIES != \"HAMBI_1992\" &\n",
    "                     variants$SPECIES != \"HAMBI_2160\" &\n",
    "                     variants$SPECIES != \"HAMBI_2443\" &\n",
    "                     variants$SPECIES != \"HAMBI_2659\",]\n",
    "\n",
    "variants2$SPECIES = factor(variants2$SPECIES, levels = unique(variants2$SPECIES))\n",
    "\n",
    "table(variants2$SPECIES, by = variants2$ANTIBIOTIC)\n",
    "# no data points for certain combinations so interaction models should not be tested\n",
    "\n",
    "table(variants2$SPECIES, by = variants2$TIME) \n",
    "# ok\n",
    "\n",
    "table(variants2$SPECIES, by = variants2$IMMIGRATION) \n",
    "# ok\n",
    "\n",
    "# Response\n",
    "table(variants2$VARIANT_EFFECT_CAT, by = variants2$SPECIES) \n",
    "# ok"
   ]
  },
  {
   "cell_type": "markdown",
   "metadata": {},
   "source": [
    "### Model specification"
   ]
  },
  {
   "cell_type": "code",
   "execution_count": 6,
   "metadata": {},
   "outputs": [
    {
     "data": {
      "text/html": [
       "<ol class=list-inline>\n",
       "\t<li>'SAMPLE'</li>\n",
       "\t<li>'TIME'</li>\n",
       "\t<li>'ANTIBIOTIC'</li>\n",
       "\t<li>'IMMIGRATION'</li>\n",
       "\t<li>'REPLICATE'</li>\n",
       "\t<li>'SPECIES'</li>\n",
       "\t<li>'CONTIG'</li>\n",
       "\t<li>'CONTIG_LENGTH'</li>\n",
       "\t<li>'POSITION'</li>\n",
       "\t<li>'REF_ALLELE'</li>\n",
       "\t<li>'ALT_ALLELE'</li>\n",
       "\t<li>'VARIANT_TYPE'</li>\n",
       "\t<li>'VARIANT_EFFECT'</li>\n",
       "\t<li>'VARIANT_EFFECT_CAT'</li>\n",
       "\t<li>'VARIANT_IMPACT'</li>\n",
       "\t<li>'GENE'</li>\n",
       "\t<li>'GENEID'</li>\n",
       "\t<li>'NA_CHANGE'</li>\n",
       "\t<li>'AA_CHANGE'</li>\n",
       "\t<li>'VARIANT_FREQUENCY'</li>\n",
       "\t<li>'MEDIAN_COVERAGE'</li>\n",
       "\t<li>'AMPLICON_READS'</li>\n",
       "\t<li>'DISTANCE_FROM_PREV'</li>\n",
       "</ol>\n"
      ],
      "text/latex": [
       "\\begin{enumerate*}\n",
       "\\item 'SAMPLE'\n",
       "\\item 'TIME'\n",
       "\\item 'ANTIBIOTIC'\n",
       "\\item 'IMMIGRATION'\n",
       "\\item 'REPLICATE'\n",
       "\\item 'SPECIES'\n",
       "\\item 'CONTIG'\n",
       "\\item 'CONTIG\\_LENGTH'\n",
       "\\item 'POSITION'\n",
       "\\item 'REF\\_ALLELE'\n",
       "\\item 'ALT\\_ALLELE'\n",
       "\\item 'VARIANT\\_TYPE'\n",
       "\\item 'VARIANT\\_EFFECT'\n",
       "\\item 'VARIANT\\_EFFECT\\_CAT'\n",
       "\\item 'VARIANT\\_IMPACT'\n",
       "\\item 'GENE'\n",
       "\\item 'GENEID'\n",
       "\\item 'NA\\_CHANGE'\n",
       "\\item 'AA\\_CHANGE'\n",
       "\\item 'VARIANT\\_FREQUENCY'\n",
       "\\item 'MEDIAN\\_COVERAGE'\n",
       "\\item 'AMPLICON\\_READS'\n",
       "\\item 'DISTANCE\\_FROM\\_PREV'\n",
       "\\end{enumerate*}\n"
      ],
      "text/markdown": [
       "1. 'SAMPLE'\n",
       "2. 'TIME'\n",
       "3. 'ANTIBIOTIC'\n",
       "4. 'IMMIGRATION'\n",
       "5. 'REPLICATE'\n",
       "6. 'SPECIES'\n",
       "7. 'CONTIG'\n",
       "8. 'CONTIG_LENGTH'\n",
       "9. 'POSITION'\n",
       "10. 'REF_ALLELE'\n",
       "11. 'ALT_ALLELE'\n",
       "12. 'VARIANT_TYPE'\n",
       "13. 'VARIANT_EFFECT'\n",
       "14. 'VARIANT_EFFECT_CAT'\n",
       "15. 'VARIANT_IMPACT'\n",
       "16. 'GENE'\n",
       "17. 'GENEID'\n",
       "18. 'NA_CHANGE'\n",
       "19. 'AA_CHANGE'\n",
       "20. 'VARIANT_FREQUENCY'\n",
       "21. 'MEDIAN_COVERAGE'\n",
       "22. 'AMPLICON_READS'\n",
       "23. 'DISTANCE_FROM_PREV'\n",
       "\n",
       "\n"
      ],
      "text/plain": [
       " [1] \"SAMPLE\"             \"TIME\"               \"ANTIBIOTIC\"        \n",
       " [4] \"IMMIGRATION\"        \"REPLICATE\"          \"SPECIES\"           \n",
       " [7] \"CONTIG\"             \"CONTIG_LENGTH\"      \"POSITION\"          \n",
       "[10] \"REF_ALLELE\"         \"ALT_ALLELE\"         \"VARIANT_TYPE\"      \n",
       "[13] \"VARIANT_EFFECT\"     \"VARIANT_EFFECT_CAT\" \"VARIANT_IMPACT\"    \n",
       "[16] \"GENE\"               \"GENEID\"             \"NA_CHANGE\"         \n",
       "[19] \"AA_CHANGE\"          \"VARIANT_FREQUENCY\"  \"MEDIAN_COVERAGE\"   \n",
       "[22] \"AMPLICON_READS\"     \"DISTANCE_FROM_PREV\""
      ]
     },
     "metadata": {},
     "output_type": "display_data"
    }
   ],
   "source": [
    "# Both time points contain the same data so let's subset only one time point\n",
    "\n",
    "variants2 = variants2[variants2$TIME == 8,]"
   ]
  },
  {
   "cell_type": "code",
   "execution_count": 7,
   "metadata": {},
   "outputs": [
    {
     "name": "stdout",
     "output_type": "stream",
     "text": [
      "# weights:  110 (84 variable)\n",
      "initial  value 5460.822837 \n",
      "iter  10 value 2817.638188\n",
      "iter  20 value 2499.102868\n",
      "iter  30 value 2458.043335\n",
      "iter  40 value 2453.524325\n",
      "iter  50 value 2452.972379\n",
      "iter  60 value 2452.796928\n",
      "iter  70 value 2452.736229\n",
      "iter  80 value 2452.729641\n",
      "iter  90 value 2452.723580\n",
      "final  value 2452.723439 \n",
      "converged\n"
     ]
    }
   ],
   "source": [
    "# Use the multinom function from the nnet package to estimate a multinomial logistic regression model\n",
    "\n",
    "M1 = multinom(VARIANT_TYPE ~ IMMIGRATION * SPECIES + factor(ANTIBIOTIC), variants2)"
   ]
  },
  {
   "cell_type": "code",
   "execution_count": 8,
   "metadata": {},
   "outputs": [
    {
     "name": "stdout",
     "output_type": "stream",
     "text": [
      "# weights:  95 (72 variable)\n",
      "initial  value 5460.822837 \n",
      "iter  10 value 2629.697765\n",
      "iter  20 value 2472.974841\n",
      "iter  30 value 2460.874599\n",
      "iter  40 value 2459.848399\n",
      "iter  50 value 2459.523793\n",
      "iter  60 value 2459.469125\n",
      "iter  70 value 2459.457965\n",
      "final  value 2459.450777 \n",
      "converged\n",
      "# weights:  70 (52 variable)\n",
      "initial  value 5460.822837 \n",
      "iter  10 value 2786.917320\n",
      "iter  20 value 2505.249249\n",
      "iter  30 value 2465.055342\n",
      "iter  40 value 2460.494987\n",
      "iter  50 value 2460.073441\n",
      "iter  60 value 2459.990340\n",
      "final  value 2459.990100 \n",
      "converged\n",
      "# weights:  70 (52 variable)\n",
      "initial  value 5460.822837 \n",
      "iter  10 value 2786.917320\n",
      "iter  20 value 2505.249249\n",
      "iter  30 value 2465.055342\n",
      "iter  40 value 2460.494987\n",
      "iter  50 value 2460.073441\n",
      "iter  60 value 2459.990340\n",
      "final  value 2459.990100 \n",
      "converged\n",
      "# weights:  65 (48 variable)\n",
      "initial  value 5460.822837 \n",
      "iter  10 value 2586.825112\n",
      "iter  20 value 2469.909073\n",
      "iter  30 value 2461.895677\n",
      "iter  40 value 2461.452385\n",
      "iter  50 value 2461.290306\n",
      "iter  60 value 2461.286282\n",
      "final  value 2461.283301 \n",
      "converged\n",
      "# weights:  30 (20 variable)\n",
      "initial  value 5460.822837 \n",
      "iter  10 value 2791.485377\n",
      "iter  20 value 2597.301587\n",
      "iter  30 value 2593.932975\n",
      "final  value 2593.931804 \n",
      "converged\n",
      "# weights:  55 (40 variable)\n",
      "initial  value 5460.822837 \n",
      "iter  10 value 2632.900407\n",
      "iter  20 value 2482.972886\n",
      "iter  30 value 2467.635696\n",
      "iter  40 value 2466.976874\n",
      "iter  50 value 2466.854540\n",
      "final  value 2466.854355 \n",
      "converged\n",
      "# weights:  110 (84 variable)\n",
      "initial  value 5460.822837 \n",
      "iter  10 value 2817.638188\n",
      "iter  20 value 2499.102868\n",
      "iter  30 value 2458.043335\n",
      "iter  40 value 2453.524325\n",
      "iter  50 value 2452.972379\n",
      "iter  60 value 2452.796928\n",
      "iter  70 value 2452.736229\n",
      "iter  80 value 2452.729641\n",
      "iter  90 value 2452.723580\n",
      "final  value 2452.723439 \n",
      "converged\n",
      "# weights:  55 (40 variable)\n",
      "initial  value 5460.822837 \n",
      "iter  10 value 2632.900407\n",
      "iter  20 value 2482.972886\n",
      "iter  30 value 2467.635696\n",
      "iter  40 value 2466.976874\n",
      "iter  50 value 2466.854540\n",
      "final  value 2466.854355 \n",
      "converged\n",
      "# weights:  50 (36 variable)\n",
      "initial  value 5460.822837 \n",
      "iter  10 value 2515.859942\n",
      "iter  20 value 2469.468860\n",
      "iter  30 value 2468.366095\n",
      "iter  40 value 2468.246668\n",
      "iter  50 value 2468.213565\n",
      "final  value 2468.212933 \n",
      "converged\n",
      "# weights:  15 (8 variable)\n",
      "initial  value 5460.822837 \n",
      "iter  10 value 2645.099830\n",
      "iter  20 value 2606.139739\n",
      "final  value 2606.119157 \n",
      "converged\n",
      "# weights:  70 (52 variable)\n",
      "initial  value 5460.822837 \n",
      "iter  10 value 2786.917320\n",
      "iter  20 value 2505.249249\n",
      "iter  30 value 2465.055342\n",
      "iter  40 value 2460.494987\n",
      "iter  50 value 2460.073441\n",
      "iter  60 value 2459.990340\n",
      "final  value 2459.990100 \n",
      "converged\n",
      "# weights:  95 (72 variable)\n",
      "initial  value 5460.822837 \n",
      "iter  10 value 2629.697765\n",
      "iter  20 value 2472.974841\n",
      "iter  30 value 2460.874599\n",
      "iter  40 value 2459.848399\n",
      "iter  50 value 2459.523793\n",
      "iter  60 value 2459.469125\n",
      "iter  70 value 2459.457965\n",
      "final  value 2459.450777 \n",
      "converged\n",
      "# weights:  50 (36 variable)\n",
      "initial  value 5460.822837 \n",
      "iter  10 value 2515.859942\n",
      "iter  20 value 2469.468860\n",
      "iter  30 value 2468.366095\n",
      "iter  40 value 2468.246668\n",
      "iter  50 value 2468.213565\n",
      "final  value 2468.212933 \n",
      "converged\n",
      "# weights:  10 (4 variable)\n",
      "initial  value 5460.822837 \n",
      "iter  10 value 2607.437576\n",
      "final  value 2607.435656 \n",
      "converged\n",
      "# weights:  55 (40 variable)\n",
      "initial  value 5460.822837 \n",
      "iter  10 value 2632.900407\n",
      "iter  20 value 2482.972886\n",
      "iter  30 value 2467.635696\n",
      "iter  40 value 2466.976874\n",
      "iter  50 value 2466.854540\n",
      "final  value 2466.854355 \n",
      "converged\n",
      "# weights:  65 (48 variable)\n",
      "initial  value 5460.822837 \n",
      "iter  10 value 2586.825112\n",
      "iter  20 value 2469.909073\n",
      "iter  30 value 2461.895677\n",
      "iter  40 value 2461.452385\n",
      "iter  50 value 2461.290306\n",
      "iter  60 value 2461.286282\n",
      "final  value 2461.283301 \n",
      "converged\n"
     ]
    },
    {
     "data": {
      "text/plain": [
       "Call:\n",
       "multinom(formula = VARIANT_TYPE ~ SPECIES, data = variants2)\n",
       "\n",
       "Coefficients:\n",
       "    (Intercept) SPECIESHAMBI_3172 SPECIESHAMBI_1896 SPECIESHAMBI_105\n",
       "del   -4.051725        -0.1967375         2.8372842      -11.3531553\n",
       "ins   -2.105864        -0.7563270         0.4318869      -13.9894853\n",
       "mnp   -2.547736        -1.0075773         1.1296951      -13.5163472\n",
       "snp    1.564986        -0.4107990        -0.1162261       -0.5717105\n",
       "    SPECIESHAMBI_1874 SPECIESHAMBI_1287 SPECIESHAMBI_3031 SPECIESHAMBI_1977\n",
       "del         4.6578367         1.5668338         2.6653857       -14.2669521\n",
       "ins         1.0071769        -0.3790342        -0.6666509        -1.1712909\n",
       "mnp       -10.5025027        -1.0357623        -0.2248860        -0.9117265\n",
       "snp         0.9739962        -1.3950717         0.5222234        -0.3149117\n",
       "    SPECIESHAMBI_1875\n",
       "del       -14.2834583\n",
       "ins        -0.5613601\n",
       "mnp         0.2169753\n",
       "snp        -0.3122153\n",
       "\n",
       "Residual Deviance: 4936.426 \n",
       "AIC: 5008.426 "
      ]
     },
     "metadata": {},
     "output_type": "display_data"
    }
   ],
   "source": [
    "# Find model with lowest AIC\n",
    "\n",
    "fit = stepAIC(M1, direction = \"both\", trace = 0)\n",
    "fit"
   ]
  },
  {
   "cell_type": "code",
   "execution_count": 9,
   "metadata": {},
   "outputs": [
    {
     "name": "stdout",
     "output_type": "stream",
     "text": [
      "# weights:  50 (36 variable)\n",
      "initial  value 5460.822837 \n",
      "iter  10 value 2515.859942\n",
      "iter  20 value 2469.468860\n",
      "iter  30 value 2468.366095\n",
      "iter  40 value 2468.246668\n",
      "iter  50 value 2468.213565\n",
      "final  value 2468.212933 \n",
      "converged\n"
     ]
    },
    {
     "data": {
      "text/plain": [
       "Call:\n",
       "multinom(formula = VARIANT_TYPE ~ SPECIES, data = variants2)\n",
       "\n",
       "Coefficients:\n",
       "    (Intercept) SPECIESHAMBI_3172 SPECIESHAMBI_1896 SPECIESHAMBI_105\n",
       "del   -4.051725        -0.1967375         2.8372842      -11.3531553\n",
       "ins   -2.105864        -0.7563270         0.4318869      -13.9894853\n",
       "mnp   -2.547736        -1.0075773         1.1296951      -13.5163472\n",
       "snp    1.564986        -0.4107990        -0.1162261       -0.5717105\n",
       "    SPECIESHAMBI_1874 SPECIESHAMBI_1287 SPECIESHAMBI_3031 SPECIESHAMBI_1977\n",
       "del         4.6578367         1.5668338         2.6653857       -14.2669521\n",
       "ins         1.0071769        -0.3790342        -0.6666509        -1.1712909\n",
       "mnp       -10.5025027        -1.0357623        -0.2248860        -0.9117265\n",
       "snp         0.9739962        -1.3950717         0.5222234        -0.3149117\n",
       "    SPECIESHAMBI_1875\n",
       "del       -14.2834583\n",
       "ins        -0.5613601\n",
       "mnp         0.2169753\n",
       "snp        -0.3122153\n",
       "\n",
       "Std. Errors:\n",
       "    (Intercept) SPECIESHAMBI_3172 SPECIESHAMBI_1896 SPECIESHAMBI_105\n",
       "del   0.7132069         1.2340670         0.7367444     1.719894e-05\n",
       "ins   0.2830608         0.5868626         0.3600039     5.907455e-06\n",
       "mnp   0.3461356         0.7962915         0.3998506     8.420698e-05\n",
       "snp   0.1025370         0.1711844         0.1419902     2.811282e-01\n",
       "    SPECIESHAMBI_1874 SPECIESHAMBI_1287 SPECIESHAMBI_3031 SPECIESHAMBI_1977\n",
       "del         0.8753528         0.7931165         0.9061850      6.365662e-06\n",
       "ins         0.8641927         0.4477654         1.0688945      5.030730e-01\n",
       "mnp       278.4511063         0.6799989         1.0873495      5.710516e-01\n",
       "snp         0.4362782         0.1660892         0.2841917      1.364001e-01\n",
       "    SPECIESHAMBI_1875\n",
       "del      2.700807e-06\n",
       "ins      5.422294e-01\n",
       "mnp      5.258873e-01\n",
       "snp      1.684371e-01\n",
       "\n",
       "Residual Deviance: 4936.426 \n",
       "AIC: 5008.426 "
      ]
     },
     "metadata": {},
     "output_type": "display_data"
    },
    {
     "data": {
      "text/html": [
       "<table>\n",
       "<thead><tr><th></th><th scope=col>(Intercept)</th><th scope=col>SPECIESHAMBI_3172</th><th scope=col>SPECIESHAMBI_1896</th><th scope=col>SPECIESHAMBI_105</th><th scope=col>SPECIESHAMBI_1874</th><th scope=col>SPECIESHAMBI_1287</th><th scope=col>SPECIESHAMBI_3031</th><th scope=col>SPECIESHAMBI_1977</th><th scope=col>SPECIESHAMBI_1875</th></tr></thead>\n",
       "<tbody>\n",
       "\t<tr><th scope=row>del</th><td>-5.680996    </td><td>-0.1594221   </td><td> 3.8511106   </td><td>-6.601079e+05</td><td> 5.32109628  </td><td> 1.9755406   </td><td> 2.9413264   </td><td>-2.241236e+06</td><td>-5.288589e+06</td></tr>\n",
       "\t<tr><th scope=row>ins</th><td>-7.439617    </td><td>-1.2887633   </td><td> 1.1996729   </td><td>-2.368107e+06</td><td> 1.16545403  </td><td>-0.8465016   </td><td>-0.6236826   </td><td>-2.328272e+00</td><td>-1.035282e+00</td></tr>\n",
       "\t<tr><th scope=row>mnp</th><td>-7.360514    </td><td>-1.2653373   </td><td> 2.8252932   </td><td>-1.605134e+05</td><td>-0.03771758  </td><td>-1.5231824   </td><td>-0.2068204   </td><td>-1.596574e+00</td><td> 4.125890e-01</td></tr>\n",
       "\t<tr><th scope=row>snp</th><td>15.262649    </td><td>-2.3997452   </td><td>-0.8185504   </td><td>-2.033629e+00</td><td> 2.23251155  </td><td>-8.3995331   </td><td> 1.8375740   </td><td>-2.308735e+00</td><td>-1.853602e+00</td></tr>\n",
       "</tbody>\n",
       "</table>\n"
      ],
      "text/latex": [
       "\\begin{tabular}{r|lllllllll}\n",
       "  & (Intercept) & SPECIESHAMBI\\_3172 & SPECIESHAMBI\\_1896 & SPECIESHAMBI\\_105 & SPECIESHAMBI\\_1874 & SPECIESHAMBI\\_1287 & SPECIESHAMBI\\_3031 & SPECIESHAMBI\\_1977 & SPECIESHAMBI\\_1875\\\\\n",
       "\\hline\n",
       "\tdel & -5.680996     & -0.1594221    &  3.8511106    & -6.601079e+05 &  5.32109628   &  1.9755406    &  2.9413264    & -2.241236e+06 & -5.288589e+06\\\\\n",
       "\tins & -7.439617     & -1.2887633    &  1.1996729    & -2.368107e+06 &  1.16545403   & -0.8465016    & -0.6236826    & -2.328272e+00 & -1.035282e+00\\\\\n",
       "\tmnp & -7.360514     & -1.2653373    &  2.8252932    & -1.605134e+05 & -0.03771758   & -1.5231824    & -0.2068204    & -1.596574e+00 &  4.125890e-01\\\\\n",
       "\tsnp & 15.262649     & -2.3997452    & -0.8185504    & -2.033629e+00 &  2.23251155   & -8.3995331    &  1.8375740    & -2.308735e+00 & -1.853602e+00\\\\\n",
       "\\end{tabular}\n"
      ],
      "text/markdown": [
       "\n",
       "| <!--/--> | (Intercept) | SPECIESHAMBI_3172 | SPECIESHAMBI_1896 | SPECIESHAMBI_105 | SPECIESHAMBI_1874 | SPECIESHAMBI_1287 | SPECIESHAMBI_3031 | SPECIESHAMBI_1977 | SPECIESHAMBI_1875 | \n",
       "|---|---|---|---|\n",
       "| del | -5.680996     | -0.1594221    |  3.8511106    | -6.601079e+05 |  5.32109628   |  1.9755406    |  2.9413264    | -2.241236e+06 | -5.288589e+06 | \n",
       "| ins | -7.439617     | -1.2887633    |  1.1996729    | -2.368107e+06 |  1.16545403   | -0.8465016    | -0.6236826    | -2.328272e+00 | -1.035282e+00 | \n",
       "| mnp | -7.360514     | -1.2653373    |  2.8252932    | -1.605134e+05 | -0.03771758   | -1.5231824    | -0.2068204    | -1.596574e+00 |  4.125890e-01 | \n",
       "| snp | 15.262649     | -2.3997452    | -0.8185504    | -2.033629e+00 |  2.23251155   | -8.3995331    |  1.8375740    | -2.308735e+00 | -1.853602e+00 | \n",
       "\n",
       "\n"
      ],
      "text/plain": [
       "    (Intercept) SPECIESHAMBI_3172 SPECIESHAMBI_1896 SPECIESHAMBI_105\n",
       "del -5.680996   -0.1594221         3.8511106        -6.601079e+05   \n",
       "ins -7.439617   -1.2887633         1.1996729        -2.368107e+06   \n",
       "mnp -7.360514   -1.2653373         2.8252932        -1.605134e+05   \n",
       "snp 15.262649   -2.3997452        -0.8185504        -2.033629e+00   \n",
       "    SPECIESHAMBI_1874 SPECIESHAMBI_1287 SPECIESHAMBI_3031 SPECIESHAMBI_1977\n",
       "del  5.32109628        1.9755406         2.9413264        -2.241236e+06    \n",
       "ins  1.16545403       -0.8465016        -0.6236826        -2.328272e+00    \n",
       "mnp -0.03771758       -1.5231824        -0.2068204        -1.596574e+00    \n",
       "snp  2.23251155       -8.3995331         1.8375740        -2.308735e+00    \n",
       "    SPECIESHAMBI_1875\n",
       "del -5.288589e+06    \n",
       "ins -1.035282e+00    \n",
       "mnp  4.125890e-01    \n",
       "snp -1.853602e+00    "
      ]
     },
     "metadata": {},
     "output_type": "display_data"
    }
   ],
   "source": [
    "# Best model\n",
    "\n",
    "M2 = multinom(formula = VARIANT_TYPE ~ SPECIES, data = variants2)\n",
    "summary(M2)\n",
    "z = summary(M2)$coefficients/summary(M2)$standard.errors\n",
    "z"
   ]
  },
  {
   "cell_type": "code",
   "execution_count": 10,
   "metadata": {},
   "outputs": [
    {
     "name": "stderr",
     "output_type": "stream",
     "text": [
      "setting contr.sum globally: options(contrasts=c('contr.sum', 'contr.poly'))\n"
     ]
    },
    {
     "data": {
      "text/html": [
       "<table>\n",
       "<thead><tr><th></th><th scope=col>LR Chisq</th><th scope=col>Df</th><th scope=col>Pr(&gt;Chisq)</th></tr></thead>\n",
       "<tbody>\n",
       "\t<tr><th scope=row>SPECIES</th><td>278.4454    </td><td>32          </td><td>4.212952e-41</td></tr>\n",
       "</tbody>\n",
       "</table>\n"
      ],
      "text/latex": [
       "\\begin{tabular}{r|lll}\n",
       "  & LR Chisq & Df & Pr(>Chisq)\\\\\n",
       "\\hline\n",
       "\tSPECIES & 278.4454     & 32           & 4.212952e-41\\\\\n",
       "\\end{tabular}\n"
      ],
      "text/markdown": [
       "\n",
       "| <!--/--> | LR Chisq | Df | Pr(>Chisq) | \n",
       "|---|\n",
       "| SPECIES | 278.4454     | 32           | 4.212952e-41 | \n",
       "\n",
       "\n"
      ],
      "text/plain": [
       "        LR Chisq Df Pr(>Chisq)  \n",
       "SPECIES 278.4454 32 4.212952e-41"
      ]
     },
     "metadata": {},
     "output_type": "display_data"
    }
   ],
   "source": [
    "# Overall significance of factors (likelihood ratio test)\n",
    "\n",
    "set_sum_contrasts()\n",
    "Anova(M2, type=\"III\")  # type III tests\n",
    "# Species and antibiotic each have a significant effect on mutation type"
   ]
  },
  {
   "cell_type": "code",
   "execution_count": 11,
   "metadata": {},
   "outputs": [
    {
     "data": {
      "text/html": [
       "<table>\n",
       "<thead><tr><th></th><th scope=col>(Intercept)</th><th scope=col>SPECIESHAMBI_3172</th><th scope=col>SPECIESHAMBI_1896</th><th scope=col>SPECIESHAMBI_105</th><th scope=col>SPECIESHAMBI_1874</th><th scope=col>SPECIESHAMBI_1287</th><th scope=col>SPECIESHAMBI_3031</th><th scope=col>SPECIESHAMBI_1977</th><th scope=col>SPECIESHAMBI_1875</th></tr></thead>\n",
       "<tbody>\n",
       "\t<tr><th scope=row>del</th><td>1.339125e-08</td><td>0.87333635  </td><td>0.0001175834</td><td>0.00000000  </td><td>1.031438e-07</td><td>0.04820683  </td><td>0.0032681   </td><td>0.00000000  </td><td>0.00000000  </td></tr>\n",
       "\t<tr><th scope=row>ins</th><td>1.010303e-13</td><td>0.19748038  </td><td>0.2302664201</td><td>0.00000000  </td><td>2.438353e-01</td><td>0.39727298  </td><td>0.5328361   </td><td>0.01989765  </td><td>0.30053739  </td></tr>\n",
       "\t<tr><th scope=row>mnp</th><td>1.831868e-13</td><td>0.20575046  </td><td>0.0047237372</td><td>0.00000000  </td><td>9.699129e-01</td><td>0.12771309  </td><td>0.8361502   </td><td>0.11036059  </td><td>0.67990775  </td></tr>\n",
       "\t<tr><th scope=row>snp</th><td>0.000000e+00</td><td>0.01640649  </td><td>0.4130429582</td><td>0.04198899  </td><td>2.558117e-02</td><td>0.00000000  </td><td>0.0661252   </td><td>0.02095827  </td><td>0.06379606  </td></tr>\n",
       "</tbody>\n",
       "</table>\n"
      ],
      "text/latex": [
       "\\begin{tabular}{r|lllllllll}\n",
       "  & (Intercept) & SPECIESHAMBI\\_3172 & SPECIESHAMBI\\_1896 & SPECIESHAMBI\\_105 & SPECIESHAMBI\\_1874 & SPECIESHAMBI\\_1287 & SPECIESHAMBI\\_3031 & SPECIESHAMBI\\_1977 & SPECIESHAMBI\\_1875\\\\\n",
       "\\hline\n",
       "\tdel & 1.339125e-08 & 0.87333635   & 0.0001175834 & 0.00000000   & 1.031438e-07 & 0.04820683   & 0.0032681    & 0.00000000   & 0.00000000  \\\\\n",
       "\tins & 1.010303e-13 & 0.19748038   & 0.2302664201 & 0.00000000   & 2.438353e-01 & 0.39727298   & 0.5328361    & 0.01989765   & 0.30053739  \\\\\n",
       "\tmnp & 1.831868e-13 & 0.20575046   & 0.0047237372 & 0.00000000   & 9.699129e-01 & 0.12771309   & 0.8361502    & 0.11036059   & 0.67990775  \\\\\n",
       "\tsnp & 0.000000e+00 & 0.01640649   & 0.4130429582 & 0.04198899   & 2.558117e-02 & 0.00000000   & 0.0661252    & 0.02095827   & 0.06379606  \\\\\n",
       "\\end{tabular}\n"
      ],
      "text/markdown": [
       "\n",
       "| <!--/--> | (Intercept) | SPECIESHAMBI_3172 | SPECIESHAMBI_1896 | SPECIESHAMBI_105 | SPECIESHAMBI_1874 | SPECIESHAMBI_1287 | SPECIESHAMBI_3031 | SPECIESHAMBI_1977 | SPECIESHAMBI_1875 | \n",
       "|---|---|---|---|\n",
       "| del | 1.339125e-08 | 0.87333635   | 0.0001175834 | 0.00000000   | 1.031438e-07 | 0.04820683   | 0.0032681    | 0.00000000   | 0.00000000   | \n",
       "| ins | 1.010303e-13 | 0.19748038   | 0.2302664201 | 0.00000000   | 2.438353e-01 | 0.39727298   | 0.5328361    | 0.01989765   | 0.30053739   | \n",
       "| mnp | 1.831868e-13 | 0.20575046   | 0.0047237372 | 0.00000000   | 9.699129e-01 | 0.12771309   | 0.8361502    | 0.11036059   | 0.67990775   | \n",
       "| snp | 0.000000e+00 | 0.01640649   | 0.4130429582 | 0.04198899   | 2.558117e-02 | 0.00000000   | 0.0661252    | 0.02095827   | 0.06379606   | \n",
       "\n",
       "\n"
      ],
      "text/plain": [
       "    (Intercept)  SPECIESHAMBI_3172 SPECIESHAMBI_1896 SPECIESHAMBI_105\n",
       "del 1.339125e-08 0.87333635        0.0001175834      0.00000000      \n",
       "ins 1.010303e-13 0.19748038        0.2302664201      0.00000000      \n",
       "mnp 1.831868e-13 0.20575046        0.0047237372      0.00000000      \n",
       "snp 0.000000e+00 0.01640649        0.4130429582      0.04198899      \n",
       "    SPECIESHAMBI_1874 SPECIESHAMBI_1287 SPECIESHAMBI_3031 SPECIESHAMBI_1977\n",
       "del 1.031438e-07      0.04820683        0.0032681         0.00000000       \n",
       "ins 2.438353e-01      0.39727298        0.5328361         0.01989765       \n",
       "mnp 9.699129e-01      0.12771309        0.8361502         0.11036059       \n",
       "snp 2.558117e-02      0.00000000        0.0661252         0.02095827       \n",
       "    SPECIESHAMBI_1875\n",
       "del 0.00000000       \n",
       "ins 0.30053739       \n",
       "mnp 0.67990775       \n",
       "snp 0.06379606       "
      ]
     },
     "metadata": {},
     "output_type": "display_data"
    },
    {
     "data": {
      "text/html": [
       "<table>\n",
       "<thead><tr><th></th><th scope=col>(Intercept)</th><th scope=col>SPECIESHAMBI_3172</th><th scope=col>SPECIESHAMBI_1896</th><th scope=col>SPECIESHAMBI_105</th><th scope=col>SPECIESHAMBI_1874</th><th scope=col>SPECIESHAMBI_1287</th><th scope=col>SPECIESHAMBI_3031</th><th scope=col>SPECIESHAMBI_1977</th><th scope=col>SPECIESHAMBI_1875</th></tr></thead>\n",
       "<tbody>\n",
       "\t<tr><th scope=row>del</th><td>0.01739234  </td><td>0.8214062   </td><td>17.0693464  </td><td>1.173241e-05</td><td>1.054078e+02</td><td>4.7914536   </td><td>14.3734927  </td><td>6.367097e-07</td><td>6.262863e-07</td></tr>\n",
       "\t<tr><th scope=row>ins</th><td>0.12174044  </td><td>0.4693873   </td><td> 1.5401608  </td><td>8.403181e-07</td><td>2.737861e+00</td><td>0.6845222   </td><td> 0.5134252  </td><td>3.099665e-01</td><td>5.704327e-01</td></tr>\n",
       "\t<tr><th scope=row>mnp</th><td>0.07825865  </td><td>0.3651024   </td><td> 3.0947126  </td><td>1.348730e-06</td><td>2.746762e-05</td><td>0.3549557   </td><td> 0.7986072  </td><td>4.018299e-01</td><td>1.242313e+00</td></tr>\n",
       "\t<tr><th scope=row>snp</th><td>4.78260713  </td><td>0.6631202   </td><td> 0.8902739  </td><td>5.645589e-01</td><td>2.648507e+00</td><td>0.2478153   </td><td> 1.6857716  </td><td>7.298533e-01</td><td>7.318239e-01</td></tr>\n",
       "</tbody>\n",
       "</table>\n"
      ],
      "text/latex": [
       "\\begin{tabular}{r|lllllllll}\n",
       "  & (Intercept) & SPECIESHAMBI\\_3172 & SPECIESHAMBI\\_1896 & SPECIESHAMBI\\_105 & SPECIESHAMBI\\_1874 & SPECIESHAMBI\\_1287 & SPECIESHAMBI\\_3031 & SPECIESHAMBI\\_1977 & SPECIESHAMBI\\_1875\\\\\n",
       "\\hline\n",
       "\tdel & 0.01739234   & 0.8214062    & 17.0693464   & 1.173241e-05 & 1.054078e+02 & 4.7914536    & 14.3734927   & 6.367097e-07 & 6.262863e-07\\\\\n",
       "\tins & 0.12174044   & 0.4693873    &  1.5401608   & 8.403181e-07 & 2.737861e+00 & 0.6845222    &  0.5134252   & 3.099665e-01 & 5.704327e-01\\\\\n",
       "\tmnp & 0.07825865   & 0.3651024    &  3.0947126   & 1.348730e-06 & 2.746762e-05 & 0.3549557    &  0.7986072   & 4.018299e-01 & 1.242313e+00\\\\\n",
       "\tsnp & 4.78260713   & 0.6631202    &  0.8902739   & 5.645589e-01 & 2.648507e+00 & 0.2478153    &  1.6857716   & 7.298533e-01 & 7.318239e-01\\\\\n",
       "\\end{tabular}\n"
      ],
      "text/markdown": [
       "\n",
       "| <!--/--> | (Intercept) | SPECIESHAMBI_3172 | SPECIESHAMBI_1896 | SPECIESHAMBI_105 | SPECIESHAMBI_1874 | SPECIESHAMBI_1287 | SPECIESHAMBI_3031 | SPECIESHAMBI_1977 | SPECIESHAMBI_1875 | \n",
       "|---|---|---|---|\n",
       "| del | 0.01739234   | 0.8214062    | 17.0693464   | 1.173241e-05 | 1.054078e+02 | 4.7914536    | 14.3734927   | 6.367097e-07 | 6.262863e-07 | \n",
       "| ins | 0.12174044   | 0.4693873    |  1.5401608   | 8.403181e-07 | 2.737861e+00 | 0.6845222    |  0.5134252   | 3.099665e-01 | 5.704327e-01 | \n",
       "| mnp | 0.07825865   | 0.3651024    |  3.0947126   | 1.348730e-06 | 2.746762e-05 | 0.3549557    |  0.7986072   | 4.018299e-01 | 1.242313e+00 | \n",
       "| snp | 4.78260713   | 0.6631202    |  0.8902739   | 5.645589e-01 | 2.648507e+00 | 0.2478153    |  1.6857716   | 7.298533e-01 | 7.318239e-01 | \n",
       "\n",
       "\n"
      ],
      "text/plain": [
       "    (Intercept) SPECIESHAMBI_3172 SPECIESHAMBI_1896 SPECIESHAMBI_105\n",
       "del 0.01739234  0.8214062         17.0693464        1.173241e-05    \n",
       "ins 0.12174044  0.4693873          1.5401608        8.403181e-07    \n",
       "mnp 0.07825865  0.3651024          3.0947126        1.348730e-06    \n",
       "snp 4.78260713  0.6631202          0.8902739        5.645589e-01    \n",
       "    SPECIESHAMBI_1874 SPECIESHAMBI_1287 SPECIESHAMBI_3031 SPECIESHAMBI_1977\n",
       "del 1.054078e+02      4.7914536         14.3734927        6.367097e-07     \n",
       "ins 2.737861e+00      0.6845222          0.5134252        3.099665e-01     \n",
       "mnp 2.746762e-05      0.3549557          0.7986072        4.018299e-01     \n",
       "snp 2.648507e+00      0.2478153          1.6857716        7.298533e-01     \n",
       "    SPECIESHAMBI_1875\n",
       "del 6.262863e-07     \n",
       "ins 5.704327e-01     \n",
       "mnp 1.242313e+00     \n",
       "snp 7.318239e-01     "
      ]
     },
     "metadata": {},
     "output_type": "display_data"
    }
   ],
   "source": [
    "# 2-tailed z test\n",
    "\n",
    "p = (1 - pnorm(abs(z), 0, 1)) * 2\n",
    "p\n",
    "\n",
    "# extract the coefficients from the model and exponentiate\n",
    "\n",
    "exp(coef(M2))"
   ]
  },
  {
   "cell_type": "code",
   "execution_count": 12,
   "metadata": {},
   "outputs": [
    {
     "data": {
      "text/html": [
       "<table>\n",
       "<thead><tr><th scope=col>SPECIES</th><th scope=col>VARIANT_TYPE</th><th scope=col>TIME</th><th scope=col>ANTIBIOTIC</th><th scope=col>IMMIGRATION</th><th scope=col>REPLICATE</th><th scope=col>COUNT</th></tr></thead>\n",
       "<tbody>\n",
       "\t<tr><td>HAMBI 1287</td><td>complex   </td><td>8         </td><td>0         </td><td>0         </td><td>1         </td><td> 1        </td></tr>\n",
       "\t<tr><td>HAMBI 1874</td><td>complex   </td><td>8         </td><td>0         </td><td>0         </td><td>1         </td><td> 1        </td></tr>\n",
       "\t<tr><td>HAMBI 1875</td><td>complex   </td><td>8         </td><td>0         </td><td>0         </td><td>1         </td><td> 2        </td></tr>\n",
       "\t<tr><td>HAMBI 1896</td><td>complex   </td><td>8         </td><td>0         </td><td>0         </td><td>1         </td><td> 8        </td></tr>\n",
       "\t<tr><td>HAMBI 1972</td><td>complex   </td><td>8         </td><td>0         </td><td>0         </td><td>1         </td><td>13        </td></tr>\n",
       "\t<tr><td>HAMBI 1977</td><td>complex   </td><td>8         </td><td>0         </td><td>0         </td><td>1         </td><td>10        </td></tr>\n",
       "</tbody>\n",
       "</table>\n"
      ],
      "text/latex": [
       "\\begin{tabular}{r|lllllll}\n",
       " SPECIES & VARIANT\\_TYPE & TIME & ANTIBIOTIC & IMMIGRATION & REPLICATE & COUNT\\\\\n",
       "\\hline\n",
       "\t HAMBI 1287 & complex    & 8          & 0          & 0          & 1          &  1        \\\\\n",
       "\t HAMBI 1874 & complex    & 8          & 0          & 0          & 1          &  1        \\\\\n",
       "\t HAMBI 1875 & complex    & 8          & 0          & 0          & 1          &  2        \\\\\n",
       "\t HAMBI 1896 & complex    & 8          & 0          & 0          & 1          &  8        \\\\\n",
       "\t HAMBI 1972 & complex    & 8          & 0          & 0          & 1          & 13        \\\\\n",
       "\t HAMBI 1977 & complex    & 8          & 0          & 0          & 1          & 10        \\\\\n",
       "\\end{tabular}\n"
      ],
      "text/markdown": [
       "\n",
       "SPECIES | VARIANT_TYPE | TIME | ANTIBIOTIC | IMMIGRATION | REPLICATE | COUNT | \n",
       "|---|---|---|---|---|---|\n",
       "| HAMBI 1287 | complex    | 8          | 0          | 0          | 1          |  1         | \n",
       "| HAMBI 1874 | complex    | 8          | 0          | 0          | 1          |  1         | \n",
       "| HAMBI 1875 | complex    | 8          | 0          | 0          | 1          |  2         | \n",
       "| HAMBI 1896 | complex    | 8          | 0          | 0          | 1          |  8         | \n",
       "| HAMBI 1972 | complex    | 8          | 0          | 0          | 1          | 13         | \n",
       "| HAMBI 1977 | complex    | 8          | 0          | 0          | 1          | 10         | \n",
       "\n",
       "\n"
      ],
      "text/plain": [
       "  SPECIES    VARIANT_TYPE TIME ANTIBIOTIC IMMIGRATION REPLICATE COUNT\n",
       "1 HAMBI 1287 complex      8    0          0           1          1   \n",
       "2 HAMBI 1874 complex      8    0          0           1          1   \n",
       "3 HAMBI 1875 complex      8    0          0           1          2   \n",
       "4 HAMBI 1896 complex      8    0          0           1          8   \n",
       "5 HAMBI 1972 complex      8    0          0           1         13   \n",
       "6 HAMBI 1977 complex      8    0          0           1         10   "
      ]
     },
     "metadata": {},
     "output_type": "display_data"
    }
   ],
   "source": [
    "# Preparations for plotting\n",
    "\n",
    "# Reformat to make plot prettier\n",
    "\n",
    "variants$SPECIES = gsub(\"_\", \" \", variants$SPECIES)\n",
    "\n",
    "# Aggregate variants by count\n",
    "\n",
    "variants$COUNT = 1\n",
    "variants3 = aggregate(COUNT ~ SPECIES-VARIANT_TYPE-TIME-ANTIBIOTIC-IMMIGRATION-REPLICATE, \n",
    "                      data = variants[variants$TIME == 8,], FUN = function(x) {sum(x)})\n",
    "head(variants3)"
   ]
  },
  {
   "cell_type": "code",
   "execution_count": 13,
   "metadata": {},
   "outputs": [
    {
     "data": {},
     "metadata": {},
     "output_type": "display_data"
    },
    {
     "data": {
      "image/png": "[encoded data removed]",
      "text/plain": [
       "plot without title"
      ]
     },
     "metadata": {},
     "output_type": "display_data"
    }
   ],
   "source": [
    "# Plot effect types by species\n",
    "\n",
    "p1 = ggplot(variants3, aes(x = SPECIES, y = COUNT, fill = VARIANT_TYPE)) +\n",
    "    geom_bar(stat = \"identity\", position = \"fill\") +\n",
    "    guides(fill = guide_legend(title = \"Type\")) +\n",
    "    ylab(\"Proportion\") +\n",
    "    xlab(\"Species\") +\n",
    "    theme(axis.text.x = element_text(angle = 90, vjust = 0.5),\n",
    "          axis.title.x = element_blank(),\n",
    "          strip.text.y = element_blank())\n",
    "p1"
   ]
  },
  {
   "cell_type": "code",
   "execution_count": 14,
   "metadata": {},
   "outputs": [
    {
     "name": "stderr",
     "output_type": "stream",
     "text": [
      "Saving 7 x 7 in image\n"
     ]
    }
   ],
   "source": [
    "# Write out plot\n",
    "\n",
    "ggsave(\"../../manuscript/figures/variant_type_by_species.pdf\")"
   ]
  }
 ],
 "metadata": {
  "kernelspec": {
   "display_name": "R",
   "language": "R",
   "name": "ir"
  },
  "language_info": {
   "codemirror_mode": "r",
   "file_extension": ".r",
   "mimetype": "text/x-r-source",
   "name": "R",
   "pygments_lexer": "r",
   "version": "3.5.1"
  }
 },
 "nbformat": 4,
 "nbformat_minor": 2
}
