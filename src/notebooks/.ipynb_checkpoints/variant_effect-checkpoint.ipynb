{
 "cells": [
  {
   "cell_type": "markdown",
   "metadata": {},
   "source": [
    "# Variant effect analyses and figures for filtered variants"
   ]
  },
  {
   "cell_type": "code",
   "execution_count": 1,
   "metadata": {},
   "outputs": [
    {
     "name": "stderr",
     "output_type": "stream",
     "text": [
      "Loading required package: lme4\n",
      "Loading required package: Matrix\n",
      "************\n",
      "Welcome to afex. For support visit: http://afex.singmann.science/\n",
      "- Functions for ANOVAs: aov_car(), aov_ez(), and aov_4()\n",
      "- Methods for calculating p-values with mixed(): 'KR', 'S', 'LRT', and 'PB'\n",
      "- 'afex_aov' and 'mixed' objects can be passed to emmeans() for follow-up tests\n",
      "- NEWS: library('emmeans') now needs to be called explicitly!\n",
      "- Get and set global package options with: afex_options()\n",
      "- Set orthogonal sum-to-zero contrasts globally: set_sum_contrasts()\n",
      "- For example analyses see: browseVignettes(\"afex\")\n",
      "************\n",
      "\n",
      "Attaching package: ‘afex’\n",
      "\n",
      "The following object is masked from ‘package:lme4’:\n",
      "\n",
      "    lmer\n",
      "\n",
      "Loading required package: carData\n",
      "Loading required package: foreign\n",
      "Loading required package: nnet\n"
     ]
    }
   ],
   "source": [
    "# Housekeeping\n",
    "\n",
    "library(afex)\n",
    "library(car)\n",
    "library(foreign)\n",
    "library(ggplot2)\n",
    "library(MASS)\n",
    "library(nnet)\n",
    "library(scales)\n",
    "source(\"source.R\")"
   ]
  },
  {
   "cell_type": "code",
   "execution_count": 2,
   "metadata": {},
   "outputs": [],
   "source": [
    "# Read in data\n",
    "\n",
    "variants = read.table(\"../../data/deep_seq/filtered_variant_data.txt\", \n",
    "                      sep = \"\\t\", \n",
    "                      header = T)"
   ]
  },
  {
   "cell_type": "markdown",
   "metadata": {},
   "source": [
    "## Statistics"
   ]
  },
  {
   "cell_type": "markdown",
   "metadata": {},
   "source": [
    "### Data exploration"
   ]
  },
  {
   "cell_type": "code",
   "execution_count": 3,
   "metadata": {},
   "outputs": [
    {
     "data": {
      "text/plain": [
       "            by\n",
       "               0   4  16 128\n",
       "  HAMBI_105    6  12  36 116\n",
       "  HAMBI_1287  84  90 160 180\n",
       "  HAMBI_1874 100  72  44   0\n",
       "  HAMBI_1875 154 168 190 220\n",
       "  HAMBI_1896 482 390 538 154\n",
       "  HAMBI_1972 584 450 386  18\n",
       "  HAMBI_1977 552 558 408  70\n",
       "  HAMBI_1992   0   0   0  12\n",
       "  HAMBI_2160   6   0  38   0\n",
       "  HAMBI_2443   0  96   0   0\n",
       "  HAMBI_2659   0   0  70 270\n",
       "  HAMBI_3031   0   2  14 302\n",
       "  HAMBI_3172 144  42  24 392"
      ]
     },
     "metadata": {},
     "output_type": "display_data"
    },
    {
     "data": {
      "text/plain": [
       "            by\n",
       "               0   4  16 128\n",
       "  HAMBI_1972 584 450 386  18\n",
       "  HAMBI_3172 144  42  24 392\n",
       "  HAMBI_1896 482 390 538 154\n",
       "  HAMBI_105    6  12  36 116\n",
       "  HAMBI_1874 100  72  44   0\n",
       "  HAMBI_1287  84  90 160 180\n",
       "  HAMBI_3031   0   2  14 302\n",
       "  HAMBI_1977 552 558 408  70\n",
       "  HAMBI_1875 154 168 190 220"
      ]
     },
     "metadata": {},
     "output_type": "display_data"
    },
    {
     "data": {
      "text/plain": [
       "            by\n",
       "               8  12\n",
       "  HAMBI_1972 719 719\n",
       "  HAMBI_3172 301 301\n",
       "  HAMBI_1896 782 782\n",
       "  HAMBI_105   85  85\n",
       "  HAMBI_1874 108 108\n",
       "  HAMBI_1287 257 257\n",
       "  HAMBI_3031 159 159\n",
       "  HAMBI_1977 794 794\n",
       "  HAMBI_1875 366 366"
      ]
     },
     "metadata": {},
     "output_type": "display_data"
    },
    {
     "data": {
      "text/plain": [
       "            by\n",
       "               0   1\n",
       "  HAMBI_1972 700 738\n",
       "  HAMBI_3172 468 134\n",
       "  HAMBI_1896 848 716\n",
       "  HAMBI_105  114  56\n",
       "  HAMBI_1874 130  86\n",
       "  HAMBI_1287 266 248\n",
       "  HAMBI_3031 194 124\n",
       "  HAMBI_1977 766 822\n",
       "  HAMBI_1875 382 350"
      ]
     },
     "metadata": {},
     "output_type": "display_data"
    },
    {
     "data": {
      "text/plain": [
       "               by\n",
       "                HAMBI_1972 HAMBI_3172 HAMBI_1896 HAMBI_105 HAMBI_1874\n",
       "  noncoding            586        352        530        14        198\n",
       "  nonsynonymous        218        108        422        56         16\n",
       "  synonymous           634        142        612       100          2\n",
       "               by\n",
       "                HAMBI_1287 HAMBI_3031 HAMBI_1977 HAMBI_1875\n",
       "  noncoding            504        234       1252        732\n",
       "  nonsynonymous         10         62        196          0\n",
       "  synonymous             0         22        140          0"
      ]
     },
     "metadata": {},
     "output_type": "display_data"
    }
   ],
   "source": [
    "# Balance of categorical covariates\n",
    "\n",
    "table(variants$SPECIES, by = variants$ANTIBIOTIC)\n",
    "\n",
    "# Let's remove species where there are no data points for over one antibiotic concentration\n",
    "\n",
    "variants2 = variants[variants$SPECIES != \"HAMBI_1992\" &\n",
    "                     variants$SPECIES != \"HAMBI_2160\" &\n",
    "                     variants$SPECIES != \"HAMBI_2443\" &\n",
    "                     variants$SPECIES != \"HAMBI_2659\",]\n",
    "\n",
    "variants2$SPECIES = factor(variants2$SPECIES, levels = unique(variants2$SPECIES))\n",
    "\n",
    "table(variants2$SPECIES, by = variants2$ANTIBIOTIC)\n",
    "# no data points for certain combinations so interaction models should not be tested\n",
    "\n",
    "table(variants2$SPECIES, by = variants2$TIME) \n",
    "# ok\n",
    "\n",
    "table(variants2$SPECIES, by = variants2$IMMIGRATION) \n",
    "# ok\n",
    "\n",
    "# Response\n",
    "table(variants2$VARIANT_EFFECT_CAT, by = variants2$SPECIES) \n",
    "# ok"
   ]
  },
  {
   "cell_type": "markdown",
   "metadata": {},
   "source": [
    "### Model specification"
   ]
  },
  {
   "cell_type": "code",
   "execution_count": 4,
   "metadata": {},
   "outputs": [],
   "source": [
    "# Both time points contain the same data so let's subset only one time point\n",
    "\n",
    "variants2 = variants2[variants2$TIME == 8,]"
   ]
  },
  {
   "cell_type": "code",
   "execution_count": 19,
   "metadata": {},
   "outputs": [
    {
     "name": "stdout",
     "output_type": "stream",
     "text": [
      "# weights:  66 (42 variable)\n",
      "initial  value 3923.144483 \n",
      "iter  10 value 2776.692188\n",
      "iter  20 value 2688.274899\n",
      "iter  30 value 2645.648414\n",
      "iter  40 value 2633.677780\n",
      "iter  50 value 2631.405843\n",
      "final  value 2631.395341 \n",
      "converged\n"
     ]
    }
   ],
   "source": [
    "# Use the multinom function from the nnet package to estimate a multinomial logistic regression model\n",
    "\n",
    "M1 = multinom(VARIANT_EFFECT_CAT ~ IMMIGRATION * SPECIES + factor(ANTIBIOTIC), variants2)"
   ]
  },
  {
   "cell_type": "code",
   "execution_count": 20,
   "metadata": {},
   "outputs": [
    {
     "name": "stdout",
     "output_type": "stream",
     "text": [
      "# weights:  57 (36 variable)\n",
      "initial  value 3923.144483 \n",
      "iter  10 value 2780.196468\n",
      "iter  20 value 2665.520267\n",
      "iter  30 value 2642.945105\n",
      "iter  40 value 2637.620541\n",
      "iter  50 value 2637.506172\n",
      "final  value 2637.506029 \n",
      "converged\n",
      "# weights:  42 (26 variable)\n",
      "initial  value 3923.144483 \n",
      "iter  10 value 2775.153461\n",
      "iter  20 value 2685.468184\n",
      "iter  30 value 2641.111237\n",
      "iter  40 value 2634.824983\n",
      "final  value 2634.816200 \n",
      "converged\n",
      "# weights:  42 (26 variable)\n",
      "initial  value 3923.144483 \n",
      "iter  10 value 2775.153461\n",
      "iter  20 value 2685.468184\n",
      "iter  30 value 2641.111237\n",
      "iter  40 value 2634.824983\n",
      "final  value 2634.816200 \n",
      "converged\n",
      "# weights:  39 (24 variable)\n",
      "initial  value 3923.144483 \n",
      "iter  10 value 2814.836643\n",
      "iter  20 value 2695.234952\n",
      "iter  30 value 2637.563686\n",
      "iter  40 value 2635.004502\n",
      "final  value 2635.001098 \n",
      "converged\n",
      "# weights:  18 (10 variable)\n",
      "initial  value 3923.144483 \n",
      "iter  10 value 3290.933472\n",
      "final  value 3289.946500 \n",
      "converged\n",
      "# weights:  33 (20 variable)\n",
      "initial  value 3923.144483 \n",
      "iter  10 value 2794.091363\n",
      "iter  20 value 2663.439384\n",
      "iter  30 value 2642.067854\n",
      "iter  40 value 2641.732348\n",
      "final  value 2641.731786 \n",
      "converged\n",
      "# weights:  66 (42 variable)\n",
      "initial  value 3923.144483 \n",
      "iter  10 value 2776.692188\n",
      "iter  20 value 2688.274899\n",
      "iter  30 value 2645.648414\n",
      "iter  40 value 2633.677780\n",
      "iter  50 value 2631.405843\n",
      "final  value 2631.395341 \n",
      "converged\n",
      "# weights:  39 (24 variable)\n",
      "initial  value 3923.144483 \n",
      "iter  10 value 2814.836643\n",
      "iter  20 value 2695.234952\n",
      "iter  30 value 2637.563686\n",
      "iter  40 value 2635.004502\n",
      "final  value 2635.001098 \n",
      "converged\n",
      "# weights:  15 (8 variable)\n",
      "initial  value 3923.144483 \n",
      "iter  10 value 3302.601255\n",
      "final  value 3290.810434 \n",
      "converged\n",
      "# weights:  30 (18 variable)\n",
      "initial  value 3923.144483 \n",
      "iter  10 value 2808.050065\n",
      "iter  20 value 2655.778002\n",
      "iter  30 value 2642.117626\n",
      "final  value 2641.996952 \n",
      "converged\n",
      "# weights:  42 (26 variable)\n",
      "initial  value 3923.144483 \n",
      "iter  10 value 2775.153461\n",
      "iter  20 value 2685.468184\n",
      "iter  30 value 2641.111237\n",
      "iter  40 value 2634.824983\n",
      "final  value 2634.816200 \n",
      "converged\n"
     ]
    },
    {
     "data": {
      "text/plain": [
       "Call:\n",
       "multinom(formula = VARIANT_EFFECT_CAT ~ SPECIES + factor(ANTIBIOTIC), \n",
       "    data = variants2)\n",
       "\n",
       "Coefficients:\n",
       "              (Intercept) SPECIES1 SPECIES2 SPECIES3 SPECIES4  SPECIES5\n",
       "nonsynonymous   -3.113802 2.183399 1.913560 2.904138 4.409905 0.6719026\n",
       "synonymous      -4.990855 5.168273 3.967698 5.192354 6.800827 0.5016211\n",
       "                 SPECIES6 SPECIES7 SPECIES8 factor(ANTIBIOTIC)1\n",
       "nonsynonymous  -0.8543844 1.678529 1.297083            -0.23294\n",
       "synonymous    -13.8748715 2.384768 2.869189            -0.23726\n",
       "              factor(ANTIBIOTIC)2 factor(ANTIBIOTIC)3\n",
       "nonsynonymous        -0.008613624           0.1350640\n",
       "synonymous            0.013449357          -0.0305074\n",
       "\n",
       "Residual Deviance: 5270.002 \n",
       "AIC: 5318.002 "
      ]
     },
     "metadata": {},
     "output_type": "display_data"
    }
   ],
   "source": [
    "# Find model with lowest AIC\n",
    "\n",
    "fit = stepAIC(M1, direction = \"both\", trace = 0)\n",
    "fit"
   ]
  },
  {
   "cell_type": "code",
   "execution_count": 21,
   "metadata": {},
   "outputs": [
    {
     "name": "stdout",
     "output_type": "stream",
     "text": [
      "# weights:  39 (24 variable)\n",
      "initial  value 3923.144483 \n",
      "iter  10 value 2814.836643\n",
      "iter  20 value 2695.234952\n",
      "iter  30 value 2637.563686\n",
      "iter  40 value 2635.004502\n",
      "final  value 2635.001098 \n",
      "converged\n"
     ]
    },
    {
     "data": {
      "text/plain": [
       "Call:\n",
       "multinom(formula = VARIANT_EFFECT_CAT ~ SPECIES + factor(ANTIBIOTIC), \n",
       "    data = variants2)\n",
       "\n",
       "Coefficients:\n",
       "              (Intercept) SPECIES1 SPECIES2 SPECIES3 SPECIES4  SPECIES5\n",
       "nonsynonymous   -3.113802 2.183399 1.913560 2.904138 4.409905 0.6719026\n",
       "synonymous      -4.990855 5.168273 3.967698 5.192354 6.800827 0.5016211\n",
       "                 SPECIES6 SPECIES7 SPECIES8 factor(ANTIBIOTIC)1\n",
       "nonsynonymous  -0.8543844 1.678529 1.297083            -0.23294\n",
       "synonymous    -13.8748715 2.384768 2.869189            -0.23726\n",
       "              factor(ANTIBIOTIC)2 factor(ANTIBIOTIC)3\n",
       "nonsynonymous        -0.008613624           0.1350640\n",
       "synonymous            0.013449357          -0.0305074\n",
       "\n",
       "Std. Errors:\n",
       "              (Intercept) SPECIES1 SPECIES2 SPECIES3 SPECIES4 SPECIES5 SPECIES6\n",
       "nonsynonymous    33.04203 33.04223 33.04237 33.04216 33.04418 33.04368 33.04443\n",
       "synonymous       46.21103 46.21112 46.21122 46.21110 46.21238 46.21926 46.21080\n",
       "              SPECIES7 SPECIES8 factor(ANTIBIOTIC)1 factor(ANTIBIOTIC)2\n",
       "nonsynonymous 33.04270 33.04221          0.09160897          0.09832891\n",
       "synonymous    46.21195 46.21118          0.08172037          0.08876702\n",
       "              factor(ANTIBIOTIC)3\n",
       "nonsynonymous          0.09476918\n",
       "synonymous             0.08880944\n",
       "\n",
       "Residual Deviance: 5270.002 \n",
       "AIC: 5318.002 "
      ]
     },
     "metadata": {},
     "output_type": "display_data"
    },
    {
     "data": {
      "text/html": [
       "<table>\n",
       "<thead><tr><th></th><th scope=col>(Intercept)</th><th scope=col>SPECIES1</th><th scope=col>SPECIES2</th><th scope=col>SPECIES3</th><th scope=col>SPECIES4</th><th scope=col>SPECIES5</th><th scope=col>SPECIES6</th><th scope=col>SPECIES7</th><th scope=col>SPECIES8</th><th scope=col>factor(ANTIBIOTIC)1</th><th scope=col>factor(ANTIBIOTIC)2</th><th scope=col>factor(ANTIBIOTIC)3</th></tr></thead>\n",
       "<tbody>\n",
       "\t<tr><th scope=row>nonsynonymous</th><td>-0.09423761</td><td>0.06607904 </td><td>0.05791232 </td><td>0.0878919  </td><td>0.1334548  </td><td>0.02033377 </td><td>-0.02585563</td><td>0.0507988  </td><td>0.03925534 </td><td>-2.542764  </td><td>-0.08760011</td><td> 1.4251894 </td></tr>\n",
       "\t<tr><th scope=row>synonymous</th><td>-0.10800140</td><td>0.11184047 </td><td>0.08586005 </td><td>0.1123616  </td><td>0.1471646  </td><td>0.01085308 </td><td>-0.30025170</td><td>0.0516050  </td><td>0.06208864 </td><td>-2.903315  </td><td> 0.15151300</td><td>-0.3435153 </td></tr>\n",
       "</tbody>\n",
       "</table>\n"
      ],
      "text/latex": [
       "\\begin{tabular}{r|llllllllllll}\n",
       "  & (Intercept) & SPECIES1 & SPECIES2 & SPECIES3 & SPECIES4 & SPECIES5 & SPECIES6 & SPECIES7 & SPECIES8 & factor(ANTIBIOTIC)1 & factor(ANTIBIOTIC)2 & factor(ANTIBIOTIC)3\\\\\n",
       "\\hline\n",
       "\tnonsynonymous & -0.09423761 & 0.06607904  & 0.05791232  & 0.0878919   & 0.1334548   & 0.02033377  & -0.02585563 & 0.0507988   & 0.03925534  & -2.542764   & -0.08760011 &  1.4251894 \\\\\n",
       "\tsynonymous & -0.10800140 & 0.11184047  & 0.08586005  & 0.1123616   & 0.1471646   & 0.01085308  & -0.30025170 & 0.0516050   & 0.06208864  & -2.903315   &  0.15151300 & -0.3435153 \\\\\n",
       "\\end{tabular}\n"
      ],
      "text/markdown": [
       "\n",
       "| <!--/--> | (Intercept) | SPECIES1 | SPECIES2 | SPECIES3 | SPECIES4 | SPECIES5 | SPECIES6 | SPECIES7 | SPECIES8 | factor(ANTIBIOTIC)1 | factor(ANTIBIOTIC)2 | factor(ANTIBIOTIC)3 | \n",
       "|---|---|\n",
       "| nonsynonymous | -0.09423761 | 0.06607904  | 0.05791232  | 0.0878919   | 0.1334548   | 0.02033377  | -0.02585563 | 0.0507988   | 0.03925534  | -2.542764   | -0.08760011 |  1.4251894  | \n",
       "| synonymous | -0.10800140 | 0.11184047  | 0.08586005  | 0.1123616   | 0.1471646   | 0.01085308  | -0.30025170 | 0.0516050   | 0.06208864  | -2.903315   |  0.15151300 | -0.3435153  | \n",
       "\n",
       "\n"
      ],
      "text/plain": [
       "              (Intercept) SPECIES1   SPECIES2   SPECIES3  SPECIES4  SPECIES5  \n",
       "nonsynonymous -0.09423761 0.06607904 0.05791232 0.0878919 0.1334548 0.02033377\n",
       "synonymous    -0.10800140 0.11184047 0.08586005 0.1123616 0.1471646 0.01085308\n",
       "              SPECIES6    SPECIES7  SPECIES8   factor(ANTIBIOTIC)1\n",
       "nonsynonymous -0.02585563 0.0507988 0.03925534 -2.542764          \n",
       "synonymous    -0.30025170 0.0516050 0.06208864 -2.903315          \n",
       "              factor(ANTIBIOTIC)2 factor(ANTIBIOTIC)3\n",
       "nonsynonymous -0.08760011          1.4251894         \n",
       "synonymous     0.15151300         -0.3435153         "
      ]
     },
     "metadata": {},
     "output_type": "display_data"
    }
   ],
   "source": [
    "# Best model\n",
    "\n",
    "M2 = multinom(formula = VARIANT_EFFECT_CAT ~ SPECIES + factor(ANTIBIOTIC), data = variants2)\n",
    "summary(M2)\n",
    "z = summary(M2)$coefficients/summary(M2)$standard.errors\n",
    "z"
   ]
  },
  {
   "cell_type": "code",
   "execution_count": 22,
   "metadata": {},
   "outputs": [
    {
     "name": "stderr",
     "output_type": "stream",
     "text": [
      "setting contr.sum globally: options(contrasts=c('contr.sum', 'contr.poly'))\n"
     ]
    },
    {
     "data": {
      "text/html": [
       "<table>\n",
       "<thead><tr><th></th><th scope=col>LR Chisq</th><th scope=col>Df</th><th scope=col>Pr(&gt;Chisq)</th></tr></thead>\n",
       "<tbody>\n",
       "\t<tr><th scope=row>SPECIES</th><td>1311.61867   </td><td>16           </td><td>1.604316e-269</td></tr>\n",
       "\t<tr><th scope=row>factor(ANTIBIOTIC)</th><td>  13.99171   </td><td> 6           </td><td> 2.972891e-02</td></tr>\n",
       "</tbody>\n",
       "</table>\n"
      ],
      "text/latex": [
       "\\begin{tabular}{r|lll}\n",
       "  & LR Chisq & Df & Pr(>Chisq)\\\\\n",
       "\\hline\n",
       "\tSPECIES & 1311.61867    & 16            & 1.604316e-269\\\\\n",
       "\tfactor(ANTIBIOTIC) &   13.99171    &  6            &  2.972891e-02\\\\\n",
       "\\end{tabular}\n"
      ],
      "text/markdown": [
       "\n",
       "| <!--/--> | LR Chisq | Df | Pr(>Chisq) | \n",
       "|---|---|\n",
       "| SPECIES | 1311.61867    | 16            | 1.604316e-269 | \n",
       "| factor(ANTIBIOTIC) |   13.99171    |  6            |  2.972891e-02 | \n",
       "\n",
       "\n"
      ],
      "text/plain": [
       "                   LR Chisq   Df Pr(>Chisq)   \n",
       "SPECIES            1311.61867 16 1.604316e-269\n",
       "factor(ANTIBIOTIC)   13.99171  6  2.972891e-02"
      ]
     },
     "metadata": {},
     "output_type": "display_data"
    }
   ],
   "source": [
    "# Overall significance of factors (likelihood ratio test)\n",
    "\n",
    "set_sum_contrasts()\n",
    "Anova(M2, type=\"III\")  # type III tests\n",
    "# Species and antibiotic each have a significant effect on mutation type"
   ]
  },
  {
   "cell_type": "code",
   "execution_count": 23,
   "metadata": {},
   "outputs": [
    {
     "data": {
      "text/html": [
       "<table>\n",
       "<thead><tr><th></th><th scope=col>(Intercept)</th><th scope=col>SPECIES1</th><th scope=col>SPECIES2</th><th scope=col>SPECIES3</th><th scope=col>SPECIES4</th><th scope=col>SPECIES5</th><th scope=col>SPECIES6</th><th scope=col>SPECIES7</th><th scope=col>SPECIES8</th><th scope=col>factor(ANTIBIOTIC)1</th><th scope=col>factor(ANTIBIOTIC)2</th><th scope=col>factor(ANTIBIOTIC)3</th></tr></thead>\n",
       "<tbody>\n",
       "\t<tr><th scope=row>nonsynonymous</th><td>0.9249204  </td><td>0.9473149  </td><td>0.9538185  </td><td>0.9299626  </td><td>0.8938337  </td><td>0.9837771  </td><td>0.9793725  </td><td>0.9594858  </td><td>0.9686868  </td><td>0.010997955</td><td>0.9301945  </td><td>0.1541025  </td></tr>\n",
       "\t<tr><th scope=row>synonymous</th><td>0.9139946  </td><td>0.9109499  </td><td>0.9315777  </td><td>0.9105367  </td><td>0.8830021  </td><td>0.9913407  </td><td>0.7639852  </td><td>0.9588434  </td><td>0.9504922  </td><td>0.003692346</td><td>0.8795711  </td><td>0.7312108  </td></tr>\n",
       "</tbody>\n",
       "</table>\n"
      ],
      "text/latex": [
       "\\begin{tabular}{r|llllllllllll}\n",
       "  & (Intercept) & SPECIES1 & SPECIES2 & SPECIES3 & SPECIES4 & SPECIES5 & SPECIES6 & SPECIES7 & SPECIES8 & factor(ANTIBIOTIC)1 & factor(ANTIBIOTIC)2 & factor(ANTIBIOTIC)3\\\\\n",
       "\\hline\n",
       "\tnonsynonymous & 0.9249204   & 0.9473149   & 0.9538185   & 0.9299626   & 0.8938337   & 0.9837771   & 0.9793725   & 0.9594858   & 0.9686868   & 0.010997955 & 0.9301945   & 0.1541025  \\\\\n",
       "\tsynonymous & 0.9139946   & 0.9109499   & 0.9315777   & 0.9105367   & 0.8830021   & 0.9913407   & 0.7639852   & 0.9588434   & 0.9504922   & 0.003692346 & 0.8795711   & 0.7312108  \\\\\n",
       "\\end{tabular}\n"
      ],
      "text/markdown": [
       "\n",
       "| <!--/--> | (Intercept) | SPECIES1 | SPECIES2 | SPECIES3 | SPECIES4 | SPECIES5 | SPECIES6 | SPECIES7 | SPECIES8 | factor(ANTIBIOTIC)1 | factor(ANTIBIOTIC)2 | factor(ANTIBIOTIC)3 | \n",
       "|---|---|\n",
       "| nonsynonymous | 0.9249204   | 0.9473149   | 0.9538185   | 0.9299626   | 0.8938337   | 0.9837771   | 0.9793725   | 0.9594858   | 0.9686868   | 0.010997955 | 0.9301945   | 0.1541025   | \n",
       "| synonymous | 0.9139946   | 0.9109499   | 0.9315777   | 0.9105367   | 0.8830021   | 0.9913407   | 0.7639852   | 0.9588434   | 0.9504922   | 0.003692346 | 0.8795711   | 0.7312108   | \n",
       "\n",
       "\n"
      ],
      "text/plain": [
       "              (Intercept) SPECIES1  SPECIES2  SPECIES3  SPECIES4  SPECIES5 \n",
       "nonsynonymous 0.9249204   0.9473149 0.9538185 0.9299626 0.8938337 0.9837771\n",
       "synonymous    0.9139946   0.9109499 0.9315777 0.9105367 0.8830021 0.9913407\n",
       "              SPECIES6  SPECIES7  SPECIES8  factor(ANTIBIOTIC)1\n",
       "nonsynonymous 0.9793725 0.9594858 0.9686868 0.010997955        \n",
       "synonymous    0.7639852 0.9588434 0.9504922 0.003692346        \n",
       "              factor(ANTIBIOTIC)2 factor(ANTIBIOTIC)3\n",
       "nonsynonymous 0.9301945           0.1541025          \n",
       "synonymous    0.8795711           0.7312108          "
      ]
     },
     "metadata": {},
     "output_type": "display_data"
    },
    {
     "data": {
      "text/html": [
       "<table>\n",
       "<thead><tr><th></th><th scope=col>(Intercept)</th><th scope=col>SPECIES1</th><th scope=col>SPECIES2</th><th scope=col>SPECIES3</th><th scope=col>SPECIES4</th><th scope=col>SPECIES5</th><th scope=col>SPECIES6</th><th scope=col>SPECIES7</th><th scope=col>SPECIES8</th><th scope=col>factor(ANTIBIOTIC)1</th><th scope=col>factor(ANTIBIOTIC)2</th><th scope=col>factor(ANTIBIOTIC)3</th></tr></thead>\n",
       "<tbody>\n",
       "\t<tr><th scope=row>nonsynonymous</th><td>0.044431715 </td><td>  8.876424  </td><td> 6.777174   </td><td> 18.24951   </td><td> 82.26161   </td><td>1.957959    </td><td>4.255451e-01</td><td> 5.357671   </td><td> 3.65861    </td><td>0.7922011   </td><td>0.9914234   </td><td>1.1446101   </td></tr>\n",
       "\t<tr><th scope=row>synonymous</th><td>0.006799845 </td><td>175.611279  </td><td>52.862712   </td><td>179.89145   </td><td>898.59009   </td><td>1.651396    </td><td>9.423666e-07</td><td>10.856545   </td><td>17.62273    </td><td>0.7887862   </td><td>1.0135402   </td><td>0.9699533   </td></tr>\n",
       "</tbody>\n",
       "</table>\n"
      ],
      "text/latex": [
       "\\begin{tabular}{r|llllllllllll}\n",
       "  & (Intercept) & SPECIES1 & SPECIES2 & SPECIES3 & SPECIES4 & SPECIES5 & SPECIES6 & SPECIES7 & SPECIES8 & factor(ANTIBIOTIC)1 & factor(ANTIBIOTIC)2 & factor(ANTIBIOTIC)3\\\\\n",
       "\\hline\n",
       "\tnonsynonymous & 0.044431715  &   8.876424   &  6.777174    &  18.24951    &  82.26161    & 1.957959     & 4.255451e-01 &  5.357671    &  3.65861     & 0.7922011    & 0.9914234    & 1.1446101   \\\\\n",
       "\tsynonymous & 0.006799845  & 175.611279   & 52.862712    & 179.89145    & 898.59009    & 1.651396     & 9.423666e-07 & 10.856545    & 17.62273     & 0.7887862    & 1.0135402    & 0.9699533   \\\\\n",
       "\\end{tabular}\n"
      ],
      "text/markdown": [
       "\n",
       "| <!--/--> | (Intercept) | SPECIES1 | SPECIES2 | SPECIES3 | SPECIES4 | SPECIES5 | SPECIES6 | SPECIES7 | SPECIES8 | factor(ANTIBIOTIC)1 | factor(ANTIBIOTIC)2 | factor(ANTIBIOTIC)3 | \n",
       "|---|---|\n",
       "| nonsynonymous | 0.044431715  |   8.876424   |  6.777174    |  18.24951    |  82.26161    | 1.957959     | 4.255451e-01 |  5.357671    |  3.65861     | 0.7922011    | 0.9914234    | 1.1446101    | \n",
       "| synonymous | 0.006799845  | 175.611279   | 52.862712    | 179.89145    | 898.59009    | 1.651396     | 9.423666e-07 | 10.856545    | 17.62273     | 0.7887862    | 1.0135402    | 0.9699533    | \n",
       "\n",
       "\n"
      ],
      "text/plain": [
       "              (Intercept) SPECIES1   SPECIES2  SPECIES3  SPECIES4  SPECIES5\n",
       "nonsynonymous 0.044431715   8.876424  6.777174  18.24951  82.26161 1.957959\n",
       "synonymous    0.006799845 175.611279 52.862712 179.89145 898.59009 1.651396\n",
       "              SPECIES6     SPECIES7  SPECIES8 factor(ANTIBIOTIC)1\n",
       "nonsynonymous 4.255451e-01  5.357671  3.65861 0.7922011          \n",
       "synonymous    9.423666e-07 10.856545 17.62273 0.7887862          \n",
       "              factor(ANTIBIOTIC)2 factor(ANTIBIOTIC)3\n",
       "nonsynonymous 0.9914234           1.1446101          \n",
       "synonymous    1.0135402           0.9699533          "
      ]
     },
     "metadata": {},
     "output_type": "display_data"
    }
   ],
   "source": [
    "# 2-tailed z test\n",
    "\n",
    "p = (1 - pnorm(abs(z), 0, 1)) * 2\n",
    "p\n",
    "\n",
    "# extract the coefficients from the model and exponentiate\n",
    "\n",
    "exp(coef(M2))"
   ]
  },
  {
   "cell_type": "code",
   "execution_count": 24,
   "metadata": {},
   "outputs": [
    {
     "data": {
      "text/html": [
       "<table>\n",
       "<thead><tr><th scope=col>SPECIES</th><th scope=col>VARIANT_EFFECT_CAT</th><th scope=col>TIME</th><th scope=col>ANTIBIOTIC</th><th scope=col>IMMIGRATION</th><th scope=col>REPLICATE</th><th scope=col>COUNT</th></tr></thead>\n",
       "<tbody>\n",
       "\t<tr><td>HAMBI 1287</td><td>noncoding </td><td>8         </td><td>0         </td><td>0         </td><td>1         </td><td> 6        </td></tr>\n",
       "\t<tr><td>HAMBI 1874</td><td>noncoding </td><td>8         </td><td>0         </td><td>0         </td><td>1         </td><td> 9        </td></tr>\n",
       "\t<tr><td>HAMBI 1875</td><td>noncoding </td><td>8         </td><td>0         </td><td>0         </td><td>1         </td><td>16        </td></tr>\n",
       "\t<tr><td>HAMBI 1896</td><td>noncoding </td><td>8         </td><td>0         </td><td>0         </td><td>1         </td><td>15        </td></tr>\n",
       "\t<tr><td>HAMBI 1972</td><td>noncoding </td><td>8         </td><td>0         </td><td>0         </td><td>1         </td><td>29        </td></tr>\n",
       "\t<tr><td>HAMBI 1977</td><td>noncoding </td><td>8         </td><td>0         </td><td>0         </td><td>1         </td><td>26        </td></tr>\n",
       "</tbody>\n",
       "</table>\n"
      ],
      "text/latex": [
       "\\begin{tabular}{r|lllllll}\n",
       " SPECIES & VARIANT\\_EFFECT\\_CAT & TIME & ANTIBIOTIC & IMMIGRATION & REPLICATE & COUNT\\\\\n",
       "\\hline\n",
       "\t HAMBI 1287 & noncoding  & 8          & 0          & 0          & 1          &  6        \\\\\n",
       "\t HAMBI 1874 & noncoding  & 8          & 0          & 0          & 1          &  9        \\\\\n",
       "\t HAMBI 1875 & noncoding  & 8          & 0          & 0          & 1          & 16        \\\\\n",
       "\t HAMBI 1896 & noncoding  & 8          & 0          & 0          & 1          & 15        \\\\\n",
       "\t HAMBI 1972 & noncoding  & 8          & 0          & 0          & 1          & 29        \\\\\n",
       "\t HAMBI 1977 & noncoding  & 8          & 0          & 0          & 1          & 26        \\\\\n",
       "\\end{tabular}\n"
      ],
      "text/markdown": [
       "\n",
       "SPECIES | VARIANT_EFFECT_CAT | TIME | ANTIBIOTIC | IMMIGRATION | REPLICATE | COUNT | \n",
       "|---|---|---|---|---|---|\n",
       "| HAMBI 1287 | noncoding  | 8          | 0          | 0          | 1          |  6         | \n",
       "| HAMBI 1874 | noncoding  | 8          | 0          | 0          | 1          |  9         | \n",
       "| HAMBI 1875 | noncoding  | 8          | 0          | 0          | 1          | 16         | \n",
       "| HAMBI 1896 | noncoding  | 8          | 0          | 0          | 1          | 15         | \n",
       "| HAMBI 1972 | noncoding  | 8          | 0          | 0          | 1          | 29         | \n",
       "| HAMBI 1977 | noncoding  | 8          | 0          | 0          | 1          | 26         | \n",
       "\n",
       "\n"
      ],
      "text/plain": [
       "  SPECIES    VARIANT_EFFECT_CAT TIME ANTIBIOTIC IMMIGRATION REPLICATE COUNT\n",
       "1 HAMBI 1287 noncoding          8    0          0           1          6   \n",
       "2 HAMBI 1874 noncoding          8    0          0           1          9   \n",
       "3 HAMBI 1875 noncoding          8    0          0           1         16   \n",
       "4 HAMBI 1896 noncoding          8    0          0           1         15   \n",
       "5 HAMBI 1972 noncoding          8    0          0           1         29   \n",
       "6 HAMBI 1977 noncoding          8    0          0           1         26   "
      ]
     },
     "metadata": {},
     "output_type": "display_data"
    }
   ],
   "source": [
    "# Preparations for plotting\n",
    "\n",
    "# Reformat to make plot prettier\n",
    "\n",
    "variants$SPECIES = gsub(\"_\", \" \", variants$SPECIES)\n",
    "\n",
    "# Aggregate variants by count\n",
    "\n",
    "variants$COUNT = 1\n",
    "variants3 = aggregate(COUNT ~ SPECIES-VARIANT_EFFECT_CAT-TIME-ANTIBIOTIC-IMMIGRATION-REPLICATE, \n",
    "                      data = variants[variants$TIME == 8,], FUN = function(x) {sum(x)})\n",
    "head(variants3)"
   ]
  },
  {
   "cell_type": "code",
   "execution_count": 25,
   "metadata": {},
   "outputs": [
    {
     "data": {},
     "metadata": {},
     "output_type": "display_data"
    },
    {
     "data": {
      "image/png": "[encoded data removed]",
      "text/plain": [
       "plot without title"
      ]
     },
     "metadata": {},
     "output_type": "display_data"
    }
   ],
   "source": [
    "# Plot effect types by species\n",
    "\n",
    "# Alter order of levels in bar plot\n",
    "\n",
    "variants3$VARIANT_EFFECT_CAT = factor(variants3$VARIANT_EFFECT_CAT, \n",
    "                                      levels = c(\"noncoding\", \"synonymous\", \"nonsynonymous\"))\n",
    "\n",
    "# Plot code\n",
    "\n",
    "p1 = ggplot(variants3, aes(x = SPECIES, y = COUNT, fill = VARIANT_EFFECT_CAT)) +\n",
    "    geom_bar(stat = \"identity\", position = \"fill\") +\n",
    "    guides(fill = guide_legend(title = \"Effect\")) +\n",
    "    ylab(\"Proportion\") +\n",
    "    xlab(\"Species\") +\n",
    "    theme(axis.text.x = element_text(angle = 90, vjust = 0.5),\n",
    "          axis.title.x = element_blank(),\n",
    "          strip.text.y = element_blank())\n",
    "p1"
   ]
  },
  {
   "cell_type": "code",
   "execution_count": 26,
   "metadata": {},
   "outputs": [
    {
     "name": "stderr",
     "output_type": "stream",
     "text": [
      "Saving 7 x 7 in image\n"
     ]
    }
   ],
   "source": [
    "# Write out plot\n",
    "\n",
    "ggsave(\"../../manuscript/figures/effect_type_by_species.pdf\")"
   ]
  },
  {
   "cell_type": "code",
   "execution_count": 27,
   "metadata": {},
   "outputs": [
    {
     "data": {},
     "metadata": {},
     "output_type": "display_data"
    },
    {
     "data": {
      "image/png": "[encoded data removed]",
      "text/plain": [
       "plot without title"
      ]
     },
     "metadata": {},
     "output_type": "display_data"
    }
   ],
   "source": [
    "# Plot effect types by antibiotic concentration\n",
    "\n",
    "# Aggregate by antibiotic concentration\n",
    "\n",
    "variants4 = aggregate(COUNT ~ ANTIBIOTIC-VARIANT_EFFECT_CAT, \n",
    "                      data = variants[variants$TIME == 8,], \n",
    "                      FUN = function(x) {sum(x)})\n",
    "\n",
    "# Alter order of levels in bar plot\n",
    "\n",
    "variants4$VARIANT_EFFECT_CAT = factor(variants4$VARIANT_EFFECT_CAT, \n",
    "                                      levels = c(\"noncoding\", \"synonymous\", \"nonsynonymous\"))\n",
    "\n",
    "# Plot code\n",
    "\n",
    "p2 = ggplot(variants4, aes(x = factor(ANTIBIOTIC), y = COUNT, fill = VARIANT_EFFECT_CAT)) +\n",
    "    geom_bar(position = \"fill\",stat = \"identity\") +\n",
    "    guides(fill = guide_legend(title = \"Effect\")) +\n",
    "    ylab(\"Proportion\") +\n",
    "    xlab(expression(paste(\"Streptomycin concentration \", (mu*g*' mL'^-1)))) +\n",
    "    #scale_x_sqrt(breaks = c(0, 4, 16, 128)) +\n",
    "    theme(axis.text.x = element_text(angle = 90, vjust = 0.5),\n",
    "          strip.text.y = element_blank())\n",
    "p2"
   ]
  },
  {
   "cell_type": "code",
   "execution_count": 28,
   "metadata": {},
   "outputs": [
    {
     "name": "stderr",
     "output_type": "stream",
     "text": [
      "Saving 7 x 7 in image\n"
     ]
    }
   ],
   "source": [
    "# Write out plot\n",
    "\n",
    "ggsave(\"../../manuscript/figures/variant_effect_by_antibiotic_concentration.pdf\")"
   ]
  }
 ],
 "metadata": {
  "kernelspec": {
   "display_name": "R",
   "language": "R",
   "name": "ir"
  },
  "language_info": {
   "codemirror_mode": "r",
   "file_extension": ".r",
   "mimetype": "text/x-r-source",
   "name": "R",
   "pygments_lexer": "r",
   "version": "3.5.1"
  }
 },
 "nbformat": 4,
 "nbformat_minor": 2
}
